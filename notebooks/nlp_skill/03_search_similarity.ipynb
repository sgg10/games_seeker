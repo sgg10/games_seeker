{
 "cells": [
  {
   "cell_type": "code",
   "metadata": {
    "tags": [],
    "cell_id": "88b1e545-75d3-4140-8916-1660d7b27b9f",
    "deepnote_to_be_reexecuted": false,
    "source_hash": "9d5d4b20",
    "execution_start": 1651094020887,
    "execution_millis": 82,
    "is_output_hidden": true,
    "deepnote_cell_type": "code",
    "deepnote_cell_height": 345.796875
   },
   "source": "import yake\nimport nltk\nnltk.download(\"book\")\nnltk.download(\"omw\")\nnltk.download(\"wordnet\")\nnltk.download('omw-1.4')\nnltk.download('averaged_perceptron_tagger')\nfrom nltk.book import *\nfrom nltk.corpus import stopwords\nfrom nltk.corpus import wordnet as wn\nimport networkx as nx\nimport matplotlib.pyplot as plt\n\n%run '02_create_initial_funtions.ipynb'",
   "outputs": [
    {
     "name": "stderr",
     "text": "[nltk_data] Downloading collection 'book'\n[nltk_data]    | \n[nltk_data]    | Downloading package abc to /root/nltk_data...\n[nltk_data]    |   Package abc is already up-to-date!\n[nltk_data]    | Downloading package brown to /root/nltk_data...\n[nltk_data]    |   Package brown is already up-to-date!\n[nltk_data]    | Downloading package chat80 to /root/nltk_data...\n[nltk_data]    |   Package chat80 is already up-to-date!\n[nltk_data]    | Downloading package cmudict to /root/nltk_data...\n[nltk_data]    |   Package cmudict is already up-to-date!\n[nltk_data]    | Downloading package conll2000 to /root/nltk_data...\n[nltk_data]    |   Package conll2000 is already up-to-date!\n[nltk_data]    | Downloading package conll2002 to /root/nltk_data...\n[nltk_data]    |   Package conll2002 is already up-to-date!\n[nltk_data]    | Downloading package dependency_treebank to\n[nltk_data]    |     /root/nltk_data...\n[nltk_data]    |   Package dependency_treebank is already up-to-date!\n[nltk_data]    | Downloading package genesis to /root/nltk_data...\n[nltk_data]    |   Package genesis is already up-to-date!\n[nltk_data]    | Downloading package gutenberg to /root/nltk_data...\n[nltk_data]    |   Package gutenberg is already up-to-date!\n[nltk_data]    | Downloading package ieer to /root/nltk_data...\n[nltk_data]    |   Package ieer is already up-to-date!\n[nltk_data]    | Downloading package inaugural to /root/nltk_data...\n[nltk_data]    |   Package inaugural is already up-to-date!\n[nltk_data]    | Downloading package movie_reviews to\n[nltk_data]    |     /root/nltk_data...\n[nltk_data]    |   Package movie_reviews is already up-to-date!\n[nltk_data]    | Downloading package nps_chat to /root/nltk_data...\n[nltk_data]    |   Package nps_chat is already up-to-date!\n[nltk_data]    | Downloading package names to /root/nltk_data...\n[nltk_data]    |   Package names is already up-to-date!\n[nltk_data]    | Downloading package ppattach to /root/nltk_data...\n[nltk_data]    |   Package ppattach is already up-to-date!\n[nltk_data]    | Downloading package reuters to /root/nltk_data...\n[nltk_data]    |   Package reuters is already up-to-date!\n[nltk_data]    | Downloading package senseval to /root/nltk_data...\n[nltk_data]    |   Package senseval is already up-to-date!\n[nltk_data]    | Downloading package state_union to /root/nltk_data...\n[nltk_data]    |   Package state_union is already up-to-date!\n[nltk_data]    | Downloading package stopwords to /root/nltk_data...\n[nltk_data]    |   Package stopwords is already up-to-date!\n[nltk_data]    | Downloading package swadesh to /root/nltk_data...\n[nltk_data]    |   Package swadesh is already up-to-date!\n[nltk_data]    | Downloading package timit to /root/nltk_data...\n[nltk_data]    |   Package timit is already up-to-date!\n[nltk_data]    | Downloading package treebank to /root/nltk_data...\n[nltk_data]    |   Package treebank is already up-to-date!\n[nltk_data]    | Downloading package toolbox to /root/nltk_data...\n[nltk_data]    |   Package toolbox is already up-to-date!\n[nltk_data]    | Downloading package udhr to /root/nltk_data...\n[nltk_data]    |   Package udhr is already up-to-date!\n[nltk_data]    | Downloading package udhr2 to /root/nltk_data...\n[nltk_data]    |   Package udhr2 is already up-to-date!\n[nltk_data]    | Downloading package unicode_samples to\n[nltk_data]    |     /root/nltk_data...\n[nltk_data]    |   Package unicode_samples is already up-to-date!\n[nltk_data]    | Downloading package webtext to /root/nltk_data...\n[nltk_data]    |   Package webtext is already up-to-date!\n[nltk_data]    | Downloading package wordnet to /root/nltk_data...\n[nltk_data]    |   Package wordnet is already up-to-date!\n[nltk_data]    | Downloading package wordnet_ic to /root/nltk_data...\n[nltk_data]    |   Package wordnet_ic is already up-to-date!\n[nltk_data]    | Downloading package words to /root/nltk_data...\n[nltk_data]    |   Package words is already up-to-date!\n[nltk_data]    | Downloading package maxent_treebank_pos_tagger to\n[nltk_data]    |     /root/nltk_data...\n[nltk_data]    |   Package maxent_treebank_pos_tagger is already up-\n[nltk_data]    |       to-date!\n[nltk_data]    | Downloading package maxent_ne_chunker to\n[nltk_data]    |     /root/nltk_data...\n[nltk_data]    |   Package maxent_ne_chunker is already up-to-date!\n[nltk_data]    | Downloading package universal_tagset to\n[nltk_data]    |     /root/nltk_data...\n[nltk_data]    |   Package universal_tagset is already up-to-date!\n[nltk_data]    | Downloading package punkt to /root/nltk_data...\n[nltk_data]    |   Package punkt is already up-to-date!\n[nltk_data]    | Downloading package book_grammars to\n[nltk_data]    |     /root/nltk_data...\n[nltk_data]    |   Package book_grammars is already up-to-date!\n[nltk_data]    | Downloading package city_database to\n[nltk_data]    |     /root/nltk_data...\n[nltk_data]    |   Package city_database is already up-to-date!\n[nltk_data]    | Downloading package tagsets to /root/nltk_data...\n[nltk_data]    |   Package tagsets is already up-to-date!\n[nltk_data]    | Downloading package panlex_swadesh to\n[nltk_data]    |     /root/nltk_data...\n[nltk_data]    |   Package panlex_swadesh is already up-to-date!\n[nltk_data]    | Downloading package averaged_perceptron_tagger to\n[nltk_data]    |     /root/nltk_data...\n[nltk_data]    |   Package averaged_perceptron_tagger is already up-\n[nltk_data]    |       to-date!\n[nltk_data]    | \n[nltk_data]  Done downloading collection book\n[nltk_data] Downloading package omw to /root/nltk_data...\n[nltk_data]   Package omw is already up-to-date!\n[nltk_data] Downloading package wordnet to /root/nltk_data...\n[nltk_data]   Package wordnet is already up-to-date!\n[nltk_data] Downloading package omw-1.4 to /root/nltk_data...\n[nltk_data]   Package omw-1.4 is already up-to-date!\n[nltk_data] Downloading package averaged_perceptron_tagger to\n[nltk_data]     /root/nltk_data...\n[nltk_data]   Package averaged_perceptron_tagger is already up-to-\n[nltk_data]       date!\n",
     "output_type": "stream"
    }
   ],
   "execution_count": null
  },
  {
   "cell_type": "markdown",
   "source": "# Functions",
   "metadata": {
    "cell_id": "e0c226b22d054ff3b689c9dd60e21cc9",
    "tags": [],
    "is_collapsed": true,
    "deepnote_cell_type": "text-cell-h1"
   }
  },
  {
   "cell_type": "code",
   "metadata": {
    "cell_id": "c2802288ce274b979f4beaba43ed0b92",
    "tags": [],
    "deepnote_to_be_reexecuted": false,
    "source_hash": "de55a612",
    "execution_start": 1651093352134,
    "execution_millis": 1,
    "deepnote_cell_type": "code",
    "deepnote_cell_height": 657
   },
   "source": "def clousure_graph(synset, fn):\n  seen = set()\n  graph = nx.DiGraph()\n  labels = {}\n\n  def recurse(s):\n    if not s in seen:\n      seen.add(s)\n      labels[s.name] = s.name().split('.')[0]\n      graph.add_node(s.name)\n      for s1 in fn(s):\n        graph.add_node(s1.name)\n        graph.add_edge(s.name, s1.name)\n        recurse(s1)\n  recurse(synset)\n  return graph, labels\n\ndef draw_text_graph(G, labels):\n    plt.figure(figsize=(18, 12))\n    pos = nx.planar_layout(G, scale=18)\n    nx.draw_networkx_nodes(G, pos, node_color=\"red\", linewidths=0, node_size=500)\n    nx.draw_networkx_labels(G, pos, font_size=20, labels=labels)\n    nx.draw_networkx_edges(G, pos)\n    plt.xticks([])\n    plt.yticks([])\n\ndef show_syns(word, lang=\"spa\"):\n    ss = wn.synsets(word, lang=lang)\n    for syn in ss:\n        print(f'{syn.name()}: {syn.definition()}')\n        for name in syn.lemma_names():\n            print(f'\\t- {name}')\n    return ss",
   "outputs": [],
   "execution_count": null
  },
  {
   "cell_type": "markdown",
   "source": "# Synsets: grupo de sinónimos",
   "metadata": {
    "cell_id": "3a3224e903a54cf8818535fa7149ff62",
    "tags": [],
    "is_collapsed": false,
    "deepnote_cell_type": "text-cell-h1"
   }
  },
  {
   "cell_type": "code",
   "metadata": {
    "cell_id": "07215e6e98234d449c7a76c1b5934f19",
    "tags": [],
    "deepnote_to_be_reexecuted": false,
    "source_hash": "c56c25d0",
    "execution_start": 1651093252367,
    "execution_millis": 4,
    "deepnote_cell_type": "code",
    "deepnote_cell_height": 270.5,
    "deepnote_output_heights": [
     155.5
    ]
   },
   "source": "ss = wn.synsets(\"Jugar\", lang=\"spa\")\nss",
   "outputs": [
    {
     "output_type": "execute_result",
     "execution_count": 29,
     "data": {
      "text/plain": "[Synset('play.v.16'),\n Synset('play.v.01'),\n Synset('move.v.15'),\n Synset('meet.v.10'),\n Synset('play.v.29'),\n Synset('toy.v.02'),\n Synset('play.v.09'),\n Synset('play.v.05')]"
     },
     "metadata": {}
    }
   ],
   "execution_count": null
  },
  {
   "cell_type": "code",
   "metadata": {
    "cell_id": "b912f02012064b38aaca770fb832d859",
    "tags": [],
    "deepnote_to_be_reexecuted": false,
    "source_hash": "e2eb69a0",
    "execution_start": 1651093254009,
    "execution_millis": 7,
    "deepnote_cell_type": "code",
    "deepnote_cell_height": 791
   },
   "source": "# Exploración Synsets\nfor syn in ss:\n    print(f'{syn.name()}: {syn.definition()}')\n    for name in syn.lemma_names():\n        print(f'\\t- {name}')\n    print(\"*\"*30)",
   "outputs": [
    {
     "name": "stdout",
     "text": "play.v.16: engage in an activity as if it were a game rather than take it seriously\n\t- play\n\t- toy\n******************************\nplay.v.01: participate in games or sport\n\t- play\n******************************\nmove.v.15: have a turn; make one's move in a game\n\t- move\n\t- go\n******************************\nmeet.v.10: contend against an opponent in a sport, game, or battle\n\t- meet\n\t- encounter\n\t- play\n\t- take_on\n******************************\nplay.v.29: make bets\n\t- play\n******************************\ntoy.v.02: manipulate manually or in one's mind or imagination\n\t- toy\n\t- fiddle\n\t- diddle\n\t- play\n******************************\nplay.v.09: move or seem to move quickly, lightly, or irregularly\n\t- play\n******************************\nplay.v.05: be at play; be engaged in playful activity; amuse oneself in a way characteristic of children\n\t- play\n******************************\n",
     "output_type": "stream"
    }
   ],
   "execution_count": null
  },
  {
   "cell_type": "code",
   "metadata": {
    "cell_id": "e9b0281e27f14392b1faeeaa1b7d887c",
    "tags": [],
    "deepnote_to_be_reexecuted": false,
    "source_hash": "c8f8761c",
    "execution_start": 1651093257875,
    "execution_millis": 5,
    "deepnote_cell_type": "code",
    "deepnote_cell_height": 307.6875,
    "deepnote_output_heights": [
     174.6875
    ]
   },
   "source": "# Obtener todos los sinonimos\nsinonimos = set([name for syn in ss for name in syn.lemma_names()])\nsinonimos",
   "outputs": [
    {
     "output_type": "execute_result",
     "execution_count": 31,
     "data": {
      "text/plain": "{'diddle',\n 'encounter',\n 'fiddle',\n 'go',\n 'meet',\n 'move',\n 'play',\n 'take_on',\n 'toy'}"
     },
     "metadata": {}
    }
   ],
   "execution_count": null
  },
  {
   "cell_type": "markdown",
   "source": "# Hipónimos",
   "metadata": {
    "cell_id": "898126541e1c402593c14c63f5fcce25",
    "tags": [],
    "is_collapsed": false,
    "deepnote_cell_type": "text-cell-h1"
   }
  },
  {
   "cell_type": "code",
   "metadata": {
    "cell_id": "509a8d22feae4fd696c30ec238ac7a0e",
    "tags": [],
    "deepnote_to_be_reexecuted": false,
    "source_hash": "32d5a02",
    "execution_start": 1651093262289,
    "execution_millis": 11,
    "deepnote_cell_type": "code",
    "deepnote_cell_height": 118.1875,
    "deepnote_output_heights": [
     21.1875
    ]
   },
   "source": "ss[0].hyponyms()",
   "outputs": [
    {
     "output_type": "execute_result",
     "execution_count": 32,
     "data": {
      "text/plain": "[]"
     },
     "metadata": {}
    }
   ],
   "execution_count": null
  },
  {
   "cell_type": "code",
   "source": "G, labels = clousure_graph(ss[0], lambda s: s.hyponyms())\ndraw_text_graph(G, labels)",
   "metadata": {
    "cell_id": "7219415aaa7042d2b4ea5a332bdf2b48",
    "tags": [],
    "deepnote_to_be_reexecuted": false,
    "source_hash": "2e68c5d9",
    "execution_start": 1651093263589,
    "execution_millis": 135,
    "deepnote_cell_type": "code",
    "deepnote_cell_height": 726,
    "deepnote_output_heights": [
     611
    ]
   },
   "outputs": [
    {
     "data": {
      "text/plain": "<Figure size 1296x864 with 1 Axes>",
      "image/png": "[encoded data removed]"
     },
     "metadata": {
      "image/png": {
       "width": 1018,
       "height": 666
      }
     },
     "output_type": "display_data"
    }
   ],
   "execution_count": null
  },
  {
   "cell_type": "markdown",
   "source": "# Hiperónimos",
   "metadata": {
    "cell_id": "204e8ce50ec2419fab17fecd4698d1ab",
    "tags": [],
    "is_collapsed": false,
    "deepnote_cell_type": "text-cell-h1"
   }
  },
  {
   "cell_type": "code",
   "source": "ss[0].hypernyms()",
   "metadata": {
    "cell_id": "a49a07e0108149b497ffab0f1e41ec7c",
    "tags": [],
    "deepnote_to_be_reexecuted": false,
    "source_hash": "9f63c19b",
    "execution_start": 1651093266099,
    "execution_millis": 6,
    "deepnote_cell_type": "code",
    "deepnote_cell_height": 118.1875,
    "deepnote_output_heights": [
     21.1875
    ]
   },
   "outputs": [
    {
     "output_type": "execute_result",
     "execution_count": 34,
     "data": {
      "text/plain": "[Synset('act.v.02')]"
     },
     "metadata": {}
    }
   ],
   "execution_count": null
  },
  {
   "cell_type": "code",
   "source": "G, labels = clousure_graph(ss[0], lambda s: s.hypernyms())\ndraw_text_graph(G, labels)",
   "metadata": {
    "cell_id": "bc2653c14aa34eb697bd2a3db6a329cf",
    "tags": [],
    "deepnote_to_be_reexecuted": false,
    "source_hash": "2189b9f6",
    "execution_start": 1651093267085,
    "execution_millis": 238,
    "deepnote_cell_type": "code",
    "deepnote_cell_height": 726,
    "deepnote_output_heights": [
     611
    ]
   },
   "outputs": [
    {
     "data": {
      "text/plain": "<Figure size 1296x864 with 1 Axes>",
      "image/png": "[encoded data removed]"
     },
     "metadata": {
      "image/png": {
       "width": 1018,
       "height": 666
      }
     },
     "output_type": "display_data"
    }
   ],
   "execution_count": null
  },
  {
   "cell_type": "markdown",
   "source": "# Similitud semantica",
   "metadata": {
    "cell_id": "6527a420c36e4838965730713ac86a69",
    "tags": [],
    "is_collapsed": false,
    "deepnote_cell_type": "text-cell-h1"
   }
  },
  {
   "cell_type": "code",
   "source": "ss_build = show_syns(\"Armar\")",
   "metadata": {
    "cell_id": "59411cdaf5604f359604b4bf616151e7",
    "tags": [],
    "deepnote_to_be_reexecuted": false,
    "source_hash": "72eacefe",
    "execution_start": 1651095237062,
    "execution_millis": 3,
    "deepnote_cell_type": "code",
    "deepnote_cell_height": 576.5
   },
   "outputs": [
    {
     "name": "stdout",
     "text": "set_up.v.04: get ready for a particular purpose or event\n\t- set_up\n\t- lay_out\n\t- set\narm.v.01: prepare oneself for a military confrontation\n\t- arm\n\t- build_up\n\t- fortify\n\t- gird\npitch.v.08: erect and fasten\n\t- pitch\n\t- set_up\nassemble.v.01: create by putting components or members together\n\t- assemble\n\t- piece\n\t- put_together\n\t- set_up\n\t- tack\n\t- tack_together\narmor.v.01: equip with armor\n\t- armor\n\t- armour\ncommission.v.01: put into commission; equip for service; of ships\n\t- commission\n",
     "output_type": "stream"
    }
   ],
   "execution_count": null
  },
  {
   "cell_type": "code",
   "source": "ss_run = show_syns(\"ejecutar\")",
   "metadata": {
    "cell_id": "b9cd851723234251a1104fbd58eac6ff",
    "tags": [],
    "deepnote_to_be_reexecuted": false,
    "source_hash": "288c5916",
    "execution_start": 1651095176895,
    "execution_millis": 157,
    "deepnote_cell_type": "code",
    "deepnote_cell_height": 677.4375
   },
   "outputs": [
    {
     "name": "stdout",
     "text": "follow_through.v.02: pursue to a conclusion or bring to a successful issue\n\t- follow_through\n\t- follow_up\n\t- follow_out\n\t- carry_out\n\t- implement\n\t- put_through\n\t- go_through\nexecute.v.07: sign in the presence of witnesses\n\t- execute\nperform.v.01: carry out or perform an action\n\t- perform\n\t- execute\n\t- do\nperform.v.03: give a performance (of something)\n\t- perform\nplay.v.06: replay (as a melody)\n\t- play\n\t- spiel\ninterpret.v.03: give an interpretation or rendition of\n\t- interpret\n\t- render\nexecute.v.01: kill as a means of socially sanctioned punishment\n\t- execute\n\t- put_to_death\nexecute.v.02: murder in a planned fashion\n\t- execute\nexecute.v.04: carry out the legalities of\n\t- execute\n",
     "output_type": "stream"
    }
   ],
   "execution_count": null
  },
  {
   "cell_type": "code",
   "source": "ss_improve = show_syns(\"Mejorar\")",
   "metadata": {
    "cell_id": "a308b08088b146349aef3518cc0d8b43",
    "tags": [],
    "deepnote_to_be_reexecuted": false,
    "source_hash": "fdf81c3a",
    "execution_start": 1651093522721,
    "execution_millis": 10,
    "deepnote_cell_type": "code",
    "deepnote_cell_height": 677.4375
   },
   "outputs": [
    {
     "name": "stdout",
     "text": "better.v.03: get better\n\t- better\n\t- improve\n\t- ameliorate\n\t- meliorate\nturn_around.v.03: improve significantly; go from bad to good\n\t- turn_around\n\t- pick_up\nbetter.v.02: to make better\n\t- better\n\t- improve\n\t- amend\n\t- ameliorate\n\t- meliorate\nhelp.v.08: improve; change for the better\n\t- help\nremit.v.07: diminish or abate\n\t- remit\nmend.v.02: heal or recover\n\t- mend\n\t- heal\nbetter.v.01: surpass in excellence\n\t- better\n\t- break\nclear_up.v.04: become clear\n\t- clear_up\n\t- clear\n\t- light_up\n\t- brighten\n",
     "output_type": "stream"
    }
   ],
   "execution_count": null
  },
  {
   "cell_type": "code",
   "source": "ss_classifier = show_syns(\"Clasificar\")",
   "metadata": {
    "cell_id": "a8a765d660b241ce8f4df28b4a2c7efd",
    "tags": [],
    "deepnote_to_be_reexecuted": false,
    "source_hash": "3fb9e81b",
    "execution_start": 1651093539539,
    "execution_millis": 8,
    "deepnote_cell_type": "code",
    "deepnote_cell_height": 495.75
   },
   "outputs": [
    {
     "name": "stdout",
     "text": "classify.v.01: arrange or order by classes or categories\n\t- classify\n\t- class\n\t- sort\n\t- assort\n\t- sort_out\n\t- separate\npigeonhole.v.02: treat or classify according to a mental stereotype\n\t- pigeonhole\n\t- stereotype\n\t- stamp\nrate.v.01: assign a rank or rating to\n\t- rate\n\t- rank\n\t- range\n\t- order\n\t- grade\n\t- place\nclassify.v.02: declare unavailable, as for security reasons\n\t- classify\n",
     "output_type": "stream"
    }
   ],
   "execution_count": null
  },
  {
   "cell_type": "code",
   "source": "ss_build[0].path_similarity(ss_improve[0]) * 100",
   "metadata": {
    "cell_id": "b33b04c6c20a4099891ca7cf49114aba",
    "tags": [],
    "deepnote_to_be_reexecuted": false,
    "source_hash": "51415be5",
    "execution_start": 1651093708403,
    "execution_millis": 4,
    "deepnote_cell_type": "code",
    "deepnote_cell_height": 118.1875,
    "deepnote_output_heights": [
     21.1875
    ]
   },
   "outputs": [
    {
     "output_type": "execute_result",
     "execution_count": 46,
     "data": {
      "text/plain": "14.285714285714285"
     },
     "metadata": {}
    }
   ],
   "execution_count": null
  },
  {
   "cell_type": "code",
   "source": "ss_build[1].path_similarity(wn.synsets(\"construir\", lang=\"spa\")[0]) * 100",
   "metadata": {
    "cell_id": "de03b436e5a346a1a04e97e2024209ff",
    "tags": [],
    "deepnote_to_be_reexecuted": false,
    "source_hash": "62c36088",
    "execution_start": 1651093763916,
    "execution_millis": 7,
    "deepnote_cell_type": "code",
    "deepnote_cell_height": 118.1875,
    "deepnote_output_heights": [
     21.1875
    ]
   },
   "outputs": [
    {
     "output_type": "execute_result",
     "execution_count": 55,
     "data": {
      "text/plain": "25.0"
     },
     "metadata": {}
    }
   ],
   "execution_count": null
  },
  {
   "cell_type": "markdown",
   "source": "# Obtener verbos",
   "metadata": {
    "cell_id": "79f3d75381ff4dd9bc1653cca316f445",
    "tags": [],
    "is_collapsed": false,
    "deepnote_cell_type": "text-cell-h1"
   }
  },
  {
   "cell_type": "code",
   "source": "text = list(get_keywords(\"My PC can run a game?\")[1]) # or -> nltk.word_tokenize(\"Quiero armar una pc gamer\")\ntext",
   "metadata": {
    "cell_id": "ebac0113f755449192b5199c6de40a3a",
    "tags": [],
    "deepnote_to_be_reexecuted": false,
    "source_hash": "50c358d1",
    "execution_start": 1651094349559,
    "execution_millis": 454,
    "deepnote_cell_type": "code",
    "deepnote_cell_height": 136.1875,
    "deepnote_output_heights": [
     21.1875
    ]
   },
   "outputs": [
    {
     "output_type": "execute_result",
     "execution_count": 87,
     "data": {
      "text/plain": "['game', 'can', 'run']"
     },
     "metadata": {}
    }
   ],
   "execution_count": null
  },
  {
   "cell_type": "code",
   "source": "pos_tagged = nltk.pos_tag(text)\npos_tagged",
   "metadata": {
    "cell_id": "e18510f5606e405a8eb88d86e30e9522",
    "tags": [],
    "deepnote_to_be_reexecuted": false,
    "source_hash": "f98a4bf7",
    "execution_start": 1651094351376,
    "execution_millis": 2,
    "deepnote_cell_type": "code",
    "deepnote_cell_height": 136.1875,
    "deepnote_output_heights": [
     21.1875
    ]
   },
   "outputs": [
    {
     "output_type": "execute_result",
     "execution_count": 88,
     "data": {
      "text/plain": "[('game', 'NN'), ('can', 'MD'), ('run', 'VB')]"
     },
     "metadata": {}
    }
   ],
   "execution_count": null
  },
  {
   "cell_type": "code",
   "source": "verbos = list(filter(lambda x: x[1] == \"VB\", pos_tagged))\nverbos",
   "metadata": {
    "cell_id": "5e1830c6fff7477981ca6ca66f7f97dd",
    "tags": [],
    "deepnote_to_be_reexecuted": false,
    "source_hash": "570d5a60",
    "execution_start": 1651094351930,
    "execution_millis": 9,
    "deepnote_cell_type": "code",
    "deepnote_cell_height": 136.1875,
    "deepnote_output_heights": [
     21.1875
    ]
   },
   "outputs": [
    {
     "output_type": "execute_result",
     "execution_count": 89,
     "data": {
      "text/plain": "[('run', 'VB')]"
     },
     "metadata": {}
    }
   ],
   "execution_count": null
  },
  {
   "cell_type": "code",
   "source": "ss = wn.synsets(verbos[0][0])",
   "metadata": {
    "cell_id": "430b0b8cb4324831b719b7411ecd708c",
    "tags": [],
    "deepnote_to_be_reexecuted": false,
    "source_hash": "d3385d",
    "execution_start": 1651094502682,
    "execution_millis": 5,
    "deepnote_cell_type": "code",
    "deepnote_cell_height": 81
   },
   "outputs": [],
   "execution_count": null
  },
  {
   "cell_type": "code",
   "source": "ss_build",
   "metadata": {
    "cell_id": "31bf3ed802524f1a957a750602947b67",
    "tags": [],
    "deepnote_to_be_reexecuted": false,
    "source_hash": "9b34be06",
    "execution_start": 1651095220962,
    "execution_millis": 3,
    "deepnote_cell_type": "code",
    "deepnote_cell_height": 118.1875,
    "deepnote_output_heights": [
     21.1875
    ]
   },
   "outputs": [
    {
     "output_type": "execute_result",
     "execution_count": 103,
     "data": {
      "text/plain": "[]"
     },
     "metadata": {}
    }
   ],
   "execution_count": null
  },
  {
   "cell_type": "code",
   "source": "# best = (None, -1)\n# for ssp in [ss_run, ss_build, ss_classifier, ss_improve]:\n#     for ssb in ssp: \n#         for ssr in ss:\n#             score = ssb.path_similarity(ssr)\n#             if score > best[1]:\n#                 msg = f\"{ssb.name()}|{ssr.name()}: {score}\"\n#                 print(msg)\n#                 best = (msg, score)",
   "metadata": {
    "cell_id": "886901fb4b6f4682b00106c345911461",
    "tags": [],
    "deepnote_to_be_reexecuted": false,
    "source_hash": "76f3c67e",
    "execution_start": 1651095448251,
    "execution_millis": 2,
    "deepnote_cell_type": "code",
    "deepnote_cell_height": 417.6875
   },
   "outputs": [
    {
     "name": "stdout",
     "text": "follow_through.v.02|run.n.01: 0.0625\nfollow_through.v.02|test.n.05: 0.07692307692307693\nfollow_through.v.02|run.n.08: 0.09090909090909091\nfollow_through.v.02|run.n.10: 0.1\nfollow_through.v.02|run.v.01: 0.125\nfollow_through.v.02|scat.v.01: 0.14285714285714285\nfollow_through.v.02|function.v.01: 0.16666666666666666\nfollow_through.v.02|run.v.21: 0.25\nperform.v.01|function.v.01: 0.3333333333333333\n",
     "output_type": "stream"
    }
   ],
   "execution_count": null
  },
  {
   "cell_type": "code",
   "source": "associated_keywords = {\n    \"build\": set([name for syn in ss_build for name in syn.lemma_names()]) | set([\"build\"]),\n    \"can_run\": set([name for syn in ss_run for name in syn.lemma_names()]) | set([\"run\"]),\n    \"improve\": set([name for syn in ss_improve for name in syn.lemma_names()]) | set([\"improve\"]),\n    \"classifier\": set([name for syn in ss_classifier for name in syn.lemma_names()]) | set([\"classify\"]),\n}\nassociated_keywords",
   "metadata": {
    "cell_id": "b47e991c347148c6aeff820f7034b238",
    "tags": [],
    "deepnote_to_be_reexecuted": false,
    "source_hash": "5e296986",
    "execution_start": 1651096832941,
    "execution_millis": 19,
    "deepnote_cell_type": "code",
    "deepnote_cell_height": 816,
    "deepnote_output_heights": [
     611
    ]
   },
   "outputs": [
    {
     "output_type": "execute_result",
     "execution_count": 144,
     "data": {
      "text/plain": "{'build': {'arm',\n  'armor',\n  'armour',\n  'assemble',\n  'build',\n  'build_up',\n  'commission',\n  'fortify',\n  'gird',\n  'lay_out',\n  'piece',\n  'pitch',\n  'put_together',\n  'set',\n  'set_up',\n  'tack',\n  'tack_together'},\n 'can_run': {'carry_out',\n  'do',\n  'execute',\n  'follow_out',\n  'follow_through',\n  'follow_up',\n  'go_through',\n  'implement',\n  'interpret',\n  'perform',\n  'play',\n  'put_through',\n  'put_to_death',\n  'render',\n  'run',\n  'spiel'},\n 'improve': {'ameliorate',\n  'amend',\n  'better',\n  'break',\n  'brighten',\n  'clear',\n  'clear_up',\n  'heal',\n  'help',\n  'improve',\n  'light_up',\n  'meliorate',\n  'mend',\n  'pick_up',\n  'remit',\n  'turn_around'},\n 'classifier': {'assort',\n  'class',\n  'classify',\n  'grade',\n  'order',\n  'pigeonhole',\n  'place',\n  'range',\n  'rank',\n  'rate',\n  'separate',\n  'sort',\n  'sort_out',\n  'stamp',\n  'stereotype'}}"
     },
     "metadata": {}
    }
   ],
   "execution_count": null
  },
  {
   "cell_type": "code",
   "source": "def get_action():\n    text = input(\"What do you do? \").lower()\n    _, words = get_keywords(text)\n    # pos_tagged = nltk.pos_tag(words)\n    # verbos = list(filter(lambda x: \"VB\" in x[1], pos_tagged))\n    # verbos = set(map(lambda x: x[0], verbos))\n    for function, associated in associated_keywords.items():\n        diff = words & associated\n        if diff:\n            print(f\"{function} is a function selected\")\n            return functions[function]\n    return lambda: print(\"Nothing to do :(\")",
   "metadata": {
    "cell_id": "566484e47055493992215b991bc46430",
    "tags": [],
    "deepnote_to_be_reexecuted": false,
    "source_hash": "ce4b047e",
    "execution_start": 1651097696643,
    "execution_millis": 1,
    "owner_user_id": "62e199ca-01f6-4bbc-8362-fc86c29586af",
    "deepnote_cell_type": "code",
    "deepnote_cell_height": 279
   },
   "outputs": [],
   "execution_count": null
  },
  {
   "cell_type": "code",
   "source": "get_action()",
   "metadata": {
    "cell_id": "d94ce12b3a8344b48fc68192bae00917",
    "tags": [],
    "deepnote_to_be_reexecuted": false,
    "source_hash": "496da44d",
    "execution_start": 1651097697844,
    "execution_millis": 33158,
    "deepnote_cell_type": "code",
    "deepnote_cell_height": 164.375,
    "deepnote_output_heights": [
     520.0625,
     21.1875
    ]
   },
   "outputs": [
    {
     "name": "stdout",
     "text": "classifier is a function selected\n",
     "output_type": "stream"
    },
    {
     "output_type": "execute_result",
     "execution_count": 153,
     "data": {
      "text/plain": "<function __main__.<lambda>()>"
     },
     "metadata": {}
    }
   ],
   "execution_count": null
  },
  {
   "cell_type": "code",
   "source": "",
   "metadata": {
    "cell_id": "660946172df541e1b44bcf565b84ad12",
    "tags": [],
    "deepnote_to_be_reexecuted": true,
    "source_hash": "b623e53d",
    "deepnote_cell_type": "code",
    "deepnote_cell_height": 66
   },
   "outputs": [],
   "execution_count": null
  },
  {
   "cell_type": "code",
   "source": "",
   "metadata": {
    "cell_id": "34e88b58608c468b91d3e88b16582a36",
    "tags": [],
    "deepnote_cell_type": "code",
    "deepnote_cell_height": 66
   },
   "outputs": [],
   "execution_count": null
  },
  {
   "cell_type": "markdown",
   "source": "<a style='text-decoration:none;line-height:16px;display:flex;color:#5B5B62;padding:10px;justify-content:end;' href='https://deepnote.com?utm_source=created-in-deepnote-cell&projectId=07e29549-6cbf-4e88-b69c-0fc48f2d6023' target=\"_blank\">\n<img alt='Created in deepnote.com' style='display:inline;max-height:16px;margin:0px;margin-right:7.5px;' src='data:image/svg+xml;base64,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' > </img>\nCreated in <span style='font-weight:600;margin-left:4px;'>Deepnote</span></a>",
   "metadata": {
    "tags": [],
    "created_in_deepnote_cell": true,
    "deepnote_cell_type": "markdown"
   }
  }
 ],
 "nbformat": 4,
 "nbformat_minor": 2,
 "metadata": {
  "orig_nbformat": 2,
  "deepnote": {},
  "deepnote_notebook_id": "b58d7ca2-b540-4485-ba16-d618828bb295",
  "deepnote_execution_queue": []
 }
}