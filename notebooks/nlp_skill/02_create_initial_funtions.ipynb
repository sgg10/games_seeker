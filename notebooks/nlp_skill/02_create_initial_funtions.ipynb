{
 "cells": [
  {
   "cell_type": "code",
   "metadata": {
    "tags": [],
    "cell_id": "b79f6c7d-44b1-47a7-81e4-f33986b46377",
    "deepnote_to_be_reexecuted": false,
    "source_hash": "f0d67329",
    "execution_start": 1651092182424,
    "execution_millis": 70,
    "deepnote_cell_type": "code",
    "deepnote_cell_height": 81
   },
   "source": "import yake",
   "outputs": [],
   "execution_count": null
  },
  {
   "cell_type": "code",
   "metadata": {
    "cell_id": "33318c04a7e849c985d6e67235ad5111",
    "tags": [],
    "deepnote_to_be_reexecuted": false,
    "source_hash": "e69cd317",
    "execution_start": 1651092182534,
    "execution_millis": 0,
    "owner_user_id": "62e199ca-01f6-4bbc-8362-fc86c29586af",
    "deepnote_cell_type": "code",
    "deepnote_cell_height": 207
   },
   "source": "def create_extractor(lang='es', max_ngram=1,deduplication_threshold=0.9, numOfKeywords=10):\n    return yake.KeywordExtractor(\n        lan=lang,\n        n=max_ngram,\n        dedupLim=deduplication_threshold,\n        top=numOfKeywords,\n        features=None\n    )",
   "outputs": [],
   "execution_count": null
  },
  {
   "cell_type": "code",
   "metadata": {
    "cell_id": "e5f313864ba045db87fa7d8663cdef20",
    "tags": [],
    "deepnote_to_be_reexecuted": false,
    "source_hash": "8163541d",
    "execution_start": 1651092182534,
    "execution_millis": 1,
    "deepnote_cell_type": "code",
    "deepnote_cell_height": 153,
    "deepnote_output_heights": [
     21.1875
    ]
   },
   "source": "def get_keywords(text, extractor=create_extractor()):\n    keywords = extractor.extract_keywords(text)\n    words = set(map(lambda x: x[0], keywords))\n    return keywords, words\n",
   "outputs": [],
   "execution_count": null
  },
  {
   "cell_type": "code",
   "metadata": {
    "cell_id": "73bdeaba87ee4684a71c67e4dbe57a69",
    "tags": [],
    "deepnote_to_be_reexecuted": false,
    "source_hash": "59c62a1b",
    "execution_start": 1651092182537,
    "execution_millis": 5,
    "deepnote_cell_type": "code",
    "deepnote_cell_height": 194.9375,
    "deepnote_output_heights": [
     97.9375
    ]
   },
   "source": "get_keywords(\"Me gustaria poder mejorar mi computador\")",
   "outputs": [
    {
     "output_type": "execute_result",
     "execution_count": 5,
     "data": {
      "text/plain": "([('computador', 0.15831692877998726),\n  ('gustaria', 0.29736558256021506),\n  ('poder', 0.29736558256021506),\n  ('mejorar', 0.29736558256021506)],\n {'computador', 'gustaria', 'mejorar', 'poder'})"
     },
     "metadata": {}
    }
   ],
   "execution_count": null
  },
  {
   "cell_type": "code",
   "metadata": {
    "cell_id": "48c59863023f41f18552879a89004813",
    "tags": [],
    "deepnote_to_be_reexecuted": false,
    "source_hash": "a1318d35",
    "execution_start": 1651092182541,
    "execution_millis": 2,
    "deepnote_cell_type": "code",
    "deepnote_cell_height": 171
   },
   "source": "functions = {\n    \"build\": lambda: print(\"Contruyendo PC...\"),\n    \"can_run\": lambda: print(\"Validando requerimientos...\"),\n    \"improve\": lambda: print(\"Mejorando PC...\"),\n    \"classifier\": lambda: print(\"Clasificando PC...\"),\n}",
   "outputs": [],
   "execution_count": null
  },
  {
   "cell_type": "code",
   "metadata": {
    "cell_id": "b68e73a80d5445a68452b980b4bb40fa",
    "tags": [],
    "deepnote_to_be_reexecuted": false,
    "source_hash": "e44d5126",
    "execution_start": 1651092182544,
    "execution_millis": 1,
    "deepnote_cell_type": "code",
    "deepnote_cell_height": 171
   },
   "source": "associated_keywords = {\n    \"build\": {'contruir', 'armar', 'fabricar', 'comprar'},\n    \"can_run\": {'requisitos', 'requerimientos', 'jugar', 'correr', 'ejecutar'},\n    \"improve\": {'mejorar', 'mejora', 'optimizar', 'perfeccionar', 'arreglar'},\n    \"classifier\": {'tipo', 'clase', 'categoria'},\n}",
   "outputs": [],
   "execution_count": null
  },
  {
   "cell_type": "code",
   "metadata": {
    "cell_id": "41fec84cc6784f1ebf75f33ad0e5f69a",
    "tags": [],
    "deepnote_to_be_reexecuted": false,
    "source_hash": "39e1aacb",
    "execution_start": 1651092598649,
    "execution_millis": 5,
    "deepnote_cell_type": "code",
    "deepnote_cell_height": 207
   },
   "source": "def get_action():\n    text = input(\"What do you do? \").lower()\n    _, words = get_keywords(text)\n    for function, associated in associated_keywords.items():\n        diff = words & associated\n        if diff:\n            print(f\"{function} is a function selected\")\n            return functions[function]",
   "outputs": [],
   "execution_count": null
  },
  {
   "cell_type": "code",
   "metadata": {
    "cell_id": "c5c7c78f732b4475b084b8de68947afc",
    "tags": [],
    "deepnote_to_be_reexecuted": false,
    "source_hash": "5c6da5a1",
    "execution_start": 1651092227512,
    "execution_millis": 4959,
    "deepnote_cell_type": "code",
    "deepnote_cell_height": 132.375,
    "deepnote_output_heights": [
     251.4375
    ]
   },
   "source": "# get_action()()",
   "outputs": [
    {
     "name": "stdout",
     "text": "improve is a function selected\nMejorando PC...\n",
     "output_type": "stream"
    }
   ],
   "execution_count": null
  },
  {
   "cell_type": "code",
   "metadata": {
    "cell_id": "7972a771501b475d830b704e819f5f47",
    "tags": [],
    "deepnote_cell_type": "code",
    "deepnote_cell_height": 66
   },
   "source": "",
   "execution_count": null,
   "outputs": []
  },
  {
   "cell_type": "markdown",
   "source": "<a style='text-decoration:none;line-height:16px;display:flex;color:#5B5B62;padding:10px;justify-content:end;' href='https://deepnote.com?utm_source=created-in-deepnote-cell&projectId=07e29549-6cbf-4e88-b69c-0fc48f2d6023' target=\"_blank\">\n<img alt='Created in deepnote.com' style='display:inline;max-height:16px;margin:0px;margin-right:7.5px;' src='data:image/svg+xml;base64,PD94bWwgdmVyc2lvbj0iMS4wIiBlbmNvZGluZz0iVVRGLTgiPz4KPHN2ZyB3aWR0aD0iODBweCIgaGVpZ2h0PSI4MHB4IiB2aWV3Qm94PSIwIDAgODAgODAiIHZlcnNpb249IjEuMSIgeG1sbnM9Imh0dHA6Ly93d3cudzMub3JnLzIwMDAvc3ZnIiB4bWxuczp4bGluaz0iaHR0cDovL3d3dy53My5vcmcvMTk5OS94bGluayI+CiAgICA8IS0tIEdlbmVyYXRvcjogU2tldGNoIDU0LjEgKDc2NDkwKSAtIGh0dHBzOi8vc2tldGNoYXBwLmNvbSAtLT4KICAgIDx0aXRsZT5Hcm91cCAzPC90aXRsZT4KICAgIDxkZXNjPkNyZWF0ZWQgd2l0aCBTa2V0Y2guPC9kZXNjPgogICAgPGcgaWQ9IkxhbmRpbmciIHN0cm9rZT0ibm9uZSIgc3Ryb2tlLXdpZHRoPSIxIiBmaWxsPSJub25lIiBmaWxsLXJ1bGU9ImV2ZW5vZGQiPgogICAgICAgIDxnIGlkPSJBcnRib2FyZCIgdHJhbnNmb3JtPSJ0cmFuc2xhdGUoLTEyMzUuMDAwMDAwLCAtNzkuMDAwMDAwKSI+CiAgICAgICAgICAgIDxnIGlkPSJHcm91cC0zIiB0cmFuc2Zvcm09InRyYW5zbGF0ZSgxMjM1LjAwMDAwMCwgNzkuMDAwMDAwKSI+CiAgICAgICAgICAgICAgICA8cG9seWdvbiBpZD0iUGF0aC0yMCIgZmlsbD0iIzAyNjVCNCIgcG9pbnRzPSIyLjM3NjIzNzYyIDgwIDM4LjA0NzY2NjcgODAgNTcuODIxNzgyMiA3My44MDU3NTkyIDU3LjgyMTc4MjIgMzIuNzU5MjczOSAzOS4xNDAyMjc4IDMxLjY4MzE2ODMiPjwvcG9seWdvbj4KICAgICAgICAgICAgICAgIDxwYXRoIGQ9Ik0zNS4wMDc3MTgsODAgQzQyLjkwNjIwMDcsNzYuNDU0OTM1OCA0Ny41NjQ5MTY3LDcxLjU0MjI2NzEgNDguOTgzODY2LDY1LjI2MTk5MzkgQzUxLjExMjI4OTksNTUuODQxNTg0MiA0MS42NzcxNzk1LDQ5LjIxMjIyODQgMjUuNjIzOTg0Niw0OS4yMTIyMjg0IEMyNS40ODQ5Mjg5LDQ5LjEyNjg0NDggMjkuODI2MTI5Niw0My4yODM4MjQ4IDM4LjY0NzU4NjksMzEuNjgzMTY4MyBMNzIuODcxMjg3MSwzMi41NTQ0MjUgTDY1LjI4MDk3Myw2Ny42NzYzNDIxIEw1MS4xMTIyODk5LDc3LjM3NjE0NCBMMzUuMDA3NzE4LDgwIFoiIGlkPSJQYXRoLTIyIiBmaWxsPSIjMDAyODY4Ij48L3BhdGg+CiAgICAgICAgICAgICAgICA8cGF0aCBkPSJNMCwzNy43MzA0NDA1IEwyNy4xMTQ1MzcsMC4yNTcxMTE0MzYgQzYyLjM3MTUxMjMsLTEuOTkwNzE3MDEgODAsMTAuNTAwMzkyNyA4MCwzNy43MzA0NDA1IEM4MCw2NC45NjA0ODgyIDY0Ljc3NjUwMzgsNzkuMDUwMzQxNCAzNC4zMjk1MTEzLDgwIEM0Ny4wNTUzNDg5LDc3LjU2NzA4MDggNTMuNDE4MjY3Nyw3MC4zMTM2MTAzIDUzLjQxODI2NzcsNTguMjM5NTg4NSBDNTMuNDE4MjY3Nyw0MC4xMjg1NTU3IDM2LjMwMzk1NDQsMzcuNzMwNDQwNSAyNS4yMjc0MTcsMzcuNzMwNDQwNSBDMTcuODQzMDU4NiwzNy43MzA0NDA1IDkuNDMzOTE5NjYsMzcuNzMwNDQwNSAwLDM3LjczMDQ0MDUgWiIgaWQ9IlBhdGgtMTkiIGZpbGw9IiMzNzkzRUYiPjwvcGF0aD4KICAgICAgICAgICAgPC9nPgogICAgICAgIDwvZz4KICAgIDwvZz4KPC9zdmc+' > </img>\nCreated in <span style='font-weight:600;margin-left:4px;'>Deepnote</span></a>",
   "metadata": {
    "tags": [],
    "created_in_deepnote_cell": true,
    "deepnote_cell_type": "markdown"
   }
  }
 ],
 "nbformat": 4,
 "nbformat_minor": 2,
 "metadata": {
  "orig_nbformat": 2,
  "deepnote": {},
  "deepnote_notebook_id": "d21f2f60-5c6d-408a-9c13-3c3c609bcc91",
  "deepnote_execution_queue": []
 }
}