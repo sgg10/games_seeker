{
 "cells": [
  {
   "cell_type": "code",
   "source": "import yake\nimport nltk\nfrom rake_nltk import Rake",
   "metadata": {
    "cell_id": "6a3a295fdaaf4d6495b22313c050c15a",
    "tags": [],
    "deepnote_to_be_reexecuted": false,
    "source_hash": "d64948c5",
    "execution_start": 1651077513584,
    "execution_millis": 1,
    "deepnote_cell_type": "code",
    "deepnote_cell_height": 117
   },
   "outputs": [],
   "execution_count": null
  },
  {
   "cell_type": "code",
   "source": "nltk.download('stopwords')\nnltk.download('punkt')",
   "metadata": {
    "cell_id": "02dcbe8e019a40118b8aa2bead906b08",
    "tags": [],
    "deepnote_to_be_reexecuted": false,
    "source_hash": "89b2afdf",
    "execution_start": 1651077583112,
    "execution_millis": 369,
    "deepnote_cell_type": "code",
    "deepnote_cell_height": 242.9375,
    "deepnote_output_heights": [
     null,
     21.1875
    ]
   },
   "outputs": [
    {
     "name": "stderr",
     "text": "[nltk_data] Downloading package stopwords to /root/nltk_data...\n[nltk_data]   Package stopwords is already up-to-date!\n[nltk_data] Downloading package punkt to /root/nltk_data...\n[nltk_data]   Unzipping tokenizers/punkt.zip.\n",
     "output_type": "stream"
    },
    {
     "output_type": "execute_result",
     "execution_count": 25,
     "data": {
      "text/plain": "True"
     },
     "metadata": {}
    }
   ],
   "execution_count": null
  },
  {
   "cell_type": "code",
   "source": "TEXT = \"\"\"spaCy is an open-source software library for advanced natural language processing, written in the programming languages Python and Cython.\nThe library is published under the MIT license and its main developers are Matthew Honnibal and Ines Montani, the founders of the software company Explosion.\"\"\"",
   "metadata": {
    "cell_id": "1c01d189032848fd9c44aada33f99da9",
    "tags": [],
    "deepnote_to_be_reexecuted": false,
    "source_hash": "23085219",
    "execution_start": 1651076790921,
    "execution_millis": 0,
    "deepnote_cell_type": "code",
    "deepnote_cell_height": 99
   },
   "outputs": [],
   "execution_count": null
  },
  {
   "cell_type": "markdown",
   "source": "# Yake",
   "metadata": {
    "cell_id": "0329f25659834b16a6a8145b6d6089c6",
    "tags": [],
    "is_collapsed": false,
    "deepnote_cell_type": "text-cell-h1"
   }
  },
  {
   "cell_type": "code",
   "source": "kw_extractor = yake.KeywordExtractor()",
   "metadata": {
    "cell_id": "aa29160b70344ff7953d0c1951cec194",
    "tags": [],
    "deepnote_to_be_reexecuted": false,
    "source_hash": "eeca8e49",
    "execution_start": 1651076790921,
    "execution_millis": 1,
    "deepnote_cell_type": "code",
    "deepnote_cell_height": 81
   },
   "outputs": [],
   "execution_count": null
  },
  {
   "cell_type": "code",
   "source": "language = \"es\"\nmax_ngram_size = 1\ndeduplication_threshold = 0.9\nnumOfKeywords = 20",
   "metadata": {
    "cell_id": "47aac013b61f4b7aa2144a32c007ded9",
    "tags": [],
    "deepnote_to_be_reexecuted": false,
    "source_hash": "582fad16",
    "execution_start": 1651077261792,
    "execution_millis": 0,
    "deepnote_cell_type": "code",
    "deepnote_cell_height": 135
   },
   "outputs": [],
   "execution_count": null
  },
  {
   "cell_type": "code",
   "source": "custom_kw_extractor = yake.KeywordExtractor(lan=language, n=max_ngram_size, dedupLim=deduplication_threshold, top=numOfKeywords, features=None)",
   "metadata": {
    "cell_id": "a28f34da1e6d4049b310f673ca480691",
    "tags": [],
    "deepnote_to_be_reexecuted": false,
    "source_hash": "85d5182b",
    "execution_start": 1651077262182,
    "execution_millis": 1,
    "deepnote_cell_type": "code",
    "deepnote_cell_height": 81
   },
   "outputs": [],
   "execution_count": null
  },
  {
   "cell_type": "code",
   "source": "keywords = custom_kw_extractor.extract_keywords(\"Me gustaria poder mejorar mi poder para tener mas velocidad\")",
   "metadata": {
    "cell_id": "4413489dcc5b4b79ad21c881ab710f7d",
    "tags": [],
    "deepnote_to_be_reexecuted": false,
    "source_hash": "77d44425",
    "execution_start": 1651077755170,
    "execution_millis": 1,
    "deepnote_cell_type": "code",
    "deepnote_cell_height": 81
   },
   "outputs": [],
   "execution_count": null
  },
  {
   "cell_type": "code",
   "source": "for kw in keywords:\n    print(kw)",
   "metadata": {
    "cell_id": "2fcee3d51f4e4b7baa47582e5a5e9da9",
    "tags": [],
    "deepnote_to_be_reexecuted": false,
    "source_hash": "dd75347e",
    "execution_start": 1651077757667,
    "execution_millis": 4,
    "owner_user_id": "62e199ca-01f6-4bbc-8362-fc86c29586af",
    "deepnote_cell_type": "code",
    "deepnote_cell_height": 210.9375
   },
   "outputs": [
    {
     "name": "stdout",
     "text": "('velocidad', 0.11521656054299435)\n('poder', 0.13667842094541144)\n('gustaria', 0.1879836817695587)\n('mejorar', 0.1879836817695587)\n('mas', 0.1879836817695587)\n",
     "output_type": "stream"
    }
   ],
   "execution_count": null
  },
  {
   "cell_type": "markdown",
   "source": "# Rake-NLTK",
   "metadata": {
    "cell_id": "05d8ecebd7bf4d26be98f379316334bb",
    "tags": [],
    "is_collapsed": false,
    "deepnote_cell_type": "text-cell-h1"
   }
  },
  {
   "cell_type": "code",
   "source": "rake_nltk_var = Rake()",
   "metadata": {
    "cell_id": "1ce40be4bd9249e7a4a89063f18f2845",
    "tags": [],
    "deepnote_to_be_reexecuted": false,
    "source_hash": "91e85810",
    "execution_start": 1651077529640,
    "execution_millis": 2,
    "deepnote_cell_type": "code",
    "deepnote_cell_height": 81
   },
   "outputs": [],
   "execution_count": null
  },
  {
   "cell_type": "code",
   "source": "rake_nltk_var.extract_keywords_from_text(\"Me gustaria poder mejorar mi poder para tener mas velocidad\")",
   "metadata": {
    "cell_id": "ca921fdcdf5e4861a3f9bc5ce7b0600c",
    "tags": [],
    "deepnote_to_be_reexecuted": false,
    "source_hash": "faecf640",
    "execution_start": 1651077670213,
    "execution_millis": 1,
    "deepnote_cell_type": "code",
    "deepnote_cell_height": 81
   },
   "outputs": [],
   "execution_count": null
  },
  {
   "cell_type": "code",
   "source": "keyword_extracted = rake_nltk_var.get_ranked_phrases()",
   "metadata": {
    "cell_id": "e7871cc7f01c4499b132e17bbb80a5e2",
    "tags": [],
    "deepnote_to_be_reexecuted": false,
    "source_hash": "6f3273ab",
    "execution_start": 1651077670535,
    "execution_millis": 5,
    "deepnote_cell_type": "code",
    "deepnote_cell_height": 81
   },
   "outputs": [],
   "execution_count": null
  },
  {
   "cell_type": "code",
   "source": "print(keyword_extracted)",
   "metadata": {
    "cell_id": "b558a0fa223746f5be3347cf312c9118",
    "tags": [],
    "deepnote_to_be_reexecuted": false,
    "source_hash": "596ca23e",
    "execution_start": 1651077670858,
    "execution_millis": 1,
    "deepnote_cell_type": "code",
    "deepnote_cell_height": 112.1875
   },
   "outputs": [
    {
     "name": "stdout",
     "text": "['gustaria poder mejorar mi poder para tener mas velocidad']\n",
     "output_type": "stream"
    }
   ],
   "execution_count": null
  },
  {
   "cell_type": "code",
   "source": "",
   "metadata": {
    "cell_id": "a561ee7d01754263b6a7e2cff9dd8a26",
    "tags": [],
    "deepnote_cell_type": "code",
    "deepnote_cell_height": 66
   },
   "outputs": [],
   "execution_count": null
  },
  {
   "cell_type": "markdown",
   "source": "<a style='text-decoration:none;line-height:16px;display:flex;color:#5B5B62;padding:10px;justify-content:end;' href='https://deepnote.com?utm_source=created-in-deepnote-cell&projectId=07e29549-6cbf-4e88-b69c-0fc48f2d6023' target=\"_blank\">\n<img alt='Created in deepnote.com' style='display:inline;max-height:16px;margin:0px;margin-right:7.5px;' src='data:image/svg+xml;base64,PD94bWwgdmVyc2lvbj0iMS4wIiBlbmNvZGluZz0iVVRGLTgiPz4KPHN2ZyB3aWR0aD0iODBweCIgaGVpZ2h0PSI4MHB4IiB2aWV3Qm94PSIwIDAgODAgODAiIHZlcnNpb249IjEuMSIgeG1sbnM9Imh0dHA6Ly93d3cudzMub3JnLzIwMDAvc3ZnIiB4bWxuczp4bGluaz0iaHR0cDovL3d3dy53My5vcmcvMTk5OS94bGluayI+CiAgICA8IS0tIEdlbmVyYXRvcjogU2tldGNoIDU0LjEgKDc2NDkwKSAtIGh0dHBzOi8vc2tldGNoYXBwLmNvbSAtLT4KICAgIDx0aXRsZT5Hcm91cCAzPC90aXRsZT4KICAgIDxkZXNjPkNyZWF0ZWQgd2l0aCBTa2V0Y2guPC9kZXNjPgogICAgPGcgaWQ9IkxhbmRpbmciIHN0cm9rZT0ibm9uZSIgc3Ryb2tlLXdpZHRoPSIxIiBmaWxsPSJub25lIiBmaWxsLXJ1bGU9ImV2ZW5vZGQiPgogICAgICAgIDxnIGlkPSJBcnRib2FyZCIgdHJhbnNmb3JtPSJ0cmFuc2xhdGUoLTEyMzUuMDAwMDAwLCAtNzkuMDAwMDAwKSI+CiAgICAgICAgICAgIDxnIGlkPSJHcm91cC0zIiB0cmFuc2Zvcm09InRyYW5zbGF0ZSgxMjM1LjAwMDAwMCwgNzkuMDAwMDAwKSI+CiAgICAgICAgICAgICAgICA8cG9seWdvbiBpZD0iUGF0aC0yMCIgZmlsbD0iIzAyNjVCNCIgcG9pbnRzPSIyLjM3NjIzNzYyIDgwIDM4LjA0NzY2NjcgODAgNTcuODIxNzgyMiA3My44MDU3NTkyIDU3LjgyMTc4MjIgMzIuNzU5MjczOSAzOS4xNDAyMjc4IDMxLjY4MzE2ODMiPjwvcG9seWdvbj4KICAgICAgICAgICAgICAgIDxwYXRoIGQ9Ik0zNS4wMDc3MTgsODAgQzQyLjkwNjIwMDcsNzYuNDU0OTM1OCA0Ny41NjQ5MTY3LDcxLjU0MjI2NzEgNDguOTgzODY2LDY1LjI2MTk5MzkgQzUxLjExMjI4OTksNTUuODQxNTg0MiA0MS42NzcxNzk1LDQ5LjIxMjIyODQgMjUuNjIzOTg0Niw0OS4yMTIyMjg0IEMyNS40ODQ5Mjg5LDQ5LjEyNjg0NDggMjkuODI2MTI5Niw0My4yODM4MjQ4IDM4LjY0NzU4NjksMzEuNjgzMTY4MyBMNzIuODcxMjg3MSwzMi41NTQ0MjUgTDY1LjI4MDk3Myw2Ny42NzYzNDIxIEw1MS4xMTIyODk5LDc3LjM3NjE0NCBMMzUuMDA3NzE4LDgwIFoiIGlkPSJQYXRoLTIyIiBmaWxsPSIjMDAyODY4Ij48L3BhdGg+CiAgICAgICAgICAgICAgICA8cGF0aCBkPSJNMCwzNy43MzA0NDA1IEwyNy4xMTQ1MzcsMC4yNTcxMTE0MzYgQzYyLjM3MTUxMjMsLTEuOTkwNzE3MDEgODAsMTAuNTAwMzkyNyA4MCwzNy43MzA0NDA1IEM4MCw2NC45NjA0ODgyIDY0Ljc3NjUwMzgsNzkuMDUwMzQxNCAzNC4zMjk1MTEzLDgwIEM0Ny4wNTUzNDg5LDc3LjU2NzA4MDggNTMuNDE4MjY3Nyw3MC4zMTM2MTAzIDUzLjQxODI2NzcsNTguMjM5NTg4NSBDNTMuNDE4MjY3Nyw0MC4xMjg1NTU3IDM2LjMwMzk1NDQsMzcuNzMwNDQwNSAyNS4yMjc0MTcsMzcuNzMwNDQwNSBDMTcuODQzMDU4NiwzNy43MzA0NDA1IDkuNDMzOTE5NjYsMzcuNzMwNDQwNSAwLDM3LjczMDQ0MDUgWiIgaWQ9IlBhdGgtMTkiIGZpbGw9IiMzNzkzRUYiPjwvcGF0aD4KICAgICAgICAgICAgPC9nPgogICAgICAgIDwvZz4KICAgIDwvZz4KPC9zdmc+' > </img>\nCreated in <span style='font-weight:600;margin-left:4px;'>Deepnote</span></a>",
   "metadata": {
    "tags": [],
    "created_in_deepnote_cell": true,
    "deepnote_cell_type": "markdown"
   }
  }
 ],
 "nbformat": 4,
 "nbformat_minor": 2,
 "metadata": {
  "orig_nbformat": 2,
  "deepnote": {},
  "deepnote_notebook_id": "c214f6da-d8d6-427a-a9af-f87fe29524d7",
  "deepnote_execution_queue": []
 }
}