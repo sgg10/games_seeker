{
 "cells": [
  {
   "cell_type": "code",
   "metadata": {
    "tags": [],
    "cell_id": "bec537b5-e2d0-4240-b398-46db94772d6b",
    "deepnote_to_be_reexecuted": false,
    "source_hash": "7a2cc4a0",
    "execution_start": 1651097801791,
    "is_output_hidden": true,
    "execution_millis": 8510,
    "deepnote_cell_type": "code",
    "deepnote_cell_height": 309.796875
   },
   "source": "import yake\nimport nltk\nnltk.download(\"book\")\nnltk.download(\"omw\")\nnltk.download(\"wordnet\")\nnltk.download('omw-1.4')\nnltk.download('averaged_perceptron_tagger')\nfrom nltk.book import *\nfrom nltk.corpus import stopwords\nfrom nltk.corpus import wordnet as wn\nimport networkx as nx\nimport matplotlib.pyplot as plt",
   "outputs": [
    {
     "name": "stderr",
     "text": "[nltk_data] Downloading collection 'book'\n[nltk_data]    | \n[nltk_data]    | Downloading package abc to /root/nltk_data...\n[nltk_data]    |   Package abc is already up-to-date!\n[nltk_data]    | Downloading package brown to /root/nltk_data...\n[nltk_data]    |   Package brown is already up-to-date!\n[nltk_data]    | Downloading package chat80 to /root/nltk_data...\n[nltk_data]    |   Package chat80 is already up-to-date!\n[nltk_data]    | Downloading package cmudict to /root/nltk_data...\n[nltk_data]    |   Package cmudict is already up-to-date!\n[nltk_data]    | Downloading package conll2000 to /root/nltk_data...\n[nltk_data]    |   Package conll2000 is already up-to-date!\n[nltk_data]    | Downloading package conll2002 to /root/nltk_data...\n[nltk_data]    |   Package conll2002 is already up-to-date!\n[nltk_data]    | Downloading package dependency_treebank to\n[nltk_data]    |     /root/nltk_data...\n[nltk_data]    |   Package dependency_treebank is already up-to-date!\n[nltk_data]    | Downloading package genesis to /root/nltk_data...\n[nltk_data]    |   Package genesis is already up-to-date!\n[nltk_data]    | Downloading package gutenberg to /root/nltk_data...\n[nltk_data]    |   Package gutenberg is already up-to-date!\n[nltk_data]    | Downloading package ieer to /root/nltk_data...\n[nltk_data]    |   Package ieer is already up-to-date!\n[nltk_data]    | Downloading package inaugural to /root/nltk_data...\n[nltk_data]    |   Package inaugural is already up-to-date!\n[nltk_data]    | Downloading package movie_reviews to\n[nltk_data]    |     /root/nltk_data...\n[nltk_data]    |   Package movie_reviews is already up-to-date!\n[nltk_data]    | Downloading package nps_chat to /root/nltk_data...\n[nltk_data]    |   Package nps_chat is already up-to-date!\n[nltk_data]    | Downloading package names to /root/nltk_data...\n[nltk_data]    |   Package names is already up-to-date!\n[nltk_data]    | Downloading package ppattach to /root/nltk_data...\n[nltk_data]    |   Package ppattach is already up-to-date!\n[nltk_data]    | Downloading package reuters to /root/nltk_data...\n[nltk_data]    |   Package reuters is already up-to-date!\n[nltk_data]    | Downloading package senseval to /root/nltk_data...\n[nltk_data]    |   Package senseval is already up-to-date!\n[nltk_data]    | Downloading package state_union to /root/nltk_data...\n[nltk_data]    |   Package state_union is already up-to-date!\n[nltk_data]    | Downloading package stopwords to /root/nltk_data...\n[nltk_data]    |   Package stopwords is already up-to-date!\n[nltk_data]    | Downloading package swadesh to /root/nltk_data...\n[nltk_data]    |   Package swadesh is already up-to-date!\n[nltk_data]    | Downloading package timit to /root/nltk_data...\n[nltk_data]    |   Package timit is already up-to-date!\n[nltk_data]    | Downloading package treebank to /root/nltk_data...\n[nltk_data]    |   Package treebank is already up-to-date!\n[nltk_data]    | Downloading package toolbox to /root/nltk_data...\n[nltk_data]    |   Package toolbox is already up-to-date!\n[nltk_data]    | Downloading package udhr to /root/nltk_data...\n[nltk_data]    |   Package udhr is already up-to-date!\n[nltk_data]    | Downloading package udhr2 to /root/nltk_data...\n[nltk_data]    |   Package udhr2 is already up-to-date!\n[nltk_data]    | Downloading package unicode_samples to\n[nltk_data]    |     /root/nltk_data...\n[nltk_data]    |   Package unicode_samples is already up-to-date!\n[nltk_data]    | Downloading package webtext to /root/nltk_data...\n[nltk_data]    |   Package webtext is already up-to-date!\n[nltk_data]    | Downloading package wordnet to /root/nltk_data...\n[nltk_data]    |   Package wordnet is already up-to-date!\n[nltk_data]    | Downloading package wordnet_ic to /root/nltk_data...\n[nltk_data]    |   Package wordnet_ic is already up-to-date!\n[nltk_data]    | Downloading package words to /root/nltk_data...\n[nltk_data]    |   Package words is already up-to-date!\n[nltk_data]    | Downloading package maxent_treebank_pos_tagger to\n[nltk_data]    |     /root/nltk_data...\n[nltk_data]    |   Package maxent_treebank_pos_tagger is already up-\n[nltk_data]    |       to-date!\n[nltk_data]    | Downloading package maxent_ne_chunker to\n[nltk_data]    |     /root/nltk_data...\n[nltk_data]    |   Package maxent_ne_chunker is already up-to-date!\n[nltk_data]    | Downloading package universal_tagset to\n[nltk_data]    |     /root/nltk_data...\n[nltk_data]    |   Package universal_tagset is already up-to-date!\n[nltk_data]    | Downloading package punkt to /root/nltk_data...\n[nltk_data]    |   Package punkt is already up-to-date!\n[nltk_data]    | Downloading package book_grammars to\n[nltk_data]    |     /root/nltk_data...\n[nltk_data]    |   Package book_grammars is already up-to-date!\n[nltk_data]    | Downloading package city_database to\n[nltk_data]    |     /root/nltk_data...\n[nltk_data]    |   Package city_database is already up-to-date!\n[nltk_data]    | Downloading package tagsets to /root/nltk_data...\n[nltk_data]    |   Package tagsets is already up-to-date!\n[nltk_data]    | Downloading package panlex_swadesh to\n[nltk_data]    |     /root/nltk_data...\n[nltk_data]    |   Package panlex_swadesh is already up-to-date!\n[nltk_data]    | Downloading package averaged_perceptron_tagger to\n[nltk_data]    |     /root/nltk_data...\n[nltk_data]    |   Package averaged_perceptron_tagger is already up-\n[nltk_data]    |       to-date!\n[nltk_data]    | \n[nltk_data]  Done downloading collection book\n[nltk_data] Downloading package omw to /root/nltk_data...\n[nltk_data]   Package omw is already up-to-date!\n[nltk_data] Downloading package wordnet to /root/nltk_data...\n[nltk_data]   Package wordnet is already up-to-date!\n[nltk_data] Downloading package omw-1.4 to /root/nltk_data...\n[nltk_data]   Package omw-1.4 is already up-to-date!\n[nltk_data] Downloading package averaged_perceptron_tagger to\n[nltk_data]     /root/nltk_data...\n[nltk_data]   Package averaged_perceptron_tagger is already up-to-\n[nltk_data]       date!\n*** Introductory Examples for the NLTK Book ***\nLoading text1, ..., text9 and sent1, ..., sent9\nType the name of the text or sentence to view it.\nType: 'texts()' or 'sents()' to list the materials.\ntext1: Moby Dick by Herman Melville 1851\ntext2: Sense and Sensibility by Jane Austen 1811\ntext3: The Book of Genesis\ntext4: Inaugural Address Corpus\ntext5: Chat Corpus\ntext6: Monty Python and the Holy Grail\ntext7: Wall Street Journal\ntext8: Personals Corpus\ntext9: The Man Who Was Thursday by G . K . Chesterton 1908\n",
     "output_type": "stream"
    }
   ],
   "execution_count": null
  },
  {
   "cell_type": "markdown",
   "source": "# Funciones",
   "metadata": {
    "cell_id": "0d2f5921e38e44f7a5f6d435e87d0931",
    "tags": [],
    "is_collapsed": false,
    "deepnote_cell_type": "text-cell-h1"
   }
  },
  {
   "cell_type": "code",
   "source": "def create_extractor(lang='en', max_ngram=1,deduplication_threshold=0.9, numOfKeywords=10):\n    return yake.KeywordExtractor(\n        lan=lang,\n        n=max_ngram,\n        dedupLim=deduplication_threshold,\n        top=numOfKeywords,\n        features=None\n    )\n\ndef get_keywords(text, extractor=create_extractor()):\n    keywords = extractor.extract_keywords(text)\n    words = set(map(lambda x: x[0], keywords))\n    return keywords, words",
   "metadata": {
    "cell_id": "7107a7561b034c30b5d9d7fe90479228",
    "tags": [],
    "deepnote_to_be_reexecuted": false,
    "source_hash": "4be74400",
    "execution_start": 1651098590396,
    "execution_millis": 2,
    "deepnote_cell_type": "code",
    "deepnote_cell_height": 297
   },
   "outputs": [],
   "execution_count": null
  },
  {
   "cell_type": "markdown",
   "source": "# Simulación de las habilidades del agente",
   "metadata": {
    "cell_id": "e25c0475ae0241b7a06414e9223c2b60",
    "tags": [],
    "is_collapsed": false,
    "deepnote_cell_type": "text-cell-h1"
   }
  },
  {
   "cell_type": "code",
   "source": "def builder():\n    print(\"Contruyendo un nuevo computador...\")\n\ndef can_run_game():\n    print(\"Validando si es posible correr juegos...\")\n\ndef classifier():\n    print(\"Clasificando computador...\")\n\ndef improver():\n    print(\"Mejorando el computador...\")",
   "metadata": {
    "cell_id": "868c61cbc90a47118a886af6f11202a3",
    "tags": [],
    "deepnote_to_be_reexecuted": false,
    "source_hash": "6915451",
    "execution_start": 1651098123667,
    "execution_millis": 2,
    "deepnote_cell_type": "code",
    "deepnote_cell_height": 261
   },
   "outputs": [],
   "execution_count": null
  },
  {
   "cell_type": "markdown",
   "source": "# Identificador de comandos",
   "metadata": {
    "cell_id": "04af8c80b9fe48d8989fcd56d6c9aac3",
    "tags": [],
    "is_collapsed": false,
    "deepnote_cell_type": "text-cell-h1"
   }
  },
  {
   "cell_type": "code",
   "source": "ss = {\n    \"builder\": [\n        wn.synsets(\"Armar\", lang=\"spa\"),\n        wn.synsets(\"Comprar\", lang=\"spa\"),\n    ],\n    \"run\": [\n        wn.synsets(\"ejecutar\", lang=\"spa\"),\n        wn.synsets(\"Jugar\", lang=\"spa\"),\n    ],\n    \"improver\": [\n        wn.synsets(\"Mejorar\", lang=\"spa\"),\n        wn.synsets(\"Arreglar\", lang=\"spa\"),\n        wn.synsets(\"Ajustar\", lang=\"spa\"),\n        wn.synsets(\"Actualizar\", lang=\"spa\"),\n    ],\n    \"classifier\": [\n        wn.synsets(\"Clasificar\", lang=\"spa\"),\n        wn.synsets(\"Categorizar\", lang=\"spa\"),\n        wn.synsets(\"Evaluar\", lang=\"spa\"),\n    ],\n}",
   "metadata": {
    "cell_id": "63d4b5ef86f44a6db557628e8e5d8d12",
    "tags": [],
    "deepnote_to_be_reexecuted": false,
    "source_hash": "58d5813c",
    "execution_start": 1651099619260,
    "execution_millis": 1,
    "deepnote_cell_type": "code",
    "deepnote_cell_height": 441
   },
   "outputs": [],
   "execution_count": null
  },
  {
   "cell_type": "code",
   "source": "associated_keywords = {\n    \"builder\": set([name for _ss in ss[\"builder\"] for syn in _ss for name in syn.lemma_names() if \"_\" not in name]) | set([\"build\"]),\n    \"can_run_game\": set([name for _ss in ss[\"run\"] for syn in _ss for name in syn.lemma_names() if \"_\" not in name]) | set([\"run\"]),\n    \"improver\": set([name for _ss in ss[\"improver\"] for syn in _ss for name in syn.lemma_names() if \"_\" not in name]) | set([\"improve\"]),\n    \"classifier\": set([name for _ss in ss[\"classifier\"] for syn in _ss for name in syn.lemma_names() if \"_\" not in name]) | set([\"classify\"]),\n}",
   "metadata": {
    "cell_id": "e3a9cfc8f2034c70841ebc8c11d1cdd7",
    "tags": [],
    "deepnote_to_be_reexecuted": false,
    "source_hash": "d8d79546",
    "execution_start": 1651099829087,
    "execution_millis": 1,
    "deepnote_cell_type": "code",
    "deepnote_cell_height": 171,
    "deepnote_output_heights": [
     328.1875
    ]
   },
   "outputs": [],
   "execution_count": null
  },
  {
   "cell_type": "code",
   "source": "def get_action():\n    tries = 3\n    while tries != 0:\n        text = input(\"What do you do? \").lower()\n        _, words = get_keywords(text)\n        for function, associated in associated_keywords.items():\n            diff = words & associated\n            if diff:\n                return eval(function)\n        print(\"Can you be more clear?\")\n        tries -= 1\n    return lambda: print(\"Sorry, I couldn't process your request\")\n    ",
   "metadata": {
    "cell_id": "68f3e29087e84fb8bc5442a600273d66",
    "tags": [],
    "deepnote_to_be_reexecuted": false,
    "source_hash": "3eddfe0d",
    "execution_start": 1651099044684,
    "execution_millis": 1,
    "deepnote_cell_type": "code",
    "deepnote_cell_height": 297
   },
   "outputs": [],
   "execution_count": null
  },
  {
   "cell_type": "markdown",
   "source": "# Ejecución",
   "metadata": {
    "cell_id": "8f5f308c9c0c4d7281acd0eb42df0947",
    "tags": [],
    "is_collapsed": false,
    "deepnote_cell_type": "text-cell-h1"
   }
  },
  {
   "cell_type": "code",
   "source": "get_action()()",
   "metadata": {
    "cell_id": "3d525632f4ee43e38951e0bec1dc6cf8",
    "tags": [],
    "deepnote_to_be_reexecuted": false,
    "source_hash": "5c6da5a1",
    "execution_start": 1651099853109,
    "execution_millis": 9912,
    "deepnote_cell_type": "code",
    "deepnote_cell_height": 112.1875,
    "deepnote_output_heights": [
     21.1875,
     21.1875
    ]
   },
   "outputs": [
    {
     "name": "stdout",
     "text": "Contruyendo un nuevo computador...\n",
     "output_type": "stream"
    }
   ],
   "execution_count": null
  },
  {
   "cell_type": "code",
   "source": "",
   "metadata": {
    "cell_id": "9a9281cd46864841b11c13d35b80a103",
    "tags": [],
    "owner_user_id": "62e199ca-01f6-4bbc-8362-fc86c29586af",
    "deepnote_cell_type": "code",
    "deepnote_cell_height": 66
   },
   "outputs": [],
   "execution_count": null
  },
  {
   "cell_type": "markdown",
   "source": "<a style='text-decoration:none;line-height:16px;display:flex;color:#5B5B62;padding:10px;justify-content:end;' href='https://deepnote.com?utm_source=created-in-deepnote-cell&projectId=07e29549-6cbf-4e88-b69c-0fc48f2d6023' target=\"_blank\">\n<img alt='Created in deepnote.com' style='display:inline;max-height:16px;margin:0px;margin-right:7.5px;' src='data:image/svg+xml;base64,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' > </img>\nCreated in <span style='font-weight:600;margin-left:4px;'>Deepnote</span></a>",
   "metadata": {
    "tags": [],
    "created_in_deepnote_cell": true,
    "deepnote_cell_type": "markdown"
   }
  }
 ],
 "nbformat": 4,
 "nbformat_minor": 2,
 "metadata": {
  "orig_nbformat": 2,
  "deepnote": {},
  "deepnote_notebook_id": "1a976cd0-b00c-4641-90fd-6af24ff933a9",
  "deepnote_execution_queue": []
 }
}