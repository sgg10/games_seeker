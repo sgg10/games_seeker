{
 "cells": [
  {
   "cell_type": "code",
   "metadata": {
    "cell_id": "93781999-53dc-4f2c-85c8-fad586d46e0d",
    "tags": [],
    "deepnote_to_be_reexecuted": false,
    "source_hash": "ae0cc045",
    "execution_start": 1647211362555,
    "execution_millis": 7,
    "deepnote_cell_type": "code",
    "deepnote_cell_height": 135
   },
   "source": "import ast\nimport pandas as pd\nimport pytholog as pl\nimport numpy as np",
   "outputs": [],
   "execution_count": null
  },
  {
   "cell_type": "markdown",
   "source": "# Lectura de archivos",
   "metadata": {
    "cell_id": "7df15eae-5fa1-4c48-b7f8-68fa1c270962",
    "tags": [],
    "is_collapsed": false,
    "deepnote_cell_type": "text-cell-h1",
    "deepnote_cell_height": 82
   }
  },
  {
   "cell_type": "code",
   "metadata": {
    "cell_id": "a4feaab4-949e-4a02-9ab8-29e2f9329c83",
    "tags": [],
    "deepnote_to_be_reexecuted": false,
    "source_hash": "d6194a6",
    "execution_start": 1647211362609,
    "execution_millis": 1,
    "deepnote_cell_type": "code",
    "deepnote_cell_height": 81
   },
   "source": "df = pd.read_csv(\"/work/games_seeker/data/interim/games_requirements.csv\", sep=\"|\")",
   "outputs": [],
   "execution_count": null
  },
  {
   "cell_type": "code",
   "metadata": {
    "cell_id": "8db4b157-8e88-4a75-a273-fa88370c463e",
    "tags": [],
    "deepnote_to_be_reexecuted": false,
    "source_hash": "a344bcff",
    "execution_start": 1647211362610,
    "execution_millis": 1,
    "deepnote_cell_type": "code",
    "deepnote_cell_height": 99
   },
   "source": "df.loc[:, \"Procesador\"] = df.loc[:, \"Procesador\"].apply(lambda x: ast.literal_eval(x))\ndf.loc[:, \"Gráficos\"] = df.loc[:, \"Gráficos\"].apply(lambda x: ast.literal_eval(x))",
   "outputs": [],
   "execution_count": null
  },
  {
   "cell_type": "code",
   "metadata": {
    "cell_id": "d34336c8-aa4f-43af-9f24-216f1b5b565a",
    "tags": [],
    "deepnote_to_be_reexecuted": false,
    "source_hash": "f804c160",
    "execution_start": 1647211362611,
    "execution_millis": 31,
    "deepnote_table_state": {
     "pageSize": 10,
     "pageIndex": 0,
     "filters": [],
     "sortBy": [
      {
       "id": "Memoria",
       "type": "desc"
      }
     ]
    },
    "deepnote_table_loading": false,
    "deepnote_cell_type": "code",
    "deepnote_cell_height": 630
   },
   "source": "df",
   "outputs": [
    {
     "output_type": "execute_result",
     "execution_count": 4,
     "data": {
      "application/vnd.deepnote.dataframe.v3+json": {
       "column_count": 7,
       "row_count": 110,
       "columns": [
        {
         "name": "name",
         "dtype": "object",
         "stats": {
          "unique_count": 110,
          "nan_count": 0,
          "categories": [
           {
            "name": "Mutant Mudds: Grannie Edition",
            "count": 1
           },
           {
            "name": "Watch Dogs Legion",
            "count": 1
           },
           {
            "name": "108 others",
            "count": 108
           }
          ]
         }
        },
        {
         "name": "url",
         "dtype": "object",
         "stats": {
          "unique_count": 110,
          "nan_count": 0,
          "categories": [
           {
            "name": "https://www.3djuegos.com/14283/mutant-mudds-grannie-edition/",
            "count": 1
           },
           {
            "name": "https://www.3djuegos.com/34742/watch-dogs-legion/",
            "count": 1
           },
           {
            "name": "108 others",
            "count": 108
           }
          ]
         }
        },
        {
         "name": "Sistema operativo",
         "dtype": "int64",
         "stats": {
          "unique_count": 3,
          "nan_count": 0,
          "min": "7",
          "max": "10",
          "histogram": [
           {
            "bin_start": 7,
            "bin_end": 7.3,
            "count": 85
           },
           {
            "bin_start": 7.3,
            "bin_end": 7.6,
            "count": 0
           },
           {
            "bin_start": 7.6,
            "bin_end": 7.9,
            "count": 0
           },
           {
            "bin_start": 7.9,
            "bin_end": 8.2,
            "count": 4
           },
           {
            "bin_start": 8.2,
            "bin_end": 8.5,
            "count": 0
           },
           {
            "bin_start": 8.5,
            "bin_end": 8.8,
            "count": 0
           },
           {
            "bin_start": 8.8,
            "bin_end": 9.1,
            "count": 0
           },
           {
            "bin_start": 9.1,
            "bin_end": 9.4,
            "count": 0
           },
           {
            "bin_start": 9.4,
            "bin_end": 9.7,
            "count": 0
           },
           {
            "bin_start": 9.7,
            "bin_end": 10,
            "count": 21
           }
          ]
         }
        },
        {
         "name": "Procesador",
         "dtype": "object",
         "stats": {
          "unique_count": 110,
          "nan_count": 0,
          "categories": [
           {
            "name": "['i5', 'r5']",
            "count": 44
           },
           {
            "name": "['i5']",
            "count": 30
           },
           {
            "name": "7 others",
            "count": 36
           }
          ]
         }
        },
        {
         "name": "Memoria",
         "dtype": "int64",
         "stats": {
          "unique_count": 7,
          "nan_count": 0,
          "min": "1",
          "max": "16",
          "histogram": [
           {
            "bin_start": 1,
            "bin_end": 2.5,
            "count": 22
           },
           {
            "bin_start": 2.5,
            "bin_end": 4,
            "count": 0
           },
           {
            "bin_start": 4,
            "bin_end": 5.5,
            "count": 17
           },
           {
            "bin_start": 5.5,
            "bin_end": 7,
            "count": 13
           },
           {
            "bin_start": 7,
            "bin_end": 8.5,
            "count": 52
           },
           {
            "bin_start": 8.5,
            "bin_end": 10,
            "count": 0
           },
           {
            "bin_start": 10,
            "bin_end": 11.5,
            "count": 0
           },
           {
            "bin_start": 11.5,
            "bin_end": 13,
            "count": 3
           },
           {
            "bin_start": 13,
            "bin_end": 14.5,
            "count": 0
           },
           {
            "bin_start": 14.5,
            "bin_end": 16,
            "count": 3
           }
          ]
         }
        },
        {
         "name": "Gráficos",
         "dtype": "object",
         "stats": {
          "unique_count": 110,
          "nan_count": 0,
          "categories": [
           {
            "name": "['1050']",
            "count": 67
           },
           {
            "name": "['760']",
            "count": 4
           },
           {
            "name": "23 others",
            "count": 39
           }
          ]
         }
        },
        {
         "name": "Almacenamiento",
         "dtype": "int64",
         "stats": {
          "unique_count": 29,
          "nan_count": 0,
          "min": "1",
          "max": "150",
          "histogram": [
           {
            "bin_start": 1,
            "bin_end": 15.9,
            "count": 21
           },
           {
            "bin_start": 15.9,
            "bin_end": 30.8,
            "count": 12
           },
           {
            "bin_start": 30.8,
            "bin_end": 45.7,
            "count": 6
           },
           {
            "bin_start": 45.7,
            "bin_end": 60.6,
            "count": 12
           },
           {
            "bin_start": 60.6,
            "bin_end": 75.5,
            "count": 1
           },
           {
            "bin_start": 75.5,
            "bin_end": 90.4,
            "count": 54
           },
           {
            "bin_start": 90.4,
            "bin_end": 105.3,
            "count": 1
           },
           {
            "bin_start": 105.3,
            "bin_end": 120.2,
            "count": 2
           },
           {
            "bin_start": 120.2,
            "bin_end": 135.1,
            "count": 0
           },
           {
            "bin_start": 135.1,
            "bin_end": 150,
            "count": 1
           }
          ]
         }
        },
        {
         "name": "_deepnote_index_column",
         "dtype": "int64"
        }
       ],
       "rows": [
        {
         "name": "Mutant Mudds: Grannie Edition",
         "url": "https://www.3djuegos.com/14283/mutant-mudds-grannie-edition/",
         "Sistema operativo": 7,
         "Procesador": "['i5', 'r5']",
         "Memoria": 16,
         "Gráficos": "['1050']",
         "Almacenamiento": 80,
         "_deepnote_index_column": 87
        },
        {
         "name": "Watch Dogs Legion",
         "url": "https://www.3djuegos.com/34742/watch-dogs-legion/",
         "Sistema operativo": 10,
         "Procesador": "['i5']",
         "Memoria": 16,
         "Gráficos": "['1050']",
         "Almacenamiento": 80,
         "_deepnote_index_column": 91
        },
        {
         "name": "World of Warcraft",
         "url": "https://www.3djuegos.com/71/world-of-warcraft/",
         "Sistema operativo": 7,
         "Procesador": "['i5', 'r5']",
         "Memoria": 16,
         "Gráficos": "['1050']",
         "Almacenamiento": 80,
         "_deepnote_index_column": 65
        },
        {
         "name": "Elden Ring",
         "url": "https://www.3djuegos.com/34802/elden-ring/",
         "Sistema operativo": 10,
         "Procesador": "['i5', 'r5']",
         "Memoria": 12,
         "Gráficos": "['1060']",
         "Almacenamiento": 60,
         "_deepnote_index_column": 0
        },
        {
         "name": "Sherlock Holmes Chapter One",
         "url": "https://www.3djuegos.com/36820/sherlock-holmes-chapter-one/",
         "Sistema operativo": 10,
         "Procesador": "['i5', 'r5']",
         "Memoria": 12,
         "Gráficos": "['960']",
         "Almacenamiento": 28,
         "_deepnote_index_column": 103
        },
        {
         "name": "ELEX 2",
         "url": "https://www.3djuegos.com/39382/elex-2/",
         "Sistema operativo": 10,
         "Procesador": "['r3', 'i5']",
         "Memoria": 12,
         "Gráficos": "['1060']",
         "Almacenamiento": 45,
         "_deepnote_index_column": 2
        },
        {
         "name": "Lost Ark",
         "url": "https://www.3djuegos.com/20774/lost-ark/",
         "Sistema operativo": 10,
         "Procesador": "['i3', 'r3']",
         "Memoria": 8,
         "Gráficos": "['460']",
         "Almacenamiento": 50,
         "_deepnote_index_column": 1
        },
        {
         "name": "Monark",
         "url": "https://www.3djuegos.com/40584/monark/",
         "Sistema operativo": 8,
         "Procesador": "['i5', 'r5']",
         "Memoria": 8,
         "Gráficos": "['650']",
         "Almacenamiento": 18,
         "_deepnote_index_column": 62
        },
        {
         "name": "Prey",
         "url": "https://www.3djuegos.com/25896/prey/",
         "Sistema operativo": 7,
         "Procesador": "['i5']",
         "Memoria": 8,
         "Gráficos": "['1050']",
         "Almacenamiento": 80,
         "_deepnote_index_column": 61
        },
        {
         "name": "The King of Fighters XV",
         "url": "https://www.3djuegos.com/35163/the-king-of-fighters-xv/",
         "Sistema operativo": 7,
         "Procesador": "['i5']",
         "Memoria": 8,
         "Gráficos": "['770']",
         "Almacenamiento": 65,
         "_deepnote_index_column": 60
        }
       ]
      },
      "text/plain": "                         name  \\\n0                  Elden Ring   \n1                    Lost Ark   \n2                      ELEX 2   \n3                    Infernax   \n4              Babylon's Fall   \n..                        ...   \n105  Battlezone: Gold Edition   \n106                  Bad Bots   \n107              DOOM Eternal   \n108                Weird Hero   \n109              Chernobylite   \n\n                                                   url  Sistema operativo  \\\n0           https://www.3djuegos.com/34802/elden-ring/                 10   \n1             https://www.3djuegos.com/20774/lost-ark/                 10   \n2               https://www.3djuegos.com/39382/elex-2/                 10   \n3             https://www.3djuegos.com/40542/infernax/                  7   \n4        https://www.3djuegos.com/32561/babylons-fall/                 10   \n..                                                 ...                ...   \n105  https://www.3djuegos.com/32087/battlezone-gold...                  7   \n106           https://www.3djuegos.com/16265/bad-bots/                  7   \n107       https://www.3djuegos.com/32535/doom-eternal/                  7   \n108         https://www.3djuegos.com/27728/weird-hero/                  7   \n109       https://www.3djuegos.com/32174/chernobylite/                  7   \n\n           Procesador  Memoria            Gráficos  Almacenamiento  \n0            [i5, r5]       12              [1060]              60  \n1            [i3, r3]        8               [460]              50  \n2            [r3, i5]       12              [1060]              45  \n3                [i3]        4               [320]               1  \n4    [i5, i5, r3, r5]        8              [1050]              20  \n..                ...      ...                 ...             ...  \n105              [i5]        8               [970]              80  \n106          [i5, r5]        1              [1050]              80  \n107          [i5, r3]        8  [1050, 1060, 1650]              50  \n108          [i5, r5]        4               [720]               1  \n109              [i5]        8         [760, 1050]              45  \n\n[110 rows x 7 columns]",
      "text/html": "<div>\n<style scoped>\n    .dataframe tbody tr th:only-of-type {\n        vertical-align: middle;\n    }\n\n    .dataframe tbody tr th {\n        vertical-align: top;\n    }\n\n    .dataframe thead th {\n        text-align: right;\n    }\n</style>\n<table border=\"1\" class=\"dataframe\">\n  <thead>\n    <tr style=\"text-align: right;\">\n      <th></th>\n      <th>name</th>\n      <th>url</th>\n      <th>Sistema operativo</th>\n      <th>Procesador</th>\n      <th>Memoria</th>\n      <th>Gráficos</th>\n      <th>Almacenamiento</th>\n    </tr>\n  </thead>\n  <tbody>\n    <tr>\n      <th>0</th>\n      <td>Elden Ring</td>\n      <td>https://www.3djuegos.com/34802/elden-ring/</td>\n      <td>10</td>\n      <td>[i5, r5]</td>\n      <td>12</td>\n      <td>[1060]</td>\n      <td>60</td>\n    </tr>\n    <tr>\n      <th>1</th>\n      <td>Lost Ark</td>\n      <td>https://www.3djuegos.com/20774/lost-ark/</td>\n      <td>10</td>\n      <td>[i3, r3]</td>\n      <td>8</td>\n      <td>[460]</td>\n      <td>50</td>\n    </tr>\n    <tr>\n      <th>2</th>\n      <td>ELEX 2</td>\n      <td>https://www.3djuegos.com/39382/elex-2/</td>\n      <td>10</td>\n      <td>[r3, i5]</td>\n      <td>12</td>\n      <td>[1060]</td>\n      <td>45</td>\n    </tr>\n    <tr>\n      <th>3</th>\n      <td>Infernax</td>\n      <td>https://www.3djuegos.com/40542/infernax/</td>\n      <td>7</td>\n      <td>[i3]</td>\n      <td>4</td>\n      <td>[320]</td>\n      <td>1</td>\n    </tr>\n    <tr>\n      <th>4</th>\n      <td>Babylon's Fall</td>\n      <td>https://www.3djuegos.com/32561/babylons-fall/</td>\n      <td>10</td>\n      <td>[i5, i5, r3, r5]</td>\n      <td>8</td>\n      <td>[1050]</td>\n      <td>20</td>\n    </tr>\n    <tr>\n      <th>...</th>\n      <td>...</td>\n      <td>...</td>\n      <td>...</td>\n      <td>...</td>\n      <td>...</td>\n      <td>...</td>\n      <td>...</td>\n    </tr>\n    <tr>\n      <th>105</th>\n      <td>Battlezone: Gold Edition</td>\n      <td>https://www.3djuegos.com/32087/battlezone-gold...</td>\n      <td>7</td>\n      <td>[i5]</td>\n      <td>8</td>\n      <td>[970]</td>\n      <td>80</td>\n    </tr>\n    <tr>\n      <th>106</th>\n      <td>Bad Bots</td>\n      <td>https://www.3djuegos.com/16265/bad-bots/</td>\n      <td>7</td>\n      <td>[i5, r5]</td>\n      <td>1</td>\n      <td>[1050]</td>\n      <td>80</td>\n    </tr>\n    <tr>\n      <th>107</th>\n      <td>DOOM Eternal</td>\n      <td>https://www.3djuegos.com/32535/doom-eternal/</td>\n      <td>7</td>\n      <td>[i5, r3]</td>\n      <td>8</td>\n      <td>[1050, 1060, 1650]</td>\n      <td>50</td>\n    </tr>\n    <tr>\n      <th>108</th>\n      <td>Weird Hero</td>\n      <td>https://www.3djuegos.com/27728/weird-hero/</td>\n      <td>7</td>\n      <td>[i5, r5]</td>\n      <td>4</td>\n      <td>[720]</td>\n      <td>1</td>\n    </tr>\n    <tr>\n      <th>109</th>\n      <td>Chernobylite</td>\n      <td>https://www.3djuegos.com/32174/chernobylite/</td>\n      <td>7</td>\n      <td>[i5]</td>\n      <td>8</td>\n      <td>[760, 1050]</td>\n      <td>45</td>\n    </tr>\n  </tbody>\n</table>\n<p>110 rows × 7 columns</p>\n</div>"
     },
     "metadata": {}
    }
   ],
   "execution_count": null
  },
  {
   "cell_type": "markdown",
   "source": "# Lógica",
   "metadata": {
    "cell_id": "b0fc79f3-edde-487b-9108-50f77da9954c",
    "tags": [],
    "is_collapsed": false,
    "deepnote_cell_type": "text-cell-h1",
    "deepnote_cell_height": 82
   }
  },
  {
   "cell_type": "code",
   "source": "[\n    f\"superioridad({marca}{n_s}, {marca}{n_i})\"\n    for marca in [\"i\", \"r\"]\n    for n_s in range(9,2, -2)\n    for n_i in range(3, 10, 2)\n    if n_s > n_i\n]\n# for marca in [\"i\", \"r\"]:\n#     for n_s in range(9,2, -2):\n#         for n_i in range(3, 10, 2):\n#             if n_s > n_i:\n#                 print(f\"superioridad({marca}{n_s}, {marca}{n_i})\")\n",
   "metadata": {
    "cell_id": "608c32d5-4c80-46ba-b4b7-847c5e953d19",
    "tags": [],
    "deepnote_to_be_reexecuted": false,
    "source_hash": "ce02aaad",
    "execution_start": 1647211362631,
    "execution_millis": 11,
    "deepnote_cell_type": "code",
    "deepnote_cell_height": 545.25,
    "deepnote_output_heights": [
     232.25
    ]
   },
   "outputs": [
    {
     "output_type": "execute_result",
     "execution_count": 5,
     "data": {
      "text/plain": "['superioridad(i9, i3)',\n 'superioridad(i9, i5)',\n 'superioridad(i9, i7)',\n 'superioridad(i7, i3)',\n 'superioridad(i7, i5)',\n 'superioridad(i5, i3)',\n 'superioridad(r9, r3)',\n 'superioridad(r9, r5)',\n 'superioridad(r9, r7)',\n 'superioridad(r7, r3)',\n 'superioridad(r7, r5)',\n 'superioridad(r5, r3)']"
     },
     "metadata": {}
    }
   ],
   "execution_count": null
  },
  {
   "cell_type": "code",
   "source": "list(range(9, 2, -2))",
   "metadata": {
    "cell_id": "33d53ce2-fc2d-4f4c-892d-061705144725",
    "tags": [],
    "deepnote_to_be_reexecuted": false,
    "source_hash": "48667832",
    "execution_start": 1647211362666,
    "execution_millis": 4,
    "deepnote_cell_type": "code",
    "deepnote_cell_height": 118.1875,
    "deepnote_output_heights": [
     21.1875
    ]
   },
   "outputs": [
    {
     "output_type": "execute_result",
     "execution_count": 6,
     "data": {
      "text/plain": "[9, 7, 5, 3]"
     },
     "metadata": {}
    }
   ],
   "execution_count": null
  },
  {
   "cell_type": "code",
   "metadata": {
    "cell_id": "fe321533-5122-42a7-aa05-423dde8b4c96",
    "tags": [],
    "deepnote_to_be_reexecuted": false,
    "source_hash": "c92192cb",
    "execution_start": 1647211362667,
    "execution_millis": 1,
    "deepnote_cell_type": "code",
    "deepnote_cell_height": 945,
    "deepnote_output_heights": [
     78.75
    ]
   },
   "source": "def base_conocimiento(data):\n    games_kb = pl.KnowledgeBase(\"games\")\n    facts = []\n\n    # Equivalencia  \n    tmp = [f\"equivale(i{n},r{n})\" for n in range(3,10,2)]\n    tmp += [f\"equivale({marca}{n},{marca}{n})\" for marca in [\"i\", \"r\"] for n in range(3,10,2)]\n    tmp += [f\"equivale({marca}{n},{marca}{n})\" for marca in [\"r\", \"i\"] for n in range(3,10,2)]\n\n    facts += list(set(tmp))\n\n    # Superioridad\n    tmp = [\n        f\"superioridad({marca}{n_s},{marca}{n_i})\"\n        for marca in [\"i\", \"r\"]\n        for n_s in range(9,2, -2)\n        for n_i in range(3, 10, 2)\n        if n_s > n_i\n    ]\n\n    facts += list(set(tmp))\n\n    # Requisitos minimos\n    for game in df.values:\n        tmp = []\n        for cpu in game[3]:\n            for gpu in game[5]:\n                tmp.append(f\"requerimiento({game[0]},{game[2]},{cpu},{game[4]},{gpu},{game[6]})\")\n        facts += list(set(tmp))\n\n    \n    # Reglas\n    facts.append(\"valSO(X,Y) :- X >= Y\")\n    facts.append(\"valRAM(X,Y) :- X >= Y\")\n    facts.append(\"valStorage(X,Y) :- X >= Y\")\n    facts.append(\"valGPU(X,Y) :- X >= Y\")\n    \n    facts.append(\"superior(X,Y) :- equivale(Y,Z),superioridad(X,Z);superioridad(X,Z)\")\n    # facts.append(\"puede_jugar(A,B,C,X,Y,Z) :- requerimiento(A,B,C,X,Y,Z)\")\n    #facts.append(\"puede_jugar(A,B,C,X,Y,Z,B1,C1) :- requerimiento(A,B,C,X,Y,Z);valSO(B,B1),superior(C,C1)\")\n    # facts.append(\"puede_jugar(A,B,C,X,Y,Z,B1,C1,X1,Y1,Z1) :- requerimiento(A,B,C,X,Y,Z);valSO(B,B1), equivale(C,C1), valRAM(X,X1), valGPU(Y,Y1), valStorage(Z, Z1)\")\n    facts.append(\"puede_jugar(NAME,B,C,X,Y,Z) :- requerimiento(NAME,SO,CPU,RAM,GPU,STO)\")\n    facts.append(\"puede_jugar(SO,I_SO,CPU,I_CPU,RAM,I_RAM,GPU,I_GPU,STO,I_STO) :- valSO(SO,I_SO),equivale(CPU,I_CPU),valRAM(RAM,I_RAM),valGPU(GPU,I_GPU),valStorage(STO,I_STO)\")\n    facts.append(\"puede_jugar(SO,I_SO,CPU,I_CPU,RAM,I_RAM,GPU,I_GPU,STO,I_STO) :- valSO(SO,I_SO),superior(CPU,I_CPU),valRAM(RAM,I_RAM),valGPU(GPU,I_GPU),valStorage(STO,I_STO)\")\n\n    games_kb(facts)\n\n    return facts, games_kb\n",
   "outputs": [],
   "execution_count": null
  },
  {
   "cell_type": "code",
   "metadata": {
    "cell_id": "ce965970-4145-45ba-acec-3cd69bf30363",
    "tags": [],
    "deepnote_to_be_reexecuted": false,
    "source_hash": "f4bbc46b",
    "execution_start": 1647211362668,
    "execution_millis": 3,
    "deepnote_cell_type": "code",
    "deepnote_cell_height": 81
   },
   "source": "facts, games_kb = base_conocimiento(df)",
   "outputs": [],
   "execution_count": null
  },
  {
   "cell_type": "code",
   "metadata": {
    "cell_id": "9bbb3aac-7c9e-401a-ac5b-021fb9295e4c",
    "tags": [],
    "deepnote_to_be_reexecuted": false,
    "source_hash": "d99d763c",
    "execution_start": 1647211362673,
    "execution_millis": 7,
    "deepnote_cell_type": "code",
    "deepnote_cell_height": 118.1875,
    "deepnote_output_heights": [
     21.1875
    ]
   },
   "source": "games_kb.query(pl.Expr(\"equivale(r9,r9)\"))",
   "outputs": [
    {
     "output_type": "execute_result",
     "execution_count": 9,
     "data": {
      "text/plain": "['Yes']"
     },
     "metadata": {}
    }
   ],
   "execution_count": null
  },
  {
   "cell_type": "code",
   "source": "games_kb.query(pl.Expr(\"puede_jugar(Elden Ring,10,i5,12,1060,60)\"))\ngames_kb.query(pl.Expr(\"puede_jugar(11,10,i9,i3,32,16,1650,1050,190,120)\"))",
   "metadata": {
    "cell_id": "acb6c5ee-9667-4aac-aabb-13e4ca43853c",
    "tags": [],
    "deepnote_to_be_reexecuted": false,
    "source_hash": "1b43fd82",
    "execution_start": 1647211362699,
    "execution_millis": 6,
    "deepnote_cell_type": "code",
    "deepnote_cell_height": 136.1875,
    "deepnote_output_heights": [
     21.1875
    ]
   },
   "outputs": [
    {
     "output_type": "execute_result",
     "execution_count": 11,
     "data": {
      "text/plain": "['Yes']"
     },
     "metadata": {}
    }
   ],
   "execution_count": null
  },
  {
   "cell_type": "code",
   "source": "games_kb.query(pl.Expr(\"requerimiento(Elden Ring,B,C,D,E,F,E)\"))",
   "metadata": {
    "cell_id": "c238df15-ff4b-42ab-bbed-225a30cb9e16",
    "tags": [],
    "deepnote_to_be_reexecuted": false,
    "source_hash": "580497c8",
    "execution_start": 1647211362707,
    "execution_millis": 4,
    "deepnote_cell_type": "code",
    "deepnote_cell_height": 118.1875,
    "deepnote_output_heights": [
     21.1875
    ]
   },
   "outputs": [
    {
     "output_type": "execute_result",
     "execution_count": 12,
     "data": {
      "text/plain": "['No']"
     },
     "metadata": {}
    }
   ],
   "execution_count": null
  },
  {
   "cell_type": "code",
   "source": "games_kb.query(pl.Expr(\"valSO(5,5)\"))",
   "metadata": {
    "cell_id": "91a9d3da-fa5f-4104-8d9b-2b0854197738",
    "tags": [],
    "deepnote_to_be_reexecuted": false,
    "source_hash": "7d15e61e",
    "execution_start": 1647211362765,
    "execution_millis": 15,
    "deepnote_cell_type": "code",
    "deepnote_cell_height": 118.1875,
    "deepnote_output_heights": [
     21.1875
    ]
   },
   "outputs": [
    {
     "output_type": "execute_result",
     "execution_count": 13,
     "data": {
      "text/plain": "['Yes']"
     },
     "metadata": {}
    }
   ],
   "execution_count": null
  },
  {
   "cell_type": "markdown",
   "source": "<a style='text-decoration:none;line-height:16px;display:flex;color:#5B5B62;padding:10px;justify-content:end;' href='https://deepnote.com?utm_source=created-in-deepnote-cell&projectId=07e29549-6cbf-4e88-b69c-0fc48f2d6023' target=\"_blank\">\n<img alt='Created in deepnote.com' style='display:inline;max-height:16px;margin:0px;margin-right:7.5px;' src='data:image/svg+xml;base64,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' > </img>\nCreated in <span style='font-weight:600;margin-left:4px;'>Deepnote</span></a>",
   "metadata": {
    "tags": [],
    "created_in_deepnote_cell": true,
    "deepnote_cell_type": "markdown"
   }
  }
 ],
 "nbformat": 4,
 "nbformat_minor": 2,
 "metadata": {
  "orig_nbformat": 2,
  "deepnote": {
   "is_reactive": false
  },
  "deepnote_notebook_id": "9c709f6c-11d6-4bb9-b986-98dd280b1b32",
  "deepnote_execution_queue": []
 }
}