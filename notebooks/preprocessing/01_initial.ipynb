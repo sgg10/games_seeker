{
 "cells": [
  {
   "cell_type": "code",
   "metadata": {
    "collapsed": true,
    "cell_id": "b24830a3-9903-42f7-b879-0179ecb231b6",
    "deepnote_to_be_reexecuted": false,
    "source_hash": "c76682fb",
    "execution_start": 1647039319669,
    "execution_millis": 0,
    "deepnote_cell_type": "code",
    "deepnote_cell_height": 99
   },
   "source": "import pathlib\nimport pandas as pd",
   "execution_count": null,
   "outputs": []
  },
  {
   "cell_type": "code",
   "metadata": {
    "cell_id": "b85e6505-6589-4635-b971-b84dc039afe7",
    "tags": [],
    "deepnote_to_be_reexecuted": false,
    "source_hash": "efebc165",
    "execution_start": 1647039319669,
    "execution_millis": 44,
    "deepnote_cell_type": "code",
    "deepnote_cell_height": 81
   },
   "source": "ORDERED_COLUMNS = [\"title\", \"type\", \"category\", \"range\", \"symbol\", \"price\", \"link\", \"origin\"]",
   "execution_count": null,
   "outputs": []
  },
  {
   "cell_type": "markdown",
   "source": "# Lectura de archivos",
   "metadata": {
    "collapsed": false,
    "cell_id": "00001-66bf2de0-93bc-43f0-a2d7-aacc7389c4c7",
    "deepnote_cell_type": "markdown",
    "deepnote_cell_height": 82
   }
  },
  {
   "cell_type": "code",
   "metadata": {
    "collapsed": false,
    "pycharm": {
     "name": "#%%\n"
    },
    "cell_id": "00002-a0dad34f-4d11-4e45-98eb-e34a60647946",
    "deepnote_to_be_reexecuted": false,
    "source_hash": "9c2328aa",
    "execution_start": 1647039319714,
    "execution_millis": 0,
    "deepnote_cell_type": "code",
    "deepnote_cell_height": 297
   },
   "source": "def read_datasets(files_to_read):\n    dataframes = {}\n    not_working = []\n    for file in files_to_read:\n        try:\n            df = pd.read_csv(file, sep=\"|\")\n            df[\"origin\"] = file\n            dataframes[file.split(\"/\")[-1]] = df\n        except Exception as e:\n            print(e)\n            not_working.append(file)\n\n    return dataframes, not_working",
   "execution_count": null,
   "outputs": []
  },
  {
   "cell_type": "code",
   "metadata": {
    "collapsed": false,
    "pycharm": {
     "name": "#%%\n"
    },
    "cell_id": "00003-9487b33d-03ef-4e3e-83c8-0315699cfe7c",
    "deepnote_to_be_reexecuted": false,
    "source_hash": "d038bf8",
    "execution_start": 1647039319758,
    "execution_millis": 1,
    "deepnote_cell_type": "code",
    "deepnote_cell_height": 117
   },
   "source": "files = list(pathlib.Path(\"../..\").joinpath(\"data\").joinpath(\"raw\").iterdir())\nfiles = list(filter(lambda x: not str(x).split(\"/\")[-1].startswith(\".\"), files))\nfiles = list(map(lambda x: str(x.resolve()), files))",
   "execution_count": null,
   "outputs": []
  },
  {
   "cell_type": "code",
   "metadata": {
    "collapsed": false,
    "pycharm": {
     "name": "#%%\n"
    },
    "cell_id": "00004-ac27622e-1f94-4cf5-a720-7bf4e1dc0210",
    "deepnote_to_be_reexecuted": false,
    "source_hash": "392d0a3",
    "execution_start": 1647039319761,
    "execution_millis": 145,
    "deepnote_cell_type": "code",
    "deepnote_cell_height": 81
   },
   "source": "dfs, nw = read_datasets(files)",
   "execution_count": null,
   "outputs": []
  },
  {
   "cell_type": "code",
   "metadata": {
    "cell_id": "0e450389-7ad8-4e71-94c2-9e17ee007e08",
    "tags": [],
    "deepnote_to_be_reexecuted": false,
    "source_hash": "b4a1a714",
    "execution_start": 1647039319926,
    "execution_millis": 34,
    "deepnote_cell_type": "code",
    "deepnote_cell_height": 271.6875,
    "deepnote_output_heights": [
     174.6875
    ]
   },
   "source": "list(dfs.keys())",
   "execution_count": null,
   "outputs": [
    {
     "output_type": "execute_result",
     "execution_count": 6,
     "data": {
      "text/plain": "['amazon_chasis_para_pc.csv',\n 'amazon_nvme_m.2.csv',\n 'amazon_tarjetas_graficas.csv',\n 'amazon_fuentes_de_alimentacion_para_pc.csv',\n 'amazon_refrigeracion_pc.csv',\n 'amazon_memorias_ram_dd4.csv',\n 'amazon_procesadores.csv',\n 'amazon_tarjeta_madre.csv',\n 'amazon_hdd_interno.csv']"
     },
     "metadata": {}
    }
   ]
  },
  {
   "cell_type": "markdown",
   "source": "# Limpieza",
   "metadata": {
    "cell_id": "e9e2c5a7-8a1c-4d12-b296-5a05f01d94e3",
    "tags": [],
    "is_collapsed": false,
    "deepnote_cell_type": "text-cell-h1",
    "deepnote_cell_height": 82
   }
  },
  {
   "cell_type": "code",
   "metadata": {
    "collapsed": false,
    "pycharm": {
     "name": "#%%\n"
    },
    "cell_id": "00006-93e36a69-a3d7-4f22-bbe4-2985c19193ae",
    "deepnote_to_be_reexecuted": false,
    "source_hash": "b7e97726",
    "execution_start": 1647039319978,
    "execution_millis": 56,
    "deepnote_cell_type": "code",
    "deepnote_cell_height": 117
   },
   "source": "for key in dfs:\n    dfs[key][\"symbol\"] = dfs[key][\"symbol\"].apply(lambda x: x.replace(\"$\", \"\"))\n    dfs[key][\"price\"] = dfs[key][\"price\"].apply(lambda x: float(str(x).replace(\",\", \"\")))",
   "execution_count": null,
   "outputs": []
  },
  {
   "cell_type": "markdown",
   "source": "# Procesamiento",
   "metadata": {
    "cell_id": "b407b164-63e8-487b-9d03-fc19d554195f",
    "tags": [],
    "is_collapsed": false,
    "deepnote_cell_type": "text-cell-h1",
    "deepnote_cell_height": 82
   }
  },
  {
   "cell_type": "markdown",
   "source": "## Chasis",
   "metadata": {
    "cell_id": "4306fcc4-936d-4be7-b94f-a709a43030be",
    "tags": [],
    "is_collapsed": false,
    "deepnote_cell_type": "text-cell-h2",
    "deepnote_cell_height": 70
   }
  },
  {
   "cell_type": "code",
   "metadata": {
    "cell_id": "d093b759-b33b-41bd-8305-462099eda773",
    "tags": [],
    "deepnote_to_be_reexecuted": false,
    "source_hash": "9d4eba7c",
    "execution_start": 1647039320037,
    "execution_millis": 19,
    "deepnote_cell_type": "code",
    "deepnote_cell_height": 81
   },
   "source": "chasis_df = dfs[\"amazon_chasis_para_pc.csv\"]",
   "execution_count": null,
   "outputs": []
  },
  {
   "cell_type": "code",
   "metadata": {
    "cell_id": "21510f2d-b1a4-4e25-8aca-1414c80e796c",
    "tags": [],
    "deepnote_to_be_reexecuted": false,
    "source_hash": "18194760",
    "execution_start": 1647039320072,
    "execution_millis": 61,
    "deepnote_cell_type": "code",
    "deepnote_cell_height": 81
   },
   "source": "chasis_df[\"type\"] = \"Chasis\"",
   "execution_count": null,
   "outputs": []
  },
  {
   "cell_type": "code",
   "metadata": {
    "cell_id": "34703035-2c61-49de-83ff-807cb565e633",
    "tags": [],
    "deepnote_to_be_reexecuted": false,
    "source_hash": "a200d75e",
    "execution_start": 1647039320133,
    "execution_millis": 0,
    "deepnote_table_state": {
     "pageSize": 10,
     "pageIndex": 0,
     "filters": [],
     "sortBy": [
      {
       "id": "price",
       "type": "asc"
      }
     ]
    },
    "deepnote_table_loading": false,
    "deepnote_cell_type": "code",
    "deepnote_cell_height": 81
   },
   "source": "chasis_df = chasis_df[chasis_df[\"price\"] >= 100]",
   "execution_count": null,
   "outputs": []
  },
  {
   "cell_type": "code",
   "metadata": {
    "cell_id": "4bb2695a-b994-436f-9725-6c56002873bb",
    "tags": [],
    "deepnote_to_be_reexecuted": false,
    "source_hash": "a199fd3e",
    "execution_start": 1647039320134,
    "execution_millis": 43,
    "deepnote_cell_type": "code",
    "deepnote_cell_height": 81
   },
   "source": "chasis_df = chasis_df[~(chasis_df[\"title\"].str.contains(\"mine\") | chasis_df[\"title\"].str.contains(\"Server\"))]",
   "execution_count": null,
   "outputs": []
  },
  {
   "cell_type": "code",
   "metadata": {
    "cell_id": "7af12e42-c9f4-40c6-8bd7-ff5245d763f1",
    "tags": [],
    "deepnote_to_be_reexecuted": false,
    "source_hash": "1d5fb75",
    "execution_start": 1647039320177,
    "execution_millis": 0,
    "deepnote_cell_type": "code",
    "deepnote_cell_height": 117
   },
   "source": "chasis_df.loc[:, \"category\"] = \"\"\nchasis_df.loc[chasis_df[\"price\"] <= 200, \"category\"] = \"Office\"\nchasis_df.loc[chasis_df[\"price\"] > 200, \"category\"] = \"Gamer\"",
   "execution_count": null,
   "outputs": []
  },
  {
   "cell_type": "code",
   "metadata": {
    "cell_id": "b71dea63-b3ed-4051-bbd3-b6754a0ea57f",
    "tags": [],
    "deepnote_to_be_reexecuted": false,
    "source_hash": "f6d6b424",
    "execution_start": 1647039320188,
    "execution_millis": 35,
    "deepnote_table_state": {
     "pageSize": 10,
     "pageIndex": 5,
     "filters": [],
     "sortBy": [
      {
       "id": "price",
       "type": "asc"
      }
     ]
    },
    "deepnote_table_loading": false,
    "deepnote_cell_type": "code",
    "deepnote_cell_height": 135
   },
   "source": "chasis_df.loc[:, \"range\"] = \"\"\nchasis_df.loc[chasis_df[\"price\"] <= 250, \"range\"] = \"Low\"\nchasis_df.loc[(chasis_df[\"price\"] > 250) & (chasis_df[\"price\"] <= 500), \"range\"] = \"Mid\"\nchasis_df.loc[chasis_df[\"price\"] > 500, \"range\"] = \"High\"",
   "execution_count": null,
   "outputs": []
  },
  {
   "cell_type": "code",
   "metadata": {
    "cell_id": "829d4e46-d2df-417f-8ff3-7a48c0a082e6",
    "tags": [],
    "deepnote_to_be_reexecuted": false,
    "source_hash": "1cd06d59",
    "execution_start": 1647039320234,
    "execution_millis": 27,
    "deepnote_cell_type": "code",
    "deepnote_cell_height": 81
   },
   "source": "chasis_df = chasis_df[ORDERED_COLUMNS]",
   "execution_count": null,
   "outputs": []
  },
  {
   "cell_type": "code",
   "metadata": {
    "cell_id": "613289c1-5efb-4cfe-a658-7611fc09d1f7",
    "tags": [],
    "deepnote_to_be_reexecuted": false,
    "source_hash": "15a0fd84",
    "execution_start": 1647039320272,
    "execution_millis": 28,
    "deepnote_cell_type": "code",
    "deepnote_cell_height": 81
   },
   "source": "dfs[\"amazon_chasis_para_pc.csv\"] = chasis_df",
   "execution_count": null,
   "outputs": []
  },
  {
   "cell_type": "code",
   "metadata": {
    "cell_id": "f8415da5-5cb3-49f4-8c95-b74acc58ad86",
    "tags": [],
    "deepnote_to_be_reexecuted": false,
    "source_hash": "9c526283",
    "execution_start": 1647039320323,
    "execution_millis": 180,
    "deepnote_cell_type": "code",
    "deepnote_cell_height": 598
   },
   "source": "dfs[\"amazon_chasis_para_pc.csv\"]",
   "execution_count": null,
   "outputs": [
    {
     "output_type": "execute_result",
     "execution_count": 16,
     "data": {
      "application/vnd.deepnote.dataframe.v3+json": {
       "column_count": 8,
       "row_count": 78,
       "columns": [
        {
         "name": "title",
         "dtype": "object",
         "stats": {
          "unique_count": 76,
          "nan_count": 0,
          "categories": [
           {
            "name": "Vetroo A03 Mid-Tower ATX Gaming PC Case preinstalado, 3 ventiladores ARGB/PWM con controlador, apertura de puerta, diseño de vidrio templado, malla frontal de alto flujo de aire/filtro de polvo, listo para refrigeración de agua de aire, color rosa",
            "count": 2
           },
           {
            "name": "Corsair Crystal",
            "count": 2
           },
           {
            "name": "74 others",
            "count": 74
           }
          ]
         }
        },
        {
         "name": "type",
         "dtype": "object",
         "stats": {
          "unique_count": 1,
          "nan_count": 0,
          "categories": [
           {
            "name": "Chasis",
            "count": 78
           }
          ]
         }
        },
        {
         "name": "category",
         "dtype": "object",
         "stats": {
          "unique_count": 2,
          "nan_count": 0,
          "categories": [
           {
            "name": "Office",
            "count": 55
           },
           {
            "name": "Gamer",
            "count": 23
           }
          ]
         }
        },
        {
         "name": "range",
         "dtype": "object",
         "stats": {
          "unique_count": 3,
          "nan_count": 0,
          "categories": [
           {
            "name": "Low",
            "count": 65
           },
           {
            "name": "Mid",
            "count": 11
           },
           {
            "name": "High",
            "count": 2
           }
          ]
         }
        },
        {
         "name": "symbol",
         "dtype": "object",
         "stats": {
          "unique_count": 1,
          "nan_count": 0,
          "categories": [
           {
            "name": "US",
            "count": 78
           }
          ]
         }
        },
        {
         "name": "price",
         "dtype": "float64",
         "stats": {
          "unique_count": 43,
          "nan_count": 0,
          "min": "103.0",
          "max": "549.0",
          "histogram": [
           {
            "bin_start": 103,
            "bin_end": 147.6,
            "count": 33
           },
           {
            "bin_start": 147.6,
            "bin_end": 192.2,
            "count": 14
           },
           {
            "bin_start": 192.2,
            "bin_end": 236.8,
            "count": 17
           },
           {
            "bin_start": 236.8,
            "bin_end": 281.4,
            "count": 5
           },
           {
            "bin_start": 281.4,
            "bin_end": 326,
            "count": 2
           },
           {
            "bin_start": 326,
            "bin_end": 370.6,
            "count": 3
           },
           {
            "bin_start": 370.6,
            "bin_end": 415.2,
            "count": 2
           },
           {
            "bin_start": 415.2,
            "bin_end": 459.8,
            "count": 0
           },
           {
            "bin_start": 459.8,
            "bin_end": 504.40000000000003,
            "count": 0
           },
           {
            "bin_start": 504.40000000000003,
            "bin_end": 549,
            "count": 2
           }
          ]
         }
        },
        {
         "name": "link",
         "dtype": "object",
         "stats": {
          "unique_count": 78,
          "nan_count": 0,
          "categories": [
           {
            "name": "https://www.amazon.com/-/es/ordenador-aluminio-bricolaje-vertical-Disipaci%C3%B3n/dp/B085HR8PVH/ref=sr_1_33?__mk_es_US=%C3%85M%C3%85%C5%BD%C3%95%C3%91&keywords=pc+chassis&qid=1646961602&sr=8-33",
            "count": 1
           },
           {
            "name": "https://www.amazon.com/-/es/Gaming-MCMESH-Estuche-juegos-ventiladores/dp/B09B1ZSN7K/ref=sr_1_187?__mk_es_US=%C3%85M%C3%85%C5%BD%C3%95%C3%91&keywords=pc+chassis&qid=1646961939&sr=8-187",
            "count": 1
           },
           {
            "name": "76 others",
            "count": 76
           }
          ]
         }
        },
        {
         "name": "origin",
         "dtype": "object",
         "stats": {
          "unique_count": 1,
          "nan_count": 0,
          "categories": [
           {
            "name": "/work/games_seeker/data/raw/amazon_chasis_para_pc.csv",
            "count": 78
           }
          ]
         }
        },
        {
         "name": "_deepnote_index_column",
         "dtype": "int64"
        }
       ],
       "rows": [
        {
         "title": "Segotep Phoenix ATX Black Mid Tower PC Gaming Computer Case y 650w totalmente modular 80 Plus Gold …",
         "type": "Chasis",
         "category": "Office",
         "range": "Low",
         "symbol": "US",
         "price": 199,
         "link": "https://www.amazon.com/-/es/Segotep-Phoenix-Computer-totalmente-modular/dp/B08PNPD97P/ref=sr_1_291?…",
         "origin": "/work/games_seeker/data/raw/amazon_chasis_para_pc.csv",
         "_deepnote_index_column": 170
        },
        {
         "title": "Thermaltake Core P5 CA-1E7-00M1WN-05 - Carcasa de cristal templado V2 edición negra con marco abier…",
         "type": "Chasis",
         "category": "Office",
         "range": "Low",
         "symbol": "US",
         "price": 199,
         "link": "https://www.amazon.com/-/es/Thermaltake-Core-P5-CA-1E7-00M1WN-05-templado/dp/B07VNP18ZR/ref=sr_1_29…",
         "origin": "/work/games_seeker/data/raw/amazon_chasis_para_pc.csv",
         "_deepnote_index_column": 29
        },
        {
         "title": "HYTE Revolt 3 Small Form Factor Premium ITX - Funda para computadora con fuente de alimentación SFX…",
         "type": "Chasis",
         "category": "Office",
         "range": "Low",
         "symbol": "US",
         "price": 199,
         "link": "https://www.amazon.com/-/es/gp/slredirect/picassoRedirect.html/ref=pa_sp_mtf_aps_sr_pg9_1?ie=UTF8&a…",
         "origin": "/work/games_seeker/data/raw/amazon_chasis_para_pc.csv",
         "_deepnote_index_column": 94
        },
        {
         "title": "SilverStone Technology DS380B Premium Mini-Itx/DTX - Carcasa para ordenador NAS con factor de forma…",
         "type": "Chasis",
         "category": "Office",
         "range": "Low",
         "symbol": "US",
         "price": 199,
         "link": "https://www.amazon.com/-/es/SilverStone-Technology-DS380B-Premium-Mini-Itx/dp/B093XV7PYR/ref=sr_1_1…",
         "origin": "/work/games_seeker/data/raw/amazon_chasis_para_pc.csv",
         "_deepnote_index_column": 95
        },
        {
         "title": "Razer Tomahawk ATX - Funda para juegos de media torre: puertas giratorias de vidrio templado de dob…",
         "type": "Chasis",
         "category": "Office",
         "range": "Low",
         "symbol": "US",
         "price": 199,
         "link": "https://www.amazon.com/-/es/Razer-Tomahawk-ATX-iluminaci%C3%B3n-subterr%C3%A1nea/dp/B08G3LXFV6/ref=…",
         "origin": "/work/games_seeker/data/raw/amazon_chasis_para_pc.csv",
         "_deepnote_index_column": 5
        },
        {
         "title": "iBUYPOWER Snowblind S - Pantalla LCD translúcida personalizable de 19 pulgadas, resolución de 1280 …",
         "type": "Chasis",
         "category": "Gamer",
         "range": "Low",
         "symbol": "US",
         "price": 209,
         "link": "https://www.amazon.com/-/es/iBUYPOWER-Snowblind-transl%C3%BAcida-personalizable-ventiladores/dp/B08…",
         "origin": "/work/games_seeker/data/raw/amazon_chasis_para_pc.csv",
         "_deepnote_index_column": 130
        },
        {
         "title": "SZSKYING Funda para PC para juegos ATX para computadora con panel de vidrio templado USB 3.0 con 10…",
         "type": "Chasis",
         "category": "Gamer",
         "range": "Low",
         "symbol": "US",
         "price": 209,
         "link": "https://www.amazon.com/-/es/SZSKYING-computadora-templado-ventiladores-Control/dp/B08L7CMDD2/ref=sr…",
         "origin": "/work/games_seeker/data/raw/amazon_chasis_para_pc.csv",
         "_deepnote_index_column": 25
        },
        {
         "title": "BALAM RUSH THINOS E-ATX ATX M-ATX M-ITX 4 ventilador ARGB 1 USB 3.0 Temp Crystal White Gamer Case",
         "type": "Chasis",
         "category": "Gamer",
         "range": "Low",
         "symbol": "US",
         "price": 217,
         "link": "https://www.amazon.com/-/es/BALAM-THINOS-M-ATX-ventilador-Crystal/dp/B091V8WR2D/ref=sr_1_135?__mk_e…",
         "origin": "/work/games_seeker/data/raw/amazon_chasis_para_pc.csv",
         "_deepnote_index_column": 90
        },
        {
         "title": "BALAM RUSH THINOS E-ATX ATX M-ATX M-ITX 4 ventilador ARGB 1 USB 3.0 Temp Crystal Black Gamer Case",
         "type": "Chasis",
         "category": "Gamer",
         "range": "Low",
         "symbol": "US",
         "price": 217,
         "link": "https://www.amazon.com/-/es/gp/slredirect/picassoRedirect.html/ref=pa_sp_mtf_aps_sr_pg4_1?ie=UTF8&a…",
         "origin": "/work/games_seeker/data/raw/amazon_chasis_para_pc.csv",
         "_deepnote_index_column": 49
        },
        {
         "title": "Thermaltake View 71 Snow - Carcasa para computadora de torre completa para juegos de 4 lados, de vi…",
         "type": "Chasis",
         "category": "Gamer",
         "range": "Low",
         "symbol": "US",
         "price": 219,
         "link": "https://www.amazon.com/-/es/Thermaltake-View-Snow-ATX-CA-1I7-00F6WN-00/dp/B07D9CKZV8/ref=sr_1_17?__…",
         "origin": "/work/games_seeker/data/raw/amazon_chasis_para_pc.csv",
         "_deepnote_index_column": 16
        }
       ]
      },
      "text/plain": "                                                 title    type category range  \\\n0    MUSETEX ATX - Funda para PC con 6 ventiladores...  Chasis   Office   Low   \n1    MUSETEX Phantom Negro ATX Mid-Tower computador...  Chasis   Office   Low   \n3    Vetroo A03 Mid-Tower ATX Gaming PC Case preins...  Chasis   Office   Low   \n5    Razer Tomahawk ATX - Funda para juegos de medi...  Chasis   Office   Low   \n6    Thermaltake Nivel 20 HT - Torre de computadora...  Chasis    Gamer   Mid   \n..                                                 ...     ...      ...   ...   \n170  Segotep Phoenix ATX Black Mid Tower PC Gaming ...  Chasis   Office   Low   \n171  MUSETEX ATX - Carcasa de policarbonato con 6 v...  Chasis   Office   Low   \n173  Mini ITX PC caso B6, caja de ordenador de alum...  Chasis   Office   Low   \n176  SilverStone Technology Mini-ITX ML08B-H - Carc...  Chasis   Office   Low   \n177  Segotep Typhon ATX - Funda para juegos de PC c...  Chasis   Office   Low   \n\n    symbol  price                                               link  \\\n0       US  109.0  https://www.amazon.com/-/es/MUSETEX-ATX-ventil...   \n1       US  109.0  https://www.amazon.com/-/es/Mid-Tower-computad...   \n3       US  109.0  https://www.amazon.com/-/es/gp/slredirect/pica...   \n5       US  199.0  https://www.amazon.com/-/es/Razer-Tomahawk-ATX...   \n6       US  299.0  https://www.amazon.com/-/es/Thermaltake-Nivel-...   \n..     ...    ...                                                ...   \n170     US  199.0  https://www.amazon.com/-/es/Segotep-Phoenix-Co...   \n171     US  164.0  https://www.amazon.com/-/es/MUSETEX-ATX-polica...   \n173     US  189.0  https://www.amazon.com/-/es/B6-ordenador-alumi...   \n176     US  143.0  https://www.amazon.com/-/es/SilverStone-Techno...   \n177     US  119.0  https://www.amazon.com/-/es/Segotep-Typhon-ATX...   \n\n                                                origin  \n0    /work/games_seeker/data/raw/amazon_chasis_para...  \n1    /work/games_seeker/data/raw/amazon_chasis_para...  \n3    /work/games_seeker/data/raw/amazon_chasis_para...  \n5    /work/games_seeker/data/raw/amazon_chasis_para...  \n6    /work/games_seeker/data/raw/amazon_chasis_para...  \n..                                                 ...  \n170  /work/games_seeker/data/raw/amazon_chasis_para...  \n171  /work/games_seeker/data/raw/amazon_chasis_para...  \n173  /work/games_seeker/data/raw/amazon_chasis_para...  \n176  /work/games_seeker/data/raw/amazon_chasis_para...  \n177  /work/games_seeker/data/raw/amazon_chasis_para...  \n\n[78 rows x 8 columns]",
      "text/html": "<div>\n<style scoped>\n    .dataframe tbody tr th:only-of-type {\n        vertical-align: middle;\n    }\n\n    .dataframe tbody tr th {\n        vertical-align: top;\n    }\n\n    .dataframe thead th {\n        text-align: right;\n    }\n</style>\n<table border=\"1\" class=\"dataframe\">\n  <thead>\n    <tr style=\"text-align: right;\">\n      <th></th>\n      <th>title</th>\n      <th>type</th>\n      <th>category</th>\n      <th>range</th>\n      <th>symbol</th>\n      <th>price</th>\n      <th>link</th>\n      <th>origin</th>\n    </tr>\n  </thead>\n  <tbody>\n    <tr>\n      <th>0</th>\n      <td>MUSETEX ATX - Funda para PC con 6 ventiladores...</td>\n      <td>Chasis</td>\n      <td>Office</td>\n      <td>Low</td>\n      <td>US</td>\n      <td>109.0</td>\n      <td>https://www.amazon.com/-/es/MUSETEX-ATX-ventil...</td>\n      <td>/work/games_seeker/data/raw/amazon_chasis_para...</td>\n    </tr>\n    <tr>\n      <th>1</th>\n      <td>MUSETEX Phantom Negro ATX Mid-Tower computador...</td>\n      <td>Chasis</td>\n      <td>Office</td>\n      <td>Low</td>\n      <td>US</td>\n      <td>109.0</td>\n      <td>https://www.amazon.com/-/es/Mid-Tower-computad...</td>\n      <td>/work/games_seeker/data/raw/amazon_chasis_para...</td>\n    </tr>\n    <tr>\n      <th>3</th>\n      <td>Vetroo A03 Mid-Tower ATX Gaming PC Case preins...</td>\n      <td>Chasis</td>\n      <td>Office</td>\n      <td>Low</td>\n      <td>US</td>\n      <td>109.0</td>\n      <td>https://www.amazon.com/-/es/gp/slredirect/pica...</td>\n      <td>/work/games_seeker/data/raw/amazon_chasis_para...</td>\n    </tr>\n    <tr>\n      <th>5</th>\n      <td>Razer Tomahawk ATX - Funda para juegos de medi...</td>\n      <td>Chasis</td>\n      <td>Office</td>\n      <td>Low</td>\n      <td>US</td>\n      <td>199.0</td>\n      <td>https://www.amazon.com/-/es/Razer-Tomahawk-ATX...</td>\n      <td>/work/games_seeker/data/raw/amazon_chasis_para...</td>\n    </tr>\n    <tr>\n      <th>6</th>\n      <td>Thermaltake Nivel 20 HT - Torre de computadora...</td>\n      <td>Chasis</td>\n      <td>Gamer</td>\n      <td>Mid</td>\n      <td>US</td>\n      <td>299.0</td>\n      <td>https://www.amazon.com/-/es/Thermaltake-Nivel-...</td>\n      <td>/work/games_seeker/data/raw/amazon_chasis_para...</td>\n    </tr>\n    <tr>\n      <th>...</th>\n      <td>...</td>\n      <td>...</td>\n      <td>...</td>\n      <td>...</td>\n      <td>...</td>\n      <td>...</td>\n      <td>...</td>\n      <td>...</td>\n    </tr>\n    <tr>\n      <th>170</th>\n      <td>Segotep Phoenix ATX Black Mid Tower PC Gaming ...</td>\n      <td>Chasis</td>\n      <td>Office</td>\n      <td>Low</td>\n      <td>US</td>\n      <td>199.0</td>\n      <td>https://www.amazon.com/-/es/Segotep-Phoenix-Co...</td>\n      <td>/work/games_seeker/data/raw/amazon_chasis_para...</td>\n    </tr>\n    <tr>\n      <th>171</th>\n      <td>MUSETEX ATX - Carcasa de policarbonato con 6 v...</td>\n      <td>Chasis</td>\n      <td>Office</td>\n      <td>Low</td>\n      <td>US</td>\n      <td>164.0</td>\n      <td>https://www.amazon.com/-/es/MUSETEX-ATX-polica...</td>\n      <td>/work/games_seeker/data/raw/amazon_chasis_para...</td>\n    </tr>\n    <tr>\n      <th>173</th>\n      <td>Mini ITX PC caso B6, caja de ordenador de alum...</td>\n      <td>Chasis</td>\n      <td>Office</td>\n      <td>Low</td>\n      <td>US</td>\n      <td>189.0</td>\n      <td>https://www.amazon.com/-/es/B6-ordenador-alumi...</td>\n      <td>/work/games_seeker/data/raw/amazon_chasis_para...</td>\n    </tr>\n    <tr>\n      <th>176</th>\n      <td>SilverStone Technology Mini-ITX ML08B-H - Carc...</td>\n      <td>Chasis</td>\n      <td>Office</td>\n      <td>Low</td>\n      <td>US</td>\n      <td>143.0</td>\n      <td>https://www.amazon.com/-/es/SilverStone-Techno...</td>\n      <td>/work/games_seeker/data/raw/amazon_chasis_para...</td>\n    </tr>\n    <tr>\n      <th>177</th>\n      <td>Segotep Typhon ATX - Funda para juegos de PC c...</td>\n      <td>Chasis</td>\n      <td>Office</td>\n      <td>Low</td>\n      <td>US</td>\n      <td>119.0</td>\n      <td>https://www.amazon.com/-/es/Segotep-Typhon-ATX...</td>\n      <td>/work/games_seeker/data/raw/amazon_chasis_para...</td>\n    </tr>\n  </tbody>\n</table>\n<p>78 rows × 8 columns</p>\n</div>"
     },
     "metadata": {}
    }
   ]
  },
  {
   "cell_type": "markdown",
   "source": "## Almacenamiento",
   "metadata": {
    "cell_id": "a1b5aaf7-f8fc-4d5c-b2f7-87e895060e0a",
    "tags": [],
    "is_collapsed": false,
    "deepnote_cell_type": "text-cell-h2",
    "deepnote_cell_height": 70
   }
  },
  {
   "cell_type": "markdown",
   "source": "### SSD",
   "metadata": {
    "cell_id": "4679890c-4436-4ab8-ab98-e6e1091cdeef",
    "tags": [],
    "is_collapsed": false,
    "deepnote_cell_type": "text-cell-h3",
    "deepnote_cell_height": 62
   }
  },
  {
   "cell_type": "code",
   "metadata": {
    "cell_id": "2b82ed05-b014-44ac-bd9e-ca24730eac4f",
    "tags": [],
    "deepnote_to_be_reexecuted": false,
    "source_hash": "38adc7e3",
    "execution_start": 1647039320557,
    "execution_millis": 0,
    "deepnote_cell_type": "code",
    "deepnote_cell_height": 81
   },
   "source": "ssd_df = dfs[\"amazon_nvme_m.2.csv\"]",
   "execution_count": null,
   "outputs": []
  },
  {
   "cell_type": "code",
   "metadata": {
    "cell_id": "43ccf935-ac62-49e0-9872-4035f785fd51",
    "tags": [],
    "deepnote_to_be_reexecuted": false,
    "source_hash": "db7a268c",
    "execution_start": 1647039320557,
    "execution_millis": 44,
    "deepnote_table_state": {
     "pageSize": 10,
     "pageIndex": 0,
     "filters": [],
     "sortBy": [
      {
       "id": "price",
       "type": "desc"
      }
     ]
    },
    "deepnote_table_loading": false,
    "deepnote_cell_type": "code",
    "deepnote_cell_height": 81
   },
   "source": "ssd_df = ssd_df[(ssd_df[\"title\"].str.contains(\"GB\")) | (ssd_df[\"title\"].str.contains(\"TB\"))]",
   "execution_count": null,
   "outputs": []
  },
  {
   "cell_type": "code",
   "metadata": {
    "cell_id": "f2b7d793-68e8-4395-ac4e-3a6b5dedf036",
    "tags": [],
    "deepnote_to_be_reexecuted": false,
    "source_hash": "d98714c2",
    "execution_start": 1647039320602,
    "execution_millis": 31,
    "deepnote_cell_type": "code",
    "deepnote_cell_height": 213.125
   },
   "source": "ssd_df.loc[:, \"type\"] = \"Storage\"",
   "execution_count": null,
   "outputs": [
    {
     "name": "stderr",
     "text": "/shared-libs/python3.7/py/lib/python3.7/site-packages/pandas/core/indexing.py:1667: SettingWithCopyWarning: \nA value is trying to be set on a copy of a slice from a DataFrame.\nTry using .loc[row_indexer,col_indexer] = value instead\n\nSee the caveats in the documentation: https://pandas.pydata.org/pandas-docs/stable/user_guide/indexing.html#returning-a-view-versus-a-copy\n  self.obj[key] = value\n",
     "output_type": "stream"
    }
   ]
  },
  {
   "cell_type": "code",
   "metadata": {
    "cell_id": "5b470e86-28dd-49a6-8ffd-f9dbeea933f6",
    "tags": [],
    "deepnote_to_be_reexecuted": false,
    "source_hash": "ccf7fd3c",
    "execution_start": 1647039320705,
    "execution_millis": 1,
    "deepnote_cell_type": "code",
    "deepnote_cell_height": 267.125
   },
   "source": "ssd_df.loc[:, \"category\"] = \"\"\nssd_df.loc[ssd_df[\"price\"] <= 200, \"category\"] = \"Stream\"\nssd_df.loc[(ssd_df[\"price\"] > 200) & (ssd_df[\"price\"] <= 550), \"category\"] = \"Gamer\"\nssd_df.loc[ssd_df[\"price\"] > 550, \"category\"] = \"Desing\"",
   "execution_count": null,
   "outputs": [
    {
     "name": "stderr",
     "text": "/shared-libs/python3.7/py/lib/python3.7/site-packages/pandas/core/indexing.py:1817: SettingWithCopyWarning: \nA value is trying to be set on a copy of a slice from a DataFrame.\nTry using .loc[row_indexer,col_indexer] = value instead\n\nSee the caveats in the documentation: https://pandas.pydata.org/pandas-docs/stable/user_guide/indexing.html#returning-a-view-versus-a-copy\n  self._setitem_single_column(loc, value, pi)\n",
     "output_type": "stream"
    }
   ]
  },
  {
   "cell_type": "code",
   "metadata": {
    "cell_id": "aa6b6186-fbb1-412f-9da5-d318eb33ae58",
    "tags": [],
    "deepnote_to_be_reexecuted": false,
    "source_hash": "b4830977",
    "execution_start": 1647039320749,
    "execution_millis": 0,
    "deepnote_table_state": {
     "pageSize": 10,
     "pageIndex": 1,
     "filters": [],
     "sortBy": [
      {
       "id": "price",
       "type": "desc"
      }
     ]
    },
    "deepnote_table_loading": false,
    "deepnote_cell_type": "code",
    "deepnote_cell_height": 117
   },
   "source": "ssd_df.loc[:, \"range\"] = \"\"\nssd_df.loc[ssd_df[\"price\"] <= 250, \"range\"] = \"Mid\"\nssd_df.loc[ssd_df[\"price\"] > 250, \"range\"] = \"High\"",
   "execution_count": null,
   "outputs": []
  },
  {
   "cell_type": "code",
   "metadata": {
    "cell_id": "3db61e0b-0e67-4cc0-92e2-fa67b468cdb8",
    "tags": [],
    "deepnote_to_be_reexecuted": false,
    "source_hash": "847f6d8d",
    "execution_start": 1647039320749,
    "execution_millis": 126,
    "deepnote_cell_type": "code",
    "deepnote_cell_height": 598
   },
   "source": "ssd_df",
   "execution_count": null,
   "outputs": [
    {
     "output_type": "execute_result",
     "execution_count": 22,
     "data": {
      "application/vnd.deepnote.dataframe.v3+json": {
       "column_count": 8,
       "row_count": 151,
       "columns": [
        {
         "name": "title",
         "dtype": "object",
         "stats": {
          "unique_count": 148,
          "nan_count": 0,
          "categories": [
           {
            "name": "XrayDisk SSD de 1 TB con caché SLC 3D NAND TLC M.2 2280 SATA III 6 Gb/s unidad interna de estado sólido SSD (velocidad de lectura/escritura hasta 530/480 MB/s) 1000 GB compatible con portátiles y PC de escritorio (1 TB, A-Negro)",
            "count": 2
           },
           {
            "name": "HIKVISION SSD interno de 512 GB, unidad interna de estado sólido, NVMe PCIe Gen 3x4, M.2 2280, memoria flash NAND 3D, velocidad de lectura de hasta 3500 MB/s",
            "count": 2
           },
           {
            "name": "146 others",
            "count": 147
           }
          ]
         }
        },
        {
         "name": "symbol",
         "dtype": "object",
         "stats": {
          "unique_count": 1,
          "nan_count": 0,
          "categories": [
           {
            "name": "US",
            "count": 151
           }
          ]
         }
        },
        {
         "name": "price",
         "dtype": "float64",
         "stats": {
          "unique_count": 102,
          "nan_count": 0,
          "min": "19.0",
          "max": "1383.0",
          "histogram": [
           {
            "bin_start": 19,
            "bin_end": 155.4,
            "count": 92
           },
           {
            "bin_start": 155.4,
            "bin_end": 291.8,
            "count": 38
           },
           {
            "bin_start": 291.8,
            "bin_end": 428.20000000000005,
            "count": 11
           },
           {
            "bin_start": 428.20000000000005,
            "bin_end": 564.6,
            "count": 2
           },
           {
            "bin_start": 564.6,
            "bin_end": 701,
            "count": 5
           },
           {
            "bin_start": 701,
            "bin_end": 837.4000000000001,
            "count": 1
           },
           {
            "bin_start": 837.4000000000001,
            "bin_end": 973.8000000000001,
            "count": 1
           },
           {
            "bin_start": 973.8000000000001,
            "bin_end": 1110.2,
            "count": 0
           },
           {
            "bin_start": 1110.2,
            "bin_end": 1246.6000000000001,
            "count": 0
           },
           {
            "bin_start": 1246.6000000000001,
            "bin_end": 1383,
            "count": 1
           }
          ]
         }
        },
        {
         "name": "link",
         "dtype": "object",
         "stats": {
          "unique_count": 151,
          "nan_count": 0,
          "categories": [
           {
            "name": "https://www.amazon.com/-/es/Corsair-velocidades-secuencial-escritura-densidad/dp/B08JSMKW3J/ref=sr_1_15?__mk_es_US=%C3%85M%C3%85%C5%BD%C3%95%C3%91&crid=1RX4006JRBRV8&keywords=nvme+m.2&qid=1646937158&sprefix=%2Caps%2C147&sr=8-15",
            "count": 1
           },
           {
            "name": "https://www.amazon.com/-/es/Seagate-FireCuda-530-ZP4000GM3A013-interna/dp/B0971DZ4YF/ref=sr_1_17?__mk_es_US=%C3%85M%C3%85%C5%BD%C3%95%C3%91&crid=1RX4006JRBRV8&keywords=nvme+m.2&qid=1646937158&sprefix=%2Caps%2C147&sr=8-17",
            "count": 1
           },
           {
            "name": "149 others",
            "count": 149
           }
          ]
         }
        },
        {
         "name": "origin",
         "dtype": "object",
         "stats": {
          "unique_count": 1,
          "nan_count": 0,
          "categories": [
           {
            "name": "/work/games_seeker/data/raw/amazon_nvme_m.2.csv",
            "count": 151
           }
          ]
         }
        },
        {
         "name": "type",
         "dtype": "object",
         "stats": {
          "unique_count": 1,
          "nan_count": 0,
          "categories": [
           {
            "name": "Storage",
            "count": 151
           }
          ]
         }
        },
        {
         "name": "category",
         "dtype": "object",
         "stats": {
          "unique_count": 3,
          "nan_count": 0,
          "categories": [
           {
            "name": "Stream",
            "count": 109
           },
           {
            "name": "Gamer",
            "count": 34
           },
           {
            "name": "Desing",
            "count": 8
           }
          ]
         }
        },
        {
         "name": "range",
         "dtype": "object",
         "stats": {
          "unique_count": 2,
          "nan_count": 0,
          "categories": [
           {
            "name": "Mid",
            "count": 119
           },
           {
            "name": "High",
            "count": 32
           }
          ]
         }
        },
        {
         "name": "_deepnote_index_column",
         "dtype": "int64"
        }
       ],
       "rows": [
        {
         "title": "Corsair MP600 PRO XT 2TB Hydro X Edition Gen4 PCIe x4 NVMe M.2 SSD (hasta 7.000 MB/s de lectura sec…",
         "symbol": "US",
         "price": 389,
         "link": "https://www.amazon.com/-/es/Corsair-secuencial-velocidades-escritura-densidad/dp/B09SZGP297/ref=sr_…",
         "origin": "/work/games_seeker/data/raw/amazon_nvme_m.2.csv",
         "type": "Storage",
         "category": "Gamer",
         "range": "High",
         "_deepnote_index_column": 80
        },
        {
         "title": "Patriot Viper VP4300 2TB M.2 2280 PCIe Gen4 x 4 - Unidad interna de estado sólido para juegos - VP4…",
         "symbol": "US",
         "price": 389,
         "link": "https://www.amazon.com/-/es/Patriot-Viper-VP4300-2280-PCIe/dp/B08YZ6JCPH/ref=sr_1_56?__mk_es_US=%C3…",
         "origin": "/work/games_seeker/data/raw/amazon_nvme_m.2.csv",
         "type": "Storage",
         "category": "Gamer",
         "range": "High",
         "_deepnote_index_column": 32
        },
        {
         "title": "SSD M.2 2TB Samsung 980 PRO Disipador de calor NVMe PCIe 4.0 x 4 minorista",
         "symbol": "US",
         "price": 384,
         "link": "https://www.amazon.com/-/es/Samsung-Disipador-calor-NVMe-minorista/dp/B09J14CJ89/ref=sr_1_180?__mk_…",
         "origin": "/work/games_seeker/data/raw/amazon_nvme_m.2.csv",
         "type": "Storage",
         "category": "Gamer",
         "range": "High",
         "_deepnote_index_column": 115
        },
        {
         "title": "Dogfish - Disco duro interno de 2 TB de estado sólido de alto rendimiento para computadora portátil…",
         "symbol": "US",
         "price": 358,
         "link": "https://www.amazon.com/-/es/Dogfish-interno-rendimiento-computadora-port%C3%A1til/dp/B07Q43S3RW/ref…",
         "origin": "/work/games_seeker/data/raw/amazon_nvme_m.2.csv",
         "type": "Storage",
         "category": "Gamer",
         "range": "High",
         "_deepnote_index_column": 148
        },
        {
         "title": "Seagate FireCuda 530 ZP2000GM3A013 - Unidad de estado sólido de 2 TB - M.2 2280 interna - PCI Expre…",
         "symbol": "US",
         "price": 349,
         "link": "https://www.amazon.com/-/es/Seagate-FireCuda-530-ZP2000GM3A013-interna/dp/B0971D2WWL/ref=sr_1_53?__…",
         "origin": "/work/games_seeker/data/raw/amazon_nvme_m.2.csv",
         "type": "Storage",
         "category": "Gamer",
         "range": "High",
         "_deepnote_index_column": 29
        },
        {
         "title": "Samsung 970 PRO NVMe Series 1TB M.2 PCI-Express 3.0 x 4 unidad de estado sólido (V-NAND)",
         "symbol": "US",
         "price": 324,
         "link": "https://www.amazon.com/-/es/Samsung-PCI-Express-unidad-estado-s%C3%B3lido/dp/B07DFJ3YQR/ref=sr_1_19…",
         "origin": "/work/games_seeker/data/raw/amazon_nvme_m.2.csv",
         "type": "Storage",
         "category": "Gamer",
         "range": "High",
         "_deepnote_index_column": 123
        },
        {
         "title": "addlink AddGame A95 2TB NVMe PCIe Gen 4 SSD interno para juegos con disipador de calor, velocidad d…",
         "symbol": "US",
         "price": 319,
         "link": "https://www.amazon.com/-/es/addlink-AddGame-disipador-velocidad-compatible/dp/B09HJWCRCB/ref=sr_1_6…",
         "origin": "/work/games_seeker/data/raw/amazon_nvme_m.2.csv",
         "type": "Storage",
         "category": "Gamer",
         "range": "High",
         "_deepnote_index_column": 38
        },
        {
         "title": "WD_BLACK 2TB SN850 NVMe unidad de estado sólido SSD interna para juegos con ASUS ROG Strix Arion al…",
         "symbol": "US",
         "price": 315,
         "link": "https://www.amazon.com/-/es/WD_BLACK-aleaci%C3%B3n-aluminio-port%C3%A1til-adaptador/dp/B09TDWSX3Y/r…",
         "origin": "/work/games_seeker/data/raw/amazon_nvme_m.2.csv",
         "type": "Storage",
         "category": "Gamer",
         "range": "High",
         "_deepnote_index_column": 188
        },
        {
         "title": "Mercury Elite Pro Dual USB-C de 2 TB con concentrador de 3 puertos",
         "symbol": "US",
         "price": 299,
         "link": "https://www.amazon.com/-/es/gp/slredirect/picassoRedirect.html/ref=pa_sp_mtf_aps_sr_pg13_1?ie=UTF8&…",
         "origin": "/work/games_seeker/data/raw/amazon_nvme_m.2.csv",
         "type": "Storage",
         "category": "Gamer",
         "range": "High",
         "_deepnote_index_column": 129
        },
        {
         "title": "Serie Samsung 980 PRO con disipador de calor - 2TB PCIe Gen4 X4 NVMe 1.3c - SSD M.2 interno (MZ-V8P…",
         "symbol": "US",
         "price": 299,
         "link": "https://www.amazon.com/-/es/gp/slredirect/picassoRedirect.html/ref=pa_sp_mtf_aps_sr_pg13_1?ie=UTF8&…",
         "origin": "/work/games_seeker/data/raw/amazon_nvme_m.2.csv",
         "type": "Storage",
         "category": "Gamer",
         "range": "High",
         "_deepnote_index_column": 130
        }
       ]
      },
      "text/plain": "                                                 title symbol  price  \\\n0    Crucial P5 Plus SSD 3D NAND NVMe M.2 de 500GB ...     US   84.0   \n1    Sabrent Rocket Q 4TB NVMe PCIe M.2 2280 Unidad...     US  599.0   \n2    SAMSUNG 980 SSD de 1 TB M.2 NVMe Interfaz inte...     US   99.0   \n3    SAMSUNG 970 EVO Plus SSD 2TB - M.2 NVMe Interf...     US  209.0   \n4    SSD M.2 980 PRO 2TB PCIe NVMe Gen4 interno par...     US  279.0   \n..                                                 ...    ...    ...   \n214  TEAMGROUP T-Force CARDEA Zero Z440 - Disco de ...     US  259.0   \n217  Centon Premium SSD, libre de frustración, PCIe...     US  579.0   \n220  Samsung 256GB PM981 SSD PCIe Gen3 x4 NVMe M.2 ...     US   99.0   \n223  Mushkin Source-II - Unidad interna de estado s...     US  174.0   \n226  4TB OWC Accelsior 1M2 PCIe 4.0 NVMe M.2 tarjet...     US  829.0   \n\n                                                  link  \\\n0    https://www.amazon.com/-/es/gp/slredirect/pica...   \n1    https://www.amazon.com/-/es/gp/slredirect/pica...   \n2    https://www.amazon.com/-/es/Interfaz-tecnolog%...   \n3    https://www.amazon.com/-/es/SAMSUNG-970-EVO-Pl...   \n4    https://www.amazon.com/-/es/PCIe-interno-juego...   \n..                                                 ...   \n214  https://www.amazon.com/-/es/gp/slredirect/pica...   \n217  https://www.amazon.com/-/es/Centon-Premium-lib...   \n220  https://www.amazon.com/-/es/Samsung-PM981-MZVL...   \n223  https://www.amazon.com/-/es/Mushkin-Source-II-...   \n226  https://www.amazon.com/-/es/4TB-Accelsior-PCIe...   \n\n                                              origin     type category range  \n0    /work/games_seeker/data/raw/amazon_nvme_m.2.csv  Storage   Stream   Mid  \n1    /work/games_seeker/data/raw/amazon_nvme_m.2.csv  Storage   Desing  High  \n2    /work/games_seeker/data/raw/amazon_nvme_m.2.csv  Storage   Stream   Mid  \n3    /work/games_seeker/data/raw/amazon_nvme_m.2.csv  Storage    Gamer   Mid  \n4    /work/games_seeker/data/raw/amazon_nvme_m.2.csv  Storage    Gamer  High  \n..                                               ...      ...      ...   ...  \n214  /work/games_seeker/data/raw/amazon_nvme_m.2.csv  Storage    Gamer  High  \n217  /work/games_seeker/data/raw/amazon_nvme_m.2.csv  Storage   Desing  High  \n220  /work/games_seeker/data/raw/amazon_nvme_m.2.csv  Storage   Stream   Mid  \n223  /work/games_seeker/data/raw/amazon_nvme_m.2.csv  Storage   Stream   Mid  \n226  /work/games_seeker/data/raw/amazon_nvme_m.2.csv  Storage   Desing  High  \n\n[151 rows x 8 columns]",
      "text/html": "<div>\n<style scoped>\n    .dataframe tbody tr th:only-of-type {\n        vertical-align: middle;\n    }\n\n    .dataframe tbody tr th {\n        vertical-align: top;\n    }\n\n    .dataframe thead th {\n        text-align: right;\n    }\n</style>\n<table border=\"1\" class=\"dataframe\">\n  <thead>\n    <tr style=\"text-align: right;\">\n      <th></th>\n      <th>title</th>\n      <th>symbol</th>\n      <th>price</th>\n      <th>link</th>\n      <th>origin</th>\n      <th>type</th>\n      <th>category</th>\n      <th>range</th>\n    </tr>\n  </thead>\n  <tbody>\n    <tr>\n      <th>0</th>\n      <td>Crucial P5 Plus SSD 3D NAND NVMe M.2 de 500GB ...</td>\n      <td>US</td>\n      <td>84.0</td>\n      <td>https://www.amazon.com/-/es/gp/slredirect/pica...</td>\n      <td>/work/games_seeker/data/raw/amazon_nvme_m.2.csv</td>\n      <td>Storage</td>\n      <td>Stream</td>\n      <td>Mid</td>\n    </tr>\n    <tr>\n      <th>1</th>\n      <td>Sabrent Rocket Q 4TB NVMe PCIe M.2 2280 Unidad...</td>\n      <td>US</td>\n      <td>599.0</td>\n      <td>https://www.amazon.com/-/es/gp/slredirect/pica...</td>\n      <td>/work/games_seeker/data/raw/amazon_nvme_m.2.csv</td>\n      <td>Storage</td>\n      <td>Desing</td>\n      <td>High</td>\n    </tr>\n    <tr>\n      <th>2</th>\n      <td>SAMSUNG 980 SSD de 1 TB M.2 NVMe Interfaz inte...</td>\n      <td>US</td>\n      <td>99.0</td>\n      <td>https://www.amazon.com/-/es/Interfaz-tecnolog%...</td>\n      <td>/work/games_seeker/data/raw/amazon_nvme_m.2.csv</td>\n      <td>Storage</td>\n      <td>Stream</td>\n      <td>Mid</td>\n    </tr>\n    <tr>\n      <th>3</th>\n      <td>SAMSUNG 970 EVO Plus SSD 2TB - M.2 NVMe Interf...</td>\n      <td>US</td>\n      <td>209.0</td>\n      <td>https://www.amazon.com/-/es/SAMSUNG-970-EVO-Pl...</td>\n      <td>/work/games_seeker/data/raw/amazon_nvme_m.2.csv</td>\n      <td>Storage</td>\n      <td>Gamer</td>\n      <td>Mid</td>\n    </tr>\n    <tr>\n      <th>4</th>\n      <td>SSD M.2 980 PRO 2TB PCIe NVMe Gen4 interno par...</td>\n      <td>US</td>\n      <td>279.0</td>\n      <td>https://www.amazon.com/-/es/PCIe-interno-juego...</td>\n      <td>/work/games_seeker/data/raw/amazon_nvme_m.2.csv</td>\n      <td>Storage</td>\n      <td>Gamer</td>\n      <td>High</td>\n    </tr>\n    <tr>\n      <th>...</th>\n      <td>...</td>\n      <td>...</td>\n      <td>...</td>\n      <td>...</td>\n      <td>...</td>\n      <td>...</td>\n      <td>...</td>\n      <td>...</td>\n    </tr>\n    <tr>\n      <th>214</th>\n      <td>TEAMGROUP T-Force CARDEA Zero Z440 - Disco de ...</td>\n      <td>US</td>\n      <td>259.0</td>\n      <td>https://www.amazon.com/-/es/gp/slredirect/pica...</td>\n      <td>/work/games_seeker/data/raw/amazon_nvme_m.2.csv</td>\n      <td>Storage</td>\n      <td>Gamer</td>\n      <td>High</td>\n    </tr>\n    <tr>\n      <th>217</th>\n      <td>Centon Premium SSD, libre de frustración, PCIe...</td>\n      <td>US</td>\n      <td>579.0</td>\n      <td>https://www.amazon.com/-/es/Centon-Premium-lib...</td>\n      <td>/work/games_seeker/data/raw/amazon_nvme_m.2.csv</td>\n      <td>Storage</td>\n      <td>Desing</td>\n      <td>High</td>\n    </tr>\n    <tr>\n      <th>220</th>\n      <td>Samsung 256GB PM981 SSD PCIe Gen3 x4 NVMe M.2 ...</td>\n      <td>US</td>\n      <td>99.0</td>\n      <td>https://www.amazon.com/-/es/Samsung-PM981-MZVL...</td>\n      <td>/work/games_seeker/data/raw/amazon_nvme_m.2.csv</td>\n      <td>Storage</td>\n      <td>Stream</td>\n      <td>Mid</td>\n    </tr>\n    <tr>\n      <th>223</th>\n      <td>Mushkin Source-II - Unidad interna de estado s...</td>\n      <td>US</td>\n      <td>174.0</td>\n      <td>https://www.amazon.com/-/es/Mushkin-Source-II-...</td>\n      <td>/work/games_seeker/data/raw/amazon_nvme_m.2.csv</td>\n      <td>Storage</td>\n      <td>Stream</td>\n      <td>Mid</td>\n    </tr>\n    <tr>\n      <th>226</th>\n      <td>4TB OWC Accelsior 1M2 PCIe 4.0 NVMe M.2 tarjet...</td>\n      <td>US</td>\n      <td>829.0</td>\n      <td>https://www.amazon.com/-/es/4TB-Accelsior-PCIe...</td>\n      <td>/work/games_seeker/data/raw/amazon_nvme_m.2.csv</td>\n      <td>Storage</td>\n      <td>Desing</td>\n      <td>High</td>\n    </tr>\n  </tbody>\n</table>\n<p>151 rows × 8 columns</p>\n</div>"
     },
     "metadata": {}
    }
   ]
  },
  {
   "cell_type": "code",
   "metadata": {
    "cell_id": "ebdf2f44-304c-4a22-a822-2415173be31e",
    "tags": [],
    "deepnote_to_be_reexecuted": false,
    "source_hash": "4e1530ca",
    "execution_start": 1647039320882,
    "execution_millis": 17,
    "deepnote_cell_type": "code",
    "deepnote_cell_height": 81
   },
   "source": "dfs[\"amazon_nvme_m.2.csv\"] = ssd_df[ORDERED_COLUMNS]",
   "execution_count": null,
   "outputs": []
  },
  {
   "cell_type": "code",
   "metadata": {
    "cell_id": "95ddc942-abf2-45ec-9c44-c3725d4b554d",
    "tags": [],
    "deepnote_to_be_reexecuted": false,
    "source_hash": "23980a47",
    "execution_start": 1647039320909,
    "execution_millis": 142,
    "deepnote_cell_type": "code",
    "deepnote_cell_height": 66
   },
   "source": "dfs[\"amazon_nvme_m.2.csv\"]",
   "execution_count": null,
   "outputs": [
    {
     "output_type": "execute_result",
     "execution_count": 24,
     "data": {
      "application/vnd.deepnote.dataframe.v3+json": {
       "column_count": 8,
       "row_count": 151,
       "columns": [
        {
         "name": "title",
         "dtype": "object",
         "stats": {
          "unique_count": 148,
          "nan_count": 0,
          "categories": [
           {
            "name": "Hikvision E2000 SSD interno 512 GB M.2 2280 NGFF NVME PCIe hasta 3500MB/s para portátil de escritorio",
            "count": 2
           },
           {
            "name": "HIKVISION SSD interno de 512 GB, unidad interna de estado sólido, NVMe PCIe Gen 3x4, M.2 2280, memoria flash NAND 3D, velocidad de lectura de hasta 3500 MB/s",
            "count": 2
           },
           {
            "name": "146 others",
            "count": 147
           }
          ]
         }
        },
        {
         "name": "type",
         "dtype": "object",
         "stats": {
          "unique_count": 1,
          "nan_count": 0,
          "categories": [
           {
            "name": "Storage",
            "count": 151
           }
          ]
         }
        },
        {
         "name": "category",
         "dtype": "object",
         "stats": {
          "unique_count": 3,
          "nan_count": 0,
          "categories": [
           {
            "name": "Stream",
            "count": 109
           },
           {
            "name": "Gamer",
            "count": 34
           },
           {
            "name": "Desing",
            "count": 8
           }
          ]
         }
        },
        {
         "name": "range",
         "dtype": "object",
         "stats": {
          "unique_count": 2,
          "nan_count": 0,
          "categories": [
           {
            "name": "Mid",
            "count": 119
           },
           {
            "name": "High",
            "count": 32
           }
          ]
         }
        },
        {
         "name": "symbol",
         "dtype": "object",
         "stats": {
          "unique_count": 1,
          "nan_count": 0,
          "categories": [
           {
            "name": "US",
            "count": 151
           }
          ]
         }
        },
        {
         "name": "price",
         "dtype": "float64",
         "stats": {
          "unique_count": 102,
          "nan_count": 0,
          "min": "19.0",
          "max": "1383.0",
          "histogram": [
           {
            "bin_start": 19,
            "bin_end": 155.4,
            "count": 92
           },
           {
            "bin_start": 155.4,
            "bin_end": 291.8,
            "count": 38
           },
           {
            "bin_start": 291.8,
            "bin_end": 428.20000000000005,
            "count": 11
           },
           {
            "bin_start": 428.20000000000005,
            "bin_end": 564.6,
            "count": 2
           },
           {
            "bin_start": 564.6,
            "bin_end": 701,
            "count": 5
           },
           {
            "bin_start": 701,
            "bin_end": 837.4000000000001,
            "count": 1
           },
           {
            "bin_start": 837.4000000000001,
            "bin_end": 973.8000000000001,
            "count": 1
           },
           {
            "bin_start": 973.8000000000001,
            "bin_end": 1110.2,
            "count": 0
           },
           {
            "bin_start": 1110.2,
            "bin_end": 1246.6000000000001,
            "count": 0
           },
           {
            "bin_start": 1246.6000000000001,
            "bin_end": 1383,
            "count": 1
           }
          ]
         }
        },
        {
         "name": "link",
         "dtype": "object",
         "stats": {
          "unique_count": 151,
          "nan_count": 0,
          "categories": [
           {
            "name": "https://www.amazon.com/-/es/gp/slredirect/picassoRedirect.html/ref=pa_sp_atf_aps_sr_pg1_1?ie=UTF8&adId=A0720167HXAE6Y63QK60&url=%2FCrucial-Plus-500GB-hasta-6600MB%2Fdp%2FB098W1NDV2%2Fref%3Dsr_1_1_sspa%3F__mk_es_US%3D%25C3%2585M%25C3%2585%25C5%25BD%25C3%2595%25C3%2591%26crid%3D1RX4006JRBRV8%26keywords%3Dnvme%2Bm.2%26qid%3D1646937158%26sprefix%3D%252Caps%252C147%26sr%3D8-1-spons%26psc%3D1&qualifier=1646937158&id=3807378751218842&widgetName=sp_atf",
            "count": 1
           },
           {
            "name": "https://www.amazon.com/-/es/gp/slredirect/picassoRedirect.html/ref=pa_sp_atf_aps_sr_pg1_1?ie=UTF8&adId=A01631841MOC4SF075P63&url=%2FSabrent-Rocket-interna-rendimiento-SB-RKTQ-4TB%2Fdp%2FB087N7HLRV%2Fref%3Dsr_1_2_sspa%3F__mk_es_US%3D%25C3%2585M%25C3%2585%25C5%25BD%25C3%2595%25C3%2591%26crid%3D1RX4006JRBRV8%26keywords%3Dnvme%2Bm.2%26qid%3D1646937158%26sprefix%3D%252Caps%252C147%26sr%3D8-2-spons%26psc%3D1%26smid%3DA2ELBRY1PH9SPX&qualifier=1646937158&id=3807378751218842&widgetName=sp_atf",
            "count": 1
           },
           {
            "name": "149 others",
            "count": 149
           }
          ]
         }
        },
        {
         "name": "origin",
         "dtype": "object",
         "stats": {
          "unique_count": 1,
          "nan_count": 0,
          "categories": [
           {
            "name": "/work/games_seeker/data/raw/amazon_nvme_m.2.csv",
            "count": 151
           }
          ]
         }
        },
        {
         "name": "_deepnote_index_column",
         "dtype": "int64"
        }
       ],
       "rows": [
        {
         "title": "Crucial P5 Plus SSD 3D NAND NVMe M.2 de 500GB PCIe 4.0 , hasta 6600MB/s - CT500P5PSSD8",
         "type": "Storage",
         "category": "Stream",
         "range": "Mid",
         "symbol": "US",
         "price": 84,
         "link": "https://www.amazon.com/-/es/gp/slredirect/picassoRedirect.html/ref=pa_sp_atf_aps_sr_pg1_1?ie=UTF8&a…",
         "origin": "/work/games_seeker/data/raw/amazon_nvme_m.2.csv",
         "_deepnote_index_column": 0
        },
        {
         "title": "Sabrent Rocket Q 4TB NVMe PCIe M.2 2280 Unidad de estado sólido interna de alto rendimiento R/W 320…",
         "type": "Storage",
         "category": "Desing",
         "range": "High",
         "symbol": "US",
         "price": 599,
         "link": "https://www.amazon.com/-/es/gp/slredirect/picassoRedirect.html/ref=pa_sp_atf_aps_sr_pg1_1?ie=UTF8&a…",
         "origin": "/work/games_seeker/data/raw/amazon_nvme_m.2.csv",
         "_deepnote_index_column": 1
        },
        {
         "title": "SAMSUNG 980 SSD de 1 TB M.2 NVMe Interfaz interna de estado sólido con tecnología V-NAND para juego…",
         "type": "Storage",
         "category": "Stream",
         "range": "Mid",
         "symbol": "US",
         "price": 99,
         "link": "https://www.amazon.com/-/es/Interfaz-tecnolog%C3%ADa-gr%C3%A1ficos-MZ-V8V1T0B-AM/dp/B08V83JZH4/ref=…",
         "origin": "/work/games_seeker/data/raw/amazon_nvme_m.2.csv",
         "_deepnote_index_column": 2
        },
        {
         "title": "SAMSUNG 970 EVO Plus SSD 2TB - M.2 NVMe Interface Unidad interna de estado sólido con tecnología V-…",
         "type": "Storage",
         "category": "Gamer",
         "range": "Mid",
         "symbol": "US",
         "price": 209,
         "link": "https://www.amazon.com/-/es/SAMSUNG-970-EVO-Plus-SSD/dp/B07MFZXR1B/ref=sr_1_4?__mk_es_US=%C3%85M%C3…",
         "origin": "/work/games_seeker/data/raw/amazon_nvme_m.2.csv",
         "_deepnote_index_column": 3
        },
        {
         "title": "SSD M.2 980 PRO 2TB PCIe NVMe Gen4 interno para juegos (MZ-V8P2T0B/AM)",
         "type": "Storage",
         "category": "Gamer",
         "range": "High",
         "symbol": "US",
         "price": 279,
         "link": "https://www.amazon.com/-/es/PCIe-interno-juegos-MZ-V8P2T0B-AM/dp/B08RK2SR23/ref=sr_1_5?__mk_es_US=%…",
         "origin": "/work/games_seeker/data/raw/amazon_nvme_m.2.csv",
         "_deepnote_index_column": 4
        },
        {
         "title": "Crucial P2 2TB 3D NAND NVMe PCIe M.2 SSD hasta 2400MB/s - CT2000P2SSD8",
         "type": "Storage",
         "category": "Stream",
         "range": "Mid",
         "symbol": "US",
         "price": 199,
         "link": "https://www.amazon.com/-/es/gp/slredirect/picassoRedirect.html/ref=pa_sp_search_thematic_aps_sr_pg1…",
         "origin": "/work/games_seeker/data/raw/amazon_nvme_m.2.csv",
         "_deepnote_index_column": 5
        },
        {
         "title": "WD_Black 1TB SN750 SE NVMe - Unidad de estado sólido interna para juegos, Gen4 PCIe, M.2 2280, hast…",
         "type": "Storage",
         "category": "Stream",
         "range": "Mid",
         "symbol": "US",
         "price": 104,
         "link": "https://www.amazon.com/-/es/WD_Black-1TB-SN750-NVMe-WDS100T1B0E/dp/B095HB3L6G/ref=sr_1_6?__mk_es_US…",
         "origin": "/work/games_seeker/data/raw/amazon_nvme_m.2.csv",
         "_deepnote_index_column": 6
        },
        {
         "title": "Crucial P2 1TB 3D NAND NVMe PCIe M.2 SSD hasta 2400MB/s - CT1000P2SSD8",
         "type": "Storage",
         "category": "Stream",
         "range": "Mid",
         "symbol": "US",
         "price": 96,
         "link": "https://www.amazon.com/-/es/Crucial-NAND-NVMe-hasta-2400MB/dp/B089DNM8LR/ref=sr_1_7?__mk_es_US=%C3%…",
         "origin": "/work/games_seeker/data/raw/amazon_nvme_m.2.csv",
         "_deepnote_index_column": 7
        },
        {
         "title": "Western Digital SSD interno WD Blue SN550 NVMe de 1 TB - Gen3 x4 PCIe 8Gb/s, M.2 2280, 3D NAND, has…",
         "type": "Storage",
         "category": "Stream",
         "range": "Mid",
         "symbol": "US",
         "price": 102,
         "link": "https://www.amazon.com/-/es/Western-Digital-interno-Blue-SN550/dp/B07YFFX5MD/ref=sr_1_9?__mk_es_US=…",
         "origin": "/work/games_seeker/data/raw/amazon_nvme_m.2.csv",
         "_deepnote_index_column": 9
        },
        {
         "title": "Sabrent Rocket Q 1TB NVMe PCIe M.2 2280 Unidad de estado sólido interna de alto rendimiento R/W 320…",
         "type": "Storage",
         "category": "Stream",
         "range": "Mid",
         "symbol": "US",
         "price": 89,
         "link": "https://www.amazon.com/-/es/Sabrent-Rocket-interna-rendimiento-SB-RKTQ-1TB/dp/B07ZZYWTBP/ref=sr_1_1…",
         "origin": "/work/games_seeker/data/raw/amazon_nvme_m.2.csv",
         "_deepnote_index_column": 10
        }
       ]
      },
      "text/plain": "                                                 title     type category  \\\n0    Crucial P5 Plus SSD 3D NAND NVMe M.2 de 500GB ...  Storage   Stream   \n1    Sabrent Rocket Q 4TB NVMe PCIe M.2 2280 Unidad...  Storage   Desing   \n2    SAMSUNG 980 SSD de 1 TB M.2 NVMe Interfaz inte...  Storage   Stream   \n3    SAMSUNG 970 EVO Plus SSD 2TB - M.2 NVMe Interf...  Storage    Gamer   \n4    SSD M.2 980 PRO 2TB PCIe NVMe Gen4 interno par...  Storage    Gamer   \n..                                                 ...      ...      ...   \n214  TEAMGROUP T-Force CARDEA Zero Z440 - Disco de ...  Storage    Gamer   \n217  Centon Premium SSD, libre de frustración, PCIe...  Storage   Desing   \n220  Samsung 256GB PM981 SSD PCIe Gen3 x4 NVMe M.2 ...  Storage   Stream   \n223  Mushkin Source-II - Unidad interna de estado s...  Storage   Stream   \n226  4TB OWC Accelsior 1M2 PCIe 4.0 NVMe M.2 tarjet...  Storage   Desing   \n\n    range symbol  price                                               link  \\\n0     Mid     US   84.0  https://www.amazon.com/-/es/gp/slredirect/pica...   \n1    High     US  599.0  https://www.amazon.com/-/es/gp/slredirect/pica...   \n2     Mid     US   99.0  https://www.amazon.com/-/es/Interfaz-tecnolog%...   \n3     Mid     US  209.0  https://www.amazon.com/-/es/SAMSUNG-970-EVO-Pl...   \n4    High     US  279.0  https://www.amazon.com/-/es/PCIe-interno-juego...   \n..    ...    ...    ...                                                ...   \n214  High     US  259.0  https://www.amazon.com/-/es/gp/slredirect/pica...   \n217  High     US  579.0  https://www.amazon.com/-/es/Centon-Premium-lib...   \n220   Mid     US   99.0  https://www.amazon.com/-/es/Samsung-PM981-MZVL...   \n223   Mid     US  174.0  https://www.amazon.com/-/es/Mushkin-Source-II-...   \n226  High     US  829.0  https://www.amazon.com/-/es/4TB-Accelsior-PCIe...   \n\n                                              origin  \n0    /work/games_seeker/data/raw/amazon_nvme_m.2.csv  \n1    /work/games_seeker/data/raw/amazon_nvme_m.2.csv  \n2    /work/games_seeker/data/raw/amazon_nvme_m.2.csv  \n3    /work/games_seeker/data/raw/amazon_nvme_m.2.csv  \n4    /work/games_seeker/data/raw/amazon_nvme_m.2.csv  \n..                                               ...  \n214  /work/games_seeker/data/raw/amazon_nvme_m.2.csv  \n217  /work/games_seeker/data/raw/amazon_nvme_m.2.csv  \n220  /work/games_seeker/data/raw/amazon_nvme_m.2.csv  \n223  /work/games_seeker/data/raw/amazon_nvme_m.2.csv  \n226  /work/games_seeker/data/raw/amazon_nvme_m.2.csv  \n\n[151 rows x 8 columns]",
      "text/html": "<div>\n<style scoped>\n    .dataframe tbody tr th:only-of-type {\n        vertical-align: middle;\n    }\n\n    .dataframe tbody tr th {\n        vertical-align: top;\n    }\n\n    .dataframe thead th {\n        text-align: right;\n    }\n</style>\n<table border=\"1\" class=\"dataframe\">\n  <thead>\n    <tr style=\"text-align: right;\">\n      <th></th>\n      <th>title</th>\n      <th>type</th>\n      <th>category</th>\n      <th>range</th>\n      <th>symbol</th>\n      <th>price</th>\n      <th>link</th>\n      <th>origin</th>\n    </tr>\n  </thead>\n  <tbody>\n    <tr>\n      <th>0</th>\n      <td>Crucial P5 Plus SSD 3D NAND NVMe M.2 de 500GB ...</td>\n      <td>Storage</td>\n      <td>Stream</td>\n      <td>Mid</td>\n      <td>US</td>\n      <td>84.0</td>\n      <td>https://www.amazon.com/-/es/gp/slredirect/pica...</td>\n      <td>/work/games_seeker/data/raw/amazon_nvme_m.2.csv</td>\n    </tr>\n    <tr>\n      <th>1</th>\n      <td>Sabrent Rocket Q 4TB NVMe PCIe M.2 2280 Unidad...</td>\n      <td>Storage</td>\n      <td>Desing</td>\n      <td>High</td>\n      <td>US</td>\n      <td>599.0</td>\n      <td>https://www.amazon.com/-/es/gp/slredirect/pica...</td>\n      <td>/work/games_seeker/data/raw/amazon_nvme_m.2.csv</td>\n    </tr>\n    <tr>\n      <th>2</th>\n      <td>SAMSUNG 980 SSD de 1 TB M.2 NVMe Interfaz inte...</td>\n      <td>Storage</td>\n      <td>Stream</td>\n      <td>Mid</td>\n      <td>US</td>\n      <td>99.0</td>\n      <td>https://www.amazon.com/-/es/Interfaz-tecnolog%...</td>\n      <td>/work/games_seeker/data/raw/amazon_nvme_m.2.csv</td>\n    </tr>\n    <tr>\n      <th>3</th>\n      <td>SAMSUNG 970 EVO Plus SSD 2TB - M.2 NVMe Interf...</td>\n      <td>Storage</td>\n      <td>Gamer</td>\n      <td>Mid</td>\n      <td>US</td>\n      <td>209.0</td>\n      <td>https://www.amazon.com/-/es/SAMSUNG-970-EVO-Pl...</td>\n      <td>/work/games_seeker/data/raw/amazon_nvme_m.2.csv</td>\n    </tr>\n    <tr>\n      <th>4</th>\n      <td>SSD M.2 980 PRO 2TB PCIe NVMe Gen4 interno par...</td>\n      <td>Storage</td>\n      <td>Gamer</td>\n      <td>High</td>\n      <td>US</td>\n      <td>279.0</td>\n      <td>https://www.amazon.com/-/es/PCIe-interno-juego...</td>\n      <td>/work/games_seeker/data/raw/amazon_nvme_m.2.csv</td>\n    </tr>\n    <tr>\n      <th>...</th>\n      <td>...</td>\n      <td>...</td>\n      <td>...</td>\n      <td>...</td>\n      <td>...</td>\n      <td>...</td>\n      <td>...</td>\n      <td>...</td>\n    </tr>\n    <tr>\n      <th>214</th>\n      <td>TEAMGROUP T-Force CARDEA Zero Z440 - Disco de ...</td>\n      <td>Storage</td>\n      <td>Gamer</td>\n      <td>High</td>\n      <td>US</td>\n      <td>259.0</td>\n      <td>https://www.amazon.com/-/es/gp/slredirect/pica...</td>\n      <td>/work/games_seeker/data/raw/amazon_nvme_m.2.csv</td>\n    </tr>\n    <tr>\n      <th>217</th>\n      <td>Centon Premium SSD, libre de frustración, PCIe...</td>\n      <td>Storage</td>\n      <td>Desing</td>\n      <td>High</td>\n      <td>US</td>\n      <td>579.0</td>\n      <td>https://www.amazon.com/-/es/Centon-Premium-lib...</td>\n      <td>/work/games_seeker/data/raw/amazon_nvme_m.2.csv</td>\n    </tr>\n    <tr>\n      <th>220</th>\n      <td>Samsung 256GB PM981 SSD PCIe Gen3 x4 NVMe M.2 ...</td>\n      <td>Storage</td>\n      <td>Stream</td>\n      <td>Mid</td>\n      <td>US</td>\n      <td>99.0</td>\n      <td>https://www.amazon.com/-/es/Samsung-PM981-MZVL...</td>\n      <td>/work/games_seeker/data/raw/amazon_nvme_m.2.csv</td>\n    </tr>\n    <tr>\n      <th>223</th>\n      <td>Mushkin Source-II - Unidad interna de estado s...</td>\n      <td>Storage</td>\n      <td>Stream</td>\n      <td>Mid</td>\n      <td>US</td>\n      <td>174.0</td>\n      <td>https://www.amazon.com/-/es/Mushkin-Source-II-...</td>\n      <td>/work/games_seeker/data/raw/amazon_nvme_m.2.csv</td>\n    </tr>\n    <tr>\n      <th>226</th>\n      <td>4TB OWC Accelsior 1M2 PCIe 4.0 NVMe M.2 tarjet...</td>\n      <td>Storage</td>\n      <td>Desing</td>\n      <td>High</td>\n      <td>US</td>\n      <td>829.0</td>\n      <td>https://www.amazon.com/-/es/4TB-Accelsior-PCIe...</td>\n      <td>/work/games_seeker/data/raw/amazon_nvme_m.2.csv</td>\n    </tr>\n  </tbody>\n</table>\n<p>151 rows × 8 columns</p>\n</div>"
     },
     "metadata": {}
    }
   ]
  },
  {
   "cell_type": "markdown",
   "source": "### HDD",
   "metadata": {
    "cell_id": "b3077220-b33b-466d-ace4-133ce4ac16c9",
    "tags": [],
    "is_collapsed": false,
    "deepnote_cell_type": "text-cell-h3",
    "deepnote_cell_height": 62
   }
  },
  {
   "cell_type": "code",
   "metadata": {
    "cell_id": "d3102f18-d9b7-4c3d-a940-1e059f94e6c2",
    "tags": [],
    "deepnote_to_be_reexecuted": false,
    "source_hash": "e16f6641",
    "execution_start": 1647039321054,
    "execution_millis": 16,
    "deepnote_cell_type": "code",
    "deepnote_cell_height": 81
   },
   "source": "hdd_df = dfs[\"amazon_hdd_interno.csv\"]",
   "execution_count": null,
   "outputs": []
  },
  {
   "cell_type": "code",
   "metadata": {
    "cell_id": "7e614433-6287-4cc6-a203-f1f74723ca4e",
    "tags": [],
    "deepnote_to_be_reexecuted": false,
    "source_hash": "da0c1164",
    "execution_start": 1647039321080,
    "execution_millis": 65,
    "deepnote_cell_type": "code",
    "deepnote_cell_height": 81
   },
   "source": "hdd_df = hdd_df[(~hdd_df[\"title\"].str.contains(\"exte\")) & (hdd_df[\"price\"] > 20)]",
   "execution_count": null,
   "outputs": []
  },
  {
   "cell_type": "code",
   "metadata": {
    "cell_id": "b8f3a857-061e-4d01-b89a-e34a812d6918",
    "tags": [],
    "deepnote_to_be_reexecuted": false,
    "source_hash": "e2e85804",
    "execution_start": 1647039321145,
    "execution_millis": 1,
    "deepnote_cell_type": "code",
    "deepnote_cell_height": 213.125
   },
   "source": "hdd_df.loc[:, \"type\"] = \"Storage\"",
   "execution_count": null,
   "outputs": [
    {
     "name": "stderr",
     "text": "/shared-libs/python3.7/py/lib/python3.7/site-packages/pandas/core/indexing.py:1667: SettingWithCopyWarning: \nA value is trying to be set on a copy of a slice from a DataFrame.\nTry using .loc[row_indexer,col_indexer] = value instead\n\nSee the caveats in the documentation: https://pandas.pydata.org/pandas-docs/stable/user_guide/indexing.html#returning-a-view-versus-a-copy\n  self.obj[key] = value\n",
     "output_type": "stream"
    }
   ]
  },
  {
   "cell_type": "code",
   "metadata": {
    "cell_id": "beb39b12-c852-40fd-a551-65d7a2198b28",
    "tags": [],
    "deepnote_to_be_reexecuted": false,
    "source_hash": "5d3ea459",
    "execution_start": 1647039321190,
    "execution_millis": 59,
    "deepnote_table_state": {
     "pageSize": 10,
     "pageIndex": 0,
     "filters": [],
     "sortBy": [
      {
       "id": "price",
       "type": "desc"
      }
     ]
    },
    "deepnote_table_loading": false,
    "deepnote_cell_type": "code",
    "deepnote_cell_height": 630
   },
   "source": "hdd_df",
   "execution_count": null,
   "outputs": [
    {
     "output_type": "execute_result",
     "execution_count": 28,
     "data": {
      "application/vnd.deepnote.dataframe.v3+json": {
       "column_count": 6,
       "row_count": 159,
       "columns": [
        {
         "name": "title",
         "dtype": "object",
         "stats": {
          "unique_count": 148,
          "nan_count": 0,
          "categories": [
           {
            "name": "Seagate IronWolf NAS - Disco duro interno HDD, servicio de recuperación de datos.",
            "count": 4
           },
           {
            "name": "Seagate Barracuda SATA 6Gb/s 128MB",
            "count": 4
           },
           {
            "name": "146 others",
            "count": 151
           }
          ]
         }
        },
        {
         "name": "symbol",
         "dtype": "object",
         "stats": {
          "unique_count": 1,
          "nan_count": 0,
          "categories": [
           {
            "name": "US",
            "count": 159
           }
          ]
         }
        },
        {
         "name": "price",
         "dtype": "float64",
         "stats": {
          "unique_count": 105,
          "nan_count": 0,
          "min": "21.0",
          "max": "517.0",
          "histogram": [
           {
            "bin_start": 21,
            "bin_end": 70.6,
            "count": 62
           },
           {
            "bin_start": 70.6,
            "bin_end": 120.2,
            "count": 29
           },
           {
            "bin_start": 120.2,
            "bin_end": 169.8,
            "count": 17
           },
           {
            "bin_start": 169.8,
            "bin_end": 219.4,
            "count": 12
           },
           {
            "bin_start": 219.4,
            "bin_end": 269,
            "count": 10
           },
           {
            "bin_start": 269,
            "bin_end": 318.6,
            "count": 12
           },
           {
            "bin_start": 318.6,
            "bin_end": 368.2,
            "count": 8
           },
           {
            "bin_start": 368.2,
            "bin_end": 417.8,
            "count": 6
           },
           {
            "bin_start": 417.8,
            "bin_end": 467.40000000000003,
            "count": 0
           },
           {
            "bin_start": 467.40000000000003,
            "bin_end": 517,
            "count": 3
           }
          ]
         }
        },
        {
         "name": "link",
         "dtype": "object",
         "stats": {
          "unique_count": 159,
          "nan_count": 0,
          "categories": [
           {
            "name": "https://www.amazon.com/-/es/Seagate-Exos-20TB-SATA-ST20000NM007D/dp/B09MWKXR2T/ref=sr_1_61?__mk_es_US=%C3%85M%C3%85%C5%BD%C3%95%C3%91&crid=3HX7HPZ82035K&keywords=internal+hdd&qid=1646940279&sprefix=%2Caps%2C144&sr=8-61",
            "count": 1
           },
           {
            "name": "https://www.amazon.com/-/es/disco-interno-pulgadas-cach%C3%A9-49y6002/dp/B00BCTD54G/ref=sr_1_188?__mk_es_US=%C3%85M%C3%85%C5%BD%C3%95%C3%91&crid=3HX7HPZ82035K&keywords=internal+hdd&qid=1646940679&sprefix=%2Caps%2C144&sr=8-188",
            "count": 1
           },
           {
            "name": "157 others",
            "count": 157
           }
          ]
         }
        },
        {
         "name": "origin",
         "dtype": "object",
         "stats": {
          "unique_count": 1,
          "nan_count": 0,
          "categories": [
           {
            "name": "/work/games_seeker/data/raw/amazon_hdd_interno.csv",
            "count": 159
           }
          ]
         }
        },
        {
         "name": "type",
         "dtype": "object",
         "stats": {
          "unique_count": 1,
          "nan_count": 0,
          "categories": [
           {
            "name": "Storage",
            "count": 159
           }
          ]
         }
        },
        {
         "name": "_deepnote_index_column",
         "dtype": "int64"
        }
       ],
       "rows": [
        {
         "title": "Seagate Exos X20 20TB SATA HDD SATA 6Gb/s 7200 RPM (ST20000NM007D)",
         "symbol": "US",
         "price": 517,
         "link": "https://www.amazon.com/-/es/Seagate-Exos-20TB-SATA-ST20000NM007D/dp/B09MWKXR2T/ref=sr_1_61?__mk_es_…",
         "origin": "/work/games_seeker/data/raw/amazon_hdd_interno.csv",
         "type": "Storage",
         "_deepnote_index_column": 35
        },
        {
         "title": "IBM 4 TB SATA disco duro interno de 3,5 pulgadas caché de 16 MB 49y6002",
         "symbol": "US",
         "price": 499,
         "link": "https://www.amazon.com/-/es/disco-interno-pulgadas-cach%C3%A9-49y6002/dp/B00BCTD54G/ref=sr_1_188?__…",
         "origin": "/work/games_seeker/data/raw/amazon_hdd_interno.csv",
         "type": "Storage",
         "_deepnote_index_column": 124
        },
        {
         "title": "Fantom Drives Kit de actualización de disco duro de 18 TB con unidad WD181KRYZ Gold Enterprise, sof…",
         "symbol": "US",
         "price": 469,
         "link": "https://www.amazon.com/-/es/actualizaci%C3%B3n-WD181KRYZ-Enterprise-alimentaci%C3%B3n-HDD18000WDG-K…",
         "origin": "/work/games_seeker/data/raw/amazon_hdd_interno.csv",
         "type": "Storage",
         "_deepnote_index_column": 57
        },
        {
         "title": "Monitor Sceptre para juegos, curvado, de 30 pulgadas, 21:9 2560x1080, ultra ancho, ultra delgado, H…",
         "symbol": "US",
         "price": 390,
         "link": "https://www.amazon.com/-/es/Monitor-Sceptre-juegos-curvado-pulgadas/dp/B08HYSY8MX/ref=sr_1_273?__mk…",
         "origin": "/work/games_seeker/data/raw/amazon_hdd_interno.csv",
         "type": "Storage",
         "_deepnote_index_column": 160
        },
        {
         "title": "Toshiba X300 16TB Performance & Gaming Disco duro interno de 3.5 pulgadas – CMR SATA 6 GB/s 7200 RP…",
         "symbol": "US",
         "price": 379,
         "link": "https://www.amazon.com/-/es/Toshiba-Performance-Gaming-interno-pulgadas/dp/B099P8VGMY/ref=sr_1_8?__…",
         "origin": "/work/games_seeker/data/raw/amazon_hdd_interno.csv",
         "type": "Storage",
         "_deepnote_index_column": 8
        },
        {
         "title": "TERRAMASTER F5-221 NAS 5-Bay Cloud Storage Apollo J3355 Dual Core 2.0GHz Plex Media Server Almacena…",
         "symbol": "US",
         "price": 379,
         "link": "https://www.amazon.com/-/es/gp/slredirect/picassoRedirect.html/ref=pa_sp_atf_next_aps_sr_pg5_1?ie=U…",
         "origin": "/work/games_seeker/data/raw/amazon_hdd_interno.csv",
         "type": "Storage",
         "_deepnote_index_column": 41
        },
        {
         "title": "Western Digital WD181PURP WD181PURP - Disco duro interno de vigilancia WD Purple Pro de 18 TB - SAT…",
         "symbol": "US",
         "price": 379,
         "link": "https://www.amazon.com/-/es/Western-Digital-WD181PURP-interno-vigilancia/dp/B0966TBDRZ/ref=sr_1_19?…",
         "origin": "/work/games_seeker/data/raw/amazon_hdd_interno.csv",
         "type": "Storage",
         "_deepnote_index_column": 24
        },
        {
         "title": "Western Digital WD Ultrastar DC HC550 16TB SATA 6Gb/s 7200RPM 3.5 pulgadas centro de datos HDD (WUH…",
         "symbol": "US",
         "price": 375,
         "link": "https://www.amazon.com/-/es/Western-Digital-Ultrastar-pulgadas-WUH721816ALE6L4/dp/B08DHHMZBF/ref=sr…",
         "origin": "/work/games_seeker/data/raw/amazon_hdd_interno.csv",
         "type": "Storage",
         "_deepnote_index_column": 19
        },
        {
         "title": "Seagate 18 TB 7200 RPM 256 MB SAS 3.5 4096/512E",
         "symbol": "US",
         "price": 369,
         "link": "https://www.amazon.com/-/es/Seagate-7200-RPM-4096-512E/dp/B08KJMXRN7/ref=sr_1_145?__mk_es_US=%C3%85…",
         "origin": "/work/games_seeker/data/raw/amazon_hdd_interno.csv",
         "type": "Storage",
         "_deepnote_index_column": 101
        },
        {
         "title": "Seagate IronWolf NAS - Disco duro interno HDD, servicio de recuperación de datos.",
         "symbol": "US",
         "price": 359,
         "link": "https://www.amazon.com/-/es/Seagate-IronWolf-NAS-servicio-recuperaci%C3%B3n/dp/B07H241VK4/ref=sr_1_…",
         "origin": "/work/games_seeker/data/raw/amazon_hdd_interno.csv",
         "type": "Storage",
         "_deepnote_index_column": 12
        }
       ]
      },
      "text/plain": "                                                 title symbol  price  \\\n0    Seagate IronWolf NAS - Disco duro interno HDD,...     US  279.0   \n1    Toshiba X300 - Disco duro interno de 10 TB de ...     US  228.0   \n2    Seagate BarraCuda - Disco duro interno de 2 TB...     US   46.0   \n3                Unidad de disco duro Seagate Exos 7E2     US  238.0   \n4    Seagate IronWolf NAS - Disco duro interno HDD,...     US  199.0   \n..                                                 ...    ...    ...   \n166  Seagate FireCuda 2TB unidad híbrida de estado ...     US  199.0   \n167  Seagate Cheetah SAS 16 MB Cache 2.5-Inch inter...     US   54.0   \n168               Western Digital 3TB SATA 6 Gb/s 3.5\"     US  148.0   \n169  Seagate Cheetah 10K.7 ST3300007FC - Disco duro...     US  104.0   \n170  Capacidad de la empresa (restaurado certificad...     US   37.0   \n\n                                                  link  \\\n0    https://www.amazon.com/-/es/gp/slredirect/pica...   \n1    https://www.amazon.com/-/es/gp/slredirect/pica...   \n2    https://www.amazon.com/-/es/Seagate-BarraCuda-...   \n3    https://www.amazon.com/-/es/Unidad-disco-duro-...   \n4    https://www.amazon.com/-/es/Seagate-IronWolf-N...   \n..                                                 ...   \n166  https://www.amazon.com/-/es/Seagate-FireCuda-u...   \n167  https://www.amazon.com/-/es/2-5-Inch-bare-oem-...   \n168  https://www.amazon.com/-/es/Western-Digital-3T...   \n169  https://www.amazon.com/-/es/Seagate-Cheetah-10...   \n170  https://www.amazon.com/-/es/Capacidad-empresa-...   \n\n                                                origin     type  \n0    /work/games_seeker/data/raw/amazon_hdd_interno...  Storage  \n1    /work/games_seeker/data/raw/amazon_hdd_interno...  Storage  \n2    /work/games_seeker/data/raw/amazon_hdd_interno...  Storage  \n3    /work/games_seeker/data/raw/amazon_hdd_interno...  Storage  \n4    /work/games_seeker/data/raw/amazon_hdd_interno...  Storage  \n..                                                 ...      ...  \n166  /work/games_seeker/data/raw/amazon_hdd_interno...  Storage  \n167  /work/games_seeker/data/raw/amazon_hdd_interno...  Storage  \n168  /work/games_seeker/data/raw/amazon_hdd_interno...  Storage  \n169  /work/games_seeker/data/raw/amazon_hdd_interno...  Storage  \n170  /work/games_seeker/data/raw/amazon_hdd_interno...  Storage  \n\n[159 rows x 6 columns]",
      "text/html": "<div>\n<style scoped>\n    .dataframe tbody tr th:only-of-type {\n        vertical-align: middle;\n    }\n\n    .dataframe tbody tr th {\n        vertical-align: top;\n    }\n\n    .dataframe thead th {\n        text-align: right;\n    }\n</style>\n<table border=\"1\" class=\"dataframe\">\n  <thead>\n    <tr style=\"text-align: right;\">\n      <th></th>\n      <th>title</th>\n      <th>symbol</th>\n      <th>price</th>\n      <th>link</th>\n      <th>origin</th>\n      <th>type</th>\n    </tr>\n  </thead>\n  <tbody>\n    <tr>\n      <th>0</th>\n      <td>Seagate IronWolf NAS - Disco duro interno HDD,...</td>\n      <td>US</td>\n      <td>279.0</td>\n      <td>https://www.amazon.com/-/es/gp/slredirect/pica...</td>\n      <td>/work/games_seeker/data/raw/amazon_hdd_interno...</td>\n      <td>Storage</td>\n    </tr>\n    <tr>\n      <th>1</th>\n      <td>Toshiba X300 - Disco duro interno de 10 TB de ...</td>\n      <td>US</td>\n      <td>228.0</td>\n      <td>https://www.amazon.com/-/es/gp/slredirect/pica...</td>\n      <td>/work/games_seeker/data/raw/amazon_hdd_interno...</td>\n      <td>Storage</td>\n    </tr>\n    <tr>\n      <th>2</th>\n      <td>Seagate BarraCuda - Disco duro interno de 2 TB...</td>\n      <td>US</td>\n      <td>46.0</td>\n      <td>https://www.amazon.com/-/es/Seagate-BarraCuda-...</td>\n      <td>/work/games_seeker/data/raw/amazon_hdd_interno...</td>\n      <td>Storage</td>\n    </tr>\n    <tr>\n      <th>3</th>\n      <td>Unidad de disco duro Seagate Exos 7E2</td>\n      <td>US</td>\n      <td>238.0</td>\n      <td>https://www.amazon.com/-/es/Unidad-disco-duro-...</td>\n      <td>/work/games_seeker/data/raw/amazon_hdd_interno...</td>\n      <td>Storage</td>\n    </tr>\n    <tr>\n      <th>4</th>\n      <td>Seagate IronWolf NAS - Disco duro interno HDD,...</td>\n      <td>US</td>\n      <td>199.0</td>\n      <td>https://www.amazon.com/-/es/Seagate-IronWolf-N...</td>\n      <td>/work/games_seeker/data/raw/amazon_hdd_interno...</td>\n      <td>Storage</td>\n    </tr>\n    <tr>\n      <th>...</th>\n      <td>...</td>\n      <td>...</td>\n      <td>...</td>\n      <td>...</td>\n      <td>...</td>\n      <td>...</td>\n    </tr>\n    <tr>\n      <th>166</th>\n      <td>Seagate FireCuda 2TB unidad híbrida de estado ...</td>\n      <td>US</td>\n      <td>199.0</td>\n      <td>https://www.amazon.com/-/es/Seagate-FireCuda-u...</td>\n      <td>/work/games_seeker/data/raw/amazon_hdd_interno...</td>\n      <td>Storage</td>\n    </tr>\n    <tr>\n      <th>167</th>\n      <td>Seagate Cheetah SAS 16 MB Cache 2.5-Inch inter...</td>\n      <td>US</td>\n      <td>54.0</td>\n      <td>https://www.amazon.com/-/es/2-5-Inch-bare-oem-...</td>\n      <td>/work/games_seeker/data/raw/amazon_hdd_interno...</td>\n      <td>Storage</td>\n    </tr>\n    <tr>\n      <th>168</th>\n      <td>Western Digital 3TB SATA 6 Gb/s 3.5\"</td>\n      <td>US</td>\n      <td>148.0</td>\n      <td>https://www.amazon.com/-/es/Western-Digital-3T...</td>\n      <td>/work/games_seeker/data/raw/amazon_hdd_interno...</td>\n      <td>Storage</td>\n    </tr>\n    <tr>\n      <th>169</th>\n      <td>Seagate Cheetah 10K.7 ST3300007FC - Disco duro...</td>\n      <td>US</td>\n      <td>104.0</td>\n      <td>https://www.amazon.com/-/es/Seagate-Cheetah-10...</td>\n      <td>/work/games_seeker/data/raw/amazon_hdd_interno...</td>\n      <td>Storage</td>\n    </tr>\n    <tr>\n      <th>170</th>\n      <td>Capacidad de la empresa (restaurado certificad...</td>\n      <td>US</td>\n      <td>37.0</td>\n      <td>https://www.amazon.com/-/es/Capacidad-empresa-...</td>\n      <td>/work/games_seeker/data/raw/amazon_hdd_interno...</td>\n      <td>Storage</td>\n    </tr>\n  </tbody>\n</table>\n<p>159 rows × 6 columns</p>\n</div>"
     },
     "metadata": {}
    }
   ]
  },
  {
   "cell_type": "code",
   "metadata": {
    "cell_id": "b9fc8bf4-3089-47cf-bfa2-5650ecd9feb8",
    "tags": [],
    "deepnote_to_be_reexecuted": false,
    "source_hash": "98cf2c78",
    "execution_start": 1647039321259,
    "execution_millis": 27,
    "deepnote_cell_type": "code",
    "deepnote_cell_height": 267.125
   },
   "source": "hdd_df.loc[:, \"category\"] = \"\"\nhdd_df.loc[hdd_df[\"price\"] <= 50, \"category\"] = \"Office\"\nhdd_df.loc[(hdd_df[\"price\"] > 50) & (hdd_df[\"price\"] <= 200), \"category\"] = \"Gamer\"\nhdd_df.loc[hdd_df[\"price\"] > 200, \"category\"] = \"Desing\"",
   "execution_count": null,
   "outputs": [
    {
     "name": "stderr",
     "text": "/shared-libs/python3.7/py/lib/python3.7/site-packages/pandas/core/indexing.py:1667: SettingWithCopyWarning: \nA value is trying to be set on a copy of a slice from a DataFrame.\nTry using .loc[row_indexer,col_indexer] = value instead\n\nSee the caveats in the documentation: https://pandas.pydata.org/pandas-docs/stable/user_guide/indexing.html#returning-a-view-versus-a-copy\n  self.obj[key] = value\n/shared-libs/python3.7/py/lib/python3.7/site-packages/pandas/core/indexing.py:1817: SettingWithCopyWarning: \nA value is trying to be set on a copy of a slice from a DataFrame.\nTry using .loc[row_indexer,col_indexer] = value instead\n\nSee the caveats in the documentation: https://pandas.pydata.org/pandas-docs/stable/user_guide/indexing.html#returning-a-view-versus-a-copy\n  self._setitem_single_column(loc, value, pi)\n",
     "output_type": "stream"
    }
   ]
  },
  {
   "cell_type": "code",
   "metadata": {
    "cell_id": "3bf2a431-d5f7-4507-a7c9-ec856b818c78",
    "tags": [],
    "deepnote_to_be_reexecuted": false,
    "source_hash": "64472885",
    "execution_start": 1647039321295,
    "execution_millis": 24,
    "deepnote_cell_type": "code",
    "deepnote_cell_height": 388.25
   },
   "source": "hdd_df.loc[:, \"range\"] = \"\"\nhdd_df.loc[hdd_df[\"price\"] <= 35, \"range\"] = \"Low\"\nhdd_df.loc[(hdd_df[\"price\"] > 35) & (hdd_df[\"price\"] <= 100), \"range\"] = \"Mid\"\nhdd_df.loc[hdd_df[\"price\"] > 100, \"range\"] = \"High\"",
   "execution_count": null,
   "outputs": []
  },
  {
   "cell_type": "code",
   "metadata": {
    "cell_id": "bcd35756-b0b8-4d85-b1ac-a91b144c725d",
    "tags": [],
    "deepnote_to_be_reexecuted": false,
    "source_hash": "4a4d1b9d",
    "execution_start": 1647039321326,
    "execution_millis": 17,
    "deepnote_cell_type": "code",
    "deepnote_cell_height": 81
   },
   "source": "dfs[\"amazon_hdd_interno.csv\"] = hdd_df[ORDERED_COLUMNS]",
   "execution_count": null,
   "outputs": []
  },
  {
   "cell_type": "code",
   "metadata": {
    "cell_id": "dec8b839-9090-4d66-a942-5101bc3508af",
    "tags": [],
    "deepnote_to_be_reexecuted": false,
    "source_hash": "5d3ea459",
    "execution_start": 1647039321354,
    "execution_millis": 183,
    "deepnote_cell_type": "code",
    "deepnote_cell_height": 598
   },
   "source": "hdd_df",
   "execution_count": null,
   "outputs": [
    {
     "output_type": "execute_result",
     "execution_count": 32,
     "data": {
      "application/vnd.deepnote.dataframe.v3+json": {
       "column_count": 8,
       "row_count": 159,
       "columns": [
        {
         "name": "title",
         "dtype": "object",
         "stats": {
          "unique_count": 148,
          "nan_count": 0,
          "categories": [
           {
            "name": "Seagate IronWolf NAS - Disco duro interno HDD, servicio de recuperación de datos.",
            "count": 4
           },
           {
            "name": "Seagate Barracuda SATA 6Gb/s 128MB",
            "count": 4
           },
           {
            "name": "146 others",
            "count": 151
           }
          ]
         }
        },
        {
         "name": "symbol",
         "dtype": "object",
         "stats": {
          "unique_count": 1,
          "nan_count": 0,
          "categories": [
           {
            "name": "US",
            "count": 159
           }
          ]
         }
        },
        {
         "name": "price",
         "dtype": "float64",
         "stats": {
          "unique_count": 105,
          "nan_count": 0,
          "min": "21.0",
          "max": "517.0",
          "histogram": [
           {
            "bin_start": 21,
            "bin_end": 70.6,
            "count": 62
           },
           {
            "bin_start": 70.6,
            "bin_end": 120.2,
            "count": 29
           },
           {
            "bin_start": 120.2,
            "bin_end": 169.8,
            "count": 17
           },
           {
            "bin_start": 169.8,
            "bin_end": 219.4,
            "count": 12
           },
           {
            "bin_start": 219.4,
            "bin_end": 269,
            "count": 10
           },
           {
            "bin_start": 269,
            "bin_end": 318.6,
            "count": 12
           },
           {
            "bin_start": 318.6,
            "bin_end": 368.2,
            "count": 8
           },
           {
            "bin_start": 368.2,
            "bin_end": 417.8,
            "count": 6
           },
           {
            "bin_start": 417.8,
            "bin_end": 467.40000000000003,
            "count": 0
           },
           {
            "bin_start": 467.40000000000003,
            "bin_end": 517,
            "count": 3
           }
          ]
         }
        },
        {
         "name": "link",
         "dtype": "object",
         "stats": {
          "unique_count": 159,
          "nan_count": 0,
          "categories": [
           {
            "name": "https://www.amazon.com/-/es/gp/slredirect/picassoRedirect.html/ref=pa_sp_atf_aps_sr_pg1_1?ie=UTF8&adId=A0817709C29C555QRRZG&url=%2FSeagate-IronWolf-NAS-servicio-recuperaci%25C3%25B3n%2Fdp%2FB084ZTSMWF%2Fref%3Dsr_1_1_sspa%3F__mk_es_US%3D%25C3%2585M%25C3%2585%25C5%25BD%25C3%2595%25C3%2591%26crid%3D3HX7HPZ82035K%26keywords%3Dinternal%2Bhdd%26qid%3D1646940209%26sprefix%3D%252Caps%252C144%26sr%3D8-1-spons%26psc%3D1&qualifier=1646940209&id=4680634515097962&widgetName=sp_atf",
            "count": 1
           },
           {
            "name": "https://www.amazon.com/-/es/gp/slredirect/picassoRedirect.html/ref=pa_sp_atf_aps_sr_pg1_1?ie=UTF8&adId=A04800783TLR7YL4WALBH&url=%2FToshiba-X300-rendimiento-pulgadas-HDWR11AXZSTA%2Fdp%2FB07CSFGLFZ%2Fref%3Dsr_1_2_sspa%3F__mk_es_US%3D%25C3%2585M%25C3%2585%25C5%25BD%25C3%2595%25C3%2591%26crid%3D3HX7HPZ82035K%26keywords%3Dinternal%2Bhdd%26qid%3D1646940209%26sprefix%3D%252Caps%252C144%26sr%3D8-2-spons%26psc%3D1&qualifier=1646940209&id=4680634515097962&widgetName=sp_atf",
            "count": 1
           },
           {
            "name": "157 others",
            "count": 157
           }
          ]
         }
        },
        {
         "name": "origin",
         "dtype": "object",
         "stats": {
          "unique_count": 1,
          "nan_count": 0,
          "categories": [
           {
            "name": "/work/games_seeker/data/raw/amazon_hdd_interno.csv",
            "count": 159
           }
          ]
         }
        },
        {
         "name": "type",
         "dtype": "object",
         "stats": {
          "unique_count": 1,
          "nan_count": 0,
          "categories": [
           {
            "name": "Storage",
            "count": 159
           }
          ]
         }
        },
        {
         "name": "category",
         "dtype": "object",
         "stats": {
          "unique_count": 3,
          "nan_count": 0,
          "categories": [
           {
            "name": "Gamer",
            "count": 75
           },
           {
            "name": "Desing",
            "count": 42
           },
           {
            "name": "Office",
            "count": 42
           }
          ]
         }
        },
        {
         "name": "range",
         "dtype": "object",
         "stats": {
          "unique_count": 3,
          "nan_count": 0,
          "categories": [
           {
            "name": "High",
            "count": 78
           },
           {
            "name": "Mid",
            "count": 58
           },
           {
            "name": "Low",
            "count": 23
           }
          ]
         }
        },
        {
         "name": "_deepnote_index_column",
         "dtype": "int64"
        }
       ],
       "rows": [
        {
         "title": "Seagate IronWolf NAS - Disco duro interno HDD, servicio de recuperación de datos.",
         "symbol": "US",
         "price": 279,
         "link": "https://www.amazon.com/-/es/gp/slredirect/picassoRedirect.html/ref=pa_sp_atf_aps_sr_pg1_1?ie=UTF8&a…",
         "origin": "/work/games_seeker/data/raw/amazon_hdd_interno.csv",
         "type": "Storage",
         "category": "Desing",
         "range": "High",
         "_deepnote_index_column": 0
        },
        {
         "title": "Toshiba X300 - Disco duro interno de 10 TB de rendimiento y juego de 3.5 pulgadas, CMR SATA 6 GB/s …",
         "symbol": "US",
         "price": 228,
         "link": "https://www.amazon.com/-/es/gp/slredirect/picassoRedirect.html/ref=pa_sp_atf_aps_sr_pg1_1?ie=UTF8&a…",
         "origin": "/work/games_seeker/data/raw/amazon_hdd_interno.csv",
         "type": "Storage",
         "category": "Desing",
         "range": "High",
         "_deepnote_index_column": 1
        },
        {
         "title": "Seagate BarraCuda - Disco duro interno de 2 TB, SATA de 3.5 pulgadas 6 Gb / s, 7200 RPM, 256 MB cac…",
         "symbol": "US",
         "price": 46,
         "link": "https://www.amazon.com/-/es/Seagate-BarraCuda-frustraci%C3%B3n-ST2000DM008-ST2000DMZ08/dp/B07H2RR55…",
         "origin": "/work/games_seeker/data/raw/amazon_hdd_interno.csv",
         "type": "Storage",
         "category": "Office",
         "range": "Mid",
         "_deepnote_index_column": 2
        },
        {
         "title": "Unidad de disco duro Seagate Exos 7E2",
         "symbol": "US",
         "price": 238,
         "link": "https://www.amazon.com/-/es/Unidad-disco-duro-Seagate-Exos/dp/B07T63FDJQ/ref=sr_1_4?__mk_es_US=%C3%…",
         "origin": "/work/games_seeker/data/raw/amazon_hdd_interno.csv",
         "type": "Storage",
         "category": "Desing",
         "range": "High",
         "_deepnote_index_column": 3
        },
        {
         "title": "Seagate IronWolf NAS - Disco duro interno HDD, servicio de recuperación de datos.",
         "symbol": "US",
         "price": 199,
         "link": "https://www.amazon.com/-/es/Seagate-IronWolf-NAS-servicio-recuperaci%C3%B3n/dp/B084ZV4DXB/ref=sr_1_…",
         "origin": "/work/games_seeker/data/raw/amazon_hdd_interno.csv",
         "type": "Storage",
         "category": "Gamer",
         "range": "High",
         "_deepnote_index_column": 4
        },
        {
         "title": "Western Digital - Disco duro interno WD Red Plus para sistema NAS de 6 TB, 5640 RPM, SATA 6 Gb/s, C…",
         "symbol": "US",
         "price": 109,
         "link": "https://www.amazon.com/-/es/gp/slredirect/picassoRedirect.html/ref=pa_sp_search_thematic_aps_sr_pg1…",
         "origin": "/work/games_seeker/data/raw/amazon_hdd_interno.csv",
         "type": "Storage",
         "category": "Gamer",
         "range": "High",
         "_deepnote_index_column": 5
        },
        {
         "title": "Western Digital Disco duro interno WD Red Plus NAS de 14 TB, 7200 RPM, SATA 6 GB/s, CMR, caché de 5…",
         "symbol": "US",
         "price": 299,
         "link": "https://www.amazon.com/-/es/Western-Digital-Disco-interno-pulgadas/dp/B08V13TGP4/ref=sr_1_6?__mk_es…",
         "origin": "/work/games_seeker/data/raw/amazon_hdd_interno.csv",
         "type": "Storage",
         "category": "Desing",
         "range": "High",
         "_deepnote_index_column": 6
        },
        {
         "title": "Western Digital Disco duro WD azul PC de 4 TB - 5400 RPM, SATA 6 Gb/s, caché de 256 MB, 3.5 pulgada…",
         "symbol": "US",
         "price": 59,
         "link": "https://www.amazon.com/-/es/Western-Digital-Disco-duro-azul/dp/B087QTVCHH/ref=sr_1_7?__mk_es_US=%C3…",
         "origin": "/work/games_seeker/data/raw/amazon_hdd_interno.csv",
         "type": "Storage",
         "category": "Gamer",
         "range": "Mid",
         "_deepnote_index_column": 7
        },
        {
         "title": "Toshiba X300 16TB Performance & Gaming Disco duro interno de 3.5 pulgadas – CMR SATA 6 GB/s 7200 RP…",
         "symbol": "US",
         "price": 379,
         "link": "https://www.amazon.com/-/es/Toshiba-Performance-Gaming-interno-pulgadas/dp/B099P8VGMY/ref=sr_1_8?__…",
         "origin": "/work/games_seeker/data/raw/amazon_hdd_interno.csv",
         "type": "Storage",
         "category": "Desing",
         "range": "High",
         "_deepnote_index_column": 8
        },
        {
         "title": "Western Digital Disco duro interno WD Gold Enterprise Class de 10 TB - Clase 7200 RPM, SATA 6 Gb/s,…",
         "symbol": "US",
         "price": 257,
         "link": "https://www.amazon.com/-/es/Western-Digital-Disco-interno-Enterprise/dp/B07XDD5MV8/ref=sr_1_9?__mk_…",
         "origin": "/work/games_seeker/data/raw/amazon_hdd_interno.csv",
         "type": "Storage",
         "category": "Desing",
         "range": "High",
         "_deepnote_index_column": 9
        }
       ]
      },
      "text/plain": "                                                 title symbol  price  \\\n0    Seagate IronWolf NAS - Disco duro interno HDD,...     US  279.0   \n1    Toshiba X300 - Disco duro interno de 10 TB de ...     US  228.0   \n2    Seagate BarraCuda - Disco duro interno de 2 TB...     US   46.0   \n3                Unidad de disco duro Seagate Exos 7E2     US  238.0   \n4    Seagate IronWolf NAS - Disco duro interno HDD,...     US  199.0   \n..                                                 ...    ...    ...   \n166  Seagate FireCuda 2TB unidad híbrida de estado ...     US  199.0   \n167  Seagate Cheetah SAS 16 MB Cache 2.5-Inch inter...     US   54.0   \n168               Western Digital 3TB SATA 6 Gb/s 3.5\"     US  148.0   \n169  Seagate Cheetah 10K.7 ST3300007FC - Disco duro...     US  104.0   \n170  Capacidad de la empresa (restaurado certificad...     US   37.0   \n\n                                                  link  \\\n0    https://www.amazon.com/-/es/gp/slredirect/pica...   \n1    https://www.amazon.com/-/es/gp/slredirect/pica...   \n2    https://www.amazon.com/-/es/Seagate-BarraCuda-...   \n3    https://www.amazon.com/-/es/Unidad-disco-duro-...   \n4    https://www.amazon.com/-/es/Seagate-IronWolf-N...   \n..                                                 ...   \n166  https://www.amazon.com/-/es/Seagate-FireCuda-u...   \n167  https://www.amazon.com/-/es/2-5-Inch-bare-oem-...   \n168  https://www.amazon.com/-/es/Western-Digital-3T...   \n169  https://www.amazon.com/-/es/Seagate-Cheetah-10...   \n170  https://www.amazon.com/-/es/Capacidad-empresa-...   \n\n                                                origin     type category range  \n0    /work/games_seeker/data/raw/amazon_hdd_interno...  Storage   Desing  High  \n1    /work/games_seeker/data/raw/amazon_hdd_interno...  Storage   Desing  High  \n2    /work/games_seeker/data/raw/amazon_hdd_interno...  Storage   Office   Mid  \n3    /work/games_seeker/data/raw/amazon_hdd_interno...  Storage   Desing  High  \n4    /work/games_seeker/data/raw/amazon_hdd_interno...  Storage    Gamer  High  \n..                                                 ...      ...      ...   ...  \n166  /work/games_seeker/data/raw/amazon_hdd_interno...  Storage    Gamer  High  \n167  /work/games_seeker/data/raw/amazon_hdd_interno...  Storage    Gamer   Mid  \n168  /work/games_seeker/data/raw/amazon_hdd_interno...  Storage    Gamer  High  \n169  /work/games_seeker/data/raw/amazon_hdd_interno...  Storage    Gamer  High  \n170  /work/games_seeker/data/raw/amazon_hdd_interno...  Storage   Office   Mid  \n\n[159 rows x 8 columns]",
      "text/html": "<div>\n<style scoped>\n    .dataframe tbody tr th:only-of-type {\n        vertical-align: middle;\n    }\n\n    .dataframe tbody tr th {\n        vertical-align: top;\n    }\n\n    .dataframe thead th {\n        text-align: right;\n    }\n</style>\n<table border=\"1\" class=\"dataframe\">\n  <thead>\n    <tr style=\"text-align: right;\">\n      <th></th>\n      <th>title</th>\n      <th>symbol</th>\n      <th>price</th>\n      <th>link</th>\n      <th>origin</th>\n      <th>type</th>\n      <th>category</th>\n      <th>range</th>\n    </tr>\n  </thead>\n  <tbody>\n    <tr>\n      <th>0</th>\n      <td>Seagate IronWolf NAS - Disco duro interno HDD,...</td>\n      <td>US</td>\n      <td>279.0</td>\n      <td>https://www.amazon.com/-/es/gp/slredirect/pica...</td>\n      <td>/work/games_seeker/data/raw/amazon_hdd_interno...</td>\n      <td>Storage</td>\n      <td>Desing</td>\n      <td>High</td>\n    </tr>\n    <tr>\n      <th>1</th>\n      <td>Toshiba X300 - Disco duro interno de 10 TB de ...</td>\n      <td>US</td>\n      <td>228.0</td>\n      <td>https://www.amazon.com/-/es/gp/slredirect/pica...</td>\n      <td>/work/games_seeker/data/raw/amazon_hdd_interno...</td>\n      <td>Storage</td>\n      <td>Desing</td>\n      <td>High</td>\n    </tr>\n    <tr>\n      <th>2</th>\n      <td>Seagate BarraCuda - Disco duro interno de 2 TB...</td>\n      <td>US</td>\n      <td>46.0</td>\n      <td>https://www.amazon.com/-/es/Seagate-BarraCuda-...</td>\n      <td>/work/games_seeker/data/raw/amazon_hdd_interno...</td>\n      <td>Storage</td>\n      <td>Office</td>\n      <td>Mid</td>\n    </tr>\n    <tr>\n      <th>3</th>\n      <td>Unidad de disco duro Seagate Exos 7E2</td>\n      <td>US</td>\n      <td>238.0</td>\n      <td>https://www.amazon.com/-/es/Unidad-disco-duro-...</td>\n      <td>/work/games_seeker/data/raw/amazon_hdd_interno...</td>\n      <td>Storage</td>\n      <td>Desing</td>\n      <td>High</td>\n    </tr>\n    <tr>\n      <th>4</th>\n      <td>Seagate IronWolf NAS - Disco duro interno HDD,...</td>\n      <td>US</td>\n      <td>199.0</td>\n      <td>https://www.amazon.com/-/es/Seagate-IronWolf-N...</td>\n      <td>/work/games_seeker/data/raw/amazon_hdd_interno...</td>\n      <td>Storage</td>\n      <td>Gamer</td>\n      <td>High</td>\n    </tr>\n    <tr>\n      <th>...</th>\n      <td>...</td>\n      <td>...</td>\n      <td>...</td>\n      <td>...</td>\n      <td>...</td>\n      <td>...</td>\n      <td>...</td>\n      <td>...</td>\n    </tr>\n    <tr>\n      <th>166</th>\n      <td>Seagate FireCuda 2TB unidad híbrida de estado ...</td>\n      <td>US</td>\n      <td>199.0</td>\n      <td>https://www.amazon.com/-/es/Seagate-FireCuda-u...</td>\n      <td>/work/games_seeker/data/raw/amazon_hdd_interno...</td>\n      <td>Storage</td>\n      <td>Gamer</td>\n      <td>High</td>\n    </tr>\n    <tr>\n      <th>167</th>\n      <td>Seagate Cheetah SAS 16 MB Cache 2.5-Inch inter...</td>\n      <td>US</td>\n      <td>54.0</td>\n      <td>https://www.amazon.com/-/es/2-5-Inch-bare-oem-...</td>\n      <td>/work/games_seeker/data/raw/amazon_hdd_interno...</td>\n      <td>Storage</td>\n      <td>Gamer</td>\n      <td>Mid</td>\n    </tr>\n    <tr>\n      <th>168</th>\n      <td>Western Digital 3TB SATA 6 Gb/s 3.5\"</td>\n      <td>US</td>\n      <td>148.0</td>\n      <td>https://www.amazon.com/-/es/Western-Digital-3T...</td>\n      <td>/work/games_seeker/data/raw/amazon_hdd_interno...</td>\n      <td>Storage</td>\n      <td>Gamer</td>\n      <td>High</td>\n    </tr>\n    <tr>\n      <th>169</th>\n      <td>Seagate Cheetah 10K.7 ST3300007FC - Disco duro...</td>\n      <td>US</td>\n      <td>104.0</td>\n      <td>https://www.amazon.com/-/es/Seagate-Cheetah-10...</td>\n      <td>/work/games_seeker/data/raw/amazon_hdd_interno...</td>\n      <td>Storage</td>\n      <td>Gamer</td>\n      <td>High</td>\n    </tr>\n    <tr>\n      <th>170</th>\n      <td>Capacidad de la empresa (restaurado certificad...</td>\n      <td>US</td>\n      <td>37.0</td>\n      <td>https://www.amazon.com/-/es/Capacidad-empresa-...</td>\n      <td>/work/games_seeker/data/raw/amazon_hdd_interno...</td>\n      <td>Storage</td>\n      <td>Office</td>\n      <td>Mid</td>\n    </tr>\n  </tbody>\n</table>\n<p>159 rows × 8 columns</p>\n</div>"
     },
     "metadata": {}
    }
   ]
  },
  {
   "cell_type": "markdown",
   "source": "## Tarjeta grafica",
   "metadata": {
    "cell_id": "6779dce3-623f-4993-ac90-a6ebe46ad544",
    "tags": [],
    "is_collapsed": false,
    "deepnote_cell_type": "text-cell-h2",
    "deepnote_cell_height": 70
   }
  },
  {
   "cell_type": "code",
   "metadata": {
    "cell_id": "3749249e-f950-4b1d-a9e6-9930f199e7b6",
    "tags": [],
    "deepnote_to_be_reexecuted": false,
    "source_hash": "311ed201",
    "execution_start": 1647039321526,
    "execution_millis": 32,
    "deepnote_cell_type": "code",
    "deepnote_cell_height": 81
   },
   "source": "gpu_df = dfs[\"amazon_tarjetas_graficas.csv\"]",
   "execution_count": null,
   "outputs": []
  },
  {
   "cell_type": "code",
   "metadata": {
    "cell_id": "6ea7db48-f607-444c-9d91-6708afdce8fb",
    "tags": [],
    "deepnote_to_be_reexecuted": false,
    "source_hash": "d3d519f8",
    "execution_start": 1647039321558,
    "execution_millis": 50,
    "deepnote_table_state": {
     "pageSize": 10,
     "pageIndex": 0,
     "filters": [],
     "sortBy": [
      {
       "id": "price",
       "type": "asc"
      }
     ]
    },
    "deepnote_table_loading": false,
    "deepnote_cell_type": "code",
    "deepnote_cell_height": 81
   },
   "source": "gpu_df = gpu_df[gpu_df[\"price\"] > 150]",
   "execution_count": null,
   "outputs": []
  },
  {
   "cell_type": "code",
   "metadata": {
    "cell_id": "6a26429b-bd0d-4217-ab1e-a4f9cc2ea1d9",
    "tags": [],
    "deepnote_to_be_reexecuted": false,
    "source_hash": "f8215e5e",
    "execution_start": 1647039321628,
    "execution_millis": 15,
    "deepnote_cell_type": "code",
    "deepnote_cell_height": 213.125
   },
   "source": "gpu_df.loc[:, \"type\"] = \"GPU\"",
   "execution_count": null,
   "outputs": [
    {
     "name": "stderr",
     "text": "/shared-libs/python3.7/py/lib/python3.7/site-packages/pandas/core/indexing.py:1667: SettingWithCopyWarning: \nA value is trying to be set on a copy of a slice from a DataFrame.\nTry using .loc[row_indexer,col_indexer] = value instead\n\nSee the caveats in the documentation: https://pandas.pydata.org/pandas-docs/stable/user_guide/indexing.html#returning-a-view-versus-a-copy\n  self.obj[key] = value\n",
     "output_type": "stream"
    }
   ]
  },
  {
   "cell_type": "code",
   "metadata": {
    "cell_id": "e990f725-0a61-47d6-8997-658bcb5150a6",
    "tags": [],
    "deepnote_to_be_reexecuted": false,
    "source_hash": "d9f03f64",
    "execution_start": 1647039321639,
    "execution_millis": 7,
    "deepnote_cell_type": "code",
    "deepnote_cell_height": 81
   },
   "source": "gpu_df.loc[:, \"category\"] = 'Gamer/Desing'",
   "execution_count": null,
   "outputs": []
  },
  {
   "cell_type": "code",
   "metadata": {
    "cell_id": "349f68c2-5244-4150-8eef-37f96703237a",
    "tags": [],
    "deepnote_to_be_reexecuted": false,
    "source_hash": "27288f28",
    "execution_start": 1647039321670,
    "execution_millis": 191,
    "deepnote_table_state": {
     "pageSize": 10,
     "pageIndex": 3,
     "filters": [],
     "sortBy": [
      {
       "id": "price",
       "type": "desc"
      }
     ]
    },
    "deepnote_table_loading": false,
    "deepnote_cell_type": "code",
    "deepnote_cell_height": 630
   },
   "source": "gpu_df",
   "execution_count": null,
   "outputs": [
    {
     "output_type": "execute_result",
     "execution_count": 37,
     "data": {
      "application/vnd.deepnote.dataframe.v3+json": {
       "column_count": 7,
       "row_count": 100,
       "columns": [
        {
         "name": "title",
         "dtype": "object",
         "stats": {
          "unique_count": 81,
          "nan_count": 0,
          "categories": [
           {
            "name": "KAER Tarjeta gráfica AMD Radeon RX 550 de 4 GB, GDDR5, 128 bits, DirectX 12, PCI Express 3.0, DP HDMI DVI-D, tarjeta de video para juegos de escritorio, GPU para computadora",
            "count": 8
           },
           {
            "name": "Tarjeta gráfica GeForce GT 1030 4GB GDDR4 64bit GTX 1030 HDMI VGA GT1030 tarjeta de vídeo",
            "count": 8
           },
           {
            "name": "79 others",
            "count": 84
           }
          ]
         }
        },
        {
         "name": "symbol",
         "dtype": "object",
         "stats": {
          "unique_count": 1,
          "nan_count": 0,
          "categories": [
           {
            "name": "US",
            "count": 100
           }
          ]
         }
        },
        {
         "name": "price",
         "dtype": "float64",
         "stats": {
          "unique_count": 65,
          "nan_count": 0,
          "min": "159.0",
          "max": "2699.0",
          "histogram": [
           {
            "bin_start": 159,
            "bin_end": 413,
            "count": 37
           },
           {
            "bin_start": 413,
            "bin_end": 667,
            "count": 19
           },
           {
            "bin_start": 667,
            "bin_end": 921,
            "count": 15
           },
           {
            "bin_start": 921,
            "bin_end": 1175,
            "count": 8
           },
           {
            "bin_start": 1175,
            "bin_end": 1429,
            "count": 9
           },
           {
            "bin_start": 1429,
            "bin_end": 1683,
            "count": 4
           },
           {
            "bin_start": 1683,
            "bin_end": 1937,
            "count": 3
           },
           {
            "bin_start": 1937,
            "bin_end": 2191,
            "count": 1
           },
           {
            "bin_start": 2191,
            "bin_end": 2445,
            "count": 0
           },
           {
            "bin_start": 2445,
            "bin_end": 2699,
            "count": 4
           }
          ]
         }
        },
        {
         "name": "link",
         "dtype": "object",
         "stats": {
          "unique_count": 100,
          "nan_count": 0,
          "categories": [
           {
            "name": "https://www.amazon.com/-/es/GIGABYTE-ventiladores-WINDFORCE-GV-N3090VISION-OC-24GD/dp/B083GS45CR/ref=sr_1_127?__mk_es_US=%C3%85M%C3%85%C5%BD%C3%95%C3%91&keywords=graphics+cards&qid=1646959919&sr=8-127",
            "count": 1
           },
           {
            "name": "https://www.amazon.com/-/es/GeForce-DisplayPort-rodamientos-ventilador-certificaci%C3%B3n/dp/B09H3SWN77/ref=sr_1_150?__mk_es_US=%C3%85M%C3%85%C5%BD%C3%95%C3%91&keywords=graphics+cards&qid=1646959978&sr=8-150",
            "count": 1
           },
           {
            "name": "98 others",
            "count": 98
           }
          ]
         }
        },
        {
         "name": "origin",
         "dtype": "object",
         "stats": {
          "unique_count": 1,
          "nan_count": 0,
          "categories": [
           {
            "name": "/work/games_seeker/data/raw/amazon_tarjetas_graficas.csv",
            "count": 100
           }
          ]
         }
        },
        {
         "name": "type",
         "dtype": "object",
         "stats": {
          "unique_count": 1,
          "nan_count": 0,
          "categories": [
           {
            "name": "GPU",
            "count": 100
           }
          ]
         }
        },
        {
         "name": "category",
         "dtype": "object",
         "stats": {
          "unique_count": 1,
          "nan_count": 0,
          "categories": [
           {
            "name": "Gamer/Desing",
            "count": 100
           }
          ]
         }
        },
        {
         "name": "_deepnote_index_column",
         "dtype": "int64"
        }
       ],
       "rows": [
        {
         "title": "PowerColor Hellhound - Tarjeta gráfica AMD Radeon RX 6700 XT para juegos con memoria GDDR6 de 12 GB…",
         "symbol": "US",
         "price": 899,
         "link": "https://www.amazon.com/-/es/PowerColor-Hellhound-alimentada-Raytracing-Infinity/dp/B08Y93KQR4/ref=s…",
         "origin": "/work/games_seeker/data/raw/amazon_tarjetas_graficas.csv",
         "type": "GPU",
         "category": "Gamer/Desing",
         "_deepnote_index_column": 9
        },
        {
         "title": "MSI - Tarjeta gráfica Gaming GeForce RTX 3060 Ti LHR 8GB GDRR6 256-Bit HDMI/DP Torx Fan 3 Arquitect…",
         "symbol": "US",
         "price": 869,
         "link": "https://www.amazon.com/-/es/MSI-Tarjeta-gr%C3%A1fica-GeForce-Arquitectura/dp/B09BK9X9K9/ref=sr_1_10…",
         "origin": "/work/games_seeker/data/raw/amazon_tarjetas_graficas.csv",
         "type": "GPU",
         "category": "Gamer/Desing",
         "_deepnote_index_column": 55
        },
        {
         "title": "ASUS ROG-STRIX-GTX1080TI-O11G-GAMING GeForce 11GB OC Edition VR Ready 5K HD Gaming HDMI DisplayPort…",
         "symbol": "US",
         "price": 849,
         "link": "https://www.amazon.com/-/es/ROG-STRIX-GTX1080TI-O11G-GAMING-GeForce-DisplayPort-Overclocked-renovad…",
         "origin": "/work/games_seeker/data/raw/amazon_tarjetas_graficas.csv",
         "type": "GPU",
         "category": "Gamer/Desing",
         "_deepnote_index_column": 109
        },
        {
         "title": "XFX Speedster QICK319 AMD Radeon RX 6700 XT - Tarjeta gráfica para videojuegos con 12 GB GDDR6 HDMI…",
         "symbol": "US",
         "price": 848,
         "link": "https://www.amazon.com/-/es/XFX-Speedster-QICK319-Radeon-6700/dp/B091ZKN2RV/ref=sr_1_7?__mk_es_US=%…",
         "origin": "/work/games_seeker/data/raw/amazon_tarjetas_graficas.csv",
         "type": "GPU",
         "category": "Gamer/Desing",
         "_deepnote_index_column": 6
        },
        {
         "title": "Tarjetas gr&aacute;ficas de video PCI-Express MSI R580GXP8",
         "symbol": "US",
         "price": 848,
         "link": "https://www.amazon.com/-/es/Tarjetas-gr%C3%A1ficas-video-PCI-Express-R580GXP8/dp/B06XZQMMHJ/ref=sr_…",
         "origin": "/work/games_seeker/data/raw/amazon_tarjetas_graficas.csv",
         "type": "GPU",
         "category": "Gamer/Desing",
         "_deepnote_index_column": 53
        },
        {
         "title": "ASUS KO NVIDIA GeForce RTX 3060 Ti V2 OC Edition - Tarjeta gráfica para juegos con 8GB GDDR6 - memo…",
         "symbol": "US",
         "price": 839,
         "link": "https://www.amazon.com/-/es/ASUS-NVIDIA-GeForce-3060-condensadores/dp/B09CBQYXLN/ref=sr_1_114?__mk_…",
         "origin": "/work/games_seeker/data/raw/amazon_tarjetas_graficas.csv",
         "type": "GPU",
         "category": "Gamer/Desing",
         "_deepnote_index_column": 60
        },
        {
         "title": "ZOTAC Gaming GeForce RTX 3060 Ti Twin Edge OC LHR 8GB GDDR6 256-bit 14 Gbps PCIE 4.0 Tarjeta gráfic…",
         "symbol": "US",
         "price": 809,
         "link": "https://www.amazon.com/-/es/IceStorm-refrigeraci%C3%B3n-avanzada-ventilador-ZT-A30610H-10MLHR/dp/B0…",
         "origin": "/work/games_seeker/data/raw/amazon_tarjetas_graficas.csv",
         "type": "GPU",
         "category": "Gamer/Desing",
         "_deepnote_index_column": 76
        },
        {
         "title": "ASUS Tarjeta gráfica Dual NVIDIA GeForce RTX 3060 V2 OC Edition 12 GB GDDR6 Gaming (PCIe 4.0, memor…",
         "symbol": "US",
         "price": 793,
         "link": "https://www.amazon.com/-/es/Tarjeta-gr%C3%A1fica-DisplayPort-ventilador-tecnolog%C3%ADa/dp/B0985X2Y…",
         "origin": "/work/games_seeker/data/raw/amazon_tarjetas_graficas.csv",
         "type": "GPU",
         "category": "Gamer/Desing",
         "_deepnote_index_column": 33
        },
        {
         "title": "MSI GAMING GeForce GTX 1070 8GB GDDR5 DirectX 12 VR Ready (GeForce GTX 1070 SEA HAWK X) (Reacondici…",
         "symbol": "US",
         "price": 699,
         "link": "https://www.amazon.com/-/es/GeForce-GTX-DirectX-Reacondicionado-certificado/dp/B07K8YD783/ref=sr_1_…",
         "origin": "/work/games_seeker/data/raw/amazon_tarjetas_graficas.csv",
         "type": "GPU",
         "category": "Gamer/Desing",
         "_deepnote_index_column": 118
        },
        {
         "title": "ZOTAC Gaming GeForce RTX 3060 Twin Edge OC 12 GB GDDR6 192 bits 15 Gbps PCIE 4.0 tarjeta gráfica, r…",
         "symbol": "US",
         "price": 699,
         "link": "https://www.amazon.com/-/es/GeForce-refrigeraci%C3%B3n-IceStorm-ventilador-ZT-A30600H-10M/dp/B08W8D…",
         "origin": "/work/games_seeker/data/raw/amazon_tarjetas_graficas.csv",
         "type": "GPU",
         "category": "Gamer/Desing",
         "_deepnote_index_column": 3
        }
       ]
      },
      "text/plain": "                                                 title symbol  price  \\\n0    GT 1030 4GB GDRR4 64 bits HDMI DVI salida tarj...     US  159.0   \n1    SAPLOS GTX 1050 Ti Tarjeta gráfica, 4 GB, 128 ...     US  359.0   \n2    ZOTAC Gaming GeForce GTX 1660 Super 6GB GDDR6 ...     US  523.0   \n3    ZOTAC Gaming GeForce RTX 3060 Twin Edge OC 12 ...     US  699.0   \n4    XFX Speedster SWFT 210 Radeon RX 6600 CORE - T...     US  459.0   \n..                                                 ...    ...    ...   \n123  ASUS TUF Gaming NVIDIA GeForce GTX 1660 Ti EVO...     US  589.0   \n126          PNY NVIDIA Quadro K1200 - (VCQK1200DP-PB)     US  318.0   \n127  KAER Tarjeta gráfica AMD Radeon RX 550 de 4 GB...     US  199.0   \n128  Tarjeta gráfica GeForce GT 1030 4GB GDDR4 64bi...     US  185.0   \n129  Sapphire 11265-67-20G Radeon Pulse RX 580 8GB ...     US  499.0   \n\n                                                  link  \\\n0    https://www.amazon.com/-/es/gp/slredirect/pica...   \n1    https://www.amazon.com/-/es/gp/slredirect/pica...   \n2    https://www.amazon.com/-/es/Geforce-GTX-1660-S...   \n3    https://www.amazon.com/-/es/GeForce-refrigerac...   \n4    https://www.amazon.com/-/es/Speedster-SWFT-Rad...   \n..                                                 ...   \n123  https://www.amazon.com/-/es/GeForce-DisplayPor...   \n126  https://www.amazon.com/-/es/PNY-NVIDIA-Quadro-...   \n127  https://www.amazon.com/gp/slredirect/picassoRe...   \n128  https://www.amazon.com/-/es/gp/slredirect/pica...   \n129  https://www.amazon.com/-/es/Sapphire-11265-67-...   \n\n                                                origin type      category  \n0    /work/games_seeker/data/raw/amazon_tarjetas_gr...  GPU  Gamer/Desing  \n1    /work/games_seeker/data/raw/amazon_tarjetas_gr...  GPU  Gamer/Desing  \n2    /work/games_seeker/data/raw/amazon_tarjetas_gr...  GPU  Gamer/Desing  \n3    /work/games_seeker/data/raw/amazon_tarjetas_gr...  GPU  Gamer/Desing  \n4    /work/games_seeker/data/raw/amazon_tarjetas_gr...  GPU  Gamer/Desing  \n..                                                 ...  ...           ...  \n123  /work/games_seeker/data/raw/amazon_tarjetas_gr...  GPU  Gamer/Desing  \n126  /work/games_seeker/data/raw/amazon_tarjetas_gr...  GPU  Gamer/Desing  \n127  /work/games_seeker/data/raw/amazon_tarjetas_gr...  GPU  Gamer/Desing  \n128  /work/games_seeker/data/raw/amazon_tarjetas_gr...  GPU  Gamer/Desing  \n129  /work/games_seeker/data/raw/amazon_tarjetas_gr...  GPU  Gamer/Desing  \n\n[100 rows x 7 columns]",
      "text/html": "<div>\n<style scoped>\n    .dataframe tbody tr th:only-of-type {\n        vertical-align: middle;\n    }\n\n    .dataframe tbody tr th {\n        vertical-align: top;\n    }\n\n    .dataframe thead th {\n        text-align: right;\n    }\n</style>\n<table border=\"1\" class=\"dataframe\">\n  <thead>\n    <tr style=\"text-align: right;\">\n      <th></th>\n      <th>title</th>\n      <th>symbol</th>\n      <th>price</th>\n      <th>link</th>\n      <th>origin</th>\n      <th>type</th>\n      <th>category</th>\n    </tr>\n  </thead>\n  <tbody>\n    <tr>\n      <th>0</th>\n      <td>GT 1030 4GB GDRR4 64 bits HDMI DVI salida tarj...</td>\n      <td>US</td>\n      <td>159.0</td>\n      <td>https://www.amazon.com/-/es/gp/slredirect/pica...</td>\n      <td>/work/games_seeker/data/raw/amazon_tarjetas_gr...</td>\n      <td>GPU</td>\n      <td>Gamer/Desing</td>\n    </tr>\n    <tr>\n      <th>1</th>\n      <td>SAPLOS GTX 1050 Ti Tarjeta gráfica, 4 GB, 128 ...</td>\n      <td>US</td>\n      <td>359.0</td>\n      <td>https://www.amazon.com/-/es/gp/slredirect/pica...</td>\n      <td>/work/games_seeker/data/raw/amazon_tarjetas_gr...</td>\n      <td>GPU</td>\n      <td>Gamer/Desing</td>\n    </tr>\n    <tr>\n      <th>2</th>\n      <td>ZOTAC Gaming GeForce GTX 1660 Super 6GB GDDR6 ...</td>\n      <td>US</td>\n      <td>523.0</td>\n      <td>https://www.amazon.com/-/es/Geforce-GTX-1660-S...</td>\n      <td>/work/games_seeker/data/raw/amazon_tarjetas_gr...</td>\n      <td>GPU</td>\n      <td>Gamer/Desing</td>\n    </tr>\n    <tr>\n      <th>3</th>\n      <td>ZOTAC Gaming GeForce RTX 3060 Twin Edge OC 12 ...</td>\n      <td>US</td>\n      <td>699.0</td>\n      <td>https://www.amazon.com/-/es/GeForce-refrigerac...</td>\n      <td>/work/games_seeker/data/raw/amazon_tarjetas_gr...</td>\n      <td>GPU</td>\n      <td>Gamer/Desing</td>\n    </tr>\n    <tr>\n      <th>4</th>\n      <td>XFX Speedster SWFT 210 Radeon RX 6600 CORE - T...</td>\n      <td>US</td>\n      <td>459.0</td>\n      <td>https://www.amazon.com/-/es/Speedster-SWFT-Rad...</td>\n      <td>/work/games_seeker/data/raw/amazon_tarjetas_gr...</td>\n      <td>GPU</td>\n      <td>Gamer/Desing</td>\n    </tr>\n    <tr>\n      <th>...</th>\n      <td>...</td>\n      <td>...</td>\n      <td>...</td>\n      <td>...</td>\n      <td>...</td>\n      <td>...</td>\n      <td>...</td>\n    </tr>\n    <tr>\n      <th>123</th>\n      <td>ASUS TUF Gaming NVIDIA GeForce GTX 1660 Ti EVO...</td>\n      <td>US</td>\n      <td>589.0</td>\n      <td>https://www.amazon.com/-/es/GeForce-DisplayPor...</td>\n      <td>/work/games_seeker/data/raw/amazon_tarjetas_gr...</td>\n      <td>GPU</td>\n      <td>Gamer/Desing</td>\n    </tr>\n    <tr>\n      <th>126</th>\n      <td>PNY NVIDIA Quadro K1200 - (VCQK1200DP-PB)</td>\n      <td>US</td>\n      <td>318.0</td>\n      <td>https://www.amazon.com/-/es/PNY-NVIDIA-Quadro-...</td>\n      <td>/work/games_seeker/data/raw/amazon_tarjetas_gr...</td>\n      <td>GPU</td>\n      <td>Gamer/Desing</td>\n    </tr>\n    <tr>\n      <th>127</th>\n      <td>KAER Tarjeta gráfica AMD Radeon RX 550 de 4 GB...</td>\n      <td>US</td>\n      <td>199.0</td>\n      <td>https://www.amazon.com/gp/slredirect/picassoRe...</td>\n      <td>/work/games_seeker/data/raw/amazon_tarjetas_gr...</td>\n      <td>GPU</td>\n      <td>Gamer/Desing</td>\n    </tr>\n    <tr>\n      <th>128</th>\n      <td>Tarjeta gráfica GeForce GT 1030 4GB GDDR4 64bi...</td>\n      <td>US</td>\n      <td>185.0</td>\n      <td>https://www.amazon.com/-/es/gp/slredirect/pica...</td>\n      <td>/work/games_seeker/data/raw/amazon_tarjetas_gr...</td>\n      <td>GPU</td>\n      <td>Gamer/Desing</td>\n    </tr>\n    <tr>\n      <th>129</th>\n      <td>Sapphire 11265-67-20G Radeon Pulse RX 580 8GB ...</td>\n      <td>US</td>\n      <td>499.0</td>\n      <td>https://www.amazon.com/-/es/Sapphire-11265-67-...</td>\n      <td>/work/games_seeker/data/raw/amazon_tarjetas_gr...</td>\n      <td>GPU</td>\n      <td>Gamer/Desing</td>\n    </tr>\n  </tbody>\n</table>\n<p>100 rows × 7 columns</p>\n</div>"
     },
     "metadata": {}
    }
   ]
  },
  {
   "cell_type": "code",
   "metadata": {
    "cell_id": "1eed37fd-f003-41c1-b2a2-a9b56c50b8d5",
    "tags": [],
    "deepnote_to_be_reexecuted": false,
    "source_hash": "fbbf2ea5",
    "execution_start": 1647039321936,
    "execution_millis": 2,
    "deepnote_cell_type": "code",
    "deepnote_cell_height": 388.25
   },
   "source": "gpu_df.loc[:, \"range\"] = \"\"\ngpu_df.loc[gpu_df[\"price\"] <= 250, \"range\"] = \"Low\"\ngpu_df.loc[(gpu_df[\"price\"] > 250) & (gpu_df[\"price\"] <= 700), \"range\"] = \"Mid\"\ngpu_df.loc[gpu_df[\"price\"] > 700, \"range\"] = \"High\"",
   "execution_count": null,
   "outputs": [
    {
     "name": "stderr",
     "text": "/shared-libs/python3.7/py/lib/python3.7/site-packages/pandas/core/indexing.py:1667: SettingWithCopyWarning: \nA value is trying to be set on a copy of a slice from a DataFrame.\nTry using .loc[row_indexer,col_indexer] = value instead\n\nSee the caveats in the documentation: https://pandas.pydata.org/pandas-docs/stable/user_guide/indexing.html#returning-a-view-versus-a-copy\n  self.obj[key] = value\n/shared-libs/python3.7/py/lib/python3.7/site-packages/pandas/core/indexing.py:1817: SettingWithCopyWarning: \nA value is trying to be set on a copy of a slice from a DataFrame.\nTry using .loc[row_indexer,col_indexer] = value instead\n\nSee the caveats in the documentation: https://pandas.pydata.org/pandas-docs/stable/user_guide/indexing.html#returning-a-view-versus-a-copy\n  self._setitem_single_column(loc, value, pi)\n",
     "output_type": "stream"
    }
   ]
  },
  {
   "cell_type": "code",
   "metadata": {
    "cell_id": "f21f195d-50de-4671-8ad2-a0801101e3c6",
    "tags": [],
    "deepnote_to_be_reexecuted": false,
    "source_hash": "e60b022a",
    "execution_start": 1647039321981,
    "execution_millis": 0,
    "deepnote_cell_type": "code",
    "deepnote_cell_height": 81
   },
   "source": "dfs[\"amazon_tarjetas_graficas.csv\"] = gpu_df[ORDERED_COLUMNS]",
   "execution_count": null,
   "outputs": []
  },
  {
   "cell_type": "code",
   "metadata": {
    "cell_id": "54cb9559-9dbc-4245-a517-43a897a3c385",
    "tags": [],
    "deepnote_to_be_reexecuted": false,
    "source_hash": "20f7444c",
    "execution_start": 1647039322000,
    "execution_millis": 141,
    "deepnote_cell_type": "code",
    "deepnote_cell_height": 598
   },
   "source": "dfs[\"amazon_tarjetas_graficas.csv\"]",
   "execution_count": null,
   "outputs": [
    {
     "output_type": "execute_result",
     "execution_count": 40,
     "data": {
      "application/vnd.deepnote.dataframe.v3+json": {
       "column_count": 8,
       "row_count": 100,
       "columns": [
        {
         "name": "title",
         "dtype": "object",
         "stats": {
          "unique_count": 81,
          "nan_count": 0,
          "categories": [
           {
            "name": "Tarjeta gráfica GeForce GT 1030 4GB GDDR4 64bit GTX 1030 HDMI VGA GT1030 tarjeta de vídeo",
            "count": 8
           },
           {
            "name": "KAER Tarjeta gráfica AMD Radeon RX 550 de 4 GB, GDDR5, 128 bits, DirectX 12, PCI Express 3.0, DP HDMI DVI-D, tarjeta de video para juegos de escritorio, GPU para computadora",
            "count": 8
           },
           {
            "name": "79 others",
            "count": 84
           }
          ]
         }
        },
        {
         "name": "type",
         "dtype": "object",
         "stats": {
          "unique_count": 1,
          "nan_count": 0,
          "categories": [
           {
            "name": "GPU",
            "count": 100
           }
          ]
         }
        },
        {
         "name": "category",
         "dtype": "object",
         "stats": {
          "unique_count": 1,
          "nan_count": 0,
          "categories": [
           {
            "name": "Gamer/Desing",
            "count": 100
           }
          ]
         }
        },
        {
         "name": "range",
         "dtype": "object",
         "stats": {
          "unique_count": 3,
          "nan_count": 0,
          "categories": [
           {
            "name": "Mid",
            "count": 38
           },
           {
            "name": "High",
            "count": 38
           },
           {
            "name": "Low",
            "count": 24
           }
          ]
         }
        },
        {
         "name": "symbol",
         "dtype": "object",
         "stats": {
          "unique_count": 1,
          "nan_count": 0,
          "categories": [
           {
            "name": "US",
            "count": 100
           }
          ]
         }
        },
        {
         "name": "price",
         "dtype": "float64",
         "stats": {
          "unique_count": 65,
          "nan_count": 0,
          "min": "159.0",
          "max": "2699.0",
          "histogram": [
           {
            "bin_start": 159,
            "bin_end": 413,
            "count": 37
           },
           {
            "bin_start": 413,
            "bin_end": 667,
            "count": 19
           },
           {
            "bin_start": 667,
            "bin_end": 921,
            "count": 15
           },
           {
            "bin_start": 921,
            "bin_end": 1175,
            "count": 8
           },
           {
            "bin_start": 1175,
            "bin_end": 1429,
            "count": 9
           },
           {
            "bin_start": 1429,
            "bin_end": 1683,
            "count": 4
           },
           {
            "bin_start": 1683,
            "bin_end": 1937,
            "count": 3
           },
           {
            "bin_start": 1937,
            "bin_end": 2191,
            "count": 1
           },
           {
            "bin_start": 2191,
            "bin_end": 2445,
            "count": 0
           },
           {
            "bin_start": 2445,
            "bin_end": 2699,
            "count": 4
           }
          ]
         }
        },
        {
         "name": "link",
         "dtype": "object",
         "stats": {
          "unique_count": 100,
          "nan_count": 0,
          "categories": [
           {
            "name": "https://www.amazon.com/-/es/gp/slredirect/picassoRedirect.html/ref=pa_sp_atf_aps_sr_pg1_1?ie=UTF8&adId=A0764807TB4749F462KX&url=%2FGT-1030-tarjeta-ventilador-refrigeraci%25C3%25B3n%2Fdp%2FB09PYBMNV2%2Fref%3Dsr_1_1_sspa%3F__mk_es_US%3D%25C3%2585M%25C3%2585%25C5%25BD%25C3%2595%25C3%2591%26keywords%3Dgraphics%2Bcards%26qid%3D1646959725%26sr%3D8-1-spons%26psc%3D1&qualifier=1646959725&id=4799811844339215&widgetName=sp_atf",
            "count": 1
           },
           {
            "name": "https://www.amazon.com/-/es/gp/slredirect/picassoRedirect.html/ref=pa_sp_atf_aps_sr_pg1_1?ie=UTF8&adId=A05651911YR0HOIMV0IXJ&url=%2FTarjeta-videojuegos-computadora-DisplayPort-ventiladores%2Fdp%2FB09KTPBJKY%2Fref%3Dsr_1_2_sspa%3F__mk_es_US%3D%25C3%2585M%25C3%2585%25C5%25BD%25C3%2595%25C3%2591%26keywords%3Dgraphics%2Bcards%26qid%3D1646959725%26sr%3D8-2-spons%26psc%3D1&qualifier=1646959725&id=4799811844339215&widgetName=sp_atf",
            "count": 1
           },
           {
            "name": "98 others",
            "count": 98
           }
          ]
         }
        },
        {
         "name": "origin",
         "dtype": "object",
         "stats": {
          "unique_count": 1,
          "nan_count": 0,
          "categories": [
           {
            "name": "/work/games_seeker/data/raw/amazon_tarjetas_graficas.csv",
            "count": 100
           }
          ]
         }
        },
        {
         "name": "_deepnote_index_column",
         "dtype": "int64"
        }
       ],
       "rows": [
        {
         "title": "GT 1030 4GB GDRR4 64 bits HDMI DVI salida tarjeta gráfica, ventilador de refrigeración único PC tar…",
         "type": "GPU",
         "category": "Gamer/Desing",
         "range": "Low",
         "symbol": "US",
         "price": 159,
         "link": "https://www.amazon.com/-/es/gp/slredirect/picassoRedirect.html/ref=pa_sp_atf_aps_sr_pg1_1?ie=UTF8&a…",
         "origin": "/work/games_seeker/data/raw/amazon_tarjetas_graficas.csv",
         "_deepnote_index_column": 0
        },
        {
         "title": "SAPLOS GTX 1050 Ti Tarjeta gráfica, 4 GB, 128 bits, GDDR5, GPU para PC videojuegos, tarjeta de vide…",
         "type": "GPU",
         "category": "Gamer/Desing",
         "range": "Mid",
         "symbol": "US",
         "price": 359,
         "link": "https://www.amazon.com/-/es/gp/slredirect/picassoRedirect.html/ref=pa_sp_atf_aps_sr_pg1_1?ie=UTF8&a…",
         "origin": "/work/games_seeker/data/raw/amazon_tarjetas_graficas.csv",
         "_deepnote_index_column": 1
        },
        {
         "title": "ZOTAC Gaming GeForce GTX 1660 Super 6GB GDDR6 192-bit Gaming Graphics Card, Super Compact, ZT-T1662…",
         "type": "GPU",
         "category": "Gamer/Desing",
         "range": "Mid",
         "symbol": "US",
         "price": 523,
         "link": "https://www.amazon.com/-/es/Geforce-GTX-1660-SUPER-TWIN/dp/B07Z8PWC6R/ref=sr_1_3?__mk_es_US=%C3%85M…",
         "origin": "/work/games_seeker/data/raw/amazon_tarjetas_graficas.csv",
         "_deepnote_index_column": 2
        },
        {
         "title": "ZOTAC Gaming GeForce RTX 3060 Twin Edge OC 12 GB GDDR6 192 bits 15 Gbps PCIE 4.0 tarjeta gráfica, r…",
         "type": "GPU",
         "category": "Gamer/Desing",
         "range": "Mid",
         "symbol": "US",
         "price": 699,
         "link": "https://www.amazon.com/-/es/GeForce-refrigeraci%C3%B3n-IceStorm-ventilador-ZT-A30600H-10M/dp/B08W8D…",
         "origin": "/work/games_seeker/data/raw/amazon_tarjetas_graficas.csv",
         "_deepnote_index_column": 3
        },
        {
         "title": "XFX Speedster SWFT 210 Radeon RX 6600 CORE - Tarjeta gráfica para juegos con 8 GB GDDR6 HDMI 3xDP, …",
         "type": "GPU",
         "category": "Gamer/Desing",
         "range": "Mid",
         "symbol": "US",
         "price": 459,
         "link": "https://www.amazon.com/-/es/Speedster-SWFT-Radeon-6600-CORE/dp/B09HHLX543/ref=sr_1_5?__mk_es_US=%C3…",
         "origin": "/work/games_seeker/data/raw/amazon_tarjetas_graficas.csv",
         "_deepnote_index_column": 4
        },
        {
         "title": "XFX Speedster QICK319 AMD Radeon RX 6700 XT - Tarjeta gráfica para videojuegos con 12 GB GDDR6 HDMI…",
         "type": "GPU",
         "category": "Gamer/Desing",
         "range": "High",
         "symbol": "US",
         "price": 848,
         "link": "https://www.amazon.com/-/es/XFX-Speedster-QICK319-Radeon-6700/dp/B091ZKN2RV/ref=sr_1_7?__mk_es_US=%…",
         "origin": "/work/games_seeker/data/raw/amazon_tarjetas_graficas.csv",
         "_deepnote_index_column": 6
        },
        {
         "title": "EVGA GeForce GTX 1660 SC Ultra Gaming, 06G-P4-1067-KR, 6GB GDDR5, Ventilador dual",
         "type": "GPU",
         "category": "Gamer/Desing",
         "range": "Mid",
         "symbol": "US",
         "price": 449,
         "link": "https://www.amazon.com/-/es/GeForce-Ultra-Gaming-06G-P4-1067-KR-Ventilador/dp/B07RJGL33C/ref=sr_1_8…",
         "origin": "/work/games_seeker/data/raw/amazon_tarjetas_graficas.csv",
         "_deepnote_index_column": 7
        },
        {
         "title": "ZOTAC GAMING GeForce GTX 1650 LP 4GB GDDR5 Gráficos para juegos de 128 bits",
         "type": "GPU",
         "category": "Gamer/Desing",
         "range": "Mid",
         "symbol": "US",
         "price": 318,
         "link": "https://www.amazon.com/-/es/ZOTAC-GAMING-GeForce-Gr%C3%A1ficos-juegos/dp/B0881YZJ45/ref=sr_1_9?__mk…",
         "origin": "/work/games_seeker/data/raw/amazon_tarjetas_graficas.csv",
         "_deepnote_index_column": 8
        },
        {
         "title": "PowerColor Hellhound - Tarjeta gráfica AMD Radeon RX 6700 XT para juegos con memoria GDDR6 de 12 GB…",
         "type": "GPU",
         "category": "Gamer/Desing",
         "range": "High",
         "symbol": "US",
         "price": 899,
         "link": "https://www.amazon.com/-/es/PowerColor-Hellhound-alimentada-Raytracing-Infinity/dp/B08Y93KQR4/ref=s…",
         "origin": "/work/games_seeker/data/raw/amazon_tarjetas_graficas.csv",
         "_deepnote_index_column": 9
        },
        {
         "title": "Tarjeta gráfica GeForce GT 1030 4GB GDDR4 64bit GTX 1030 HDMI VGA GT1030 tarjeta de vídeo",
         "type": "GPU",
         "category": "Gamer/Desing",
         "range": "Low",
         "symbol": "US",
         "price": 185,
         "link": "https://www.amazon.com/-/es/gp/slredirect/picassoRedirect.html/ref=pa_sp_mtf_aps_sr_pg1_1?ie=UTF8&a…",
         "origin": "/work/games_seeker/data/raw/amazon_tarjetas_graficas.csv",
         "_deepnote_index_column": 10
        }
       ]
      },
      "text/plain": "                                                 title type      category  \\\n0    GT 1030 4GB GDRR4 64 bits HDMI DVI salida tarj...  GPU  Gamer/Desing   \n1    SAPLOS GTX 1050 Ti Tarjeta gráfica, 4 GB, 128 ...  GPU  Gamer/Desing   \n2    ZOTAC Gaming GeForce GTX 1660 Super 6GB GDDR6 ...  GPU  Gamer/Desing   \n3    ZOTAC Gaming GeForce RTX 3060 Twin Edge OC 12 ...  GPU  Gamer/Desing   \n4    XFX Speedster SWFT 210 Radeon RX 6600 CORE - T...  GPU  Gamer/Desing   \n..                                                 ...  ...           ...   \n123  ASUS TUF Gaming NVIDIA GeForce GTX 1660 Ti EVO...  GPU  Gamer/Desing   \n126          PNY NVIDIA Quadro K1200 - (VCQK1200DP-PB)  GPU  Gamer/Desing   \n127  KAER Tarjeta gráfica AMD Radeon RX 550 de 4 GB...  GPU  Gamer/Desing   \n128  Tarjeta gráfica GeForce GT 1030 4GB GDDR4 64bi...  GPU  Gamer/Desing   \n129  Sapphire 11265-67-20G Radeon Pulse RX 580 8GB ...  GPU  Gamer/Desing   \n\n    range symbol  price                                               link  \\\n0     Low     US  159.0  https://www.amazon.com/-/es/gp/slredirect/pica...   \n1     Mid     US  359.0  https://www.amazon.com/-/es/gp/slredirect/pica...   \n2     Mid     US  523.0  https://www.amazon.com/-/es/Geforce-GTX-1660-S...   \n3     Mid     US  699.0  https://www.amazon.com/-/es/GeForce-refrigerac...   \n4     Mid     US  459.0  https://www.amazon.com/-/es/Speedster-SWFT-Rad...   \n..    ...    ...    ...                                                ...   \n123   Mid     US  589.0  https://www.amazon.com/-/es/GeForce-DisplayPor...   \n126   Mid     US  318.0  https://www.amazon.com/-/es/PNY-NVIDIA-Quadro-...   \n127   Low     US  199.0  https://www.amazon.com/gp/slredirect/picassoRe...   \n128   Low     US  185.0  https://www.amazon.com/-/es/gp/slredirect/pica...   \n129   Mid     US  499.0  https://www.amazon.com/-/es/Sapphire-11265-67-...   \n\n                                                origin  \n0    /work/games_seeker/data/raw/amazon_tarjetas_gr...  \n1    /work/games_seeker/data/raw/amazon_tarjetas_gr...  \n2    /work/games_seeker/data/raw/amazon_tarjetas_gr...  \n3    /work/games_seeker/data/raw/amazon_tarjetas_gr...  \n4    /work/games_seeker/data/raw/amazon_tarjetas_gr...  \n..                                                 ...  \n123  /work/games_seeker/data/raw/amazon_tarjetas_gr...  \n126  /work/games_seeker/data/raw/amazon_tarjetas_gr...  \n127  /work/games_seeker/data/raw/amazon_tarjetas_gr...  \n128  /work/games_seeker/data/raw/amazon_tarjetas_gr...  \n129  /work/games_seeker/data/raw/amazon_tarjetas_gr...  \n\n[100 rows x 8 columns]",
      "text/html": "<div>\n<style scoped>\n    .dataframe tbody tr th:only-of-type {\n        vertical-align: middle;\n    }\n\n    .dataframe tbody tr th {\n        vertical-align: top;\n    }\n\n    .dataframe thead th {\n        text-align: right;\n    }\n</style>\n<table border=\"1\" class=\"dataframe\">\n  <thead>\n    <tr style=\"text-align: right;\">\n      <th></th>\n      <th>title</th>\n      <th>type</th>\n      <th>category</th>\n      <th>range</th>\n      <th>symbol</th>\n      <th>price</th>\n      <th>link</th>\n      <th>origin</th>\n    </tr>\n  </thead>\n  <tbody>\n    <tr>\n      <th>0</th>\n      <td>GT 1030 4GB GDRR4 64 bits HDMI DVI salida tarj...</td>\n      <td>GPU</td>\n      <td>Gamer/Desing</td>\n      <td>Low</td>\n      <td>US</td>\n      <td>159.0</td>\n      <td>https://www.amazon.com/-/es/gp/slredirect/pica...</td>\n      <td>/work/games_seeker/data/raw/amazon_tarjetas_gr...</td>\n    </tr>\n    <tr>\n      <th>1</th>\n      <td>SAPLOS GTX 1050 Ti Tarjeta gráfica, 4 GB, 128 ...</td>\n      <td>GPU</td>\n      <td>Gamer/Desing</td>\n      <td>Mid</td>\n      <td>US</td>\n      <td>359.0</td>\n      <td>https://www.amazon.com/-/es/gp/slredirect/pica...</td>\n      <td>/work/games_seeker/data/raw/amazon_tarjetas_gr...</td>\n    </tr>\n    <tr>\n      <th>2</th>\n      <td>ZOTAC Gaming GeForce GTX 1660 Super 6GB GDDR6 ...</td>\n      <td>GPU</td>\n      <td>Gamer/Desing</td>\n      <td>Mid</td>\n      <td>US</td>\n      <td>523.0</td>\n      <td>https://www.amazon.com/-/es/Geforce-GTX-1660-S...</td>\n      <td>/work/games_seeker/data/raw/amazon_tarjetas_gr...</td>\n    </tr>\n    <tr>\n      <th>3</th>\n      <td>ZOTAC Gaming GeForce RTX 3060 Twin Edge OC 12 ...</td>\n      <td>GPU</td>\n      <td>Gamer/Desing</td>\n      <td>Mid</td>\n      <td>US</td>\n      <td>699.0</td>\n      <td>https://www.amazon.com/-/es/GeForce-refrigerac...</td>\n      <td>/work/games_seeker/data/raw/amazon_tarjetas_gr...</td>\n    </tr>\n    <tr>\n      <th>4</th>\n      <td>XFX Speedster SWFT 210 Radeon RX 6600 CORE - T...</td>\n      <td>GPU</td>\n      <td>Gamer/Desing</td>\n      <td>Mid</td>\n      <td>US</td>\n      <td>459.0</td>\n      <td>https://www.amazon.com/-/es/Speedster-SWFT-Rad...</td>\n      <td>/work/games_seeker/data/raw/amazon_tarjetas_gr...</td>\n    </tr>\n    <tr>\n      <th>...</th>\n      <td>...</td>\n      <td>...</td>\n      <td>...</td>\n      <td>...</td>\n      <td>...</td>\n      <td>...</td>\n      <td>...</td>\n      <td>...</td>\n    </tr>\n    <tr>\n      <th>123</th>\n      <td>ASUS TUF Gaming NVIDIA GeForce GTX 1660 Ti EVO...</td>\n      <td>GPU</td>\n      <td>Gamer/Desing</td>\n      <td>Mid</td>\n      <td>US</td>\n      <td>589.0</td>\n      <td>https://www.amazon.com/-/es/GeForce-DisplayPor...</td>\n      <td>/work/games_seeker/data/raw/amazon_tarjetas_gr...</td>\n    </tr>\n    <tr>\n      <th>126</th>\n      <td>PNY NVIDIA Quadro K1200 - (VCQK1200DP-PB)</td>\n      <td>GPU</td>\n      <td>Gamer/Desing</td>\n      <td>Mid</td>\n      <td>US</td>\n      <td>318.0</td>\n      <td>https://www.amazon.com/-/es/PNY-NVIDIA-Quadro-...</td>\n      <td>/work/games_seeker/data/raw/amazon_tarjetas_gr...</td>\n    </tr>\n    <tr>\n      <th>127</th>\n      <td>KAER Tarjeta gráfica AMD Radeon RX 550 de 4 GB...</td>\n      <td>GPU</td>\n      <td>Gamer/Desing</td>\n      <td>Low</td>\n      <td>US</td>\n      <td>199.0</td>\n      <td>https://www.amazon.com/gp/slredirect/picassoRe...</td>\n      <td>/work/games_seeker/data/raw/amazon_tarjetas_gr...</td>\n    </tr>\n    <tr>\n      <th>128</th>\n      <td>Tarjeta gráfica GeForce GT 1030 4GB GDDR4 64bi...</td>\n      <td>GPU</td>\n      <td>Gamer/Desing</td>\n      <td>Low</td>\n      <td>US</td>\n      <td>185.0</td>\n      <td>https://www.amazon.com/-/es/gp/slredirect/pica...</td>\n      <td>/work/games_seeker/data/raw/amazon_tarjetas_gr...</td>\n    </tr>\n    <tr>\n      <th>129</th>\n      <td>Sapphire 11265-67-20G Radeon Pulse RX 580 8GB ...</td>\n      <td>GPU</td>\n      <td>Gamer/Desing</td>\n      <td>Mid</td>\n      <td>US</td>\n      <td>499.0</td>\n      <td>https://www.amazon.com/-/es/Sapphire-11265-67-...</td>\n      <td>/work/games_seeker/data/raw/amazon_tarjetas_gr...</td>\n    </tr>\n  </tbody>\n</table>\n<p>100 rows × 8 columns</p>\n</div>"
     },
     "metadata": {}
    }
   ]
  },
  {
   "cell_type": "markdown",
   "source": "## Fuentes de alimentación",
   "metadata": {
    "cell_id": "1e93f7f0-8760-4cc4-a765-1e5005d28008",
    "tags": [],
    "is_collapsed": false,
    "deepnote_cell_type": "text-cell-h2",
    "deepnote_cell_height": 70
   }
  },
  {
   "cell_type": "code",
   "metadata": {
    "cell_id": "a912cbd6-f444-4c6e-98c5-292f87775b89",
    "tags": [],
    "deepnote_to_be_reexecuted": false,
    "source_hash": "ea35cc47",
    "execution_start": 1647039322147,
    "execution_millis": 15,
    "deepnote_cell_type": "code",
    "deepnote_cell_height": 81
   },
   "source": "power_df = dfs[\"amazon_fuentes_de_alimentacion_para_pc.csv\"]",
   "execution_count": null,
   "outputs": []
  },
  {
   "cell_type": "code",
   "metadata": {
    "cell_id": "b7bfa953-382d-47d2-a671-aa01eaeb240d",
    "tags": [],
    "deepnote_to_be_reexecuted": false,
    "source_hash": "75207472",
    "execution_start": 1647039322178,
    "execution_millis": 14,
    "deepnote_cell_type": "code",
    "deepnote_cell_height": 81
   },
   "source": "power_df = power_df[power_df[\"price\"] > 100]",
   "execution_count": null,
   "outputs": []
  },
  {
   "cell_type": "code",
   "metadata": {
    "cell_id": "dd9d74e1-6e10-4e48-856b-27bd4a4e4d6a",
    "tags": [],
    "deepnote_to_be_reexecuted": false,
    "source_hash": "a412bfa5",
    "execution_start": 1647039322210,
    "execution_millis": 5,
    "deepnote_cell_type": "code",
    "deepnote_cell_height": 213.125
   },
   "source": "power_df.loc[:, \"type\"] = \"Power Supply\"",
   "execution_count": null,
   "outputs": [
    {
     "name": "stderr",
     "text": "/shared-libs/python3.7/py/lib/python3.7/site-packages/pandas/core/indexing.py:1667: SettingWithCopyWarning: \nA value is trying to be set on a copy of a slice from a DataFrame.\nTry using .loc[row_indexer,col_indexer] = value instead\n\nSee the caveats in the documentation: https://pandas.pydata.org/pandas-docs/stable/user_guide/indexing.html#returning-a-view-versus-a-copy\n  self.obj[key] = value\n",
     "output_type": "stream"
    }
   ]
  },
  {
   "cell_type": "code",
   "metadata": {
    "cell_id": "6844d20a-8720-4ff9-afcc-dbeacbedc544",
    "tags": [],
    "deepnote_to_be_reexecuted": false,
    "source_hash": "93f5cec6",
    "execution_start": 1647039322281,
    "execution_millis": 1,
    "deepnote_cell_type": "code",
    "deepnote_cell_height": 249.125
   },
   "source": "power_df.loc[:, \"category\"] = \"\"\npower_df.loc[power_df[\"price\"] <= 250, \"category\"] = \"Office\"\npower_df.loc[power_df[\"price\"] > 250, \"category\"] = \"Gamer\"",
   "execution_count": null,
   "outputs": [
    {
     "name": "stderr",
     "text": "/shared-libs/python3.7/py/lib/python3.7/site-packages/pandas/core/indexing.py:1817: SettingWithCopyWarning: \nA value is trying to be set on a copy of a slice from a DataFrame.\nTry using .loc[row_indexer,col_indexer] = value instead\n\nSee the caveats in the documentation: https://pandas.pydata.org/pandas-docs/stable/user_guide/indexing.html#returning-a-view-versus-a-copy\n  self._setitem_single_column(loc, value, pi)\n",
     "output_type": "stream"
    }
   ]
  },
  {
   "cell_type": "code",
   "metadata": {
    "cell_id": "21616c91-d1f0-4e35-aea9-806e1c27fe01",
    "tags": [],
    "deepnote_to_be_reexecuted": false,
    "source_hash": "2ea289fb",
    "execution_start": 1647039322325,
    "execution_millis": 2,
    "deepnote_cell_type": "code",
    "deepnote_cell_height": 135
   },
   "source": "power_df.loc[:, \"range\"] = \"\"\npower_df.loc[power_df[\"price\"] <= 250, \"range\"] = \"Low\"\npower_df.loc[(power_df[\"price\"] > 250) & (power_df[\"price\"] <= 400), \"range\"] = \"Mid\"\npower_df.loc[power_df[\"price\"] > 400, \"range\"] = \"High\"",
   "execution_count": null,
   "outputs": []
  },
  {
   "cell_type": "code",
   "metadata": {
    "cell_id": "7897ac99-df04-4f5c-8216-5945a2dad373",
    "tags": [],
    "deepnote_to_be_reexecuted": false,
    "source_hash": "2f448dfc",
    "execution_start": 1647039322326,
    "execution_millis": 11945573,
    "deepnote_cell_type": "code",
    "deepnote_cell_height": 81
   },
   "source": "dfs[\"amazon_fuentes_de_alimentacion_para_pc.csv\"] = power_df[ORDERED_COLUMNS]",
   "execution_count": null,
   "outputs": []
  },
  {
   "cell_type": "code",
   "metadata": {
    "cell_id": "241a7f25-5ee5-4412-a403-88eaf239674e",
    "tags": [],
    "deepnote_to_be_reexecuted": false,
    "source_hash": "ac4a6771",
    "execution_start": 1647039322371,
    "execution_millis": 70,
    "deepnote_table_state": {
     "pageSize": 10,
     "pageIndex": 0,
     "filters": [],
     "sortBy": [
      {
       "id": "price",
       "type": "desc"
      }
     ]
    },
    "deepnote_table_loading": false,
    "deepnote_cell_type": "code",
    "deepnote_cell_height": 647
   },
   "source": "dfs[\"amazon_fuentes_de_alimentacion_para_pc.csv\"] ",
   "execution_count": null,
   "outputs": [
    {
     "output_type": "execute_result",
     "execution_count": 47,
     "data": {
      "application/vnd.deepnote.dataframe.v3+json": {
       "column_count": 8,
       "row_count": 69,
       "columns": [
        {
         "name": "title",
         "dtype": "object",
         "stats": {
          "unique_count": 66,
          "nan_count": 0,
          "categories": [
           {
            "name": "Seasonic - Cooler Focus Plus 550 Gold SSR-550FX 550W 80+ Gold ATX12V y EPS12V Full, modular de 4.72 pulgadas en FDB, compacto de 5.51 pulgadas, fuente de alimentación",
            "count": 2
           },
           {
            "name": "Fuente de alimentación PSU de 2000 W para computadora 8 tarjetas de video minería Bitcoin Miner ATX PC 110V-220V ETH ETC ZEC ZCASH DGB XMR",
            "count": 2
           },
           {
            "name": "64 others",
            "count": 65
           }
          ]
         }
        },
        {
         "name": "type",
         "dtype": "object",
         "stats": {
          "unique_count": 1,
          "nan_count": 0,
          "categories": [
           {
            "name": "Power Supply",
            "count": 69
           }
          ]
         }
        },
        {
         "name": "category",
         "dtype": "object",
         "stats": {
          "unique_count": 2,
          "nan_count": 0,
          "categories": [
           {
            "name": "Office",
            "count": 53
           },
           {
            "name": "Gamer",
            "count": 16
           }
          ]
         }
        },
        {
         "name": "range",
         "dtype": "object",
         "stats": {
          "unique_count": 3,
          "nan_count": 0,
          "categories": [
           {
            "name": "Low",
            "count": 53
           },
           {
            "name": "Mid",
            "count": 14
           },
           {
            "name": "High",
            "count": 2
           }
          ]
         }
        },
        {
         "name": "symbol",
         "dtype": "object",
         "stats": {
          "unique_count": 1,
          "nan_count": 0,
          "categories": [
           {
            "name": "US",
            "count": 69
           }
          ]
         }
        },
        {
         "name": "price",
         "dtype": "float64",
         "stats": {
          "unique_count": 50,
          "nan_count": 0,
          "min": "111.0",
          "max": "661.0",
          "histogram": [
           {
            "bin_start": 111,
            "bin_end": 166,
            "count": 25
           },
           {
            "bin_start": 166,
            "bin_end": 221,
            "count": 25
           },
           {
            "bin_start": 221,
            "bin_end": 276,
            "count": 7
           },
           {
            "bin_start": 276,
            "bin_end": 331,
            "count": 7
           },
           {
            "bin_start": 331,
            "bin_end": 386,
            "count": 1
           },
           {
            "bin_start": 386,
            "bin_end": 441,
            "count": 2
           },
           {
            "bin_start": 441,
            "bin_end": 496,
            "count": 1
           },
           {
            "bin_start": 496,
            "bin_end": 551,
            "count": 0
           },
           {
            "bin_start": 551,
            "bin_end": 606,
            "count": 0
           },
           {
            "bin_start": 606,
            "bin_end": 661,
            "count": 1
           }
          ]
         }
        },
        {
         "name": "link",
         "dtype": "object",
         "stats": {
          "unique_count": 69,
          "nan_count": 0,
          "categories": [
           {
            "name": "https://www.amazon.com/-/es/Corsair-AX1600i-Titanio-certificado-totalmente/dp/B0787G1Z74/ref=sr_1_35?__mk_es_US=%C3%85M%C3%85%C5%BD%C3%95%C3%91&crid=3FNXD0121GR4Z&keywords=pc+power+supplies&qid=1646960732&sprefix=%2Caps%2C124&sr=8-35",
            "count": 1
           },
           {
            "name": "https://www.amazon.com/-/es/BN647-Efficiency-Alimentaci%C3%B3n-pr%C3%A1cticamente-silenciosas/dp/B08HGVZXLP/ref=sr_1_110?__mk_es_US=%C3%85M%C3%85%C5%BD%C3%95%C3%91&crid=3FNXD0121GR4Z&keywords=pc+power+supplies&qid=1646960898&sprefix=%2Caps%2C124&sr=8-110",
            "count": 1
           },
           {
            "name": "67 others",
            "count": 67
           }
          ]
         }
        },
        {
         "name": "origin",
         "dtype": "object",
         "stats": {
          "unique_count": 1,
          "nan_count": 0,
          "categories": [
           {
            "name": "/work/games_seeker/data/raw/amazon_fuentes_de_alimentacion_para_pc.csv",
            "count": 69
           }
          ]
         }
        },
        {
         "name": "_deepnote_index_column",
         "dtype": "int64"
        }
       ],
       "rows": [
        {
         "title": "Corsair AXi Series, AX1600i, 1600 W, 80+ Titanio certificado, totalmente modular - Fuente de alimen…",
         "type": "Power Supply",
         "category": "Gamer",
         "range": "High",
         "symbol": "US",
         "price": 661,
         "link": "https://www.amazon.com/-/es/Corsair-AX1600i-Titanio-certificado-totalmente/dp/B0787G1Z74/ref=sr_1_3…",
         "origin": "/work/games_seeker/data/raw/amazon_fuentes_de_alimentacion_para_pc.csv",
         "_deepnote_index_column": 25
        },
        {
         "title": "be quiet! Dark Power Pro 12 1500W, BN647, 80 Plus Titanium Efficiency, Fuente de Alimentación, ATX,…",
         "type": "Power Supply",
         "category": "Gamer",
         "range": "High",
         "symbol": "US",
         "price": 449,
         "link": "https://www.amazon.com/-/es/BN647-Efficiency-Alimentaci%C3%B3n-pr%C3%A1cticamente-silenciosas/dp/B0…",
         "origin": "/work/games_seeker/data/raw/amazon_fuentes_de_alimentacion_para_pc.csv",
         "_deepnote_index_column": 96
        },
        {
         "title": "be quiet! Dark Power Pro 12 1200W, BN646, 80 Plus Titanium Efficiency, Fuente de Alimentación, ATX,…",
         "type": "Power Supply",
         "category": "Gamer",
         "range": "Mid",
         "symbol": "US",
         "price": 399,
         "link": "https://www.amazon.com/-/es/BN646-Efficiency-Alimentaci%C3%B3n-pr%C3%A1cticamente-silenciosas/dp/B0…",
         "origin": "/work/games_seeker/data/raw/amazon_fuentes_de_alimentacion_para_pc.csv",
         "_deepnote_index_column": 29
        },
        {
         "title": "Siglent Technologies SPD3303X-E salida de fuente de alimentaci&oacute;n triple",
         "type": "Power Supply",
         "category": "Gamer",
         "range": "Mid",
         "symbol": "US",
         "price": 389,
         "link": "https://www.amazon.com/-/es/Siglent-Technologies-SPD3303X-salida-alimentaci%C3%B3n/dp/B01410O424/re…",
         "origin": "/work/games_seeker/data/raw/amazon_fuentes_de_alimentacion_para_pc.csv",
         "_deepnote_index_column": 197
        },
        {
         "title": "EVGA Supernova 1600 P+, 80+ Platinum 1600 W, totalmente modular, incluye el autoprobador de encendi…",
         "type": "Power Supply",
         "category": "Gamer",
         "range": "Mid",
         "symbol": "US",
         "price": 354,
         "link": "https://www.amazon.com/-/es/Supernova-totalmente-autoprobador-alimentaci%C3%B3n-220-PP-1600-X1/dp/B…",
         "origin": "/work/games_seeker/data/raw/amazon_fuentes_de_alimentacion_para_pc.csv",
         "_deepnote_index_column": 51
        },
        {
         "title": "AmpFlow SCN-1000-12 Fuente de alimentaci&oacute;n de 12 V CC, 1000W, 80A",
         "type": "Power Supply",
         "category": "Gamer",
         "range": "Mid",
         "symbol": "US",
         "price": 299,
         "link": "https://www.amazon.com/-/es/AmpFlow-SCN-1000-12-Fuente-alimentaci%C3%B3n-1000W/dp/B00EKTZP5C/ref=sr…",
         "origin": "/work/games_seeker/data/raw/amazon_fuentes_de_alimentacion_para_pc.csv",
         "_deepnote_index_column": 222
        },
        {
         "title": "Corsair PSU Serie RMX 1000 W, CP-9020094-EU",
         "type": "Power Supply",
         "category": "Gamer",
         "range": "Mid",
         "symbol": "US",
         "price": 298,
         "link": "https://www.amazon.com/-/es/Corsair-PSU-Serie-1000-CP-9020094-EU/dp/B015Q7F5AQ/ref=sr_1_244?__mk_es…",
         "origin": "/work/games_seeker/data/raw/amazon_fuentes_de_alimentacion_para_pc.csv",
         "_deepnote_index_column": 181
        },
        {
         "title": "SilverStone Technology SX1000 Platinum, 80 Plus Platinum 1000 W Fuente de alimentación totalmente m…",
         "type": "Power Supply",
         "category": "Gamer",
         "range": "Mid",
         "symbol": "US",
         "price": 293,
         "link": "https://www.amazon.com/-/es/SilverStone-Technology-alimentaci%C3%B3n-totalmente-SX1000-LPT-X/dp/B09…",
         "origin": "/work/games_seeker/data/raw/amazon_fuentes_de_alimentacion_para_pc.csv",
         "_deepnote_index_column": 175
        },
        {
         "title": "SilverStone Technology SX1000 80 Plus Platinum 1000W Fuente de alimentación totalmente modular SFX-…",
         "type": "Power Supply",
         "category": "Gamer",
         "range": "Mid",
         "symbol": "US",
         "price": 293,
         "link": "https://www.amazon.com/-/es/SilverStone-Technology-alimentaci%C3%B3n-totalmente-SX1000-LPT/dp/B08QC…",
         "origin": "/work/games_seeker/data/raw/amazon_fuentes_de_alimentacion_para_pc.csv",
         "_deepnote_index_column": 207
        },
        {
         "title": "Seasonic - Cooler Focus Plus 550 Gold SSR-550FX 550W 80+ Gold ATX12V y EPS12V Full, modular de 4.72…",
         "type": "Power Supply",
         "category": "Gamer",
         "range": "Mid",
         "symbol": "US",
         "price": 290,
         "link": "https://www.amazon.com/-/es/Seasonic-SSR-550FX-pulgadas-compacto-alimentaci%C3%B3n/dp/B0788DL6VN/re…",
         "origin": "/work/games_seeker/data/raw/amazon_fuentes_de_alimentacion_para_pc.csv",
         "_deepnote_index_column": 107
        }
       ]
      },
      "text/plain": "                                                 title          type category  \\\n1    Fuente de alimentación PSU de 2000 W para comp...  Power Supply   Office   \n2    Corsair Series Watt Gold 80+ – Fuente de alime...  Power Supply   Office   \n8    EVGA Supernova 120-GP-0850-X1, 850 G+, 80 Plus...  Power Supply   Office   \n10   EVGA SuperNOVA 1000 G5, 80 Plus Gold 1000W, to...  Power Supply   Office   \n12                         Modo ECO Totalmente Modular  Power Supply   Office   \n..                                                 ...           ...      ...   \n222  AmpFlow SCN-1000-12 Fuente de alimentaci&oacut...  Power Supply    Gamer   \n225                             Tecnología Silverstone  Power Supply    Gamer   \n227  1800 W minería fuente de alimentación apoyo 8 ...  Power Supply   Office   \n233  SilverStone Technology Fuente de alimentación ...  Power Supply   Office   \n234  CORSAIR Serie RM (2021), RM750, 750 W, certifi...  Power Supply   Office   \n\n    range symbol  price                                               link  \\\n1     Low     US  198.0  https://www.amazon.com/-/es/gp/slredirect/pica...   \n2     Low     US  114.0  https://www.amazon.com/-/es/Corsair-Watt-Gold-...   \n8     Low     US  127.0  https://www.amazon.com/-/es/120-GP-0850-X1-tot...   \n10    Low     US  170.0  https://www.amazon.com/-/es/1000-G5-totalmente...   \n12    Low     US  237.0  https://www.amazon.com/-/es/220-T2-0850-X1-Mod...   \n..    ...    ...    ...                                                ...   \n222   Mid     US  299.0  https://www.amazon.com/-/es/AmpFlow-SCN-1000-1...   \n225   Mid     US  269.0  https://www.amazon.com/-/es/SST-ST1200-PTS-Tec...   \n227   Low     US  169.0  https://www.amazon.com/-/es/gp/slredirect/pica...   \n233   Low     US  149.0  https://www.amazon.com/-/es/SilverStone-Techno...   \n234   Low     US  114.0  https://www.amazon.com/-/es/gp/slredirect/pica...   \n\n                                                origin  \n1    /work/games_seeker/data/raw/amazon_fuentes_de_...  \n2    /work/games_seeker/data/raw/amazon_fuentes_de_...  \n8    /work/games_seeker/data/raw/amazon_fuentes_de_...  \n10   /work/games_seeker/data/raw/amazon_fuentes_de_...  \n12   /work/games_seeker/data/raw/amazon_fuentes_de_...  \n..                                                 ...  \n222  /work/games_seeker/data/raw/amazon_fuentes_de_...  \n225  /work/games_seeker/data/raw/amazon_fuentes_de_...  \n227  /work/games_seeker/data/raw/amazon_fuentes_de_...  \n233  /work/games_seeker/data/raw/amazon_fuentes_de_...  \n234  /work/games_seeker/data/raw/amazon_fuentes_de_...  \n\n[69 rows x 8 columns]",
      "text/html": "<div>\n<style scoped>\n    .dataframe tbody tr th:only-of-type {\n        vertical-align: middle;\n    }\n\n    .dataframe tbody tr th {\n        vertical-align: top;\n    }\n\n    .dataframe thead th {\n        text-align: right;\n    }\n</style>\n<table border=\"1\" class=\"dataframe\">\n  <thead>\n    <tr style=\"text-align: right;\">\n      <th></th>\n      <th>title</th>\n      <th>type</th>\n      <th>category</th>\n      <th>range</th>\n      <th>symbol</th>\n      <th>price</th>\n      <th>link</th>\n      <th>origin</th>\n    </tr>\n  </thead>\n  <tbody>\n    <tr>\n      <th>1</th>\n      <td>Fuente de alimentación PSU de 2000 W para comp...</td>\n      <td>Power Supply</td>\n      <td>Office</td>\n      <td>Low</td>\n      <td>US</td>\n      <td>198.0</td>\n      <td>https://www.amazon.com/-/es/gp/slredirect/pica...</td>\n      <td>/work/games_seeker/data/raw/amazon_fuentes_de_...</td>\n    </tr>\n    <tr>\n      <th>2</th>\n      <td>Corsair Series Watt Gold 80+ – Fuente de alime...</td>\n      <td>Power Supply</td>\n      <td>Office</td>\n      <td>Low</td>\n      <td>US</td>\n      <td>114.0</td>\n      <td>https://www.amazon.com/-/es/Corsair-Watt-Gold-...</td>\n      <td>/work/games_seeker/data/raw/amazon_fuentes_de_...</td>\n    </tr>\n    <tr>\n      <th>8</th>\n      <td>EVGA Supernova 120-GP-0850-X1, 850 G+, 80 Plus...</td>\n      <td>Power Supply</td>\n      <td>Office</td>\n      <td>Low</td>\n      <td>US</td>\n      <td>127.0</td>\n      <td>https://www.amazon.com/-/es/120-GP-0850-X1-tot...</td>\n      <td>/work/games_seeker/data/raw/amazon_fuentes_de_...</td>\n    </tr>\n    <tr>\n      <th>10</th>\n      <td>EVGA SuperNOVA 1000 G5, 80 Plus Gold 1000W, to...</td>\n      <td>Power Supply</td>\n      <td>Office</td>\n      <td>Low</td>\n      <td>US</td>\n      <td>170.0</td>\n      <td>https://www.amazon.com/-/es/1000-G5-totalmente...</td>\n      <td>/work/games_seeker/data/raw/amazon_fuentes_de_...</td>\n    </tr>\n    <tr>\n      <th>12</th>\n      <td>Modo ECO Totalmente Modular</td>\n      <td>Power Supply</td>\n      <td>Office</td>\n      <td>Low</td>\n      <td>US</td>\n      <td>237.0</td>\n      <td>https://www.amazon.com/-/es/220-T2-0850-X1-Mod...</td>\n      <td>/work/games_seeker/data/raw/amazon_fuentes_de_...</td>\n    </tr>\n    <tr>\n      <th>...</th>\n      <td>...</td>\n      <td>...</td>\n      <td>...</td>\n      <td>...</td>\n      <td>...</td>\n      <td>...</td>\n      <td>...</td>\n      <td>...</td>\n    </tr>\n    <tr>\n      <th>222</th>\n      <td>AmpFlow SCN-1000-12 Fuente de alimentaci&amp;oacut...</td>\n      <td>Power Supply</td>\n      <td>Gamer</td>\n      <td>Mid</td>\n      <td>US</td>\n      <td>299.0</td>\n      <td>https://www.amazon.com/-/es/AmpFlow-SCN-1000-1...</td>\n      <td>/work/games_seeker/data/raw/amazon_fuentes_de_...</td>\n    </tr>\n    <tr>\n      <th>225</th>\n      <td>Tecnología Silverstone</td>\n      <td>Power Supply</td>\n      <td>Gamer</td>\n      <td>Mid</td>\n      <td>US</td>\n      <td>269.0</td>\n      <td>https://www.amazon.com/-/es/SST-ST1200-PTS-Tec...</td>\n      <td>/work/games_seeker/data/raw/amazon_fuentes_de_...</td>\n    </tr>\n    <tr>\n      <th>227</th>\n      <td>1800 W minería fuente de alimentación apoyo 8 ...</td>\n      <td>Power Supply</td>\n      <td>Office</td>\n      <td>Low</td>\n      <td>US</td>\n      <td>169.0</td>\n      <td>https://www.amazon.com/-/es/gp/slredirect/pica...</td>\n      <td>/work/games_seeker/data/raw/amazon_fuentes_de_...</td>\n    </tr>\n    <tr>\n      <th>233</th>\n      <td>SilverStone Technology Fuente de alimentación ...</td>\n      <td>Power Supply</td>\n      <td>Office</td>\n      <td>Low</td>\n      <td>US</td>\n      <td>149.0</td>\n      <td>https://www.amazon.com/-/es/SilverStone-Techno...</td>\n      <td>/work/games_seeker/data/raw/amazon_fuentes_de_...</td>\n    </tr>\n    <tr>\n      <th>234</th>\n      <td>CORSAIR Serie RM (2021), RM750, 750 W, certifi...</td>\n      <td>Power Supply</td>\n      <td>Office</td>\n      <td>Low</td>\n      <td>US</td>\n      <td>114.0</td>\n      <td>https://www.amazon.com/-/es/gp/slredirect/pica...</td>\n      <td>/work/games_seeker/data/raw/amazon_fuentes_de_...</td>\n    </tr>\n  </tbody>\n</table>\n<p>69 rows × 8 columns</p>\n</div>"
     },
     "metadata": {}
    }
   ]
  },
  {
   "cell_type": "markdown",
   "source": "## Refrigeración",
   "metadata": {
    "cell_id": "db4d56ab-5079-4241-8c63-574dd50918ba",
    "tags": [],
    "is_collapsed": false,
    "deepnote_cell_type": "text-cell-h2",
    "deepnote_cell_height": 70
   }
  },
  {
   "cell_type": "code",
   "metadata": {
    "cell_id": "757827ef-4d34-4055-93aa-9f8319a5d09e",
    "tags": [],
    "deepnote_to_be_reexecuted": false,
    "source_hash": "74741b36",
    "execution_start": 1647039322447,
    "execution_millis": 19,
    "deepnote_cell_type": "code",
    "deepnote_cell_height": 81
   },
   "source": "ref_df = dfs[\"amazon_refrigeracion_pc.csv\"]",
   "execution_count": null,
   "outputs": []
  },
  {
   "cell_type": "code",
   "metadata": {
    "cell_id": "69ed4269-50dc-414e-8722-64838b6b5b0a",
    "tags": [],
    "deepnote_to_be_reexecuted": false,
    "source_hash": "27d9750e",
    "execution_start": 1647039322481,
    "execution_millis": 9,
    "deepnote_cell_type": "code",
    "deepnote_cell_height": 81
   },
   "source": "ref_df = ref_df[ref_df[\"price\"] > 100]",
   "execution_count": null,
   "outputs": []
  },
  {
   "cell_type": "code",
   "metadata": {
    "cell_id": "bb134278-866f-4e5a-8c62-56c2277e4c62",
    "tags": [],
    "deepnote_to_be_reexecuted": false,
    "source_hash": "90e65d1f",
    "execution_start": 1647039322513,
    "execution_millis": 3,
    "deepnote_cell_type": "code",
    "deepnote_cell_height": 213.125
   },
   "source": "ref_df.loc[:, \"type\"] = \"Refrigeration\"",
   "execution_count": null,
   "outputs": [
    {
     "name": "stderr",
     "text": "/shared-libs/python3.7/py/lib/python3.7/site-packages/pandas/core/indexing.py:1667: SettingWithCopyWarning: \nA value is trying to be set on a copy of a slice from a DataFrame.\nTry using .loc[row_indexer,col_indexer] = value instead\n\nSee the caveats in the documentation: https://pandas.pydata.org/pandas-docs/stable/user_guide/indexing.html#returning-a-view-versus-a-copy\n  self.obj[key] = value\n",
     "output_type": "stream"
    }
   ]
  },
  {
   "cell_type": "code",
   "metadata": {
    "cell_id": "0d3f289f-d5c4-4d30-b566-a542485167fc",
    "tags": [],
    "deepnote_to_be_reexecuted": false,
    "source_hash": "6d55c252",
    "execution_start": 1647039322585,
    "execution_millis": 0,
    "deepnote_cell_type": "code",
    "deepnote_cell_height": 249.125
   },
   "source": "ref_df.loc[:, \"category\"] = \"\"\nref_df.loc[ref_df[\"price\"] <= 200, \"category\"] = \"Office\"\nref_df.loc[ref_df[\"price\"] > 200, \"category\"] = \"Gamer\"",
   "execution_count": null,
   "outputs": [
    {
     "name": "stderr",
     "text": "/shared-libs/python3.7/py/lib/python3.7/site-packages/pandas/core/indexing.py:1817: SettingWithCopyWarning: \nA value is trying to be set on a copy of a slice from a DataFrame.\nTry using .loc[row_indexer,col_indexer] = value instead\n\nSee the caveats in the documentation: https://pandas.pydata.org/pandas-docs/stable/user_guide/indexing.html#returning-a-view-versus-a-copy\n  self._setitem_single_column(loc, value, pi)\n",
     "output_type": "stream"
    }
   ]
  },
  {
   "cell_type": "code",
   "metadata": {
    "cell_id": "3fa9ac0c-da6f-4893-a7f4-cbcb3fa11d46",
    "tags": [],
    "deepnote_to_be_reexecuted": false,
    "source_hash": "385f0a5",
    "execution_start": 1647039322631,
    "execution_millis": 4,
    "deepnote_cell_type": "code",
    "deepnote_cell_height": 135
   },
   "source": "ref_df.loc[:, \"range\"] = \"\"\nref_df.loc[ref_df[\"price\"] <= 150, \"range\"] = \"Low\"\nref_df.loc[(ref_df[\"price\"] > 150) & (ref_df[\"price\"] <= 400), \"range\"] = \"Mid\"\nref_df.loc[ref_df[\"price\"] > 400, \"range\"] = \"High\"",
   "execution_count": null,
   "outputs": []
  },
  {
   "cell_type": "code",
   "metadata": {
    "cell_id": "e7795af5-9caa-489d-a0d7-ed9a406156fd",
    "tags": [],
    "deepnote_to_be_reexecuted": false,
    "source_hash": "229c2cb5",
    "execution_start": 1647039322632,
    "execution_millis": 0,
    "deepnote_cell_type": "code",
    "deepnote_cell_height": 81
   },
   "source": "dfs[\"amazon_refrigeracion_pc.csv\"] = ref_df[ORDERED_COLUMNS]",
   "execution_count": null,
   "outputs": []
  },
  {
   "cell_type": "code",
   "metadata": {
    "cell_id": "44ea1c24-e21b-470c-a1a1-6cd26cbff056",
    "tags": [],
    "deepnote_to_be_reexecuted": false,
    "source_hash": "4a112a18",
    "execution_start": 1647039322672,
    "execution_millis": 71,
    "deepnote_cell_type": "code",
    "deepnote_cell_height": 598
   },
   "source": "dfs[\"amazon_refrigeracion_pc.csv\"] ",
   "execution_count": null,
   "outputs": [
    {
     "output_type": "execute_result",
     "execution_count": 54,
     "data": {
      "application/vnd.deepnote.dataframe.v3+json": {
       "column_count": 8,
       "row_count": 40,
       "columns": [
        {
         "name": "title",
         "dtype": "object",
         "stats": {
          "unique_count": 17,
          "nan_count": 0,
          "categories": [
           {
            "name": "Cooler Master MasterLiquid ML360 Illusion Close-Loop AIO CPU líquido refrigerador, cúpula translúcida, bomba de doble cámara de 3ª generación, radiador 240, halo doble MF120 para AMD Ryzen/Intel 1200/1151",
            "count": 13
           },
           {
            "name": "DeepCool Castle 360EX A-RGB WH AIO Enfriador de CPU líquido con tecnología antifugas, 3 ventiladores CF120 mm de 4.724 in, controlador incluido y soporte de sincronización de placa base A-RGB de 5 V, Intel 115X/1200/2066, AMD TR4/AM4",
            "count": 9
           },
           {
            "name": "15 others",
            "count": 18
           }
          ]
         }
        },
        {
         "name": "type",
         "dtype": "object",
         "stats": {
          "unique_count": 1,
          "nan_count": 0,
          "categories": [
           {
            "name": "Refrigeration",
            "count": 40
           }
          ]
         }
        },
        {
         "name": "category",
         "dtype": "object",
         "stats": {
          "unique_count": 2,
          "nan_count": 0,
          "categories": [
           {
            "name": "Office",
            "count": 35
           },
           {
            "name": "Gamer",
            "count": 5
           }
          ]
         }
        },
        {
         "name": "range",
         "dtype": "object",
         "stats": {
          "unique_count": 3,
          "nan_count": 0,
          "categories": [
           {
            "name": "Mid",
            "count": 22
           },
           {
            "name": "Low",
            "count": 17
           },
           {
            "name": "High",
            "count": 1
           }
          ]
         }
        },
        {
         "name": "symbol",
         "dtype": "object",
         "stats": {
          "unique_count": 1,
          "nan_count": 0,
          "categories": [
           {
            "name": "US",
            "count": 40
           }
          ]
         }
        },
        {
         "name": "price",
         "dtype": "float64",
         "stats": {
          "unique_count": 17,
          "nan_count": 0,
          "min": "109.0",
          "max": "465.0",
          "histogram": [
           {
            "bin_start": 109,
            "bin_end": 144.6,
            "count": 17
           },
           {
            "bin_start": 144.6,
            "bin_end": 180.2,
            "count": 18
           },
           {
            "bin_start": 180.2,
            "bin_end": 215.8,
            "count": 0
           },
           {
            "bin_start": 215.8,
            "bin_end": 251.4,
            "count": 0
           },
           {
            "bin_start": 251.4,
            "bin_end": 287,
            "count": 0
           },
           {
            "bin_start": 287,
            "bin_end": 322.6,
            "count": 0
           },
           {
            "bin_start": 322.6,
            "bin_end": 358.20000000000005,
            "count": 3
           },
           {
            "bin_start": 358.20000000000005,
            "bin_end": 393.8,
            "count": 1
           },
           {
            "bin_start": 393.8,
            "bin_end": 429.40000000000003,
            "count": 0
           },
           {
            "bin_start": 429.40000000000003,
            "bin_end": 465,
            "count": 1
           }
          ]
         }
        },
        {
         "name": "link",
         "dtype": "object",
         "stats": {
          "unique_count": 40,
          "nan_count": 0,
          "categories": [
           {
            "name": "https://www.amazon.com/-/es/gp/slredirect/picassoRedirect.html/ref=pa_sp_atf_aps_sr_pg1_1?ie=UTF8&adId=A0839642QF69XYGTN31C&url=%2F360EX-WH-ventiladores-controlador-sincronizaci%25C3%25B3n%2Fdp%2FB0943XVFVH%2Fref%3Dsr_1_1_sspa%3F__mk_es_US%3D%25C3%2585M%25C3%2585%25C5%25BD%25C3%2595%25C3%2591%26crid%3D2AMZ51SGRGENV%26keywords%3Dpc%2Bcooling%26qid%3D1646937923%26sprefix%3Dr%252Caps%252C183%26sr%3D8-1-spons%26psc%3D1&qualifier=1646937923&id=7550439039741575&widgetName=sp_atf",
            "count": 1
           },
           {
            "name": "https://www.amazon.com/-/es/gp/slredirect/picassoRedirect.html/ref=pa_sp_atf_aps_sr_pg1_1?ie=UTF8&adId=A0823974KOJNJ233XUFZ&url=%2FMasterLiquid-Close-Loop-refrigerador-transl%25C3%25BAcida-generaci%25C3%25B3n%2Fdp%2FB0946GJ4GX%2Fref%3Dsr_1_2_sspa%3F__mk_es_US%3D%25C3%2585M%25C3%2585%25C5%25BD%25C3%2595%25C3%2591%26crid%3D2AMZ51SGRGENV%26keywords%3Dpc%2Bcooling%26qid%3D1646937923%26sprefix%3Dr%252Caps%252C183%26sr%3D8-2-spons%26psc%3D1&qualifier=1646937923&id=7550439039741575&widgetName=sp_atf",
            "count": 1
           },
           {
            "name": "38 others",
            "count": 38
           }
          ]
         }
        },
        {
         "name": "origin",
         "dtype": "object",
         "stats": {
          "unique_count": 1,
          "nan_count": 0,
          "categories": [
           {
            "name": "/work/games_seeker/data/raw/amazon_refrigeracion_pc.csv",
            "count": 40
           }
          ]
         }
        },
        {
         "name": "_deepnote_index_column",
         "dtype": "int64"
        }
       ],
       "rows": [
        {
         "title": "DeepCool Castle 360EX A-RGB WH AIO Enfriador de CPU líquido con tecnología antifugas, 3 ventiladore…",
         "type": "Refrigeration",
         "category": "Office",
         "range": "Low",
         "symbol": "US",
         "price": 129,
         "link": "https://www.amazon.com/-/es/gp/slredirect/picassoRedirect.html/ref=pa_sp_atf_aps_sr_pg1_1?ie=UTF8&a…",
         "origin": "/work/games_seeker/data/raw/amazon_refrigeracion_pc.csv",
         "_deepnote_index_column": 0
        },
        {
         "title": "Cooler Master MasterLiquid ML360 Illusion Close-Loop AIO CPU líquido refrigerador, cúpula translúci…",
         "type": "Refrigeration",
         "category": "Office",
         "range": "Mid",
         "symbol": "US",
         "price": 169,
         "link": "https://www.amazon.com/-/es/gp/slredirect/picassoRedirect.html/ref=pa_sp_atf_aps_sr_pg1_1?ie=UTF8&a…",
         "origin": "/work/games_seeker/data/raw/amazon_refrigeracion_pc.csv",
         "_deepnote_index_column": 1
        },
        {
         "title": "Corsair iCUE H100i RGB Pro XT, Radiador de 9.449 pulgadas",
         "type": "Refrigeration",
         "category": "Office",
         "range": "Low",
         "symbol": "US",
         "price": 117,
         "link": "https://www.amazon.com/-/es/Corsair-iCUE-H100i-Radiador-9-449-pulgadas/dp/B0829RTMKY/ref=sr_1_3?__m…",
         "origin": "/work/games_seeker/data/raw/amazon_refrigeracion_pc.csv",
         "_deepnote_index_column": 2
        },
        {
         "title": "Corsair iCUE H100i RGB Pro XT, Radiador de 9.449 pulgadas",
         "type": "Refrigeration",
         "category": "Office",
         "range": "Mid",
         "symbol": "US",
         "price": 179,
         "link": "https://www.amazon.com/-/es/Corsair-iCUE-H100i-Radiador-9-449-pulgadas/dp/B08G1Q3GZR/ref=sr_1_4?__m…",
         "origin": "/work/games_seeker/data/raw/amazon_refrigeracion_pc.csv",
         "_deepnote_index_column": 3
        },
        {
         "title": "Corsair Hydro X Series XH305i Kit de refrigeración por agua Hardline con bloque de agua XC7 CPU, ra…",
         "type": "Refrigeration",
         "category": "Gamer",
         "range": "High",
         "symbol": "US",
         "price": 465,
         "link": "https://www.amazon.com/-/es/Corsair-refrigeraci%C3%B3n-Hardline-radiador-ventiladores/dp/B08C7QJC7G…",
         "origin": "/work/games_seeker/data/raw/amazon_refrigeracion_pc.csv",
         "_deepnote_index_column": 7
        },
        {
         "title": "Cooler Master MasterAir MA620M Dual Tower ARGB Enfriador de aire de CPU de alto rendimiento, ventil…",
         "type": "Refrigeration",
         "category": "Office",
         "range": "Low",
         "symbol": "US",
         "price": 121,
         "link": "https://www.amazon.com/-/es/MasterAir-Enfriador-rendimiento-ventilador-iluminaci%C3%B3n/dp/B07YLKPW…",
         "origin": "/work/games_seeker/data/raw/amazon_refrigeracion_pc.csv",
         "_deepnote_index_column": 14
        },
        {
         "title": "OWC Aura P12 M.2 NVMe SSD unidad de disco óptico",
         "type": "Refrigeration",
         "category": "Gamer",
         "range": "Mid",
         "symbol": "US",
         "price": 329,
         "link": "https://www.amazon.com/-/es/gp/slredirect/picassoRedirect.html/ref=pa_sp_atf_next_aps_sr_pg2_1?ie=U…",
         "origin": "/work/games_seeker/data/raw/amazon_refrigeracion_pc.csv",
         "_deepnote_index_column": 20
        },
        {
         "title": "Cooler Master MasterLiquid ML360 Illusion Close-Loop AIO CPU líquido refrigerador, cúpula translúci…",
         "type": "Refrigeration",
         "category": "Office",
         "range": "Mid",
         "symbol": "US",
         "price": 169,
         "link": "https://www.amazon.com/-/es/gp/slredirect/picassoRedirect.html/ref=pa_sp_atf_next_aps_sr_pg5_1?ie=U…",
         "origin": "/work/games_seeker/data/raw/amazon_refrigeracion_pc.csv",
         "_deepnote_index_column": 22
        },
        {
         "title": "DeepCool Castle 360EX A-RGB WH AIO Enfriador de CPU líquido con tecnología antifugas, 3 ventiladore…",
         "type": "Refrigeration",
         "category": "Office",
         "range": "Low",
         "symbol": "US",
         "price": 129,
         "link": "https://www.amazon.com/-/es/gp/slredirect/picassoRedirect.html/ref=pa_sp_mtf_aps_sr_pg5_1?ie=UTF8&a…",
         "origin": "/work/games_seeker/data/raw/amazon_refrigeracion_pc.csv",
         "_deepnote_index_column": 32
        },
        {
         "title": "Cooler Master MasterLiquid ML360 Illusion Close-Loop AIO CPU líquido refrigerador, cúpula translúci…",
         "type": "Refrigeration",
         "category": "Office",
         "range": "Mid",
         "symbol": "US",
         "price": 169,
         "link": "https://www.amazon.com/-/es/gp/slredirect/picassoRedirect.html/ref=pa_sp_atf_next_aps_sr_pg6_1?ie=U…",
         "origin": "/work/games_seeker/data/raw/amazon_refrigeracion_pc.csv",
         "_deepnote_index_column": 38
        }
       ]
      },
      "text/plain": "                                                 title           type  \\\n0    DeepCool Castle 360EX A-RGB WH AIO Enfriador d...  Refrigeration   \n1    Cooler Master MasterLiquid ML360 Illusion Clos...  Refrigeration   \n2    Corsair iCUE H100i RGB Pro XT, Radiador de 9.4...  Refrigeration   \n3    Corsair iCUE H100i RGB Pro XT, Radiador de 9.4...  Refrigeration   \n7    Corsair Hydro X Series XH305i Kit de refrigera...  Refrigeration   \n14   Cooler Master MasterAir MA620M Dual Tower ARGB...  Refrigeration   \n20    OWC Aura P12 M.2 NVMe SSD unidad de disco óptico  Refrigeration   \n22   Cooler Master MasterLiquid ML360 Illusion Clos...  Refrigeration   \n32   DeepCool Castle 360EX A-RGB WH AIO Enfriador d...  Refrigeration   \n38   Cooler Master MasterLiquid ML360 Illusion Clos...  Refrigeration   \n48   DeepCool Castle 360EX A-RGB WH AIO Enfriador d...  Refrigeration   \n49   Cooler Master MasterLiquid ML360R ARGB Close-L...  Refrigeration   \n54   Cooler Master MasterLiquid ML360 Illusion Clos...  Refrigeration   \n58   EKWB EK-Quantum Reflection PC-O11D D5 PWM Dist...  Refrigeration   \n63   DeepCool Castle 360EX A-RGB WH AIO Enfriador d...  Refrigeration   \n65   ASHATA - Kit de refrigeración de agua para PC,...  Refrigeration   \n70   Cooler Master MasterLiquid ML360 Illusion Clos...  Refrigeration   \n75   Cooler Master MasterLiquid ML360 Illusion Clos...  Refrigeration   \n83   Corsair Hydro X Series XD5 RGB Bomba / depósit...  Refrigeration   \n86   DeepCool Castle 360EX A-RGB WH AIO Enfriador d...  Refrigeration   \n87   MSI MAG Series CORELIQUID 360R, enfriador líqu...  Refrigeration   \n93   Cooler Master MasterLiquid ML360 Illusion Clos...  Refrigeration   \n97   Kit de refrigeración por agua,Kit de refrigera...  Refrigeration   \n102  DeepCool Castle 360EX A-RGB WH AIO Enfriador d...  Refrigeration   \n107  Juego de refrigeración por agua para computado...  Refrigeration   \n109  Cooler Master MasterLiquid ML360 Illusion Clos...  Refrigeration   \n111  Kit de refrigeración por agua para PC DIY Kit ...  Refrigeration   \n119  DeepCool Castle 360EX A-RGB WH AIO Enfriador d...  Refrigeration   \n124  Cooler Master MasterLiquid ML360 Illusion Clos...  Refrigeration   \n129  Wendry Kit de refrigeración por agua de 9.449 ...  Refrigeration   \n134   OWC Aura P12 M.2 NVMe SSD unidad de disco óptico  Refrigeration   \n141  Cooler Master MasterLiquid ML360 Illusion Clos...  Refrigeration   \n143  DeepCool Castle 360EX A-RGB WH AIO Enfriador d...  Refrigeration   \n144  Cooler Master MasterLiquid ML360 Illusion Clos...  Refrigeration   \n146  Thermaltake Pacific CL480 - Radiador de cobre ...  Refrigeration   \n154   OWC Aura P12 M.2 NVMe SSD unidad de disco óptico  Refrigeration   \n160  Cooler Master MasterLiquid ML360 Illusion Clos...  Refrigeration   \n163  Razer Kunai - Ventilador hidráulico de PC aRGB...  Refrigeration   \n171  DeepCool Castle 360EX A-RGB WH AIO Enfriador d...  Refrigeration   \n175  Cooler Master MasterLiquid ML360 Illusion Clos...  Refrigeration   \n\n    category range symbol  price  \\\n0     Office   Low     US  129.0   \n1     Office   Mid     US  169.0   \n2     Office   Low     US  117.0   \n3     Office   Mid     US  179.0   \n7      Gamer  High     US  465.0   \n14    Office   Low     US  121.0   \n20     Gamer   Mid     US  329.0   \n22    Office   Mid     US  169.0   \n32    Office   Low     US  129.0   \n38    Office   Mid     US  169.0   \n48    Office   Low     US  129.0   \n49    Office   Low     US  144.0   \n54    Office   Mid     US  169.0   \n58     Gamer   Mid     US  378.0   \n63    Office   Low     US  129.0   \n65    Office   Mid     US  151.0   \n70    Office   Mid     US  169.0   \n75    Office   Mid     US  169.0   \n83    Office   Mid     US  154.0   \n86    Office   Low     US  129.0   \n87    Office   Low     US  119.0   \n93    Office   Mid     US  169.0   \n97    Office   Mid     US  156.0   \n102   Office   Low     US  129.0   \n107   Office   Mid     US  166.0   \n109   Office   Mid     US  169.0   \n111   Office   Low     US  130.0   \n119   Office   Low     US  129.0   \n124   Office   Mid     US  169.0   \n129   Office   Low     US  129.0   \n134    Gamer   Mid     US  329.0   \n141   Office   Mid     US  169.0   \n143   Office   Low     US  129.0   \n144   Office   Mid     US  169.0   \n146   Office   Low     US  141.0   \n154    Gamer   Mid     US  329.0   \n160   Office   Mid     US  169.0   \n163   Office   Low     US  109.0   \n171   Office   Low     US  129.0   \n175   Office   Mid     US  169.0   \n\n                                                  link  \\\n0    https://www.amazon.com/-/es/gp/slredirect/pica...   \n1    https://www.amazon.com/-/es/gp/slredirect/pica...   \n2    https://www.amazon.com/-/es/Corsair-iCUE-H100i...   \n3    https://www.amazon.com/-/es/Corsair-iCUE-H100i...   \n7    https://www.amazon.com/-/es/Corsair-refrigerac...   \n14   https://www.amazon.com/-/es/MasterAir-Enfriado...   \n20   https://www.amazon.com/-/es/gp/slredirect/pica...   \n22   https://www.amazon.com/-/es/gp/slredirect/pica...   \n32   https://www.amazon.com/-/es/gp/slredirect/pica...   \n38   https://www.amazon.com/-/es/gp/slredirect/pica...   \n48   https://www.amazon.com/-/es/gp/slredirect/pica...   \n49   https://www.amazon.com/-/es/Cooler-MasterLiqui...   \n54   https://www.amazon.com/-/es/gp/slredirect/pica...   \n58   https://www.amazon.com/-/es/EK-Quantum-Reflect...   \n63   https://www.amazon.com/-/es/gp/slredirect/pica...   \n65   https://www.amazon.com/-/es/ASHATA-refrigeraci...   \n70   https://www.amazon.com/-/es/gp/slredirect/pica...   \n75   https://www.amazon.com/-/es/gp/slredirect/pica...   \n83   https://www.amazon.com/-/es/Corsair-Hydro-Bomb...   \n86   https://www.amazon.com/-/es/gp/slredirect/pica...   \n87   https://www.amazon.com/-/es/MAG-CORELIQUID-360...   \n93   https://www.amazon.com/-/es/gp/slredirect/pica...   \n97   https://www.amazon.com/-/es/refrigeraci%C3%B3n...   \n102  https://www.amazon.com/-/es/gp/slredirect/pica...   \n107  https://www.amazon.com/-/es/refrigeraci%C3%B3n...   \n109  https://www.amazon.com/-/es/gp/slredirect/pica...   \n111  https://www.amazon.com/-/es/refrigeraci%C3%B3n...   \n119  https://www.amazon.com/-/es/gp/slredirect/pica...   \n124  https://www.amazon.com/-/es/gp/slredirect/pica...   \n129  https://www.amazon.com/-/es/refrigeraci%C3%B3n...   \n134  https://www.amazon.com/-/es/gp/slredirect/pica...   \n141  https://www.amazon.com/-/es/gp/slredirect/pica...   \n143  https://www.amazon.com/-/es/gp/slredirect/pica...   \n144  https://www.amazon.com/-/es/gp/slredirect/pica...   \n146  https://www.amazon.com/-/es/Thermaltake-Pacifi...   \n154  https://www.amazon.com/-/es/gp/slredirect/pica...   \n160  https://www.amazon.com/-/es/gp/slredirect/pica...   \n163  https://www.amazon.com/-/es/Razer-Kunai-4-724-...   \n171  https://www.amazon.com/-/es/gp/slredirect/pica...   \n175  https://www.amazon.com/-/es/gp/slredirect/pica...   \n\n                                                origin  \n0    /work/games_seeker/data/raw/amazon_refrigeraci...  \n1    /work/games_seeker/data/raw/amazon_refrigeraci...  \n2    /work/games_seeker/data/raw/amazon_refrigeraci...  \n3    /work/games_seeker/data/raw/amazon_refrigeraci...  \n7    /work/games_seeker/data/raw/amazon_refrigeraci...  \n14   /work/games_seeker/data/raw/amazon_refrigeraci...  \n20   /work/games_seeker/data/raw/amazon_refrigeraci...  \n22   /work/games_seeker/data/raw/amazon_refrigeraci...  \n32   /work/games_seeker/data/raw/amazon_refrigeraci...  \n38   /work/games_seeker/data/raw/amazon_refrigeraci...  \n48   /work/games_seeker/data/raw/amazon_refrigeraci...  \n49   /work/games_seeker/data/raw/amazon_refrigeraci...  \n54   /work/games_seeker/data/raw/amazon_refrigeraci...  \n58   /work/games_seeker/data/raw/amazon_refrigeraci...  \n63   /work/games_seeker/data/raw/amazon_refrigeraci...  \n65   /work/games_seeker/data/raw/amazon_refrigeraci...  \n70   /work/games_seeker/data/raw/amazon_refrigeraci...  \n75   /work/games_seeker/data/raw/amazon_refrigeraci...  \n83   /work/games_seeker/data/raw/amazon_refrigeraci...  \n86   /work/games_seeker/data/raw/amazon_refrigeraci...  \n87   /work/games_seeker/data/raw/amazon_refrigeraci...  \n93   /work/games_seeker/data/raw/amazon_refrigeraci...  \n97   /work/games_seeker/data/raw/amazon_refrigeraci...  \n102  /work/games_seeker/data/raw/amazon_refrigeraci...  \n107  /work/games_seeker/data/raw/amazon_refrigeraci...  \n109  /work/games_seeker/data/raw/amazon_refrigeraci...  \n111  /work/games_seeker/data/raw/amazon_refrigeraci...  \n119  /work/games_seeker/data/raw/amazon_refrigeraci...  \n124  /work/games_seeker/data/raw/amazon_refrigeraci...  \n129  /work/games_seeker/data/raw/amazon_refrigeraci...  \n134  /work/games_seeker/data/raw/amazon_refrigeraci...  \n141  /work/games_seeker/data/raw/amazon_refrigeraci...  \n143  /work/games_seeker/data/raw/amazon_refrigeraci...  \n144  /work/games_seeker/data/raw/amazon_refrigeraci...  \n146  /work/games_seeker/data/raw/amazon_refrigeraci...  \n154  /work/games_seeker/data/raw/amazon_refrigeraci...  \n160  /work/games_seeker/data/raw/amazon_refrigeraci...  \n163  /work/games_seeker/data/raw/amazon_refrigeraci...  \n171  /work/games_seeker/data/raw/amazon_refrigeraci...  \n175  /work/games_seeker/data/raw/amazon_refrigeraci...  ",
      "text/html": "<div>\n<style scoped>\n    .dataframe tbody tr th:only-of-type {\n        vertical-align: middle;\n    }\n\n    .dataframe tbody tr th {\n        vertical-align: top;\n    }\n\n    .dataframe thead th {\n        text-align: right;\n    }\n</style>\n<table border=\"1\" class=\"dataframe\">\n  <thead>\n    <tr style=\"text-align: right;\">\n      <th></th>\n      <th>title</th>\n      <th>type</th>\n      <th>category</th>\n      <th>range</th>\n      <th>symbol</th>\n      <th>price</th>\n      <th>link</th>\n      <th>origin</th>\n    </tr>\n  </thead>\n  <tbody>\n    <tr>\n      <th>0</th>\n      <td>DeepCool Castle 360EX A-RGB WH AIO Enfriador d...</td>\n      <td>Refrigeration</td>\n      <td>Office</td>\n      <td>Low</td>\n      <td>US</td>\n      <td>129.0</td>\n      <td>https://www.amazon.com/-/es/gp/slredirect/pica...</td>\n      <td>/work/games_seeker/data/raw/amazon_refrigeraci...</td>\n    </tr>\n    <tr>\n      <th>1</th>\n      <td>Cooler Master MasterLiquid ML360 Illusion Clos...</td>\n      <td>Refrigeration</td>\n      <td>Office</td>\n      <td>Mid</td>\n      <td>US</td>\n      <td>169.0</td>\n      <td>https://www.amazon.com/-/es/gp/slredirect/pica...</td>\n      <td>/work/games_seeker/data/raw/amazon_refrigeraci...</td>\n    </tr>\n    <tr>\n      <th>2</th>\n      <td>Corsair iCUE H100i RGB Pro XT, Radiador de 9.4...</td>\n      <td>Refrigeration</td>\n      <td>Office</td>\n      <td>Low</td>\n      <td>US</td>\n      <td>117.0</td>\n      <td>https://www.amazon.com/-/es/Corsair-iCUE-H100i...</td>\n      <td>/work/games_seeker/data/raw/amazon_refrigeraci...</td>\n    </tr>\n    <tr>\n      <th>3</th>\n      <td>Corsair iCUE H100i RGB Pro XT, Radiador de 9.4...</td>\n      <td>Refrigeration</td>\n      <td>Office</td>\n      <td>Mid</td>\n      <td>US</td>\n      <td>179.0</td>\n      <td>https://www.amazon.com/-/es/Corsair-iCUE-H100i...</td>\n      <td>/work/games_seeker/data/raw/amazon_refrigeraci...</td>\n    </tr>\n    <tr>\n      <th>7</th>\n      <td>Corsair Hydro X Series XH305i Kit de refrigera...</td>\n      <td>Refrigeration</td>\n      <td>Gamer</td>\n      <td>High</td>\n      <td>US</td>\n      <td>465.0</td>\n      <td>https://www.amazon.com/-/es/Corsair-refrigerac...</td>\n      <td>/work/games_seeker/data/raw/amazon_refrigeraci...</td>\n    </tr>\n    <tr>\n      <th>14</th>\n      <td>Cooler Master MasterAir MA620M Dual Tower ARGB...</td>\n      <td>Refrigeration</td>\n      <td>Office</td>\n      <td>Low</td>\n      <td>US</td>\n      <td>121.0</td>\n      <td>https://www.amazon.com/-/es/MasterAir-Enfriado...</td>\n      <td>/work/games_seeker/data/raw/amazon_refrigeraci...</td>\n    </tr>\n    <tr>\n      <th>20</th>\n      <td>OWC Aura P12 M.2 NVMe SSD unidad de disco óptico</td>\n      <td>Refrigeration</td>\n      <td>Gamer</td>\n      <td>Mid</td>\n      <td>US</td>\n      <td>329.0</td>\n      <td>https://www.amazon.com/-/es/gp/slredirect/pica...</td>\n      <td>/work/games_seeker/data/raw/amazon_refrigeraci...</td>\n    </tr>\n    <tr>\n      <th>22</th>\n      <td>Cooler Master MasterLiquid ML360 Illusion Clos...</td>\n      <td>Refrigeration</td>\n      <td>Office</td>\n      <td>Mid</td>\n      <td>US</td>\n      <td>169.0</td>\n      <td>https://www.amazon.com/-/es/gp/slredirect/pica...</td>\n      <td>/work/games_seeker/data/raw/amazon_refrigeraci...</td>\n    </tr>\n    <tr>\n      <th>32</th>\n      <td>DeepCool Castle 360EX A-RGB WH AIO Enfriador d...</td>\n      <td>Refrigeration</td>\n      <td>Office</td>\n      <td>Low</td>\n      <td>US</td>\n      <td>129.0</td>\n      <td>https://www.amazon.com/-/es/gp/slredirect/pica...</td>\n      <td>/work/games_seeker/data/raw/amazon_refrigeraci...</td>\n    </tr>\n    <tr>\n      <th>38</th>\n      <td>Cooler Master MasterLiquid ML360 Illusion Clos...</td>\n      <td>Refrigeration</td>\n      <td>Office</td>\n      <td>Mid</td>\n      <td>US</td>\n      <td>169.0</td>\n      <td>https://www.amazon.com/-/es/gp/slredirect/pica...</td>\n      <td>/work/games_seeker/data/raw/amazon_refrigeraci...</td>\n    </tr>\n    <tr>\n      <th>48</th>\n      <td>DeepCool Castle 360EX A-RGB WH AIO Enfriador d...</td>\n      <td>Refrigeration</td>\n      <td>Office</td>\n      <td>Low</td>\n      <td>US</td>\n      <td>129.0</td>\n      <td>https://www.amazon.com/-/es/gp/slredirect/pica...</td>\n      <td>/work/games_seeker/data/raw/amazon_refrigeraci...</td>\n    </tr>\n    <tr>\n      <th>49</th>\n      <td>Cooler Master MasterLiquid ML360R ARGB Close-L...</td>\n      <td>Refrigeration</td>\n      <td>Office</td>\n      <td>Low</td>\n      <td>US</td>\n      <td>144.0</td>\n      <td>https://www.amazon.com/-/es/Cooler-MasterLiqui...</td>\n      <td>/work/games_seeker/data/raw/amazon_refrigeraci...</td>\n    </tr>\n    <tr>\n      <th>54</th>\n      <td>Cooler Master MasterLiquid ML360 Illusion Clos...</td>\n      <td>Refrigeration</td>\n      <td>Office</td>\n      <td>Mid</td>\n      <td>US</td>\n      <td>169.0</td>\n      <td>https://www.amazon.com/-/es/gp/slredirect/pica...</td>\n      <td>/work/games_seeker/data/raw/amazon_refrigeraci...</td>\n    </tr>\n    <tr>\n      <th>58</th>\n      <td>EKWB EK-Quantum Reflection PC-O11D D5 PWM Dist...</td>\n      <td>Refrigeration</td>\n      <td>Gamer</td>\n      <td>Mid</td>\n      <td>US</td>\n      <td>378.0</td>\n      <td>https://www.amazon.com/-/es/EK-Quantum-Reflect...</td>\n      <td>/work/games_seeker/data/raw/amazon_refrigeraci...</td>\n    </tr>\n    <tr>\n      <th>63</th>\n      <td>DeepCool Castle 360EX A-RGB WH AIO Enfriador d...</td>\n      <td>Refrigeration</td>\n      <td>Office</td>\n      <td>Low</td>\n      <td>US</td>\n      <td>129.0</td>\n      <td>https://www.amazon.com/-/es/gp/slredirect/pica...</td>\n      <td>/work/games_seeker/data/raw/amazon_refrigeraci...</td>\n    </tr>\n    <tr>\n      <th>65</th>\n      <td>ASHATA - Kit de refrigeración de agua para PC,...</td>\n      <td>Refrigeration</td>\n      <td>Office</td>\n      <td>Mid</td>\n      <td>US</td>\n      <td>151.0</td>\n      <td>https://www.amazon.com/-/es/ASHATA-refrigeraci...</td>\n      <td>/work/games_seeker/data/raw/amazon_refrigeraci...</td>\n    </tr>\n    <tr>\n      <th>70</th>\n      <td>Cooler Master MasterLiquid ML360 Illusion Clos...</td>\n      <td>Refrigeration</td>\n      <td>Office</td>\n      <td>Mid</td>\n      <td>US</td>\n      <td>169.0</td>\n      <td>https://www.amazon.com/-/es/gp/slredirect/pica...</td>\n      <td>/work/games_seeker/data/raw/amazon_refrigeraci...</td>\n    </tr>\n    <tr>\n      <th>75</th>\n      <td>Cooler Master MasterLiquid ML360 Illusion Clos...</td>\n      <td>Refrigeration</td>\n      <td>Office</td>\n      <td>Mid</td>\n      <td>US</td>\n      <td>169.0</td>\n      <td>https://www.amazon.com/-/es/gp/slredirect/pica...</td>\n      <td>/work/games_seeker/data/raw/amazon_refrigeraci...</td>\n    </tr>\n    <tr>\n      <th>83</th>\n      <td>Corsair Hydro X Series XD5 RGB Bomba / depósit...</td>\n      <td>Refrigeration</td>\n      <td>Office</td>\n      <td>Mid</td>\n      <td>US</td>\n      <td>154.0</td>\n      <td>https://www.amazon.com/-/es/Corsair-Hydro-Bomb...</td>\n      <td>/work/games_seeker/data/raw/amazon_refrigeraci...</td>\n    </tr>\n    <tr>\n      <th>86</th>\n      <td>DeepCool Castle 360EX A-RGB WH AIO Enfriador d...</td>\n      <td>Refrigeration</td>\n      <td>Office</td>\n      <td>Low</td>\n      <td>US</td>\n      <td>129.0</td>\n      <td>https://www.amazon.com/-/es/gp/slredirect/pica...</td>\n      <td>/work/games_seeker/data/raw/amazon_refrigeraci...</td>\n    </tr>\n    <tr>\n      <th>87</th>\n      <td>MSI MAG Series CORELIQUID 360R, enfriador líqu...</td>\n      <td>Refrigeration</td>\n      <td>Office</td>\n      <td>Low</td>\n      <td>US</td>\n      <td>119.0</td>\n      <td>https://www.amazon.com/-/es/MAG-CORELIQUID-360...</td>\n      <td>/work/games_seeker/data/raw/amazon_refrigeraci...</td>\n    </tr>\n    <tr>\n      <th>93</th>\n      <td>Cooler Master MasterLiquid ML360 Illusion Clos...</td>\n      <td>Refrigeration</td>\n      <td>Office</td>\n      <td>Mid</td>\n      <td>US</td>\n      <td>169.0</td>\n      <td>https://www.amazon.com/-/es/gp/slredirect/pica...</td>\n      <td>/work/games_seeker/data/raw/amazon_refrigeraci...</td>\n    </tr>\n    <tr>\n      <th>97</th>\n      <td>Kit de refrigeración por agua,Kit de refrigera...</td>\n      <td>Refrigeration</td>\n      <td>Office</td>\n      <td>Mid</td>\n      <td>US</td>\n      <td>156.0</td>\n      <td>https://www.amazon.com/-/es/refrigeraci%C3%B3n...</td>\n      <td>/work/games_seeker/data/raw/amazon_refrigeraci...</td>\n    </tr>\n    <tr>\n      <th>102</th>\n      <td>DeepCool Castle 360EX A-RGB WH AIO Enfriador d...</td>\n      <td>Refrigeration</td>\n      <td>Office</td>\n      <td>Low</td>\n      <td>US</td>\n      <td>129.0</td>\n      <td>https://www.amazon.com/-/es/gp/slredirect/pica...</td>\n      <td>/work/games_seeker/data/raw/amazon_refrigeraci...</td>\n    </tr>\n    <tr>\n      <th>107</th>\n      <td>Juego de refrigeración por agua para computado...</td>\n      <td>Refrigeration</td>\n      <td>Office</td>\n      <td>Mid</td>\n      <td>US</td>\n      <td>166.0</td>\n      <td>https://www.amazon.com/-/es/refrigeraci%C3%B3n...</td>\n      <td>/work/games_seeker/data/raw/amazon_refrigeraci...</td>\n    </tr>\n    <tr>\n      <th>109</th>\n      <td>Cooler Master MasterLiquid ML360 Illusion Clos...</td>\n      <td>Refrigeration</td>\n      <td>Office</td>\n      <td>Mid</td>\n      <td>US</td>\n      <td>169.0</td>\n      <td>https://www.amazon.com/-/es/gp/slredirect/pica...</td>\n      <td>/work/games_seeker/data/raw/amazon_refrigeraci...</td>\n    </tr>\n    <tr>\n      <th>111</th>\n      <td>Kit de refrigeración por agua para PC DIY Kit ...</td>\n      <td>Refrigeration</td>\n      <td>Office</td>\n      <td>Low</td>\n      <td>US</td>\n      <td>130.0</td>\n      <td>https://www.amazon.com/-/es/refrigeraci%C3%B3n...</td>\n      <td>/work/games_seeker/data/raw/amazon_refrigeraci...</td>\n    </tr>\n    <tr>\n      <th>119</th>\n      <td>DeepCool Castle 360EX A-RGB WH AIO Enfriador d...</td>\n      <td>Refrigeration</td>\n      <td>Office</td>\n      <td>Low</td>\n      <td>US</td>\n      <td>129.0</td>\n      <td>https://www.amazon.com/-/es/gp/slredirect/pica...</td>\n      <td>/work/games_seeker/data/raw/amazon_refrigeraci...</td>\n    </tr>\n    <tr>\n      <th>124</th>\n      <td>Cooler Master MasterLiquid ML360 Illusion Clos...</td>\n      <td>Refrigeration</td>\n      <td>Office</td>\n      <td>Mid</td>\n      <td>US</td>\n      <td>169.0</td>\n      <td>https://www.amazon.com/-/es/gp/slredirect/pica...</td>\n      <td>/work/games_seeker/data/raw/amazon_refrigeraci...</td>\n    </tr>\n    <tr>\n      <th>129</th>\n      <td>Wendry Kit de refrigeración por agua de 9.449 ...</td>\n      <td>Refrigeration</td>\n      <td>Office</td>\n      <td>Low</td>\n      <td>US</td>\n      <td>129.0</td>\n      <td>https://www.amazon.com/-/es/refrigeraci%C3%B3n...</td>\n      <td>/work/games_seeker/data/raw/amazon_refrigeraci...</td>\n    </tr>\n    <tr>\n      <th>134</th>\n      <td>OWC Aura P12 M.2 NVMe SSD unidad de disco óptico</td>\n      <td>Refrigeration</td>\n      <td>Gamer</td>\n      <td>Mid</td>\n      <td>US</td>\n      <td>329.0</td>\n      <td>https://www.amazon.com/-/es/gp/slredirect/pica...</td>\n      <td>/work/games_seeker/data/raw/amazon_refrigeraci...</td>\n    </tr>\n    <tr>\n      <th>141</th>\n      <td>Cooler Master MasterLiquid ML360 Illusion Clos...</td>\n      <td>Refrigeration</td>\n      <td>Office</td>\n      <td>Mid</td>\n      <td>US</td>\n      <td>169.0</td>\n      <td>https://www.amazon.com/-/es/gp/slredirect/pica...</td>\n      <td>/work/games_seeker/data/raw/amazon_refrigeraci...</td>\n    </tr>\n    <tr>\n      <th>143</th>\n      <td>DeepCool Castle 360EX A-RGB WH AIO Enfriador d...</td>\n      <td>Refrigeration</td>\n      <td>Office</td>\n      <td>Low</td>\n      <td>US</td>\n      <td>129.0</td>\n      <td>https://www.amazon.com/-/es/gp/slredirect/pica...</td>\n      <td>/work/games_seeker/data/raw/amazon_refrigeraci...</td>\n    </tr>\n    <tr>\n      <th>144</th>\n      <td>Cooler Master MasterLiquid ML360 Illusion Clos...</td>\n      <td>Refrigeration</td>\n      <td>Office</td>\n      <td>Mid</td>\n      <td>US</td>\n      <td>169.0</td>\n      <td>https://www.amazon.com/-/es/gp/slredirect/pica...</td>\n      <td>/work/games_seeker/data/raw/amazon_refrigeraci...</td>\n    </tr>\n    <tr>\n      <th>146</th>\n      <td>Thermaltake Pacific CL480 - Radiador de cobre ...</td>\n      <td>Refrigeration</td>\n      <td>Office</td>\n      <td>Low</td>\n      <td>US</td>\n      <td>141.0</td>\n      <td>https://www.amazon.com/-/es/Thermaltake-Pacifi...</td>\n      <td>/work/games_seeker/data/raw/amazon_refrigeraci...</td>\n    </tr>\n    <tr>\n      <th>154</th>\n      <td>OWC Aura P12 M.2 NVMe SSD unidad de disco óptico</td>\n      <td>Refrigeration</td>\n      <td>Gamer</td>\n      <td>Mid</td>\n      <td>US</td>\n      <td>329.0</td>\n      <td>https://www.amazon.com/-/es/gp/slredirect/pica...</td>\n      <td>/work/games_seeker/data/raw/amazon_refrigeraci...</td>\n    </tr>\n    <tr>\n      <th>160</th>\n      <td>Cooler Master MasterLiquid ML360 Illusion Clos...</td>\n      <td>Refrigeration</td>\n      <td>Office</td>\n      <td>Mid</td>\n      <td>US</td>\n      <td>169.0</td>\n      <td>https://www.amazon.com/-/es/gp/slredirect/pica...</td>\n      <td>/work/games_seeker/data/raw/amazon_refrigeraci...</td>\n    </tr>\n    <tr>\n      <th>163</th>\n      <td>Razer Kunai - Ventilador hidráulico de PC aRGB...</td>\n      <td>Refrigeration</td>\n      <td>Office</td>\n      <td>Low</td>\n      <td>US</td>\n      <td>109.0</td>\n      <td>https://www.amazon.com/-/es/Razer-Kunai-4-724-...</td>\n      <td>/work/games_seeker/data/raw/amazon_refrigeraci...</td>\n    </tr>\n    <tr>\n      <th>171</th>\n      <td>DeepCool Castle 360EX A-RGB WH AIO Enfriador d...</td>\n      <td>Refrigeration</td>\n      <td>Office</td>\n      <td>Low</td>\n      <td>US</td>\n      <td>129.0</td>\n      <td>https://www.amazon.com/-/es/gp/slredirect/pica...</td>\n      <td>/work/games_seeker/data/raw/amazon_refrigeraci...</td>\n    </tr>\n    <tr>\n      <th>175</th>\n      <td>Cooler Master MasterLiquid ML360 Illusion Clos...</td>\n      <td>Refrigeration</td>\n      <td>Office</td>\n      <td>Mid</td>\n      <td>US</td>\n      <td>169.0</td>\n      <td>https://www.amazon.com/-/es/gp/slredirect/pica...</td>\n      <td>/work/games_seeker/data/raw/amazon_refrigeraci...</td>\n    </tr>\n  </tbody>\n</table>\n</div>"
     },
     "metadata": {}
    }
   ]
  },
  {
   "cell_type": "markdown",
   "source": "## RAM",
   "metadata": {
    "cell_id": "2a15a2b6-e8f6-4dcf-ac63-0f17c6de8e5b",
    "tags": [],
    "is_collapsed": false,
    "deepnote_cell_type": "text-cell-h2",
    "deepnote_cell_height": 70
   }
  },
  {
   "cell_type": "code",
   "metadata": {
    "cell_id": "1ed10e9c-f36c-48a2-8664-102e210520b0",
    "tags": [],
    "deepnote_to_be_reexecuted": false,
    "source_hash": "4fa61861",
    "execution_start": 1647039322792,
    "execution_millis": 1,
    "deepnote_cell_type": "code",
    "deepnote_cell_height": 66
   },
   "source": "ram_df = dfs[\"amazon_memorias_ram_dd4.csv\"]",
   "execution_count": null,
   "outputs": []
  },
  {
   "cell_type": "code",
   "metadata": {
    "cell_id": "c5a791b5-9823-465c-ac38-f3406d50c6c1",
    "tags": [],
    "deepnote_to_be_reexecuted": false,
    "source_hash": "b1c8e99c",
    "execution_start": 1647039322837,
    "execution_millis": 2,
    "deepnote_cell_type": "code",
    "deepnote_cell_height": 66
   },
   "source": "ram_df = ram_df[(ram_df[\"price\"] > 50) & (ram_df[\"title\"].str.contains(\"GB\"))]",
   "execution_count": null,
   "outputs": []
  },
  {
   "cell_type": "code",
   "metadata": {
    "cell_id": "f94c625f-d4b7-4f76-a7cc-ff22c9379e9d",
    "tags": [],
    "deepnote_to_be_reexecuted": false,
    "source_hash": "985b7b81",
    "execution_start": 1647039322892,
    "execution_millis": 3,
    "deepnote_cell_type": "code",
    "deepnote_cell_height": 66
   },
   "source": "ram_df.loc[:, \"type\"] = \"RAM\"",
   "execution_count": null,
   "outputs": [
    {
     "name": "stderr",
     "text": "/shared-libs/python3.7/py/lib/python3.7/site-packages/pandas/core/indexing.py:1667: SettingWithCopyWarning: \nA value is trying to be set on a copy of a slice from a DataFrame.\nTry using .loc[row_indexer,col_indexer] = value instead\n\nSee the caveats in the documentation: https://pandas.pydata.org/pandas-docs/stable/user_guide/indexing.html#returning-a-view-versus-a-copy\n  self.obj[key] = value\n",
     "output_type": "stream"
    }
   ]
  },
  {
   "cell_type": "code",
   "metadata": {
    "cell_id": "c5508ca0-17c6-46d4-b32d-83d59c5cefb4",
    "tags": [],
    "deepnote_to_be_reexecuted": false,
    "source_hash": "655de811",
    "execution_start": 1647039322936,
    "execution_millis": 323,
    "deepnote_cell_type": "code",
    "deepnote_cell_height": 102
   },
   "source": "ram_df.loc[:, \"category\"] = \"\"\nram_df.loc[ram_df[\"price\"] <= 250, \"category\"] = \"Office\"\nram_df.loc[ram_df[\"price\"] > 250, \"category\"] = \"Gamer\"",
   "execution_count": null,
   "outputs": [
    {
     "name": "stderr",
     "text": "/shared-libs/python3.7/py/lib/python3.7/site-packages/pandas/core/indexing.py:1817: SettingWithCopyWarning: \nA value is trying to be set on a copy of a slice from a DataFrame.\nTry using .loc[row_indexer,col_indexer] = value instead\n\nSee the caveats in the documentation: https://pandas.pydata.org/pandas-docs/stable/user_guide/indexing.html#returning-a-view-versus-a-copy\n  self._setitem_single_column(loc, value, pi)\n",
     "output_type": "stream"
    }
   ]
  },
  {
   "cell_type": "code",
   "metadata": {
    "cell_id": "41a0877f-8718-4b00-99cb-345432b13bbf",
    "tags": [],
    "deepnote_to_be_reexecuted": false,
    "source_hash": "5a4247db",
    "execution_start": 1647039322937,
    "execution_millis": 44,
    "deepnote_cell_type": "code",
    "deepnote_cell_height": 120
   },
   "source": "ram_df.loc[:, \"range\"] = \"\"\nram_df.loc[ram_df[\"price\"] <= 150, \"range\"] = \"Low\"\nram_df.loc[(ram_df[\"price\"] > 150) & (ram_df[\"price\"] <= 600), \"range\"] = \"Mid\"\nram_df.loc[ram_df[\"price\"] > 600, \"range\"] = \"High\"",
   "execution_count": null,
   "outputs": []
  },
  {
   "cell_type": "code",
   "metadata": {
    "cell_id": "4d16e723-3d69-4474-9d93-969d8de51b84",
    "tags": [],
    "deepnote_to_be_reexecuted": false,
    "source_hash": "1e18ad4",
    "execution_start": 1647039322981,
    "execution_millis": 0,
    "deepnote_cell_type": "code",
    "deepnote_cell_height": 66
   },
   "source": "dfs[\"amazon_memorias_ram_dd4.csv\"] = ram_df[ORDERED_COLUMNS]",
   "execution_count": null,
   "outputs": []
  },
  {
   "cell_type": "code",
   "metadata": {
    "cell_id": "c3241863-a3c1-4d06-9755-c24ae4aa02c2",
    "tags": [],
    "deepnote_to_be_reexecuted": false,
    "source_hash": "59b80248",
    "execution_start": 1647039322986,
    "execution_millis": 394,
    "deepnote_cell_type": "code",
    "deepnote_cell_height": 66
   },
   "source": "dfs[\"amazon_memorias_ram_dd4.csv\"] ",
   "execution_count": null,
   "outputs": [
    {
     "output_type": "execute_result",
     "execution_count": 61,
     "data": {
      "application/vnd.deepnote.dataframe.v3+json": {
       "column_count": 8,
       "row_count": 157,
       "columns": [
        {
         "name": "title",
         "dtype": "object",
         "stats": {
          "unique_count": 150,
          "nan_count": 0,
          "categories": [
           {
            "name": "TEAMGROUP T-Force Delta RGB DDR4",
            "count": 8
           },
           {
            "name": "v-Color Prism RGB DDR4 16 GB (2 x 8 GB) 3200 MHz (PC4-25600) CL16 1.35 V módulo de memoria RAM Upgrade Gaming UDIMM - Gris (TL48G32S8KGRGB16)",
            "count": 1
           },
           {
            "name": "148 others",
            "count": 148
           }
          ]
         }
        },
        {
         "name": "type",
         "dtype": "object",
         "stats": {
          "unique_count": 1,
          "nan_count": 0,
          "categories": [
           {
            "name": "RAM",
            "count": 157
           }
          ]
         }
        },
        {
         "name": "category",
         "dtype": "object",
         "stats": {
          "unique_count": 2,
          "nan_count": 0,
          "categories": [
           {
            "name": "Office",
            "count": 130
           },
           {
            "name": "Gamer",
            "count": 27
           }
          ]
         }
        },
        {
         "name": "range",
         "dtype": "object",
         "stats": {
          "unique_count": 3,
          "nan_count": 0,
          "categories": [
           {
            "name": "Low",
            "count": 105
           },
           {
            "name": "Mid",
            "count": 48
           },
           {
            "name": "High",
            "count": 4
           }
          ]
         }
        },
        {
         "name": "symbol",
         "dtype": "object",
         "stats": {
          "unique_count": 1,
          "nan_count": 0,
          "categories": [
           {
            "name": "US",
            "count": 157
           }
          ]
         }
        },
        {
         "name": "price",
         "dtype": "float64",
         "stats": {
          "unique_count": 104,
          "nan_count": 0,
          "min": "51.0",
          "max": "839.0",
          "histogram": [
           {
            "bin_start": 51,
            "bin_end": 129.8,
            "count": 93
           },
           {
            "bin_start": 129.8,
            "bin_end": 208.6,
            "count": 31
           },
           {
            "bin_start": 208.6,
            "bin_end": 287.4,
            "count": 11
           },
           {
            "bin_start": 287.4,
            "bin_end": 366.2,
            "count": 13
           },
           {
            "bin_start": 366.2,
            "bin_end": 445,
            "count": 1
           },
           {
            "bin_start": 445,
            "bin_end": 523.8,
            "count": 2
           },
           {
            "bin_start": 523.8,
            "bin_end": 602.6,
            "count": 2
           },
           {
            "bin_start": 602.6,
            "bin_end": 681.4,
            "count": 3
           },
           {
            "bin_start": 681.4,
            "bin_end": 760.1999999999999,
            "count": 0
           },
           {
            "bin_start": 760.1999999999999,
            "bin_end": 839,
            "count": 1
           }
          ]
         }
        },
        {
         "name": "link",
         "dtype": "object",
         "stats": {
          "unique_count": 157,
          "nan_count": 0,
          "categories": [
           {
            "name": "https://www.amazon.com/-/es/v-Color-PC4-25600-m%C3%B3dulo-memoria-Upgrade/dp/B07YP5RQ8W/ref=sr_1_4?__mk_es_US=%C3%85M%C3%85%C5%BD%C3%95%C3%91&crid=2KF68CKIBMIXB&keywords=dd4+ram+memory&qid=1646941148&sprefix=%2Caps%2C135&sr=8-4",
            "count": 1
           },
           {
            "name": "https://www.amazon.com/-/es/Corsair-Vengeance-PC4-28800-1-35V-CMK16GX4M2D3600C18/dp/B07RM39V5F/ref=sr_1_6?__mk_es_US=%C3%85M%C3%85%C5%BD%C3%95%C3%91&crid=2KF68CKIBMIXB&keywords=dd4+ram+memory&qid=1646941148&sprefix=%2Caps%2C135&sr=8-6",
            "count": 1
           },
           {
            "name": "155 others",
            "count": 155
           }
          ]
         }
        },
        {
         "name": "origin",
         "dtype": "object",
         "stats": {
          "unique_count": 1,
          "nan_count": 0,
          "categories": [
           {
            "name": "/work/games_seeker/data/raw/amazon_memorias_ram_dd4.csv",
            "count": 157
           }
          ]
         }
        },
        {
         "name": "_deepnote_index_column",
         "dtype": "int64"
        }
       ],
       "rows": [
        {
         "title": "v-Color Prism RGB DDR4 16 GB (2 x 8 GB) 3200 MHz (PC4-25600) CL16 1.35 V módulo de memoria RAM Upgr…",
         "type": "RAM",
         "category": "Office",
         "range": "Low",
         "symbol": "US",
         "price": 70,
         "link": "https://www.amazon.com/-/es/v-Color-PC4-25600-m%C3%B3dulo-memoria-Upgrade/dp/B07YP5RQ8W/ref=sr_1_4?…",
         "origin": "/work/games_seeker/data/raw/amazon_memorias_ram_dd4.csv",
         "_deepnote_index_column": 3
        },
        {
         "title": "Corsair Vengeance LPX 16GB (2 x 8GB) DDR4 3600 MHz (PC4-28800) C18 1.35V - Memoria de escritorio - …",
         "type": "RAM",
         "category": "Office",
         "range": "Low",
         "symbol": "US",
         "price": 79,
         "link": "https://www.amazon.com/-/es/Corsair-Vengeance-PC4-28800-1-35V-CMK16GX4M2D3600C18/dp/B07RM39V5F/ref=…",
         "origin": "/work/games_seeker/data/raw/amazon_memorias_ram_dd4.csv",
         "_deepnote_index_column": 5
        },
        {
         "title": "Corsair Vengeance RGB Pro 32 GB (2 x 16 GB) DDR4 3600 (PC4-28800) C18 memoria optimizada AMD – negro",
         "type": "RAM",
         "category": "Office",
         "range": "Mid",
         "symbol": "US",
         "price": 162,
         "link": "https://www.amazon.com/-/es/Corsair-Vengeance-PC4-28800-memoria-optimizada/dp/B082DGZJ9C/ref=sr_1_8…",
         "origin": "/work/games_seeker/data/raw/amazon_memorias_ram_dd4.csv",
         "_deepnote_index_column": 7
        },
        {
         "title": "Corsair Vengeance RGB Pro 32GB (2x16GB) DDR4 3200 (PC4-25600) C16 - Memoria de sobremesa, color neg…",
         "type": "RAM",
         "category": "Office",
         "range": "Low",
         "symbol": "US",
         "price": 149,
         "link": "https://www.amazon.com/-/es/Corsair-Vengeance-32GB-2x16GB-PC4-25600/dp/B081XWLQKS/ref=sr_1_14?__mk_…",
         "origin": "/work/games_seeker/data/raw/amazon_memorias_ram_dd4.csv",
         "_deepnote_index_column": 13
        },
        {
         "title": "Corsair Vengeance RGB Pro 16GB (2x8GB) DDR4 3200MHz C16 LED. Memoria de computadora de escritorio. …",
         "type": "RAM",
         "category": "Office",
         "range": "Low",
         "symbol": "US",
         "price": 89,
         "link": "https://www.amazon.com/-/es/Corsair-Vengeance-3200MHz-computadora-escritorio/dp/B07D1XCKWW/ref=sr_1…",
         "origin": "/work/games_seeker/data/raw/amazon_memorias_ram_dd4.csv",
         "_deepnote_index_column": 15
        },
        {
         "title": "TEAMGROUP T-Force Delta RGB DDR4",
         "type": "RAM",
         "category": "Office",
         "range": "Low",
         "symbol": "US",
         "price": 124,
         "link": "https://www.amazon.com/-/es/gp/slredirect/picassoRedirect.html/ref=pa_sp_mtf_aps_sr_pg1_1?ie=UTF8&a…",
         "origin": "/work/games_seeker/data/raw/amazon_memorias_ram_dd4.csv",
         "_deepnote_index_column": 16
        },
        {
         "title": "G.Skill Trident Z NEO Series 32 GB (2 x 16 GB) 288 pines SDRAM PC4-28800 DDR4 3600 CL18-22-42 1.35V…",
         "type": "RAM",
         "category": "Office",
         "range": "Mid",
         "symbol": "US",
         "price": 159,
         "link": "https://www.amazon.com/-/es/G-Skill-Trident-PC4-28800-CL18-22-42-F4-3600C18D-32GTZN/dp/B07WTSMHSY/r…",
         "origin": "/work/games_seeker/data/raw/amazon_memorias_ram_dd4.csv",
         "_deepnote_index_column": 20
        },
        {
         "title": "Samsung Módulo de memoria RAM DDR4 de 32 GB, 2666 MHz, para ordenadores portátiles (260 pines, SODI…",
         "type": "RAM",
         "category": "Office",
         "range": "Low",
         "symbol": "US",
         "price": 138,
         "link": "https://www.amazon.com/-/es/Samsung-memoria-ordenadores-port%C3%A1tiles-M471A4G43MB1/dp/B07N124XDS/…",
         "origin": "/work/games_seeker/data/raw/amazon_memorias_ram_dd4.csv",
         "_deepnote_index_column": 23
        },
        {
         "title": "PNY 16GB DDR4 2666MHz Portátil RAM de memoria - (MN16GSD42666)",
         "type": "RAM",
         "category": "Office",
         "range": "Low",
         "symbol": "US",
         "price": 59,
         "link": "https://www.amazon.com/-/es/16GB-DDR4-2666MHz-Port%C3%A1til-memoria/dp/B07YNF3KY4/ref=sr_1_23?__mk_…",
         "origin": "/work/games_seeker/data/raw/amazon_memorias_ram_dd4.csv",
         "_deepnote_index_column": 24
        },
        {
         "title": "TEAMGROUP T-Force Zeus DDR4 32 GB (2 x 16 GB) 2666 MHz (PC4-21300) CL19 Módulo de memoria RAM - TTZ…",
         "type": "RAM",
         "category": "Office",
         "range": "Low",
         "symbol": "US",
         "price": 93,
         "link": "https://www.amazon.com/-/es/gp/slredirect/picassoRedirect.html/ref=pa_sp_mtf_aps_sr_pg2_1?ie=UTF8&a…",
         "origin": "/work/games_seeker/data/raw/amazon_memorias_ram_dd4.csv",
         "_deepnote_index_column": 29
        }
       ]
      },
      "text/plain": "                                                 title type category range  \\\n3    v-Color Prism RGB DDR4 16 GB (2 x 8 GB) 3200 M...  RAM   Office   Low   \n5    Corsair Vengeance LPX 16GB (2 x 8GB) DDR4 3600...  RAM   Office   Low   \n7    Corsair Vengeance RGB Pro 32 GB (2 x 16 GB) DD...  RAM   Office   Mid   \n13   Corsair Vengeance RGB Pro 32GB (2x16GB) DDR4 3...  RAM   Office   Low   \n15   Corsair Vengeance RGB Pro 16GB (2x8GB) DDR4 32...  RAM   Office   Low   \n..                                                 ...  ...      ...   ...   \n275  Nemix Ram - Memoria registrada de Nemix Ram (3...  RAM   Office   Mid   \n276  G.Skill Trident Z NEO Series 64GB (2 x 32GB) 2...  RAM    Gamer   Mid   \n277  TEAMGROUP T-Create Expert Overclocking 10L DDR...  RAM   Office   Low   \n279  Corsair Vengeance RGB Pro 16 GB (2 x 8 GB) DDR...  RAM   Office   Low   \n281  TEAMGROUP T-Force Xtreem ARGB 5066MHz CL20 16G...  RAM   Office   Mid   \n\n    symbol  price                                               link  \\\n3       US   70.0  https://www.amazon.com/-/es/v-Color-PC4-25600-...   \n5       US   79.0  https://www.amazon.com/-/es/Corsair-Vengeance-...   \n7       US  162.0  https://www.amazon.com/-/es/Corsair-Vengeance-...   \n13      US  149.0  https://www.amazon.com/-/es/Corsair-Vengeance-...   \n15      US   89.0  https://www.amazon.com/-/es/Corsair-Vengeance-...   \n..     ...    ...                                                ...   \n275     US  159.0  https://www.amazon.com/-/es/Nemix-Ram-registra...   \n276     US  309.0  https://www.amazon.com/-/es/G-Skill-Trident-PC...   \n277     US  105.0  https://www.amazon.com/-/es/gp/slredirect/pica...   \n279     US   95.0  https://www.amazon.com/-/es/Corsair-Vengeance-...   \n281     US  161.0  https://www.amazon.com/-/es/gp/slredirect/pica...   \n\n                                                origin  \n3    /work/games_seeker/data/raw/amazon_memorias_ra...  \n5    /work/games_seeker/data/raw/amazon_memorias_ra...  \n7    /work/games_seeker/data/raw/amazon_memorias_ra...  \n13   /work/games_seeker/data/raw/amazon_memorias_ra...  \n15   /work/games_seeker/data/raw/amazon_memorias_ra...  \n..                                                 ...  \n275  /work/games_seeker/data/raw/amazon_memorias_ra...  \n276  /work/games_seeker/data/raw/amazon_memorias_ra...  \n277  /work/games_seeker/data/raw/amazon_memorias_ra...  \n279  /work/games_seeker/data/raw/amazon_memorias_ra...  \n281  /work/games_seeker/data/raw/amazon_memorias_ra...  \n\n[157 rows x 8 columns]",
      "text/html": "<div>\n<style scoped>\n    .dataframe tbody tr th:only-of-type {\n        vertical-align: middle;\n    }\n\n    .dataframe tbody tr th {\n        vertical-align: top;\n    }\n\n    .dataframe thead th {\n        text-align: right;\n    }\n</style>\n<table border=\"1\" class=\"dataframe\">\n  <thead>\n    <tr style=\"text-align: right;\">\n      <th></th>\n      <th>title</th>\n      <th>type</th>\n      <th>category</th>\n      <th>range</th>\n      <th>symbol</th>\n      <th>price</th>\n      <th>link</th>\n      <th>origin</th>\n    </tr>\n  </thead>\n  <tbody>\n    <tr>\n      <th>3</th>\n      <td>v-Color Prism RGB DDR4 16 GB (2 x 8 GB) 3200 M...</td>\n      <td>RAM</td>\n      <td>Office</td>\n      <td>Low</td>\n      <td>US</td>\n      <td>70.0</td>\n      <td>https://www.amazon.com/-/es/v-Color-PC4-25600-...</td>\n      <td>/work/games_seeker/data/raw/amazon_memorias_ra...</td>\n    </tr>\n    <tr>\n      <th>5</th>\n      <td>Corsair Vengeance LPX 16GB (2 x 8GB) DDR4 3600...</td>\n      <td>RAM</td>\n      <td>Office</td>\n      <td>Low</td>\n      <td>US</td>\n      <td>79.0</td>\n      <td>https://www.amazon.com/-/es/Corsair-Vengeance-...</td>\n      <td>/work/games_seeker/data/raw/amazon_memorias_ra...</td>\n    </tr>\n    <tr>\n      <th>7</th>\n      <td>Corsair Vengeance RGB Pro 32 GB (2 x 16 GB) DD...</td>\n      <td>RAM</td>\n      <td>Office</td>\n      <td>Mid</td>\n      <td>US</td>\n      <td>162.0</td>\n      <td>https://www.amazon.com/-/es/Corsair-Vengeance-...</td>\n      <td>/work/games_seeker/data/raw/amazon_memorias_ra...</td>\n    </tr>\n    <tr>\n      <th>13</th>\n      <td>Corsair Vengeance RGB Pro 32GB (2x16GB) DDR4 3...</td>\n      <td>RAM</td>\n      <td>Office</td>\n      <td>Low</td>\n      <td>US</td>\n      <td>149.0</td>\n      <td>https://www.amazon.com/-/es/Corsair-Vengeance-...</td>\n      <td>/work/games_seeker/data/raw/amazon_memorias_ra...</td>\n    </tr>\n    <tr>\n      <th>15</th>\n      <td>Corsair Vengeance RGB Pro 16GB (2x8GB) DDR4 32...</td>\n      <td>RAM</td>\n      <td>Office</td>\n      <td>Low</td>\n      <td>US</td>\n      <td>89.0</td>\n      <td>https://www.amazon.com/-/es/Corsair-Vengeance-...</td>\n      <td>/work/games_seeker/data/raw/amazon_memorias_ra...</td>\n    </tr>\n    <tr>\n      <th>...</th>\n      <td>...</td>\n      <td>...</td>\n      <td>...</td>\n      <td>...</td>\n      <td>...</td>\n      <td>...</td>\n      <td>...</td>\n      <td>...</td>\n    </tr>\n    <tr>\n      <th>275</th>\n      <td>Nemix Ram - Memoria registrada de Nemix Ram (3...</td>\n      <td>RAM</td>\n      <td>Office</td>\n      <td>Mid</td>\n      <td>US</td>\n      <td>159.0</td>\n      <td>https://www.amazon.com/-/es/Nemix-Ram-registra...</td>\n      <td>/work/games_seeker/data/raw/amazon_memorias_ra...</td>\n    </tr>\n    <tr>\n      <th>276</th>\n      <td>G.Skill Trident Z NEO Series 64GB (2 x 32GB) 2...</td>\n      <td>RAM</td>\n      <td>Gamer</td>\n      <td>Mid</td>\n      <td>US</td>\n      <td>309.0</td>\n      <td>https://www.amazon.com/-/es/G-Skill-Trident-PC...</td>\n      <td>/work/games_seeker/data/raw/amazon_memorias_ra...</td>\n    </tr>\n    <tr>\n      <th>277</th>\n      <td>TEAMGROUP T-Create Expert Overclocking 10L DDR...</td>\n      <td>RAM</td>\n      <td>Office</td>\n      <td>Low</td>\n      <td>US</td>\n      <td>105.0</td>\n      <td>https://www.amazon.com/-/es/gp/slredirect/pica...</td>\n      <td>/work/games_seeker/data/raw/amazon_memorias_ra...</td>\n    </tr>\n    <tr>\n      <th>279</th>\n      <td>Corsair Vengeance RGB Pro 16 GB (2 x 8 GB) DDR...</td>\n      <td>RAM</td>\n      <td>Office</td>\n      <td>Low</td>\n      <td>US</td>\n      <td>95.0</td>\n      <td>https://www.amazon.com/-/es/Corsair-Vengeance-...</td>\n      <td>/work/games_seeker/data/raw/amazon_memorias_ra...</td>\n    </tr>\n    <tr>\n      <th>281</th>\n      <td>TEAMGROUP T-Force Xtreem ARGB 5066MHz CL20 16G...</td>\n      <td>RAM</td>\n      <td>Office</td>\n      <td>Mid</td>\n      <td>US</td>\n      <td>161.0</td>\n      <td>https://www.amazon.com/-/es/gp/slredirect/pica...</td>\n      <td>/work/games_seeker/data/raw/amazon_memorias_ra...</td>\n    </tr>\n  </tbody>\n</table>\n<p>157 rows × 8 columns</p>\n</div>"
     },
     "metadata": {}
    }
   ]
  },
  {
   "cell_type": "code",
   "metadata": {
    "cell_id": "e41750cb-b718-4b54-8698-b20392e6a815",
    "tags": [],
    "deepnote_to_be_reexecuted": false,
    "source_hash": "e0b7f02",
    "execution_start": 1647039323152,
    "execution_millis": 237,
    "deepnote_table_state": {
     "pageSize": 10,
     "pageIndex": 6,
     "filters": [],
     "sortBy": [
      {
       "id": "price",
       "type": "asc"
      }
     ]
    },
    "deepnote_table_loading": false,
    "deepnote_table_invalid": false,
    "deepnote_cell_type": "code",
    "deepnote_cell_height": 66
   },
   "source": "ram_df",
   "execution_count": null,
   "outputs": [
    {
     "output_type": "execute_result",
     "execution_count": 62,
     "data": {
      "application/vnd.deepnote.dataframe.v3+json": {
       "column_count": 8,
       "row_count": 157,
       "columns": [
        {
         "name": "title",
         "dtype": "object",
         "stats": {
          "unique_count": 150,
          "nan_count": 0,
          "categories": [
           {
            "name": "TEAMGROUP T-Force Delta RGB DDR4",
            "count": 8
           },
           {
            "name": "Timetec 16 GB Kit (2 x 8 GB) DDR3L / DDR3 1600 MHz (DDR3L-1600) PC3L-12800 / PC3-12800 No-ECC sin búfer 1.35V/1.5V CL11 2Rx8 Dual Rank 204 Pin SODIMM ordenador portátil ordenador portátil memoria RAM módulo actualización",
            "count": 1
           },
           {
            "name": "148 others",
            "count": 148
           }
          ]
         }
        },
        {
         "name": "symbol",
         "dtype": "object",
         "stats": {
          "unique_count": 1,
          "nan_count": 0,
          "categories": [
           {
            "name": "US",
            "count": 157
           }
          ]
         }
        },
        {
         "name": "price",
         "dtype": "float64",
         "stats": {
          "unique_count": 104,
          "nan_count": 0,
          "min": "51.0",
          "max": "839.0",
          "histogram": [
           {
            "bin_start": 51,
            "bin_end": 129.8,
            "count": 93
           },
           {
            "bin_start": 129.8,
            "bin_end": 208.6,
            "count": 31
           },
           {
            "bin_start": 208.6,
            "bin_end": 287.4,
            "count": 11
           },
           {
            "bin_start": 287.4,
            "bin_end": 366.2,
            "count": 13
           },
           {
            "bin_start": 366.2,
            "bin_end": 445,
            "count": 1
           },
           {
            "bin_start": 445,
            "bin_end": 523.8,
            "count": 2
           },
           {
            "bin_start": 523.8,
            "bin_end": 602.6,
            "count": 2
           },
           {
            "bin_start": 602.6,
            "bin_end": 681.4,
            "count": 3
           },
           {
            "bin_start": 681.4,
            "bin_end": 760.1999999999999,
            "count": 0
           },
           {
            "bin_start": 760.1999999999999,
            "bin_end": 839,
            "count": 1
           }
          ]
         }
        },
        {
         "name": "link",
         "dtype": "object",
         "stats": {
          "unique_count": 157,
          "nan_count": 0,
          "categories": [
           {
            "name": "https://www.amazon.com/-/es/gp/slredirect/picassoRedirect.html/ref=pa_sp_mtf_aps_sr_pg4_1?ie=UTF8&adId=A0026065M0IC7T55SDIV&url=%2FDDR3L-1600-PC3L-12800-PC3-12800-ordenador-actualizaci%25C3%25B3n%2Fdp%2FB0145WDNF2%2Fref%3Dsr_1_60_sspa%3F__mk_es_US%3D%25C3%2585M%25C3%2585%25C5%25BD%25C3%2595%25C3%2591%26crid%3D2KF68CKIBMIXB%26keywords%3Ddd4%2Bram%2Bmemory%26qid%3D1646941222%26sprefix%3D%252Caps%252C135%26sr%3D8-60-spons%26psc%3D1%26smid%3DA23AD5LOJUVSEP&qualifier=1646941222&id=899507712192911&widgetName=sp_mtf",
            "count": 1
           },
           {
            "name": "https://www.amazon.com/-/es/gp/slredirect/picassoRedirect.html/ref=pa_sp_mtf_aps_sr_pg6_1?ie=UTF8&adId=A09357331J2ADQ9BA6EVX&url=%2FTEAMGROUP-Elite-DDR3L-actualizaci%25C3%25B3n-TED3L16G1600C11DC-S01%2Fdp%2FB0191WAGE2%2Fref%3Dsr_1_91_sspa%3F__mk_es_US%3D%25C3%2585M%25C3%2585%25C5%25BD%25C3%2595%25C3%2591%26crid%3D2KF68CKIBMIXB%26keywords%3Ddd4%2Bram%2Bmemory%26qid%3D1646941288%26sprefix%3D%252Caps%252C135%26sr%3D8-91-spons%26psc%3D1&qualifier=1646941288&id=3258290692308895&widgetName=sp_mtf",
            "count": 1
           },
           {
            "name": "155 others",
            "count": 155
           }
          ]
         }
        },
        {
         "name": "origin",
         "dtype": "object",
         "stats": {
          "unique_count": 1,
          "nan_count": 0,
          "categories": [
           {
            "name": "/work/games_seeker/data/raw/amazon_memorias_ram_dd4.csv",
            "count": 157
           }
          ]
         }
        },
        {
         "name": "type",
         "dtype": "object",
         "stats": {
          "unique_count": 1,
          "nan_count": 0,
          "categories": [
           {
            "name": "RAM",
            "count": 157
           }
          ]
         }
        },
        {
         "name": "category",
         "dtype": "object",
         "stats": {
          "unique_count": 2,
          "nan_count": 0,
          "categories": [
           {
            "name": "Office",
            "count": 130
           },
           {
            "name": "Gamer",
            "count": 27
           }
          ]
         }
        },
        {
         "name": "range",
         "dtype": "object",
         "stats": {
          "unique_count": 3,
          "nan_count": 0,
          "categories": [
           {
            "name": "Low",
            "count": 105
           },
           {
            "name": "Mid",
            "count": 48
           },
           {
            "name": "High",
            "count": 4
           }
          ]
         }
        },
        {
         "name": "_deepnote_index_column",
         "dtype": "int64"
        }
       ],
       "rows": [
        {
         "title": "Corsair Vengeance LPX 16GB (2x8GB) DDR4 3600 (PC4-28800) C16 1.35V AMD e Intel Optimized Desktop Me…",
         "symbol": "US",
         "price": 92,
         "link": "https://www.amazon.com/-/es/Corsair-Vengeance-PC4-28800-Optimized-Desktop/dp/B08PW3RDPN/ref=sr_1_16…",
         "origin": "/work/games_seeker/data/raw/amazon_memorias_ram_dd4.csv",
         "type": "RAM",
         "category": "Office",
         "range": "Low",
         "_deepnote_index_column": 142
        },
        {
         "title": "TEAMGROUP T-Force Zeus DDR4 32 GB (2 x 16 GB) 2666 MHz (PC4-21300) CL19 Módulo de memoria RAM - TTZ…",
         "symbol": "US",
         "price": 93,
         "link": "https://www.amazon.com/-/es/gp/slredirect/picassoRedirect.html/ref=pa_sp_mtf_aps_sr_pg2_1?ie=UTF8&a…",
         "origin": "/work/games_seeker/data/raw/amazon_memorias_ram_dd4.csv",
         "type": "RAM",
         "category": "Office",
         "range": "Low",
         "_deepnote_index_column": 29
        },
        {
         "title": "adamanta 16 GB (1 x 16GB) Laptop Memory Upgrade for Lenovo Flex 4, IdeaPad, ThinkPad, Yoga, DDR4 21…",
         "symbol": "US",
         "price": 94,
         "link": "https://www.amazon.com/-/es/adamanta-ThinkPad-DDR4-2133-MHz-17000-SODIMM-2RX8-CL15/dp/B074SD8ZW3/re…",
         "origin": "/work/games_seeker/data/raw/amazon_memorias_ram_dd4.csv",
         "type": "RAM",
         "category": "Office",
         "range": "Low",
         "_deepnote_index_column": 231
        },
        {
         "title": "Corsair Vengeance RGB Pro 16 GB (2 x 8 GB) DDR4 3600 (PC4-28800) C18 AMD - Memoria optimizada - Neg…",
         "symbol": "US",
         "price": 95,
         "link": "https://www.amazon.com/-/es/Corsair-Vengeance-DDR4-3600-PC4-28800/dp/B07TC4TPCN/ref=sr_1_307?__mk_e…",
         "origin": "/work/games_seeker/data/raw/amazon_memorias_ram_dd4.csv",
         "type": "RAM",
         "category": "Office",
         "range": "Low",
         "_deepnote_index_column": 279
        },
        {
         "title": "adamanta 16 GB (1 x 16GB) Laptop Memory Upgrade for Dell Alienware, Inspiron, Precision & XPS DDR4 …",
         "symbol": "US",
         "price": 98,
         "link": "https://www.amazon.com/-/es/Alienware-Precision-DDR4-2400-MHz-19200-SODIMM-2RX8-CL17/dp/B074Q588W3/…",
         "origin": "/work/games_seeker/data/raw/amazon_memorias_ram_dd4.csv",
         "type": "RAM",
         "category": "Office",
         "range": "Low",
         "_deepnote_index_column": 181
        },
        {
         "title": "NEMIX RAM Kit de 32 GB (2 x 16 GB) DDR4-3200 PC4-25600 no ECC memoria de escritorio sin búfer",
         "symbol": "US",
         "price": 99,
         "link": "https://www.amazon.com/-/es/NEMIX-DDR4-3200-PC4-25600-memoria-escritorio/dp/B08KTPD6WC/ref=sr_1_194…",
         "origin": "/work/games_seeker/data/raw/amazon_memorias_ram_dd4.csv",
         "type": "RAM",
         "category": "Office",
         "range": "Low",
         "_deepnote_index_column": 172
        },
        {
         "title": "TEAMGROUP T-Force RGB módulo de memoria Ram",
         "symbol": "US",
         "price": 103,
         "link": "https://www.amazon.com/-/es/TEAMGROUP-T-Force-RGB-m%C3%B3dulo-memoria/dp/B082HC4PF9/ref=sr_1_181?__…",
         "origin": "/work/games_seeker/data/raw/amazon_memorias_ram_dd4.csv",
         "type": "RAM",
         "category": "Office",
         "range": "Low",
         "_deepnote_index_column": 160
        },
        {
         "title": "TEAMGROUP T-Create Expert Overclocking 10L DDR4 16GB Kit (2 x 8GB) 3200MHz (PC4 25600) CL14 Módulo …",
         "symbol": "US",
         "price": 105,
         "link": "https://www.amazon.com/-/es/gp/slredirect/picassoRedirect.html/ref=pa_sp_atf_next_aps_sr_pg20_1?ie=…",
         "origin": "/work/games_seeker/data/raw/amazon_memorias_ram_dd4.csv",
         "type": "RAM",
         "category": "Office",
         "range": "Low",
         "_deepnote_index_column": 277
        },
        {
         "title": "TEAMGROUP T-Force Xtreem - Kit de memoria RAM de 16 GB (2 x 8 GB) 4800 MHz (PC4-38400) CL20 DDR4 pa…",
         "symbol": "US",
         "price": 107,
         "link": "https://www.amazon.com/-/es/gp/slredirect/picassoRedirect.html/ref=pa_sp_atf_next_aps_sr_pg17_1?ie=…",
         "origin": "/work/games_seeker/data/raw/amazon_memorias_ram_dd4.csv",
         "type": "RAM",
         "category": "Office",
         "range": "Low",
         "_deepnote_index_column": 225
        },
        {
         "title": "NVTEK 32 GB (2 x 16 GB) DDR4-2666 PC4-21300 SODIMM - Memoria RAM actualizada",
         "symbol": "US",
         "price": 108,
         "link": "https://www.amazon.com/-/es/NVTEK-DDR4-2666-PC4-21300-SODIMM-actualizada/dp/B092WTRWJ1/ref=sr_1_269…",
         "origin": "/work/games_seeker/data/raw/amazon_memorias_ram_dd4.csv",
         "type": "RAM",
         "category": "Office",
         "range": "Low",
         "_deepnote_index_column": 237
        }
       ]
      },
      "text/plain": "                                                 title symbol  price  \\\n3    v-Color Prism RGB DDR4 16 GB (2 x 8 GB) 3200 M...     US   70.0   \n5    Corsair Vengeance LPX 16GB (2 x 8GB) DDR4 3600...     US   79.0   \n7    Corsair Vengeance RGB Pro 32 GB (2 x 16 GB) DD...     US  162.0   \n13   Corsair Vengeance RGB Pro 32GB (2x16GB) DDR4 3...     US  149.0   \n15   Corsair Vengeance RGB Pro 16GB (2x8GB) DDR4 32...     US   89.0   \n..                                                 ...    ...    ...   \n275  Nemix Ram - Memoria registrada de Nemix Ram (3...     US  159.0   \n276  G.Skill Trident Z NEO Series 64GB (2 x 32GB) 2...     US  309.0   \n277  TEAMGROUP T-Create Expert Overclocking 10L DDR...     US  105.0   \n279  Corsair Vengeance RGB Pro 16 GB (2 x 8 GB) DDR...     US   95.0   \n281  TEAMGROUP T-Force Xtreem ARGB 5066MHz CL20 16G...     US  161.0   \n\n                                                  link  \\\n3    https://www.amazon.com/-/es/v-Color-PC4-25600-...   \n5    https://www.amazon.com/-/es/Corsair-Vengeance-...   \n7    https://www.amazon.com/-/es/Corsair-Vengeance-...   \n13   https://www.amazon.com/-/es/Corsair-Vengeance-...   \n15   https://www.amazon.com/-/es/Corsair-Vengeance-...   \n..                                                 ...   \n275  https://www.amazon.com/-/es/Nemix-Ram-registra...   \n276  https://www.amazon.com/-/es/G-Skill-Trident-PC...   \n277  https://www.amazon.com/-/es/gp/slredirect/pica...   \n279  https://www.amazon.com/-/es/Corsair-Vengeance-...   \n281  https://www.amazon.com/-/es/gp/slredirect/pica...   \n\n                                                origin type category range  \n3    /work/games_seeker/data/raw/amazon_memorias_ra...  RAM   Office   Low  \n5    /work/games_seeker/data/raw/amazon_memorias_ra...  RAM   Office   Low  \n7    /work/games_seeker/data/raw/amazon_memorias_ra...  RAM   Office   Mid  \n13   /work/games_seeker/data/raw/amazon_memorias_ra...  RAM   Office   Low  \n15   /work/games_seeker/data/raw/amazon_memorias_ra...  RAM   Office   Low  \n..                                                 ...  ...      ...   ...  \n275  /work/games_seeker/data/raw/amazon_memorias_ra...  RAM   Office   Mid  \n276  /work/games_seeker/data/raw/amazon_memorias_ra...  RAM    Gamer   Mid  \n277  /work/games_seeker/data/raw/amazon_memorias_ra...  RAM   Office   Low  \n279  /work/games_seeker/data/raw/amazon_memorias_ra...  RAM   Office   Low  \n281  /work/games_seeker/data/raw/amazon_memorias_ra...  RAM   Office   Mid  \n\n[157 rows x 8 columns]",
      "text/html": "<div>\n<style scoped>\n    .dataframe tbody tr th:only-of-type {\n        vertical-align: middle;\n    }\n\n    .dataframe tbody tr th {\n        vertical-align: top;\n    }\n\n    .dataframe thead th {\n        text-align: right;\n    }\n</style>\n<table border=\"1\" class=\"dataframe\">\n  <thead>\n    <tr style=\"text-align: right;\">\n      <th></th>\n      <th>title</th>\n      <th>symbol</th>\n      <th>price</th>\n      <th>link</th>\n      <th>origin</th>\n      <th>type</th>\n      <th>category</th>\n      <th>range</th>\n    </tr>\n  </thead>\n  <tbody>\n    <tr>\n      <th>3</th>\n      <td>v-Color Prism RGB DDR4 16 GB (2 x 8 GB) 3200 M...</td>\n      <td>US</td>\n      <td>70.0</td>\n      <td>https://www.amazon.com/-/es/v-Color-PC4-25600-...</td>\n      <td>/work/games_seeker/data/raw/amazon_memorias_ra...</td>\n      <td>RAM</td>\n      <td>Office</td>\n      <td>Low</td>\n    </tr>\n    <tr>\n      <th>5</th>\n      <td>Corsair Vengeance LPX 16GB (2 x 8GB) DDR4 3600...</td>\n      <td>US</td>\n      <td>79.0</td>\n      <td>https://www.amazon.com/-/es/Corsair-Vengeance-...</td>\n      <td>/work/games_seeker/data/raw/amazon_memorias_ra...</td>\n      <td>RAM</td>\n      <td>Office</td>\n      <td>Low</td>\n    </tr>\n    <tr>\n      <th>7</th>\n      <td>Corsair Vengeance RGB Pro 32 GB (2 x 16 GB) DD...</td>\n      <td>US</td>\n      <td>162.0</td>\n      <td>https://www.amazon.com/-/es/Corsair-Vengeance-...</td>\n      <td>/work/games_seeker/data/raw/amazon_memorias_ra...</td>\n      <td>RAM</td>\n      <td>Office</td>\n      <td>Mid</td>\n    </tr>\n    <tr>\n      <th>13</th>\n      <td>Corsair Vengeance RGB Pro 32GB (2x16GB) DDR4 3...</td>\n      <td>US</td>\n      <td>149.0</td>\n      <td>https://www.amazon.com/-/es/Corsair-Vengeance-...</td>\n      <td>/work/games_seeker/data/raw/amazon_memorias_ra...</td>\n      <td>RAM</td>\n      <td>Office</td>\n      <td>Low</td>\n    </tr>\n    <tr>\n      <th>15</th>\n      <td>Corsair Vengeance RGB Pro 16GB (2x8GB) DDR4 32...</td>\n      <td>US</td>\n      <td>89.0</td>\n      <td>https://www.amazon.com/-/es/Corsair-Vengeance-...</td>\n      <td>/work/games_seeker/data/raw/amazon_memorias_ra...</td>\n      <td>RAM</td>\n      <td>Office</td>\n      <td>Low</td>\n    </tr>\n    <tr>\n      <th>...</th>\n      <td>...</td>\n      <td>...</td>\n      <td>...</td>\n      <td>...</td>\n      <td>...</td>\n      <td>...</td>\n      <td>...</td>\n      <td>...</td>\n    </tr>\n    <tr>\n      <th>275</th>\n      <td>Nemix Ram - Memoria registrada de Nemix Ram (3...</td>\n      <td>US</td>\n      <td>159.0</td>\n      <td>https://www.amazon.com/-/es/Nemix-Ram-registra...</td>\n      <td>/work/games_seeker/data/raw/amazon_memorias_ra...</td>\n      <td>RAM</td>\n      <td>Office</td>\n      <td>Mid</td>\n    </tr>\n    <tr>\n      <th>276</th>\n      <td>G.Skill Trident Z NEO Series 64GB (2 x 32GB) 2...</td>\n      <td>US</td>\n      <td>309.0</td>\n      <td>https://www.amazon.com/-/es/G-Skill-Trident-PC...</td>\n      <td>/work/games_seeker/data/raw/amazon_memorias_ra...</td>\n      <td>RAM</td>\n      <td>Gamer</td>\n      <td>Mid</td>\n    </tr>\n    <tr>\n      <th>277</th>\n      <td>TEAMGROUP T-Create Expert Overclocking 10L DDR...</td>\n      <td>US</td>\n      <td>105.0</td>\n      <td>https://www.amazon.com/-/es/gp/slredirect/pica...</td>\n      <td>/work/games_seeker/data/raw/amazon_memorias_ra...</td>\n      <td>RAM</td>\n      <td>Office</td>\n      <td>Low</td>\n    </tr>\n    <tr>\n      <th>279</th>\n      <td>Corsair Vengeance RGB Pro 16 GB (2 x 8 GB) DDR...</td>\n      <td>US</td>\n      <td>95.0</td>\n      <td>https://www.amazon.com/-/es/Corsair-Vengeance-...</td>\n      <td>/work/games_seeker/data/raw/amazon_memorias_ra...</td>\n      <td>RAM</td>\n      <td>Office</td>\n      <td>Low</td>\n    </tr>\n    <tr>\n      <th>281</th>\n      <td>TEAMGROUP T-Force Xtreem ARGB 5066MHz CL20 16G...</td>\n      <td>US</td>\n      <td>161.0</td>\n      <td>https://www.amazon.com/-/es/gp/slredirect/pica...</td>\n      <td>/work/games_seeker/data/raw/amazon_memorias_ra...</td>\n      <td>RAM</td>\n      <td>Office</td>\n      <td>Mid</td>\n    </tr>\n  </tbody>\n</table>\n<p>157 rows × 8 columns</p>\n</div>"
     },
     "metadata": {}
    }
   ]
  },
  {
   "cell_type": "markdown",
   "source": "## Procesador",
   "metadata": {
    "cell_id": "9357a8f1-b559-4576-9447-924d9c380c67",
    "tags": [],
    "is_collapsed": false,
    "deepnote_cell_type": "text-cell-h2",
    "deepnote_cell_height": 70
   }
  },
  {
   "cell_type": "code",
   "metadata": {
    "cell_id": "a85d4251-3565-45dc-87a4-21721284967e",
    "tags": [],
    "deepnote_to_be_reexecuted": false,
    "source_hash": "81fbc38c",
    "execution_start": 1647039323281,
    "execution_millis": 0,
    "deepnote_cell_type": "code",
    "deepnote_cell_height": 66
   },
   "source": "cpu_df = dfs[\"amazon_procesadores.csv\"]",
   "execution_count": null,
   "outputs": []
  },
  {
   "cell_type": "code",
   "metadata": {
    "cell_id": "2f902ec1-52ee-424f-8f90-862e27b359cb",
    "tags": [],
    "deepnote_to_be_reexecuted": false,
    "source_hash": "d3749cc1",
    "execution_start": 1647040339425,
    "execution_millis": 15,
    "deepnote_cell_type": "code",
    "deepnote_cell_height": 66
   },
   "source": "cpu_df = cpu_df[cpu_df[\"price\"] > 100]",
   "execution_count": null,
   "outputs": []
  },
  {
   "cell_type": "code",
   "metadata": {
    "cell_id": "cb606ea3-d1ff-4d36-b054-b8a3b5058268",
    "tags": [],
    "deepnote_to_be_reexecuted": false,
    "source_hash": "f8b58ca7",
    "execution_start": 1647040758363,
    "execution_millis": 3,
    "deepnote_cell_type": "code",
    "deepnote_cell_height": 66
   },
   "source": "cpu_df.loc[:, \"type\"] = \"CPU\"",
   "execution_count": null,
   "outputs": []
  },
  {
   "cell_type": "code",
   "metadata": {
    "cell_id": "6786ec64-cd53-4e0d-9a53-592264726e05",
    "tags": [],
    "deepnote_to_be_reexecuted": false,
    "source_hash": "a69667c8",
    "execution_start": 1647040751915,
    "execution_millis": 11,
    "deepnote_cell_type": "code",
    "deepnote_cell_height": 102
   },
   "source": "cpu_df.loc[:, \"category\"] = \"\"\ncpu_df.loc[cpu_df[\"price\"] <= 150, \"category\"] = \"Office\"\ncpu_df.loc[cpu_df[\"price\"] > 150, \"category\"] = \"Gamer\"",
   "execution_count": null,
   "outputs": []
  },
  {
   "cell_type": "code",
   "metadata": {
    "cell_id": "41158ad1-a7e5-4153-9509-856499f09c47",
    "tags": [],
    "deepnote_to_be_reexecuted": false,
    "source_hash": "5c1ad9a5",
    "execution_start": 1647040755405,
    "execution_millis": 7,
    "deepnote_cell_type": "code",
    "deepnote_cell_height": 120
   },
   "source": "cpu_df.loc[:, \"range\"] = \"\"\ncpu_df.loc[cpu_df[\"price\"] <= 150, \"range\"] = \"Low\"\ncpu_df.loc[(cpu_df[\"price\"] > 150) & (cpu_df[\"price\"] <= 300), \"range\"] = \"Mid\"\ncpu_df.loc[cpu_df[\"price\"] > 300, \"range\"] = \"High\"",
   "execution_count": null,
   "outputs": []
  },
  {
   "cell_type": "code",
   "metadata": {
    "cell_id": "74ab73bd-d290-4733-bcb3-8790bbae6de4",
    "tags": [],
    "deepnote_to_be_reexecuted": false,
    "source_hash": "788e0178",
    "execution_start": 1647040807999,
    "execution_millis": 4,
    "deepnote_cell_type": "code",
    "deepnote_cell_height": 66
   },
   "source": "dfs[\"amazon_procesadores.csv\"] = cpu_df[ORDERED_COLUMNS]",
   "execution_count": null,
   "outputs": []
  },
  {
   "cell_type": "code",
   "metadata": {
    "cell_id": "58f4d1f9-7fde-41cd-ae1c-76957780b6db",
    "tags": [],
    "deepnote_to_be_reexecuted": false,
    "source_hash": "3dbff8cf",
    "execution_start": 1647040809262,
    "execution_millis": 103,
    "deepnote_cell_type": "code",
    "deepnote_cell_height": 66
   },
   "source": "dfs[\"amazon_procesadores.csv\"] ",
   "execution_count": null,
   "outputs": [
    {
     "output_type": "execute_result",
     "execution_count": 79,
     "data": {
      "application/vnd.deepnote.dataframe.v3+json": {
       "column_count": 8,
       "row_count": 68,
       "columns": [
        {
         "name": "title",
         "dtype": "object",
         "stats": {
          "unique_count": 67,
          "nan_count": 0,
          "categories": [
           {
            "name": "Procesador de escritorio MSI MEG Intel Core i7-10700KF LGA1200 de 8 núcleos de hasta 5.1 GHz desbloqueado sin gráficos de procesador",
            "count": 2
           },
           {
            "name": "AMD Ryzen 5 5600G Procesador de escritorio desbloqueado de 6 núcleos de 12 hilos con gráficos Radeon",
            "count": 1
           },
           {
            "name": "65 others",
            "count": 65
           }
          ]
         }
        },
        {
         "name": "type",
         "dtype": "object",
         "stats": {
          "unique_count": 1,
          "nan_count": 0,
          "categories": [
           {
            "name": "CPU",
            "count": 68
           }
          ]
         }
        },
        {
         "name": "category",
         "dtype": "object",
         "stats": {
          "unique_count": 2,
          "nan_count": 0,
          "categories": [
           {
            "name": "Gamer",
            "count": 51
           },
           {
            "name": "Office",
            "count": 17
           }
          ]
         }
        },
        {
         "name": "range",
         "dtype": "object",
         "stats": {
          "unique_count": 3,
          "nan_count": 0,
          "categories": [
           {
            "name": "High",
            "count": 29
           },
           {
            "name": "Mid",
            "count": 22
           },
           {
            "name": "Low",
            "count": 17
           }
          ]
         }
        },
        {
         "name": "symbol",
         "dtype": "object",
         "stats": {
          "unique_count": 1,
          "nan_count": 0,
          "categories": [
           {
            "name": "US",
            "count": 68
           }
          ]
         }
        },
        {
         "name": "price",
         "dtype": "float64",
         "stats": {
          "unique_count": 61,
          "nan_count": 0,
          "min": "101.0",
          "max": "1998.0",
          "histogram": [
           {
            "bin_start": 101,
            "bin_end": 290.7,
            "count": 37
           },
           {
            "bin_start": 290.7,
            "bin_end": 480.4,
            "count": 24
           },
           {
            "bin_start": 480.4,
            "bin_end": 670.0999999999999,
            "count": 5
           },
           {
            "bin_start": 670.0999999999999,
            "bin_end": 859.8,
            "count": 0
           },
           {
            "bin_start": 859.8,
            "bin_end": 1049.5,
            "count": 1
           },
           {
            "bin_start": 1049.5,
            "bin_end": 1239.1999999999998,
            "count": 0
           },
           {
            "bin_start": 1239.1999999999998,
            "bin_end": 1428.8999999999999,
            "count": 0
           },
           {
            "bin_start": 1428.8999999999999,
            "bin_end": 1618.6,
            "count": 0
           },
           {
            "bin_start": 1618.6,
            "bin_end": 1808.3,
            "count": 0
           },
           {
            "bin_start": 1808.3,
            "bin_end": 1998,
            "count": 1
           }
          ]
         }
        },
        {
         "name": "link",
         "dtype": "object",
         "stats": {
          "unique_count": 68,
          "nan_count": 0,
          "categories": [
           {
            "name": "https://www.amazon.com/-/es/AMD-Ryzen-5600G-Procesador-desbloqueado/dp/B092L9GF5N/ref=sr_1_1?__mk_es_US=%C3%85M%C3%85%C5%BD%C3%95%C3%91&crid=3CZ857MXF7WOH&keywords=processors&qid=1646941816&sprefix=%2Caps%2C114&sr=8-1",
            "count": 1
           },
           {
            "name": "https://www.amazon.com/-/es/AMD-Ryzen-5900X-Procesador-desbloqueado/dp/B08164VTWH/ref=sr_1_2?__mk_es_US=%C3%85M%C3%85%C5%BD%C3%95%C3%91&crid=3CZ857MXF7WOH&keywords=processors&qid=1646941816&sprefix=%2Caps%2C114&sr=8-2",
            "count": 1
           },
           {
            "name": "66 others",
            "count": 66
           }
          ]
         }
        },
        {
         "name": "origin",
         "dtype": "object",
         "stats": {
          "unique_count": 1,
          "nan_count": 0,
          "categories": [
           {
            "name": "/work/games_seeker/data/raw/amazon_procesadores.csv",
            "count": 68
           }
          ]
         }
        },
        {
         "name": "_deepnote_index_column",
         "dtype": "int64"
        }
       ],
       "rows": [
        {
         "title": "AMD Ryzen 5 5600G Procesador de escritorio desbloqueado de 6 núcleos de 12 hilos con gráficos Radeon",
         "type": "CPU",
         "category": "Gamer",
         "range": "Mid",
         "symbol": "US",
         "price": 216,
         "link": "https://www.amazon.com/-/es/AMD-Ryzen-5600G-Procesador-desbloqueado/dp/B092L9GF5N/ref=sr_1_1?__mk_e…",
         "origin": "/work/games_seeker/data/raw/amazon_procesadores.csv",
         "_deepnote_index_column": 0
        },
        {
         "title": "AMD Ryzen 9 5900X - Procesador de escritorio desbloqueado de 12 núcleos, 24 hilos",
         "type": "CPU",
         "category": "Gamer",
         "range": "High",
         "symbol": "US",
         "price": 449,
         "link": "https://www.amazon.com/-/es/AMD-Ryzen-5900X-Procesador-desbloqueado/dp/B08164VTWH/ref=sr_1_2?__mk_e…",
         "origin": "/work/games_seeker/data/raw/amazon_procesadores.csv",
         "_deepnote_index_column": 1
        },
        {
         "title": "AMD Ryzen 5 5600X 6 núcleos y 12 hilos desbloqueados procesador de escritorio con Wraith Stealth Co…",
         "type": "CPU",
         "category": "Gamer",
         "range": "Mid",
         "symbol": "US",
         "price": 228,
         "link": "https://www.amazon.com/-/es/AMD-Ryzen-5600X-desbloqueados-procesador/dp/B08166SLDF/ref=sr_1_3?__mk_…",
         "origin": "/work/games_seeker/data/raw/amazon_procesadores.csv",
         "_deepnote_index_column": 2
        },
        {
         "title": "AMD Ryzen 9 5950X - Procesador de escritorio desbloqueado de 32 hilos de 16 núcleos",
         "type": "CPU",
         "category": "Gamer",
         "range": "High",
         "symbol": "US",
         "price": 598,
         "link": "https://www.amazon.com/-/es/AMD-Ryzen-5950X-Procesador-desbloqueado/dp/B0815Y8J9N/ref=sr_1_4?__mk_e…",
         "origin": "/work/games_seeker/data/raw/amazon_procesadores.csv",
         "_deepnote_index_column": 3
        },
        {
         "title": "Procesador Intel Core i5-10400 de 6 núcleos de hasta 4,3 GHz LGA1200 (chipset Intel serie 400) 65 W…",
         "type": "CPU",
         "category": "Office",
         "range": "Low",
         "symbol": "US",
         "price": 148,
         "link": "https://www.amazon.com/-/es/Procesador-i5-10400-n%C3%BAcleos-LGA1200-chipset/dp/B086MN38Q2/ref=sr_1…",
         "origin": "/work/games_seeker/data/raw/amazon_procesadores.csv",
         "_deepnote_index_column": 4
        },
        {
         "title": "AMD Ryzen 7 5800X - Procesador de escritorio desbloqueado de 8 núcleos, 16 hilos",
         "type": "CPU",
         "category": "Gamer",
         "range": "High",
         "symbol": "US",
         "price": 349,
         "link": "https://www.amazon.com/-/es/AMD-Ryzen-5800X-Procesador-desbloqueado/dp/B0815XFSGK/ref=sr_1_6?__mk_e…",
         "origin": "/work/games_seeker/data/raw/amazon_procesadores.csv",
         "_deepnote_index_column": 5
        },
        {
         "title": "Intel Core i7-12700KF Procesador de escritorio 12 (8P+4E) núcleos de hasta 5.0 GHz desbloqueado LGA…",
         "type": "CPU",
         "category": "Gamer",
         "range": "High",
         "symbol": "US",
         "price": 377,
         "link": "https://www.amazon.com/-/es/i7-12700KF-Procesador-escritorio-n%C3%BAcleos-desbloqueado/dp/B09FXKHN7…",
         "origin": "/work/games_seeker/data/raw/amazon_procesadores.csv",
         "_deepnote_index_column": 6
        },
        {
         "title": "Procesador Intel Core i7-11700K para equipos de escritorio + combo de placa madre GIGABYTE",
         "type": "CPU",
         "category": "Gamer",
         "range": "High",
         "symbol": "US",
         "price": 334,
         "link": "https://www.amazon.com/-/es/Procesador-i7-11700K-equipos-escritorio-GIGABYTE/dp/B08X6ND3WP/ref=sr_1…",
         "origin": "/work/games_seeker/data/raw/amazon_procesadores.csv",
         "_deepnote_index_column": 7
        },
        {
         "title": "Intel Core i9-11900K Procesador de escritorio de 8 núcleos de hasta 5.3 GHz desbloqueado LGA1200 (I…",
         "type": "CPU",
         "category": "Gamer",
         "range": "High",
         "symbol": "US",
         "price": 399,
         "link": "https://www.amazon.com/-/es/i9-11900K-Procesador-escritorio-n%C3%BAcleos-desbloqueado/dp/B08X6PPTTH…",
         "origin": "/work/games_seeker/data/raw/amazon_procesadores.csv",
         "_deepnote_index_column": 9
        },
        {
         "title": "Procesador de escritorio MSI MEG Intel Core i7-10700KF LGA1200 de 8 núcleos de hasta 5.1 GHz desblo…",
         "type": "CPU",
         "category": "Gamer",
         "range": "High",
         "symbol": "US",
         "price": 309,
         "link": "https://www.amazon.com/-/es/Procesador-escritorio-i7-10700KF-desbloqueado-procesador/dp/B086MMS6FV/…",
         "origin": "/work/games_seeker/data/raw/amazon_procesadores.csv",
         "_deepnote_index_column": 10
        }
       ]
      },
      "text/plain": "                                                title type category range  \\\n0   AMD Ryzen 5 5600G Procesador de escritorio des...  CPU    Gamer   Mid   \n1   AMD Ryzen 9 5900X - Procesador de escritorio d...  CPU    Gamer  High   \n2   AMD Ryzen 5 5600X 6 núcleos y 12 hilos desbloq...  CPU    Gamer   Mid   \n3   AMD Ryzen 9 5950X - Procesador de escritorio d...  CPU    Gamer  High   \n4   Procesador Intel Core i5-10400 de 6 núcleos de...  CPU   Office   Low   \n..                                                ...  ...      ...   ...   \n88  Procesador Intel Pentium Gold G5420 Dual Core ...  CPU   Office   Low   \n89  Core i9 Octa-core i9-9900K 3.6GHz procesador d...  CPU    Gamer  High   \n90  Intel Core i7-2760QM SR02W PGA 988B G2 Procesa...  CPU   Office   Low   \n92  Intel Core i9-10900F Comet Lake 2.8GHz 20MB Sm...  CPU    Gamer  High   \n93  AMD FX-8350 4.0 GHz (4.2 GHz Turbo) 8-Core Soc...  CPU    Gamer   Mid   \n\n   symbol  price                                               link  \\\n0      US  216.0  https://www.amazon.com/-/es/AMD-Ryzen-5600G-Pr...   \n1      US  449.0  https://www.amazon.com/-/es/AMD-Ryzen-5900X-Pr...   \n2      US  228.0  https://www.amazon.com/-/es/AMD-Ryzen-5600X-de...   \n3      US  598.0  https://www.amazon.com/-/es/AMD-Ryzen-5950X-Pr...   \n4      US  148.0  https://www.amazon.com/-/es/Procesador-i5-1040...   \n..    ...    ...                                                ...   \n88     US  137.0  https://www.amazon.com/-/es/Procesador-Intel-P...   \n89     US  574.0  https://www.amazon.com/-/es/Octa-core-i9-9900K...   \n90     US  138.0  https://www.amazon.com/-/es/Intel-i7-2760QM-SR...   \n92     US  435.0  https://www.amazon.com/-/es/Intel-i9-10900F-2-...   \n93     US  242.0  https://www.amazon.com/-/es/FX-8350-8-Core-Soc...   \n\n                                               origin  \n0   /work/games_seeker/data/raw/amazon_procesadore...  \n1   /work/games_seeker/data/raw/amazon_procesadore...  \n2   /work/games_seeker/data/raw/amazon_procesadore...  \n3   /work/games_seeker/data/raw/amazon_procesadore...  \n4   /work/games_seeker/data/raw/amazon_procesadore...  \n..                                                ...  \n88  /work/games_seeker/data/raw/amazon_procesadore...  \n89  /work/games_seeker/data/raw/amazon_procesadore...  \n90  /work/games_seeker/data/raw/amazon_procesadore...  \n92  /work/games_seeker/data/raw/amazon_procesadore...  \n93  /work/games_seeker/data/raw/amazon_procesadore...  \n\n[68 rows x 8 columns]",
      "text/html": "<div>\n<style scoped>\n    .dataframe tbody tr th:only-of-type {\n        vertical-align: middle;\n    }\n\n    .dataframe tbody tr th {\n        vertical-align: top;\n    }\n\n    .dataframe thead th {\n        text-align: right;\n    }\n</style>\n<table border=\"1\" class=\"dataframe\">\n  <thead>\n    <tr style=\"text-align: right;\">\n      <th></th>\n      <th>title</th>\n      <th>type</th>\n      <th>category</th>\n      <th>range</th>\n      <th>symbol</th>\n      <th>price</th>\n      <th>link</th>\n      <th>origin</th>\n    </tr>\n  </thead>\n  <tbody>\n    <tr>\n      <th>0</th>\n      <td>AMD Ryzen 5 5600G Procesador de escritorio des...</td>\n      <td>CPU</td>\n      <td>Gamer</td>\n      <td>Mid</td>\n      <td>US</td>\n      <td>216.0</td>\n      <td>https://www.amazon.com/-/es/AMD-Ryzen-5600G-Pr...</td>\n      <td>/work/games_seeker/data/raw/amazon_procesadore...</td>\n    </tr>\n    <tr>\n      <th>1</th>\n      <td>AMD Ryzen 9 5900X - Procesador de escritorio d...</td>\n      <td>CPU</td>\n      <td>Gamer</td>\n      <td>High</td>\n      <td>US</td>\n      <td>449.0</td>\n      <td>https://www.amazon.com/-/es/AMD-Ryzen-5900X-Pr...</td>\n      <td>/work/games_seeker/data/raw/amazon_procesadore...</td>\n    </tr>\n    <tr>\n      <th>2</th>\n      <td>AMD Ryzen 5 5600X 6 núcleos y 12 hilos desbloq...</td>\n      <td>CPU</td>\n      <td>Gamer</td>\n      <td>Mid</td>\n      <td>US</td>\n      <td>228.0</td>\n      <td>https://www.amazon.com/-/es/AMD-Ryzen-5600X-de...</td>\n      <td>/work/games_seeker/data/raw/amazon_procesadore...</td>\n    </tr>\n    <tr>\n      <th>3</th>\n      <td>AMD Ryzen 9 5950X - Procesador de escritorio d...</td>\n      <td>CPU</td>\n      <td>Gamer</td>\n      <td>High</td>\n      <td>US</td>\n      <td>598.0</td>\n      <td>https://www.amazon.com/-/es/AMD-Ryzen-5950X-Pr...</td>\n      <td>/work/games_seeker/data/raw/amazon_procesadore...</td>\n    </tr>\n    <tr>\n      <th>4</th>\n      <td>Procesador Intel Core i5-10400 de 6 núcleos de...</td>\n      <td>CPU</td>\n      <td>Office</td>\n      <td>Low</td>\n      <td>US</td>\n      <td>148.0</td>\n      <td>https://www.amazon.com/-/es/Procesador-i5-1040...</td>\n      <td>/work/games_seeker/data/raw/amazon_procesadore...</td>\n    </tr>\n    <tr>\n      <th>...</th>\n      <td>...</td>\n      <td>...</td>\n      <td>...</td>\n      <td>...</td>\n      <td>...</td>\n      <td>...</td>\n      <td>...</td>\n      <td>...</td>\n    </tr>\n    <tr>\n      <th>88</th>\n      <td>Procesador Intel Pentium Gold G5420 Dual Core ...</td>\n      <td>CPU</td>\n      <td>Office</td>\n      <td>Low</td>\n      <td>US</td>\n      <td>137.0</td>\n      <td>https://www.amazon.com/-/es/Procesador-Intel-P...</td>\n      <td>/work/games_seeker/data/raw/amazon_procesadore...</td>\n    </tr>\n    <tr>\n      <th>89</th>\n      <td>Core i9 Octa-core i9-9900K 3.6GHz procesador d...</td>\n      <td>CPU</td>\n      <td>Gamer</td>\n      <td>High</td>\n      <td>US</td>\n      <td>574.0</td>\n      <td>https://www.amazon.com/-/es/Octa-core-i9-9900K...</td>\n      <td>/work/games_seeker/data/raw/amazon_procesadore...</td>\n    </tr>\n    <tr>\n      <th>90</th>\n      <td>Intel Core i7-2760QM SR02W PGA 988B G2 Procesa...</td>\n      <td>CPU</td>\n      <td>Office</td>\n      <td>Low</td>\n      <td>US</td>\n      <td>138.0</td>\n      <td>https://www.amazon.com/-/es/Intel-i7-2760QM-SR...</td>\n      <td>/work/games_seeker/data/raw/amazon_procesadore...</td>\n    </tr>\n    <tr>\n      <th>92</th>\n      <td>Intel Core i9-10900F Comet Lake 2.8GHz 20MB Sm...</td>\n      <td>CPU</td>\n      <td>Gamer</td>\n      <td>High</td>\n      <td>US</td>\n      <td>435.0</td>\n      <td>https://www.amazon.com/-/es/Intel-i9-10900F-2-...</td>\n      <td>/work/games_seeker/data/raw/amazon_procesadore...</td>\n    </tr>\n    <tr>\n      <th>93</th>\n      <td>AMD FX-8350 4.0 GHz (4.2 GHz Turbo) 8-Core Soc...</td>\n      <td>CPU</td>\n      <td>Gamer</td>\n      <td>Mid</td>\n      <td>US</td>\n      <td>242.0</td>\n      <td>https://www.amazon.com/-/es/FX-8350-8-Core-Soc...</td>\n      <td>/work/games_seeker/data/raw/amazon_procesadore...</td>\n    </tr>\n  </tbody>\n</table>\n<p>68 rows × 8 columns</p>\n</div>"
     },
     "metadata": {}
    }
   ]
  },
  {
   "cell_type": "markdown",
   "source": "## Placas",
   "metadata": {
    "cell_id": "875ebb12-8d7d-449d-8104-55ca266f79d3",
    "tags": [],
    "is_collapsed": false,
    "deepnote_cell_type": "text-cell-h2",
    "deepnote_cell_height": 70
   }
  },
  {
   "cell_type": "code",
   "metadata": {
    "cell_id": "9844326f-40b4-44ec-9142-685310c8c471",
    "tags": [],
    "deepnote_to_be_reexecuted": false,
    "source_hash": "2c5f5880",
    "execution_start": 1647040987681,
    "execution_millis": 1,
    "deepnote_cell_type": "code",
    "deepnote_cell_height": 66
   },
   "source": "board_df = dfs[\"amazon_tarjeta_madre.csv\"]",
   "execution_count": null,
   "outputs": []
  },
  {
   "cell_type": "code",
   "metadata": {
    "cell_id": "fdb4c9e0-dd30-4f5b-810e-2428a7e17e67",
    "tags": [],
    "deepnote_to_be_reexecuted": false,
    "source_hash": "2309d8b6",
    "execution_start": 1647041270700,
    "execution_millis": 1,
    "deepnote_cell_type": "code",
    "deepnote_cell_height": 66
   },
   "source": "board_df = board_df[board_df[\"price\"] > 100]",
   "execution_count": null,
   "outputs": []
  },
  {
   "cell_type": "code",
   "metadata": {
    "cell_id": "7095970a-4ccb-4177-a7b3-94e2de456503",
    "tags": [],
    "deepnote_to_be_reexecuted": false,
    "source_hash": "3476551d",
    "execution_start": 1647041313073,
    "execution_millis": 1,
    "deepnote_cell_type": "code",
    "deepnote_cell_height": 66
   },
   "source": "board_df.loc[:, \"type\"] = \"Mother Board\"",
   "execution_count": null,
   "outputs": [
    {
     "name": "stderr",
     "text": "/shared-libs/python3.7/py/lib/python3.7/site-packages/pandas/core/indexing.py:1667: SettingWithCopyWarning: \nA value is trying to be set on a copy of a slice from a DataFrame.\nTry using .loc[row_indexer,col_indexer] = value instead\n\nSee the caveats in the documentation: https://pandas.pydata.org/pandas-docs/stable/user_guide/indexing.html#returning-a-view-versus-a-copy\n  self.obj[key] = value\n",
     "output_type": "stream"
    }
   ]
  },
  {
   "cell_type": "code",
   "metadata": {
    "cell_id": "7cb97138-18c3-4964-8a8a-69fc6300d9e5",
    "tags": [],
    "deepnote_to_be_reexecuted": false,
    "source_hash": "967df27d",
    "execution_start": 1647041361570,
    "execution_millis": 18,
    "deepnote_cell_type": "code",
    "deepnote_cell_height": 102
   },
   "source": "board_df.loc[:, \"category\"] = \"\"\nboard_df.loc[board_df[\"price\"] <= 150, \"category\"] = \"Office\"\nboard_df.loc[board_df[\"price\"] > 150, \"category\"] = \"Gamer\"",
   "execution_count": null,
   "outputs": []
  },
  {
   "cell_type": "code",
   "metadata": {
    "cell_id": "1de8cf6d-ccfb-4012-80e4-4645775ff0ab",
    "tags": [],
    "deepnote_to_be_reexecuted": false,
    "source_hash": "cd647b8f",
    "execution_start": 1647041337109,
    "execution_millis": 17,
    "deepnote_cell_type": "code",
    "deepnote_cell_height": 120
   },
   "source": "board_df.loc[:, \"range\"] = \"\"\nboard_df.loc[board_df[\"price\"] <= 150, \"range\"] = \"Low\"\nboard_df.loc[(board_df[\"price\"] > 150) & (board_df[\"price\"] <= 300), \"range\"] = \"Mid\"\nboard_df.loc[board_df[\"price\"] > 300, \"range\"] = \"High\"",
   "execution_count": null,
   "outputs": [
    {
     "name": "stderr",
     "text": "/shared-libs/python3.7/py/lib/python3.7/site-packages/pandas/core/indexing.py:1817: SettingWithCopyWarning: \nA value is trying to be set on a copy of a slice from a DataFrame.\nTry using .loc[row_indexer,col_indexer] = value instead\n\nSee the caveats in the documentation: https://pandas.pydata.org/pandas-docs/stable/user_guide/indexing.html#returning-a-view-versus-a-copy\n  self._setitem_single_column(loc, value, pi)\n",
     "output_type": "stream"
    }
   ]
  },
  {
   "cell_type": "code",
   "metadata": {
    "cell_id": "76866ee8-7b96-4b0d-962f-921db32b7322",
    "tags": [],
    "deepnote_to_be_reexecuted": false,
    "source_hash": "72b599b3",
    "execution_start": 1647041365192,
    "execution_millis": 10,
    "deepnote_cell_type": "code",
    "deepnote_cell_height": 66
   },
   "source": "dfs[\"amazon_tarjeta_madre.csv\"] = board_df[ORDERED_COLUMNS]",
   "execution_count": null,
   "outputs": []
  },
  {
   "cell_type": "code",
   "metadata": {
    "cell_id": "7c84acc8-fd1f-4961-beb4-3ac96432a8b9",
    "tags": [],
    "deepnote_to_be_reexecuted": false,
    "source_hash": "6ce5b75b",
    "execution_start": 1647041366303,
    "execution_millis": 87,
    "deepnote_cell_type": "code",
    "deepnote_cell_height": 66
   },
   "source": "dfs[\"amazon_tarjeta_madre.csv\"] ",
   "execution_count": null,
   "outputs": [
    {
     "output_type": "execute_result",
     "execution_count": 89,
     "data": {
      "application/vnd.deepnote.dataframe.v3+json": {
       "column_count": 8,
       "row_count": 99,
       "columns": [
        {
         "name": "title",
         "dtype": "object",
         "stats": {
          "unique_count": 98,
          "nan_count": 0,
          "categories": [
           {
            "name": "MSI MPG Z590 Gaming Edge WiFi placa base para juegos (ATX, 11ª/10ª generación Intel Core, LGA 1200 Socket, DDR4, PCIe 4, CFX, M.2 ranuras, USB 3.2 Gen 2, Wi-Fi 6E, DP/HDMI, Mystic Light RGB) (renovado)",
            "count": 2
           },
           {
            "name": "ASUS Prime Z590-A LGA 1200 (Intel® 11ª/10ª generación) ATX (14+2 DrMOS Power Stages, 3X M.2, Intel® LAN de 2.5 Gb, USB 3.2 Panel frontal tipo C, Thunderbolt™ 4, Aura Sync RGB Lighting)",
            "count": 1
           },
           {
            "name": "96 others",
            "count": 96
           }
          ]
         }
        },
        {
         "name": "type",
         "dtype": "object",
         "stats": {
          "unique_count": 1,
          "nan_count": 0,
          "categories": [
           {
            "name": "Mother Board",
            "count": 99
           }
          ]
         }
        },
        {
         "name": "category",
         "dtype": "object",
         "stats": {
          "unique_count": 2,
          "nan_count": 0,
          "categories": [
           {
            "name": "Gamer",
            "count": 76
           },
           {
            "name": "Office",
            "count": 23
           }
          ]
         }
        },
        {
         "name": "range",
         "dtype": "object",
         "stats": {
          "unique_count": 3,
          "nan_count": 0,
          "categories": [
           {
            "name": "Mid",
            "count": 43
           },
           {
            "name": "High",
            "count": 33
           },
           {
            "name": "Low",
            "count": 23
           }
          ]
         }
        },
        {
         "name": "symbol",
         "dtype": "object",
         "stats": {
          "unique_count": 1,
          "nan_count": 0,
          "categories": [
           {
            "name": "US",
            "count": 99
           }
          ]
         }
        },
        {
         "name": "price",
         "dtype": "float64",
         "stats": {
          "unique_count": 71,
          "nan_count": 0,
          "min": "108.0",
          "max": "1399.0",
          "histogram": [
           {
            "bin_start": 108,
            "bin_end": 237.1,
            "count": 59
           },
           {
            "bin_start": 237.1,
            "bin_end": 366.2,
            "count": 10
           },
           {
            "bin_start": 366.2,
            "bin_end": 495.29999999999995,
            "count": 8
           },
           {
            "bin_start": 495.29999999999995,
            "bin_end": 624.4,
            "count": 8
           },
           {
            "bin_start": 624.4,
            "bin_end": 753.5,
            "count": 5
           },
           {
            "bin_start": 753.5,
            "bin_end": 882.5999999999999,
            "count": 3
           },
           {
            "bin_start": 882.5999999999999,
            "bin_end": 1011.6999999999999,
            "count": 1
           },
           {
            "bin_start": 1011.6999999999999,
            "bin_end": 1140.8,
            "count": 1
           },
           {
            "bin_start": 1140.8,
            "bin_end": 1269.8999999999999,
            "count": 1
           },
           {
            "bin_start": 1269.8999999999999,
            "bin_end": 1399,
            "count": 3
           }
          ]
         }
        },
        {
         "name": "link",
         "dtype": "object",
         "stats": {
          "unique_count": 99,
          "nan_count": 0,
          "categories": [
           {
            "name": "https://www.amazon.com/-/es/Intel%C2%AE-generaci%C3%B3n-frontal-ThunderboltTM-Lighting/dp/B08SYWZW4S/ref=sr_1_1?__mk_es_US=%C3%85M%C3%85%C5%BD%C3%95%C3%91&crid=24LF7Z98L4KA4&keywords=mother+board&qid=1646939140&sprefix=%2Caps%2C136&sr=8-1",
            "count": 1
           },
           {
            "name": "https://www.amazon.com/-/es/ROG-B450-F-Gaming-Motherboard-alimentaci%C3%B3n/dp/B08KH1M1H4/ref=sr_1_2?__mk_es_US=%C3%85M%C3%85%C5%BD%C3%95%C3%91&crid=24LF7Z98L4KA4&keywords=mother+board&qid=1646939140&sprefix=%2Caps%2C136&sr=8-2",
            "count": 1
           },
           {
            "name": "97 others",
            "count": 97
           }
          ]
         }
        },
        {
         "name": "origin",
         "dtype": "object",
         "stats": {
          "unique_count": 1,
          "nan_count": 0,
          "categories": [
           {
            "name": "/work/games_seeker/data/raw/amazon_tarjeta_madre.csv",
            "count": 99
           }
          ]
         }
        },
        {
         "name": "_deepnote_index_column",
         "dtype": "int64"
        }
       ],
       "rows": [
        {
         "title": "ASUS Prime Z590-A LGA 1200 (Intel® 11ª/10ª generación) ATX (14+2 DrMOS Power Stages, 3X M.2, Intel®…",
         "type": "Mother Board",
         "category": "Gamer",
         "range": "Mid",
         "symbol": "US",
         "price": 259,
         "link": "https://www.amazon.com/-/es/Intel%C2%AE-generaci%C3%B3n-frontal-ThunderboltTM-Lighting/dp/B08SYWZW4…",
         "origin": "/work/games_seeker/data/raw/amazon_tarjeta_madre.csv",
         "_deepnote_index_column": 0
        },
        {
         "title": "ASUS ROG Strix B450-F Gaming II AMD AM4 (Ryzen 5000, 3ª generación Ryzen ATX Gaming Motherboard (8+…",
         "type": "Mother Board",
         "category": "Gamer",
         "range": "Mid",
         "symbol": "US",
         "price": 199,
         "link": "https://www.amazon.com/-/es/ROG-B450-F-Gaming-Motherboard-alimentaci%C3%B3n/dp/B08KH1M1H4/ref=sr_1_…",
         "origin": "/work/games_seeker/data/raw/amazon_tarjeta_madre.csv",
         "_deepnote_index_column": 1
        },
        {
         "title": "ASUS ROG Strix B550-F Gaming (WiFi 6) AMD AM4 Zen 3 Ryzen 5000 y 3ª generación Ryzen ATX Gaming Mot…",
         "type": "Mother Board",
         "category": "Gamer",
         "range": "Mid",
         "symbol": "US",
         "price": 194,
         "link": "https://www.amazon.com/-/es/ROG-B550-F-Motherboard-direccionable-sincronizaci%C3%B3n/dp/B088VSTS9H/…",
         "origin": "/work/games_seeker/data/raw/amazon_tarjeta_madre.csv",
         "_deepnote_index_column": 3
        },
        {
         "title": "ASUS ROG Strix B550-F Gaming AMD AM4 Zen 3 Ryzen 5000 y 3ª generación Ryzen ATX Gaming Motherboard …",
         "type": "Mother Board",
         "category": "Gamer",
         "range": "Mid",
         "symbol": "US",
         "price": 178,
         "link": "https://www.amazon.com/-/es/ROG-B550-F-Motherboard-direccionable-sincronizaci%C3%B3n/dp/B088W7RKVZ/…",
         "origin": "/work/games_seeker/data/raw/amazon_tarjeta_madre.csv",
         "_deepnote_index_column": 4
        },
        {
         "title": "GIGABYTE B450 AORUS PRO Wi-Fi (AMD Ryzen AM4/ATX/M.2 Protector térmico con Wi-Fi incorporado/HDMI/D…",
         "type": "Mother Board",
         "category": "Office",
         "range": "Low",
         "symbol": "US",
         "price": 109,
         "link": "https://www.amazon.com/-/es/B450-AORUS-PRO-Protector-incorporado/dp/B07FW85VFT/ref=sr_1_6?__mk_es_U…",
         "origin": "/work/games_seeker/data/raw/amazon_tarjeta_madre.csv",
         "_deepnote_index_column": 5
        },
        {
         "title": "MSI Z490-A PRO ProSeries ATX - Placa base (Intel Core de 10ª generación, enchufe LGA 1200, DDR4, ra…",
         "type": "Mother Board",
         "category": "Gamer",
         "range": "Mid",
         "symbol": "US",
         "price": 157,
         "link": "https://www.amazon.com/-/es/MSI-Z490-PRO-ProSeries-ATX/dp/B0876HPVHX/ref=sr_1_7?__mk_es_US=%C3%85M%…",
         "origin": "/work/games_seeker/data/raw/amazon_tarjeta_madre.csv",
         "_deepnote_index_column": 6
        },
        {
         "title": "MSI Arsenal Gaming AMD Ryzen 2ª y 3ª generación AM4 M.2 USB 3 DDR4 DVI HDMI Crossfire ATX placa bas…",
         "type": "Mother Board",
         "category": "Office",
         "range": "Low",
         "symbol": "US",
         "price": 114,
         "link": "https://www.amazon.com/-/es/generaci%C3%B3n-B450-TOMAHAWK-MAX-II/dp/B07WF6ZQST/ref=sr_1_8?__mk_es_U…",
         "origin": "/work/games_seeker/data/raw/amazon_tarjeta_madre.csv",
         "_deepnote_index_column": 7
        },
        {
         "title": "MSI MPG X570S Carbon EK X Gaming - Placa base (ATX, AMD, Socket AM4. DDR4, PCIe 4, CFX, M.2 ranuras…",
         "type": "Mother Board",
         "category": "Gamer",
         "range": "High",
         "symbol": "US",
         "price": 499,
         "link": "https://www.amazon.com/-/es/gp/slredirect/picassoRedirect.html/ref=pa_sp_mtf_aps_sr_pg1_1?ie=UTF8&a…",
         "origin": "/work/games_seeker/data/raw/amazon_tarjeta_madre.csv",
         "_deepnote_index_column": 8
        },
        {
         "title": "ASUS Prime Z390-P LGA1151 (Intel 8ª y 9ª generación) ATX placa base para minería de criptomonedas (…",
         "type": "Mother Board",
         "category": "Gamer",
         "range": "Mid",
         "symbol": "US",
         "price": 182,
         "link": "https://www.amazon.com/-/es/Prime-Z390-P-generaci%C3%B3n-criptomonedas-decodificaci%C3%B3n/dp/B07HC…",
         "origin": "/work/games_seeker/data/raw/amazon_tarjeta_madre.csv",
         "_deepnote_index_column": 9
        },
        {
         "title": "AMD Ryzen 7 3700X 8 núcleos 16 hilos desbloqueado procesador de escritorio con enfriador LED Wraith…",
         "type": "Mother Board",
         "category": "Gamer",
         "range": "High",
         "symbol": "US",
         "price": 457,
         "link": "https://www.amazon.com/-/es/desbloqueado-procesador-escritorio-enfriador-protector/dp/B092S5FPWW/re…",
         "origin": "/work/games_seeker/data/raw/amazon_tarjeta_madre.csv",
         "_deepnote_index_column": 12
        }
       ]
      },
      "text/plain": "                                                 title          type category  \\\n0    ASUS Prime Z590-A LGA 1200 (Intel® 11ª/10ª gen...  Mother Board    Gamer   \n1    ASUS ROG Strix B450-F Gaming II AMD AM4 (Ryzen...  Mother Board    Gamer   \n3    ASUS ROG Strix B550-F Gaming (WiFi 6) AMD AM4 ...  Mother Board    Gamer   \n4    ASUS ROG Strix B550-F Gaming AMD AM4 Zen 3 Ryz...  Mother Board    Gamer   \n5    GIGABYTE B450 AORUS PRO Wi-Fi (AMD Ryzen AM4/A...  Mother Board   Office   \n..                                                 ...           ...      ...   \n142  Supermicro X11SDV-8C-TLN2F Motherboard Mini-IT...  Mother Board    Gamer   \n143  Supermicro X11SDV-8C+-TLN2F - Placa base Mini-...  Mother Board    Gamer   \n144                    Supermicro x11ddw-nt placa base  Mother Board    Gamer   \n146  700846-001 HP Jasmine AMD Desktop Motherboard FM2  Mother Board   Office   \n147    Placa base Dell Optiplex GX260 2X378 (renovada)  Mother Board   Office   \n\n    range symbol   price                                               link  \\\n0     Mid     US   259.0  https://www.amazon.com/-/es/Intel%C2%AE-genera...   \n1     Mid     US   199.0  https://www.amazon.com/-/es/ROG-B450-F-Gaming-...   \n3     Mid     US   194.0  https://www.amazon.com/-/es/ROG-B550-F-Motherb...   \n4     Mid     US   178.0  https://www.amazon.com/-/es/ROG-B550-F-Motherb...   \n5     Low     US   109.0  https://www.amazon.com/-/es/B450-AORUS-PRO-Pro...   \n..    ...    ...     ...                                                ...   \n142  High     US  1399.0  https://www.amazon.com/-/es/Supermicro-X11SDV-...   \n143  High     US  1399.0  https://www.amazon.com/-/es/Supermicro-X11SDV-...   \n144  High     US   766.0  https://www.amazon.com/-/es/MBD-X11DDW-NT-O-Su...   \n146   Low     US   118.0  https://www.amazon.com/-/es/700846-001-Jasmine...   \n147   Low     US   108.0  https://www.amazon.com/-/es/Placa-Optiplex-GX2...   \n\n                                                origin  \n0    /work/games_seeker/data/raw/amazon_tarjeta_mad...  \n1    /work/games_seeker/data/raw/amazon_tarjeta_mad...  \n3    /work/games_seeker/data/raw/amazon_tarjeta_mad...  \n4    /work/games_seeker/data/raw/amazon_tarjeta_mad...  \n5    /work/games_seeker/data/raw/amazon_tarjeta_mad...  \n..                                                 ...  \n142  /work/games_seeker/data/raw/amazon_tarjeta_mad...  \n143  /work/games_seeker/data/raw/amazon_tarjeta_mad...  \n144  /work/games_seeker/data/raw/amazon_tarjeta_mad...  \n146  /work/games_seeker/data/raw/amazon_tarjeta_mad...  \n147  /work/games_seeker/data/raw/amazon_tarjeta_mad...  \n\n[99 rows x 8 columns]",
      "text/html": "<div>\n<style scoped>\n    .dataframe tbody tr th:only-of-type {\n        vertical-align: middle;\n    }\n\n    .dataframe tbody tr th {\n        vertical-align: top;\n    }\n\n    .dataframe thead th {\n        text-align: right;\n    }\n</style>\n<table border=\"1\" class=\"dataframe\">\n  <thead>\n    <tr style=\"text-align: right;\">\n      <th></th>\n      <th>title</th>\n      <th>type</th>\n      <th>category</th>\n      <th>range</th>\n      <th>symbol</th>\n      <th>price</th>\n      <th>link</th>\n      <th>origin</th>\n    </tr>\n  </thead>\n  <tbody>\n    <tr>\n      <th>0</th>\n      <td>ASUS Prime Z590-A LGA 1200 (Intel® 11ª/10ª gen...</td>\n      <td>Mother Board</td>\n      <td>Gamer</td>\n      <td>Mid</td>\n      <td>US</td>\n      <td>259.0</td>\n      <td>https://www.amazon.com/-/es/Intel%C2%AE-genera...</td>\n      <td>/work/games_seeker/data/raw/amazon_tarjeta_mad...</td>\n    </tr>\n    <tr>\n      <th>1</th>\n      <td>ASUS ROG Strix B450-F Gaming II AMD AM4 (Ryzen...</td>\n      <td>Mother Board</td>\n      <td>Gamer</td>\n      <td>Mid</td>\n      <td>US</td>\n      <td>199.0</td>\n      <td>https://www.amazon.com/-/es/ROG-B450-F-Gaming-...</td>\n      <td>/work/games_seeker/data/raw/amazon_tarjeta_mad...</td>\n    </tr>\n    <tr>\n      <th>3</th>\n      <td>ASUS ROG Strix B550-F Gaming (WiFi 6) AMD AM4 ...</td>\n      <td>Mother Board</td>\n      <td>Gamer</td>\n      <td>Mid</td>\n      <td>US</td>\n      <td>194.0</td>\n      <td>https://www.amazon.com/-/es/ROG-B550-F-Motherb...</td>\n      <td>/work/games_seeker/data/raw/amazon_tarjeta_mad...</td>\n    </tr>\n    <tr>\n      <th>4</th>\n      <td>ASUS ROG Strix B550-F Gaming AMD AM4 Zen 3 Ryz...</td>\n      <td>Mother Board</td>\n      <td>Gamer</td>\n      <td>Mid</td>\n      <td>US</td>\n      <td>178.0</td>\n      <td>https://www.amazon.com/-/es/ROG-B550-F-Motherb...</td>\n      <td>/work/games_seeker/data/raw/amazon_tarjeta_mad...</td>\n    </tr>\n    <tr>\n      <th>5</th>\n      <td>GIGABYTE B450 AORUS PRO Wi-Fi (AMD Ryzen AM4/A...</td>\n      <td>Mother Board</td>\n      <td>Office</td>\n      <td>Low</td>\n      <td>US</td>\n      <td>109.0</td>\n      <td>https://www.amazon.com/-/es/B450-AORUS-PRO-Pro...</td>\n      <td>/work/games_seeker/data/raw/amazon_tarjeta_mad...</td>\n    </tr>\n    <tr>\n      <th>...</th>\n      <td>...</td>\n      <td>...</td>\n      <td>...</td>\n      <td>...</td>\n      <td>...</td>\n      <td>...</td>\n      <td>...</td>\n      <td>...</td>\n    </tr>\n    <tr>\n      <th>142</th>\n      <td>Supermicro X11SDV-8C-TLN2F Motherboard Mini-IT...</td>\n      <td>Mother Board</td>\n      <td>Gamer</td>\n      <td>High</td>\n      <td>US</td>\n      <td>1399.0</td>\n      <td>https://www.amazon.com/-/es/Supermicro-X11SDV-...</td>\n      <td>/work/games_seeker/data/raw/amazon_tarjeta_mad...</td>\n    </tr>\n    <tr>\n      <th>143</th>\n      <td>Supermicro X11SDV-8C+-TLN2F - Placa base Mini-...</td>\n      <td>Mother Board</td>\n      <td>Gamer</td>\n      <td>High</td>\n      <td>US</td>\n      <td>1399.0</td>\n      <td>https://www.amazon.com/-/es/Supermicro-X11SDV-...</td>\n      <td>/work/games_seeker/data/raw/amazon_tarjeta_mad...</td>\n    </tr>\n    <tr>\n      <th>144</th>\n      <td>Supermicro x11ddw-nt placa base</td>\n      <td>Mother Board</td>\n      <td>Gamer</td>\n      <td>High</td>\n      <td>US</td>\n      <td>766.0</td>\n      <td>https://www.amazon.com/-/es/MBD-X11DDW-NT-O-Su...</td>\n      <td>/work/games_seeker/data/raw/amazon_tarjeta_mad...</td>\n    </tr>\n    <tr>\n      <th>146</th>\n      <td>700846-001 HP Jasmine AMD Desktop Motherboard FM2</td>\n      <td>Mother Board</td>\n      <td>Office</td>\n      <td>Low</td>\n      <td>US</td>\n      <td>118.0</td>\n      <td>https://www.amazon.com/-/es/700846-001-Jasmine...</td>\n      <td>/work/games_seeker/data/raw/amazon_tarjeta_mad...</td>\n    </tr>\n    <tr>\n      <th>147</th>\n      <td>Placa base Dell Optiplex GX260 2X378 (renovada)</td>\n      <td>Mother Board</td>\n      <td>Office</td>\n      <td>Low</td>\n      <td>US</td>\n      <td>108.0</td>\n      <td>https://www.amazon.com/-/es/Placa-Optiplex-GX2...</td>\n      <td>/work/games_seeker/data/raw/amazon_tarjeta_mad...</td>\n    </tr>\n  </tbody>\n</table>\n<p>99 rows × 8 columns</p>\n</div>"
     },
     "metadata": {}
    }
   ]
  },
  {
   "cell_type": "markdown",
   "source": "# Export results",
   "metadata": {
    "cell_id": "5c1642d9-729c-4c31-9e5c-42e795ec2291",
    "tags": [],
    "is_collapsed": false,
    "deepnote_cell_type": "text-cell-h1",
    "deepnote_cell_height": 82
   }
  },
  {
   "cell_type": "code",
   "metadata": {
    "cell_id": "5bbee2c7-c3b0-43d7-9e76-976c4109b469",
    "tags": [],
    "deepnote_to_be_reexecuted": false,
    "source_hash": "873406cb",
    "execution_start": 1647042277612,
    "execution_millis": 14,
    "deepnote_table_state": {
     "pageSize": 10,
     "pageIndex": 0,
     "filters": [],
     "sortBy": [
      {
       "id": "price",
       "type": "asc"
      }
     ]
    },
    "deepnote_table_loading": false,
    "deepnote_cell_type": "code",
    "deepnote_cell_height": 66
   },
   "source": "df = pd.concat(dfs.values()).reset_index(drop=True)",
   "execution_count": null,
   "outputs": []
  },
  {
   "cell_type": "code",
   "metadata": {
    "cell_id": "dbb039fa-9260-44a6-8c1e-ae737a41d8f9",
    "tags": [],
    "deepnote_to_be_reexecuted": false,
    "source_hash": "f804c160",
    "execution_start": 1647042278680,
    "execution_millis": 105,
    "deepnote_cell_type": "code",
    "deepnote_cell_height": 598,
    "deepnote_output_heights": [
     21.1875
    ]
   },
   "source": "df",
   "execution_count": null,
   "outputs": [
    {
     "output_type": "execute_result",
     "execution_count": 101,
     "data": {
      "application/vnd.deepnote.dataframe.v3+json": {
       "column_count": 8,
       "row_count": 921,
       "columns": [
        {
         "name": "title",
         "dtype": "object",
         "stats": {
          "unique_count": 847,
          "nan_count": 0,
          "categories": [
           {
            "name": "Cooler Master MasterLiquid ML360 Illusion Close-Loop AIO CPU líquido refrigerador, cúpula translúcida, bomba de doble cámara de 3ª generación, radiador 240, halo doble MF120 para AMD Ryzen/Intel 1200/1151",
            "count": 13
           },
           {
            "name": "DeepCool Castle 360EX A-RGB WH AIO Enfriador de CPU líquido con tecnología antifugas, 3 ventiladores CF120 mm de 4.724 in, controlador incluido y soporte de sincronización de placa base A-RGB de 5 V, Intel 115X/1200/2066, AMD TR4/AM4",
            "count": 9
           },
           {
            "name": "845 others",
            "count": 899
           }
          ]
         }
        },
        {
         "name": "type",
         "dtype": "object",
         "stats": {
          "unique_count": 8,
          "nan_count": 0,
          "categories": [
           {
            "name": "Storage",
            "count": 310
           },
           {
            "name": "RAM",
            "count": 157
           },
           {
            "name": "6 others",
            "count": 454
           }
          ]
         }
        },
        {
         "name": "category",
         "dtype": "object",
         "stats": {
          "unique_count": 5,
          "nan_count": 0,
          "categories": [
           {
            "name": "Office",
            "count": 355
           },
           {
            "name": "Gamer",
            "count": 307
           },
           {
            "name": "3 others",
            "count": 259
           }
          ]
         }
        },
        {
         "name": "range",
         "dtype": "object",
         "stats": {
          "unique_count": 3,
          "nan_count": 0,
          "categories": [
           {
            "name": "Mid",
            "count": 375
           },
           {
            "name": "Low",
            "count": 327
           },
           {
            "name": "High",
            "count": 219
           }
          ]
         }
        },
        {
         "name": "symbol",
         "dtype": "object",
         "stats": {
          "unique_count": 1,
          "nan_count": 0,
          "categories": [
           {
            "name": "US",
            "count": 921
           }
          ]
         }
        },
        {
         "name": "price",
         "dtype": "float64",
         "stats": {
          "unique_count": 338,
          "nan_count": 0,
          "min": "19.0",
          "max": "2699.0",
          "histogram": [
           {
            "bin_start": 19,
            "bin_end": 287,
            "count": 689
           },
           {
            "bin_start": 287,
            "bin_end": 555,
            "count": 141
           },
           {
            "bin_start": 555,
            "bin_end": 823,
            "count": 42
           },
           {
            "bin_start": 823,
            "bin_end": 1091,
            "count": 19
           },
           {
            "bin_start": 1091,
            "bin_end": 1359,
            "count": 11
           },
           {
            "bin_start": 1359,
            "bin_end": 1627,
            "count": 9
           },
           {
            "bin_start": 1627,
            "bin_end": 1895,
            "count": 3
           },
           {
            "bin_start": 1895,
            "bin_end": 2163,
            "count": 3
           },
           {
            "bin_start": 2163,
            "bin_end": 2431,
            "count": 0
           },
           {
            "bin_start": 2431,
            "bin_end": 2699,
            "count": 4
           }
          ]
         }
        },
        {
         "name": "link",
         "dtype": "object",
         "stats": {
          "unique_count": 921,
          "nan_count": 0,
          "categories": [
           {
            "name": "https://www.amazon.com/-/es/SSSTC-Lite-2230-CL1-3D128-Q11-paquete/dp/B09CR3JL94/ref=sr_1_241?__mk_es_US=%C3%85M%C3%85%C5%BD%C3%95%C3%91&crid=1RX4006JRBRV8&keywords=nvme+m.2&qid=1646937505&sprefix=%2Caps%2C147&sr=8-241",
            "count": 1
           },
           {
            "name": "https://www.amazon.com/-/es/KIOXIA-Toshiba-128GB-KBG40ZNS128G-paquete/dp/B09CR818J2/ref=sr_1_198?__mk_es_US=%C3%85M%C3%85%C5%BD%C3%95%C3%91&crid=1RX4006JRBRV8&keywords=nvme+m.2&qid=1646937434&sprefix=%2Caps%2C147&sr=8-198",
            "count": 1
           },
           {
            "name": "919 others",
            "count": 919
           }
          ]
         }
        },
        {
         "name": "origin",
         "dtype": "object",
         "stats": {
          "unique_count": 9,
          "nan_count": 0,
          "categories": [
           {
            "name": "/work/games_seeker/data/raw/amazon_hdd_interno.csv",
            "count": 159
           },
           {
            "name": "/work/games_seeker/data/raw/amazon_memorias_ram_dd4.csv",
            "count": 157
           },
           {
            "name": "7 others",
            "count": 605
           }
          ]
         }
        },
        {
         "name": "_deepnote_index_column",
         "dtype": "int64"
        }
       ],
       "rows": [
        {
         "title": "SSSTC (Lite-on) 128 GB M.2 2230 PCIe NVMe CL1-3D128-Q11, paquete OEM",
         "type": "Storage",
         "category": "Stream",
         "range": "Mid",
         "symbol": "US",
         "price": 19,
         "link": "https://www.amazon.com/-/es/SSSTC-Lite-2230-CL1-3D128-Q11-paquete/dp/B09CR3JL94/ref=sr_1_241?__mk_e…",
         "origin": "/work/games_seeker/data/raw/amazon_nvme_m.2.csv",
         "_deepnote_index_column": 188
        },
        {
         "title": "KIOXIA (Toshiba) 128GB M.2 2230 PCIe NVMe KBG40ZNS128G, paquete del OEM",
         "type": "Storage",
         "category": "Stream",
         "range": "Mid",
         "symbol": "US",
         "price": 19,
         "link": "https://www.amazon.com/-/es/KIOXIA-Toshiba-128GB-KBG40ZNS128G-paquete/dp/B09CR818J2/ref=sr_1_198?__…",
         "origin": "/work/games_seeker/data/raw/amazon_nvme_m.2.csv",
         "_deepnote_index_column": 160
        },
        {
         "title": "Silicon Power 128GB SSD 3D NAND A55 SLC caché rendimiento Boost SATA III 2.5\" 7mm (0.28\") unidad de…",
         "type": "Storage",
         "category": "Office",
         "range": "Low",
         "symbol": "US",
         "price": 21,
         "link": "https://www.amazon.com/-/es/Silicon-rendimiento-unidad-interna-SU128GBSS3A55S25AH/dp/B0963SGYGF/ref…",
         "origin": "/work/games_seeker/data/raw/amazon_hdd_interno.csv",
         "_deepnote_index_column": 915
        },
        {
         "title": "Kingshark gamer SSD M.2 2280 64 GB Ngff unidad interna de estado sólido de alto rendimiento para po…",
         "type": "Storage",
         "category": "Stream",
         "range": "Mid",
         "symbol": "US",
         "price": 22,
         "link": "https://www.amazon.com/-/es/Kingshark-2280-rendimiento-port%C3%A1til-escritorio/dp/B097MQV4GN/ref=s…",
         "origin": "/work/games_seeker/data/raw/amazon_nvme_m.2.csv",
         "_deepnote_index_column": 140
        },
        {
         "title": "Gamerking SSD M.2 2242 64 GB NGFF unidad interna de estado sólido de alto rendimiento para portátil…",
         "type": "Storage",
         "category": "Stream",
         "range": "Mid",
         "symbol": "US",
         "price": 22,
         "link": "https://www.amazon.com/-/es/Gamerking-interna-rendimiento-port%C3%A1til-sobremesa/dp/B095RG946P/ref…",
         "origin": "/work/games_seeker/data/raw/amazon_nvme_m.2.csv",
         "_deepnote_index_column": 156
        },
        {
         "title": "Seagate Barracuda ST500DM002 - Disco duro interno de 500 GB 3.5 - SATA - 7200 RPM -",
         "type": "Storage",
         "category": "Office",
         "range": "Low",
         "symbol": "US",
         "price": 22,
         "link": "https://www.amazon.com/-/es/Seagate-Barracuda-ST500DM002-Disco-interno/dp/B005EE5P84/ref=sr_1_53?__…",
         "origin": "/work/games_seeker/data/raw/amazon_hdd_interno.csv",
         "_deepnote_index_column": 789
        },
        {
         "title": "Disco Duro Para Port&aacute;til 'SEAGATE Momentus Thin 3&nbsp;GB/s cach&eacute; de 16&nbsp;MB 2.5&n…",
         "type": "Storage",
         "category": "Office",
         "range": "Low",
         "symbol": "US",
         "price": 23,
         "link": "https://www.amazon.com/-/es/Disco-Port%C3%A1til-SEAGATE-Momentus-2-5-interno/dp/B008BTOBWA/ref=sr_1…",
         "origin": "/work/games_seeker/data/raw/amazon_hdd_interno.csv",
         "_deepnote_index_column": 899
        },
        {
         "title": "Toshiba HDKCC00 MQ01ACF050 - Disco duro interno (500 GB, 7200 rpm, SATA-600, 2,5)",
         "type": "Storage",
         "category": "Office",
         "range": "Low",
         "symbol": "US",
         "price": 23,
         "link": "https://www.amazon.com/-/es/Toshiba-HDKCC00-MQ01ACF050-interno-SATA-600/dp/B00JOCE4CA/ref=sr_1_119?…",
         "origin": "/work/games_seeker/data/raw/amazon_hdd_interno.csv",
         "_deepnote_index_column": 838
        },
        {
         "title": "Western Digital PC SN520 128GB PCIe NVMe M.2 SSD unidad de estado sólido interno paquete OEM",
         "type": "Storage",
         "category": "Stream",
         "range": "Mid",
         "symbol": "US",
         "price": 23,
         "link": "https://www.amazon.com/-/es/Western-Digital-unidad-interno-paquete/dp/B0964C7DDM/ref=sr_1_100?__mk_…",
         "origin": "/work/games_seeker/data/raw/amazon_nvme_m.2.csv",
         "_deepnote_index_column": 129
        },
        {
         "title": "StarTech. com - Estante móvil de intercambio en caliente sin bandeja de 5.25 pulgadas para disco du…",
         "type": "Storage",
         "category": "Office",
         "range": "Low",
         "symbol": "US",
         "price": 23,
         "link": "https://www.amazon.com/-/es/StarTech-com-intercambio-bloqueable-HSB100SATBK/dp/B000KS8S9W/ref=sr_1_…",
         "origin": "/work/games_seeker/data/raw/amazon_hdd_interno.csv",
         "_deepnote_index_column": 880
        }
       ]
      },
      "text/plain": "                                                 title     type category  \\\n0    MUSETEX ATX - Funda para PC con 6 ventiladores...   Chasis   Office   \n1    MUSETEX Phantom Negro ATX Mid-Tower computador...   Chasis   Office   \n2    Vetroo A03 Mid-Tower ATX Gaming PC Case preins...   Chasis   Office   \n3    Razer Tomahawk ATX - Funda para juegos de medi...   Chasis   Office   \n4    Thermaltake Nivel 20 HT - Torre de computadora...   Chasis    Gamer   \n..                                                 ...      ...      ...   \n916  Seagate FireCuda 2TB unidad híbrida de estado ...  Storage    Gamer   \n917  Seagate Cheetah SAS 16 MB Cache 2.5-Inch inter...  Storage    Gamer   \n918               Western Digital 3TB SATA 6 Gb/s 3.5\"  Storage    Gamer   \n919  Seagate Cheetah 10K.7 ST3300007FC - Disco duro...  Storage    Gamer   \n920  Capacidad de la empresa (restaurado certificad...  Storage   Office   \n\n    range symbol  price                                               link  \\\n0     Low     US  109.0  https://www.amazon.com/-/es/MUSETEX-ATX-ventil...   \n1     Low     US  109.0  https://www.amazon.com/-/es/Mid-Tower-computad...   \n2     Low     US  109.0  https://www.amazon.com/-/es/gp/slredirect/pica...   \n3     Low     US  199.0  https://www.amazon.com/-/es/Razer-Tomahawk-ATX...   \n4     Mid     US  299.0  https://www.amazon.com/-/es/Thermaltake-Nivel-...   \n..    ...    ...    ...                                                ...   \n916  High     US  199.0  https://www.amazon.com/-/es/Seagate-FireCuda-u...   \n917   Mid     US   54.0  https://www.amazon.com/-/es/2-5-Inch-bare-oem-...   \n918  High     US  148.0  https://www.amazon.com/-/es/Western-Digital-3T...   \n919  High     US  104.0  https://www.amazon.com/-/es/Seagate-Cheetah-10...   \n920   Mid     US   37.0  https://www.amazon.com/-/es/Capacidad-empresa-...   \n\n                                                origin  \n0    /work/games_seeker/data/raw/amazon_chasis_para...  \n1    /work/games_seeker/data/raw/amazon_chasis_para...  \n2    /work/games_seeker/data/raw/amazon_chasis_para...  \n3    /work/games_seeker/data/raw/amazon_chasis_para...  \n4    /work/games_seeker/data/raw/amazon_chasis_para...  \n..                                                 ...  \n916  /work/games_seeker/data/raw/amazon_hdd_interno...  \n917  /work/games_seeker/data/raw/amazon_hdd_interno...  \n918  /work/games_seeker/data/raw/amazon_hdd_interno...  \n919  /work/games_seeker/data/raw/amazon_hdd_interno...  \n920  /work/games_seeker/data/raw/amazon_hdd_interno...  \n\n[921 rows x 8 columns]",
      "text/html": "<div>\n<style scoped>\n    .dataframe tbody tr th:only-of-type {\n        vertical-align: middle;\n    }\n\n    .dataframe tbody tr th {\n        vertical-align: top;\n    }\n\n    .dataframe thead th {\n        text-align: right;\n    }\n</style>\n<table border=\"1\" class=\"dataframe\">\n  <thead>\n    <tr style=\"text-align: right;\">\n      <th></th>\n      <th>title</th>\n      <th>type</th>\n      <th>category</th>\n      <th>range</th>\n      <th>symbol</th>\n      <th>price</th>\n      <th>link</th>\n      <th>origin</th>\n    </tr>\n  </thead>\n  <tbody>\n    <tr>\n      <th>0</th>\n      <td>MUSETEX ATX - Funda para PC con 6 ventiladores...</td>\n      <td>Chasis</td>\n      <td>Office</td>\n      <td>Low</td>\n      <td>US</td>\n      <td>109.0</td>\n      <td>https://www.amazon.com/-/es/MUSETEX-ATX-ventil...</td>\n      <td>/work/games_seeker/data/raw/amazon_chasis_para...</td>\n    </tr>\n    <tr>\n      <th>1</th>\n      <td>MUSETEX Phantom Negro ATX Mid-Tower computador...</td>\n      <td>Chasis</td>\n      <td>Office</td>\n      <td>Low</td>\n      <td>US</td>\n      <td>109.0</td>\n      <td>https://www.amazon.com/-/es/Mid-Tower-computad...</td>\n      <td>/work/games_seeker/data/raw/amazon_chasis_para...</td>\n    </tr>\n    <tr>\n      <th>2</th>\n      <td>Vetroo A03 Mid-Tower ATX Gaming PC Case preins...</td>\n      <td>Chasis</td>\n      <td>Office</td>\n      <td>Low</td>\n      <td>US</td>\n      <td>109.0</td>\n      <td>https://www.amazon.com/-/es/gp/slredirect/pica...</td>\n      <td>/work/games_seeker/data/raw/amazon_chasis_para...</td>\n    </tr>\n    <tr>\n      <th>3</th>\n      <td>Razer Tomahawk ATX - Funda para juegos de medi...</td>\n      <td>Chasis</td>\n      <td>Office</td>\n      <td>Low</td>\n      <td>US</td>\n      <td>199.0</td>\n      <td>https://www.amazon.com/-/es/Razer-Tomahawk-ATX...</td>\n      <td>/work/games_seeker/data/raw/amazon_chasis_para...</td>\n    </tr>\n    <tr>\n      <th>4</th>\n      <td>Thermaltake Nivel 20 HT - Torre de computadora...</td>\n      <td>Chasis</td>\n      <td>Gamer</td>\n      <td>Mid</td>\n      <td>US</td>\n      <td>299.0</td>\n      <td>https://www.amazon.com/-/es/Thermaltake-Nivel-...</td>\n      <td>/work/games_seeker/data/raw/amazon_chasis_para...</td>\n    </tr>\n    <tr>\n      <th>...</th>\n      <td>...</td>\n      <td>...</td>\n      <td>...</td>\n      <td>...</td>\n      <td>...</td>\n      <td>...</td>\n      <td>...</td>\n      <td>...</td>\n    </tr>\n    <tr>\n      <th>916</th>\n      <td>Seagate FireCuda 2TB unidad híbrida de estado ...</td>\n      <td>Storage</td>\n      <td>Gamer</td>\n      <td>High</td>\n      <td>US</td>\n      <td>199.0</td>\n      <td>https://www.amazon.com/-/es/Seagate-FireCuda-u...</td>\n      <td>/work/games_seeker/data/raw/amazon_hdd_interno...</td>\n    </tr>\n    <tr>\n      <th>917</th>\n      <td>Seagate Cheetah SAS 16 MB Cache 2.5-Inch inter...</td>\n      <td>Storage</td>\n      <td>Gamer</td>\n      <td>Mid</td>\n      <td>US</td>\n      <td>54.0</td>\n      <td>https://www.amazon.com/-/es/2-5-Inch-bare-oem-...</td>\n      <td>/work/games_seeker/data/raw/amazon_hdd_interno...</td>\n    </tr>\n    <tr>\n      <th>918</th>\n      <td>Western Digital 3TB SATA 6 Gb/s 3.5\"</td>\n      <td>Storage</td>\n      <td>Gamer</td>\n      <td>High</td>\n      <td>US</td>\n      <td>148.0</td>\n      <td>https://www.amazon.com/-/es/Western-Digital-3T...</td>\n      <td>/work/games_seeker/data/raw/amazon_hdd_interno...</td>\n    </tr>\n    <tr>\n      <th>919</th>\n      <td>Seagate Cheetah 10K.7 ST3300007FC - Disco duro...</td>\n      <td>Storage</td>\n      <td>Gamer</td>\n      <td>High</td>\n      <td>US</td>\n      <td>104.0</td>\n      <td>https://www.amazon.com/-/es/Seagate-Cheetah-10...</td>\n      <td>/work/games_seeker/data/raw/amazon_hdd_interno...</td>\n    </tr>\n    <tr>\n      <th>920</th>\n      <td>Capacidad de la empresa (restaurado certificad...</td>\n      <td>Storage</td>\n      <td>Office</td>\n      <td>Mid</td>\n      <td>US</td>\n      <td>37.0</td>\n      <td>https://www.amazon.com/-/es/Capacidad-empresa-...</td>\n      <td>/work/games_seeker/data/raw/amazon_hdd_interno...</td>\n    </tr>\n  </tbody>\n</table>\n<p>921 rows × 8 columns</p>\n</div>"
     },
     "metadata": {}
    }
   ]
  },
  {
   "cell_type": "code",
   "metadata": {
    "cell_id": "1d5ac6a9-c121-4127-9cfc-b710dabeb284",
    "tags": [],
    "deepnote_to_be_reexecuted": false,
    "source_hash": "8291ba3f",
    "execution_start": 1647042437429,
    "execution_millis": 75,
    "deepnote_cell_type": "code",
    "deepnote_cell_height": 81
   },
   "source": "df.to_csv(\"/work/games_seeker/data/interim/pc_components.csv\", sep=\"|\", index=False)",
   "execution_count": null,
   "outputs": []
  },
  {
   "cell_type": "code",
   "metadata": {
    "cell_id": "20b1ed0b-37df-4342-af17-17e3512fe922",
    "tags": [],
    "deepnote_cell_type": "code",
    "deepnote_cell_height": 66
   },
   "source": "",
   "execution_count": null,
   "outputs": []
  },
  {
   "cell_type": "markdown",
   "source": "<a style='text-decoration:none;line-height:16px;display:flex;color:#5B5B62;padding:10px;justify-content:end;' href='https://deepnote.com?utm_source=created-in-deepnote-cell&projectId=07e29549-6cbf-4e88-b69c-0fc48f2d6023' target=\"_blank\">\n<img alt='Created in deepnote.com' style='display:inline;max-height:16px;margin:0px;margin-right:7.5px;' src='data:image/svg+xml;base64,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' > </img>\nCreated in <span style='font-weight:600;margin-left:4px;'>Deepnote</span></a>",
   "metadata": {
    "tags": [],
    "created_in_deepnote_cell": true,
    "deepnote_cell_type": "markdown"
   }
  }
 ],
 "nbformat": 4,
 "nbformat_minor": 0,
 "metadata": {
  "kernelspec": {
   "display_name": "Python 3",
   "language": "python",
   "name": "python3"
  },
  "language_info": {
   "codemirror_mode": {
    "name": "ipython",
    "version": 2
   },
   "file_extension": ".py",
   "mimetype": "text/x-python",
   "name": "python",
   "nbconvert_exporter": "python",
   "pygments_lexer": "ipython2",
   "version": "2.7.6"
  },
  "deepnote_notebook_id": "4a6dbee9-5061-4e1e-86e5-8c5bdcbb7052",
  "deepnote": {},
  "deepnote_execution_queue": []
 }
}