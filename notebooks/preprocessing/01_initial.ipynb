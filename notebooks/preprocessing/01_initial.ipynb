{
 "cells": [
  {
   "cell_type": "code",
   "execution_count": 44,
   "metadata": {
    "collapsed": true
   },
   "outputs": [],
   "source": [
    "import pathlib\n",
    "import pandas as pd"
   ]
  },
  {
   "cell_type": "markdown",
   "source": [
    "# Lectura de archivos"
   ],
   "metadata": {
    "collapsed": false
   }
  },
  {
   "cell_type": "code",
   "execution_count": 66,
   "outputs": [],
   "source": [
    "def read_datasets(files_to_read):\n",
    "    dataframes = {}\n",
    "    not_working = []\n",
    "    for file in files_to_read:\n",
    "        try:\n",
    "            df = pd.read_csv(file, sep=\"|\")\n",
    "            df[\"origin\"] = file\n",
    "            dataframes[file.split(\"\\\\\")[-1]] = df\n",
    "        except Exception as e:\n",
    "            print(e)\n",
    "            not_working.append(file)\n",
    "\n",
    "    return dataframes, not_working"
   ],
   "metadata": {
    "collapsed": false,
    "pycharm": {
     "name": "#%%\n"
    }
   }
  },
  {
   "cell_type": "code",
   "execution_count": 67,
   "outputs": [],
   "source": [
    "files = list(pathlib.Path(\"..\").joinpath(\"data\").joinpath(\"raw\").iterdir())\n",
    "files = list(filter(lambda x: not str(x).split(\"\\\\\")[-1].startswith(\".\"), files))\n",
    "files = list(map(lambda x: str(x), files))"
   ],
   "metadata": {
    "collapsed": false,
    "pycharm": {
     "name": "#%%\n"
    }
   }
  },
  {
   "cell_type": "code",
   "execution_count": 68,
   "outputs": [],
   "source": [
    "dfs, nw = read_datasets(files)"
   ],
   "metadata": {
    "collapsed": false,
    "pycharm": {
     "name": "#%%\n"
    }
   }
  },
  {
   "cell_type": "code",
   "execution_count": 71,
   "outputs": [
    {
     "data": {
      "text/plain": "                                                 title symbol  price  \\\n0    Gonine Fuente de alimentación de 24 V 2.5 A, a...    US$     17   \n1    Fuente de alimentación PSU de 2000 W para comp...    US$    198   \n2    Corsair Series Watt Gold 80+ – Fuente de alime...    US$    114   \n3    Fuente de alimentaci&oacute;n 400W 100 N1 0400...    US$     53   \n4    EVGA 700 BQ, 80+ Bronce 700W, Semi modular, ve...    US$     68   \n..                                                 ...    ...    ...   \n231  24pin ATX placa madre RGB extensión fuente de ...    US$     27   \n232  Paquete de 2 adaptadores de fuente de alimenta...    US$     15   \n233  SilverStone Technology Fuente de alimentación ...    US$    149   \n234  CORSAIR Serie RM (2021), RM750, 750 W, certifi...    US$    114   \n235  Adaptador de fuente de alimentación de repuest...    US$     63   \n\n                                                  link  \\\n0    https://www.amazon.com/-/es/gp/slredirect/pica...   \n1    https://www.amazon.com/-/es/gp/slredirect/pica...   \n2    https://www.amazon.com/-/es/Corsair-Watt-Gold-...   \n3    https://www.amazon.com/-/es/Fuente-alimentaci%...   \n4    https://www.amazon.com/-/es/Bronce-modular-ven...   \n..                                                 ...   \n231  https://www.amazon.com/-/es/extensi%C3%B3n-ali...   \n232  https://www.amazon.com/-/es/adaptadores-alimen...   \n233  https://www.amazon.com/-/es/SilverStone-Techno...   \n234  https://www.amazon.com/-/es/gp/slredirect/pica...   \n235  https://www.amazon.com/-/es/gp/slredirect/pica...   \n\n                                                origin  \n0    ..\\data\\raw\\amazon_fuentes_de_alimentacion_par...  \n1    ..\\data\\raw\\amazon_fuentes_de_alimentacion_par...  \n2    ..\\data\\raw\\amazon_fuentes_de_alimentacion_par...  \n3    ..\\data\\raw\\amazon_fuentes_de_alimentacion_par...  \n4    ..\\data\\raw\\amazon_fuentes_de_alimentacion_par...  \n..                                                 ...  \n231  ..\\data\\raw\\amazon_fuentes_de_alimentacion_par...  \n232  ..\\data\\raw\\amazon_fuentes_de_alimentacion_par...  \n233  ..\\data\\raw\\amazon_fuentes_de_alimentacion_par...  \n234  ..\\data\\raw\\amazon_fuentes_de_alimentacion_par...  \n235  ..\\data\\raw\\amazon_fuentes_de_alimentacion_par...  \n\n[236 rows x 5 columns]",
      "text/html": "<div>\n<style scoped>\n    .dataframe tbody tr th:only-of-type {\n        vertical-align: middle;\n    }\n\n    .dataframe tbody tr th {\n        vertical-align: top;\n    }\n\n    .dataframe thead th {\n        text-align: right;\n    }\n</style>\n<table border=\"1\" class=\"dataframe\">\n  <thead>\n    <tr style=\"text-align: right;\">\n      <th></th>\n      <th>title</th>\n      <th>symbol</th>\n      <th>price</th>\n      <th>link</th>\n      <th>origin</th>\n    </tr>\n  </thead>\n  <tbody>\n    <tr>\n      <th>0</th>\n      <td>Gonine Fuente de alimentación de 24 V 2.5 A, a...</td>\n      <td>US$</td>\n      <td>17</td>\n      <td>https://www.amazon.com/-/es/gp/slredirect/pica...</td>\n      <td>..\\data\\raw\\amazon_fuentes_de_alimentacion_par...</td>\n    </tr>\n    <tr>\n      <th>1</th>\n      <td>Fuente de alimentación PSU de 2000 W para comp...</td>\n      <td>US$</td>\n      <td>198</td>\n      <td>https://www.amazon.com/-/es/gp/slredirect/pica...</td>\n      <td>..\\data\\raw\\amazon_fuentes_de_alimentacion_par...</td>\n    </tr>\n    <tr>\n      <th>2</th>\n      <td>Corsair Series Watt Gold 80+ – Fuente de alime...</td>\n      <td>US$</td>\n      <td>114</td>\n      <td>https://www.amazon.com/-/es/Corsair-Watt-Gold-...</td>\n      <td>..\\data\\raw\\amazon_fuentes_de_alimentacion_par...</td>\n    </tr>\n    <tr>\n      <th>3</th>\n      <td>Fuente de alimentaci&amp;oacute;n 400W 100 N1 0400...</td>\n      <td>US$</td>\n      <td>53</td>\n      <td>https://www.amazon.com/-/es/Fuente-alimentaci%...</td>\n      <td>..\\data\\raw\\amazon_fuentes_de_alimentacion_par...</td>\n    </tr>\n    <tr>\n      <th>4</th>\n      <td>EVGA 700 BQ, 80+ Bronce 700W, Semi modular, ve...</td>\n      <td>US$</td>\n      <td>68</td>\n      <td>https://www.amazon.com/-/es/Bronce-modular-ven...</td>\n      <td>..\\data\\raw\\amazon_fuentes_de_alimentacion_par...</td>\n    </tr>\n    <tr>\n      <th>...</th>\n      <td>...</td>\n      <td>...</td>\n      <td>...</td>\n      <td>...</td>\n      <td>...</td>\n    </tr>\n    <tr>\n      <th>231</th>\n      <td>24pin ATX placa madre RGB extensión fuente de ...</td>\n      <td>US$</td>\n      <td>27</td>\n      <td>https://www.amazon.com/-/es/extensi%C3%B3n-ali...</td>\n      <td>..\\data\\raw\\amazon_fuentes_de_alimentacion_par...</td>\n    </tr>\n    <tr>\n      <th>232</th>\n      <td>Paquete de 2 adaptadores de fuente de alimenta...</td>\n      <td>US$</td>\n      <td>15</td>\n      <td>https://www.amazon.com/-/es/adaptadores-alimen...</td>\n      <td>..\\data\\raw\\amazon_fuentes_de_alimentacion_par...</td>\n    </tr>\n    <tr>\n      <th>233</th>\n      <td>SilverStone Technology Fuente de alimentación ...</td>\n      <td>US$</td>\n      <td>149</td>\n      <td>https://www.amazon.com/-/es/SilverStone-Techno...</td>\n      <td>..\\data\\raw\\amazon_fuentes_de_alimentacion_par...</td>\n    </tr>\n    <tr>\n      <th>234</th>\n      <td>CORSAIR Serie RM (2021), RM750, 750 W, certifi...</td>\n      <td>US$</td>\n      <td>114</td>\n      <td>https://www.amazon.com/-/es/gp/slredirect/pica...</td>\n      <td>..\\data\\raw\\amazon_fuentes_de_alimentacion_par...</td>\n    </tr>\n    <tr>\n      <th>235</th>\n      <td>Adaptador de fuente de alimentación de repuest...</td>\n      <td>US$</td>\n      <td>63</td>\n      <td>https://www.amazon.com/-/es/gp/slredirect/pica...</td>\n      <td>..\\data\\raw\\amazon_fuentes_de_alimentacion_par...</td>\n    </tr>\n  </tbody>\n</table>\n<p>236 rows × 5 columns</p>\n</div>"
     },
     "execution_count": 71,
     "metadata": {},
     "output_type": "execute_result"
    }
   ],
   "source": [],
   "metadata": {
    "collapsed": false,
    "pycharm": {
     "name": "#%%\n"
    }
   }
  },
  {
   "cell_type": "code",
   "execution_count": null,
   "outputs": [],
   "source": [],
   "metadata": {
    "collapsed": false,
    "pycharm": {
     "name": "#%%\n"
    }
   }
  }
 ],
 "metadata": {
  "kernelspec": {
   "display_name": "Python 3",
   "language": "python",
   "name": "python3"
  },
  "language_info": {
   "codemirror_mode": {
    "name": "ipython",
    "version": 2
   },
   "file_extension": ".py",
   "mimetype": "text/x-python",
   "name": "python",
   "nbconvert_exporter": "python",
   "pygments_lexer": "ipython2",
   "version": "2.7.6"
  }
 },
 "nbformat": 4,
 "nbformat_minor": 0
}