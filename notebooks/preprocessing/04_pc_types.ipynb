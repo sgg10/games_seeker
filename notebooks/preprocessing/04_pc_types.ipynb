{
 "cells": [
  {
   "cell_type": "code",
   "metadata": {
    "tags": [],
    "cell_id": "3a05c6c0-f91c-4750-804b-24b16da324d5",
    "deepnote_to_be_reexecuted": false,
    "source_hash": "9a010d68",
    "execution_start": 1648410159786,
    "execution_millis": 3463409,
    "deepnote_cell_type": "code",
    "deepnote_cell_height": 135
   },
   "source": "from itertools import product\n\nimport pandas as pd\nimport numpy as np",
   "execution_count": 1,
   "outputs": []
  },
  {
   "cell_type": "markdown",
   "source": "# Funciones",
   "metadata": {
    "cell_id": "05e14801c68c440db152a92b1b8c8a2d",
    "tags": [],
    "is_collapsed": false,
    "deepnote_cell_type": "text-cell-h1"
   }
  },
  {
   "cell_type": "code",
   "source": "def generate_options(type_pc, cpu_range, cpu_gen_range, cpu_series, ram_range, hdd, ssd, gpu_serie=None, gpu_model=None, enable_ti=False, without_gpu=False):\n    cpus = [\n        f\"{cpu}-{gen}-{serie}\"\n        for cpu in range(3,8,2)\n        for gen in range(5,12)\n        for serie in cpu_series\n    ]\n\n    if not without_gpu:\n\n        gpu_without_ti = [\n            f\"{serie}{model}\"\n            for serie in gpu_serie\n            for model in gpu_model    \n        ]\n        gpu_with_ti = []\n        if enable_ti:\n            gpu_with_ti = [f\"{gpu}-TI\" for gpu in gpu_without_ti]\n        gpu = gpu_without_ti + gpu_with_ti\n    else:\n        gpu = [-1]\n\n    ram = list(ram_range)\n\n    return list(product(cpus, ram, gpu, hdd, ssd, [type_pc]))",
   "metadata": {
    "cell_id": "4843de5d798d49f09d193fec82b5194c",
    "tags": [],
    "deepnote_to_be_reexecuted": false,
    "source_hash": "68874a3d",
    "execution_start": 1648410159845,
    "execution_millis": 3463453,
    "deepnote_cell_type": "code",
    "deepnote_cell_height": 513
   },
   "outputs": [],
   "execution_count": 2
  },
  {
   "cell_type": "markdown",
   "source": "# Creación ",
   "metadata": {
    "cell_id": "baf57c8501e7407aa165a1b7608e3abd",
    "tags": [],
    "is_collapsed": false,
    "deepnote_cell_type": "text-cell-h1"
   }
  },
  {
   "cell_type": "code",
   "source": "pcs = []",
   "metadata": {
    "cell_id": "aeb2aed25b5048859db5e01069dcdb76",
    "tags": [],
    "deepnote_to_be_reexecuted": false,
    "source_hash": "6a070d8e",
    "execution_start": 1648410159846,
    "execution_millis": 3463452,
    "deepnote_cell_type": "code",
    "deepnote_cell_height": 81
   },
   "outputs": [],
   "execution_count": 3
  },
  {
   "cell_type": "markdown",
   "source": "## Ofimatica",
   "metadata": {
    "cell_id": "abd716a7df774d1387995b31883d9663",
    "tags": [],
    "is_collapsed": false,
    "deepnote_cell_type": "text-cell-h2"
   }
  },
  {
   "cell_type": "code",
   "source": "pcs = [\n    *pcs,\n    *generate_options(\"Ofimatica\", range(3,6,2), range(5,8), [\"Q\", \"B\", \"U\"], range(2, 9), [500, 750, 1024], [0, 128, 256], without_gpu=True)\n]",
   "metadata": {
    "cell_id": "860d6b1b6e4144d99518395c07ebcaa6",
    "tags": [],
    "deepnote_to_be_reexecuted": false,
    "source_hash": "5f6b2f39",
    "execution_start": 1648410159869,
    "execution_millis": 3463509,
    "deepnote_cell_type": "code",
    "deepnote_cell_height": 135
   },
   "outputs": [],
   "execution_count": 4
  },
  {
   "cell_type": "markdown",
   "source": "## Gamer",
   "metadata": {
    "cell_id": "1679f522cc2f4e718b0bb78170e0aee2",
    "tags": [],
    "is_collapsed": false,
    "deepnote_cell_type": "text-cell-h2"
   }
  },
  {
   "cell_type": "code",
   "source": "pcs = [\n    *pcs,\n    *generate_options(\n        \"Gamer\",\n        range(5,10,2),\n        range(8,13),\n        [\"H\", \"Z\"],\n        range(8, 33, 4),\n        [1024*i for i in range(1,5)],\n        [2**i for i in range(7, 11)],\n        [10, 20, 30],\n        [30, 50, 60, 70, 80],\n        True\n    )\n]",
   "metadata": {
    "cell_id": "7746fad72c4f4db1af526e24ce43cb8f",
    "tags": [],
    "deepnote_to_be_reexecuted": false,
    "source_hash": "bfa300f8",
    "execution_start": 1648410159870,
    "execution_millis": 64,
    "deepnote_cell_type": "code",
    "deepnote_cell_height": 333
   },
   "outputs": [],
   "execution_count": 5
  },
  {
   "cell_type": "markdown",
   "source": "## Diseño",
   "metadata": {
    "cell_id": "5aa1b39714274938ad7c67edb5de798c",
    "tags": [],
    "is_collapsed": false,
    "deepnote_cell_type": "text-cell-h2"
   }
  },
  {
   "cell_type": "code",
   "source": "pcs = [\n    *pcs,\n    *generate_options(\n        \"Diseño\",\n        range(5,10,2),\n        range(7,13),\n        [\"H\", \"Z\"],\n        range(16, 128, 4),\n        [1024*i for i in range(2,11)],\n        [2**i for i in range(10, 13)],\n        [10, 20, 30],\n        [30, 50, 60, 70, 80],\n        True\n    )\n]",
   "metadata": {
    "cell_id": "78b0bbc419864ea7950c3677f383db1d",
    "tags": [],
    "deepnote_to_be_reexecuted": false,
    "source_hash": "3ae841a4",
    "execution_start": 1648410159947,
    "execution_millis": 387,
    "deepnote_cell_type": "code",
    "deepnote_cell_height": 333,
    "deepnote_output_heights": [
     611
    ]
   },
   "outputs": [],
   "execution_count": 6
  },
  {
   "cell_type": "markdown",
   "source": "# Prepocesamiento",
   "metadata": {
    "cell_id": "76e4b800b6a8418c9037150c547d9be1",
    "tags": [],
    "is_collapsed": false,
    "deepnote_cell_type": "text-cell-h1"
   }
  },
  {
   "cell_type": "code",
   "source": "df_base = pd.DataFrame(pcs, columns=[\"CPU\", \"RAM\", \"GPU\", \"HDD\", \"SSD\", \"TARGET\"])",
   "metadata": {
    "cell_id": "664ff83dc44247abaa3a9f9d471d65e6",
    "tags": [],
    "deepnote_to_be_reexecuted": false,
    "source_hash": "fa4d6d3",
    "execution_start": 1648410160337,
    "execution_millis": 3151,
    "deepnote_cell_type": "code",
    "deepnote_cell_height": 81,
    "deepnote_output_heights": [
     611
    ]
   },
   "outputs": [],
   "execution_count": 7
  },
  {
   "cell_type": "code",
   "source": "df = df_base.copy(deep=True)",
   "metadata": {
    "cell_id": "80f0606a255046909e3f328ef3319b4d",
    "tags": [],
    "deepnote_to_be_reexecuted": false,
    "source_hash": "e7d3895",
    "execution_start": 1648410163536,
    "execution_millis": 55,
    "deepnote_cell_type": "code",
    "deepnote_cell_height": 81
   },
   "outputs": [],
   "execution_count": 8
  },
  {
   "cell_type": "code",
   "source": "df[\"CPU_GEN\"] = df[\"CPU\"].apply(lambda cpu: cpu.split(\"-\")[1])\ndf[\"CPU_SERIE\"] = df[\"CPU\"].apply(lambda cpu: cpu.split(\"-\")[-1])\ndf[\"CPU\"] = df[\"CPU\"].apply(lambda cpu: cpu.split(\"-\")[0])",
   "metadata": {
    "cell_id": "8d1be303acd94fb8a7c664d352fde234",
    "tags": [],
    "deepnote_to_be_reexecuted": false,
    "source_hash": "e629d639",
    "execution_start": 1648410163653,
    "execution_millis": 3517,
    "deepnote_cell_type": "code",
    "deepnote_cell_height": 117,
    "deepnote_output_heights": [
     232.25
    ]
   },
   "outputs": [],
   "execution_count": 9
  },
  {
   "cell_type": "code",
   "source": "df[\"GPU_TI\"] = df[\"GPU\"].apply(lambda gpu: 1 if \"TI\" in str(gpu) else 0)\ndf[\"GPU\"] = df[\"GPU\"].apply(lambda gpu: int(gpu) if str(gpu).isnumeric() or gpu == -1 else int(gpu.split(\"-\")[0]))",
   "metadata": {
    "cell_id": "c100b94a858c447ebb97b111f3394de4",
    "tags": [],
    "deepnote_to_be_reexecuted": false,
    "source_hash": "2a9360f1",
    "execution_start": 1648410167206,
    "execution_millis": 5251,
    "deepnote_cell_type": "code",
    "deepnote_cell_height": 99,
    "deepnote_output_heights": [
     97.9375
    ]
   },
   "outputs": [],
   "execution_count": 10
  },
  {
   "cell_type": "code",
   "source": "COLUMNS_ORDER = [\"CPU\", \"CPU_GEN\", \"CPU_SERIE\", \"RAM\", \"GPU\", \"GPU_TI\", \"HDD\", \"SSD\", \"TARGET\"]",
   "metadata": {
    "cell_id": "3e79dbbfedcb44c98ec2f2f31586ccfd",
    "tags": [],
    "deepnote_to_be_reexecuted": false,
    "source_hash": "98b3bc85",
    "execution_start": 1648410172476,
    "execution_millis": 10,
    "deepnote_cell_type": "code",
    "deepnote_cell_height": 81
   },
   "outputs": [],
   "execution_count": 11
  },
  {
   "cell_type": "code",
   "source": "df = df[COLUMNS_ORDER]",
   "metadata": {
    "cell_id": "381e2853704e4e50b466552b156d5090",
    "tags": [],
    "deepnote_to_be_reexecuted": false,
    "source_hash": "acad2823",
    "execution_start": 1648410172514,
    "execution_millis": 404,
    "deepnote_table_state": {
     "pageSize": 10,
     "pageIndex": 0,
     "filters": [],
     "sortBy": []
    },
    "deepnote_table_loading": false,
    "deepnote_cell_type": "code",
    "deepnote_cell_height": 81,
    "deepnote_output_heights": [
     21.1875
    ]
   },
   "outputs": [],
   "execution_count": 12
  },
  {
   "cell_type": "code",
   "source": "df",
   "metadata": {
    "cell_id": "1aaca8c808bd41c3bea611296bcf2b38",
    "tags": [],
    "deepnote_to_be_reexecuted": false,
    "source_hash": "f804c160",
    "execution_start": 1648410172937,
    "execution_millis": 508,
    "deepnote_cell_type": "code",
    "deepnote_cell_height": 598
   },
   "outputs": [
    {
     "output_type": "execute_result",
     "execution_count": 13,
     "data": {
      "application/vnd.deepnote.dataframe.v3+json": {
       "column_count": 9,
       "row_count": 1097649,
       "columns": [
        {
         "name": "CPU",
         "dtype": "object"
        },
        {
         "name": "CPU_GEN",
         "dtype": "object"
        },
        {
         "name": "CPU_SERIE",
         "dtype": "object"
        },
        {
         "name": "RAM",
         "dtype": "int64"
        },
        {
         "name": "GPU",
         "dtype": "int64"
        },
        {
         "name": "GPU_TI",
         "dtype": "int64"
        },
        {
         "name": "HDD",
         "dtype": "int64"
        },
        {
         "name": "SSD",
         "dtype": "int64"
        },
        {
         "name": "TARGET",
         "dtype": "object"
        },
        {
         "name": "_deepnote_index_column",
         "dtype": "int64"
        }
       ],
       "rows": [
        {
         "CPU": "3",
         "CPU_GEN": "5",
         "CPU_SERIE": "Q",
         "RAM": 2,
         "GPU": -1,
         "GPU_TI": 0,
         "HDD": 500,
         "SSD": 0,
         "TARGET": "Ofimatica",
         "_deepnote_index_column": 0
        },
        {
         "CPU": "3",
         "CPU_GEN": "5",
         "CPU_SERIE": "Q",
         "RAM": 2,
         "GPU": -1,
         "GPU_TI": 0,
         "HDD": 500,
         "SSD": 128,
         "TARGET": "Ofimatica",
         "_deepnote_index_column": 1
        },
        {
         "CPU": "3",
         "CPU_GEN": "5",
         "CPU_SERIE": "Q",
         "RAM": 2,
         "GPU": -1,
         "GPU_TI": 0,
         "HDD": 500,
         "SSD": 256,
         "TARGET": "Ofimatica",
         "_deepnote_index_column": 2
        },
        {
         "CPU": "3",
         "CPU_GEN": "5",
         "CPU_SERIE": "Q",
         "RAM": 2,
         "GPU": -1,
         "GPU_TI": 0,
         "HDD": 750,
         "SSD": 0,
         "TARGET": "Ofimatica",
         "_deepnote_index_column": 3
        },
        {
         "CPU": "3",
         "CPU_GEN": "5",
         "CPU_SERIE": "Q",
         "RAM": 2,
         "GPU": -1,
         "GPU_TI": 0,
         "HDD": 750,
         "SSD": 128,
         "TARGET": "Ofimatica",
         "_deepnote_index_column": 4
        },
        {
         "CPU": "3",
         "CPU_GEN": "5",
         "CPU_SERIE": "Q",
         "RAM": 2,
         "GPU": -1,
         "GPU_TI": 0,
         "HDD": 750,
         "SSD": 256,
         "TARGET": "Ofimatica",
         "_deepnote_index_column": 5
        },
        {
         "CPU": "3",
         "CPU_GEN": "5",
         "CPU_SERIE": "Q",
         "RAM": 2,
         "GPU": -1,
         "GPU_TI": 0,
         "HDD": 1024,
         "SSD": 0,
         "TARGET": "Ofimatica",
         "_deepnote_index_column": 6
        },
        {
         "CPU": "3",
         "CPU_GEN": "5",
         "CPU_SERIE": "Q",
         "RAM": 2,
         "GPU": -1,
         "GPU_TI": 0,
         "HDD": 1024,
         "SSD": 128,
         "TARGET": "Ofimatica",
         "_deepnote_index_column": 7
        },
        {
         "CPU": "3",
         "CPU_GEN": "5",
         "CPU_SERIE": "Q",
         "RAM": 2,
         "GPU": -1,
         "GPU_TI": 0,
         "HDD": 1024,
         "SSD": 256,
         "TARGET": "Ofimatica",
         "_deepnote_index_column": 8
        },
        {
         "CPU": "3",
         "CPU_GEN": "5",
         "CPU_SERIE": "Q",
         "RAM": 3,
         "GPU": -1,
         "GPU_TI": 0,
         "HDD": 500,
         "SSD": 0,
         "TARGET": "Ofimatica",
         "_deepnote_index_column": 9
        }
       ]
      },
      "text/plain": "        CPU CPU_GEN CPU_SERIE  RAM   GPU  GPU_TI    HDD   SSD     TARGET\n0         3       5         Q    2    -1       0    500     0  Ofimatica\n1         3       5         Q    2    -1       0    500   128  Ofimatica\n2         3       5         Q    2    -1       0    500   256  Ofimatica\n3         3       5         Q    2    -1       0    750     0  Ofimatica\n4         3       5         Q    2    -1       0    750   128  Ofimatica\n...      ..     ...       ...  ...   ...     ...    ...   ...        ...\n1097644   7      11         Z  124  3080       1   9216  2048     Diseño\n1097645   7      11         Z  124  3080       1   9216  4096     Diseño\n1097646   7      11         Z  124  3080       1  10240  1024     Diseño\n1097647   7      11         Z  124  3080       1  10240  2048     Diseño\n1097648   7      11         Z  124  3080       1  10240  4096     Diseño\n\n[1097649 rows x 9 columns]",
      "text/html": "<div>\n<style scoped>\n    .dataframe tbody tr th:only-of-type {\n        vertical-align: middle;\n    }\n\n    .dataframe tbody tr th {\n        vertical-align: top;\n    }\n\n    .dataframe thead th {\n        text-align: right;\n    }\n</style>\n<table border=\"1\" class=\"dataframe\">\n  <thead>\n    <tr style=\"text-align: right;\">\n      <th></th>\n      <th>CPU</th>\n      <th>CPU_GEN</th>\n      <th>CPU_SERIE</th>\n      <th>RAM</th>\n      <th>GPU</th>\n      <th>GPU_TI</th>\n      <th>HDD</th>\n      <th>SSD</th>\n      <th>TARGET</th>\n    </tr>\n  </thead>\n  <tbody>\n    <tr>\n      <th>0</th>\n      <td>3</td>\n      <td>5</td>\n      <td>Q</td>\n      <td>2</td>\n      <td>-1</td>\n      <td>0</td>\n      <td>500</td>\n      <td>0</td>\n      <td>Ofimatica</td>\n    </tr>\n    <tr>\n      <th>1</th>\n      <td>3</td>\n      <td>5</td>\n      <td>Q</td>\n      <td>2</td>\n      <td>-1</td>\n      <td>0</td>\n      <td>500</td>\n      <td>128</td>\n      <td>Ofimatica</td>\n    </tr>\n    <tr>\n      <th>2</th>\n      <td>3</td>\n      <td>5</td>\n      <td>Q</td>\n      <td>2</td>\n      <td>-1</td>\n      <td>0</td>\n      <td>500</td>\n      <td>256</td>\n      <td>Ofimatica</td>\n    </tr>\n    <tr>\n      <th>3</th>\n      <td>3</td>\n      <td>5</td>\n      <td>Q</td>\n      <td>2</td>\n      <td>-1</td>\n      <td>0</td>\n      <td>750</td>\n      <td>0</td>\n      <td>Ofimatica</td>\n    </tr>\n    <tr>\n      <th>4</th>\n      <td>3</td>\n      <td>5</td>\n      <td>Q</td>\n      <td>2</td>\n      <td>-1</td>\n      <td>0</td>\n      <td>750</td>\n      <td>128</td>\n      <td>Ofimatica</td>\n    </tr>\n    <tr>\n      <th>...</th>\n      <td>...</td>\n      <td>...</td>\n      <td>...</td>\n      <td>...</td>\n      <td>...</td>\n      <td>...</td>\n      <td>...</td>\n      <td>...</td>\n      <td>...</td>\n    </tr>\n    <tr>\n      <th>1097644</th>\n      <td>7</td>\n      <td>11</td>\n      <td>Z</td>\n      <td>124</td>\n      <td>3080</td>\n      <td>1</td>\n      <td>9216</td>\n      <td>2048</td>\n      <td>Diseño</td>\n    </tr>\n    <tr>\n      <th>1097645</th>\n      <td>7</td>\n      <td>11</td>\n      <td>Z</td>\n      <td>124</td>\n      <td>3080</td>\n      <td>1</td>\n      <td>9216</td>\n      <td>4096</td>\n      <td>Diseño</td>\n    </tr>\n    <tr>\n      <th>1097646</th>\n      <td>7</td>\n      <td>11</td>\n      <td>Z</td>\n      <td>124</td>\n      <td>3080</td>\n      <td>1</td>\n      <td>10240</td>\n      <td>1024</td>\n      <td>Diseño</td>\n    </tr>\n    <tr>\n      <th>1097647</th>\n      <td>7</td>\n      <td>11</td>\n      <td>Z</td>\n      <td>124</td>\n      <td>3080</td>\n      <td>1</td>\n      <td>10240</td>\n      <td>2048</td>\n      <td>Diseño</td>\n    </tr>\n    <tr>\n      <th>1097648</th>\n      <td>7</td>\n      <td>11</td>\n      <td>Z</td>\n      <td>124</td>\n      <td>3080</td>\n      <td>1</td>\n      <td>10240</td>\n      <td>4096</td>\n      <td>Diseño</td>\n    </tr>\n  </tbody>\n</table>\n<p>1097649 rows × 9 columns</p>\n</div>"
     },
     "metadata": {}
    }
   ],
   "execution_count": 13
  },
  {
   "cell_type": "code",
   "source": "df.to_csv(\"/work/games_seeker/data/interim/types_of_pc.csv\", sep=\"|\", index=False)",
   "metadata": {
    "cell_id": "8610ebd5fc444e3e800822058a26e2fa",
    "tags": [],
    "deepnote_to_be_reexecuted": false,
    "source_hash": "db78fe15",
    "execution_start": 1648410173421,
    "execution_millis": 7352,
    "deepnote_cell_type": "code",
    "deepnote_cell_height": 81
   },
   "outputs": [],
   "execution_count": 14
  },
  {
   "cell_type": "code",
   "source": "",
   "metadata": {
    "cell_id": "881c15d856a4422f81792b6420320240",
    "tags": [],
    "deepnote_to_be_reexecuted": false,
    "source_hash": "b623e53d",
    "execution_start": 1648410180790,
    "execution_millis": 4,
    "deepnote_cell_type": "code",
    "deepnote_cell_height": 81
   },
   "outputs": [],
   "execution_count": 14
  },
  {
   "cell_type": "markdown",
   "source": "<a style='text-decoration:none;line-height:16px;display:flex;color:#5B5B62;padding:10px;justify-content:end;' href='https://deepnote.com?utm_source=created-in-deepnote-cell&projectId=07e29549-6cbf-4e88-b69c-0fc48f2d6023' target=\"_blank\">\n<img alt='Created in deepnote.com' style='display:inline;max-height:16px;margin:0px;margin-right:7.5px;' src='data:image/svg+xml;base64,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' > </img>\nCreated in <span style='font-weight:600;margin-left:4px;'>Deepnote</span></a>",
   "metadata": {
    "tags": [],
    "created_in_deepnote_cell": true,
    "deepnote_cell_type": "markdown"
   }
  }
 ],
 "nbformat": 4,
 "nbformat_minor": 2,
 "metadata": {
  "orig_nbformat": 2,
  "deepnote": {
   "is_reactive": false
  },
  "deepnote_notebook_id": "749e0bdd-c6e9-4d43-856a-d577f76331c9",
  "deepnote_execution_queue": []
 }
}