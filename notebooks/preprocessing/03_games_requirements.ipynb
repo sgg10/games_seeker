{
 "cells": [
  {
   "cell_type": "code",
   "metadata": {
    "tags": [],
    "cell_id": "b38319c4-a025-4f4c-be93-b4ec68550b02",
    "deepnote_to_be_reexecuted": false,
    "source_hash": "c87a206",
    "execution_start": 1647213428737,
    "execution_millis": 0,
    "deepnote_cell_type": "code",
    "deepnote_cell_height": 117
   },
   "source": "import re\nimport pandas as pd\nimport numpy as np",
   "outputs": [],
   "execution_count": null
  },
  {
   "cell_type": "code",
   "metadata": {
    "cell_id": "585e9e08-13b4-4583-a74c-a8c7fef34c75",
    "tags": [],
    "deepnote_to_be_reexecuted": false,
    "source_hash": "65d44117",
    "execution_start": 1647213428738,
    "execution_millis": 36,
    "deepnote_cell_type": "code",
    "deepnote_cell_height": 81
   },
   "source": "df = pd.read_csv(\"/work/games_seeker/data/raw/juegos.csv\", sep=\"|\")",
   "outputs": [],
   "execution_count": null
  },
  {
   "cell_type": "markdown",
   "source": "# Completado de datos",
   "metadata": {
    "cell_id": "af20f4ee-8f84-4c15-afd2-d562cf88cd2b",
    "tags": [],
    "is_collapsed": false,
    "deepnote_cell_type": "text-cell-h1",
    "deepnote_cell_height": 82
   }
  },
  {
   "cell_type": "code",
   "metadata": {
    "cell_id": "eb65fb8e-5d85-46a6-8e3c-e89216fffe34",
    "tags": [],
    "deepnote_to_be_reexecuted": false,
    "source_hash": "657ba17",
    "execution_start": 1647213428774,
    "execution_millis": 0,
    "deepnote_cell_type": "code",
    "deepnote_cell_height": 81
   },
   "source": "df = df[~(~(df[\"Sistema operativo\"].notnull()) & ~(df[\"Procesador\"].notnull()) & ~(df[\"Memoria\"].notnull()) & ~(df[\"Gráficos\"].notnull()))]",
   "outputs": [],
   "execution_count": null
  },
  {
   "cell_type": "code",
   "metadata": {
    "cell_id": "db247319-6ec0-4e00-bdc0-669d52b98235",
    "tags": [],
    "deepnote_to_be_reexecuted": false,
    "source_hash": "a191f578",
    "execution_start": 1647213428775,
    "execution_millis": 0,
    "deepnote_table_state": {
     "pageSize": 10,
     "pageIndex": 0,
     "filters": [],
     "sortBy": []
    },
    "deepnote_table_loading": false,
    "deepnote_cell_type": "code",
    "deepnote_cell_height": 81
   },
   "source": "df[\"Sistema operativo\"][~(df[\"Sistema operativo\"].notnull())] = \"Windows 7 de 64-bit\"",
   "outputs": [],
   "execution_count": null
  },
  {
   "cell_type": "code",
   "metadata": {
    "cell_id": "d4691009-f549-4dcb-8410-1b3c98352956",
    "tags": [],
    "deepnote_to_be_reexecuted": false,
    "source_hash": "75b02dff",
    "execution_start": 1647213428776,
    "execution_millis": 1,
    "deepnote_cell_type": "code",
    "deepnote_cell_height": 99
   },
   "source": "df[\"Sistema operativo\"] = df[\"Sistema operativo\"].apply(lambda x: \"Windows 7\" if \"xp\" in x.lower() else x)\ndf[\"Sistema operativo\"] = df[\"Sistema operativo\"].apply(lambda x: \"Windows 7\" if \"vista\" in x.lower() else x)",
   "outputs": [],
   "execution_count": null
  },
  {
   "cell_type": "code",
   "metadata": {
    "cell_id": "4c7d366e-e2a2-4624-a200-ead92247df9a",
    "tags": [],
    "deepnote_to_be_reexecuted": false,
    "source_hash": "1d740328",
    "execution_start": 1647213428780,
    "execution_millis": 1,
    "deepnote_cell_type": "code",
    "deepnote_cell_height": 81
   },
   "source": "df[\"Procesador\"][~(df[\"Procesador\"].notnull())] = \"i5 / R5\"",
   "outputs": [],
   "execution_count": null
  },
  {
   "cell_type": "code",
   "metadata": {
    "cell_id": "9a9edfd3-bdcd-4e3f-b2b7-48baa7aca0e5",
    "tags": [],
    "deepnote_to_be_reexecuted": false,
    "source_hash": "124f8cc7",
    "execution_start": 1647213428786,
    "execution_millis": 4,
    "deepnote_cell_type": "code",
    "deepnote_cell_height": 81
   },
   "source": "df[\"Memoria\"][~(df[\"Memoria\"].notnull())] = \"8 GB\"",
   "outputs": [],
   "execution_count": null
  },
  {
   "cell_type": "code",
   "metadata": {
    "cell_id": "c5db0be9-e06b-4eb3-b5da-e2db5a6b965b",
    "tags": [],
    "deepnote_to_be_reexecuted": false,
    "source_hash": "7b5b7908",
    "execution_start": 1647213428792,
    "execution_millis": 8,
    "deepnote_table_state": {
     "pageSize": 10,
     "pageIndex": 0,
     "filters": [],
     "sortBy": []
    },
    "deepnote_table_loading": false,
    "deepnote_cell_type": "code",
    "deepnote_cell_height": 81
   },
   "source": "df[\"Gráficos\"][~(df[\"Gráficos\"].notnull())] = \"1060\"",
   "outputs": [],
   "execution_count": null
  },
  {
   "cell_type": "code",
   "metadata": {
    "cell_id": "959cf730-a547-4367-8a26-8c619b0e2e03",
    "tags": [],
    "deepnote_to_be_reexecuted": false,
    "source_hash": "4fe6be72",
    "execution_start": 1647213428806,
    "execution_millis": 5,
    "deepnote_cell_type": "code",
    "deepnote_cell_height": 81
   },
   "source": "df[\"Almacenamiento\"][~(df[\"Almacenamiento\"].notnull())] = \"80 GB\"",
   "outputs": [],
   "execution_count": null
  },
  {
   "cell_type": "code",
   "metadata": {
    "cell_id": "cb2fd4ca-b4a6-46a4-9712-e2d815c9df4c",
    "tags": [],
    "deepnote_to_be_reexecuted": false,
    "source_hash": "f804c160",
    "execution_start": 1647213428853,
    "execution_millis": 5,
    "deepnote_table_state": {
     "pageSize": 10,
     "pageIndex": 8,
     "filters": [],
     "sortBy": []
    },
    "deepnote_table_loading": false,
    "deepnote_cell_type": "code",
    "deepnote_cell_height": 615
   },
   "source": "df",
   "outputs": [
    {
     "output_type": "execute_result",
     "execution_count": 10,
     "data": {
      "application/vnd.deepnote.dataframe.v3+json": {
       "column_count": 7,
       "row_count": 385,
       "columns": [
        {
         "name": "name",
         "dtype": "object",
         "stats": {
          "unique_count": 384,
          "nan_count": 0,
          "categories": [
           {
            "name": "The Elder Scrolls Online",
            "count": 2
           },
           {
            "name": "Elden Ring",
            "count": 1
           },
           {
            "name": "382 others",
            "count": 382
           }
          ]
         }
        },
        {
         "name": "url",
         "dtype": "object",
         "stats": {
          "unique_count": 385,
          "nan_count": 0,
          "categories": [
           {
            "name": "https://www.3djuegos.com/34802/elden-ring/",
            "count": 1
           },
           {
            "name": "https://www.3djuegos.com/20774/lost-ark/",
            "count": 1
           },
           {
            "name": "383 others",
            "count": 383
           }
          ]
         }
        },
        {
         "name": "Sistema operativo",
         "dtype": "object",
         "stats": {
          "unique_count": 109,
          "nan_count": 0,
          "categories": [
           {
            "name": "Windows 7",
            "count": 140
           },
           {
            "name": "Windows 7 de 64-bit",
            "count": 51
           },
           {
            "name": "107 others",
            "count": 194
           }
          ]
         }
        },
        {
         "name": "Procesador",
         "dtype": "object",
         "stats": {
          "unique_count": 320,
          "nan_count": 0,
          "categories": [
           {
            "name": "i5 / R5",
            "count": 21
           },
           {
            "name": " Intel Core i5",
            "count": 5
           },
           {
            "name": "318 others",
            "count": 359
           }
          ]
         }
        },
        {
         "name": "Memoria",
         "dtype": "object",
         "stats": {
          "unique_count": 62,
          "nan_count": 0,
          "categories": [
           {
            "name": " 4 GB de RAM",
            "count": 54
           },
           {
            "name": " 8 GB de RAM",
            "count": 52
           },
           {
            "name": "60 others",
            "count": 279
           }
          ]
         }
        },
        {
         "name": "Gráficos",
         "dtype": "object",
         "stats": {
          "unique_count": 224,
          "nan_count": 0,
          "categories": [
           {
            "name": "1060",
            "count": 149
           },
           {
            "name": " NVIDIA GTX 970",
            "count": 3
           },
           {
            "name": "222 others",
            "count": 233
           }
          ]
         }
        },
        {
         "name": "Almacenamiento",
         "dtype": "object",
         "stats": {
          "unique_count": 70,
          "nan_count": 0,
          "categories": [
           {
            "name": "80 GB",
            "count": 153
           },
           {
            "name": " 1 GB de espacio disponible",
            "count": 26
           },
           {
            "name": "68 others",
            "count": 206
           }
          ]
         }
        },
        {
         "name": "_deepnote_index_column",
         "dtype": "int64"
        }
       ],
       "rows": [
        {
         "name": "Star Wars: Battlefront 2",
         "url": "https://www.3djuegos.com/25457/star-wars-battlefront-2/",
         "Sistema operativo": " Windows 7 SP1 / Windows 8.1 / Windows 10 (64-bit)",
         "Procesador": " AMD FX 6350 / Intel Core i5 6600K",
         "Memoria": " 8GB RAM",
         "Gráficos": "1060",
         "Almacenamiento": "80 GB",
         "_deepnote_index_column": 124
        },
        {
         "name": "La Tierra Media: Sombras de Guerra",
         "url": "https://www.3djuegos.com/28763/la-tierra-media-sombras-de-guerra/",
         "Sistema operativo": "Windows 7 de 64-bit",
         "Procesador": " Intel i5- 2550K, 3.4 GHz",
         "Memoria": " 8 GB RAM",
         "Gráficos": " GeForce 670 | Radeon HD 7950",
         "Almacenamiento": "80 GB",
         "_deepnote_index_column": 126
        },
        {
         "name": "Pathfinder: Wrath of the Righteous",
         "url": "https://www.3djuegos.com/35849/pathfinder-wrath-of-the-righteous/",
         "Sistema operativo": " Windows 7 (64-bit)",
         "Procesador": " Intel(R) Core(TM) i3-2310M CPU a 2.10GHz",
         "Memoria": " 6 GB de RAM",
         "Gráficos": " Intel(R) Intel HD Graphics 620",
         "Almacenamiento": " 50 GB de espacio disponible",
         "_deepnote_index_column": 130
        },
        {
         "name": "Mutant Mudds: Grannie Edition",
         "url": "https://www.3djuegos.com/14283/mutant-mudds-grannie-edition/",
         "Sistema operativo": "Windows 7",
         "Procesador": " 1.8 Ghz",
         "Memoria": " 512 MB RAM (1GB recomendado)",
         "Gráficos": "1060",
         "Almacenamiento": "80 GB",
         "_deepnote_index_column": 132
        },
        {
         "name": "Mafia: Edición Definitiva",
         "url": "https://www.3djuegos.com/36753/mafia-edicion-definitiva/",
         "Sistema operativo": " Windows 10 (64-Bit)",
         "Procesador": " Intel i5 2550 K / AMD FX-8120",
         "Memoria": " 6 GB de RAM",
         "Gráficos": "1060",
         "Almacenamiento": " 50 GB",
         "_deepnote_index_column": 133
        },
        {
         "name": "The Waylanders",
         "url": "https://www.3djuegos.com/33453/the-waylanders/",
         "Sistema operativo": " Windows 7, Windows 8 (8.1) o Windows 10 (64-bits)",
         "Procesador": " Intel CPU Core i5-7600K 3.8Ghz / Ryzen 7 1700",
         "Memoria": " 8 GB de RAM",
         "Gráficos": " Nvidia GTX 1060",
         "Almacenamiento": " 40 GB de espacio disponible",
         "_deepnote_index_column": 139
        },
        {
         "name": "Project Zomboid",
         "url": "https://www.3djuegos.com/12383/project-zomboid/",
         "Sistema operativo": "Windows 7",
         "Procesador": " Intel 2.77GHz Quad Core",
         "Memoria": " 2GB Ram",
         "Gráficos": "1060",
         "Almacenamiento": "80 GB",
         "_deepnote_index_column": 140
        },
        {
         "name": "Watch Dogs Legion",
         "url": "https://www.3djuegos.com/34742/watch-dogs-legion/",
         "Sistema operativo": " Windows 10 (64-bit)",
         "Procesador": " Intel Core i5-8400 2.8 GHz, AMD Ryzen 5 2600 3.4 GHz",
         "Memoria": " 16 GB RAM",
         "Gráficos": "1060",
         "Almacenamiento": "80 GB",
         "_deepnote_index_column": 144
        },
        {
         "name": "Distant Worlds 2",
         "url": "https://www.3djuegos.com/40522/distant-worlds-2/",
         "Sistema operativo": " Windows 8, 10 (64-bit)",
         "Procesador": " 4+ Core CPU @ 2.5GHz",
         "Memoria": " 8 GB de RAM",
         "Gráficos": " NVidia GTX 760 o superior, 2+Gb VRAM, soporte para DirectX 11",
         "Almacenamiento": " 20 GB de espacio disponible",
         "_deepnote_index_column": 152
        },
        {
         "name": "Alice: Madness Returns",
         "url": "https://www.3djuegos.com/5078/alice-madness-returns/",
         "Sistema operativo": "Windows 7",
         "Procesador": " Intel Core 2 Duo (o equivalente) a 1.60 GHz o superior; AMD Athlon X2 (o equivalente) a 1.60 GHz o…",
         "Memoria": " 2 GB de RAM",
         "Gráficos": " *nVidia GeForce 7600 con 256 MB de RAM o ATI Radeon X1650 con 256 MB o superior",
         "Almacenamiento": "80 GB",
         "_deepnote_index_column": 155
        }
       ]
      },
      "text/plain": "                           name  \\\n0                    Elden Ring   \n1                      Lost Ark   \n2                        ELEX 2   \n4                Babylon's Fall   \n5        Total War: Warhammer 3   \n..                          ...   \n978  Dark Shadows: Army of Evil   \n981                    404Sight   \n986                   Red Ocean   \n994                Back to Gaya   \n997                   Beatbuddy   \n\n                                                   url  \\\n0           https://www.3djuegos.com/34802/elden-ring/   \n1             https://www.3djuegos.com/20774/lost-ark/   \n2               https://www.3djuegos.com/39382/elex-2/   \n4        https://www.3djuegos.com/32561/babylons-fall/   \n5    https://www.3djuegos.com/38238/total-war-warha...   \n..                                                 ...   \n978  https://www.3djuegos.com/14549/dark-shadows-ar...   \n981           https://www.3djuegos.com/22131/404sight/   \n986           https://www.3djuegos.com/2341/red-ocean/   \n994        https://www.3djuegos.com/1572/back-to-gaya/   \n997  https://www.3djuegos.com/16837/beatbuddy-tale-...   \n\n          Sistema operativo  \\\n0      Windows 10 de 64-bit   \n1     Windows 10 de 64-bits   \n2      Windows 10 de 64-bit   \n4      Windows 10 de 64-bit   \n5       Windows 7 de 64-bit   \n..                      ...   \n978               Windows 7   \n981             Windows 7/8   \n986     Windows 7 de 64-bit   \n994     Windows 7 de 64-bit   \n997               Windows 7   \n\n                                            Procesador        Memoria  \\\n0                  Intel I5-8400 o AMD Ryzen 5 3 3300X   12 GB de RAM   \n1                               Intel i3 o AMD Ryzen 3    8 GB de RAM   \n2                AMD Ryzen 3 3100 / Intel Core i5-7400   12 GB de RAM   \n4     Intel Core i5-7600K / Intel Core i5-10400F / ...    8 GB de RAM   \n5                              Intel i3/Ryzen 3 series    6 GB de RAM   \n..                                                 ...            ...   \n978               Intel Core 2 Duo con 2 GHz o similar       2 GB RAM   \n981                        Intel Core 2 Quad CPU Q6600       4 GB RAM   \n986                                            1.8 GHz     512 MB RAM   \n994                                            1.2 GHz     256 MB RAM   \n997                                1.8 GHz (dual core)       2 GB RAM   \n\n                                              Gráficos  \\\n0     Nvidia GeForce GTX 1060 3 GB o AMD Radeon RX ...   \n1                  NVIDIA GeForce GTX 460 / AMD HD6850   \n2                 Radeon RX 5600 XT / Geforce GTX 1060   \n4     NVIDIA GeForce GTX1650 / NVIDIA GeForce GTX10...   \n5     Nvidia GTX 900/AMD RX 400 series | Intel Iris...   \n..                                                 ...   \n978                                               1060   \n981                                               1060   \n986                                               1060   \n994                                               1060   \n997                                               1060   \n\n                    Almacenamiento  \n0      60 GB de espacio disponible  \n1      50 GB de espacio disponible  \n2      45 GB de espacio disponible  \n4      20 GB de espacio disponible  \n5     120 GB de espacio disponible  \n..                             ...  \n978                          80 GB  \n981                          80 GB  \n986                          80 GB  \n994                          80 GB  \n997                          80 GB  \n\n[385 rows x 7 columns]",
      "text/html": "<div>\n<style scoped>\n    .dataframe tbody tr th:only-of-type {\n        vertical-align: middle;\n    }\n\n    .dataframe tbody tr th {\n        vertical-align: top;\n    }\n\n    .dataframe thead th {\n        text-align: right;\n    }\n</style>\n<table border=\"1\" class=\"dataframe\">\n  <thead>\n    <tr style=\"text-align: right;\">\n      <th></th>\n      <th>name</th>\n      <th>url</th>\n      <th>Sistema operativo</th>\n      <th>Procesador</th>\n      <th>Memoria</th>\n      <th>Gráficos</th>\n      <th>Almacenamiento</th>\n    </tr>\n  </thead>\n  <tbody>\n    <tr>\n      <th>0</th>\n      <td>Elden Ring</td>\n      <td>https://www.3djuegos.com/34802/elden-ring/</td>\n      <td>Windows 10 de 64-bit</td>\n      <td>Intel I5-8400 o AMD Ryzen 5 3 3300X</td>\n      <td>12 GB de RAM</td>\n      <td>Nvidia GeForce GTX 1060 3 GB o AMD Radeon RX ...</td>\n      <td>60 GB de espacio disponible</td>\n    </tr>\n    <tr>\n      <th>1</th>\n      <td>Lost Ark</td>\n      <td>https://www.3djuegos.com/20774/lost-ark/</td>\n      <td>Windows 10 de 64-bits</td>\n      <td>Intel i3 o AMD Ryzen 3</td>\n      <td>8 GB de RAM</td>\n      <td>NVIDIA GeForce GTX 460 / AMD HD6850</td>\n      <td>50 GB de espacio disponible</td>\n    </tr>\n    <tr>\n      <th>2</th>\n      <td>ELEX 2</td>\n      <td>https://www.3djuegos.com/39382/elex-2/</td>\n      <td>Windows 10 de 64-bit</td>\n      <td>AMD Ryzen 3 3100 / Intel Core i5-7400</td>\n      <td>12 GB de RAM</td>\n      <td>Radeon RX 5600 XT / Geforce GTX 1060</td>\n      <td>45 GB de espacio disponible</td>\n    </tr>\n    <tr>\n      <th>4</th>\n      <td>Babylon's Fall</td>\n      <td>https://www.3djuegos.com/32561/babylons-fall/</td>\n      <td>Windows 10 de 64-bit</td>\n      <td>Intel Core i5-7600K / Intel Core i5-10400F / ...</td>\n      <td>8 GB de RAM</td>\n      <td>NVIDIA GeForce GTX1650 / NVIDIA GeForce GTX10...</td>\n      <td>20 GB de espacio disponible</td>\n    </tr>\n    <tr>\n      <th>5</th>\n      <td>Total War: Warhammer 3</td>\n      <td>https://www.3djuegos.com/38238/total-war-warha...</td>\n      <td>Windows 7 de 64-bit</td>\n      <td>Intel i3/Ryzen 3 series</td>\n      <td>6 GB de RAM</td>\n      <td>Nvidia GTX 900/AMD RX 400 series | Intel Iris...</td>\n      <td>120 GB de espacio disponible</td>\n    </tr>\n    <tr>\n      <th>...</th>\n      <td>...</td>\n      <td>...</td>\n      <td>...</td>\n      <td>...</td>\n      <td>...</td>\n      <td>...</td>\n      <td>...</td>\n    </tr>\n    <tr>\n      <th>978</th>\n      <td>Dark Shadows: Army of Evil</td>\n      <td>https://www.3djuegos.com/14549/dark-shadows-ar...</td>\n      <td>Windows 7</td>\n      <td>Intel Core 2 Duo con 2 GHz o similar</td>\n      <td>2 GB RAM</td>\n      <td>1060</td>\n      <td>80 GB</td>\n    </tr>\n    <tr>\n      <th>981</th>\n      <td>404Sight</td>\n      <td>https://www.3djuegos.com/22131/404sight/</td>\n      <td>Windows 7/8</td>\n      <td>Intel Core 2 Quad CPU Q6600</td>\n      <td>4 GB RAM</td>\n      <td>1060</td>\n      <td>80 GB</td>\n    </tr>\n    <tr>\n      <th>986</th>\n      <td>Red Ocean</td>\n      <td>https://www.3djuegos.com/2341/red-ocean/</td>\n      <td>Windows 7 de 64-bit</td>\n      <td>1.8 GHz</td>\n      <td>512 MB RAM</td>\n      <td>1060</td>\n      <td>80 GB</td>\n    </tr>\n    <tr>\n      <th>994</th>\n      <td>Back to Gaya</td>\n      <td>https://www.3djuegos.com/1572/back-to-gaya/</td>\n      <td>Windows 7 de 64-bit</td>\n      <td>1.2 GHz</td>\n      <td>256 MB RAM</td>\n      <td>1060</td>\n      <td>80 GB</td>\n    </tr>\n    <tr>\n      <th>997</th>\n      <td>Beatbuddy</td>\n      <td>https://www.3djuegos.com/16837/beatbuddy-tale-...</td>\n      <td>Windows 7</td>\n      <td>1.8 GHz (dual core)</td>\n      <td>2 GB RAM</td>\n      <td>1060</td>\n      <td>80 GB</td>\n    </tr>\n  </tbody>\n</table>\n<p>385 rows × 7 columns</p>\n</div>"
     },
     "metadata": {}
    }
   ],
   "execution_count": null
  },
  {
   "cell_type": "markdown",
   "source": "# Transformaciones",
   "metadata": {
    "cell_id": "a20b45ed-eb72-4bb9-81da-276ee40b57f5",
    "tags": [],
    "is_collapsed": false,
    "deepnote_cell_type": "text-cell-h1",
    "deepnote_cell_height": 82
   }
  },
  {
   "cell_type": "code",
   "metadata": {
    "cell_id": "2421a976-3ea0-41e3-883f-a87d54e0c83e",
    "tags": [],
    "deepnote_to_be_reexecuted": false,
    "source_hash": "8792c82",
    "execution_start": 1647213428864,
    "execution_millis": 3,
    "deepnote_cell_type": "code",
    "deepnote_cell_height": 81
   },
   "source": "df = df.applymap(lambda x: x.strip())",
   "outputs": [],
   "execution_count": null
  },
  {
   "cell_type": "markdown",
   "source": "## S.O",
   "metadata": {
    "cell_id": "86ca1b71-e1e2-4ee6-b64e-3f554b96e50e",
    "tags": [],
    "is_collapsed": false,
    "deepnote_cell_type": "text-cell-h2",
    "deepnote_cell_height": 70
   }
  },
  {
   "cell_type": "code",
   "metadata": {
    "cell_id": "bf1c47d7-a0b7-4d53-974c-e821e25e1036",
    "tags": [],
    "deepnote_to_be_reexecuted": false,
    "source_hash": "a2a3e621",
    "execution_start": 1647213428871,
    "execution_millis": 1,
    "deepnote_cell_type": "code",
    "deepnote_cell_height": 171
   },
   "source": "def evaluate_so(x):\n    try:\n        n = int(re.search(r\"\\d{1,2}\", x).group())\n        return n if n < 64 else 7\n    except:\n        return 7",
   "outputs": [],
   "execution_count": null
  },
  {
   "cell_type": "code",
   "metadata": {
    "cell_id": "23fb15d6-89fa-42e7-99d9-0ca5b1f34bd9",
    "tags": [],
    "deepnote_to_be_reexecuted": false,
    "source_hash": "7421e25e",
    "execution_start": 1647213428899,
    "execution_millis": 0,
    "deepnote_cell_type": "code",
    "deepnote_cell_height": 81
   },
   "source": "df[\"Sistema operativo\"] = df[\"Sistema operativo\"].apply(evaluate_so)",
   "outputs": [],
   "execution_count": null
  },
  {
   "cell_type": "markdown",
   "source": "## CPU",
   "metadata": {
    "cell_id": "baffb272-5f2c-49aa-8a46-68050ccabb20",
    "tags": [],
    "is_collapsed": false,
    "deepnote_cell_type": "text-cell-h2",
    "deepnote_cell_height": 70
   }
  },
  {
   "cell_type": "code",
   "metadata": {
    "cell_id": "74d7ad7a-ab79-409f-8b7f-53e7d73a84e7",
    "tags": [],
    "deepnote_to_be_reexecuted": false,
    "source_hash": "e75fb5d8",
    "execution_start": 1647213428900,
    "execution_millis": 0,
    "deepnote_cell_type": "code",
    "deepnote_cell_height": 81
   },
   "source": "df[\"Procesador\"] = df[\"Procesador\"].apply(lambda x: x.replace(\"Ryzen \", \"R\"))",
   "outputs": [],
   "execution_count": null
  },
  {
   "cell_type": "code",
   "metadata": {
    "cell_id": "5ed10fdb-8e26-4176-b100-48eddf3741b4",
    "tags": [],
    "deepnote_to_be_reexecuted": false,
    "source_hash": "44ccd055",
    "execution_start": 1647213428900,
    "execution_millis": 1,
    "deepnote_cell_type": "code",
    "deepnote_cell_height": 81
   },
   "source": "df[\"Procesador\"] = df[\"Procesador\"].apply(lambda x: x.split(\" o \") if \" o \" in x else x.split(\"/\"))",
   "outputs": [],
   "execution_count": null
  },
  {
   "cell_type": "code",
   "metadata": {
    "cell_id": "bc73f582-b299-4f06-bc2c-1584b798221b",
    "tags": [],
    "deepnote_to_be_reexecuted": false,
    "source_hash": "7ca78830",
    "execution_start": 1647213428901,
    "execution_millis": 2,
    "deepnote_cell_type": "code",
    "deepnote_cell_height": 459
   },
   "source": "def evaluate_cpu(cpus):\n    intel = r\"i\\d{1}\"\n    ryzen = r\"r\\d{1}\"\n\n    new_cpus = []\n\n    for cpu in cpus:\n        cpu = cpu.lower()\n        changed = False\n        for regex in [intel, ryzen]:\n            result = re.search(regex, cpu)\n            if result:\n                cpu = result.group()\n                changed = True\n                break\n        if changed:\n            new_cpus.append(cpu)\n\n    if not new_cpus:\n        new_cpus = [\"i5\", \"r5\"]      \n        \n    return new_cpus",
   "outputs": [],
   "execution_count": null
  },
  {
   "cell_type": "code",
   "metadata": {
    "cell_id": "f327d85c-2cb7-4aef-aeb8-2be66e903b46",
    "tags": [],
    "deepnote_to_be_reexecuted": false,
    "source_hash": "f31b0139",
    "execution_start": 1647213428915,
    "execution_millis": 0,
    "deepnote_cell_type": "code",
    "deepnote_cell_height": 81
   },
   "source": "df[\"Procesador\"] = df[\"Procesador\"].apply(evaluate_cpu)",
   "outputs": [],
   "execution_count": null
  },
  {
   "cell_type": "markdown",
   "source": "## RAM",
   "metadata": {
    "cell_id": "964223bc-5433-4075-b53b-8b2fced04b63",
    "tags": [],
    "is_collapsed": false,
    "deepnote_cell_type": "text-cell-h2",
    "deepnote_cell_height": 70
   }
  },
  {
   "cell_type": "code",
   "metadata": {
    "cell_id": "1a62d227-24ac-40ab-94cf-f5ffa0cb5b42",
    "tags": [],
    "deepnote_to_be_reexecuted": false,
    "source_hash": "2d0d1b5",
    "execution_start": 1647213428916,
    "execution_millis": 3,
    "deepnote_cell_type": "code",
    "deepnote_cell_height": 99
   },
   "source": "df[\"Memoria\"] = df[\"Memoria\"].apply(lambda x: int(re.search(r\"\\d{1,2}\", x).group()))\ndf[\"Memoria\"] = df[\"Memoria\"].apply(lambda x: 16 if x > 16 else x)",
   "outputs": [],
   "execution_count": null
  },
  {
   "cell_type": "markdown",
   "source": "## Almacenamiento",
   "metadata": {
    "cell_id": "0955a504-7b59-4964-b859-582786515d4d",
    "tags": [],
    "is_collapsed": false,
    "deepnote_cell_type": "text-cell-h2",
    "deepnote_cell_height": 70
   }
  },
  {
   "cell_type": "code",
   "metadata": {
    "cell_id": "24b7b72a-4e3c-4d81-9690-9d0e13ed3f02",
    "tags": [],
    "deepnote_to_be_reexecuted": false,
    "source_hash": "b166a25f",
    "execution_start": 1647213428924,
    "execution_millis": 5,
    "deepnote_cell_type": "code",
    "deepnote_cell_height": 117
   },
   "source": "df[\"Almacenamiento\"] = df[\"Almacenamiento\"].apply(lambda x: re.search(r\"\\d{1,3} (GB|MB)\", x).group())\ndf[\"Almacenamiento\"] = df[\"Almacenamiento\"].apply(lambda x: \"1 GB\" if \"MB\" in x else x)\ndf[\"Almacenamiento\"] = df[\"Almacenamiento\"].apply(lambda x: int(x.split()[0]))",
   "outputs": [],
   "execution_count": null
  },
  {
   "cell_type": "markdown",
   "source": "## GPU",
   "metadata": {
    "cell_id": "bfd8a788-0a9c-4b0d-867e-0f37d31d47c8",
    "tags": [],
    "is_collapsed": false,
    "deepnote_cell_type": "text-cell-h2",
    "deepnote_cell_height": 70
   }
  },
  {
   "cell_type": "code",
   "metadata": {
    "cell_id": "99ad7517-4f09-40f3-9a5d-ab7977efc83e",
    "tags": [],
    "deepnote_to_be_reexecuted": false,
    "source_hash": "c13b7b85",
    "execution_start": 1647213428940,
    "execution_millis": 2,
    "deepnote_cell_type": "code",
    "deepnote_cell_height": 81
   },
   "source": "df[\"Gráficos\"] = df[\"Gráficos\"].apply(lambda x: x.replace(\" o \", \"/\").replace(\",\", \"/\").replace(\"|\", \"/\").split(\"/\"))",
   "outputs": [],
   "execution_count": null
  },
  {
   "cell_type": "code",
   "metadata": {
    "cell_id": "816b0ce9-bffc-40ea-af07-cd664f66b9f9",
    "tags": [],
    "deepnote_to_be_reexecuted": false,
    "source_hash": "ab5a65ab",
    "execution_start": 1647213428950,
    "execution_millis": 1,
    "deepnote_cell_type": "code",
    "deepnote_cell_height": 387
   },
   "source": "def evaluate_gpu(gpus):\n    regex = r\"(GTX*).+(\\b\\d{3,5})\"\n    new_gpus = []\n\n    for gpu in gpus:\n        gpu = gpu.upper()\n        changed = False\n        result = re.search(regex, gpu)\n        if result:\n            gpu = f'{result.group(1)} {result.group(2)}'\n            new_gpus.append(gpu)\n\n    if not new_gpus:\n        new_gpus = [\"GTX 1050\"]\n\n    new_gpus = list(map(lambda x: x.split()[-1],new_gpus))\n        \n    return new_gpus",
   "outputs": [],
   "execution_count": null
  },
  {
   "cell_type": "code",
   "metadata": {
    "cell_id": "7a28959b-1e66-471b-9f07-5265b02934fc",
    "tags": [],
    "deepnote_to_be_reexecuted": false,
    "source_hash": "18298a5b",
    "execution_start": 1647213428961,
    "execution_millis": 1,
    "deepnote_cell_type": "code",
    "deepnote_cell_height": 81,
    "deepnote_output_heights": [
     232.25
    ]
   },
   "source": "df[\"Gráficos\"] = df[\"Gráficos\"].apply(evaluate_gpu)",
   "outputs": [],
   "execution_count": null
  },
  {
   "cell_type": "code",
   "metadata": {
    "cell_id": "0ee1fa0a-f1c1-430b-92cf-95801268f0ef",
    "tags": [],
    "deepnote_to_be_reexecuted": false,
    "source_hash": "f804c160",
    "execution_start": 1647213428964,
    "execution_millis": 32,
    "deepnote_table_state": {
     "pageSize": 10,
     "pageIndex": 2,
     "filters": [],
     "sortBy": []
    },
    "deepnote_table_loading": false,
    "deepnote_table_invalid": false,
    "deepnote_cell_type": "code",
    "deepnote_cell_height": 615
   },
   "source": "df",
   "outputs": [
    {
     "output_type": "execute_result",
     "execution_count": 23,
     "data": {
      "application/vnd.deepnote.dataframe.v3+json": {
       "column_count": 7,
       "row_count": 385,
       "columns": [
        {
         "name": "name",
         "dtype": "object",
         "stats": {
          "unique_count": 384,
          "nan_count": 0,
          "categories": [
           {
            "name": "The Elder Scrolls Online",
            "count": 2
           },
           {
            "name": "Elden Ring",
            "count": 1
           },
           {
            "name": "382 others",
            "count": 382
           }
          ]
         }
        },
        {
         "name": "url",
         "dtype": "object",
         "stats": {
          "unique_count": 385,
          "nan_count": 0,
          "categories": [
           {
            "name": "https://www.3djuegos.com/34802/elden-ring/",
            "count": 1
           },
           {
            "name": "https://www.3djuegos.com/20774/lost-ark/",
            "count": 1
           },
           {
            "name": "383 others",
            "count": 383
           }
          ]
         }
        },
        {
         "name": "Sistema operativo",
         "dtype": "int64",
         "stats": {
          "unique_count": 3,
          "nan_count": 0,
          "min": "7",
          "max": "10",
          "histogram": [
           {
            "bin_start": 7,
            "bin_end": 7.3,
            "count": 344
           },
           {
            "bin_start": 7.3,
            "bin_end": 7.6,
            "count": 0
           },
           {
            "bin_start": 7.6,
            "bin_end": 7.9,
            "count": 0
           },
           {
            "bin_start": 7.9,
            "bin_end": 8.2,
            "count": 9
           },
           {
            "bin_start": 8.2,
            "bin_end": 8.5,
            "count": 0
           },
           {
            "bin_start": 8.5,
            "bin_end": 8.8,
            "count": 0
           },
           {
            "bin_start": 8.8,
            "bin_end": 9.1,
            "count": 0
           },
           {
            "bin_start": 9.1,
            "bin_end": 9.4,
            "count": 0
           },
           {
            "bin_start": 9.4,
            "bin_end": 9.7,
            "count": 0
           },
           {
            "bin_start": 9.7,
            "bin_end": 10,
            "count": 32
           }
          ]
         }
        },
        {
         "name": "Procesador",
         "dtype": "object",
         "stats": {
          "unique_count": 385,
          "nan_count": 0,
          "categories": [
           {
            "name": "['i5', 'r5']",
            "count": 251
           },
           {
            "name": "['i5']",
            "count": 63
           },
           {
            "name": "8 others",
            "count": 71
           }
          ]
         }
        },
        {
         "name": "Memoria",
         "dtype": "int64",
         "stats": {
          "unique_count": 9,
          "nan_count": 0,
          "min": "1",
          "max": "16",
          "histogram": [
           {
            "bin_start": 1,
            "bin_end": 2.5,
            "count": 147
           },
           {
            "bin_start": 2.5,
            "bin_end": 4,
            "count": 6
           },
           {
            "bin_start": 4,
            "bin_end": 5.5,
            "count": 68
           },
           {
            "bin_start": 5.5,
            "bin_end": 7,
            "count": 21
           },
           {
            "bin_start": 7,
            "bin_end": 8.5,
            "count": 85
           },
           {
            "bin_start": 8.5,
            "bin_end": 10,
            "count": 0
           },
           {
            "bin_start": 10,
            "bin_end": 11.5,
            "count": 2
           },
           {
            "bin_start": 11.5,
            "bin_end": 13,
            "count": 9
           },
           {
            "bin_start": 13,
            "bin_end": 14.5,
            "count": 0
           },
           {
            "bin_start": 14.5,
            "bin_end": 16,
            "count": 47
           }
          ]
         }
        },
        {
         "name": "Gráficos",
         "dtype": "object",
         "stats": {
          "unique_count": 385,
          "nan_count": 0,
          "categories": [
           {
            "name": "['1050']",
            "count": 289
           },
           {
            "name": "['970']",
            "count": 10
           },
           {
            "name": "37 others",
            "count": 86
           }
          ]
         }
        },
        {
         "name": "Almacenamiento",
         "dtype": "int64",
         "stats": {
          "unique_count": 36,
          "nan_count": 0,
          "min": "1",
          "max": "150",
          "histogram": [
           {
            "bin_start": 1,
            "bin_end": 15.9,
            "count": 178
           },
           {
            "bin_start": 15.9,
            "bin_end": 30.8,
            "count": 19
           },
           {
            "bin_start": 30.8,
            "bin_end": 45.7,
            "count": 9
           },
           {
            "bin_start": 45.7,
            "bin_end": 60.6,
            "count": 15
           },
           {
            "bin_start": 60.6,
            "bin_end": 75.5,
            "count": 3
           },
           {
            "bin_start": 75.5,
            "bin_end": 90.4,
            "count": 156
           },
           {
            "bin_start": 90.4,
            "bin_end": 105.3,
            "count": 2
           },
           {
            "bin_start": 105.3,
            "bin_end": 120.2,
            "count": 2
           },
           {
            "bin_start": 120.2,
            "bin_end": 135.1,
            "count": 0
           },
           {
            "bin_start": 135.1,
            "bin_end": 150,
            "count": 1
           }
          ]
         }
        },
        {
         "name": "_deepnote_index_column",
         "dtype": "int64"
        }
       ],
       "rows": [
        {
         "name": "Street Fighter V",
         "url": "https://www.3djuegos.com/20946/street-fighter-v/",
         "Sistema operativo": 7,
         "Procesador": "['i3']",
         "Memoria": 6,
         "Gráficos": "['1050']",
         "Almacenamiento": 80,
         "_deepnote_index_column": 28
        },
        {
         "name": "The Witcher 3: Wild Hunt",
         "url": "https://www.3djuegos.com/15476/the-witcher-3-wild-hunt/",
         "Sistema operativo": 7,
         "Procesador": "['i5']",
         "Memoria": 6,
         "Gráficos": "['1050']",
         "Almacenamiento": 80,
         "_deepnote_index_column": 29
        },
        {
         "name": "Age of Empires IV",
         "url": "https://www.3djuegos.com/30277/age-of-empires-iv/",
         "Sistema operativo": 10,
         "Procesador": "['i5', 'r5']",
         "Memoria": 8,
         "Gráficos": "['1050']",
         "Almacenamiento": 50,
         "_deepnote_index_column": 30
        },
        {
         "name": "GRID Legends",
         "url": "https://www.3djuegos.com/39643/grid-legends/",
         "Sistema operativo": 10,
         "Procesador": "['i3']",
         "Memoria": 8,
         "Gráficos": "['950']",
         "Almacenamiento": 50,
         "_deepnote_index_column": 31
        },
        {
         "name": "Battlefield 2042",
         "url": "https://www.3djuegos.com/37072/battlefield-2042/",
         "Sistema operativo": 7,
         "Procesador": "['i5']",
         "Memoria": 6,
         "Gráficos": "['760']",
         "Almacenamiento": 10,
         "_deepnote_index_column": 32
        },
        {
         "name": "Forza Horizon 5",
         "url": "https://www.3djuegos.com/39332/forza-horizon-5/",
         "Sistema operativo": 10,
         "Procesador": "['i5', 'r3']",
         "Memoria": 8,
         "Gráficos": "['970']",
         "Almacenamiento": 110,
         "_deepnote_index_column": 33
        },
        {
         "name": "ArmA 3",
         "url": "https://www.3djuegos.com/11358/arma-3/",
         "Sistema operativo": 7,
         "Procesador": "['i5', 'r5']",
         "Memoria": 2,
         "Gráficos": "['1050']",
         "Almacenamiento": 80,
         "_deepnote_index_column": 34
        },
        {
         "name": "Far Cry 6",
         "url": "https://www.3djuegos.com/37184/far-cry-6/",
         "Sistema operativo": 7,
         "Procesador": "['r3', 'i5']",
         "Memoria": 8,
         "Gráficos": "['1050']",
         "Almacenamiento": 80,
         "_deepnote_index_column": 35
        },
        {
         "name": "Submerged: Hidden Depths",
         "url": "https://www.3djuegos.com/39661/submerged-hidden-depths/",
         "Sistema operativo": 10,
         "Procesador": "['i5', 'r5']",
         "Memoria": 6,
         "Gráficos": "['260']",
         "Almacenamiento": 12,
         "_deepnote_index_column": 36
        },
        {
         "name": "Fortnite",
         "url": "https://www.3djuegos.com/14269/fortnite/",
         "Sistema operativo": 7,
         "Procesador": "['i3']",
         "Memoria": 4,
         "Gráficos": "['1050']",
         "Almacenamiento": 80,
         "_deepnote_index_column": 39
        }
       ]
      },
      "text/plain": "                           name  \\\n0                    Elden Ring   \n1                      Lost Ark   \n2                        ELEX 2   \n4                Babylon's Fall   \n5        Total War: Warhammer 3   \n..                          ...   \n978  Dark Shadows: Army of Evil   \n981                    404Sight   \n986                   Red Ocean   \n994                Back to Gaya   \n997                   Beatbuddy   \n\n                                                   url  Sistema operativo  \\\n0           https://www.3djuegos.com/34802/elden-ring/                 10   \n1             https://www.3djuegos.com/20774/lost-ark/                 10   \n2               https://www.3djuegos.com/39382/elex-2/                 10   \n4        https://www.3djuegos.com/32561/babylons-fall/                 10   \n5    https://www.3djuegos.com/38238/total-war-warha...                  7   \n..                                                 ...                ...   \n978  https://www.3djuegos.com/14549/dark-shadows-ar...                  7   \n981           https://www.3djuegos.com/22131/404sight/                  7   \n986           https://www.3djuegos.com/2341/red-ocean/                  7   \n994        https://www.3djuegos.com/1572/back-to-gaya/                  7   \n997  https://www.3djuegos.com/16837/beatbuddy-tale-...                  7   \n\n           Procesador  Memoria Gráficos  Almacenamiento  \n0            [i5, r5]       12   [1060]              60  \n1            [i3, r3]        8    [460]              50  \n2            [r3, i5]       12   [1060]              45  \n4    [i5, i5, r3, r5]        8   [1050]              20  \n5            [i3, r3]        6    [900]             120  \n..                ...      ...      ...             ...  \n978          [i5, r5]        2   [1050]              80  \n981          [i5, r5]        4   [1050]              80  \n986          [i5, r5]       16   [1050]              80  \n994          [i5, r5]       16   [1050]              80  \n997          [i5, r5]        2   [1050]              80  \n\n[385 rows x 7 columns]",
      "text/html": "<div>\n<style scoped>\n    .dataframe tbody tr th:only-of-type {\n        vertical-align: middle;\n    }\n\n    .dataframe tbody tr th {\n        vertical-align: top;\n    }\n\n    .dataframe thead th {\n        text-align: right;\n    }\n</style>\n<table border=\"1\" class=\"dataframe\">\n  <thead>\n    <tr style=\"text-align: right;\">\n      <th></th>\n      <th>name</th>\n      <th>url</th>\n      <th>Sistema operativo</th>\n      <th>Procesador</th>\n      <th>Memoria</th>\n      <th>Gráficos</th>\n      <th>Almacenamiento</th>\n    </tr>\n  </thead>\n  <tbody>\n    <tr>\n      <th>0</th>\n      <td>Elden Ring</td>\n      <td>https://www.3djuegos.com/34802/elden-ring/</td>\n      <td>10</td>\n      <td>[i5, r5]</td>\n      <td>12</td>\n      <td>[1060]</td>\n      <td>60</td>\n    </tr>\n    <tr>\n      <th>1</th>\n      <td>Lost Ark</td>\n      <td>https://www.3djuegos.com/20774/lost-ark/</td>\n      <td>10</td>\n      <td>[i3, r3]</td>\n      <td>8</td>\n      <td>[460]</td>\n      <td>50</td>\n    </tr>\n    <tr>\n      <th>2</th>\n      <td>ELEX 2</td>\n      <td>https://www.3djuegos.com/39382/elex-2/</td>\n      <td>10</td>\n      <td>[r3, i5]</td>\n      <td>12</td>\n      <td>[1060]</td>\n      <td>45</td>\n    </tr>\n    <tr>\n      <th>4</th>\n      <td>Babylon's Fall</td>\n      <td>https://www.3djuegos.com/32561/babylons-fall/</td>\n      <td>10</td>\n      <td>[i5, i5, r3, r5]</td>\n      <td>8</td>\n      <td>[1050]</td>\n      <td>20</td>\n    </tr>\n    <tr>\n      <th>5</th>\n      <td>Total War: Warhammer 3</td>\n      <td>https://www.3djuegos.com/38238/total-war-warha...</td>\n      <td>7</td>\n      <td>[i3, r3]</td>\n      <td>6</td>\n      <td>[900]</td>\n      <td>120</td>\n    </tr>\n    <tr>\n      <th>...</th>\n      <td>...</td>\n      <td>...</td>\n      <td>...</td>\n      <td>...</td>\n      <td>...</td>\n      <td>...</td>\n      <td>...</td>\n    </tr>\n    <tr>\n      <th>978</th>\n      <td>Dark Shadows: Army of Evil</td>\n      <td>https://www.3djuegos.com/14549/dark-shadows-ar...</td>\n      <td>7</td>\n      <td>[i5, r5]</td>\n      <td>2</td>\n      <td>[1050]</td>\n      <td>80</td>\n    </tr>\n    <tr>\n      <th>981</th>\n      <td>404Sight</td>\n      <td>https://www.3djuegos.com/22131/404sight/</td>\n      <td>7</td>\n      <td>[i5, r5]</td>\n      <td>4</td>\n      <td>[1050]</td>\n      <td>80</td>\n    </tr>\n    <tr>\n      <th>986</th>\n      <td>Red Ocean</td>\n      <td>https://www.3djuegos.com/2341/red-ocean/</td>\n      <td>7</td>\n      <td>[i5, r5]</td>\n      <td>16</td>\n      <td>[1050]</td>\n      <td>80</td>\n    </tr>\n    <tr>\n      <th>994</th>\n      <td>Back to Gaya</td>\n      <td>https://www.3djuegos.com/1572/back-to-gaya/</td>\n      <td>7</td>\n      <td>[i5, r5]</td>\n      <td>16</td>\n      <td>[1050]</td>\n      <td>80</td>\n    </tr>\n    <tr>\n      <th>997</th>\n      <td>Beatbuddy</td>\n      <td>https://www.3djuegos.com/16837/beatbuddy-tale-...</td>\n      <td>7</td>\n      <td>[i5, r5]</td>\n      <td>2</td>\n      <td>[1050]</td>\n      <td>80</td>\n    </tr>\n  </tbody>\n</table>\n<p>385 rows × 7 columns</p>\n</div>"
     },
     "metadata": {}
    }
   ],
   "execution_count": null
  },
  {
   "cell_type": "code",
   "metadata": {
    "cell_id": "1c3a4e56-e619-4bb1-91eb-ee6e9050b00d",
    "tags": [],
    "deepnote_to_be_reexecuted": false,
    "source_hash": "fbb1c9bd",
    "execution_start": 1647213429000,
    "execution_millis": 7,
    "deepnote_cell_type": "code",
    "deepnote_cell_height": 99
   },
   "source": "\ndf.to_csv(\"/work/games_seeker/data/interim/games_requirements.csv\", sep=\"|\", index=False)",
   "outputs": [],
   "execution_count": null
  },
  {
   "cell_type": "code",
   "metadata": {
    "cell_id": "2932c78c-e5b8-4361-9188-d35a755b0f0e",
    "tags": [],
    "deepnote_to_be_reexecuted": false,
    "source_hash": "b623e53d",
    "execution_start": 1647213429053,
    "execution_millis": 0,
    "deepnote_cell_type": "code",
    "deepnote_cell_height": 81
   },
   "source": "",
   "outputs": [],
   "execution_count": null
  },
  {
   "cell_type": "markdown",
   "source": "<a style='text-decoration:none;line-height:16px;display:flex;color:#5B5B62;padding:10px;justify-content:end;' href='https://deepnote.com?utm_source=created-in-deepnote-cell&projectId=07e29549-6cbf-4e88-b69c-0fc48f2d6023' target=\"_blank\">\n<img alt='Created in deepnote.com' style='display:inline;max-height:16px;margin:0px;margin-right:7.5px;' src='data:image/svg+xml;base64,PD94bWwgdmVyc2lvbj0iMS4wIiBlbmNvZGluZz0iVVRGLTgiPz4KPHN2ZyB3aWR0aD0iODBweCIgaGVpZ2h0PSI4MHB4IiB2aWV3Qm94PSIwIDAgODAgODAiIHZlcnNpb249IjEuMSIgeG1sbnM9Imh0dHA6Ly93d3cudzMub3JnLzIwMDAvc3ZnIiB4bWxuczp4bGluaz0iaHR0cDovL3d3dy53My5vcmcvMTk5OS94bGluayI+CiAgICA8IS0tIEdlbmVyYXRvcjogU2tldGNoIDU0LjEgKDc2NDkwKSAtIGh0dHBzOi8vc2tldGNoYXBwLmNvbSAtLT4KICAgIDx0aXRsZT5Hcm91cCAzPC90aXRsZT4KICAgIDxkZXNjPkNyZWF0ZWQgd2l0aCBTa2V0Y2guPC9kZXNjPgogICAgPGcgaWQ9IkxhbmRpbmciIHN0cm9rZT0ibm9uZSIgc3Ryb2tlLXdpZHRoPSIxIiBmaWxsPSJub25lIiBmaWxsLXJ1bGU9ImV2ZW5vZGQiPgogICAgICAgIDxnIGlkPSJBcnRib2FyZCIgdHJhbnNmb3JtPSJ0cmFuc2xhdGUoLTEyMzUuMDAwMDAwLCAtNzkuMDAwMDAwKSI+CiAgICAgICAgICAgIDxnIGlkPSJHcm91cC0zIiB0cmFuc2Zvcm09InRyYW5zbGF0ZSgxMjM1LjAwMDAwMCwgNzkuMDAwMDAwKSI+CiAgICAgICAgICAgICAgICA8cG9seWdvbiBpZD0iUGF0aC0yMCIgZmlsbD0iIzAyNjVCNCIgcG9pbnRzPSIyLjM3NjIzNzYyIDgwIDM4LjA0NzY2NjcgODAgNTcuODIxNzgyMiA3My44MDU3NTkyIDU3LjgyMTc4MjIgMzIuNzU5MjczOSAzOS4xNDAyMjc4IDMxLjY4MzE2ODMiPjwvcG9seWdvbj4KICAgICAgICAgICAgICAgIDxwYXRoIGQ9Ik0zNS4wMDc3MTgsODAgQzQyLjkwNjIwMDcsNzYuNDU0OTM1OCA0Ny41NjQ5MTY3LDcxLjU0MjI2NzEgNDguOTgzODY2LDY1LjI2MTk5MzkgQzUxLjExMjI4OTksNTUuODQxNTg0MiA0MS42NzcxNzk1LDQ5LjIxMjIyODQgMjUuNjIzOTg0Niw0OS4yMTIyMjg0IEMyNS40ODQ5Mjg5LDQ5LjEyNjg0NDggMjkuODI2MTI5Niw0My4yODM4MjQ4IDM4LjY0NzU4NjksMzEuNjgzMTY4MyBMNzIuODcxMjg3MSwzMi41NTQ0MjUgTDY1LjI4MDk3Myw2Ny42NzYzNDIxIEw1MS4xMTIyODk5LDc3LjM3NjE0NCBMMzUuMDA3NzE4LDgwIFoiIGlkPSJQYXRoLTIyIiBmaWxsPSIjMDAyODY4Ij48L3BhdGg+CiAgICAgICAgICAgICAgICA8cGF0aCBkPSJNMCwzNy43MzA0NDA1IEwyNy4xMTQ1MzcsMC4yNTcxMTE0MzYgQzYyLjM3MTUxMjMsLTEuOTkwNzE3MDEgODAsMTAuNTAwMzkyNyA4MCwzNy43MzA0NDA1IEM4MCw2NC45NjA0ODgyIDY0Ljc3NjUwMzgsNzkuMDUwMzQxNCAzNC4zMjk1MTEzLDgwIEM0Ny4wNTUzNDg5LDc3LjU2NzA4MDggNTMuNDE4MjY3Nyw3MC4zMTM2MTAzIDUzLjQxODI2NzcsNTguMjM5NTg4NSBDNTMuNDE4MjY3Nyw0MC4xMjg1NTU3IDM2LjMwMzk1NDQsMzcuNzMwNDQwNSAyNS4yMjc0MTcsMzcuNzMwNDQwNSBDMTcuODQzMDU4NiwzNy43MzA0NDA1IDkuNDMzOTE5NjYsMzcuNzMwNDQwNSAwLDM3LjczMDQ0MDUgWiIgaWQ9IlBhdGgtMTkiIGZpbGw9IiMzNzkzRUYiPjwvcGF0aD4KICAgICAgICAgICAgPC9nPgogICAgICAgIDwvZz4KICAgIDwvZz4KPC9zdmc+' > </img>\nCreated in <span style='font-weight:600;margin-left:4px;'>Deepnote</span></a>",
   "metadata": {
    "tags": [],
    "created_in_deepnote_cell": true,
    "deepnote_cell_type": "markdown"
   }
  }
 ],
 "nbformat": 4,
 "nbformat_minor": 2,
 "metadata": {
  "orig_nbformat": 2,
  "deepnote": {
   "is_reactive": false
  },
  "deepnote_notebook_id": "1b6aa40d-047e-4ef7-a9cc-43b2f39ebcba",
  "deepnote_execution_queue": []
 }
}