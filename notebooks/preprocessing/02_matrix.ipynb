{
 "cells": [
  {
   "cell_type": "code",
   "metadata": {
    "cell_id": "c2f08b52-8703-4b2d-bb12-7ffb432450a0",
    "tags": [],
    "deepnote_to_be_reexecuted": false,
    "source_hash": "14fc24c8",
    "execution_start": 1647048498837,
    "execution_millis": 3,
    "deepnote_cell_type": "code",
    "deepnote_cell_height": 135
   },
   "source": "import pandas as pd\nimport numpy as np\nimport networkx as nx\nimport json",
   "execution_count": null,
   "outputs": []
  },
  {
   "cell_type": "markdown",
   "source": "# Lectura DF",
   "metadata": {
    "cell_id": "f512280a-2c5a-4639-ae7c-6f09e131e27d",
    "tags": [],
    "is_collapsed": false,
    "deepnote_cell_type": "text-cell-h1",
    "deepnote_cell_height": 82
   }
  },
  {
   "cell_type": "code",
   "metadata": {
    "cell_id": "4d2d5562-f9f9-435a-928b-31e9e6dd1d21",
    "tags": [],
    "deepnote_to_be_reexecuted": false,
    "source_hash": "5994fc2f",
    "execution_start": 1647046028634,
    "execution_millis": 13,
    "deepnote_cell_type": "code",
    "deepnote_cell_height": 81
   },
   "source": "df = pd.read_csv(\"/work/games_seeker/data/interim/pc_components.csv\", sep=\"|\")",
   "execution_count": null,
   "outputs": []
  },
  {
   "cell_type": "code",
   "metadata": {
    "cell_id": "4231f82c-4b56-4b1f-880b-51914989e738",
    "tags": [],
    "deepnote_to_be_reexecuted": false,
    "source_hash": "d66b5a6d",
    "execution_start": 1647047222915,
    "execution_millis": 9,
    "deepnote_cell_type": "code",
    "deepnote_cell_height": 137.375,
    "deepnote_output_heights": [
     40.375
    ]
   },
   "source": "df[\"type\"].unique()",
   "execution_count": null,
   "outputs": [
    {
     "output_type": "execute_result",
     "execution_count": 23,
     "data": {
      "text/plain": "array(['Chasis', 'Storage', 'GPU', 'Power Supply', 'Refrigeration', 'RAM',\n       'CPU', 'Mother Board'], dtype=object)"
     },
     "metadata": {}
    }
   ]
  },
  {
   "cell_type": "markdown",
   "source": "# Generación de grafo",
   "metadata": {
    "cell_id": "097670f9-0773-4724-ac04-41c2d78c93ba",
    "tags": [],
    "is_collapsed": false,
    "deepnote_cell_type": "text-cell-h1",
    "deepnote_cell_height": 82
   }
  },
  {
   "cell_type": "code",
   "metadata": {
    "cell_id": "0c1c945e-e0da-4e58-871c-2c45bea7b4d6",
    "tags": [],
    "deepnote_to_be_reexecuted": false,
    "source_hash": "45aaf11",
    "execution_start": 1647047376651,
    "execution_millis": 1,
    "deepnote_cell_type": "code",
    "deepnote_cell_height": 81
   },
   "source": "G = nx.DiGraph()",
   "execution_count": null,
   "outputs": []
  },
  {
   "cell_type": "code",
   "metadata": {
    "cell_id": "cf1c278e-3fcd-48a3-bcaa-6907336a070b",
    "tags": [],
    "deepnote_to_be_reexecuted": false,
    "source_hash": "73f0b4ee",
    "execution_start": 1647047379285,
    "execution_millis": 3,
    "deepnote_cell_type": "code",
    "deepnote_cell_height": 81
   },
   "source": "G.add_nodes_from(df[\"title\"].values)",
   "execution_count": null,
   "outputs": []
  },
  {
   "cell_type": "markdown",
   "source": "## Generación de aristas",
   "metadata": {
    "cell_id": "1bd7e491-5fb1-4ade-ac74-7eb147a8133e",
    "tags": [],
    "is_collapsed": false,
    "deepnote_cell_type": "text-cell-h2",
    "deepnote_cell_height": 70
   }
  },
  {
   "cell_type": "code",
   "metadata": {
    "cell_id": "ae5e4f94-d996-4cd2-8e60-5f7f5cadb23f",
    "tags": [],
    "deepnote_to_be_reexecuted": false,
    "source_hash": "7244ef12",
    "execution_start": 1647047389045,
    "execution_millis": 2,
    "deepnote_cell_type": "code",
    "deepnote_cell_height": 225
   },
   "source": "aristas = (\n    (\"CPU\", \"Mother Board\"),\n    (\"Mother Board\", \"RAM\"),\n    (\"RAM\", \"Storage\"),\n    (\"Storage\", \"GPU\"),\n    (\"GPU\", \"Refrigeration\"),\n    (\"Refrigeration\", \"Power Supply\"),\n    (\"Power Supply\", \"Chasis\")\n)",
   "execution_count": null,
   "outputs": []
  },
  {
   "cell_type": "code",
   "metadata": {
    "cell_id": "3e03da8a-4b1a-405b-b20e-0c298b12ffa8",
    "tags": [],
    "deepnote_to_be_reexecuted": false,
    "source_hash": "c790e31e",
    "execution_start": 1647047391733,
    "execution_millis": 2057,
    "deepnote_cell_type": "code",
    "deepnote_cell_height": 153
   },
   "source": "for e1, e2 in aristas:\n    for n1 in df[[\"title\", \"price\"]][df[\"type\"] == e1].values:\n        for n2 in df[[\"title\", \"price\"]][df[\"type\"] == e2].values:\n            G.add_edge(n1[0], n2[0])\n            G[n1[0]][n2[0]][\"weight\"] = n1[1]",
   "execution_count": null,
   "outputs": []
  },
  {
   "cell_type": "code",
   "metadata": {
    "cell_id": "7135a84c-1bea-4028-aca4-782613ec4e5b",
    "tags": [],
    "deepnote_to_be_reexecuted": false,
    "source_hash": "5498acdc",
    "execution_start": 1647048250771,
    "execution_millis": 558,
    "deepnote_cell_type": "code",
    "deepnote_cell_height": 81,
    "deepnote_output_heights": [
     21.1875
    ]
   },
   "source": "edgelist = list(nx.to_edgelist(G))",
   "execution_count": null,
   "outputs": []
  },
  {
   "cell_type": "code",
   "metadata": {
    "cell_id": "27e16c0a-51b4-4307-9d3b-9af3f21bca53",
    "tags": [],
    "deepnote_to_be_reexecuted": false,
    "source_hash": "5705ee08",
    "execution_start": 1647048404649,
    "execution_millis": 4,
    "deepnote_cell_type": "code",
    "deepnote_cell_height": 156.5625,
    "deepnote_output_heights": [
     59.5625
    ]
   },
   "source": "edgelist[0]",
   "execution_count": null,
   "outputs": [
    {
     "output_type": "execute_result",
     "execution_count": 54,
     "data": {
      "text/plain": "('Crucial P5 Plus SSD 3D NAND NVMe M.2 de 500GB PCIe 4.0 , hasta 6600MB/s - CT500P5PSSD8',\n 'GT 1030 4GB GDRR4 64 bits HDMI DVI salida tarjeta gráfica, ventilador de refrigeración único PC tarjeta de vídeo para juegos',\n {'weight': 84.0})"
     },
     "metadata": {}
    }
   ]
  },
  {
   "cell_type": "markdown",
   "source": "# Generar JSON",
   "metadata": {
    "cell_id": "00462b0d-827a-4a0a-94f8-9f19ef84fef9",
    "tags": [],
    "is_collapsed": false,
    "deepnote_cell_type": "text-cell-h1",
    "deepnote_cell_height": 82
   }
  },
  {
   "cell_type": "code",
   "metadata": {
    "cell_id": "fc7b9bc8-415a-4044-99b5-529f0773f960",
    "tags": [],
    "deepnote_to_be_reexecuted": false,
    "source_hash": "3fdd1f2e",
    "execution_start": 1647048565945,
    "execution_millis": 0,
    "deepnote_cell_type": "code",
    "deepnote_cell_height": 81
   },
   "source": "json_graph = {title: [] for title in df[\"title\"].values}",
   "execution_count": null,
   "outputs": []
  },
  {
   "cell_type": "code",
   "metadata": {
    "cell_id": "9394fa97-7d7f-4a81-8323-815fb1ea7203",
    "tags": [],
    "deepnote_to_be_reexecuted": false,
    "source_hash": "e0412c06",
    "execution_start": 1647048566475,
    "execution_millis": 60,
    "deepnote_cell_type": "code",
    "deepnote_cell_height": 99
   },
   "source": "for from_node, to_node, weight in edgelist:\n    json_graph[from_node].append({to_node: weight[\"weight\"]})",
   "execution_count": null,
   "outputs": []
  },
  {
   "cell_type": "code",
   "metadata": {
    "cell_id": "3b89fd90-a1e4-44d0-a19a-f1e1230691b4",
    "tags": [],
    "deepnote_to_be_reexecuted": false,
    "source_hash": "4af7db07",
    "execution_start": 1647048567022,
    "execution_millis": 4,
    "deepnote_cell_type": "code",
    "deepnote_cell_height": 425.1875,
    "deepnote_output_heights": [
     328.1875
    ]
   },
   "source": "json_graph[\"GT 1030 4GB GDRR4 64 bits HDMI DVI salida tarjeta gráfica, ventilador de refrigeración único PC tarjeta de vídeo para juegos\"]",
   "execution_count": null,
   "outputs": [
    {
     "output_type": "execute_result",
     "execution_count": 62,
     "data": {
      "text/plain": "[{'DeepCool Castle 360EX A-RGB WH AIO Enfriador de CPU líquido con tecnología antifugas, 3 ventiladores CF120 mm de 4.724 in, controlador incluido y soporte de sincronización de placa base A-RGB de 5 V, Intel 115X/1200/2066, AMD TR4/AM4': 159.0},\n {'Cooler Master MasterLiquid ML360 Illusion Close-Loop AIO CPU líquido refrigerador, cúpula translúcida, bomba de doble cámara de 3ª generación, radiador 240, halo doble MF120 para AMD Ryzen/Intel 1200/1151': 159.0},\n {'Corsair iCUE H100i RGB Pro XT, Radiador de 9.449 pulgadas': 159.0},\n {'Corsair Hydro X Series XH305i Kit de refrigeración por agua Hardline con bloque de agua XC7 CPU, radiador XR5 de 14.173 in, bomba XD5 Res y ventiladores iCUE QL120 RGB': 159.0},\n {'Cooler Master MasterAir MA620M Dual Tower ARGB Enfriador de aire de CPU de alto rendimiento, ventilador SF120R, iluminación de tira hexagonal ARGB, 6 tubos de calor, base chapada en cobre para AMD Ryzen/Intel LGA1151': 159.0},\n {'OWC Aura P12 M.2 NVMe SSD unidad de disco óptico': 159.0},\n {'Cooler Master MasterLiquid ML360R ARGB Close-Loop AIO CPU Liquid Cooler, 360 Radiador, Bomba de cámara doble, AMD Ryzen/Intel LGA1200/1151': 159.0},\n {'EKWB EK-Quantum Reflection PC-O11D D5 PWM Distroplate, Digital RGB, Plexi': 159.0},\n {'ASHATA - Kit de refrigeración de agua para PC, radiador universal de refrigeración de agua, tubo, bomba, depósito cilíndrico, ventilador dual, accesorios de montaje, kit de enfriamiento de agua líquido para ordenador': 159.0},\n {'Corsair Hydro X Series XD5 RGB Bomba / depósito Combo - Bomba D5 PWM - Depósito de 11.2 fl oz - Diez LED RGB direccionables individualmente, sensor de temperatura, color negro': 159.0},\n {'MSI MAG Series CORELIQUID 360R, enfriador líquido de CPU aRGB (AIO): diseño de cabezal de bloqueo giratorio, radiador de 14.173 in, ventiladores triples de 4.724 in aRGB PWM': 159.0},\n {'Kit de refrigeración por agua,Kit de refrigeración por agua para PC de 9.449 in de disipador de calor CPU Bloque de agua LED Ventilador de computadora Kit de refrigeración por agua Sistemas de refrigeración por agua': 159.0},\n {'Juego de refrigeración por agua para computadora, kit de refrigeración por agua de PC, 18 vías fluviales todo en uno kit de enfriador de CPU líquido con bomba de agua SC600, tanque de agua y ventiladores, bomba de bloque G1/4 CPU/GPU, disipador de calor, refrigeración por agua': 159.0},\n {'Kit de refrigeración por agua para PC DIY Kit de refrigeración por agua con enfriador CPU/GPU bloque cilíndrico bomba de depósito de agua LED ventilador 9.449 in disipador de calor kit todo en uno líquido computadora refrigeración agua conjunto': 159.0},\n {'Wendry Kit de refrigeración por agua de 9.449 in DIY para ordenador, todo en uno líquido PC refrigeración por agua, enfriador CPU/GPU bloque bomba depósito CPU Cooler Kit con ventilador LED disipador de calor': 159.0},\n {'Thermaltake Pacific CL480 - Radiador de cobre de 2.520 in de espesor CL-W192-CU00BL-A': 159.0},\n {'Razer Kunai - Ventilador hidráulico de PC aRGB de 4.724 in: silencioso y potente ventiladores aRGB – Soporte para controlador de ventilador PWM y conexión hasta 8 ventiladores – Alimentado por Razer Chroma RGB – 3 ventiladores': 159.0}]"
     },
     "metadata": {}
    }
   ]
  },
  {
   "cell_type": "code",
   "metadata": {
    "cell_id": "7bef68c3-fb6e-47bc-9ede-713e4e7bf93b",
    "tags": [],
    "deepnote_to_be_reexecuted": false,
    "source_hash": "39173690",
    "execution_start": 1647048804657,
    "execution_millis": 802,
    "deepnote_cell_type": "code",
    "deepnote_cell_height": 99
   },
   "source": "with open(\"/work/games_seeker/data/interim/products_weights.json\", \"w\") as f:\n    json.dump(json_graph, f)",
   "execution_count": null,
   "outputs": []
  },
  {
   "cell_type": "code",
   "metadata": {
    "cell_id": "943280dd-e1da-4901-ac3f-69c30819b10a",
    "tags": [],
    "deepnote_cell_type": "code",
    "deepnote_cell_height": 66
   },
   "source": "",
   "execution_count": null,
   "outputs": []
  },
  {
   "cell_type": "markdown",
   "source": "<a style='text-decoration:none;line-height:16px;display:flex;color:#5B5B62;padding:10px;justify-content:end;' href='https://deepnote.com?utm_source=created-in-deepnote-cell&projectId=07e29549-6cbf-4e88-b69c-0fc48f2d6023' target=\"_blank\">\n<img alt='Created in deepnote.com' style='display:inline;max-height:16px;margin:0px;margin-right:7.5px;' src='data:image/svg+xml;base64,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' > </img>\nCreated in <span style='font-weight:600;margin-left:4px;'>Deepnote</span></a>",
   "metadata": {
    "tags": [],
    "created_in_deepnote_cell": true,
    "deepnote_cell_type": "markdown"
   }
  }
 ],
 "nbformat": 4,
 "nbformat_minor": 2,
 "metadata": {
  "orig_nbformat": 2,
  "deepnote": {
   "is_reactive": false
  },
  "deepnote_notebook_id": "d0de8264-51d9-4409-99db-27d6ef56de48",
  "deepnote_execution_queue": []
 }
}