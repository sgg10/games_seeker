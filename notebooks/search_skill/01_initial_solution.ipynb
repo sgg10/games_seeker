{
 "cells": [
  {
   "cell_type": "code",
   "metadata": {
    "tags": [],
    "cell_id": "00b59c84-25b7-4c1f-aa19-7cfc21acad96",
    "deepnote_to_be_reexecuted": false,
    "source_hash": "9a04bb9a",
    "execution_start": 1647057553942,
    "execution_millis": 2403,
    "deepnote_cell_type": "code",
    "deepnote_cell_height": 225
   },
   "source": "from time import time\n\nimport json\nimport random\nimport numpy as np\nimport pandas as pd\nimport matplotlib.pyplot as plt\n\nfrom deap import algorithms, base, creator, tools",
   "execution_count": null,
   "outputs": []
  },
  {
   "cell_type": "markdown",
   "source": "# Lectura de información",
   "metadata": {
    "cell_id": "8042aa05-6f32-4bd5-9cce-9e29752c3891",
    "tags": [],
    "is_collapsed": false,
    "deepnote_cell_type": "text-cell-h1",
    "deepnote_cell_height": 82
   }
  },
  {
   "cell_type": "code",
   "metadata": {
    "cell_id": "aae26334-c33d-446f-a923-e862fe6e2f08",
    "tags": [],
    "deepnote_to_be_reexecuted": false,
    "source_hash": "94d8aefd",
    "execution_start": 1647057556346,
    "execution_millis": 293,
    "deepnote_cell_type": "code",
    "deepnote_cell_height": 117
   },
   "source": "PRODUCTS = pd.read_csv(\"/work/games_seeker/data/interim/pc_components.csv\", sep=\"|\")\nwith open(\"/work/games_seeker/data/interim/products_weights.json\", \"r\") as f:\n    WEIGHTS = json.load(f)",
   "execution_count": null,
   "outputs": []
  },
  {
   "cell_type": "code",
   "metadata": {
    "cell_id": "2eb6d3da-d29b-4f7d-a304-daec6dcecc90",
    "tags": [],
    "deepnote_to_be_reexecuted": false,
    "source_hash": "9a022219",
    "execution_start": 1647057556671,
    "execution_millis": 132,
    "deepnote_cell_type": "code",
    "deepnote_cell_height": 598
   },
   "source": "PRODUCTS",
   "execution_count": null,
   "outputs": [
    {
     "output_type": "execute_result",
     "execution_count": 3,
     "data": {
      "application/vnd.deepnote.dataframe.v3+json": {
       "column_count": 8,
       "row_count": 921,
       "columns": [
        {
         "name": "title",
         "dtype": "object",
         "stats": {
          "unique_count": 847,
          "nan_count": 0,
          "categories": [
           {
            "name": "Cooler Master MasterLiquid ML360 Illusion Close-Loop AIO CPU líquido refrigerador, cúpula translúcida, bomba de doble cámara de 3ª generación, radiador 240, halo doble MF120 para AMD Ryzen/Intel 1200/1151",
            "count": 13
           },
           {
            "name": "DeepCool Castle 360EX A-RGB WH AIO Enfriador de CPU líquido con tecnología antifugas, 3 ventiladores CF120 mm de 4.724 in, controlador incluido y soporte de sincronización de placa base A-RGB de 5 V, Intel 115X/1200/2066, AMD TR4/AM4",
            "count": 9
           },
           {
            "name": "845 others",
            "count": 899
           }
          ]
         }
        },
        {
         "name": "type",
         "dtype": "object",
         "stats": {
          "unique_count": 8,
          "nan_count": 0,
          "categories": [
           {
            "name": "Storage",
            "count": 310
           },
           {
            "name": "RAM",
            "count": 157
           },
           {
            "name": "6 others",
            "count": 454
           }
          ]
         }
        },
        {
         "name": "category",
         "dtype": "object",
         "stats": {
          "unique_count": 5,
          "nan_count": 0,
          "categories": [
           {
            "name": "Office",
            "count": 355
           },
           {
            "name": "Gamer",
            "count": 307
           },
           {
            "name": "3 others",
            "count": 259
           }
          ]
         }
        },
        {
         "name": "range",
         "dtype": "object",
         "stats": {
          "unique_count": 3,
          "nan_count": 0,
          "categories": [
           {
            "name": "Mid",
            "count": 375
           },
           {
            "name": "Low",
            "count": 327
           },
           {
            "name": "High",
            "count": 219
           }
          ]
         }
        },
        {
         "name": "symbol",
         "dtype": "object",
         "stats": {
          "unique_count": 1,
          "nan_count": 0,
          "categories": [
           {
            "name": "US",
            "count": 921
           }
          ]
         }
        },
        {
         "name": "price",
         "dtype": "float64",
         "stats": {
          "unique_count": 338,
          "nan_count": 0,
          "min": "19.0",
          "max": "2699.0",
          "histogram": [
           {
            "bin_start": 19,
            "bin_end": 287,
            "count": 689
           },
           {
            "bin_start": 287,
            "bin_end": 555,
            "count": 141
           },
           {
            "bin_start": 555,
            "bin_end": 823,
            "count": 42
           },
           {
            "bin_start": 823,
            "bin_end": 1091,
            "count": 19
           },
           {
            "bin_start": 1091,
            "bin_end": 1359,
            "count": 11
           },
           {
            "bin_start": 1359,
            "bin_end": 1627,
            "count": 9
           },
           {
            "bin_start": 1627,
            "bin_end": 1895,
            "count": 3
           },
           {
            "bin_start": 1895,
            "bin_end": 2163,
            "count": 3
           },
           {
            "bin_start": 2163,
            "bin_end": 2431,
            "count": 0
           },
           {
            "bin_start": 2431,
            "bin_end": 2699,
            "count": 4
           }
          ]
         }
        },
        {
         "name": "link",
         "dtype": "object",
         "stats": {
          "unique_count": 921,
          "nan_count": 0,
          "categories": [
           {
            "name": "https://www.amazon.com/-/es/MUSETEX-ATX-ventiladores-4-724-computadora/dp/B07QKV6HP9/ref=sr_1_1?__mk_es_US=%C3%85M%C3%85%C5%BD%C3%95%C3%91&keywords=pc+chassis&qid=1646961528&sr=8-1",
            "count": 1
           },
           {
            "name": "https://www.amazon.com/-/es/Mid-Tower-computadora-escritorio-ventiladores-preinstalados/dp/B07MDFYW3N/ref=sr_1_2?__mk_es_US=%C3%85M%C3%85%C5%BD%C3%95%C3%91&keywords=pc+chassis&qid=1646961528&sr=8-2",
            "count": 1
           },
           {
            "name": "919 others",
            "count": 919
           }
          ]
         }
        },
        {
         "name": "origin",
         "dtype": "object",
         "stats": {
          "unique_count": 9,
          "nan_count": 0,
          "categories": [
           {
            "name": "/work/games_seeker/data/raw/amazon_hdd_interno.csv",
            "count": 159
           },
           {
            "name": "/work/games_seeker/data/raw/amazon_memorias_ram_dd4.csv",
            "count": 157
           },
           {
            "name": "7 others",
            "count": 605
           }
          ]
         }
        },
        {
         "name": "_deepnote_index_column",
         "dtype": "int64"
        }
       ],
       "rows": [
        {
         "title": "MUSETEX ATX - Funda para PC con 6 ventiladores ARGB de 4.724 in, carcasa para juegos de computadora…",
         "type": "Chasis",
         "category": "Office",
         "range": "Low",
         "symbol": "US",
         "price": 109,
         "link": "https://www.amazon.com/-/es/MUSETEX-ATX-ventiladores-4-724-computadora/dp/B07QKV6HP9/ref=sr_1_1?__m…",
         "origin": "/work/games_seeker/data/raw/amazon_chasis_para_pc.csv",
         "_deepnote_index_column": 0
        },
        {
         "title": "MUSETEX Phantom Negro ATX Mid-Tower computadora de escritorio Gaming Case USB 3.0 Puertos vidrio te…",
         "type": "Chasis",
         "category": "Office",
         "range": "Low",
         "symbol": "US",
         "price": 109,
         "link": "https://www.amazon.com/-/es/Mid-Tower-computadora-escritorio-ventiladores-preinstalados/dp/B07MDFYW…",
         "origin": "/work/games_seeker/data/raw/amazon_chasis_para_pc.csv",
         "_deepnote_index_column": 1
        },
        {
         "title": "Vetroo A03 Mid-Tower ATX Gaming PC Case preinstalado, 3 ventiladores ARGB/PWM con controlador, aper…",
         "type": "Chasis",
         "category": "Office",
         "range": "Low",
         "symbol": "US",
         "price": 109,
         "link": "https://www.amazon.com/-/es/gp/slredirect/picassoRedirect.html/ref=pa_sp_search_thematic_aps_sr_pg1…",
         "origin": "/work/games_seeker/data/raw/amazon_chasis_para_pc.csv",
         "_deepnote_index_column": 2
        },
        {
         "title": "Razer Tomahawk ATX - Funda para juegos de media torre: puertas giratorias de vidrio templado de dob…",
         "type": "Chasis",
         "category": "Office",
         "range": "Low",
         "symbol": "US",
         "price": 199,
         "link": "https://www.amazon.com/-/es/Razer-Tomahawk-ATX-iluminaci%C3%B3n-subterr%C3%A1nea/dp/B08G3LXFV6/ref=…",
         "origin": "/work/games_seeker/data/raw/amazon_chasis_para_pc.csv",
         "_deepnote_index_column": 3
        },
        {
         "title": "Thermaltake Nivel 20 HT - Torre de computadora, con 4 vidrios templados, edición de color negro",
         "type": "Chasis",
         "category": "Gamer",
         "range": "Mid",
         "symbol": "US",
         "price": 299,
         "link": "https://www.amazon.com/-/es/Thermaltake-Nivel-20-computadora-templados/dp/B01N1GP2GZ/ref=sr_1_7?__m…",
         "origin": "/work/games_seeker/data/raw/amazon_chasis_para_pc.csv",
         "_deepnote_index_column": 4
        },
        {
         "title": "Thermaltake Core P8 CA-1Q2-00M1WN-00 - Carcasa de cristal templado E-ATX para ordenador",
         "type": "Chasis",
         "category": "Gamer",
         "range": "Mid",
         "symbol": "US",
         "price": 279,
         "link": "https://www.amazon.com/-/es/Thermaltake-Core-P8-CA-1Q2-00M1WN-00-ATX/dp/B08DHV7CBF/ref=sr_1_8?__mk_…",
         "origin": "/work/games_seeker/data/raw/amazon_chasis_para_pc.csv",
         "_deepnote_index_column": 5
        },
        {
         "title": "Vetroo A03 Mid-Tower ATX Gaming PC Case preinstalado, 3 ventiladores ARGB/PWM con controlador, aper…",
         "type": "Chasis",
         "category": "Office",
         "range": "Low",
         "symbol": "US",
         "price": 109,
         "link": "https://www.amazon.com/-/es/gp/slredirect/picassoRedirect.html/ref=pa_sp_mtf_aps_sr_pg1_1?ie=UTF8&a…",
         "origin": "/work/games_seeker/data/raw/amazon_chasis_para_pc.csv",
         "_deepnote_index_column": 6
        },
        {
         "title": "Carcasa Phanteks Enthoo Pro Full, Negro",
         "type": "Chasis",
         "category": "Office",
         "range": "Low",
         "symbol": "US",
         "price": 139,
         "link": "https://www.amazon.com/-/es/Carcasa-Phanteks-Enthoo-Full-Negro/dp/B00K6S1B3Q/ref=sr_1_10?__mk_es_US…",
         "origin": "/work/games_seeker/data/raw/amazon_chasis_para_pc.csv",
         "_deepnote_index_column": 7
        },
        {
         "title": "Thermaltake Tower 100 Turquoise Edition - Chasis para computadora de vidrio templado, compatible co…",
         "type": "Chasis",
         "category": "Office",
         "range": "Low",
         "symbol": "US",
         "price": 119,
         "link": "https://www.amazon.com/-/es/Thermaltake-Tower-100-Turquoise-CA-1R3-00SBWN-00/dp/B099ZF59MJ/ref=sr_1…",
         "origin": "/work/games_seeker/data/raw/amazon_chasis_para_pc.csv",
         "_deepnote_index_column": 8
        },
        {
         "title": "AUDHEID NAS 6-Bay K5 Chasis, sistema de gestión de cables, funda de computadora para juegos de PC",
         "type": "Chasis",
         "category": "Office",
         "range": "Low",
         "symbol": "US",
         "price": 129,
         "link": "https://www.amazon.com/-/es/AUDHEID-Chasis-sistema-gesti%C3%B3n-computadora/dp/B09J48Y5QC/ref=sr_1_…",
         "origin": "/work/games_seeker/data/raw/amazon_chasis_para_pc.csv",
         "_deepnote_index_column": 9
        }
       ]
      },
      "text/plain": "                                                 title     type category  \\\n0    MUSETEX ATX - Funda para PC con 6 ventiladores...   Chasis   Office   \n1    MUSETEX Phantom Negro ATX Mid-Tower computador...   Chasis   Office   \n2    Vetroo A03 Mid-Tower ATX Gaming PC Case preins...   Chasis   Office   \n3    Razer Tomahawk ATX - Funda para juegos de medi...   Chasis   Office   \n4    Thermaltake Nivel 20 HT - Torre de computadora...   Chasis    Gamer   \n..                                                 ...      ...      ...   \n916  Seagate FireCuda 2TB unidad híbrida de estado ...  Storage    Gamer   \n917  Seagate Cheetah SAS 16 MB Cache 2.5-Inch inter...  Storage    Gamer   \n918               Western Digital 3TB SATA 6 Gb/s 3.5\"  Storage    Gamer   \n919  Seagate Cheetah 10K.7 ST3300007FC - Disco duro...  Storage    Gamer   \n920  Capacidad de la empresa (restaurado certificad...  Storage   Office   \n\n    range symbol  price                                               link  \\\n0     Low     US  109.0  https://www.amazon.com/-/es/MUSETEX-ATX-ventil...   \n1     Low     US  109.0  https://www.amazon.com/-/es/Mid-Tower-computad...   \n2     Low     US  109.0  https://www.amazon.com/-/es/gp/slredirect/pica...   \n3     Low     US  199.0  https://www.amazon.com/-/es/Razer-Tomahawk-ATX...   \n4     Mid     US  299.0  https://www.amazon.com/-/es/Thermaltake-Nivel-...   \n..    ...    ...    ...                                                ...   \n916  High     US  199.0  https://www.amazon.com/-/es/Seagate-FireCuda-u...   \n917   Mid     US   54.0  https://www.amazon.com/-/es/2-5-Inch-bare-oem-...   \n918  High     US  148.0  https://www.amazon.com/-/es/Western-Digital-3T...   \n919  High     US  104.0  https://www.amazon.com/-/es/Seagate-Cheetah-10...   \n920   Mid     US   37.0  https://www.amazon.com/-/es/Capacidad-empresa-...   \n\n                                                origin  \n0    /work/games_seeker/data/raw/amazon_chasis_para...  \n1    /work/games_seeker/data/raw/amazon_chasis_para...  \n2    /work/games_seeker/data/raw/amazon_chasis_para...  \n3    /work/games_seeker/data/raw/amazon_chasis_para...  \n4    /work/games_seeker/data/raw/amazon_chasis_para...  \n..                                                 ...  \n916  /work/games_seeker/data/raw/amazon_hdd_interno...  \n917  /work/games_seeker/data/raw/amazon_hdd_interno...  \n918  /work/games_seeker/data/raw/amazon_hdd_interno...  \n919  /work/games_seeker/data/raw/amazon_hdd_interno...  \n920  /work/games_seeker/data/raw/amazon_hdd_interno...  \n\n[921 rows x 8 columns]",
      "text/html": "<div>\n<style scoped>\n    .dataframe tbody tr th:only-of-type {\n        vertical-align: middle;\n    }\n\n    .dataframe tbody tr th {\n        vertical-align: top;\n    }\n\n    .dataframe thead th {\n        text-align: right;\n    }\n</style>\n<table border=\"1\" class=\"dataframe\">\n  <thead>\n    <tr style=\"text-align: right;\">\n      <th></th>\n      <th>title</th>\n      <th>type</th>\n      <th>category</th>\n      <th>range</th>\n      <th>symbol</th>\n      <th>price</th>\n      <th>link</th>\n      <th>origin</th>\n    </tr>\n  </thead>\n  <tbody>\n    <tr>\n      <th>0</th>\n      <td>MUSETEX ATX - Funda para PC con 6 ventiladores...</td>\n      <td>Chasis</td>\n      <td>Office</td>\n      <td>Low</td>\n      <td>US</td>\n      <td>109.0</td>\n      <td>https://www.amazon.com/-/es/MUSETEX-ATX-ventil...</td>\n      <td>/work/games_seeker/data/raw/amazon_chasis_para...</td>\n    </tr>\n    <tr>\n      <th>1</th>\n      <td>MUSETEX Phantom Negro ATX Mid-Tower computador...</td>\n      <td>Chasis</td>\n      <td>Office</td>\n      <td>Low</td>\n      <td>US</td>\n      <td>109.0</td>\n      <td>https://www.amazon.com/-/es/Mid-Tower-computad...</td>\n      <td>/work/games_seeker/data/raw/amazon_chasis_para...</td>\n    </tr>\n    <tr>\n      <th>2</th>\n      <td>Vetroo A03 Mid-Tower ATX Gaming PC Case preins...</td>\n      <td>Chasis</td>\n      <td>Office</td>\n      <td>Low</td>\n      <td>US</td>\n      <td>109.0</td>\n      <td>https://www.amazon.com/-/es/gp/slredirect/pica...</td>\n      <td>/work/games_seeker/data/raw/amazon_chasis_para...</td>\n    </tr>\n    <tr>\n      <th>3</th>\n      <td>Razer Tomahawk ATX - Funda para juegos de medi...</td>\n      <td>Chasis</td>\n      <td>Office</td>\n      <td>Low</td>\n      <td>US</td>\n      <td>199.0</td>\n      <td>https://www.amazon.com/-/es/Razer-Tomahawk-ATX...</td>\n      <td>/work/games_seeker/data/raw/amazon_chasis_para...</td>\n    </tr>\n    <tr>\n      <th>4</th>\n      <td>Thermaltake Nivel 20 HT - Torre de computadora...</td>\n      <td>Chasis</td>\n      <td>Gamer</td>\n      <td>Mid</td>\n      <td>US</td>\n      <td>299.0</td>\n      <td>https://www.amazon.com/-/es/Thermaltake-Nivel-...</td>\n      <td>/work/games_seeker/data/raw/amazon_chasis_para...</td>\n    </tr>\n    <tr>\n      <th>...</th>\n      <td>...</td>\n      <td>...</td>\n      <td>...</td>\n      <td>...</td>\n      <td>...</td>\n      <td>...</td>\n      <td>...</td>\n      <td>...</td>\n    </tr>\n    <tr>\n      <th>916</th>\n      <td>Seagate FireCuda 2TB unidad híbrida de estado ...</td>\n      <td>Storage</td>\n      <td>Gamer</td>\n      <td>High</td>\n      <td>US</td>\n      <td>199.0</td>\n      <td>https://www.amazon.com/-/es/Seagate-FireCuda-u...</td>\n      <td>/work/games_seeker/data/raw/amazon_hdd_interno...</td>\n    </tr>\n    <tr>\n      <th>917</th>\n      <td>Seagate Cheetah SAS 16 MB Cache 2.5-Inch inter...</td>\n      <td>Storage</td>\n      <td>Gamer</td>\n      <td>Mid</td>\n      <td>US</td>\n      <td>54.0</td>\n      <td>https://www.amazon.com/-/es/2-5-Inch-bare-oem-...</td>\n      <td>/work/games_seeker/data/raw/amazon_hdd_interno...</td>\n    </tr>\n    <tr>\n      <th>918</th>\n      <td>Western Digital 3TB SATA 6 Gb/s 3.5\"</td>\n      <td>Storage</td>\n      <td>Gamer</td>\n      <td>High</td>\n      <td>US</td>\n      <td>148.0</td>\n      <td>https://www.amazon.com/-/es/Western-Digital-3T...</td>\n      <td>/work/games_seeker/data/raw/amazon_hdd_interno...</td>\n    </tr>\n    <tr>\n      <th>919</th>\n      <td>Seagate Cheetah 10K.7 ST3300007FC - Disco duro...</td>\n      <td>Storage</td>\n      <td>Gamer</td>\n      <td>High</td>\n      <td>US</td>\n      <td>104.0</td>\n      <td>https://www.amazon.com/-/es/Seagate-Cheetah-10...</td>\n      <td>/work/games_seeker/data/raw/amazon_hdd_interno...</td>\n    </tr>\n    <tr>\n      <th>920</th>\n      <td>Capacidad de la empresa (restaurado certificad...</td>\n      <td>Storage</td>\n      <td>Office</td>\n      <td>Mid</td>\n      <td>US</td>\n      <td>37.0</td>\n      <td>https://www.amazon.com/-/es/Capacidad-empresa-...</td>\n      <td>/work/games_seeker/data/raw/amazon_hdd_interno...</td>\n    </tr>\n  </tbody>\n</table>\n<p>921 rows × 8 columns</p>\n</div>"
     },
     "metadata": {}
    }
   ]
  },
  {
   "cell_type": "code",
   "metadata": {
    "cell_id": "1d4dd22b-88b5-41a0-8392-6fddcf70b4ea",
    "tags": [],
    "deepnote_to_be_reexecuted": false,
    "source_hash": "5780dd38",
    "execution_start": 1647057556824,
    "execution_millis": 41,
    "deepnote_cell_type": "code",
    "deepnote_cell_height": 118.1875,
    "deepnote_output_heights": [
     21.1875
    ]
   },
   "source": "WEIGHTS.keys()",
   "execution_count": null,
   "outputs": [
    {
     "output_type": "execute_result",
     "execution_count": 4,
     "data": {
      "text/plain": "dict_keys(['MUSETEX ATX - Funda para PC con 6 ventiladores ARGB de 4.724 in, carcasa para juegos de computadora de torre media Phantom negro, chasis de computadora de vidrio templado, USB 3.0, MN6-B', 'MUSETEX Phantom Negro ATX Mid-Tower computadora de escritorio Gaming Case USB 3.0 Puertos vidrio templado con 6 piezas 120mm LED RGB ventiladores preinstalados', 'Vetroo A03 Mid-Tower ATX Gaming PC Case preinstalado, 3 ventiladores ARGB/PWM con controlador, apertura de puerta, diseño de vidrio templado, malla frontal de alto flujo de aire/filtro de polvo, listo para refrigeración de agua de aire, color rosa', 'Razer Tomahawk ATX - Funda para juegos de media torre: puertas giratorias de vidrio templado de doble cara, panel superior ventilado, iluminación cromada RGB subterránea, gestión de cables integrada, negro clásico', 'Thermaltake Nivel 20 HT - Torre de computadora, con 4 vidrios templados, edición de color negro', 'Thermaltake Core P8 CA-1Q2-00M1WN-00 - Carcasa de cristal templado E-ATX para ordenador', 'Carcasa Phanteks Enthoo Pro Full, Negro', 'Thermaltake Tower 100 Turquoise Edition - Chasis para computadora de vidrio templado, compatible con Mini-ITX CA-1R3-00SBWN-00', 'AUDHEID NAS 6-Bay K5 Chasis, sistema de gestión de cables, funda de computadora para juegos de PC', 'Thermaltake View 71 Snow - Carcasa para computadora de torre completa para juegos de 4 lados, de vidrio templado, de 4 lados, SPCC E-ATX, vista de radiador de 3 vías, con 2 ventiladores LED blancos preinstalados CA-1I7-00F6WN-00', 'KEDIERS Caja de PC ATX C570 con marco abierto para computadora de juegos de vidrio templado con 7 ventiladores RGB, C570', 'Thermaltake AH T600 CA-1Q4-00M1WN-00 - Puerta batiente de cristal templado con diseño de helicóptero', 'SZSKYING Funda para PC para juegos ATX para computadora con panel de vidrio templado USB 3.0 con 10 ventiladores ARGB Control remoto negro', 'Corsair 4000D Airflow - Gabinete ATX semitorre para PC con vidrio templado, color negro', 'KEDIERS Carcasa para PC, ATX Tower de vidrio templado para videojuegos, carcasa de marco abierto con 2 tableros de luz luminosa RGB, C580', 'Thermaltake Core P5 CA-1E7-00M1WN-05 - Carcasa de cristal templado V2 edición negra con marco abierto vertical GPU modular ATX', 'Thermaltake Core W200 Dual System Capable Extreme Water Cooling XL-ATX Totalmente Modular/Desmantelar Apilable Tt Certified Super Tower Funda para computadora CA-1F5-00F1WN-00 Negro', 'Cooler Master MasterBox TD500 Malla de flujo de aire blanco ATX Mid-Tower con panel frontal de malla poligonal, vidrio templado cristalino, E-ATX hasta 10.5\", tres ventiladores de iluminación ARGB de 4.724 in', 'PUSOKEI M-ATX ATX ITX Chasis de placa base DIY Set, ordenador de aluminio marco de chasis de aire abierto, soporte de chasis de bricolaje Chasis abierto ATX Chasis vertical bastidor de metal Disipación de calor (negro)', 'Asus ROG Strix Helios GX601 RGB Mid-Tower - Carcasa para ordenador de hasta EATX con panel frontal USB 3.1, vidrio templado ahumado, construcción de aluminio cepillado y acero y cuatro ventiladores de estuche, color negro', 'B1 ITX - Maletín para ordenador de sobremesa Mini Micro Slim Portable 2020 Mid Tower Small Smart de aleación de aluminio DIY instalación para juegos y uso doméstico', 'Caja para ordenador de PC, ATX/M-ATX/ITX Chasis abierto vertical de sobreaceleración de plataforma chasis rack + mango con buena disipación de calor (negro)', 'Cooler Master Elite Torre de computadora color negro', 'Zalman Carcasa de PC para juegos de media torre (X3 blanco) Controlador de ventilador LED RGB, incluye 4 ventiladores direccionables RGB, paneles frontales y laterales sin herramientas', 'Wendry Computer Motherboard Case Rack,ATX/M-ATX/ITX Open Chassis Vertical Overclocking Open Aluminum Frame Chassis Rack,Good Heat Dissipation Perfil bajo (Slimline) Negro carcasa para ordenador, Rojo), Wendrybhkrpd13o2-02', 'Phanteks (PH-ES614PTG_BK) Enthoo Pro ATX Chassis, vidrio templado, iluminación RGB integrada, negro', 'Thermaltake carcasa de computadora', 'BALAM RUSH THINOS E-ATX ATX M-ATX M-ITX 4 ventilador ARGB 1 USB 3.0 Temp Crystal Black Gamer Case', 'Thermaltake Suppressor F31 vidrio templado edición SPCC ATX Mid Tower Tt LCS certificado ultra silencioso Gaming Silent Computer Chassis CA-1E3-00M1WN-03, negro', 'NZXT - Gabinete para ordenador de juegos, Negro/Rojo', 'Yahboom Raspberry Pi Robot robótico con cámara programable AI Electronic DIY Tank Robot Kit para adolescentes y adultos, compatible con Pi 4 B Modelo 3B+ (G1 Tank sin Pi)', 'SilverStone Technology CS381B Micro-ATX/Mini-DTX/Mini-Itx 8 Bay Hot Swap 2.5\"/3.5\" SAS-12G/SAS-6G NAS Estuche de almacenamiento con 2 ventiladores de rodamiento de bolas dobles de 4.724 in, color negro', 'InWin 216White ATX Mid Tower - con ventilador InWin Sirus blanco puro x 3, panel lateral de vidrio templado - Doble colocación de GPU - Caja de chasis de computadora de juego altamente ampliable, IW-CS-216-3ASP120', 'Corsair Crystal', 'KABIOU ZZAW B2 ITX ordenador caso para PC de escritorio mini micro delgado portátil 2021 mediados torre pequeña aleación de aluminio soporte tarjeta gráfica larga para juegos y uso doméstico', 'SilverStone Technology Midi-Tower Negro carcasa de ordenador', 'Fractal Design Torrent E-ATX - Caja de ordenador de cristal templado para ventana de alto flujo de aire', 'AZZA CSAZ-804L Pyramid Innovative ATX funda', 'NZXT', 'be quiet! Pure Base 500DX - Carcasa ATX de torre media, ARGB, 3 Pure Wings 2, BGW37, ventana de vidrio templado', 'Carcasa Phanteks Enthoo Pro Full', 'MSI MPG Velox 100R - Caja de PC para videojuegos de torre media: panel lateral de vidrio templado, 4 ventiladores ARGB de 4.724 in, soporte de refrigeración líquida de hasta 14.173 in, panel de malla para un flujo de aire optimizado', 'Cooler Master MasterFrame 700 Funda de PC personalizable con marco al aire libre, se convierte entre un chasis de PC de escaparate o un banco de pruebas altamente flexible', 'C1 Micro ATX - Carcasa de computadora para PC 2022 de aleación de aluminio de torre media grande con penetración lateral MATX ITX funda para juegos de placa base en línea, tarjeta gráfica larga, fuente de alimentación ATX 240 disco duro refrigerado por agua', 'BALAM RUSH THINOS E-ATX ATX M-ATX M-ITX 4 ventilador ARGB 1 USB 3.0 Temp Crystal White Gamer Case', 'Razer - Caja externa de aluminio para GPU, compatible con caja de computadora', 'HYTE Revolt 3 Small Form Factor Premium ITX - Funda para computadora con fuente de alimentación SFX dorada de 700 W, color negro', 'SilverStone Technology DS380B Premium Mini-Itx/DTX - Carcasa para ordenador NAS con factor de forma pequeño, color negro', 'Cooler Master MasterFrame 700 Banco de prueba personalizado/caja de PC ATX al aire libre, vidrio templado panorámico, bisagras de fricción variable premium, montaje VESA incorporado', 'CORSAIR iCUE H170i ELITE CAPELLIX - Enfriador de CPU líquido - 33 LED RGB dinámicos - Ventiladores de 5.512 in - Radiador de 16.535 in - Controlador de iluminación inteligente COMMANDER CORE - Compatible con software Corsair iCUE - Ventilador cero RPM', 'SilverStone Technology &ndash; Chasis NAS peque&ntilde;o, Premium 8-Bay 2.5 pulgadas (CS280B), CS280B', 'Chasis para computadora de juegos, DIY ATX/M-ATX/ITX Chasis abierto vertical Overclocking marco de aluminio abierto Chasis Rack con disipación de calor desnudo completo (rojo)', 'Balam Rush Skydrone Torre Gabinete E-ATX, ATX, Micro ATX, Mini ITX/ARGB/+140 modos de iluminación', 'Phanteks Enthoo 719 (PH-ES719LTG_DBK01) Caja de torre completa de alto rendimiento - Vidrio templado, paneles de aluminio, soporte de sistema dual/psu, almacenamiento masivo, hub de ventilador, iluminación digital RGB, negro', 'Corsair iCUE 465X RGB Mid-Tower ATX Smart Case, blanco (CC-9011189-WW)', 'GOLDEN FIELD Z20 - Funda para computadora con 3 ventiladores RGB de torre media para juegos, carcasa de PC EATX/ATX/MATX/ITX, panel lateral de vidrio templado, diseño de puerta abierta', 'Silverstone Tek GD05B-USB3.0&nbsp;&ndash; Funda para computadora de aluminio/acero, micro ATX HTPC con 2&nbsp;puertos USB 3.0&nbsp;frontales, Negro (GD08)', 'MSI MPG Velox 100P Airflow Mid Tower - Funda para computadora para videojuegos, 3 ventiladores de 4.724 in + 1 ventilador ARGB de 4.724 in, tira de luz ARGB, USB tipo C, 1 cristal templado, centro MSI, E-ATX, ATX, mATX, Mini-ITX', 'iBUYPOWER Snowblind S - Pantalla LCD translúcida personalizable de 19 pulgadas, resolución de 1280 x 1024, carcasa de escritorio para videojuegos, 3 ventiladores de 120 milímetros, acero SECC, color blanco', 'ZZEW B1 Mini-ITX - Funda para computadora de tamaño pequeño, chasis de escritorio pequeño de aluminio (panel lateral de aluminio)', 'Mars Gaming MCMESH Negro, Estuche para PC para juegos, Micro ATX, diseño de malla total, 3X ventiladores FRGB', 'Silverstone GD10B - Carcasa para ordenador de cine en casa (Htpc) con panel frontal bloqueable para placas base ATX/Micro-ATX GD10B-x', 'Thermaltake Divisor 300 ARGB Snow Triangular Vidrio Templado Tipo C (USB 3.1 Gen 2) Refrigeración por Agua ATX Mid Tower Computer Case con 3 4.724 in ARGB Ventilador Trasero Preinstalado CA-1S2-00M6WN-01', \"MSI MAG Forge 100R Mid Tower - Carcasa para ordenador de videojuegos, 2 ventiladores ARGB PWM de 4.724 in, ventilador de 4.724 in, cubo de 1-6 ARGB, sincronización de luz Mystic, panel de vidrio templado, ATX, mATX, Mini-ITX'\", 'ZZAW Super Mini MATX Case B3 Aluminum PC case Desktop Micro PC case with DIY Installation for gaming, home and office use', 'IN WIN 309GE (IW-CS-309GE-BLK) EATX/EEB Mid Tower con 4 ventiladores ARGB, color negro', 'Thermaltake Core P1 Mini ITX - Chasis de pared para computadora de cristal templado, color negro', 'in-win Caso 901 Mini Tower 1slim/0/(2) Bay USB 3.0 de audio HD Negro No Fuente de alimentación Mini-ITX Retail', 'AIC Advanced Industrial Computer RMC-1E - Chasis de montaje en bastidor, ventilador de 1U 3X 158.583 in, individual 250W 80+ dorado, USB 3.0, color negro', 'Fractal Design Torrent - Carcasa compacta para ordenador, color negro', 'Thermaltake S500 CA-1O3-00M1WN-01 - Carcasa para ordenador (cristal templado, ventilador frontal de 5.512 in y ventilador trasero de 4.724 in)', 'Segotep Phoenix ATX Black Mid Tower PC Gaming Computer Case y 650w totalmente modular 80 Plus Gold Power Supply', 'MUSETEX ATX - Carcasa de policarbonato con 6 ventiladores ARGB de 4.724 in con 80+ bronce certificado de 650 W fuente de alimentación', 'Mini ITX PC caso B6, caja de ordenador de aluminio con vidrio templado, caja micro ITX compatible con 240 refrigeración por agua con puerto USB3.0 tipo C', 'SilverStone Technology Mini-ITX ML08B-H - Carcasa delgada para computadora con mango', 'Segotep Typhon ATX - Funda para juegos de PC con tarjeta gráfica de montaje vertical y fuente de alimentación para juegos de 600 W, 80 Plus con certificado dorado PSU', 'Crucial P5 Plus SSD 3D NAND NVMe M.2 de 500GB PCIe 4.0 , hasta 6600MB/s - CT500P5PSSD8', 'Sabrent Rocket Q 4TB NVMe PCIe M.2 2280 Unidad de estado sólido interna de alto rendimiento R/W 3200/3000MB/s (SB-RKTQ-4TB)', 'SAMSUNG 980 SSD de 1 TB M.2 NVMe Interfaz interna de estado sólido con tecnología V-NAND para juegos, gráficos pesados, modo de potencia completa, MZ-V8V1T0B/AM', 'SAMSUNG 970 EVO Plus SSD 2TB - M.2 NVMe Interface Unidad interna de estado sólido con tecnología V-NAND (MZ-V7S2T0B/AM)', 'SSD M.2 980 PRO 2TB PCIe NVMe Gen4 interno para juegos (MZ-V8P2T0B/AM)', 'Crucial P2 2TB 3D NAND NVMe PCIe M.2 SSD hasta 2400MB/s - CT2000P2SSD8', 'WD_Black 1TB SN750 SE NVMe - Unidad de estado sólido interna para juegos, Gen4 PCIe, M.2 2280, hasta 3,600 MB/s, WDS100T1B0E', 'Crucial P2 1TB 3D NAND NVMe PCIe M.2 SSD hasta 2400MB/s - CT1000P2SSD8', 'Western Digital SSD interno WD Blue SN550 NVMe de 1 TB - Gen3 x4 PCIe 8Gb/s, M.2 2280, 3D NAND, hasta 2.400 MB/s - WDS100T2B0C', 'Sabrent Rocket Q 1TB NVMe PCIe M.2 2280 Unidad de estado sólido interna de alto rendimiento R/W 3200/2000MB/s (SB-RKTQ-1TB)', 'Seagate FireCuda 530 unidad interna de estado sólido de 1 TB, M.2 PCIe Gen4 x4 NVMe 1.4, para PS5, velocidades de hasta 7,300 MB/s, 3D TLC NAND, 1,275 TBW, 1.8 millones de horas de MTBF, (ZP1000GM3A023)', 'Western Digital Unidad de estado sólido SSD interna WD Green SN350 NVMe de 1 TB - Gen3 PCIe, QLC, M.2 2280, hasta 3.200 MB/s - WDS100T3G0C', 'WD_Black de 2 TB SN850 NVMe, unidad de estado sólido SSD interna para juegos - Gen4 PCIe, M.2 2280, 3D NAND, hasta 7,000 MB/s - WDS200T1X0E', 'Corsair SSD MP400 8TB M.2 NVMe PCIe x4 Gen3 (velocidades de lectura secuencial de hasta 3.480 MB/s, velocidades de escritura de hasta 3.000 MB/s, alta densidad 3D QLC NAND) Negro', 'Seagate FireCuda 530 ZP4000GM3A013 - Unidad de estado sólido de 4 TB - M.2 2280 interna - PCI Express NVMe (PCI Express NVMe 4.0 x4), color negro', 'Sabrent Unidad de estado sólido de 4 TB Rocket Q4 NVMe PCIe 4.0 M.2 2280 interna SSD de máximo rendimiento R/W 4900/3500 MB/s (SB-RKTQ4-4TB)', 'PNY CS2140 - Unidad interna de estado sólido (SSD) M.2 NVMe Gen4 x4, 500 GB, M280CS2140-500-RB', 'Samsung T7 Touch - Disco duro portátil, 500 GB, USB 3.2', 'Seagate FireCuda 530 ZP2000GM3A013 - Unidad de estado sólido de 2 TB - M.2 2280 interna - PCI Express NVMe (PCI Express NVMe 4.0 x4), color negro', 'Transcend Unidad de estado sólido SSD Nvme PCIe Gen3 X4 MTE110S M.2 de 128 GB TS128GMTE110S', 'Patriot Viper VP4300 2TB M.2 2280 PCIe Gen4 x 4 - Unidad interna de estado sólido para juegos - VP4300-2TBM28H', 'Mushkin Tempest - Unidad interna de estado sólido (SSD) PCIe Gen3 x4 NVMe 1.4 - M.2 (2280) - Flash NAND 3D - (MKNSSDTS2TB-D8)', 'TEAMGROUP MS30 1TB con caché SLC 3D NAND TLC M.2 2280 SATA III 6Gb/s unidad de estado sólido interna SSD (velocidad de lectura/escritura de hasta 530/480 MB/s) compatible con laptop y PC Desktop TM8PS7001T0C101', 'Hikvision E2000 SSD interno 512 GB M.2 2280 NGFF NVME PCIe hasta 3500MB/s para portátil de escritorio', 'HIKVISION SSD interno de 512 GB, unidad interna de estado sólido, NVMe PCIe Gen 3x4, M.2 2280, memoria flash NAND 3D, velocidad de lectura de hasta 3500 MB/s', 'addlink AddGame A95 2TB NVMe PCIe Gen 4 SSD interno para juegos con disipador de calor, velocidad de hasta 7400 MB/s, 3D TLC NAND, compatible con PS5 M.2 2280 unidad interna de estado sólido', 'TEAMGROUP T-Force CARDEA Zero Z44Q - Disco de 4TB con caché DRAM QLC, NVMe1.4 PCIe Gen4x4 M.2 2280 Gaming SSD lectura/escritura 5,000/4,400 MB/s TM8FPQ004T0C327', 'Sabrent 2TB Rocket NVMe PCIe M.2 2242 DRAM-Less Low Power Internal High Performance SSD (SB-1342-2TB)', 'Acer FA100 M.2 SSD 512GB PCIe GEN 3 x 4 NVMe 1.4 Interfaz interna de unidades de estado sólido con tecnología 3D TLC NAND - BL.9BWWA.119', 'Silicon Power 512GB NVMe M.2 PCIe Gen3x4 2280 TLC R/W hasta 3,400/2,300MB/s SSD (SU512GBP34A80M28AB)', 'WDC - Disco duro interno (256 GB, M.2, PCI-e, NVME, 3.150 in, 2280)', 'Silicon Power 1TB NVMe M.2 PCIe Gen3x4 2280 TLC R/W hasta 3,400/3,000MB/s SSD (SU001TBP34A80M28AB)', 'Western Digital WD Black SN850 NVMe M.2 2280 2TB PCI-Express 4.0 x4 3D NAND unidad de estado sólido (SSD) para portátiles y ordenadores de sobremesa - Tecnología 3D NAND 7000MB/s - WDS200T1X0E', 'MIXZA 256GB SSD NVMe PCIe Gen3x4 8Gb/s M.2 2280 3D NAND 350TBW Alto Rendimiento SLC caché velocidad de lectura/escritura hasta 2.500/1.200 MB/s unidad de estado sólido interna (256GB)', 'TEAMGROUP T-FORCE CARDEA ZERO Z330 - Disco de 1TB con caché SLC y lámina de cobre y grafeno 3D NAND TLC NVMe PCIe Gen3 x4 M.2 2280 Gaming SSD interno (lectura/escritura 2,100/1,700 MB/s) para laptop y computadora de escritorio TM8FP8001T0C311', 'Kingston KC2500 - Unidad de estado sólido (1 TB, M.2 2280, interna PCI Express NVMe 3.0 x4)', 'HP EX950 M.2 2TB PCIe 3.1 x4 NVMe 3D TLC NAND Unidad interna de estado sólido (SSD) 5MS24AA#ABC', 'Mushkin Helix-L – 1TB PCIe NVMe 1.3 – M.2 (2280) Unidad de estado sólido interna (SSD) – Gen3 x4 – 3D TLC - (MKNSSDHL1TB-D8)', 'MSI SPATIUM M370 NVMe M.2 1TB SSD interno PCIe Gen4 NVMe 1.3 3D NAND 1600 TBW', 'PQI SSD M.2 externo de 1 TB, flash NAND 3D, PCle, NVMe, M.2 2280, USB-C 3.2, rendimiento potente, ultrafino, Windows/Mac/Laptop/PC, velocidades de lectura de 1000 MB/s, velocidades de escritura de 950 MB/s, unidad de estado sólido', 'Mushkin Pilot-E – PCIe NVMe 2TB – Encripción de datos Ópalo – M.2 (2280) Unidad de estado sólido interna (SSD) – Gen3 x4 – 3D TLC - (MKNSSDPE2TB-D8)', 'MSI SPATIUM M470 PCIe 4.0 NVMe M.2 1TB SSD interno PCIe Gen4 NVMe 1.3 3D NAND 3300 TBW (SPATIUM M470 PCIe 4.0 NVMe M.2 1TB)', 'Kioxia M.2 PCI-e NVME 5SS0V26415 - Unidad de estado sólido (256 GB, 1.654 in, factor de forma 2242)', 'Lexar NM620 1TB M.2 2280 PCIe SSD interno, hasta 3300MB/s lectura, para entusiastas de PC y jugadores (LNM620X001T-RNNNU).', 'Samsung SSD 256GB PM991 M.2 2242 1.654 in PCIe 3.0 x4 NVMe MZALQ256HAJD MZ-ALQ2560 unidad de estado sólido', 'Western Digital SSD interno de 1 TB WD azul 3D NAND - SATA III 6 Gb/s, M.2 2280, hasta 560 MB/s - WDS100T2B0B', 'WEIJINTO SSD NVMe SATA3 M.2 2280 PCIe 1000 GB SSD unidad interna de estado sólido para portátil de escritorio unidad SSD (1 TB, A-Negro)', 'Silicon Power 1TB A55 M.2 SSD (SLC caché para aumento de velocidad) SATA III unidad de estado sólido interna 2280 (SU001TBSS3A55M28AB)', 'Western Digital 1TB WD Red SA500 NAS 3D NAND SSD interno - SATA III 6 Gb/s, M.2 2280, hasta 560 MB/s - WDS100T1R0B', 'FLEANE FM12A 128GB SSD de repuesto para MacBook Air A1465 A1466 Mid2012 EMC 2558 EMC 2559 HD Solid State Dirve (128GB)', 'Corsair MP600 PRO XT 2TB Hydro X Edition Gen4 PCIe x4 NVMe M.2 SSD (hasta 7.000 MB/s de lectura secuencial y 6.550 MB/s de velocidades de escritura, alta densidad TLC NAND, Hydro X Series XM2 bloque de agua) blanco', 'Western Digital PC SN520 128GB PCIe NVMe M.2 SSD unidad de estado sólido interno paquete OEM', 'SSD SATA M.2 2242 500 GB Dogfish Ngff Disco duro interno de estado sólido de alto rendimiento para computadora portátil SATA III 6Gb/s Incluye SSD 60 GB 120 GB 240 GB 250 GB 480 GB 500 GB 1 TB (500 GB, M.2-2242)', 'KingSpec - Unidad de estado sólido interna SATA III de 6 Gb/s para Ultrabook (1 TB)', 'HP EX900 Plus - SSD NVMe de 512 GB - GEN 3.0 X 4 PCIe 8 Gb/s 3D NAND M.2 caché interno de estado sólido hasta 3200 MB/s - 35M33AA#ABA', 'PNY CS900 - Unidad interna de estado sólido (SSD) de 500 GB M.2 SATA III, (M280CS900-500-RB)', 'PNY CS1030 2TB M.2 NVMe PCIe Gen3 x4 unidad de estado sólido interna (SSD) - M280CS1030-2TB-RB', 'ORICO Disco duro externo de estado sólido de 512 GB Mini M.2 NVME portátil SSD de hasta 940 MB/s con 3D NAND/USB 3.1 Gen 2 tipo C para portátiles Mac teléfonos y más (SSD incluido), GV100 azul', 'WD Bulk WDS500G2B0C SN550 - Unidad de estado sólido (500 GB, interno M.2 2280, PCI Express 3.0 x4)', 'Timetec Unidad de estado sólido interna de 2 TB con memoria DRAM SSD NVMe PCIe Gen3x4 8 Gb/s M.2 2280 3D NAND TLC 1800TBW de alto rendimiento de lectura/escritura de hasta 3,400/3,000 MB/s para PC portátil y escritorio', 'Patriot Viper VPN110 - SSD interno de 1 GB con protector térmico - NVMe PCIe Gen3 x 4 - M.2 2280 - Unidad de estado sólido - VPN110-1TBM28H', 'Kingshark gamer SSD M.2 2280 64 GB Ngff unidad interna de estado sólido de alto rendimiento para portátil de escritorio SATA III 6 Gb/s (64 GB, M.2 2280)', 'Gigabyte NVMe 1.3/M.2/PCIe 3.0 x 4/ 1TB SSD (GP-GSM2NE3100TNTD)', 'ADATA 4TB Int PCIe Gen3x4 M.2 2280', 'Timetec Unidad de estado sólido interna de 512 GB SSD NVMe PCIe Gen3x4 8 Gb/s M.2 2280 3D NAND TLC 350TBW de alto rendimiento SLC Cache velocidad de lectura/escritura de hasta 2,000/1,600 MB/s para PC portátil y escritorio (512 GB)', 'ZEPLIN ELECTRONICS M.2 2280 SSD SATA III - Unidad interna de estado sólido - 512 GB', 'Timetec Unidad de estado sólido interna de 1 TB SSD NVMe PCIe Gen3x4 8 Gb/s M.2 2280 3D NAND TLC 600TBW de alto rendimiento SLC de lectura/escritura de hasta 1,800/1,500 MB/s para PC portátil y escritorio (1 TB)', 'TOPMORE TPCIE400-0G 2TB NVMe PCIe M.2 Gen3x4 2280 TLC SSD R/W hasta 2500/2100MB/s (Hecho en Taiwán)', 'ORICO Disco duro externo de estado sólido de 256 GB Mini M.2 NVME portátil SSD de hasta 940 MB/s con 3D NAND/USB 3.1 Gen 2 tipo C para portátiles Mac teléfonos y más (SSD incluido), GV100 azul', 'XrayDisk SSD de 1 TB con caché SLC 3D NAND TLC M.2 2280 SATA III 6 Gb/s unidad interna de estado sólido SSD (velocidad de lectura/escritura hasta 530/480 MB/s) 1000 GB compatible con portátiles y PC de escritorio (1 TB, A-Negro)', 'Reletech Unidad de estado sólido NVMe M.2 Gen 3x4 de 1 TB para MacBook Air (mediados de 2013 a 2017) MacBook Pro (Retina, finales de 2013 - mediados de 2015) Mac Pro (2013) y Mini (2014), iMac (2013-2017) (P400M, 1TB)', 'Kingshark Gamer SSD M.2 2280 128GB Ngff - Disco duro interno de alto rendimiento para computadora portátil SATA III 6Gb/s incluye SSD (128GB, M.2 2280)', 'MZ-VLB2560 PM981 256GB M.2 2280 PCI-Express 3.0 x4 NVMe SSD unidad de estado sólido MZVLB256HAHQ-000L7', 'Netac SSD interno SATA 3 de 2.5 pulgadas de 1 TB SATA 3D NAND SSD - 6 Gb/s, 2.5\"/7 mm, hasta 530 MB/s', 'FLEANE FM12A 256GB 3D TLC Flash SSD con herramientas para Apple portátil MacBook Air A1465 A1466 mediados de 2012 (256GB)', 'SSD M.2 2TB Samsung 980 PRO Disipador de calor NVMe PCIe 4.0 x 4 minorista', 'Western Digital WDS120G2G0B WD Green - Disco duro interno (120 GB, SATA, M.2 2280, 120 GB)', 'Gamerking SSD M.2 2242 64 GB NGFF unidad interna de estado sólido de alto rendimiento para portátil de sobremesa SATA III 6Gb/s M2 SSD 60gb 64gb (64GB, M.2 2242)', 'WD_Black de 1 TB SN850 unidad de juego Call of Duty Edición Especial: Black Ops Cold War, unidad de estado sólido SSD interna NVMe M.2 PCIe Gen4 - WDBB2F0010BNC-WRSN', 'SSD SATA M.2 2242 1TB Dogfish Ngff unidad interna de estado sólido de alto rendimiento para portátil de escritorio SATA III 6Gb/s incluye SSD 60GB 120GB 240GB 250GB 480GB 500GB 1TB (1TB M.2 2242)', 'Samsung 970 PRO NVMe Series 1TB M.2 PCI-Express 3.0 x 4 unidad de estado sólido (V-NAND)', 'KIOXIA (Toshiba) 128GB M.2 2230 PCIe NVMe KBG40ZNS128G, paquete del OEM', 'Reletech P400 M.2 2TB 3D NAND SSD, 3500MB/S PCIe Gen3×4 NVMe computadora interna Gaming Laptop Unidades de estado sólido TLC Desktop (1TB Lite)', 'Seagate Beskar Ingot FireCuda unidad interna de estado sólido SSD de edición especial, de 1 TB, PCIe Gen4 NVMe, M.2, hasta 7,300 MB/s, 1.8 millones de horas de MTBF y 1,275 TBW (ZP1000GM3A033)', 'Samsung 970 EVO NVMe Series 1TB M.2 PCI-Express 3.0 x 4 unidad de estado sólido (V-NAND)', 'Digifast Ace 1TB M.2 NVMe SSD, PCIe Gen 3x4 M.2 2280 unidad de estado sólido con lectura 3470 MB/s, escritura 3000 MB/s', 'Mercury Elite Pro Dual USB-C de 2 TB con concentrador de 3 puertos', 'Serie Samsung 980 PRO con disipador de calor - 2TB PCIe Gen4 X4 NVMe 1.3c - SSD M.2 interno (MZ-V8P2T0CW)', 'Corsair Force MP600 - Unidad de estado sólido de 2 TB - M.2 2280 interno - PCI Express NVMe (PCI Express NVMe 4.0 x4) - Dispositivo de placa base compatible - 3600 TB TBW - 4950 MB/s de velocidad máxima de transferencia de lectura - 256-bi', 'PNY CS2140 2TB M.2 NVMe Gen4 x4 Unidad interna de estado sólido (SSD) - M280CS2140-2TB-RB', 'ADATA 256 GB M.2 2230 SSD NVMe PCIe Gen3 x4 IM2P33F3-256G1 compatible con Dell 0KXKKC KXKKC', 'Patriot Viper VPN100 M.2 2280 PCIe 256GB - Unidad de estado sólido de alto rendimiento - VPN100-256GM28H', 'SSD EXTREME PRO M.2 2TB', 'MSI SPATIUM M480 PCIe 4.0 NVMe M.2 1TB HS interno SSD PCIe Gen4 NVMe 1.4 3D NAND 1400 TBW', 'Dogfish - Disco duro interno de 2 TB de estado sólido de alto rendimiento para computadora portátil SATA III 6 Gb/s incluye SSD 16 GB 32 GB 60 GB 64 GB 120 GB 128 GB 240 GB 250 GB 480 GB 500 GB (2 TB, Msata)', 'Seagate FireCuda 520 Cyberpunk 2077 Limited Edition SSD 1TB Unidad de estado sólido - M.2 NVMe PCIe Gen4, hasta 5000 MB/s, con iluminación LED RGB y disipador de calor, servicios de rescate (ZP1000GM3A012)', 'SP Unidad de estado sólido interna de 1 TB SSD 3D NAND A55 SLC Cache Performance Boost SATA III de 2.5 pulgadas, 0.276 in (SP001TBSS3A55S25)', 'JOIOT portátil SSD 500 GB unidad de estado sólido externa unidad flash de velocidad rápida SSD hasta 500 MB/s lectura tipo C USB 3.1 para juegos Windows Mac OS PC Mackbook PS4 Xbox one (negro)', 'TEAMGROUP T-Force Vulcan G 2TB SLC Cache 3D NAND TLC 2.5 pulgadas SATA III unidad de estado sólido interna SSD (R/W velocidad de hasta 550/500 MB/s) T253TG002T3C301', 'PNY XLR8 CS3030 250 GB M.2 Nvme unidad interna de estado sólido (SSD) – M280CS3030-250-Rb y 16 GB (2x8GB) XLR8 Gaming DDR4 2666MHz (PC-4-21300) Desktop Memory Kit - (MD16GK2D42D4266666666666666616161616161616161616111 6XR).', 'Netac SSD de 500 GB - SSD NVMe PCIe Gen 3 x4, M.2 2280, 3D NAND, velocidades de lectura de hasta 1700MB/s, SSD de 500 GB - N930E Pro', 'Unidad de estado s&oacute;lido Toshiba, serie OCZ RD400, PCIe NVMe M.2 de 128 GB con MLC Flash (RVD400-M2280-128 GB)', 'SSD PCIe NVMe 250 GB Dogfish unidad interna de estado sólido PCIe Gen3.0 x4 NVMe Disco duro de alto rendimiento para computadora portátil de sobremesa, incluye SSD 240 GB 250 GB 500 GB 1 TB (250 GB M.2 PCIE NVMe)', 'Dash Pro 4TB NVMe PCIe SSD con disipador de calor, compatible con Sony PS5 ranura interna M.2', 'Samsung PM981 MZVLB1T0HBLR 1TB M.2 2280- Pci Express 3.0 X4 (nvme) Unidad de estado sólido Opal. OEM para Spectre x360 2-en-1 Omen New Inspiron XPS 13 15 Pression Asus Lenovo Laptops (Samsung 1TB NVME SSD)', 'TECMIYO M.2 NVME 128GB SSD PCIe Gen3x4 2280 - Unidad interna de estado sólido para laptop, PC', 'SK Hynix PC601 1TB SSD PCIe NVMe M.2 2280 HFS001TD9TNG L3A0B (Nuevo con garantía) FRU 01FR585 para Lenovo Dell HP Acer Asus y otros', 'SSSTC (Lite-on) 128 GB M.2 2230 PCIe NVMe CL1-3D128-Q11, paquete OEM', 'DATARAM Internal SSD, PCIe NVMe M.2 2280 Solid State Drive, PCIe Gen3 8Gb/s unidad de estado sólido, 512 GB.', '1 TB VisionTek Pro Xpn M.2 Nvme.', 'ORICO Disco duro externo de estado sólido de 128 GB Mini M.2 NVME portátil SSD de hasta 940 MB/s con 3D NAND/USB 3.1 Gen 2 tipo C para portátiles Mac teléfonos y más (SSD incluido) - GV100 azul', 'FLEANE FM12A 1 TB 1024 GB SSD compatible con Apple Laptop MacBook Air A1465 A1466 Mid2012 EMC2558 EMC2559 de gran capacidad (1 TB)', 'Transcend 32 GB SATA III 6 GB/s mts400 42 mm. M.2 SSD Solid State Drive (ts32gmts400s)', 'Micron 2200 MTFDHBA256TCK-1AS1AABYY 256GB NVMe PCIe3.0x4 TLC M.2 0.866x3.150 in SSD Interno unidad de disco óptico', 'Unidad de estado sólido interna (SSD) Intel 660p, M.2 2280, 2 TB, NVMe PCIe 3.0 x4, 3D NAND', 'JOIOT SSD externo portátil de 1 TB, hasta 540 MB/s, unidad flash USB 3.1 tipo C, unidad externa de estado sólido, cable SSD portátil tipo A a C para PC/portátil/Mac/Android/Linux', 'Patriot P400 - SSD interno de 1 TB - NVMe PCIe M.2 Gen4 x 4 - Unidad de estado sólido de bajo consumo - P400P1TBM28H', 'Emtec PCIe NVMe SSD Power Pro X300 (256GB) 256GB unidad de disco óptico', 'Vantec M.2 NVMe SSD a USB 3.1 Gen 2x1 Tipo C Syncable RGB Enclosure (NST-210C3-RGB)', 'HP FX900 Pro 512GB NVMe GEN4 Gaming SSD - PCIe 16 Gb/s, M.2 2280 3D TLC NAND - Unidad interna de estado sólido hasta 7000 MB/s con caché RAM - 4A3T9AA#ABB', 'Corsair MP400 1TB NVMe PCIe M.2 SSD', 'Acer FA100 M.2 SSD 1TB PCIe GEN 3 x 4 NVMe 1.4 Interfaz interna de unidades de estado sólido con tecnología 3D TLC NAND - BL.9BWWA.120', 'Timetec 512GB SSD 3D NAND TLC SATA III 6Gb/s M.2 2280 NGFF 256TBW Read Speed Up to 550MB/s SLC Cache Performance Boost Internal Solid State Drive for PC Computer Laptop and Desktop (512GB)', 'Gamerking SSD M.2 2242 1TB NGFF Disco duro interno de alto rendimiento para computadora portátil SATA III 6Gb/s M2 SSD (1TB, M.2 2242)', 'Unidad de estado sólido - 1 TB - 3D Xpoint (Optane) - Interno - M.2 2280 - PCI Express 3.0 x4 (NVMe) - búfer: 32 GB', 'Transcend 1TB NVMe PCIe Gen3 x4 MTE112S M.2 SSD unidad de estado sólido TS1TMTE112S', 'WD_BLACK 2TB SN850 NVMe unidad de estado sólido SSD interna para juegos con ASUS ROG Strix Arion aleación de aluminio M.2 NVMe SSD externa portátil carcasa adaptador', 'Transcend TS2TMTE220S - Unidad de estado sólido SSD M.2 PCIe Gen3 x4 (2 TB, PCIe Gen3 x4)', 'Kingston Fury Renegade 1TB PCIe Gen 4.0 NVMe M.2 SSD interno para juegos | hasta 7300 MB/s | TLC NAND | SFYRS/1000G', 'Samsung PM981 Polaris 512GB M.2 NGFF PCIe Gen3 x4, NVME unidad de estado sólido SSD, OEM (2280) MZVLB512HAJQ-0000', 'TOPMORE TPCIE500-0G 512GB NVMe PCIe M.2 Gen3x4 2280 TLC SSD R/W hasta 3400/2400MB/s (fabricado en Taiwán) (512GB)', 'Lexar NM610 M.2 2280 PCIe Gen3x4 NVMe 1TB unidad de estado sólido (LNM610-1TRBNA)', 'Acer Predator GM3500 M.2 1TB SSD para juegos PCIe GEN 3.0 x 4 NVMe 1.4 Interfaz interna de estado sólido con tecnología 3D TLC NAND de hasta 3.400 MB/s - BL.9BWWR.102', 'Micron 2300 Unidad de estado sólido de 1 TB - M.2 2280 interna - PCI Express NVMe (PCI Express NVMe 3.0) - PC de sobremesa, compatible con dispositivos portátiles - 600 TB TBW - 3300 MB/s Velocidad máxima de transferencia de lectura', 'Mmoment M.2 2280 SATA 6 Gb/s SSD interno de 256 GB, hasta 500 MB/s', 'Digifast Knight - Unidad de estado sólido M.2 NVMe RGB SSD PCIe Gen 3x4 M.2 2280 con lectura de 3470 MB/s, escritura de 3000 MB/s', 'OEM WDC 256GB M.2 PCI-e NVME interno SN530 unidad de estado sólido 1.654 in 2242 factor de forma', 'GIGABYTE 2TB AORUS NVMe Gen4 M.2 PCI Express 4.0 3D TLC Interno unidad de estado sólido', 'Intel SSD serie 760P (256GB, M.2 3.150 in PCIe 3.0 x4, 3D2, TLC)', 'Centon Value Line SSD, libre de frustración, PCIe 3.0 x4, NVMe 1.3, M.2-2280, 512 GB E12', 'KingSpec M.2 NVMe SSD PCIe 3.0 256GB SSD para juegos de 0.866x3.150 in Velocidad de hasta 1700Mb/s', 'Samsung pm981 Polaris 1TB M.2 NGFF PCIe Gen3 x4, NVMe unidad de estado sólido SSD, OEM (2280) mzvlb1t0halr-00000', 'Enmotus FuzeDrive SLC Hybrid SSD 900 GB PRO Gaming M.2 Gen 3 PCIe NVMe Inteligencia artificial integrada con resistencia x4 TBW, hasta 3470 MB/s de lectura – 2000 MB/s de escritura (P200-900/24)', 'TEAMGROUP T-Force CARDEA Zero Z440 - Disco de 2TB cache DRAM SLC, 3D NAND, TLC NVMe PCIe Gen4 M.2 2280 SSD para juegos de lectura/escritura 5,000/4,400 MB/s TM8FP7002T0C311', 'Centon Premium SSD, libre de frustración, PCIe 4.0 x4, NVMe 1.3, M.2-2280, 4TB E16', 'Samsung 256GB PM981 SSD PCIe Gen3 x4 NVMe M.2 2280 MZVLB256HAHQ M7DVX MZ-VLB256A for Dell HP Lenovo Acer Asus Desktop Laptop', 'Mushkin Source-II - Unidad interna de estado sólido (SSD) de 2 TB - SATA III - 6 Gb/s - 3D Vertical TLC - 0.276 in - (MKNSSDS22TB)', '4TB OWC Accelsior 1M2 PCIe 4.0 NVMe M.2 tarjeta SSD', 'GT 1030 4GB GDRR4 64 bits HDMI DVI salida tarjeta gráfica, ventilador de refrigeración único PC tarjeta de vídeo para juegos', 'SAPLOS GTX 1050 Ti Tarjeta gráfica, 4 GB, 128 bits, GDDR5, GPU para PC videojuegos, tarjeta de video de computadora, DisplayPort/HDMI/DVI, ventiladores duales, PCI Express x16 3.0', 'ZOTAC Gaming GeForce GTX 1660 Super 6GB GDDR6 192-bit Gaming Graphics Card, Super Compact, ZT-T16620F-10L', 'ZOTAC Gaming GeForce RTX 3060 Twin Edge OC 12 GB GDDR6 192 bits 15 Gbps PCIE 4.0 tarjeta gráfica, refrigeración IceStorm 2.0, control activo del ventilador, parada del ventilador ZT-A30600H-10M', 'XFX Speedster SWFT 210 Radeon RX 6600 CORE - Tarjeta gráfica para juegos con 8 GB GDDR6 HDMI 3xDP, AMD RDNA 2 RX-66XL8LFDQ', 'XFX Speedster QICK319 AMD Radeon RX 6700 XT - Tarjeta gráfica para videojuegos con 12 GB GDDR6 HDMI 3xDP, AMD RDNA 2 RX-67XTYPBDP', 'EVGA GeForce GTX 1660 SC Ultra Gaming, 06G-P4-1067-KR, 6GB GDDR5, Ventilador dual', 'ZOTAC GAMING GeForce GTX 1650 LP 4GB GDDR5 Gráficos para juegos de 128 bits', 'PowerColor Hellhound - Tarjeta gráfica AMD Radeon RX 6700 XT para juegos con memoria GDDR6 de 12 GB, alimentada por AMD RDNA 2, Raytracing, PCI Express 4.0, HDMI 2.1, AMD Infinity Cache', 'Tarjeta gráfica GeForce GT 1030 4GB GDDR4 64bit GTX 1030 HDMI VGA GT1030 tarjeta de vídeo', 'ZOTAC Gaming GeForce RTX™ 3070 Ti AMP Holo 8GB GDDR6X 256 bits 19 Gbps PCIE 4.0 Tarjeta gráfica para juegos, HoloBlack, IceStorm 2.0 Advanced Cooling, Spectra 2.0 RGB Lighting, ZT-A30710F-10P', 'MSI G1650VXS4C Gaming GeForce GTX 1650 128-Bit HDMI/DP 4GB GDRR5 HDCP Soporte DirectX 12 VR Ready OC Tarjeta gráfica (GTX 1650 Ventus XS 4G OC)', 'MSI Gaming GeForce GTX 1650 128-Bit HDMI/DP/DVI 4GB GDRR6 HDCP Support DirectX 12 VR Ready OC tarjeta gráfica (GTX 1650 D6 Ventus XS OC)', 'ASUS Tarjeta gráfica dual AMD Radeon RX 6600 XT OC Edition 8GB GDDR6 Gaming (AMD RDNA 2, PCIe 4.0, 8GB GDDR6 memoria, HDMI 2.1, DisplayPort 1.4a, diseño de ventilador de tecnología axial, tecnología 0dB)', 'XFX Speedster QICK308 Radeon RX 6600 XT - Tarjeta gráfica para videojuegos con 8 GB GDDR6 HDMI 3xDP, AMD RDNA 2 RX-66XT8LBDQ', 'Sapphire Technology 11310-01-20G Pulse AMD Radeon RX 6600 Tarjeta gráfica para juegos con 8 GB GDDR6, AMD RDNA 2', 'ASUS GeForce RTX 2060 Overclocked 6G GDDR6 Dual-Fan EVO Edition VR Ready HDMI DisplayPort DVI Tarjeta gráfica (DUAL-RTX2060-O6G-EVO)', 'KAER Tarjeta gráfica AMD Radeon RX 550 de 4 GB, GDDR5, 128 bits, DirectX 12, PCI Express 3.0, DP HDMI DVI-D, tarjeta de video para juegos de escritorio, GPU para computadora', 'Yeston Radeon RX 550 Tarjeta gráfica, 4 GB 128 bits GDDR5 6000 MHz 4 pantalla HDMI pantalla dividida GPU escritorio video juegos tarjetas gráficas', 'SAPLOS Tarjeta gráfica GeForce GTX 1050 Ti, 4 GB, GDDR5, 128 bits, DVI/HDMI/DP, PCI Express 3.0 X16, GPU de computadora, tarjeta de video de escritorio para juegos de PC, ventiladores duales, DirectX 12', 'ZOTAC Gaming NVIDIA GeForce GTX 1660 Super Twin Fan Super 6GB Tarjeta gráfica', 'ASUS Phoenix NVIDIA GeForce GTX 1650 OC Edition Tarjeta gráfica para juegos (PCIe 3.0, 4GB GDDR6 Memoria, HDMI, DisplayPort, DVI-D, 1x conector de alimentación de 6 pines, diseño de ventilador Axial-Tech, rodamientos de ventilador de doble bola)', 'MSI Gaming Tarjeta gráfica GeForce GTX 1660 Super 192-bit HDMI/DP 6GB GDRR6 Soporte HDCP DirectX 12 Doble Ventilador VR Ready OC (GTX 1660 Super VENTUS XS OC)', 'MSI Gaming GeForce GTX 1650 128-Bit HDMI/DP/DVI 4GB GDRR6 HDCP Soporte DirectX 12 VR Ready OC Tarjeta gráfica (GTX 1650 D6 Ventus XS OCV1)', 'ASUS Tarjeta gráfica Dual NVIDIA GeForce RTX 3060 V2 OC Edition 12 GB GDDR6 Gaming (PCIe 4.0, memoria GDDR6 de 12 GB, HDMI 2.1, DisplayPort 1.4a, diseño de 2 ranuras, diseño de ventilador de tecnología axial, tecnología 0dB', 'GIGABYTE GeForce RTX 3050 Eagle OC 8G, 2 ventiladores WINDFORCE, 8 GB GDDR6 128 bits GDDR6, GV-N3050EAGLE OC-8GD tarjeta de video', 'PNY Tarjeta gráfica NVIDIA RTX A4000 – 16 GB GDDR6-256 bits ancho bus – PCI Express 4.0 x16 – DisplayPort', 'EVGA GeForce RTX 3090 FTW3 Ultra Gaming, 24GB GDDR6X, tecnología iCX3, LED ARGB, placa trasera de metal, 24G-P5-3987-KR', 'ASUS Phoenix NVIDIA GeForce GTX 1650 OC Edition - Tarjeta gráfica para juegos (PCIe 3.0, memoria GDDR6 de 4 GB, HDMI, DisplayPort, DVI-D, diseño de ventilador de tecnología axial)', 'NVIDIA - Tarjeta gráfica GeForce RTX 3070 Ti 8GB GDDR6X PCI Express 4.0 - Platino oscuro y negro', 'Tarjeta gráfica NVIDIA GeForce RTX 3060 Ti Founders Edition 8GB GDDR6 PCI Express 4.0', 'NVIDIA Quadro M4000 - Tarjeta gráfica - Quadro M4000 - 8 GB GDDR5 - PCIe 3.0 x16 - 4 x DisplayPort', 'MAXSUN Geforce GTX 1650 - Tarjeta gráfica para videojuegos, 4 GB, GDDR6, 128 bits, GPU, ventilador doble, HDMI/DP/DVI, HDCP, DirectX, 12', 'ZOTAC Gaming GeForce RTX™ 3090 Trinity OC 24 GB GDDR6X 384 bits 19.5 Gbps PCIE 4.0 Tarjeta gráfica para juegos, IceStorm 2.0 Advanced Cooling, Spectra 2.0 RGB Lighting, ZT-A30900J-10P', 'ZOTAC - Tarjeta gráfica para juegos Zotac Gaming GeForce RTX 3080 Ti AMP Holo, GDDR6X de 12 GB, 384-bit, 19 Gbps, PCIE 4.0, HoloBlack, refrigeración avanzada IceStorm 2.0, iluminación RGB Spectra 2.0, ZT-A30810F-10P', 'XFX Speedster MERC319 AMD Radeon RX 6900 XT - Tarjeta gráfica para videojuegos con 16 GB GDDR6, HDMI, 3xDP, AMD RDNA 2 RX-69XTATBD9', 'Tarjetas gr&aacute;ficas de video PCI-Express MSI R580GXP8', 'ASUS ROG Strix NVIDIA GeForce RTX 3070 Ti OC Edition - Tarjeta gráfica para juegos (PCIe 4.0, 8 GB GDDR6X, HDMI 2.1, DisplayPort 1.4a, diseño de ventilador de tecnología axial, 2.9 ranuras, Super Alloy Power II, GPU Tweak II)', 'MSI - Tarjeta gráfica Gaming GeForce RTX 3060 Ti LHR 8GB GDRR6 256-Bit HDMI/DP Torx Fan 3 Arquitectura Ampere OC (RTX 3060 Ti Ventus 3X 8G OC LHR)', 'EVGA GeForce RTX 2060 12GB XC GAMING, 12G-P4-2263-KR, 12GB GDDR6, ventiladores duales, placa trasera de metal', 'ASUS KO NVIDIA GeForce RTX 3060 Ti V2 OC Edition - Tarjeta gráfica para juegos con 8GB GDDR6 - memoria PCIe 4.0, 8GB GDDR6, LHR, HDMI 2.1, DisplayPort 1.4a, diseño de ventilador Axial-tech, tecnología 0dB, condensadores duraderos', 'GIGABYTE GeForce RTX 3080 Ti Vision OC 12G, 3 ventiladores WINDFORCE, 12 GB 384 bits GDDR6X, GV-N308TVISION OC-12GD tarjeta de video', 'ZOTAC Gaming GeForce RTX 3080 Trinity OC LHR 12 GB GDDR6X 384 bits 19 Gbps PCIE 4.0 tarjeta gráfica, refrigeración avanzada IceStorm 2.0, iluminación RGB Spectra 2.0, ZT-A30820J-10PLHR', 'MSI Tarjeta gráfica OC de videojuegos GeForce RTX 3080 Ti 12GB GDRR6X 320-Bit HDMI/DP, arquitectura con ventiladores Nvlink Torx de 3 amperios (RTX 3080 Ti Gaming X Trio 12G)', 'ASUS Phoenix NVIDIA GeForce RTX 3060 V2 - Tarjeta gráfica para videojuegos PCIe 4.0, memoria GDDR6 de 12 GB, HDMI 2.1, DisplayPort 1.4a, diseño de ventilador de tecnología axial, placa trasera protectora, rodamientos de ventilador de bolas duales, Auto-Extreme', 'Tarjeta gráfica ASUS TUF Gaming NVIDIA GeForce RTX 3080 Ti OC Edition (PCIe 4.0, 12 GB GDDR6X, HDMI 2.1, DisplayPort 1.4a, rodamientos de doble bola en ventilador, certificación de grado militar, GPU Tweak II)', 'Tarjeta gráfica para juegos PowerColor Red Dragon AMD Radeon RX 6800 con memoria GDDR6 de 16 GB, con tecnología AMD RDNA 2, Raytracing, PCI Express 4.0, HDMI 2.1, AMD Infinity Cache.', 'PNY QUADRO Tarjeta gráfica P620 (VCQP620V2-PB)', 'MSI Gaming AMD Radeon RX 6600 128 bits 8 GB GDDR6 DP/HDMI Dual Torx Fans FreeSync DirectX 12 VR Ready Tarjeta gráfica (RX 6600 MECH 2X 8G)', 'Tarjeta gráfica GIGABYTE GeForce RTX 3090 Vision OC 24G, 3 ventiladores WINDFORCE, 24GB 384-bit GDDR6X, GV-N3090VISION OC-24GD', 'Sapphire Technology 11306-02-20G Pulse AMD Radeon RX 6700 XT Tarjeta gráfica para juegos con 12 GB GDDR6, AMD RDNA 2', 'PNY GeForce RTX™ 3070 8GB XLR8 Gaming Revel Epic-X RGB™ Tarjeta gráfica triple ventilador LHR', 'ZOTAC Gaming GeForce RTX 3060 Ti Twin Edge OC LHR 8GB GDDR6 256-bit 14 Gbps PCIE 4.0 Tarjeta gráfica para juegos, IceStorm 2.0 refrigeración avanzada, control activo del ventilador, apagado del ventilador ZT-A30610H-10MLHR', 'PowerColor Hellhound Tarjeta gráfica AMD Radeon RX 6600 con memoria GDDR6 de 8 GB', 'ASUS ROG Strix GeForce RTX 2080TI Overclocked 11G GDDR6 HDMI DP 1.4 USB Type-C Gaming Graphics Card (ROG-STRIX-RTX-2080TI-O11G) (Renovado) Tarjeta gráfica', 'ASUS TUF Gaming NVIDIA GeForce RTX 3080 Ti Tarjeta gráfica (PCIe 4.0, 12GB GDDR6X, HDMI 2.1, DisplayPort 1.4a, rodamientos de ventilador de doble bola, certificación de grado militar, GPU Tweak II)', 'EVGA GeForce RTX 2060 XC Ultra Gaming', 'ASUS GeForce GTX 1060 6GB ROG STRIX OC Edition VR Ready HDMI 2.0 DP 1.4 Graphic Card (Certified Refurbished)', 'MSI Gaming Radeon RX 6800 16GB GDRR6 256-Bit HDMI/DP 2105 MHz RDNA 2 Architecture OC Tarjeta gráfica (RX 6800 Gaming X Trio 16G)', 'ZOTAC Gaming GeForce RTX™ 3070 Ti Trinity OC 8GB GDDR6X 256 bits 19 Gbps PCIE 4.0 Tarjeta gráfica para juegos, IceStorm 2.0 Advanced Cooling, Spectra 2.0 RGB Lighting, ZT-A30710J-10P', 'Nvidia Quadro M2000 - Tarjeta de vídeo de alto rendimiento PCI Express 3.0 x16 (4 GB, GDDR5 128 bits)', 'EVGA GeForce GTX 1070 Ti Gaming 8GB GDDR5 OCX Escáner OC Blanco LED DX12OSD Soporte (PXOC) (08G-P4-5670-KR) (Renovado)', 'Sapphire Technology 11306-01-20G Nitro+ AMD Radeon RX 6700 XT Tarjeta gráfica para juegos con GDDR6 de 12 GB, AMD RDNA 2', 'GIGABYTE Tarjeta gráfica AORUS GeForce RTX 3070 Master 8G (REV2.0), 3 ventiladores WINDFORCE, 8 GB 256 bits GDDR6, GV-N3070AORUS M-8GD REV2.0', 'GIGABYTE AORUS RTX 3080 Gaming Box (REV2.0) eGPU, Waterforce sistema de refrigeración todo en uno, LHR, Thunderbolt 3, GV-N3080IXEB-10GD REV2.0 tarjeta gráfica externa', 'XFX Speedster MERC319 AMD Radeon RX 6800 XT Core Tarjeta gráfica para juegos con 16 GB GDDR6 HDMI 3xDP RX-68XTALFD9', 'MSI Gaming Radeon RX 6700 XT 192-bit 12GB GDDR6 DP/HDMI Dual Torx 3.0 Fans FreeSync DirectX 12 VR Ready Tarjeta gráfica (RX 6700 XT MECH 2X 12G)', 'ASUS TUF Gaming AMD Radeon RX 6900 XT OC Edition Tarjeta de gráficos (PCIe 4.0, 16GB GDDR6, HDMI 2.1, DisplayPort 1.4a, rodamientos de ventilador de doble hilera, cubierta de aluminio, marco reforzado, GPU Tweak II)', 'MSI NVIDIA GeForce GTX 1650 Ventus XS 4G OCV1 4GB GDDR5 DisplayPort/HDMI/DL-DVI-D PCI-Express Tarjeta de vídeo', 'EVGA GeForce RTX 3070 Ti FTW3 Ultra Gaming, 08G-P5-3797-KL, 8GB GDDR6X, iCX3 Technology, ARGB LED, placa trasera de metal', 'ASUS ROG-STRIX-GTX1080TI-O11G-GAMING GeForce 11GB OC Edition VR Ready 5K HD Gaming HDMI DisplayPort DVI Overclocked PC GDDR5X tarjeta gráfica (renovada)', 'Gigabyte GV-N3080TURBO-10GD GeForce RTX 3080 Turbo 10G rev 2.0 LHR, 10GB GDDR6X, tarjeta gráfica de durabilidad extrema', 'EVGA GeForce RTX 2070 SUPER XC ULTRA GAMING, 8GB GDDR6, Dual HDB Fans, RGB LED, Metal Backplate, 08G-P4-3173-KR (Renovado)', 'VisionTek Radeon HD 5570 1GB DDR3 SFF tarjeta gráfica, 4 puertos VHDCI a HDMI, incluido soporte de altura completa (900901)', 'MAXSUN Geforce RTX 3050 iCraft 8GB GDDR6 OC Edtion Vidoe Gaming Graphics Card GPU PCI Express 4.0 x16 HDMI 2.1', 'MSI GAMING GeForce GTX 1070 8GB GDDR5 DirectX 12 VR Ready (GeForce GTX 1070 SEA HAWK X) (Reacondicionado certificado)', 'ATI FirePro V7900 2GB DDR5 4x DisplayPort PCI-Express tarjeta de vídeo', 'AMD Radeon Pro WX 4100 - Tarjeta gráfica (perfil bajo, 4 GB, GDDR5)', 'ASUS TUF Gaming NVIDIA GeForce GTX 1660 Ti EVO OC Edition Tarjeta gráfica (PCIe 3.0, 6GB GDDR6, HDMI 2.0b, DisplayPort 1.4, lubricante de grado espacial, diseño compacto, GPU Tweak II)', 'PNY NVIDIA Quadro K1200 - (VCQK1200DP-PB)', 'Sapphire 11265-67-20G Radeon Pulse RX 580 8GB GDDR5 Dual HDMI / Dual DP OC con placa trasera (UEFI) PCI-E tarjeta gráfica (renovada)', 'Fuente de alimentación PSU de 2000 W para computadora 8 tarjetas de video minería Bitcoin Miner ATX PC 110V-220V ETH ETC ZEC ZCASH DGB XMR', 'Corsair Series Watt Gold 80+ – Fuente de alimentación modular completamente RMX', 'EVGA Supernova 120-GP-0850-X1, 850 G+, 80 Plus Gold 850W, totalmente modular, ventilador FDB, 10 años de garantía, incluye autocomprobador de encendido, fuente de alimentación', 'EVGA SuperNOVA 1000 G5, 80 Plus Gold 1000W, totalmente modular, modo ECO con ventilador Fdb, 10 años de garantía, tamaño compacto de 150mm, fuente de alimentación 220-G5-1000-X1', 'Modo ECO Totalmente Modular', 'Fuente de alimentación minera de 1600 W PSU 110 V-220 V para 6 GPU ETH BTC Rig Ethereum Miner con cable adaptador de enchufe estadounidense de 4.9 ft, cable adaptador de alta potencia de 24 pines', 'FSP Hydro PTM Pro 850W 80 Plus Platinum Full Modular ATX 12V Fuente de alimentación (HPT2-850M)', 'Fuente de alimentación para Bitmain AntMiner APW7 PSU 1800 W 110 V 220 V para S9 o L3+ o Z9 Mini o D3 con 10 conectores', 'Corsair AXi Series, AX1600i, 1600 W, 80+ Titanio certificado, totalmente modular - Fuente de alimentación digital (CP-9020087-NA)', 'EVGA Supernova 1300 P+, 80+ Platinum 1300W, totalmente modular, 10 años de garantía, incluye autoprobador, fuente de alimentación 220-PP-1300-X1', 'EVGA SuperNOVA 750 P2, 80+ PLATINUM 750W, totalmente modular, modo EVGA ECO, incluye el autoprobador de encendido gratuito, fuente de alimentación 220-P2-0750-X1, negro', 'be quiet! Dark Power Pro 12 1200W, BN646, 80 Plus Titanium Efficiency, Fuente de Alimentación, ATX, Totalmente Digital, Modular, prácticamente inaudible Ventilador de alas silenciosas', 'Thermaltake Toughpower Grand RGB 1200W 80+ Platinum Smart Zero RGB ventilador SLI/CrossFire Ready alimentación continua, Full Modular ATX 12V 2.4/EPS 12V 2.92 Fuente de alimentación PS-TPG-1200F1FAPU-1', 'ASUS ROG Strix 850W White Edition PSU, fuente de alimentación (disipadores de calor ROG, diseño de ventilador de tecnología axial, rodamientos de ventilador de doble bola, tecnología 0dB, certificación 80 Plus Gold, cables totalmente modulares, garantía de 10 años)', 'EVGA 220-GA-0750-X1 Super Nova 750 Ga, 80 Plus Gold 750W, totalmente modular, modo ECO con ventilador Dbb, 10 años de garantía, tamaño compacto de 150mm, fuente de alimentación', '¡Silencio! Straight Power 11 Platinum 1000W, BN644, Totalmente modular, Fuente de alimentación', 'Antec Signature Series SP1300, 80 PLUS Platinum Certified, 1300W Full Modular with OC Link Feature, PhaseWave Design, Full Top-Grade Japanese Caps, Zero RPM Mode, 5.315 in FDB Silence & 10-Year Warranty', 'Fuente de alimentación de minería modular de 2000 W, fuente de alimentación de PC, compatible con 8 GPU Rig para ETH Bitcoin Ethereum Miner 110-220 fuente de alimentación minera con fuente de ventilador controlado automáticamente', 'EVGA Supernova 1600 P+, 80+ Platinum 1600 W, totalmente modular, incluye el autoprobador de encendido gratuito, fuente de alimentación 220-PP-1600-X1', 'HVVH alta potencia 24 Pin Miner/PC GPU ATX totalmente modular 1600W fuente de alimentación soporte doble CPU minería servidor y computadora diseñado para EE.UU. voltaje 110V 1600W', 'Thermaltake SP-550PCBUS - Fuente de poder Smart 80+ ATX 12V 2.4/EPS 12V 2.92', 'AC110-220v ATX Pc 2000W Fuente de Alimentación 8 Tarjeta Gráfica Ethereum ETH BTC Minería Antminer PSU para US CA BR Voltaje', 'EVGA Supernova 120-GP-0650-X1, 650 G+, 80 Plus Gold 650W, totalmente modular, ventilador FDB, 10 años de garantía, incluye autocomprobador de encendido, fuente de alimentación', 'Cougar ATX12 V 1050 Power Supply gx1050 V3', 'Fuente de alimentación de 1800 W ATX Miner Power PSU APW3 Minería 1800 W Fuente de alimentación para Antminer BTC Miner S7 S9 L3 A6 A7 APW3+ Litecoin', 'Segotep Fuente de alimentación de 1250 W, totalmente modular, 80 + fuente de alimentación dorada con ventilador inteligente de 5.512 in', 'Serie Corsair SF', 'Ventilador Smart Pro RGB Zero Thermaltake PS-SPR-0650FPCBUS-R M&Aacute;S Fuente de alimentaci&oacute;n completa modular Bronze', 'Nueva fuente de alimentación de 1600W ~ 2000W PSU para la computadora 8 tarjeta de vídeo minería bitcoin minero ATX PC 110V-220V ETH ETC ZEC ZCASH DGB XMR', 'Silenciador de alimentación y refrigeración para PC serie 1050 Watt 80Plus Platinum totalmente modular Ultra silencioso ATX PC Fuente de alimentación FPS1050-A5M00', 'Enermax Revolution DF 850W - 80 PLUS Fuente de alimentación modular completa, ventilador silencioso de 5.315 in, cable plano negro, ATX Compact 6.299 in, tamaño de 7 años de garantía', 'Lutron Caseta - Interruptor de intensidad de iluminación inteligente inalámbrico (2 unidades).', 'be quiet! Dark Power Pro 12 1500W, BN647, 80 Plus Titanium Efficiency, Fuente de Alimentación, ATX, Totalmente Digital, Modular, prácticamente inaudible Ventilador de alas silenciosas', 'L-POWER 1000W Power Suply Super Silent Modular Serie 80+ Gold PSU Full Modular, Active PFC ATX, 4.724 in Ventilador LC1000M', '¡Silencio! BN619 Straight Power 11 750W Totalmente Modular Power Supply 80 Plus, Gold 750W ATX unidad de fuente de alimentación', 'Fuente de alimentación de minería de 2000 W, soporte de 8 GPU, equipo de minería GPU, minero ETH, PFC activo, PC 2000 W, fuente de alimentación de minería PSU para 8 GPU ETH Rig Ethereum Miner diseñado 110 V-220 V', 'Fuente de alimentación de minería modular de 1800 W, fuente de alimentación de PC, compatible con 8 GPU Rig para ETH Bitcoin Ethereum Miner con fuente de ventilador controlado térmicamente, fuente de alimentación de 110 V-240 V', 'Fuente de alimentación de minería de 1800 W, fuente de alimentación para PC, compatible con 6 GPU Rig para ETH Bitcoin Ethereum Miner con fuente de ventilador controlado térmicamente, 110 V-240 V, fuente de alimentación, máquina de minería de 12 AWG-2 x 18 AWG, cable de alimentación audaz', 'Seasonic - Cooler Focus Plus 550 Gold SSR-550FX 550W 80+ Gold ATX12V y EPS12V Full, modular de 4.72 pulgadas en FDB, compacto de 5.51 pulgadas, fuente de alimentación', 'HVVH 20+4 Pin Silencioso Reducción de Ruido Minero/PC GPU ATX 1600W Fuente de Alimentación 87 Plus Oro Diseñado para EE.UU. Voltaje 110V 1600w Minería ETH PSU Max Support 8 Gráficos con 4.9 ft US Plug Cable Adaptador', 'Fuente de alimentación Bitmain Antminer APW7 PSU 1800w 110v 220v mucho mejor que APW3++ para S9 o L3+ o Z9 Mini o D3 w/10 conectores', '1800W Minería Fuente de Alimentación Soporte 8 GPU Minería Rig, para ETH Bitcoin Ethereum Miner con fuente de ventilador controlado térmicamente, diseñado para EE.UU. Voltaje 110V', 'GPNE Fuente de alimentación de minería totalmente modular de 1600 W, fuente de alimentación de 24 pines 110 V de alta potencia con ventilador de 5.512 in para aparejo de minería y carcasa ATX PC compatible con servidor de minería de doble CPU', 'SilverStone Technology 800W SFX-L, 80 Plus Titanium Fuente de alimentación modular 100% con condensadores japoneses SX800-LTI-USA, SST-SX800-LTI-USA', 'FSP Mini ITX Solution/Flex ATX 500W Efficiency ≥90% Full Range Active PFC Power Supply (Flex Guru 500W) 500W unidad de fuente de alimentación', 'ASUS ROG STRIX 1000W Gold PSU, fuente de alimentación (disipadores de calor ROG, diseño de ventilador de tecnología axial, rodamientos de ventilador de bolas duales, tecnología 0dB, certificación 80 PLUS Gold, cables totalmente modulares, garantía de 10 años)', 'EVGA SuperNOVA 1300 GT + Free PerFE 12 cable, 80 Plus Gold 1300 W, totalmente modular, modo ecológico con ventilador FDB, incluye el autoprobador de encendido, tamaño compacto de 7.087 in, fuente de alimentación 220-GT-1300-XR', 'ATX - Fuente de alimentación de 1600 W, 110 V-240 V, soporte de PSU de 6 GPU con cable adaptador de enchufe estadounidense, fuente de alimentación de tarjeta de video con ventilador controlado térmicamente automático, compatible con BTC ETC ETH', 'MLLIQUEA Fuente de alimentación de minería de línea larga de 2500 W, fuente de alimentación de minería de 2U para 8 GPU BTC/ETH, 176V-264V PSU con ventilador violento de 15000 RPM', 'Corsair RM850x White Series Full Modular 80PLUS Gold ATX unidad de fuente de alimentación - Blanco', 'NZXT E850 - NP-1PM-E850A-US - Fuente de alimentación ATX de 850 vatios (PSU) - Diseño totalmente modular - 80 Plus Gold Certified - Funcionamiento silencioso - Control digital de voltaje y temperatura - Garantía de 10 años', 'Cooler Master V750 Gold White Edition V2 Full Modular, 750 W, 80+ Gold Efficience, Semi-Fanless Operation, 16AWG PCIe cables de alta eficiencia, 10 años de garantía', 'Fuente de alimentación de minería de 2000 W compatible con 8 GPU para Bitcoin Ethereum Miner ATX PSU 12 V Minería BTC ETH PSU (con 10 líneas de conexión de 6 pines)', 'SilverStone Technology SX1000 Platinum, 80 Plus Platinum 1000 W Fuente de alimentación totalmente modular SFX-L, SX1000-LPT-X V1.1', 'Corsair PSU Serie RMX 1000 W, CP-9020094-EU', 'Siglent Technologies SPD3303X-E salida de fuente de alimentaci&oacute;n triple', 'EVGA Supernova - Fuente de alimentación de 1300 W', 'SilverStone Technology SX1000 80 Plus Platinum 1000W Fuente de alimentación totalmente modular SFX-L SX1000-LPT', 'MUSETEX ATX - Funda de PC con 6 ventiladores ARGB de 4.724 in con ventilador de CPU y fuente de alimentación de 650 W', 'CORSAIR Serie RM (2021), blanco, RM850, 850 W, certificado 80 Plus, fuente de alimentación totalmente modular', 'Phanteks (PH-P1000PS) 80+ Platinum - Divisor de alimentación integrado de 1000 W de diseño totalmente modular Dual System Support Fuente de alimentación', 'AmpFlow SCN-1000-12 Fuente de alimentaci&oacute;n de 12 V CC, 1000W, 80A', 'Tecnología Silverstone', '1800 W minería fuente de alimentación apoyo 8 GPU minería Rig, ETH Miner, Active PFC, PC 1800 W minería fuente de alimentación PSU para 8 GPU ETH Rig Ethereum Miner US voltaje 110V', 'SilverStone Technology Fuente de alimentación para computadora de 850 W PSU totalmente modular con 80 Plus Gold & 5.512 in Design Fuente de alimentación (SST-ST85F-GS-V2)', 'CORSAIR Serie RM (2021), RM750, 750 W, certificación 80 Plus, fuente de alimentación totalmente modular', 'DeepCool Castle 360EX A-RGB WH AIO Enfriador de CPU líquido con tecnología antifugas, 3 ventiladores CF120 mm de 4.724 in, controlador incluido y soporte de sincronización de placa base A-RGB de 5 V, Intel 115X/1200/2066, AMD TR4/AM4', 'Cooler Master MasterLiquid ML360 Illusion Close-Loop AIO CPU líquido refrigerador, cúpula translúcida, bomba de doble cámara de 3ª generación, radiador 240, halo doble MF120 para AMD Ryzen/Intel 1200/1151', 'Corsair iCUE H100i RGB Pro XT, Radiador de 9.449 pulgadas', 'Corsair Hydro X Series XH305i Kit de refrigeración por agua Hardline con bloque de agua XC7 CPU, radiador XR5 de 14.173 in, bomba XD5 Res y ventiladores iCUE QL120 RGB', 'Cooler Master MasterAir MA620M Dual Tower ARGB Enfriador de aire de CPU de alto rendimiento, ventilador SF120R, iluminación de tira hexagonal ARGB, 6 tubos de calor, base chapada en cobre para AMD Ryzen/Intel LGA1151', 'OWC Aura P12 M.2 NVMe SSD unidad de disco óptico', 'Cooler Master MasterLiquid ML360R ARGB Close-Loop AIO CPU Liquid Cooler, 360 Radiador, Bomba de cámara doble, AMD Ryzen/Intel LGA1200/1151', 'EKWB EK-Quantum Reflection PC-O11D D5 PWM Distroplate, Digital RGB, Plexi', 'ASHATA - Kit de refrigeración de agua para PC, radiador universal de refrigeración de agua, tubo, bomba, depósito cilíndrico, ventilador dual, accesorios de montaje, kit de enfriamiento de agua líquido para ordenador', 'Corsair Hydro X Series XD5 RGB Bomba / depósito Combo - Bomba D5 PWM - Depósito de 11.2 fl oz - Diez LED RGB direccionables individualmente, sensor de temperatura, color negro', 'MSI MAG Series CORELIQUID 360R, enfriador líquido de CPU aRGB (AIO): diseño de cabezal de bloqueo giratorio, radiador de 14.173 in, ventiladores triples de 4.724 in aRGB PWM', 'Kit de refrigeración por agua,Kit de refrigeración por agua para PC de 9.449 in de disipador de calor CPU Bloque de agua LED Ventilador de computadora Kit de refrigeración por agua Sistemas de refrigeración por agua', 'Juego de refrigeración por agua para computadora, kit de refrigeración por agua de PC, 18 vías fluviales todo en uno kit de enfriador de CPU líquido con bomba de agua SC600, tanque de agua y ventiladores, bomba de bloque G1/4 CPU/GPU, disipador de calor, refrigeración por agua', 'Kit de refrigeración por agua para PC DIY Kit de refrigeración por agua con enfriador CPU/GPU bloque cilíndrico bomba de depósito de agua LED ventilador 9.449 in disipador de calor kit todo en uno líquido computadora refrigeración agua conjunto', 'Wendry Kit de refrigeración por agua de 9.449 in DIY para ordenador, todo en uno líquido PC refrigeración por agua, enfriador CPU/GPU bloque bomba depósito CPU Cooler Kit con ventilador LED disipador de calor', 'Thermaltake Pacific CL480 - Radiador de cobre de 2.520 in de espesor CL-W192-CU00BL-A', 'Razer Kunai - Ventilador hidráulico de PC aRGB de 4.724 in: silencioso y potente ventiladores aRGB – Soporte para controlador de ventilador PWM y conexión hasta 8 ventiladores – Alimentado por Razer Chroma RGB – 3 ventiladores', 'v-Color Prism RGB DDR4 16 GB (2 x 8 GB) 3200 MHz (PC4-25600) CL16 1.35 V módulo de memoria RAM Upgrade Gaming UDIMM - Gris (TL48G32S8KGRGB16)', 'Corsair Vengeance LPX 16GB (2 x 8GB) DDR4 3600 MHz (PC4-28800) C18 1.35V - Memoria de escritorio - negro (CMK16GX4M2D3600C18)', 'Corsair Vengeance RGB Pro 32 GB (2 x 16 GB) DDR4 3600 (PC4-28800) C18 memoria optimizada AMD – negro', 'Corsair Vengeance RGB Pro 32GB (2x16GB) DDR4 3200 (PC4-25600) C16 - Memoria de sobremesa, color negro', 'Corsair Vengeance RGB Pro 16GB (2x8GB) DDR4 3200MHz C16 LED. Memoria de computadora de escritorio. Color negro.', 'TEAMGROUP T-Force Delta RGB DDR4', 'G.Skill Trident Z NEO Series 32 GB (2 x 16 GB) 288 pines SDRAM PC4-28800 DDR4 3600 CL18-22-42 1.35V Dual Channel Desktop Memory Model F4-3600C18D-32GTZN', 'Samsung Módulo de memoria RAM DDR4 de 32 GB, 2666 MHz, para ordenadores portátiles (260 pines, SODIMM, 1,2 V) M471A4G43MB1', 'PNY 16GB DDR4 2666MHz Portátil RAM de memoria - (MN16GSD42666)', 'TEAMGROUP T-Force Zeus DDR4 32 GB (2 x 16 GB) 2666 MHz (PC4-21300) CL19 Módulo de memoria RAM - TTZD432G2666HC19DC01', 'MTXtec M471A4G43AB1-CWE - Módulo de memoria RAM para portátil (32 GB, DDR4, 3200 MHz, PC4-25600, 1,2 V, 2Rx8, 260 pines, SODIMM)', 'Corsair Vengeance LPX 16GB (2x8GB) DDR4 DRAM 2400MHz C16 Kit de memoria de escritorio - negro (CMK16GX4M2A2400C16)', 'Silicon Power Value Gaming DDR4 RAM 32 GB (16 GBx2) 3200 MHz (PC4 25600) 288 pines CL16 1.35 V UDIMM módulo de memoria de escritorio con disipador térmico gris SP032GXLZU320BDAJ7', 'Patriot Signature Premium DDR4 32GB (2x16GB) 2666MHz (PC4-21300) Kit UDIMM con Heatshield PSP432G2666KH1', 'G.SKILL Ripjaws serie V F4-2400C15D-16GVR memoria de computadora de escritorio de 16&nbsp;GB (2 x 8&nbsp;GB), DDR4 2400 288-Pin (PC4 19200), Intel Z170/X99', 'Silicon Power Value Gaming DDR4 RAM 16 GB (8 GBx2) 3200 MHz (PC4 25600) CL16 1.35 V módulo de memoria de escritorio con disipador de calor, camuflaje gris SP016GXLZU320BDAJ5', 'Corsair Vengeance RGB Pro 32 GB (4 x 8 GB) DDR4 3200 MHz C16 LED - Negro', 'v-Color - Memoria DDR4 SO-DIMM para portátil de 16 GB (1 x 16 GB, 3200 MHz, 1,2 V, CL22, 260 pines (TN416G32D822)', 'Timetec 16 GB Kit (2 x 8 GB) DDR3L / DDR3 1600 MHz (DDR3L-1600) PC3L-12800 / PC3-12800 No-ECC sin búfer 1.35V/1.5V CL11 2Rx8 Dual Rank 204 Pin SODIMM ordenador portátil ordenador portátil memoria RAM módulo actualización', 'Kimtigo DDR4 16 GB 2666 MHz UDIMM 288 Pin PC PC Desktop Memory Unbuffered Non-ECC Module Ram Upgrade PC4-21300 CL19 1.2V', 'G.Skill RipJaws V Series BLACK 64GB (4 x 16GB) 288-Pin SDRAM DDR4 3200 (PC4-25600) CL16-18-18-38 1.35V Quad Channel Desktop Memory Model F4-3200C16Q-64GVK', 'G.Skill RipJaws SO-DIMM Series 16 GB (2 x 8 GB) 260 pines DDR4 3200 (PC4-25600) CL22-22-52 1.20 V SO-DIMM modelo de memoria F4-3200C22D-16GRS', 'G.Skill Ripjaws V Series 32 GB (2 x 16 GB) 288 pines SDRAM (PC4-25600) DDR4 3200 CL16-18-38 1.35V Dual Channel Desktop Memory Model F4-3200C16D-32GVK', 'TEAMGROUP T-Create Expert Overclocking 10L DDR4 16GB Kit (2 x 8GB) 3200MHz (PC4 25600) CL16 Módulo de memoria RAM - TTCED416G3200HC16FDC01', 'Corsair Vengeance RGB Pro 32GB (4x8GB) DDR4 3600 (PC4-28800) C18 - Memoria de sobremesa, color negro', 'PNY XLR8 Gaming 32GB (2x16GB) DDR4 DRAM 3200MHz (PC4-25600) CL16 1.35V Kit de memoria de escritorio de doble canal (DIMM) - MD32GK2D4320016AXR', 'Corsair Vengeance RGB Pro 16 GB (2 x 8 GB) DDR4 3600 (PC4-28800) C18 - Memoria de escritorio - Negro', 'G.Skill Ripjaws V Series 32 GB (2 x 16 GB) 288 pines SDRAM (PC4-28800) DDR4 3600 CL16-19-19-39 1.35V Dual Channel Desktop Memory Model F4-3600C16D-32GVKC', 'Nemix - Memoria RAM (64 GB, 2 x 32 GB, DDR4-2933, PC4-23400, 2 Rx4, ECC)', 'TEAMGROUP T-Force Dark Z 32GB Kit (2x16GB) DDR4 Dram 3600MHz (PC4-28800) CL18 288-Pin Desktop Memory Module Ram (Gray) - TDZGD432G3600HC18JDC01', 'Corsair Vengeance LPX 16 GB (2 x 8 GB) DDR4 3200 (PC4-25600) C16 1,35 V memoria de escritorio, color negro', 'G.Skill Trident Z RGB Series 128 GB (4 x 32 GB) 288 pines SDRAM (PC4-28800) DDR4 3600 CL18-22-42 1.35V Quad Channel Desktop Memory Model F4-3600C18Q-128GTZR', 'G.Skill Trident Z RGB Series 64 GB (2 x 32 GB) 288 pines SDRAM (PC4-28800) DDR4 3600 CL18-22-42 1.35V Dual Channel Desktop Memory Model F4-3600C18D-64GTZR', 'Corsair Vengeance RGB Pro 32 GB (2 x 16 GB) 2666 C16 DDR4 Memoria de escritorio - Negro, número de modelo: CMW32GX4M2A2666C16', 'A-Tech 16GB DDR4 2133 MHz SODIMM PC4-17000 (PC4-2133P) CL15 2Rx8 Non-ECC Módulo de memoria RAM para portátil', 'TEAMGROUP Elite DDR3L - Kit de 16 GB (2 x 8 GB) 1600 MHz PC3-12800 CL11 sin búfer ECC 1.35 V SODIMM 204 pines portátil PC módulo de memoria RAM actualización - TED3L16G1600C11DC-S01', 'G.Skill RipJaws V Series 16 GB (2 x 8 GB) 288 pines SDRAM PC4-25600 DDR4 3200 CL16-18-38 1.35 V memoria de escritorio de doble canal modelo F4-3200C16D-16GVKB', 'Gigabyte AORUS GP-ARS16G44 RGB Memoria DDR4 16GB (2x8GB) 4400MHz', 'G.Skill Trident Z NEO Series 16 GB (2 x 8 GB) 288 pines SDRAM (PC4-28800) DDR4 3600 CL16-19-19-39 1.35 V Dual Channel Desktop Memory Model F4-3600C16D-16GTZNC', 'HyperX Fury Black - Disco duro (64 GB, 3466 MHz, DDR4, CL17, DIMM)', 'Crucial 32 GB Kit (16gbx2) DDR4 – 2133 MT/s (PC4 – 2133) CL15 Dual ranked x4based ECC Registered memoria del servidor ct2 K16g4rfd4213', 'Corsair Vengeance RGB Pro 64 GB (4 x 16 GB) DDR4 3200 (PC4-25600) C16 - Memoria de sobremesa, color negro', 'Patriot Viper Steel - Módulo de memoria DDR4 (16 GB, 2400 MHz, CL15, SODIM), color negro', 'G.Skill RipJaws Series 32 GB (2 x 16 GB) 260 pines SO-DIMM PC4-25600 DDR4 3200 CL22-22-52 1.20 V memoria de doble canal modelo F4-3200C22D-32GRS', '32 GB (2 x 16 GB) DDR3-1600 MHz PC3-12800 ECC RDIMM 2Rx4 1.35 V memoria registrada para servidor/estación de trabajo', 'G.Skill RipJaws V Series 16 GB (2 x 8 GB) 288 pines SDRAM PC4-28800 DDR4 3600 CL18-22-42 1.35 V de memoria de escritorio de doble canal modelo F4-3600C18D-16GVK', 'Samsung m471 a2 K43bb1-cpb 16 GB DDR4 – 2133 SODIMM CL15 Notebook Memory', 'A-Tech - Módulos de memoria RAM de escritorio de 16 GB (2 x 8 GB) DDR3 1600 MHz UDIMM PC3-12800 CL11 DIMM 2Rx8 1.5 V', 'TEAMGROUP T-Force Xtreem ARGB 3600MHz CL14 32GB (2x16GB) PC4-28800 Dual Channel DDR4 DRAM Desktop Gaming Memory Ram (blanco) TF13D432G3600HC14CDC01', 'Samsung 16GB DDR4 PC4-21300, 2666MHZ, 288 PIN DIMM, 1.2V, CL 19 módulo de memoria RAM de escritorio', 'G.Skill RipJaws V Series 64 GB (2 x 32 GB) 288 pines SDRAM DDR4 3600 (PC4-28800) CL18-22-42 1.35 V Dual Channel Desktop Memory Modelo F4-3600C18D-64GVK', 'PNY XLR8 Gaming 32GB (2x16GB) DDR4 DRAM 2666MHz (PC4-21300) CL16 1.2V Kit de memoria de escritorio de doble canal (DIMM) de perfil bajo - MD32GK2D4266616LP', 'Crucial Ballistix - Kit de memoria para juegos de computadora, RGB, 3000 MHz, DRAM DDR4', 'Netac 16 GB (2 x 8 GB) DDR4 DRAM 3200 MHz C16 (PC4-25600) 1.35 V 288 pines Kit de módulo de memoria de escritorio para computadora de juegos de doble canal - Gris', 'A-Tech - Memoria RAM de 32 GB (2 x 16 GB) para Apple iMac 2017 (27 pulgadas Retina 5K y 21,5 pulgadas Retina 4K) | DDR4 2400 MHz SODIMM PC4-19200 2Rx8 1.2V 260 pines SO-DIMM', 'Corsair Vengeance LPX 32GB (2 x 16GB) DDR4 DRAM 3600MHz C18 AMD Ryzen Kit de memoria - Negro', 'Kingston FURY Beast Kit de memoria de escritorio de 2 KF426C16BBK2/32, 32 GB (2 x 16 GB) 2666 MHz DDR4 CL16, negro', 'TEAMGROUP T-Force Delta RGB DDR5 32 GB Kit (2 x 16 GB) 6400 MHz (PC5-51200) CL40 módulo de memoria RAM (negro) para Z690 - FF3D532G6400HC40BDC01.', 'TEAMGROUP T-Force Xtreem ARGB 3600MHz CL18 64GB (8x8GB) PC4-28800 Quad Channel DDR4 DRAM Desktop Gaming Memory Ram (azul) para TRX40 - TF10D464G3600HC18JOC01', 'G.Skill SO-DIMM - Memoria DDR4-2666 (16 GB, DDR4-2666C19S-16GRS)', 'Corsair RGB PRO 16GB (2x8GB) DDR4 2933 (PC4-23400) C16 - Memoria de escritorio - negro (CMW16GX4M2Z2933C16)', 'Adamanta - Memoria de 64 GB (2 x 32 GB) para Apple iMac 2020 y 2019, pantalla Retina 5K y 2018 Apple Mac Mini DDR4 2666Mhz PC4-21300 SODIMM 2Rx8 CL19 1,2 V DRAM', 'Kingston FURY Renegade KF436C18RB/32 - Memoria de escritorio DDR4 CL18 (32 GB, 3600 MHz, DDR4 CL18)', 'Corsair Vengeance LPX 64 GB (2 x 32 GB) DDR4 3600 (PC4-28800) C181.35V - Memoria de escritorio (2 x 32 GB), color negro', 'G.Skill Trident Z NEO Series 64GB (2 x 32GB) 288-Pin SDRAM PC4-28800 DDR4 3600 CL18-22-22-42 1.35V Dual Channel Desktop Memory Modelo F4-3600C18D-64GTZN', 'TEAMGROUP T-Force Xtreem ARGB 3600MHz CL18 64GB (2x32GB) PC4-28800 Dual Channel DDR4 DRAM Desktop Gaming Memory Ram (azul) TF10D464G3600HC18JDC01', 'Corsair Vengeance RGB Pro SL 16GB (2x8GB) DDR4 3200 (PC4-25600) C16 - Memoria de escritorio - negro (CMH16GX4M2E3200C16)', 'Corsair Vengeance LPX 16GB (2x8GB) DDR4 3600 (PC4-28800) C16 1.35V AMD e Intel Optimized Desktop Memory - Negro', 'VisionTek OCPC X3TREME Aura RGB 16GB (8GBx2) DRAM DDR4 3000MHz RAM Kit de memoria por VisionTek (blanco)', 'Corsair Vengeance RGB Pro SL 32GB (2x16GB) DDR4 3600MHz (PC4-28800) C18 1.35V - Memoria de escritorio - negro (CMH32GX4M2D3600C18)', 'Netac Módulo de memoria para computadora de escritorio, 16 GB, DDR4, 2666 MHz (PC4-21300), DRAM 1,2 V, 288 pines, color gris', 'Corsair Vengeance RGB Pro 32GB (2x16GB) DDR4 3200 (PC4-25600) C16 Memoria de escritorio - Negro (CMW32GX4M2C3200C16)', 'Corsair Vengeance LPX 16GB (2x8GB) DDR4 4000 (PC4-3200) C16 1.35V Intel Optimized Desktop Memory - Negro', '32 GB DDR4 3200 MHz PC4-25600 SODIMM 2Rx8 CL22 1.2v 260-pin Notebook DRAM M471A4G43AB1-CWE Adamanta', 'G.Skill Trident Z NEO Series 32GB (2 x 16GB) 288-Pin SDRAM DDR4 4000 (PC4-32000) CL18-22-22-42 1.40V Dual Channel Desktop Memory Modelo F4-4000C18D-32GTZN', 'TEAMGROUP T-Create Classic DDR4 SODIMM - Módulo de memoria RAM de 32 GB 3200 MHz (PC4- 25600) 260 pines CL22 - TTCCD432G3200HC22-S01', 'ADATA Premier Series 8GB DDR4 PC4-19200, 2400 MHz 288 PIN DIMM, CL 15, 1,2 V RAM actualización de memoria AD4U240038G17S', 'TEAMGROUP T-Force RGB módulo de memoria Ram', 'G.Skill PC4-21300 Ripjaws V - Disco duro para Intel Z170/X99 CL18 (64 GB, DDR4, 2666 MHz, 2 x 32 GB, 1,2 V)', 'Memoria DDR3-1866 MHz PC3-14900 ECC RDIMM 2Rx4 de 1,5 V, 32 GB (2 x 16 GB)', 'TEAMGROUP T-Force Vulcan Z DDR4 16 GB Kit (2 x 8 GB) 3000MHz (PC4-24000) CL16 Módulo de memoria de escritorio RAM (rojo) - TLZRD416G3000HC16FDC01', 'TEAMGROUP Elite DDR4 - Kit de 32 GB (2 x 16 GB) 3200 MHz PC4-25600 CL22 sin búfer ECC 1.2 V SODIMM 260 pines Notebook PC computadora portátil módulo de memoria RAM actualización - TED432G3200C22DC-S01', 'Corsair CMW32GX4M4K4000C19 Vengeance RGB PRO 32GB (4x8GB) DDR4 4000 (PC4-32000) C19 Memoria de escritorio negro', 'NEMIX RAM Kit de 32 GB (2 x 16 GB) DDR4-3200 PC4-25600 no ECC memoria de escritorio sin búfer', 'TEAMGROUP T-Force Xtreem ARGB 3600MHz CL18 128GB (8x16GB) PC4-28800 Quad Channel DDR4 DRAM Desktop Gaming Memory Ram (azul) para TRX40 - TF10D4128G3600HC18JOC01', 'adamanta 16 GB (1 x 16GB) Laptop Memory Upgrade for Dell Alienware, Inspiron, Precision & XPS DDR4 2400 MHz PC4 – 19200 SODIMM 2RX8 CL17 1,2 V Ram DRAM', 'TEAMGROUP T-Force Vulcan Z DDR4 64GB Kit (2x32GB) 3600MHz (PC4-28800) CL18 Módulo de memoria RAM (rojo) - TLZRD464G3600HC18JDC01', 'Kingston FURY Renegade KF432C16RBK2/64 - Memoria de escritorio (64 GB, 3200 MHz, DDR4 CL16, 2 unidades)', 'G.Skill AEGIS Series 16 GB (2 x 8 GB) 288 pines SDRAM (PC4-25600) DDR4 3200 CL16-18-38 1.35 V Dual Channel Desktop Memory Model F4-3200C16D-16GIS', 'Kingston FURY Impact KF429S17IB/16 - Memoria para portátil DDR4 CL17 (16 GB, 2933 MHz, memoria monocromática), color negro', 'G.Skill Ripjaws X Series 16 GB (2 x 8 GB) 240 pines SDRAM (PC3-12800) DDR3 1600 CL10-10-10-30 1.50V Dual Channel Desktop Memory Model F3-12800CL10D-16GBXL', 'adamanta 32 GB (2 x 16GB) Laptop Memory Upgrade for Dell Alienware, Inspiron, Precision & XPS DDR4 2400 MHz PC4 – 19200 SODIMM 2RX8 CL17 1,2 V Ram DRAM', 'Predator Talos DDR4 - Memoria DRAM U-DIMM (3600 MHz, 16 GB (8 GB2) CL18 1.35 V)', 'TEAMGROUP Elite - Kit de 16 GB (2 x 8 GB) DDR4 2400 MHz PC4-19200 CL16 sin búfer ECC 1.2 V SODIMM 260 pines Notebook PC computadora portátil módulo de memoria RAM actualización - TED416G2400C16DC-S01', 'G.Skill - Kit de actualización de memoria para portátil DDR4 SO-DIMM (16 GB, 2666 MHz, 1,20 V, PC4-21300, 2 x 8 GB)', 'Adamanta - Memoria de 64 GB (2 x 32 GB) para Apple iMac de 2019 y 2020 (iMac 19,1 iMac 20,1 iMac 20,2) Retina 5K Display, 2018 Mac Mini DDR4 2666 Mhz PC4-21300 SODIMM 2Rx8 CL1 9 1.2 v DRAM', 'Timetec Kit de 32 GB (2 x 16 GB) compatible con Apple DDR4 2666 MHz / 2667 MHz para mediados de 2020 iMac (20,1/20,2) / mediados de 2019 iMac (19,1) 27 pulgadas con Retina 5K, Mac Mini (8,1) PC4-213333 / PC4 / PC4 / PC4 4-213 00 MAC RAM', 'Kingston FURY Renegade KF432C16RB/32 - Memoria de escritorio DDR4 CL16 (32 GB, 3200 MHz)', 'G.Skill Ripjaws V Series 32GB (2 x 16GB) 288-Pin SDRAM (PC4-19200) DDR4 2400 CL15-15-15-35 1.20V Dual Channel Desktop Memory Modelo F4-2400C15D-32GVR', '2015 4 x 8 GB/2019 2 x 16 GB 4 x 32 GB., 32 GB (2 x 16 GB).', 'Mushkin Silverline Series – DDR4 DRAM de computadora – 32 GB (2 x 16 GB) Kit de memoria DIMM – 2400 mhz (PC4 – 19200) CL-17 – 288-Pin 1.2 V Ram – no ECC – doble canal – Tacón Stiletto V2 disipador de calor de plata – (msl4u240hf16gx2)', 'G.SKILL Aegis 16GB 288-Pin DDR4 SDRAM DDR4 2666 (PC4 21300) Desktop Memory Model F4-2666C19S-16GIS', 'MTXtec M471A2K43DB1-CWE - Módulo de memoria RAM para portátil (16 GB, DDR4, 3200 MHz, PC4-25600, 1,2 V, 2Rx8, 260 pines, SODIMM)', 'A-Tech Módulos de memoria RAM para portátil de 16 GB (2 x 8 GB) DDR4 de 3200 MHz SODIMM PC4-25600 (PC4-3200AA) CL22 sin ECC', 'Gloway DDR4 Ram 16 GB (2 x 8 GB) 3200 MHz (PC4-25600) CL16 1.35 V 288 pines DDR4 UDIMM Kit de memoria de escritorio de aluminio, gris', 'ASTRA GEAR 16GB Kit (2x8GB) DDR4 3000MHz PC4-24000 CL16 Desktop Memory - Black AHD1600SJ8G8E8G30K', 'v-Color Prism Pro DDR4 16 GB (8GBx2) 3200MHz (PC4-25600) CL16 RGB Gaming Desktop Ram Memory Module UDIMM Hynix IC Single Rank - Negro azabache (TL8G32816C-E6PRKWK)', 'G.Skill DDR4 Aegis 3000MHz PC4-24000 CL16 - Memoria de doble canal (2 x 16 GB)', 'Patriot Memory Signature DDR3 16GB (2 x 8GB CL11 PC3-12800 (1600MHz) DIMM Kit PSD316G1600KH', 'Corsair Vengeance Performance - Memoria SODIMM de 64 GB (2 x 32 GB, DDR4, 2933 MHz, CL19, sin búfer para Intel Core i7, y portátiles AMD Ryzen 4000 Series, 8 o más recientes)', 'Memoria HyperX Predator DIMM XMP, RGB', 'Synology RAM DDR4-2666 ECC SO-DIMM 16GB (D4ECSO-2666-16G)', 'TEAMGROUP T-Force Xtreem - Kit de memoria RAM de 16 GB (2 x 8 GB) 4800 MHz (PC4-38400) CL20 DDR4 para juegos, color negro, TXKD416G4800HC20ADC01', 'G.Skill RipJaws V Series 16 GB (2 x 8 GB) 288 pines SDRAM PC4-28800 DDR4 3600 CL16-19-19-39 1.35 V de memoria de escritorio de doble canal modelo F4-3600C16D-16GVKC', 'NVTEK 16GB DDR4-3200 PC4-25600 UDIMM PC de sobremesa no ECC UDIMM Actualización de memoria RAM', 'OWC Actualización de memoria DDR4 SO-DIMM PC4-19200 de 32 GB (4 x 8 GB) 2400 MHz compatible con 27 pulgadas iMac con pantalla Retina 5K', 'adamanta 16 GB (1 x 16GB) Laptop Memory Upgrade for Lenovo Flex 4, IdeaPad, ThinkPad, Yoga, DDR4 2133 MHz PC4 – 17000 SODIMM 2RX8 CL15 1,2 V Ram DRAM', 'TEAMGROUP Elite DDR4 16 GB Kit (2 x 8 GB) 3200MHz (PC4-25600) 1R X16 CL22 sin búfer no ECC 1.2V UDIMM 288 Pin PC PC Desktop Memory Module Ram Upgrade - TED416G3200C22DC016', 'Corsair Vengeance RGB Pro SL 32GB (2x16GB) DDR4 3600 (PC4-28800) C18 1.35V optimizado para AMD Ryzen, negro (CMH32GX4M2Z3600C18)', 'TEAMGROUP Elite DDR4 - Kit de 32 GB (2 x 16 GB) 2666 MHz PC4-21300 CL19 sin búfer ECC 1.2 V SODIMM 260 pines Notebook PC computadora portátil módulo de memoria RAM actualización - TED432G2666C19DC-S01', 'NVTEK 32 GB (2 x 16 GB) DDR4-2666 PC4-21300 SODIMM - Memoria RAM actualizada', 'LEVEN RGB 32 GB KIT (16 GBx2) DDR4-3200 MHz PC4-25600 288-Pin U-DIMM CL22 PNP Overclocking Gaming RAM Módulo de memoria de sobremesa rojo (JRGP4U3200172408R-16Mx2)', 'Adamanta 32 GB (1 x 32 GB) DDR4 2666 MHz PC4-21300 SODIMM 2Rx8 CL19 1.2v Laptop Memory Upgrade Notebook DRAM RAM M471A4G43MB1-CTD', 'G.Skill Trident Z Royal Series [Plata] 32 GB (2 x 16 GB) 288-Pin SDRAM (PC4-28800) DDR4 3600 CL19-20-20-40 1.35V Dual Channel Desktop Memory Modelo F4-3600C19D-32GTRS', 'TEAMGROUP Elite DDR4 - Kit de 16 GB (2 x 8 GB) 3200 MHz PC4-25600 CL22 sin búfer ECC 1.2 V SODIMM 260 pines Notebook PC computadora portátil módulo de memoria RAM actualización - TED416G3200C22DC-S01', 'Kingston FURY Renegade KF432C16RBK4/128 - Memoria de escritorio (128 GB, 4 x 32 GB, 3200 MHz, DDR4 CL16', 'G.Skill Trident Z RGB Series 32 GB (2 x 16 GB) 288 pines SDRAM (PC4-24000) DDR4 3000 CL16-18-38 1.35V Dual Channel Desktop Memory Model F4-3000C16D-32GTZR', 'Corsair Vengeance RGB PRO 128GB (4x32GB) DDR4 3000 (PC4-24000) C16 - Memoria de sobremesa - Negro (CMW128GX4M4D3000C16)', 'V-Color Skywalker Plus 64 GB (2 x 32 GB) DDR4 3200 MHz (PC4-25600) Modelo de memoria de escritorio de gama alta, acabado de espejo de metal disipador de calor doble rango CL16 1.35 V astilla (TO432G32D816ASPSXK)', 'G. Skill 32 GB (4 x 8 GB) tridentz RGB Series DDR4 PC4 – 32000 4000 MHz 288-Pin computadora Memoria modelo F4 – 4000 °C17q-32gtzr', 'v-Color 16 GB (2 x 8 GB) DDR4 2666 MHz RAM para ordenador portátil iMac 2020 y 2019 Apple27 con pantalla Retina 5K iMac SO-DIMM módulo de memoria RAM actualización CL19 1.2 V (TN48G26S819K-VC)', 'G.SKILL F3-1600C9D-16GXM Ripjaws X Series 16 GB (2 x 8 GB) 240 pines DDR3 SDRAM DDR3 1600 (PC3 12800)', 'v-Color 32 GB (2 x 16 GB) de memoria de servidor de doble rango DDR4 2666 MHz (PC4-21300) ECC DIMM 1.2 V CL19 2Rx8 (TE416G26D819K-VKC)', 'Patriot Viper Steel DDR4 - Módulo de memoria DDR4 (16 GB, 2666 MHz, CL18, SODIMM), color negro', 'Timetec Kit de 16 GB (2 x 8 GB) compatible con Apple DDR3L de 1600 MHz para Mac Book Pro (inicial/finales de 2011, mediados de 2012), iMac (mediados de 2011, finales de 2013, finales de 2014, mediados de 2015), Mac Mini (mediados de 201111, finales de 2 33333333', 'Corsair CMT64GX4M4Z3600C18 Corsair Dominator Platinum - Memoria RAM (64 GB, 4 x 16 GB, DDR4, 3600, PC4-28800, C18, 1,35 V), color negro', 'G.Skill RipJaws Serie V - Memoria SDRAM de 128 GB (4 x 32 GB, 288 pines, PC4-28800, DDR4, 3600, CL18-22-22-42, 1,35 V, Quad Canal, modelo F4-3600C18Q-128GVK)', 'v-Color 32 GB (2 x 16 GB) DDR4 2400 MHz para iMac 2017 27 pulgadas con pantalla Retina 5K y 21,5 pulgadas con pantalla Retina 4K o sin Retina DDR4 iMac SO-DIMM CL17 1.2V (TN416G24D817K-VC)', 'Corsair Vengeance RGB Pro 16 GB (1 x 16 GB) DDR4 3600 (PC4-28800) C18 Optimizado para AMD Ryzen - Negro', 'Silicon Power DDR4 - Kit de 16 GB (2 x 8 GB) turbina 3600 MHz (PC4 28800) C18 módulo de memoria RAM (SP016GXLZU360BDA)', 'A-Tech | Dell Inspiron 3268, 3668, 5675, 5676 Desktop | DDR4 2400 MHz PC4-19200 DIMM | Parent 16GB', 'Corsair Apple Certified 16 GB (2x8 GB) DDR3 1600MHz (PC3 12800) Laptop Memory 1.35V', 'Timetec Hynix IC 32GB KIT(2x16GB) DDR4 SODIMM para Intel NUC KIT Productos 2133MHz PC4-17000 Non ECC sin búfer 1.2V CL15 Dual Rank 260 Pin Laptop Notebook Memory Ram Module Upgrade(32GB KIT(2x16GB))', 'Timetec 32 GB KIT(2 x 16 GB) DDR4 2666 MHz PC4-21300 Unbuffered ECC UDIMM 1.2 V CL19 2Rx8 Dual Rank 260 Pin SODIMM Memory RAM Module Upgrade (32 GB KIT(2 x 16 GB))', 'Patriot Signature Line Series DDR4 32 GB (1 x 3G2B) 3200 MHz SODIMM Single', 'Nemix Ram - Memoria registrada de Nemix Ram (32 GB, 2 x 16 GB, DDR4-3200 PC4-25600 2Rx8 RDIMM ECC', 'G.Skill Trident Z NEO Series 64GB (2 x 32GB) 288-Pin SDRAM DDR4 3200 (PC4-25600) CL16-18-38 1.35V Dual Channel Desktop Memory Modelo F4-3200C16D-64GTZN', 'TEAMGROUP T-Create Expert Overclocking 10L DDR4 16GB Kit (2 x 8GB) 3200MHz (PC4 25600) CL14 Módulo de memoria RAM - TTCED416G3200HC14BDC01', 'Corsair Vengeance RGB Pro 16 GB (2 x 8 GB) DDR4 3600 (PC4-28800) C18 AMD - Memoria optimizada - Negro', 'TEAMGROUP T-Force Xtreem ARGB 5066MHz CL20 16GB (2x8GB) PC4-40600 Dual Channel DDR4 DRAM Desktop Gaming Memory Ram (blanco) TF13D416G5066HC20BDC01', 'AMD Ryzen 5 5600G Procesador de escritorio desbloqueado de 6 núcleos de 12 hilos con gráficos Radeon', 'AMD Ryzen 9 5900X - Procesador de escritorio desbloqueado de 12 núcleos, 24 hilos', 'AMD Ryzen 5 5600X 6 núcleos y 12 hilos desbloqueados procesador de escritorio con Wraith Stealth Cooler', 'AMD Ryzen 9 5950X - Procesador de escritorio desbloqueado de 32 hilos de 16 núcleos', 'Procesador Intel Core i5-10400 de 6 núcleos de hasta 4,3 GHz LGA1200 (chipset Intel serie 400) 65 W, número de modelo: BX8070110400', 'AMD Ryzen 7 5800X - Procesador de escritorio desbloqueado de 8 núcleos, 16 hilos', 'Intel Core i7-12700KF Procesador de escritorio 12 (8P+4E) núcleos de hasta 5.0 GHz desbloqueado LGA1700 serie 600 chipset 125W', 'Procesador Intel Core i7-11700K para equipos de escritorio + combo de placa madre GIGABYTE', 'Intel Core i9-11900K Procesador de escritorio de 8 núcleos de hasta 5.3 GHz desbloqueado LGA1200 (Intel 500 Series & Select 400 Series) 125W', 'Procesador de escritorio MSI MEG Intel Core i7-10700KF LGA1200 de 8 núcleos de hasta 5.1 GHz desbloqueado sin gráficos de procesador', 'AMD Ryzen 7 3700X - Procesador de escritorio desbloqueado de 16 hilos con enfriador LED Wraith Prism', 'Intel® Core™ i7-11700 Procesador de escritorio 8 núcleos hasta 4.9 GHz LGA1200 (Intel® 500 Series & Select 400 Series) 65W', 'Intel Core i5 (12.ª generación) i5-12500 3 GHz Procesador - Paquete al por menor', 'AMD Ryzen 7 5700G Procesador de escritorio desbloqueado de 8 núcleos de 16 hilos con gráficos Radeon', 'Procesador Intel Core i9-10900K para equipos de sobremesa de 10 núcleos de hasta 5,3 GHz LGA1200 (chipset Intel serie 400) 125W', 'Intel® Core™ i5-11600K Procesador de escritorio 6 núcleos hasta 4.9 GHz desbloqueado LGA1200 (Intel® 500 Series & Select 400 Series) 125W', 'Procesador para computadora de escritorio AMD Ryzen 7 3800X de 8 núcleos, 16 hilos de ejecución, desbloqueado, con ventilador Wraith Prism con iluminación LED', 'AMD YD297XAZAFWOF Ryzen Threadripper 2970WX 24 núcleos, procesador de 48 hilos, paquete de 1', 'Intel Core i5-10400F Procesador de escritorio 6 núcleos de hasta 4,3 GHz sin gráficos de procesador LGA1200 (chipset Intel serie 400) 65W, Número de modelo: BX8070110400F', 'Procesador Intel Core i7-9700K para equipos de escritorio.', 'Intel BX80684I99900KF Intel Core i9-9900KF Procesador de escritorio 8 núcleos hasta 5.0 GHz Turbo desbloqueado sin gráficos de procesador LGA1151 300 Series 95W', 'Intel Core i3-9100 Procesador de escritorio 4 núcleos hasta 4.2 GHz LGA1151 300 Series 65W', 'AMD Ryzen 5 1600 65W AM4 Processor with Wraith Stealth Cooler (YD1600BBAFBOX)', 'Intel BX80662I56600K Core i5 6600K 3.50 GHz Quad Core Skylake Procesador de escritorio, Socket LGA 1151, caché de 6 MB', 'Procesador AMD Ryzen 7 2700X con ventilador LED de prisma Wraith - YD270XBGAFBOX', 'Intel Core i7 i7-3770 3.40 GHz Procesador - Socket H2 LGA-1155 CM8063701211600 (Renovado)', 'Intel Core i7-2600 - Procesador Quad-Core (3,4 GHz, 8 MB de caché, LGA 1155, BX80623I72600, reacondicionado)', 'Procesador Intel Pentium G5400 de doble núcleo (2 núcleos) de 3,70 GHz – Socket H4 LGA-1151 bandeja OEM', 'Intel XEON 16 Core - Procesador (E5-2683V4, 2,1 GHz, 40 MB, SMART CACHE, 9,6 GT/S, QPI TDP 120 W)', 'Procesador Intel Core i5-6500 BX80662I56500 - caché de 19.7 ft, hasta 3,60 GHz (reacondicionado certificado)', 'Procesador Intel de 3.70&nbsp;GHz y 3&nbsp;M de memoria, Intel Core i3-6100 BX80662I36100', 'Intel Core i7 – 6700T Desktop Processor 2.80 GHz Turbo Boost a 3.60 GHz Quad Core Skylake OEM Bandeja CPU sr2l3 sspec cm8066201920202', 'Procesador de escritorio AMD Ryzen Threadripper 1900X (8-core/16-thread) (YD190XA8AEWOF)', 'Intel Core i5 (11.ª generación) i5-11600K Hexa-core (6 núcleos) procesador de 3.90 GHz - paquete al por menor', 'Procesador Intel bx80677i57400t 7ª Generación Intel Core i5 – 7400t', 'Intel Core i7-4770 - Procesador de sobremesa de cuatro núcleos, 3,4 GHZ, LGA 1150, 8 MB de caché BX80646I74770', 'Intel Core i7-10700 Procesador de escritorio de 8 núcleos de hasta 4.8 GHz LGA 1200 (chipset Intel 400) 65W, BX8070110700', 'Procesadores Intel bx80677i57400&nbsp;7th Gen Core Desktop', 'Procesador Quad-Core Intel Core i7&nbsp;&ndash;&nbsp;3770&nbsp;K 3.5&nbsp;GHz, 8&nbsp;MB de cach&eacute;, LGA 1155&nbsp;&ndash;&nbsp;BX80637I73770K.', 'Intel Core i5-9600 - Procesador de sobremesa (6 núcleos, hasta 4,6 GHz, LGA1151 300 Series 65W)', 'Intel Pentium G4560 - 3,5 GHz - 2 núcleos - 4 hilos - caché de 3 MB - LGA1151 Socket - Caja', 'Intel Core i7-870 LGA1156 - Procesador (2,93 GHz, 8 MB de caché)', 'Intel Core i9-10900K - Procesador de escritorio de diez núcleos de hasta 5,3 GHz Comet Lake - Versión de bandeja OEM', 'Intel Xeon E5 – 2630 V3 2.4 GHz 8 Core Procesador 20 MB LGA 2011 – 3 bx80644e52630 V3 CPU', 'Acer Aspire 5 A515-46-R3UB con pantalla IPS Full HD de 15.6 pulgadas, procesador móvil AMD Ryzen 3 3350U Quad-Core, DDR4 de 4 GB, unidad de estado sólido SSD NVMe de 128 GB, WiFi 6, teclado retroiluminado, registro de punto flotante, Alexa de Amazon y Windows 11 Home en modo S.', 'Intel Core i3-10300 - Procesador de sobremesa (4 núcleos, hasta 4,4 GHz, LGA1200 (chipset Intel serie 400, 65 W)', 'AMD FD9590FHHKWOF FX-9590 8-core 4.7 GHz Socket AM3+ 220W Negro Edition Procesador de escritorio', 'Intel Xeon E5 – 2650 V3 ten-core Haswell Procesador, 2.3 GHz, 9.6 GT/s, 25 MB LGA 2011-v3 CPU, OEM (reacondicionado certificado)', 'AMD Ryzen 3 3300X - Procesador de escritorio desbloqueado de 8 hilos con enfriador Wraith Stealth', 'Procesador Intel Core i9 i9-9900K Octa-core (8 núcleos) de 3,60 GHz - Socket H4 LGA-1151 - Paquete al por menor - 8 GT/s DMI - Procesamiento de 64 bits - Velocidad de overclocking de 5 GHz - 14 nm - 3 Número de monitores soportados - I', 'Procesador Quad-Core Intel Core i7 – 3820 3,6 GHz 10 MB de caché, LGA 2011 – bx80619i73820', 'AMD FX-Series FX-6300 FX6300 Escritorio CPU Socket AM3 938 Pin fd6300wmw6khk FD6300WMHKBOX 3,5 GHz 8 MB 6 Núcleos', 'Procesador AMD Ryzen 5&nbsp;1600X (YD160XBCAEWOF)', 'Intel Xeon X5690 SLBVX 6-Core 3.47GHz 12MB LGA 1366 Processor (Certified Refurbished)', 'Procesador Intel XEON Gold 6226R 16 CORE 2.90GHZ 22MB 150W CPU CD8069504449000 (procesador de bandeja OEM)', 'Procesador Intel Core i9-11900F para equipos de sobremesa de 8 núcleos de hasta 5,2 GHz LGA1200 (chipset Intel serie 500 y Select 400) 65W', 'Intel Comet Lake Core i5-10400 - Procesador de escritorio (2,90 GHz, 12 MB)', 'Procesador Intel Core i7 i7-970 3,20 GHz - Socket B LGA-1366', 'Procesador Intel Core i3-2120 de doble núcleo 3,3 GHz 3 MB de caché LGA 1155 - BX80623I32120', 'Intel Desktop CPU i3-4160 SR1PK Socket H3 LGA1150 CM8064601483644 BX80646I34160 BXC80646I34160 3.6GHz 3MB 2 núcleos Procesador', 'INTEL CM8064401807100 Xeon E5-2697 v3 Fourteen-Core Haswell Procesador 2.6 GHz 9.6GT/s 35MB LGA 2011-v3 CPU, OEM (reacondicionado certificado)', 'Procesador Intel Core i7 i7-7700 Quad-core (4 núcleos) de 3,60 GHz - Socket H4 LGA-1151 OEM Pack-Tray Packaging', 'Procesador Intel Pentium Gold G5420 Dual Core 3.8GHz LGA 1151 CPU', 'Core i9 Octa-core i9-9900K 3.6GHz procesador de escritorio', 'Intel Core i7-2760QM SR02W PGA 988B G2 Procesador de CPU móvil 3,5 GHz 6 MB 5GT/s', 'Intel Core i9-10900F Comet Lake 2.8GHz 20MB Smart Cache CPU Procesador de escritorio en caja', 'AMD FX-8350 4.0 GHz (4.2 GHz Turbo) 8-Core Socket AM3+ OEM Ver. Procesador CPU con pasta térmica', 'ASUS Prime Z590-A LGA 1200 (Intel® 11ª/10ª generación) ATX (14+2 DrMOS Power Stages, 3X M.2, Intel® LAN de 2.5 Gb, USB 3.2 Panel frontal tipo C, Thunderbolt™ 4, Aura Sync RGB Lighting)', 'ASUS ROG Strix B450-F Gaming II AMD AM4 (Ryzen 5000, 3ª generación Ryzen ATX Gaming Motherboard (8+4 etapas de alimentación, HDMI 2.0b/DP, 2 PCIe 3.0 x16, USB 3.2 Gen 2 Type-C, BIOS Flashback, 256Mb BIOS Flash ROM', 'ASUS ROG Strix B550-F Gaming (WiFi 6) AMD AM4 Zen 3 Ryzen 5000 y 3ª generación Ryzen ATX Gaming Motherboard (PCIe 4.0, LAN de 2.5 Gb, BIOS Flashback, HDMI 2.1, cabecera RGB direccionable Gen 2 y sincronización Aura)', 'ASUS ROG Strix B550-F Gaming AMD AM4 Zen 3 Ryzen 5000 y 3ª generación Ryzen ATX Gaming Motherboard (PCIe 4.0, LAN de 2.5 Gb, BIOS Flashback, HDMI 2.1, cabecera RGB direccionable Gen 2 y sincronización Aura)', 'GIGABYTE B450 AORUS PRO Wi-Fi (AMD Ryzen AM4/ATX/M.2 Protector térmico con Wi-Fi incorporado/HDMI/DVI/USB 3.1 Gen 2/DDR4/placa madre)', 'MSI Z490-A PRO ProSeries ATX - Placa base (Intel Core de 10ª generación, enchufe LGA 1200, DDR4, ranuras M.2 duales, USB 3.2 Gen 2, LAN 2.5G, DP/HDMI)', 'MSI Arsenal Gaming AMD Ryzen 2ª y 3ª generación AM4 M.2 USB 3 DDR4 DVI HDMI Crossfire ATX placa base (B450 TOMAHAWK MAX II)', 'MSI MPG X570S Carbon EK X Gaming - Placa base (ATX, AMD, Socket AM4. DDR4, PCIe 4, CFX, M.2 ranuras, Wi-Fi 6E)', 'ASUS Prime Z390-P LGA1151 (Intel 8ª y 9ª generación) ATX placa base para minería de criptomonedas (BTC) con decodificación superior 4G, ranura 6xPCIe y USB 3.1 Gen2', 'AMD Ryzen 7 3700X 8 núcleos 16 hilos desbloqueado procesador de escritorio con enfriador LED Wraith Prism + GIGABYTE B450 AORUS PRO Wi-Fi (AMD Ryzen AM4/ATX/M.2 protector térmico con HDMI/DVI/USB 3.1Gen 2/DDR4/placa madre)', 'MSI MPG X570S Edge MAX - Placa base WiFi para juegos (ATX, AMD, Socket AM4. DDR4, PCIe 4, CFX, M.2 ranuras, Wi-Fi 6E)', 'ASRock B550 Taichi soporta la placa base de procesadores AMD AM4 Ryzen/Future AMD Ryzen', 'MSI MEG Z690 Unify - Placa base para juegos (ATX, Intel Core de 12ª generación, enchufe LGA 1700, DDR5, PCIe 5, LAN dual 2.5G, ranuras M.2, Wi-Fi 6E)', 'MSI MAG B550 TOMAHAWK Placa base para juegos (AMD AM4, DDR4, PCIe 4.0, SATA 6Gb/s, M.2, USB 3.2 Gen 2, HDMI/DP, ATX, AMD Ryzen Serie 5000)', 'Corsair iCUE 4000X RGB - Gabinete ATX semitorre para PC, color blanco (CC-9011205-WW)', 'MSI MEG Z490 GODLIKE - Placa base para juegos (E-ATX, Intel Core de 10ª generación, LGA 1200 Socket, DDR4, SLI/CF, Triple M.2, Thunderbolt 3 Type-C, Wi-Fi 6, Mystic Light RGB)', 'GIGABYTE Z690 AORUS Master (LGA 1700/Intel Z690/ATX/DDR5/Quad M.2/PCIe 5.0/USB 3.2 Gen2X2 Type-C/Intel WiFi 6E/ AQUANTIA LAN 10GbE LAN/Intel Thunderbolt 4/placa base para juegos)', 'Gigabyte X570 Gaming X (AMD Ryzen 3000/X570/ATX/PCIe4.0/DDR4/USB3.1/Realtek ALC887/HDMI 2.0B/RGB Fusion 2.0/Realtek GbE 8118 LAN/Gaming Motherboard)', 'ASUS ROG Strix X570-E Gaming WiFi II AMD AM4 X570S ATX Gaming placa base (PCIe 4.0, disipador de calor PCH pasivo, 12+4 etapas de potencia, WiFi 6E, LAN de 2.5 Gb, USB 3.2 Gen 2 Tipo C y Aura Sync RGB', 'ASUS ROG Crosshair VIII Extreme AMD AM4 X570/X570S EATX Gaming Placa base (PCIe 4.0, refrigeración PCH pasiva, 5X M.2 ranuras, Wi-Fi 6E, 2 pulgadas OLED, conector de panel frontal USB, 10 Gb y LAN de 2,5 Gb, 2 Thunderbolt 4)', 'ASUS ROG Strix X570-E Gaming ATX - PCIe 4.0, Aura Sync RGB Lighting, 2.5 Gbps e Intel Gigabit LAN, WIFI 6 (802.11Ax), disipadores de calor duales M.2', 'MSI MEG B550 Unify - Placa base para juegos (AMD AM4, DDR4, PCIe 4.0, SATA 6Gb/s, Dual M.2, USB 3.2 Gen 2, HDMI, Wi-Fi 6 AX, ATX, AMD Ryzen 5000 Series)', 'MSI PRO Z690-A DDR4 ProSeries Placa base (ATX, Intel Core de 12ª generación, LGA 1700 Socket, DDR4, PCIe 4, CFX, ranuras M.2) (renovado)', 'ASUS ROG Strix B550-E Gaming AMD AM4 3ª generación Ryzen ATX Gaming Motherboard-PCIe 4.0, NVIDIA SLI, WiFi 6, LAN de 2.5 Gb, 14+2 etapas de potencia, USB 3.2 Tipo-C', 'GIGABYTE TRX40 AORUS PRO WiFi (sTRX/AMD/TRX40/aletas/disipador térmico 12+2 fases Infineon Digital VRM/3x PCIe 4.0x4 M.2/Intel WiFi 6/Intel GbE LAN/ATX/Placa madre)', 'Asrock Rack - Placa base de servidor EPYCD8-2T SP3 Socket EPYC CPU', 'Placa base MSI Z490-A PRO ProSeries ATX (10ª generación Intel Core, LGA 1200 Socket, DDR4, Dual M.2 Slots, USB 3.2 Gen 2, LAN 2.5G, DP/HDMI) (renovado)', 'Placa base MSI Z590-A PRO ProSeries (ATX, 11ª/10ª generación Intel Core, LGA 1200 Socket, DDR4, PCIe 4, ranuras M.2, USB 3.2 Gen 2, LAN 2.5G, DP/HDMI) (renovado)', 'ROG Strix Z590-E Gaming WiFi 6E LGA 1200 (Intel® de 11ª/10ª generación) ATX Gaming Placa base para juegos (PCIe 4.0, etapas de alimentación 14+2, DDR4 5333+, LAN Intel® dual de 2,5 Gb, Thunderbolt 4, SSD 4xM.2/NVMe y Aura RGB)', 'Placa base B250 ATX de ASUS B250&nbsp;MINING EXPERT con socket LGA1151, memoria DDR4 y HDMI para miner&iacute;a de criptomonedas (bitcoins) con 19&nbsp;ranuras para PCIe y USB 3.1&nbsp;Gen1', 'MSI MPG Z590 Gaming Edge WiFi placa base para juegos (ATX, 11ª/10ª generación Intel Core, LGA 1200 Socket, DDR4, PCIe 4, CFX, M.2 ranuras, USB 3.2 Gen 2, Wi-Fi 6E, DP/HDMI, Mystic Light RGB) (renovado)', 'MSI MAG Z490 Tomahawk Gaming Motherboard (ATX, 10ª generación Intel Core, LGA 1200 Socket, DDR4, CF, ranuras dobles M.2, USB 3.2 Gen 2, Type-C, LAN 2.5G, DP/HDMI, Mystic Light RGB) (renovado)', 'MSI PRO Z690-A - Placa base WiFi DDR4 ProSeries (ATX, Intel Core de 12ª generación, LGA 1700 Socket, DDR4, PCIe 4, CFX, M.2 ranuras, Wi-Fi 6E)', 'GIGABYTE Z590 AORUS ELITE (LGA 1200/Intel Z590/ATX/Triple M.2/PCIe 4.0/USB 3.2 Gen2X2 Type-C/ 2.5GbE LAN/placa base para juegos)', 'MSI MPG B550 Gaming Plus Placa base para juegos (AMD AM4, DDR4, PCIe 4.0, SATA 6Gb/s, M.2, USB 3.2 Gen 2, HDMI/DP, ATX) (renovado)', 'ROG Maximus XIII Hero (WiFi 6E) Z590 LGA 1200 (Intel® 11ª/10ª generación) ATX Gaming Motherboard (PCIe 4.0, 14+2 etapas de potencia, DDR4 5333+, Dual LAN de 2.5 Gb, Thunderbolt 4 incorporado, 4X M.2/NVMe SSD, Aura RGB)', 'GIGABYTE X570 AORUS Xtreme (AMD Ryzen 5000/X570/E-ATX/PCIe4.0/DDR4/Aqantia 10 GbE LAN/RGB Fusion 2.0/Fins-Array Heatsink/3xM.2 Thermal Guard/USB3.1/placa base para juegos)', 'ASUS TUF Gaming Z590-Plus, LGA 1200 (Intel11ª/10ª generación) ATX Gaming Placa base (PCIe 4.0, 3xM.2/NVMe SSD, 14+2 etapas de alimentación, panel frontal USB 3.2 tipo C, LAN de 2.5 GB, Thunderbolt 4, iluminación RGB Aura)', 'MSI MPG Z490 Gaming Edge WiFi ATX placa base para juegos (10ª generación Intel Core, LGA 1200 Socket, DDR4, CF, ranuras dobles M.2, USB 3.2 Gen 2, Wi-Fi 6, DP/HDMI, Mystic Light RGB) (renovado)', 'MSI MPG B550 GAMING EDGE WIFI - Placa base para juegos (AMD AM4, DDR4, PCIe 4.0, SATA 6Gb/s, M.2, USB 3.2 Gen 2, AX Wi-Fi 6, HDMI/DP, ATX, AMD Ryzen 5000 Series)', 'MSI Z690 Force - Placa base WiFi para juegos (ATX, Intel Core de 12ª generación, enchufe LGA 1700, DDR5, PCIe 4, CFX, M.2 ranuras, Wi-Fi 6E)', 'Placa base ASRock H110&nbsp;Pro BTC+. 13&nbsp;GPU. Para miner&iacute;a de criptomonedas', 'ASUS ROG Strix B550-I Gaming AMD AM4 (3ª generación Ryzen™) Mini-ITX SFF Gaming Motherboard (PCIe 4.0, WiFi 6, 2.5Gb LAN, DDR4 5100+ (O.C.), frontal USB 3.2 Gen 2 Type-C, direccionable Gen 2 RGB y Aura Sync)', 'MSI MEG Z490 ACE Gaming Motherboard (ATX, 10ª generación Intel Core, LGA 1200 Socket, SLI/CF, ranuras triple M.2, USB 3.2 Gen 2, Wi-Fi 6, Mystic Light RGB) (renovado)', 'ASUS Prime B560M-A LGA 1200 (Intel 11ª/10ª generación) placa base micro ATX (PCIe 4.0,2x M.2 ranuras, 8 etapas de alimentación, LAN de 1 Gb, DP, HDMI dual, USB 3.2 Gen 2 Type-C, ranura V-M.2-Key E para Wi-Fi, Aura Sync RGB)', 'Placa base MSI Z590 PRO WiFi ProSeries (ATX, 11ª/10ª generación Intel Core, LGA 1200 Socket, DDR4, PCIe 4, ranuras M.2, USB 3.2 Gen 2, LAN 2.5G, DP/HDMI, Wi-Fi 6E) (renovado)', 'Gigabyte B550 AORUS ELITE AX V2 (AMD Ryzen 5000/B550/ATX/True 12+2 Phases Digital VRM/PCIe4.0/DDR4/USB3.2 Gen 1/Realtek ALC1200/Intel WiFi 6/2xM.2 Thermal Guard/2.5 GbE LAN/HDMI/DP/Gaming Motherboard)', 'GIGABYTE X570 AORUS Elite Wi-Fi (AMD Ryzen 3000/X570/ATX/PCIe4.0/DDR4/Intel Dual Band 802.11AC Wi-Fi/Front USB Type-C/RGB Fusion 2.0/M.2 Protector térmico / placa base para juegos)', 'ASUS WS C621E Sage Extreme Power Intel® Xeon® - Placa base de estación de trabajo para rendimiento de CPU XEON bidireccional, con conectores U.2, M.2, LAN dual Gb, USB 3.1 tipo C y tipo A, 10 puertos SATA de 6 Gb/s', 'ASUS TUF Gaming B560M-PLUS WiFi LGA1200 (Intel®11ª/10ª generación) Micro ATX Gaming Placa base (PCIe 4.0, 2X M.2 ranuras, 8+1 etapas de alimentación, LAN de 2.5 GB, WiFi 6, USB 3.2 Type-C®, Thunderbolt™ 4 Support)', 'Biostar TB360-BTC PRO 2.0 Core i7/i5/i3 (Intel 8ª y 9ª generación) LGA1151 Intel B360 DDR4 12 GPU Mining Motherboard Modelo actualizado', 'ASUS TUF Gaming B660M-PLUS WiFi D4 LGA 1700 (Intel 12ª generación) mATX Gaming Motherboard (PCIe 5.0, DDR4, 2xPCIe 4.0 M.2, WiFi 6, LAN de 2.5 Gb, USB frontal 3.2 Gen 1 tipo C, cancelación de ruido de IA bidireccional)', 'MSI MPG Z490 Gaming Plus - Placa base para juegos (ATX, 10ª generación Intel Core, LGA 1200 Socket, DDR4, CF, ranuras dobles M.2, USB 3.2 Gen 2, LAN 2.5G, DP/HDMI, Mystic Light RGB) (renovado)', 'MSI Placa base MPG X570 GAMING PLUS (AMD AM4, PCIe 4.0, DDR4, SATA 6Gb/s, M.2, USB 3.2 Gen 2, HDMI, ATX)', 'GIGABYTE B550 AORUS PRO AC (AM4 AMD/B550/ATX/Dual M.2/SATA 6Gb/s/USB 3.2 Gen 2/Intel Dual Band 802.11AC WiFi/2.5 GbE LAN/PCIe 4.0/RGB Fusion 2.0/DDR4/Gaming Motherboard)', 'MSI MAG Z490 Tomahawk - Placa base para juegos (ATX, Intel Core de 10ª generación, LGA 1200, DDR4, CF, Dual M.2, USB 3.2 Gen 2, Type-C, LAN 2.5G, DP/HDMI, Mystic Light RGB)', 'ASUS TUF Gaming Z590-Plus WiFi 6 LGA 1200 (Intel 11ª/10ª generación) ATX Gaming placa base (PCIe 4.0, 3xM.2/NVMe SSD, 14+2 etapas de alimentación, USB 3.2 panel frontal tipo C, LAN de 2.5 GB, Thunderbolt 4, Aura RGB)', 'ASUS TUF Gaming B450M-PLUS II AMD AM4 (Ryzen 5000, 3ª generación Ryzen microATX Gaming Motherboard (DDR4 4400 (O.C.), USB 3.2 Gen 2 Type-A, BIOS Flashback, 256Mb BIOS Flash ROM, micrófono con cancelación de ruido AI', 'ASUS ROG Strix Z490-G Gaming (WiFi 6) Z490 LGA 1200 (Intel 10ª generación) SFF Micro ATX Gaming placa base (12+2 etapas de alimentación, Intel 2.5 Gb Ethernet, Bluetooth v5.1 y Aura Sync)', 'GIGABYTE X299 UD4 Pro (Intel LGA 2066 Core i9/ATX/2 M.2/USB 3.1 Gen 2 Type-A/ RGB Fusion/Motherboard)', 'MSI B560M PRO-VDH ProSeries - Placa base (Micro-ATX, 11ª/10ª generación Intel Core, LGA 1200 Socket, DDR4, PCIe 4, M.2 ranuras, SATA 6Gb/s, USB 3.2, LAN 2.5G, DP/HDMI)', 'GIGABYTE Z490 AORUS Xtreme WF (Intel LGA1200/Z490/E-ATX/Monoblock todo en uno/3xM.2 Thermal Guard/SATA 6Gb/s/USB 3.2 Gen 2/Intel WiFi 6/Dual Thunderbolt 3/ESS9218 DAC/Aquantia 10GbE/Gaming Motherboard)', 'Gigabyte Z490 Gaming X AX (LGA 1200/Intel/Z490/ATX/Dual M.2/SATA 6Gb/s/USB 3.2 Gen 2/WiFi 6/placa base para juegos)', 'MSI B460M PRO-VDH - Placa base WiFi ProSeries (mATX, Intel Core de 10ª generación, LGA 1200 Socket, DDR4, Dual M.2 Ranuras, USB 3.2 Gen 1, 2.5G LAN, D-SUB/DVI/HDMI, Wi-Fi)', 'Placa madre MSI (AMD AM4, DDR4, PCIe 4.0, SATA 6Gb/s, M.2, USB 3.2 Gen 2, HDMI, ATX) (Renovado)', 'ASUS TUF Gaming B550M-PLUS (WiFi 6) AMD AM4 (3ª generación Ryzen™) MicroATX Gaming Motherboard (PCIe 4.0, LAN de 2.5 Gb, BIOS Flashback, HDMI 2.1, USB 3.2 Gen 2, cabecera RGB direccionable Gen 2 y sincronización Aura)', 'Placa madre Dell Alienware Aurora R3 i3 i5 i7 sistema principal LGA1155 (46MHW DF1G9)', 'Procesador Intel Core para equipos de sobremesa de 10 núcleos hasta 5,2 GHz sin procesador gráficos LGA, 65 W con MSI MPG Z490 Gaming Edge WiFi ATX Gaming Motherboard', 'INLAND Paquete profesional de 256 GB NVMe M.2 2280 SSD + procesador de escritorio Intel Core i9-10900K con MSI MPG Z490 Gaming Edge WiFi ATX Gaming Motherboard Bundle', 'DELL x9y17 Dell Latitude E7240 placa base System Board con i7 2,1 GHz – X9', 'ASUS Strix Gaming AMD Ryzen 2 AM4 DDR4 DP HDMI M.2 ATX Motherboard', 'INLAND Prime 1TB NVMe M.2 2280 SSD + procesador de escritorio Intel Core i7-10700K con placa base MSI Z490-A PRO ProSeries ATX', 'Intel DH55HC Desktop Motherboard', 'Supermicro X7DWN + Placa Base – 5400 MP Xeon LGA771 max-128gb ATX 4pcie UIO 2pcix vid 1600 MHz', 'ASUSTeK Computer A7N8X Deluxe-UAY - Placa base A', 'Gigabyte GA-H77N-WIFI - LGA1155 Intel H77 Chipset Mini-ITX Placa base DDR3 SATA 6Gb/s DVI/HDMI PCIE Gigabit LAN 7.1CH HD Audio USB3.0', 'DELL ytph7 Dell XPS One 2720 AIO placa base', 'Placa base original Dell XM091 RH822 para el sistema PowerEdge 840 Generation II, chipset Intel 3000, CPUs soportadas: procesador Intel Xeon de doble núcleo secuencia 3000, Intel Celeron Pentium, LGA775 Socket CPU y memoria no incluidos, números de pieza compatibles: XM091, RH822, 0XM0 M091. 0RH822.', 'AS-IS HP 586968-001 placa base Z400 estación de trabajo placa base Intel X58', 'Supermicro X11SPI-TF - Placa base de servidor (Intel Chipset - Socket P LGA-3647-1 x Bulk Pack) - ATX', 'INLAND Platinum 2TB PCIE NVMe M.2 2280 SSD + AMD Ryzen 7 5800X AM4 desbloqueado procesador de escritorio con MSI MAG X570 Tomahawk WiFi ATX Gaming Motherboard', 'GN6JF Dell Precision T5600 Server Dual Motherboard s2011', 'INLAND Paquete profesional de 256 GB NVMe M.2 2280 SSD + AMD Ryzen 7 5800X Desktop Processor con ASUS TUF X570-PLUS (WI-FI) PCIe 4.0 ATX Gaming Motherboard Bundle', 'DELL placa base nvy5d Precision M6600', 'INLAND Prime 1TB PCIe NVMe M.2 2280 SSD interno + AMD Ryzen 9 5950X 16 núcleos 32 hilos AM4 desbloqueado procesador de escritorio con MSI MAG X570 Tomahawk WiFi ATX Gaming Motherboard', 'Placa base Asrock Placas Base Z270 Gaming K4', 'Intel Core i7-11700KF Procesador de escritorio 8 núcleos hasta 5.0 GHz desbloqueado LGA1200 125W + MSI MPG Z490 Gaming Edge WiFi ATX Gaming Motherboard', 'DELL y7wyt Optiplex 7040 MT placa base', 'hkj53 – Dell Inspiron 15 (3521/5521) placa base System Board 1.80 GHz CPU Intel Core-i3 con gráficos Intel integrados – Uma – hkj53', 'Nuevo MB original para la placa base ThinkCentre M800 03T7427', 'HP Placa base para portátil Intel de la serie COMPAQ G42 G62 637584-001 DAAX1JMB8C0', 'INLAND Performance PCIE GEN 4.0 NVME M.2 2280 SSD + Intel Core i9-11900K Procesador de escritorio con MSI Z590 PRO WiFi ATX placa base PCIe 4 M.2', 'Placa base de la minería Sodimm DDR3 SATA3.0 mSATA2.0 8xPCIE 16X tarjeta gráfica BTC-S37', 'Supermicro X11SDV-8C-TLN2F Motherboard Mini-ITX Xeon D-2141I Full Warranty', 'Supermicro X11SDV-8C+-TLN2F - Placa base Mini-ITX Xeon D-2141I', 'Supermicro x11ddw-nt placa base', '700846-001 HP Jasmine AMD Desktop Motherboard FM2', 'Placa base Dell Optiplex GX260 2X378 (renovada)', 'Seagate IronWolf NAS - Disco duro interno HDD, servicio de recuperación de datos.', 'Toshiba X300 - Disco duro interno de 10 TB de rendimiento y juego de 3.5 pulgadas, CMR SATA 6 GB/s 7200 RPM 256 MB Cache - HDWR11AXZSTA', 'Seagate BarraCuda - Disco duro interno de 2 TB, SATA de 3.5 pulgadas 6 Gb / s, 7200 RPM, 256 MB caché, 3.5 pulgadas, embalaje libre de frustración (ST2000DM008 / ST2000DMZ08)', 'Unidad de disco duro Seagate Exos 7E2', 'Western Digital - Disco duro interno WD Red Plus para sistema NAS de 6 TB, 5640 RPM, SATA 6 Gb/s, CMR, caché de 128 MB, 3.5 pulgadas -WD60EFZX', 'Western Digital Disco duro interno WD Red Plus NAS de 14 TB, 7200 RPM, SATA 6 GB/s, CMR, caché de 512 MB, 3.5 pulgadas - WD140EFGX', 'Western Digital Disco duro WD azul PC de 4 TB - 5400 RPM, SATA 6 Gb/s, caché de 256 MB, 3.5 pulgadas - WD40EZAZ', 'Toshiba X300 16TB Performance & Gaming Disco duro interno de 3.5 pulgadas – CMR SATA 6 GB/s 7200 RPM 512 MB caché - HDWR31GXZSTA', 'Western Digital Disco duro interno WD Gold Enterprise Class de 10 TB - Clase 7200 RPM, SATA 6 Gb/s, caché de 256 MB, 3.5 pulgadas - WD102KRYZ', 'Toshiba X300 - Disco duro interno de 4 TB de rendimiento y juego de 3.5 pulgadas, CMR SATA 6.0 GB/s 7200 RPM 128 MB Cache - HDWE140XZSTA', 'Seagate Skyhawk AI - Disco duro interno de vídeo de 12 TB - SATA de 3,5 pulgadas, 6 Gb/s de 256 MB de caché para DVR NVR sistema de cámaras de seguridad con servicios de rescate en casa - Embalaje libre de frustración (ST12000VE008)', 'Seagate 500 GB Barracuda Sata 6 GB/s 128MB de caché 2.5 pulgadas disco duro interno. Frustration Free Packaging (ST500LMZ30)', 'Seagate Barracuda SATA 6Gb/s 128MB', 'TEAMGROUP - Disco duro interno SSD, 6.35 cm/2.5 pulgadas, SATA III', 'HGST - WD Ultrastar DC HC520 HDD | HUH7212ALE600 | 12TB 7.2K SATA 6Gb/s 256MB Cache 3.5 pulgadas Helio Data Center Internal Hard Drive', 'HGST Ultrastar caché de 64 MB RPM, SATA III 6,0 GB/s,, Enterprise disco duro interno (reacondicionado certificado) w/1 año de garantía', 'Western Digital WD Ultrastar DC HC550 16TB SATA 6Gb/s 7200RPM 3.5 pulgadas centro de datos HDD (WUH721816ALE6L4)', 'Seagate BarraCuda - Disco duro interno de 3 TB, SATA de 3.5 pulgadas, 6 Gb / s, 5400 RPM, 256 MB caché, para computadora de sobremesa, embalaje libre de frustración (ST3000DM007)', 'Seagate SkyHawk - Disco duro interno de vigilancia de 6 TB - 3.5 pulgadas SATA 6 GB/s 256 MB caché para sistema de cámara de seguridad DVR NVR con gestión de salud de unidad - Embalaje libre de frustraciones (ST6000VX001)', 'Cable Matters Caja de aluminio de alta calidad de 10 Gbps Gen 2 USB C para SSD / HDD de 2.5 pulgadas con cables USB-C y USB-A, Thunderbolt 4 / USB 4 / Thunderbolt 3 puertos compatible con MacBook Pro, MacBook Air', 'Western Digital WD181PURP WD181PURP - Disco duro interno de vigilancia WD Purple Pro de 18 TB - SATA 6 Gb/s, caché de 512 MB, 3.5\"', 'Seagate Barracuda ST4000LM024 - Disco duro interno de 4 TB de 2,5 pulgadas', 'Seagate 8TB 7200 RPM HDD', 'Seagate 500 GB Barracuda Sata 6 GB/s 32 MB de cach&eacute; 3.5 pulgadas disco duro interno.', 'Seagate Barracuda ST500DM002 - Disco duro interno de 500 GB 3.5 - SATA - 7200 RPM -', 'HGST Ultrastar 7K4000 4 TB 64 MB de caché 7200 RPM SATA 6.0Gb/s 3,5\" Disco duro interno (para NAS, PC de sobremesa, Mac, almacenamiento de vigilancia, CCTV DVR) - 5 años de garantía (renovado)', 'WD Blue - Disco duro de escritorio de 500 GB – 7200 RPM Clase SATA 6 Gb/s 32 MB Cache 3.5 pulgadas – WD5000AZLX', 'Toshiba X300 - Disco duro interno de 3,5 pulgadas de rendimiento y juegos de 14 TB - CMR SATA 6 Gb/s 7200 RPM 256 MB de caché - HDWR21EXZSTA', 'Hotusi 40 pines IDE 4GB MLC Disco DOM/SSD/Disco Vertical en Módulo para Industrial o Empresas PC Disco Duro Interno', 'Seagate Exos X20 20TB SATA HDD SATA 6Gb/s 7200 RPM (ST20000NM007D)', 'Seagate Barracuda SATA 6Gb/s 128MB (reacondicionado certificado)', 'WD HGST 18 TB 512 MB 7200 RPM SATA Ultra 512E SE NP Dispositivos de almacenamiento', 'Disco duro interno Toshiba N300 de 8 TB NAS de 3,5 pulgadas - CMR SATA 6 GB/s 7200 RPM 256 MB de caché - HDWG180XZSTA', 'Western Digital - Disco duro interno de vigilancia WD (10 TB, clase 7200 RPM, SATA 6 Gb/s, caché de 256 MB, 3,5\" - WD101PURZ (versión antigua)', 'Seagate IronWolf - Disco duro interno NAS de 10 TB – SATA de 3,5 pulgadas 6 Gb/s 7200 RPM 256 MB de caché RAID de almacenamiento conectado a red servidores domésticos - Modelo más nuevo (ST10000VN0008)', 'TERRAMASTER F5-221 NAS 5-Bay Cloud Storage Apollo J3355 Dual Core 2.0GHz Plex Media Server Almacenamiento de red (sin disco)', 'ACER DRAM DDR4 UD100 U-DIMM para ordenadores de sobremesa 3200MHz 8GB 22-22-22-52 1R8', 'Western Digital WD Red NAS - Disco duro interno - Clase 5400 RPM', 'Western Digital - Disco duro móvil WD de rendimiento negro de 1 TB - Clase de 7200 rpm, SATA 6 Gb/s, caché de 64 MB, 2.5\" - WD10SPSX', 'WL 3TB 7200rpm 64 MB de caché, SATA III 6.0 GB/s 3.5\" Disco Duro de sobremesa interna (para RAID, NAS, DVR, Desktop PC) W/1 año de garantía', 'Toshiba America Electronic Components N300 6TB NAS HDWN160XZSTA 6000 3.5 Disco duro interno, de 3.5 pulgadas, SATA de 6 gigabytes por segundo, 7200 revoluciones por minuto, 128 megabytes. Disco duro interno, original.', 'Seagate BarraCuda - Disco duro interno de 4 TB - 3.5 pulgadas SATA 6 Gb/s 5400 RPM 256 MB caché para computadora de escritorio PC portátil (ST4000DM004)', 'MZHOU Tarjeta PCIe 6 SATA 4X, con 6 cables SATA y soporte de perfil bajo, tarjeta PCIe controlador SATA de 6 Gb/s, convertidor adaptador incorporado para PC de escritorio (soporte 6 dispositivos SATA 3.0)', 'LEVEN Unidad de estado sólido interna SSD 3D NAND QLC SATA III de 2 TB - 6 Gb/s, 2.5 pulgadas/7 mm (0.28\") - hasta 560 MB/s - Compatible con portátiles y PC de sobremesa - Paquete de 1 al por menor (JS600SSD2TB)', 'Seagate BarraCuda - Disco duro interno (HDD) para computadoras portátiles de escritorio - Embalaje sin frustración', 'Seagate Disco duro interno IronWolf NAS de 8 TB – CMR 3,5 pulgadas SATA 6 Gb/s 7200 RPM 256 MB de caché para almacenamiento conectado en red RAID', 'HGST - Disco duro interno de 500 GB (7200 RPM, 32 MB, caché SATA 6,0 Gb/s, 2,5 pulgadas, PS3/PS4)', 'Toshiba Disco duro para juegos PS4 de 2 TB, 5400 rpm, 128 MB de caché SATA 6.0 Gb/s de 2,5 pulgadas, 3 años de garantía (renovado)', 'Fantom Drives Kit de actualización de disco duro de 18 TB con unidad WD181KRYZ Gold Enterprise, software de clonación FD, cable SATA a USB, fuente de alimentación, HDD18000WDG-KIT', 'Western Digital - Unidad de disco duro para laptop.', 'HGST Travelstar Z7K500 HTS725050A7E630 (0J38075) 500 GB 7200 RPM 32 MB caché SATA 6.0 Gb/s 2.5 pulgadas disco duro interno portátil', 'Ultrastar - Western Digital Ultrastar DC SATA HDD - Clase 7200 RPM, SATA 6 Gb/s, 3.5\"', 'WD Western Digital - Disco duro para ordenador portátil (2 TB, 2,5\", 128 MB, SATA III, PS4 (WD20SPZX)', 'Patriot Signature Premium DDR4 - Memoria RAM de 16 GB (2 x 8 GB, 3200 MHz, PC4-25600) UDIMM con protector térmico', 'WL 3TB 7200rpm 64 MB de caché, SATA 6.0 Gb/s 3.5\" Disco Duro de sobremesa (para servidor, RAID, NAS, DVR, Desktop PC) W/1 año de garantía', 'Seagate st4000nm0023 Disco Duro Interno Constellation ES. 3 TB, 7200 RPM, 128 MB de caché SAS 6.0 GB/s 3.5\" (Bare) Bare Drive de disco', 'Seagate 1TB SATA 6 Gb/s 128 MB Cache 2.5-Inch Laptop HDD Disco Duro Interno (st1000lm035)', 'Toshiba - Disco duro para PS3/PS4 (1 TB, 5400 rpm, 8 MB de caché, SATA, 3 Gb/s de 2,5 pulgadas, 3 años)', 'Seagate ST2000VX015 - Disco duro interno (3,5\", 256 MB y 2 TB, Skyhawk Lite)', 'OWC SSD Aura Pro X2 de 480 GB compatible con MacBook Air (mediados de 2013-2017) y MacBook Pro (Retina, finales de 2013 - mediados de 2015), Mac Pro (finales de 2013) y Mac Mini (finales de 2014)', 'Seagate Enterprise ST2000NX0253 2 TB 2.5\" Interno disco duro interno', 'WL 4TB 7200RPM 64MB caché SATA 6.0Gb/s (grado empresarial) Disco duro de 3.5\" (para servidor, RAID, NAS, DVR, PC de escritorio)', 'Toshiba 2.5\" inch Disco duro interno HDD MQ04ABB400 4TB 4000GB 128M caché 0.591 in 5400RPM SATA 6.0Gb/s', 'Seagate SkyHawk disco duro de vigilancia de 1TB - SATA 6Gb/s 64MB Cache, disco interno de 3.5 pulgadas (ST1000VX005)', 'Mmoment - Módulo de actualización de memoria para ordenador de sobremesa (16 GB, DDR4, 3200 MHz, UDIMM PC4-25600, 1,35 V, CL16, sin memoria de 288 pines, 1Rx8, base de rango único en 2 Gx8)', 'Disco duro interno Toshiba N300 14TB NAS de 3,5\" - CMR SATA 6 GB/s 7200 RPM 256 MB de caché - HDWG21EXZSTA', 'MTXtec MQ01ABD - Disco duro interno (1 TB, 2,5\")', 'Western Digital Purple - Disco duro de vigilancia (4 TB, 5400 RPM, clase SATA, 6 Gb/s, 64 MB de caché, 3,5 pulgadas, Western Digital40PURZ', 'Toshiba HDKCC00 MQ01ACF050 - Disco duro interno (500 GB, 7200 rpm, SATA-600, 2,5)', 'MaxDigitalData (MD1000GSA6472) - Disco duro interno de escritorio (1 TB, 64 MB, 7200 rpm, SATA, 6,0 Gb/s, 3,5 pulgadas)', 'WD20EZRX Western Digital 2TB 5400RPM SATA 6.0 Gbps 3.5 pulgadas Caviar disco duro', 'Toshiba Disco duro para portátil de 1 TB 5400 RPM 8 MB Cache SATA 3.0 Gb/s de 2.5 pulgadas (MQ01ABD100V)', 'WL 1TB 64 MB de caché 5400rpm SATA III (6.0gb/S) (Low Power & Heavy Duty) Disco Duro Interno 3.5\" (PC, NAS & CCTV DVR) – W/1 año de garantía', 'WD 1TB negro rendimiento disco duro interno de 7200 rpm SATA III 3.5\" HDD', 'Corsair Vengeance RGB Pro 16GB (2 x 8GB) DDR4 3200MHz C16 LED. Memoria de computadora de escritorio. Color blanco.', 'Seagate Exos X16 12TB 7200 RPM 512e/4Kn SATA 6Gb/s 256MB caché 3.5 pulgadas Enterprise HDD (ST12000NM001G)', 'Enterprise Capacity', 'Sabrent Rocket Q 2TB NVMe PCIe M.2 2280 Internal SSD High Performance Solid State Drive R/W 3200/2900MB/s (SB-RKTQ-2TB)', 'Seagate FireCuda - Unidad de juegos', 'Western Digital SSD interno de 500 GB WD azul 3D NAND - SATA III 6 Gb/s, M.2 2280, hasta 560 MB/s - WDS500G2B0B', 'OEM Seagate 500GB 2.5 Inch HDD SATA 7200RPM Internal Laptop OEM Hard Drive for PC Mac PS3 PS4 Playstation ST500LM034 500GB 2.5 Inch', 'Seagate 18 TB 7200 RPM 256 MB SAS 3.5 4096/512E', 'Corsair Vengeance LPX 32 GB (2 x 16 GB) DDR4 3600 (PC4-28800) C18 1,35 V memoria de escritorio, color negro', 'Western Digital WD WD5000LPSX - Disco duro (500 GB, interno de 2,5\", SATA (SATA/600) - PC de sobremesa, portátil, dispositivo de consola de juegos compatible - 7200 rpm, garantía de 5 años', 'Seagate Barracuda ST250DM000 - Disco duro (250 GB, 7200 rpm, SATA3/SATA, 6,0 GB/s, 16 MB, 3,5\")', 'Toshiba America Electronic Components Inc L200 500GB Slim (0.276 in) SATA 5400RPM 8MB 2.5\" Mobile Internal Hard Drive - 500 2.5 Internal Bare/OEM Drive 500GB unidad de disco duro interno', 'White Label - Disco duro de escritorio (2 TB, 8 MB de caché, 7200 RPM, SATA, 3,0 Gb/s de 3,5 pulgadas, PCC, vigilancia, NAS)', 'Western Digital - Disco duro de 1 TB (5400 rpm, 16 MB de caché SATA 6 Gb/s de 2,5 pulgadas) (para PS4 consola HDD actualización/reparación)', 'Hitachi 0j22423 Travelstar 7 K1000.B 1TB 7200 RPM, 32 MB de caché, SATA 6.0 Gb/s 2,5 disco disco duro para portátil (Bare interno)', 'Western Digital Caviar Black - Disco duro interno (2 TB, SATA III, 7200 RPM, 64 MB, caché a granel, OEM)', 'MaxDigitalData (MD2000GLSA854-PS) 2TB 5400RPM 8MB Cache (0.374 in) SATA 6.0Gb/s 2.5\" PS3/PS4 Gaming Hard Drive - 2 años de garantía', 'Toshiba MG06ACA10TE - Unidad de disco duro empresarial SATA 512e (7200 rpm, 3,5\")', 'MaxDigitalData MD8000GSA25672DVR - Disco duro interno para vigilancia (8 TB, 7200 RPM, 256 MB, caché, SATA, 6,0 Gb/s, 3,5 pulgadas)', 'FD - Kit de actualización de disco duro interno de 6 TB con Seagate Barracuda ST6000DM003, 5400 RPM, 256 MB de caché', 'Disco duro interno Seagate 500&nbsp;GB Barracuda Sata cach&eacute; 3.5 pulgadas', 'Toshiba MG04ACA Series MG04ACA600E - Disco duro interno (6 TB, 7,200 rpm, SATA 6 Gb/s, 128 MB, 3,5\")', 'Samsung SSD 860 EVO 1TB SATA III SSD interno (MZ-76E1T0B/AM)', 'Disco duro interno para Sony PS3 PS4 y MacBook Pro de 2 TB SATA', 'Seagate ST6000NM0115 - Disco duro interno (3,5\", 6 TB, 7200 RPM, 512 GB, SATA, 6 Gb/s, 256 MB de caché)', 'Seagate Disco duro interno ST6000NM0115 de 3,5 pulgadas HDD 6TB 7200 RPM 512e SATA 6Gb/s 256MB de caché', 'IBM 4 TB SATA disco duro interno de 3,5 pulgadas caché de 16 MB 49y6002', 'Western Digital AV-GP WD5000AVDS - Disco duro interno (500 GB, 32 MB de caché, 5400 rpm, SATA II, 3,0 Gb/s, 3,5 Gb/s (CCTV DVR, PC, Mac)', 'Seagate ST4000DM004 - Disco duro interno (4 TB, 6 Gb/s, 256 MB de caché, 3,5 pulgadas)', 'HGST 1TB caché de 32 MB 7200RPM SATA III (6.0gb/S) 2.5\" PS3 & PS4 Disco duro 0j22423', 'StarTech. com - Estante móvil de intercambio en caliente sin bandeja de 5.25 pulgadas para disco duro de 3.5 pulgadas - Caja interna SATA - Bahía de unidad bloqueable (HSB100SATBK) negro', 'Seagate ST1000DM003 - Disco duro de sobremesa', 'Western Digital 500 GB 2.5\" Playstation 3/Playstation 4 disco duro (PS3 Fat, PS3 Slim, PS3 Super Slim, PS4)', 'Seagate 16TB 7200RPM HDD disco duro interno', 'Hyundai SSD de 960 GB | SATA III, 3D NAND | Unidad interna de estado sólido de 2.5 pulgadas (120 GB, 240 GB, 480 GB, 960 GB)', 'Seagate ST8000NM0055 8TB 7200 RPM SATA 6Gb/s 512e 256MB Cache 3.5\" interno Enterprise Disco duro', 'Kingston SSD - HDD interno de repuesto para aumentar el rendimiento', 'Seagate Barracuda ST4000DM000 - Disco duro de caché SATA de 4 TB, 5900 rpm, 64 MB, 3,0 Gb/s, 3,5 pulgadas (funciona para sistema de vigilancia, PC de sobremesa, NAS) (renovado)', 'HGST Ultrastar DC HC510 (He10) 10 TB 7200 RPM SATA 6 Gb/s 256 MB de caché de 3,5 pulgadas | Desactivación de energía | Disco duro empresarial - HUH721010ALE600 (0F27452)', 'Davitu Electronics - Piezas de repuesto para videojuegos (2,5\", SATA HDD HD, 1 TB, 16 GB, disco duro interno 2,5 y 1 T, para Sony PS3/PS4/Pro/Slim disco duro + soporte de montaje Sil (160 GB)', 'maxdigitaldata 4 TB 64 MB de caché 19,357 foot SATA 6.0 Gb/s disco duro interno de vigilancia CCTV DVR de 3.5\" (md4000gsa6459dvr) – W/2 años de garantía', 'Disco duro interno de 3 TB SATA 6 Gb/s de 64 MB de caché de 3,5 pulgadas', 'HGST Ultrastar He10 | HUH721010ALE600 (0F27452) | Deshabilitación de alimentación | 10TB SATA 6.0Gb/s 7200 RPM 256MB caché 3.5in HDD | 512e | Disco duro empresarial (renovado)', 'Disco duro Western Digital (WD) BLUE Deskptop de 1 TB (1 terabyte) de 3,5 pulgadas, 5400 ~ 7200 RPM, SATA3 (6,0 GB/s), caché de 64 MB, ideal para aplicaciones PC/Mac/CCTV/NAS/DVR/Raid y SATA, garantía de 1 año (azul)', 'Corsair Vengeance RGB PRO 16 GB (2 x 8 GB) DDR4 3200 MHz C16 LED Memoria de escritorio – Black & Seagate Barracuda 2TB Disco duro interno – 3.5 pulgadas SATA 6Gb/s 7200 RPM 256MB Cache 3.5 pulgadas', 'Seagate Enterprise st8000nm0065 8 TB 3.5\" Disco Duro Interno', 'HPE Enterprise 881457-B21 - Disco duro (2,4 TB, SAS, 12 Gb/S), color negro', 'Seagate Barracuda ST2000DM008 - Disco duro interno (2 TB, 3,5\", SATA)', \"Disco Duro Para Port&aacute;til 'SEAGATE Momentus Thin 3&nbsp;GB/s cach&eacute; de 16&nbsp;MB 2.5&nbsp;interno\", 'Bandeja de disco duro YHNFX de 2,5\" para Dell OptiPlex7000 7071 7080 8940 G5 5880 5090', 'Mini disco disco duro port&aacute;til LaCie Rugged USB 3.0&nbsp;, Anaranjado', 'MDD - HGST Ultrastar 6TB 7200RPM 128MB Cache SATA 6Gb/s 3.5\" Enterprise Hard Drive - HUS7260ALE611 (para RAID, NAS, PC de escritorio, almacenamiento de vigilancia)', 'Toshiba S300 4TB Surveillance 3.5\" Disco duro interno - CMR SATA 6Gb/s 5400RPM 128MB caché - HDWT140UZSVAR', 'WD wd60purx 6TB Purple de vigilancia OEM Disco Duro Interno', 'Seagate Enterprise - Disco duro interno (4 TB, SATA, 3,5 pulgadas, 6 Gb/s, 7200 RPM, caché de 256 MB (ST4000NM004C)', 'Disco duro HP ISS (reacondicionado certificado)', 'Western Digital - Disco duro interno de 8 TB WD Black Performance - 7200 RPM, SATA 6 Gb/s, caché de 256 MB, 3.5\" - WD8001FZBX', 'Seagate Constellation ES.3 4TB', 'Corsair Vengeance LPX 16 GB (2 x 8 GB) DDR4 3600 (PC4-28800) C18 1.35 V Memoria de escritorio - Black & Seagate Barracuda 2TB Disco duro interno - 3.5 pulgadas SATA 6Gb/s 7200 RPM 256MB Cache 3.5 pulgadas', 'Seagate ST3000VX009 Skyhawk Surveillance - Disco duro (3 TB, SATA, 6,0 Gb/s, 256 MB)', 'Monitor Sceptre para juegos, curvado, de 30 pulgadas, 21:9 2560x1080, ultra ancho, ultra delgado, HDMI, DisplayPort, hasta 200Hz, altavoces integrados, metal negro, C305B-200UN', 'HGST Travelstar Kit de caché de 2,5 pulgadas disco duro interno', '600 GB SAS Hitachi Ultrastar 15 K600 15000rpm 64 MB 6 Gbits 3.5 in hus156060vls600', 'Crucial MX500', 'Silicon Power 128GB SSD 3D NAND A55 SLC caché rendimiento Boost SATA III 2.5\" 7mm (0.28\") unidad de estado sólido interna (SU128GBSS3A55S25AH)', 'Seagate FireCuda 2TB unidad híbrida de estado sólido rendimiento SSHD – 3.5 pulgadas SATA 6Gb/s Flash acelerado para PC de escritorio de juegos (ST2000DX002)', 'Seagate Cheetah SAS 16 MB Cache 2.5-Inch interno bare-oem dispositivos (reacondicionado certificado)', 'Western Digital 3TB SATA 6 Gb/s 3.5\"', 'Seagate Cheetah 10K.7 ST3300007FC - Disco duro interno (300 GB, 10 K rpm, canal de fibra 2Gb/s Ultra320 SCSI 3,5\", 8 MB)', 'Capacidad de la empresa (restaurado certificado)., Negro'])"
     },
     "metadata": {}
    }
   ]
  },
  {
   "cell_type": "markdown",
   "source": "# Constantes",
   "metadata": {
    "cell_id": "f55ab7c2-2626-46fd-9b65-64e8871bec30",
    "tags": [],
    "is_collapsed": false,
    "deepnote_cell_type": "text-cell-h1",
    "deepnote_cell_height": 82
   }
  },
  {
   "cell_type": "code",
   "metadata": {
    "cell_id": "2599051a-d0e5-4901-8c17-a5831dc41f71",
    "tags": [],
    "deepnote_to_be_reexecuted": false,
    "source_hash": "be19c1be",
    "execution_start": 1647057556873,
    "execution_millis": 506697,
    "deepnote_cell_type": "code",
    "deepnote_cell_height": 99
   },
   "source": "PRESUPUESTO = 2900\nCOMPONENTS_ORDER = (\"CPU\", \"Mother Board\", \"RAM\", \"Storage\", \"GPU\", \"Refrigeration\", \"Power Supply\", \"Chasis\")",
   "execution_count": null,
   "outputs": []
  },
  {
   "cell_type": "markdown",
   "source": "# Creación de objetos para definir el problema y el tipo de individuo",
   "metadata": {
    "cell_id": "e47f1dfe-3f4f-4aa3-a44e-9af75017ad7d",
    "tags": [],
    "is_collapsed": false,
    "deepnote_cell_type": "text-cell-h1",
    "deepnote_cell_height": 82
   }
  },
  {
   "cell_type": "code",
   "metadata": {
    "cell_id": "8c593f7a-9532-4d56-96e8-93c53b08986f",
    "tags": [],
    "deepnote_to_be_reexecuted": false,
    "source_hash": "168781b9",
    "execution_start": 1647057556896,
    "execution_millis": 906108,
    "deepnote_cell_type": "code",
    "deepnote_cell_height": 137.375,
    "deepnote_output_heights": [
     40.375
    ]
   },
   "source": "PRODUCTS[\"type\"].unique()",
   "execution_count": null,
   "outputs": [
    {
     "output_type": "execute_result",
     "execution_count": 6,
     "data": {
      "text/plain": "array(['Chasis', 'Storage', 'GPU', 'Power Supply', 'Refrigeration', 'RAM',\n       'CPU', 'Mother Board'], dtype=object)"
     },
     "metadata": {}
    }
   ]
  },
  {
   "cell_type": "code",
   "metadata": {
    "cell_id": "cf89123a-a57b-4740-8352-f4d4c29f1cd2",
    "tags": [],
    "deepnote_to_be_reexecuted": false,
    "source_hash": "5a8b8175",
    "execution_start": 1647057556923,
    "execution_millis": 906123,
    "deepnote_cell_type": "code",
    "deepnote_cell_height": 153
   },
   "source": "def create_individual():\n    return [\n        random.choice(PRODUCTS[PRODUCTS[\"type\"] == product].index)\n        for product in COMPONENTS_ORDER\n    ]",
   "execution_count": null,
   "outputs": []
  },
  {
   "cell_type": "code",
   "metadata": {
    "cell_id": "9056a513-ced5-4803-8083-e212c6331f69",
    "tags": [],
    "deepnote_to_be_reexecuted": false,
    "source_hash": "7823f61b",
    "execution_start": 1647057556940,
    "execution_millis": 906115,
    "deepnote_cell_type": "code",
    "deepnote_cell_height": 118.1875,
    "deepnote_output_heights": [
     21.1875
    ]
   },
   "source": "create_individual()",
   "execution_count": null,
   "outputs": [
    {
     "output_type": "execute_result",
     "execution_count": 8,
     "data": {
      "text/plain": "[639, 744, 479, 193, 277, 419, 366, 59]"
     },
     "metadata": {}
    }
   ]
  },
  {
   "cell_type": "code",
   "metadata": {
    "cell_id": "3631aa65-7144-43d1-83c1-17be64683b48",
    "tags": [],
    "deepnote_to_be_reexecuted": false,
    "source_hash": "a8533875",
    "execution_start": 1647057556972,
    "execution_millis": 906150,
    "deepnote_cell_type": "code",
    "deepnote_cell_height": 351
   },
   "source": "def register_initial_components():\n    for _class in (\"FitnessMax\", \"Individual\"):\n        if _class in dir(creator):\n            delattr(creator, _class)\n\n    creator.create(\"FitnessMax\", base.Fitness, weights=(1.0,))\n    creator.create(\"Individual\", list, fitness=creator.FitnessMax)\n\n    toolbox = base.Toolbox()\n\n    # Generación del individuo\n    toolbox.register(\"indices\", create_individual)\n    toolbox.register(\"individual\", tools.initIterate, creator.Individual, toolbox.indices)\n    toolbox.register(\"population\", tools.initRepeat, list, toolbox.individual)\n\n    return toolbox",
   "execution_count": null,
   "outputs": []
  },
  {
   "cell_type": "code",
   "metadata": {
    "cell_id": "ccf803c2-3402-4db8-b125-df4023984801",
    "tags": [],
    "deepnote_to_be_reexecuted": false,
    "source_hash": "d5e8731a",
    "execution_start": 1647057557001,
    "execution_millis": 906134,
    "deepnote_cell_type": "code",
    "deepnote_cell_height": 207
   },
   "source": "def eval_budget(individual):\n    \"\"\"Funcion objetivo, calcula el valor de los componentes\"\"\"\n    prices = [PRODUCTS.loc[idx, \"price\"] for idx in individual]\n    total =  sum(prices)\n    _, counts = np.unique(individual, return_counts=True)\n    if not all(counts == 1):\n        return -1,\n    return (total,) if total <= PRESUPUESTO else (-1,)",
   "execution_count": null,
   "outputs": []
  },
  {
   "cell_type": "code",
   "metadata": {
    "cell_id": "34f71e49-d794-43c4-a368-63ef7040aab1",
    "tags": [],
    "deepnote_to_be_reexecuted": false,
    "source_hash": "ac59bd00",
    "execution_start": 1647057557029,
    "execution_millis": 906161,
    "deepnote_cell_type": "code",
    "deepnote_cell_height": 189
   },
   "source": "def register_genetic_operators(toolbox):\n    toolbox.register(\"mate\", tools.cxOnePoint)\n    toolbox.register(\"mutate\", tools.mutFlipBit, indpb=0.1)\n    toolbox.register(\"select\", tools.selTournament, tournsize=3)\n    toolbox.register(\"evaluate\", eval_budget)\n    return toolbox\n",
   "execution_count": null,
   "outputs": []
  },
  {
   "cell_type": "code",
   "metadata": {
    "cell_id": "f816b52c-0eb4-4e31-9bc9-2a870c53ee3c",
    "tags": [],
    "deepnote_to_be_reexecuted": false,
    "source_hash": "ca919d56",
    "execution_start": 1647057557060,
    "execution_millis": 906179,
    "deepnote_cell_type": "code",
    "deepnote_cell_height": 351
   },
   "source": "def plot_evolution(log):\n    gen = log.select(\"gen\")\n    fit_mins = log.select(\"min\")\n    fit_maxs = log.select(\"max\")\n    fit_avg = log.select(\"avg\")\n\n    fig, ax1 = plt.subplots(figsize=(8,8))\n    ax1.plot(gen, fit_mins, \"b\")\n    ax1.plot(gen, fit_maxs, \"r\")\n    ax1.plot(gen, fit_avg, \"--k\")\n    ax1.fill_between(gen , fit_mins , fit_maxs, facecolor='g', alpha = 0.2)\n    ax1.set_title(\"Maximizar compra PC segun presupuesto mediante algoritmos geneticos\")\n    ax1.set_xlabel(\"Generation\")\n    ax1.set_ylabel(\"Fitness\")\n    ax1.legend ([\"Min\", \"Max\", \"Avg\"], loc=\"upper right\")\n    plt.grid(True)",
   "execution_count": null,
   "outputs": []
  },
  {
   "cell_type": "code",
   "metadata": {
    "cell_id": "1d12476a-fe80-442f-8a29-fc2f5af3ff92",
    "tags": [],
    "deepnote_to_be_reexecuted": false,
    "source_hash": "b73d9d74",
    "execution_start": 1647057557088,
    "execution_millis": 2,
    "deepnote_cell_type": "code",
    "deepnote_cell_height": 441
   },
   "source": "def simulate(toolbox, CXPB, MUTPB, NGEN, NIND=50, verbose=False, **kwargs):\n    pop = toolbox.population(NIND)\n    hof = tools.HallOfFame(1)\n\n    stats = tools.Statistics(lambda ind: ind.fitness.values)\n    stats.register(\"avg\", np.mean)\n    stats.register(\"std\", np.std)\n    stats.register(\"min\", np.min)\n    stats.register(\"max\", np.max)\n\n    pop, logbook = algorithms.eaSimple(\n        pop,\n        toolbox,\n        CXPB,\n        MUTPB,\n        NGEN,\n        stats=stats,\n        halloffame=hof,\n        verbose=verbose\n    )\n    return pop, logbook",
   "execution_count": null,
   "outputs": []
  },
  {
   "cell_type": "code",
   "metadata": {
    "cell_id": "f3a9e957-7015-44b8-ba3a-bab26f4eb9f9",
    "tags": [],
    "deepnote_to_be_reexecuted": false,
    "source_hash": "a7991aff",
    "execution_start": 1647057557100,
    "execution_millis": 15,
    "deepnote_cell_type": "code",
    "deepnote_cell_height": 369
   },
   "source": "def run(cases):\n    random.seed(100)\n    results = []\n    results_logs = {idx+1: [] for idx in range(len(cases))}\n    for idx, case in enumerate(cases):\n        toolbox = register_initial_components()\n        toolbox = register_genetic_operators(toolbox)\n        for i in range(10):\n            t0 = time()\n            best, log = simulate(toolbox, **case)\n            results.append([idx+1, i, case[\"NIND\"], case[\"CXPB\"],\n                case[\"MUTPB\"], case[\"NGEN\"], best[0].fitness.values[0], best[0], round(time()-t0, 4)]\n            )\n            results_logs[idx+1].append(log)\n            print(f\"Case {idx+1}: {(i+1)*10}%\")\n\n    return pd.DataFrame(results, columns=[\"Test ID\", \"Try\", \"Population\", \"CXPB\", \"MUTPB\", \"NGEN\", \"Best Fitness\", \"Best\", \"Time\"]), results_logs",
   "execution_count": null,
   "outputs": []
  },
  {
   "cell_type": "code",
   "metadata": {
    "cell_id": "a206d231-03e6-49f0-a8d6-81f80ec698a1",
    "tags": [],
    "deepnote_to_be_reexecuted": false,
    "source_hash": "38474efa",
    "execution_start": 1647057872621,
    "execution_millis": 5,
    "deepnote_cell_type": "code",
    "deepnote_cell_height": 189
   },
   "source": "cases = (\n    {\"CXPB\":0.8, \"MUTPB\":0.2, \"NGEN\":50, \"NIND\":100},\n    {\"CXPB\":0.4, \"MUTPB\":0.6, \"NGEN\":50, \"NIND\":100},\n    {\"CXPB\":0.2, \"MUTPB\":0.2, \"NGEN\":50, \"NIND\":100},\n    {\"CXPB\":0.3, \"MUTPB\":0.7, \"NGEN\":50, \"NIND\":100},\n    {\"CXPB\":0.6, \"MUTPB\":0.4, \"NGEN\":50, \"NIND\":100},\n)",
   "execution_count": null,
   "outputs": []
  },
  {
   "cell_type": "code",
   "metadata": {
    "cell_id": "97deb54e-d17b-4624-96ef-abb319eea63c",
    "tags": [],
    "deepnote_to_be_reexecuted": false,
    "source_hash": "85ad5d6b",
    "execution_start": 1647057873959,
    "execution_millis": 17796,
    "deepnote_cell_type": "code",
    "deepnote_cell_height": 293.875
   },
   "source": "cases_result, logs = run(cases)",
   "execution_count": null,
   "outputs": [
    {
     "name": "stdout",
     "text": "Case 1: 10%\nCase 1: 20%\nCase 1: 30%\nCase 1: 40%\nCase 1: 50%\nCase 1: 60%\nCase 1: 70%\nCase 1: 80%\nCase 1: 90%\nCase 1: 100%\n",
     "output_type": "stream"
    }
   ]
  },
  {
   "cell_type": "code",
   "metadata": {
    "cell_id": "ea5cfd89-5fb9-4e0c-9da6-adb5adabfd40",
    "tags": [],
    "deepnote_to_be_reexecuted": false,
    "source_hash": "33d2a840",
    "execution_start": 1647057896947,
    "execution_millis": 49,
    "deepnote_table_state": {
     "pageSize": 10,
     "pageIndex": 0,
     "filters": [],
     "sortBy": [
      {
       "id": "Best Fitness",
       "type": "desc"
      }
     ]
    },
    "deepnote_table_loading": false,
    "deepnote_table_invalid": false,
    "deepnote_cell_type": "code",
    "deepnote_cell_height": 630
   },
   "source": "cases_result[cases_result[\"Best Fitness\"] > 0]",
   "execution_count": null,
   "outputs": [
    {
     "output_type": "execute_result",
     "execution_count": 25,
     "data": {
      "application/vnd.deepnote.dataframe.v3+json": {
       "column_count": 9,
       "row_count": 10,
       "columns": [
        {
         "name": "Test ID",
         "dtype": "int64",
         "stats": {
          "unique_count": 1,
          "nan_count": 0,
          "min": "1",
          "max": "1",
          "histogram": [
           {
            "bin_start": 0.5,
            "bin_end": 0.6,
            "count": 0
           },
           {
            "bin_start": 0.6,
            "bin_end": 0.7,
            "count": 0
           },
           {
            "bin_start": 0.7,
            "bin_end": 0.8,
            "count": 0
           },
           {
            "bin_start": 0.8,
            "bin_end": 0.9,
            "count": 0
           },
           {
            "bin_start": 0.9,
            "bin_end": 1,
            "count": 0
           },
           {
            "bin_start": 1,
            "bin_end": 1.1,
            "count": 10
           },
           {
            "bin_start": 1.1,
            "bin_end": 1.2000000000000002,
            "count": 0
           },
           {
            "bin_start": 1.2000000000000002,
            "bin_end": 1.3,
            "count": 0
           },
           {
            "bin_start": 1.3,
            "bin_end": 1.4,
            "count": 0
           },
           {
            "bin_start": 1.4,
            "bin_end": 1.5,
            "count": 0
           }
          ]
         }
        },
        {
         "name": "Try",
         "dtype": "int64",
         "stats": {
          "unique_count": 10,
          "nan_count": 0,
          "min": "0",
          "max": "9",
          "histogram": [
           {
            "bin_start": 0,
            "bin_end": 0.9,
            "count": 1
           },
           {
            "bin_start": 0.9,
            "bin_end": 1.8,
            "count": 1
           },
           {
            "bin_start": 1.8,
            "bin_end": 2.7,
            "count": 1
           },
           {
            "bin_start": 2.7,
            "bin_end": 3.6,
            "count": 1
           },
           {
            "bin_start": 3.6,
            "bin_end": 4.5,
            "count": 1
           },
           {
            "bin_start": 4.5,
            "bin_end": 5.4,
            "count": 1
           },
           {
            "bin_start": 5.4,
            "bin_end": 6.3,
            "count": 1
           },
           {
            "bin_start": 6.3,
            "bin_end": 7.2,
            "count": 1
           },
           {
            "bin_start": 7.2,
            "bin_end": 8.1,
            "count": 1
           },
           {
            "bin_start": 8.1,
            "bin_end": 9,
            "count": 1
           }
          ]
         }
        },
        {
         "name": "Population",
         "dtype": "int64",
         "stats": {
          "unique_count": 1,
          "nan_count": 0,
          "min": "100",
          "max": "100",
          "histogram": [
           {
            "bin_start": 99.5,
            "bin_end": 99.6,
            "count": 0
           },
           {
            "bin_start": 99.6,
            "bin_end": 99.7,
            "count": 0
           },
           {
            "bin_start": 99.7,
            "bin_end": 99.8,
            "count": 0
           },
           {
            "bin_start": 99.8,
            "bin_end": 99.9,
            "count": 0
           },
           {
            "bin_start": 99.9,
            "bin_end": 100,
            "count": 0
           },
           {
            "bin_start": 100,
            "bin_end": 100.1,
            "count": 10
           },
           {
            "bin_start": 100.1,
            "bin_end": 100.2,
            "count": 0
           },
           {
            "bin_start": 100.2,
            "bin_end": 100.3,
            "count": 0
           },
           {
            "bin_start": 100.3,
            "bin_end": 100.4,
            "count": 0
           },
           {
            "bin_start": 100.4,
            "bin_end": 100.5,
            "count": 0
           }
          ]
         }
        },
        {
         "name": "CXPB",
         "dtype": "float64",
         "stats": {
          "unique_count": 1,
          "nan_count": 0,
          "min": "0.8",
          "max": "0.8",
          "histogram": [
           {
            "bin_start": 0.30000000000000004,
            "bin_end": 0.4,
            "count": 0
           },
           {
            "bin_start": 0.4,
            "bin_end": 0.5,
            "count": 0
           },
           {
            "bin_start": 0.5,
            "bin_end": 0.6000000000000001,
            "count": 0
           },
           {
            "bin_start": 0.6000000000000001,
            "bin_end": 0.7000000000000001,
            "count": 0
           },
           {
            "bin_start": 0.7000000000000001,
            "bin_end": 0.8,
            "count": 0
           },
           {
            "bin_start": 0.8,
            "bin_end": 0.9000000000000001,
            "count": 10
           },
           {
            "bin_start": 0.9000000000000001,
            "bin_end": 1,
            "count": 0
           },
           {
            "bin_start": 1,
            "bin_end": 1.1,
            "count": 0
           },
           {
            "bin_start": 1.1,
            "bin_end": 1.2000000000000002,
            "count": 0
           },
           {
            "bin_start": 1.2000000000000002,
            "bin_end": 1.3,
            "count": 0
           }
          ]
         }
        },
        {
         "name": "MUTPB",
         "dtype": "float64",
         "stats": {
          "unique_count": 1,
          "nan_count": 0,
          "min": "0.2",
          "max": "0.2",
          "histogram": [
           {
            "bin_start": -0.3,
            "bin_end": -0.19999999999999998,
            "count": 0
           },
           {
            "bin_start": -0.19999999999999998,
            "bin_end": -0.09999999999999998,
            "count": 0
           },
           {
            "bin_start": -0.09999999999999998,
            "bin_end": 5.551115123125783e-17,
            "count": 0
           },
           {
            "bin_start": 5.551115123125783e-17,
            "bin_end": 0.10000000000000003,
            "count": 0
           },
           {
            "bin_start": 0.10000000000000003,
            "bin_end": 0.2,
            "count": 0
           },
           {
            "bin_start": 0.2,
            "bin_end": 0.3000000000000001,
            "count": 10
           },
           {
            "bin_start": 0.3000000000000001,
            "bin_end": 0.4000000000000001,
            "count": 0
           },
           {
            "bin_start": 0.4000000000000001,
            "bin_end": 0.5,
            "count": 0
           },
           {
            "bin_start": 0.5,
            "bin_end": 0.6000000000000001,
            "count": 0
           },
           {
            "bin_start": 0.6000000000000001,
            "bin_end": 0.7,
            "count": 0
           }
          ]
         }
        },
        {
         "name": "NGEN",
         "dtype": "int64",
         "stats": {
          "unique_count": 1,
          "nan_count": 0,
          "min": "50",
          "max": "50",
          "histogram": [
           {
            "bin_start": 49.5,
            "bin_end": 49.6,
            "count": 0
           },
           {
            "bin_start": 49.6,
            "bin_end": 49.7,
            "count": 0
           },
           {
            "bin_start": 49.7,
            "bin_end": 49.8,
            "count": 0
           },
           {
            "bin_start": 49.8,
            "bin_end": 49.9,
            "count": 0
           },
           {
            "bin_start": 49.9,
            "bin_end": 50,
            "count": 0
           },
           {
            "bin_start": 50,
            "bin_end": 50.1,
            "count": 10
           },
           {
            "bin_start": 50.1,
            "bin_end": 50.2,
            "count": 0
           },
           {
            "bin_start": 50.2,
            "bin_end": 50.3,
            "count": 0
           },
           {
            "bin_start": 50.3,
            "bin_end": 50.4,
            "count": 0
           },
           {
            "bin_start": 50.4,
            "bin_end": 50.5,
            "count": 0
           }
          ]
         }
        },
        {
         "name": "Best Fitness",
         "dtype": "float64",
         "stats": {
          "unique_count": 9,
          "nan_count": 0,
          "min": "2879.0",
          "max": "2900.0",
          "histogram": [
           {
            "bin_start": 2879,
            "bin_end": 2881.1,
            "count": 2
           },
           {
            "bin_start": 2881.1,
            "bin_end": 2883.2,
            "count": 0
           },
           {
            "bin_start": 2883.2,
            "bin_end": 2885.3,
            "count": 1
           },
           {
            "bin_start": 2885.3,
            "bin_end": 2887.4,
            "count": 0
           },
           {
            "bin_start": 2887.4,
            "bin_end": 2889.5,
            "count": 0
           },
           {
            "bin_start": 2889.5,
            "bin_end": 2891.6,
            "count": 1
           },
           {
            "bin_start": 2891.6,
            "bin_end": 2893.7,
            "count": 0
           },
           {
            "bin_start": 2893.7,
            "bin_end": 2895.8,
            "count": 1
           },
           {
            "bin_start": 2895.8,
            "bin_end": 2897.9,
            "count": 2
           },
           {
            "bin_start": 2897.9,
            "bin_end": 2900,
            "count": 3
           }
          ]
         }
        },
        {
         "name": "Best",
         "dtype": "object",
         "stats": {
          "unique_count": 10,
          "nan_count": 0,
          "categories": [
           {
            "name": "[602, 714, 479, 0, 272, 406, 389, 52]",
            "count": 1
           },
           {
            "name": "[619, 707, 593, 876, 273, 411, 355, 37]",
            "count": 1
           },
           {
            "name": "8 others",
            "count": 8
           }
          ]
         }
        },
        {
         "name": "Time",
         "dtype": "float64",
         "stats": {
          "unique_count": 10,
          "nan_count": 0,
          "min": "1.7176",
          "max": "1.8556",
          "histogram": [
           {
            "bin_start": 1.7176,
            "bin_end": 1.7314,
            "count": 1
           },
           {
            "bin_start": 1.7314,
            "bin_end": 1.7452,
            "count": 1
           },
           {
            "bin_start": 1.7452,
            "bin_end": 1.759,
            "count": 1
           },
           {
            "bin_start": 1.759,
            "bin_end": 1.7728,
            "count": 2
           },
           {
            "bin_start": 1.7728,
            "bin_end": 1.7866,
            "count": 1
           },
           {
            "bin_start": 1.7866,
            "bin_end": 1.8004,
            "count": 1
           },
           {
            "bin_start": 1.8004,
            "bin_end": 1.8142,
            "count": 1
           },
           {
            "bin_start": 1.8142,
            "bin_end": 1.8279999999999998,
            "count": 1
           },
           {
            "bin_start": 1.8279999999999998,
            "bin_end": 1.8417999999999999,
            "count": 0
           },
           {
            "bin_start": 1.8417999999999999,
            "bin_end": 1.8556,
            "count": 1
           }
          ]
         }
        },
        {
         "name": "_deepnote_index_column",
         "dtype": "int64"
        }
       ],
       "rows": [
        {
         "Test ID": 1,
         "Try": 1,
         "Population": 100,
         "CXPB": 0.8,
         "MUTPB": 0.2,
         "NGEN": 50,
         "Best Fitness": 2900,
         "Best": "[602, 714, 479, 0, 272, 406, 389, 52]",
         "Time": 1.8135,
         "_deepnote_index_column": 1
        },
        {
         "Test ID": 1,
         "Try": 8,
         "Population": 100,
         "CXPB": 0.8,
         "MUTPB": 0.2,
         "NGEN": 50,
         "Best Fitness": 2899,
         "Best": "[619, 707, 593, 876, 273, 411, 355, 37]",
         "Time": 1.8556,
         "_deepnote_index_column": 8
        },
        {
         "Test ID": 1,
         "Try": 7,
         "Population": 100,
         "CXPB": 0.8,
         "MUTPB": 0.2,
         "NGEN": 50,
         "Best Fitness": 2898,
         "Best": "[605, 720, 460, 79, 310, 424, 333, 10]",
         "Time": 1.7416,
         "_deepnote_index_column": 7
        },
        {
         "Test ID": 1,
         "Try": 0,
         "Population": 100,
         "CXPB": 0.8,
         "MUTPB": 0.2,
         "NGEN": 50,
         "Best Fitness": 2896,
         "Best": "[611, 742, 579, 104, 306, 413, 393, 5]",
         "Time": 1.7688,
         "_deepnote_index_column": 0
        },
        {
         "Test ID": 1,
         "Try": 5,
         "Population": 100,
         "CXPB": 0.8,
         "MUTPB": 0.2,
         "NGEN": 50,
         "Best Fitness": 2896,
         "Best": "[655, 693, 593, 207, 297, 427, 337, 27]",
         "Time": 1.7583,
         "_deepnote_index_column": 5
        },
        {
         "Test ID": 1,
         "Try": 6,
         "Population": 100,
         "CXPB": 0.8,
         "MUTPB": 0.2,
         "NGEN": 50,
         "Best Fitness": 2894,
         "Best": "[610, 683, 476, 0, 281, 435, 365, 50]",
         "Time": 1.8237,
         "_deepnote_index_column": 6
        },
        {
         "Test ID": 1,
         "Try": 4,
         "Population": 100,
         "CXPB": 0.8,
         "MUTPB": 0.2,
         "NGEN": 50,
         "Best Fitness": 2890,
         "Best": "[659, 743, 572, 175, 236, 403, 377, 23]",
         "Time": 1.7176,
         "_deepnote_index_column": 4
        },
        {
         "Test ID": 1,
         "Try": 2,
         "Population": 100,
         "CXPB": 0.8,
         "MUTPB": 0.2,
         "NGEN": 50,
         "Best Fitness": 2884,
         "Best": "[662, 711, 538, 842, 272, 435, 381, 33]",
         "Time": 1.7723,
         "_deepnote_index_column": 2
        },
        {
         "Test ID": 1,
         "Try": 3,
         "Population": 100,
         "CXPB": 0.8,
         "MUTPB": 0.2,
         "NGEN": 50,
         "Best Fitness": 2881,
         "Best": "[656, 713, 581, 794, 305, 431, 393, 1]",
         "Time": 1.7826,
         "_deepnote_index_column": 3
        },
        {
         "Test ID": 1,
         "Try": 9,
         "Population": 100,
         "CXPB": 0.8,
         "MUTPB": 0.2,
         "NGEN": 50,
         "Best Fitness": 2879,
         "Best": "[659, 681, 0, 795, 306, 402, 364, 1]",
         "Time": 1.7973,
         "_deepnote_index_column": 9
        }
       ]
      },
      "text/plain": "   Test ID  Try  Population  CXPB  MUTPB  NGEN  Best Fitness  \\\n0        1    0         100   0.8    0.2    50        2896.0   \n1        1    1         100   0.8    0.2    50        2900.0   \n2        1    2         100   0.8    0.2    50        2884.0   \n3        1    3         100   0.8    0.2    50        2881.0   \n4        1    4         100   0.8    0.2    50        2890.0   \n5        1    5         100   0.8    0.2    50        2896.0   \n6        1    6         100   0.8    0.2    50        2894.0   \n7        1    7         100   0.8    0.2    50        2898.0   \n8        1    8         100   0.8    0.2    50        2899.0   \n9        1    9         100   0.8    0.2    50        2879.0   \n\n                                      Best    Time  \n0   [611, 742, 579, 104, 306, 413, 393, 5]  1.7688  \n1    [602, 714, 479, 0, 272, 406, 389, 52]  1.8135  \n2  [662, 711, 538, 842, 272, 435, 381, 33]  1.7723  \n3   [656, 713, 581, 794, 305, 431, 393, 1]  1.7826  \n4  [659, 743, 572, 175, 236, 403, 377, 23]  1.7176  \n5  [655, 693, 593, 207, 297, 427, 337, 27]  1.7583  \n6    [610, 683, 476, 0, 281, 435, 365, 50]  1.8237  \n7   [605, 720, 460, 79, 310, 424, 333, 10]  1.7416  \n8  [619, 707, 593, 876, 273, 411, 355, 37]  1.8556  \n9     [659, 681, 0, 795, 306, 402, 364, 1]  1.7973  ",
      "text/html": "<div>\n<style scoped>\n    .dataframe tbody tr th:only-of-type {\n        vertical-align: middle;\n    }\n\n    .dataframe tbody tr th {\n        vertical-align: top;\n    }\n\n    .dataframe thead th {\n        text-align: right;\n    }\n</style>\n<table border=\"1\" class=\"dataframe\">\n  <thead>\n    <tr style=\"text-align: right;\">\n      <th></th>\n      <th>Test ID</th>\n      <th>Try</th>\n      <th>Population</th>\n      <th>CXPB</th>\n      <th>MUTPB</th>\n      <th>NGEN</th>\n      <th>Best Fitness</th>\n      <th>Best</th>\n      <th>Time</th>\n    </tr>\n  </thead>\n  <tbody>\n    <tr>\n      <th>0</th>\n      <td>1</td>\n      <td>0</td>\n      <td>100</td>\n      <td>0.8</td>\n      <td>0.2</td>\n      <td>50</td>\n      <td>2896.0</td>\n      <td>[611, 742, 579, 104, 306, 413, 393, 5]</td>\n      <td>1.7688</td>\n    </tr>\n    <tr>\n      <th>1</th>\n      <td>1</td>\n      <td>1</td>\n      <td>100</td>\n      <td>0.8</td>\n      <td>0.2</td>\n      <td>50</td>\n      <td>2900.0</td>\n      <td>[602, 714, 479, 0, 272, 406, 389, 52]</td>\n      <td>1.8135</td>\n    </tr>\n    <tr>\n      <th>2</th>\n      <td>1</td>\n      <td>2</td>\n      <td>100</td>\n      <td>0.8</td>\n      <td>0.2</td>\n      <td>50</td>\n      <td>2884.0</td>\n      <td>[662, 711, 538, 842, 272, 435, 381, 33]</td>\n      <td>1.7723</td>\n    </tr>\n    <tr>\n      <th>3</th>\n      <td>1</td>\n      <td>3</td>\n      <td>100</td>\n      <td>0.8</td>\n      <td>0.2</td>\n      <td>50</td>\n      <td>2881.0</td>\n      <td>[656, 713, 581, 794, 305, 431, 393, 1]</td>\n      <td>1.7826</td>\n    </tr>\n    <tr>\n      <th>4</th>\n      <td>1</td>\n      <td>4</td>\n      <td>100</td>\n      <td>0.8</td>\n      <td>0.2</td>\n      <td>50</td>\n      <td>2890.0</td>\n      <td>[659, 743, 572, 175, 236, 403, 377, 23]</td>\n      <td>1.7176</td>\n    </tr>\n    <tr>\n      <th>5</th>\n      <td>1</td>\n      <td>5</td>\n      <td>100</td>\n      <td>0.8</td>\n      <td>0.2</td>\n      <td>50</td>\n      <td>2896.0</td>\n      <td>[655, 693, 593, 207, 297, 427, 337, 27]</td>\n      <td>1.7583</td>\n    </tr>\n    <tr>\n      <th>6</th>\n      <td>1</td>\n      <td>6</td>\n      <td>100</td>\n      <td>0.8</td>\n      <td>0.2</td>\n      <td>50</td>\n      <td>2894.0</td>\n      <td>[610, 683, 476, 0, 281, 435, 365, 50]</td>\n      <td>1.8237</td>\n    </tr>\n    <tr>\n      <th>7</th>\n      <td>1</td>\n      <td>7</td>\n      <td>100</td>\n      <td>0.8</td>\n      <td>0.2</td>\n      <td>50</td>\n      <td>2898.0</td>\n      <td>[605, 720, 460, 79, 310, 424, 333, 10]</td>\n      <td>1.7416</td>\n    </tr>\n    <tr>\n      <th>8</th>\n      <td>1</td>\n      <td>8</td>\n      <td>100</td>\n      <td>0.8</td>\n      <td>0.2</td>\n      <td>50</td>\n      <td>2899.0</td>\n      <td>[619, 707, 593, 876, 273, 411, 355, 37]</td>\n      <td>1.8556</td>\n    </tr>\n    <tr>\n      <th>9</th>\n      <td>1</td>\n      <td>9</td>\n      <td>100</td>\n      <td>0.8</td>\n      <td>0.2</td>\n      <td>50</td>\n      <td>2879.0</td>\n      <td>[659, 681, 0, 795, 306, 402, 364, 1]</td>\n      <td>1.7973</td>\n    </tr>\n  </tbody>\n</table>\n</div>"
     },
     "metadata": {}
    }
   ]
  },
  {
   "cell_type": "code",
   "metadata": {
    "cell_id": "ae670724-05b2-4cd3-8208-62bf1dbbf07f",
    "tags": [],
    "deepnote_to_be_reexecuted": false,
    "source_hash": "fd0f0255",
    "execution_start": 1647057859953,
    "execution_millis": 277,
    "deepnote_cell_type": "code",
    "deepnote_cell_height": 595,
    "deepnote_output_heights": [
     498
    ]
   },
   "source": "plot_evolution(logs[1][1])",
   "execution_count": null,
   "outputs": [
    {
     "data": {
      "text/plain": "<Figure size 576x576 with 1 Axes>",
      "image/png": "[encoded data removed]"
     },
     "metadata": {
      "needs_background": "light",
      "image/png": {
       "width": 507,
       "height": 496
      }
     },
     "output_type": "display_data"
    }
   ]
  },
  {
   "cell_type": "code",
   "metadata": {
    "cell_id": "eeb4c823-529e-4bc7-b5fe-9f1e1921895f",
    "tags": [],
    "deepnote_to_be_reexecuted": false,
    "source_hash": "35bb54df",
    "execution_start": 1647057915945,
    "execution_millis": 228,
    "deepnote_cell_type": "code",
    "deepnote_cell_height": 533
   },
   "source": "PRODUCTS.iloc[[655, 693, 593, 207, 297, 427, 337, 27], :]",
   "execution_count": null,
   "outputs": [
    {
     "output_type": "execute_result",
     "execution_count": 26,
     "data": {
      "application/vnd.deepnote.dataframe.v3+json": {
       "column_count": 8,
       "row_count": 8,
       "columns": [
        {
         "name": "title",
         "dtype": "object",
         "stats": {
          "unique_count": 8,
          "nan_count": 0,
          "categories": [
           {
            "name": "Procesador de escritorio MSI MEG Intel Core i7-10700KF LGA1200 de 8 núcleos de hasta 5.1 GHz desbloqueado sin gráficos de procesador",
            "count": 1
           },
           {
            "name": "MSI MPG Z590 Gaming Edge WiFi placa base para juegos (ATX, 11ª/10ª generación Intel Core, LGA 1200 Socket, DDR4, PCIe 4, CFX, M.2 ranuras, USB 3.2 Gen 2, Wi-Fi 6E, DP/HDMI, Mystic Light RGB) (renovado)",
            "count": 1
           },
           {
            "name": "6 others",
            "count": 6
           }
          ]
         }
        },
        {
         "name": "type",
         "dtype": "object",
         "stats": {
          "unique_count": 8,
          "nan_count": 0,
          "categories": [
           {
            "name": "CPU",
            "count": 1
           },
           {
            "name": "Mother Board",
            "count": 1
           },
           {
            "name": "6 others",
            "count": 6
           }
          ]
         }
        },
        {
         "name": "category",
         "dtype": "object",
         "stats": {
          "unique_count": 3,
          "nan_count": 0,
          "categories": [
           {
            "name": "Gamer",
            "count": 4
           },
           {
            "name": "Office",
            "count": 3
           },
           {
            "name": "Gamer/Desing",
            "count": 1
           }
          ]
         }
        },
        {
         "name": "range",
         "dtype": "object",
         "stats": {
          "unique_count": 3,
          "nan_count": 0,
          "categories": [
           {
            "name": "High",
            "count": 3
           },
           {
            "name": "Low",
            "count": 3
           },
           {
            "name": "Mid",
            "count": 2
           }
          ]
         }
        },
        {
         "name": "symbol",
         "dtype": "object",
         "stats": {
          "unique_count": 1,
          "nan_count": 0,
          "categories": [
           {
            "name": "US",
            "count": 8
           }
          ]
         }
        },
        {
         "name": "price",
         "dtype": "float64",
         "stats": {
          "unique_count": 8,
          "nan_count": 0,
          "min": "95.0",
          "max": "699.0",
          "histogram": [
           {
            "bin_start": 95,
            "bin_end": 155.4,
            "count": 3
           },
           {
            "bin_start": 155.4,
            "bin_end": 215.8,
            "count": 0
           },
           {
            "bin_start": 215.8,
            "bin_end": 276.2,
            "count": 1
           },
           {
            "bin_start": 276.2,
            "bin_end": 336.6,
            "count": 1
           },
           {
            "bin_start": 336.6,
            "bin_end": 397,
            "count": 0
           },
           {
            "bin_start": 397,
            "bin_end": 457.4,
            "count": 0
           },
           {
            "bin_start": 457.4,
            "bin_end": 517.8,
            "count": 0
           },
           {
            "bin_start": 517.8,
            "bin_end": 578.2,
            "count": 0
           },
           {
            "bin_start": 578.2,
            "bin_end": 638.6,
            "count": 1
           },
           {
            "bin_start": 638.6,
            "bin_end": 699,
            "count": 2
           }
          ]
         }
        },
        {
         "name": "link",
         "dtype": "object",
         "stats": {
          "unique_count": 8,
          "nan_count": 0,
          "categories": [
           {
            "name": "https://www.amazon.com/-/es/Procesador-escritorio-i7-10700KF-desbloqueado-procesador/dp/B08NVSNN72/ref=sr_1_265?__mk_es_US=%C3%85M%C3%85%C5%BD%C3%95%C3%91&crid=3CZ857MXF7WOH&keywords=processors&qid=1646942506&sprefix=%2Caps%2C114&sr=8-265",
            "count": 1
           },
           {
            "name": "https://www.amazon.com/-/es/Gaming-juegos-generaci%C3%B3n-ranuras-renovado/dp/B09D39WDW5/ref=sr_1_37?__mk_es_US=%C3%85M%C3%85%C5%BD%C3%95%C3%91&crid=24LF7Z98L4KA4&keywords=mother+board&qid=1646939215&sprefix=%2Caps%2C136&sr=8-37",
            "count": 1
           },
           {
            "name": "6 others",
            "count": 6
           }
          ]
         }
        },
        {
         "name": "origin",
         "dtype": "object",
         "stats": {
          "unique_count": 8,
          "nan_count": 0,
          "categories": [
           {
            "name": "/work/games_seeker/data/raw/amazon_procesadores.csv",
            "count": 1
           },
           {
            "name": "/work/games_seeker/data/raw/amazon_tarjeta_madre.csv",
            "count": 1
           },
           {
            "name": "6 others",
            "count": 6
           }
          ]
         }
        },
        {
         "name": "_deepnote_index_column",
         "dtype": "int64"
        }
       ],
       "rows": [
        {
         "title": "Procesador de escritorio MSI MEG Intel Core i7-10700KF LGA1200 de 8 núcleos de hasta 5.1 GHz desblo…",
         "type": "CPU",
         "category": "Gamer",
         "range": "High",
         "symbol": "US",
         "price": 629,
         "link": "https://www.amazon.com/-/es/Procesador-escritorio-i7-10700KF-desbloqueado-procesador/dp/B08NVSNN72/…",
         "origin": "/work/games_seeker/data/raw/amazon_procesadores.csv",
         "_deepnote_index_column": 655
        },
        {
         "title": "MSI MPG Z590 Gaming Edge WiFi placa base para juegos (ATX, 11ª/10ª generación Intel Core, LGA 1200 …",
         "type": "Mother Board",
         "category": "Gamer",
         "range": "Mid",
         "symbol": "US",
         "price": 219,
         "link": "https://www.amazon.com/-/es/Gaming-juegos-generaci%C3%B3n-ranuras-renovado/dp/B09D39WDW5/ref=sr_1_3…",
         "origin": "/work/games_seeker/data/raw/amazon_tarjeta_madre.csv",
         "_deepnote_index_column": 693
        },
        {
         "title": "Corsair Vengeance RGB Pro 16 GB (2 x 8 GB) DDR4 3600 (PC4-28800) C18 AMD - Memoria optimizada - Neg…",
         "type": "RAM",
         "category": "Office",
         "range": "Low",
         "symbol": "US",
         "price": 95,
         "link": "https://www.amazon.com/-/es/Corsair-Vengeance-DDR4-3600-PC4-28800/dp/B07TC4TPCN/ref=sr_1_307?__mk_e…",
         "origin": "/work/games_seeker/data/raw/amazon_memorias_ram_dd4.csv",
         "_deepnote_index_column": 593
        },
        {
         "title": "WD_BLACK 2TB SN850 NVMe unidad de estado sólido SSD interna para juegos con ASUS ROG Strix Arion al…",
         "type": "Storage",
         "category": "Gamer",
         "range": "High",
         "symbol": "US",
         "price": 315,
         "link": "https://www.amazon.com/-/es/WD_BLACK-aleaci%C3%B3n-aluminio-port%C3%A1til-adaptador/dp/B09TDWSX3Y/r…",
         "origin": "/work/games_seeker/data/raw/amazon_nvme_m.2.csv",
         "_deepnote_index_column": 207
        },
        {
         "title": "EVGA GeForce RTX 2060 XC Ultra Gaming",
         "type": "GPU",
         "category": "Gamer/Desing",
         "range": "Mid",
         "symbol": "US",
         "price": 699,
         "link": "https://www.amazon.com/-/es/EVGA-GeForce-2060-Ultra-Gaming/dp/B07MJDBTD5/ref=sr_1_151?__mk_es_US=%C…",
         "origin": "/work/games_seeker/data/raw/amazon_tarjetas_graficas.csv",
         "_deepnote_index_column": 297
        },
        {
         "title": "Wendry Kit de refrigeración por agua de 9.449 in DIY para ordenador, todo en uno líquido PC refrige…",
         "type": "Refrigeration",
         "category": "Office",
         "range": "Low",
         "symbol": "US",
         "price": 129,
         "link": "https://www.amazon.com/-/es/refrigeraci%C3%B3n-ordenador-enfriador-ventilador-disipador/dp/B07YL19Q…",
         "origin": "/work/games_seeker/data/raw/amazon_refrigeracion_pc.csv",
         "_deepnote_index_column": 427
        },
        {
         "title": "Corsair AXi Series, AX1600i, 1600 W, 80+ Titanio certificado, totalmente modular - Fuente de alimen…",
         "type": "Power Supply",
         "category": "Gamer",
         "range": "High",
         "symbol": "US",
         "price": 661,
         "link": "https://www.amazon.com/-/es/Corsair-AX1600i-Titanio-certificado-totalmente/dp/B0787G1Z74/ref=sr_1_3…",
         "origin": "/work/games_seeker/data/raw/amazon_fuentes_de_alimentacion_para_pc.csv",
         "_deepnote_index_column": 337
        },
        {
         "title": "Thermaltake carcasa de computadora",
         "type": "Chasis",
         "category": "Office",
         "range": "Low",
         "symbol": "US",
         "price": 149,
         "link": "https://www.amazon.com/-/es/CA-1H8-00M1WN-01-Thermaltake-carcasa-de-computadora/dp/B06XB53D41/ref=s…",
         "origin": "/work/games_seeker/data/raw/amazon_chasis_para_pc.csv",
         "_deepnote_index_column": 27
        }
       ]
      },
      "text/plain": "                                                 title           type  \\\n655  Procesador de escritorio MSI MEG Intel Core i7...            CPU   \n693  MSI MPG Z590 Gaming Edge WiFi placa base para ...   Mother Board   \n593  Corsair Vengeance RGB Pro 16 GB (2 x 8 GB) DDR...            RAM   \n207  WD_BLACK 2TB SN850 NVMe unidad de estado sólid...        Storage   \n297              EVGA GeForce RTX 2060 XC Ultra Gaming            GPU   \n427  Wendry Kit de refrigeración por agua de 9.449 ...  Refrigeration   \n337  Corsair AXi Series, AX1600i, 1600 W, 80+ Titan...   Power Supply   \n27                  Thermaltake carcasa de computadora         Chasis   \n\n         category range symbol  price  \\\n655         Gamer  High     US  629.0   \n693         Gamer   Mid     US  219.0   \n593        Office   Low     US   95.0   \n207         Gamer  High     US  315.0   \n297  Gamer/Desing   Mid     US  699.0   \n427        Office   Low     US  129.0   \n337         Gamer  High     US  661.0   \n27         Office   Low     US  149.0   \n\n                                                  link  \\\n655  https://www.amazon.com/-/es/Procesador-escrito...   \n693  https://www.amazon.com/-/es/Gaming-juegos-gene...   \n593  https://www.amazon.com/-/es/Corsair-Vengeance-...   \n207  https://www.amazon.com/-/es/WD_BLACK-aleaci%C3...   \n297  https://www.amazon.com/-/es/EVGA-GeForce-2060-...   \n427  https://www.amazon.com/-/es/refrigeraci%C3%B3n...   \n337  https://www.amazon.com/-/es/Corsair-AX1600i-Ti...   \n27   https://www.amazon.com/-/es/CA-1H8-00M1WN-01-T...   \n\n                                                origin  \n655  /work/games_seeker/data/raw/amazon_procesadore...  \n693  /work/games_seeker/data/raw/amazon_tarjeta_mad...  \n593  /work/games_seeker/data/raw/amazon_memorias_ra...  \n207    /work/games_seeker/data/raw/amazon_nvme_m.2.csv  \n297  /work/games_seeker/data/raw/amazon_tarjetas_gr...  \n427  /work/games_seeker/data/raw/amazon_refrigeraci...  \n337  /work/games_seeker/data/raw/amazon_fuentes_de_...  \n27   /work/games_seeker/data/raw/amazon_chasis_para...  ",
      "text/html": "<div>\n<style scoped>\n    .dataframe tbody tr th:only-of-type {\n        vertical-align: middle;\n    }\n\n    .dataframe tbody tr th {\n        vertical-align: top;\n    }\n\n    .dataframe thead th {\n        text-align: right;\n    }\n</style>\n<table border=\"1\" class=\"dataframe\">\n  <thead>\n    <tr style=\"text-align: right;\">\n      <th></th>\n      <th>title</th>\n      <th>type</th>\n      <th>category</th>\n      <th>range</th>\n      <th>symbol</th>\n      <th>price</th>\n      <th>link</th>\n      <th>origin</th>\n    </tr>\n  </thead>\n  <tbody>\n    <tr>\n      <th>655</th>\n      <td>Procesador de escritorio MSI MEG Intel Core i7...</td>\n      <td>CPU</td>\n      <td>Gamer</td>\n      <td>High</td>\n      <td>US</td>\n      <td>629.0</td>\n      <td>https://www.amazon.com/-/es/Procesador-escrito...</td>\n      <td>/work/games_seeker/data/raw/amazon_procesadore...</td>\n    </tr>\n    <tr>\n      <th>693</th>\n      <td>MSI MPG Z590 Gaming Edge WiFi placa base para ...</td>\n      <td>Mother Board</td>\n      <td>Gamer</td>\n      <td>Mid</td>\n      <td>US</td>\n      <td>219.0</td>\n      <td>https://www.amazon.com/-/es/Gaming-juegos-gene...</td>\n      <td>/work/games_seeker/data/raw/amazon_tarjeta_mad...</td>\n    </tr>\n    <tr>\n      <th>593</th>\n      <td>Corsair Vengeance RGB Pro 16 GB (2 x 8 GB) DDR...</td>\n      <td>RAM</td>\n      <td>Office</td>\n      <td>Low</td>\n      <td>US</td>\n      <td>95.0</td>\n      <td>https://www.amazon.com/-/es/Corsair-Vengeance-...</td>\n      <td>/work/games_seeker/data/raw/amazon_memorias_ra...</td>\n    </tr>\n    <tr>\n      <th>207</th>\n      <td>WD_BLACK 2TB SN850 NVMe unidad de estado sólid...</td>\n      <td>Storage</td>\n      <td>Gamer</td>\n      <td>High</td>\n      <td>US</td>\n      <td>315.0</td>\n      <td>https://www.amazon.com/-/es/WD_BLACK-aleaci%C3...</td>\n      <td>/work/games_seeker/data/raw/amazon_nvme_m.2.csv</td>\n    </tr>\n    <tr>\n      <th>297</th>\n      <td>EVGA GeForce RTX 2060 XC Ultra Gaming</td>\n      <td>GPU</td>\n      <td>Gamer/Desing</td>\n      <td>Mid</td>\n      <td>US</td>\n      <td>699.0</td>\n      <td>https://www.amazon.com/-/es/EVGA-GeForce-2060-...</td>\n      <td>/work/games_seeker/data/raw/amazon_tarjetas_gr...</td>\n    </tr>\n    <tr>\n      <th>427</th>\n      <td>Wendry Kit de refrigeración por agua de 9.449 ...</td>\n      <td>Refrigeration</td>\n      <td>Office</td>\n      <td>Low</td>\n      <td>US</td>\n      <td>129.0</td>\n      <td>https://www.amazon.com/-/es/refrigeraci%C3%B3n...</td>\n      <td>/work/games_seeker/data/raw/amazon_refrigeraci...</td>\n    </tr>\n    <tr>\n      <th>337</th>\n      <td>Corsair AXi Series, AX1600i, 1600 W, 80+ Titan...</td>\n      <td>Power Supply</td>\n      <td>Gamer</td>\n      <td>High</td>\n      <td>US</td>\n      <td>661.0</td>\n      <td>https://www.amazon.com/-/es/Corsair-AX1600i-Ti...</td>\n      <td>/work/games_seeker/data/raw/amazon_fuentes_de_...</td>\n    </tr>\n    <tr>\n      <th>27</th>\n      <td>Thermaltake carcasa de computadora</td>\n      <td>Chasis</td>\n      <td>Office</td>\n      <td>Low</td>\n      <td>US</td>\n      <td>149.0</td>\n      <td>https://www.amazon.com/-/es/CA-1H8-00M1WN-01-T...</td>\n      <td>/work/games_seeker/data/raw/amazon_chasis_para...</td>\n    </tr>\n  </tbody>\n</table>\n</div>"
     },
     "metadata": {}
    }
   ]
  },
  {
   "cell_type": "code",
   "metadata": {
    "cell_id": "846f0b16-e5f3-4bde-a5b7-315008674043",
    "tags": [],
    "deepnote_to_be_reexecuted": false,
    "source_hash": "b623e53d",
    "execution_start": 1647057693503,
    "execution_millis": 12,
    "deepnote_cell_type": "code",
    "deepnote_cell_height": 81
   },
   "source": "",
   "execution_count": null,
   "outputs": []
  },
  {
   "cell_type": "markdown",
   "source": "<a style='text-decoration:none;line-height:16px;display:flex;color:#5B5B62;padding:10px;justify-content:end;' href='https://deepnote.com?utm_source=created-in-deepnote-cell&projectId=07e29549-6cbf-4e88-b69c-0fc48f2d6023' target=\"_blank\">\n<img alt='Created in deepnote.com' style='display:inline;max-height:16px;margin:0px;margin-right:7.5px;' src='data:image/svg+xml;base64,PD94bWwgdmVyc2lvbj0iMS4wIiBlbmNvZGluZz0iVVRGLTgiPz4KPHN2ZyB3aWR0aD0iODBweCIgaGVpZ2h0PSI4MHB4IiB2aWV3Qm94PSIwIDAgODAgODAiIHZlcnNpb249IjEuMSIgeG1sbnM9Imh0dHA6Ly93d3cudzMub3JnLzIwMDAvc3ZnIiB4bWxuczp4bGluaz0iaHR0cDovL3d3dy53My5vcmcvMTk5OS94bGluayI+CiAgICA8IS0tIEdlbmVyYXRvcjogU2tldGNoIDU0LjEgKDc2NDkwKSAtIGh0dHBzOi8vc2tldGNoYXBwLmNvbSAtLT4KICAgIDx0aXRsZT5Hcm91cCAzPC90aXRsZT4KICAgIDxkZXNjPkNyZWF0ZWQgd2l0aCBTa2V0Y2guPC9kZXNjPgogICAgPGcgaWQ9IkxhbmRpbmciIHN0cm9rZT0ibm9uZSIgc3Ryb2tlLXdpZHRoPSIxIiBmaWxsPSJub25lIiBmaWxsLXJ1bGU9ImV2ZW5vZGQiPgogICAgICAgIDxnIGlkPSJBcnRib2FyZCIgdHJhbnNmb3JtPSJ0cmFuc2xhdGUoLTEyMzUuMDAwMDAwLCAtNzkuMDAwMDAwKSI+CiAgICAgICAgICAgIDxnIGlkPSJHcm91cC0zIiB0cmFuc2Zvcm09InRyYW5zbGF0ZSgxMjM1LjAwMDAwMCwgNzkuMDAwMDAwKSI+CiAgICAgICAgICAgICAgICA8cG9seWdvbiBpZD0iUGF0aC0yMCIgZmlsbD0iIzAyNjVCNCIgcG9pbnRzPSIyLjM3NjIzNzYyIDgwIDM4LjA0NzY2NjcgODAgNTcuODIxNzgyMiA3My44MDU3NTkyIDU3LjgyMTc4MjIgMzIuNzU5MjczOSAzOS4xNDAyMjc4IDMxLjY4MzE2ODMiPjwvcG9seWdvbj4KICAgICAgICAgICAgICAgIDxwYXRoIGQ9Ik0zNS4wMDc3MTgsODAgQzQyLjkwNjIwMDcsNzYuNDU0OTM1OCA0Ny41NjQ5MTY3LDcxLjU0MjI2NzEgNDguOTgzODY2LDY1LjI2MTk5MzkgQzUxLjExMjI4OTksNTUuODQxNTg0MiA0MS42NzcxNzk1LDQ5LjIxMjIyODQgMjUuNjIzOTg0Niw0OS4yMTIyMjg0IEMyNS40ODQ5Mjg5LDQ5LjEyNjg0NDggMjkuODI2MTI5Niw0My4yODM4MjQ4IDM4LjY0NzU4NjksMzEuNjgzMTY4MyBMNzIuODcxMjg3MSwzMi41NTQ0MjUgTDY1LjI4MDk3Myw2Ny42NzYzNDIxIEw1MS4xMTIyODk5LDc3LjM3NjE0NCBMMzUuMDA3NzE4LDgwIFoiIGlkPSJQYXRoLTIyIiBmaWxsPSIjMDAyODY4Ij48L3BhdGg+CiAgICAgICAgICAgICAgICA8cGF0aCBkPSJNMCwzNy43MzA0NDA1IEwyNy4xMTQ1MzcsMC4yNTcxMTE0MzYgQzYyLjM3MTUxMjMsLTEuOTkwNzE3MDEgODAsMTAuNTAwMzkyNyA4MCwzNy43MzA0NDA1IEM4MCw2NC45NjA0ODgyIDY0Ljc3NjUwMzgsNzkuMDUwMzQxNCAzNC4zMjk1MTEzLDgwIEM0Ny4wNTUzNDg5LDc3LjU2NzA4MDggNTMuNDE4MjY3Nyw3MC4zMTM2MTAzIDUzLjQxODI2NzcsNTguMjM5NTg4NSBDNTMuNDE4MjY3Nyw0MC4xMjg1NTU3IDM2LjMwMzk1NDQsMzcuNzMwNDQwNSAyNS4yMjc0MTcsMzcuNzMwNDQwNSBDMTcuODQzMDU4NiwzNy43MzA0NDA1IDkuNDMzOTE5NjYsMzcuNzMwNDQwNSAwLDM3LjczMDQ0MDUgWiIgaWQ9IlBhdGgtMTkiIGZpbGw9IiMzNzkzRUYiPjwvcGF0aD4KICAgICAgICAgICAgPC9nPgogICAgICAgIDwvZz4KICAgIDwvZz4KPC9zdmc+' > </img>\nCreated in <span style='font-weight:600;margin-left:4px;'>Deepnote</span></a>",
   "metadata": {
    "tags": [],
    "created_in_deepnote_cell": true,
    "deepnote_cell_type": "markdown"
   }
  }
 ],
 "nbformat": 4,
 "nbformat_minor": 2,
 "metadata": {
  "orig_nbformat": 2,
  "deepnote": {
   "is_reactive": false
  },
  "deepnote_notebook_id": "f519f23b-2af1-448f-a1f9-91fba16ab0fc",
  "deepnote_execution_queue": []
 }
}