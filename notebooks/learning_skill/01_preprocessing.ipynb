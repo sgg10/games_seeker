{
 "cells": [
  {
   "cell_type": "code",
   "metadata": {
    "tags": [],
    "cell_id": "91ada1c3-96a0-4022-82ad-15fc2933bc1c",
    "deepnote_to_be_reexecuted": false,
    "source_hash": "9aa7b83e",
    "execution_start": 1648412528810,
    "execution_millis": 1691,
    "deepnote_cell_type": "code",
    "deepnote_cell_height": 189
   },
   "source": "import numpy as np\nimport pandas as pd\n\nfrom sklearn import preprocessing\nfrom sklearn.cluster import KMeans\nfrom sklearn import metrics, tree\nfrom pickle import dump",
   "execution_count": 1,
   "outputs": []
  },
  {
   "cell_type": "markdown",
   "source": "# Lectura",
   "metadata": {
    "cell_id": "6b17913465b24b4c847152769ab2bb12",
    "tags": [],
    "is_collapsed": false,
    "deepnote_cell_type": "text-cell-h1"
   }
  },
  {
   "cell_type": "code",
   "source": "df = pd.read_csv(\"../../data/interim/types_of_pc.csv\", sep=\"|\")",
   "metadata": {
    "cell_id": "4accac460b74469380dca6d34551f478",
    "tags": [],
    "deepnote_to_be_reexecuted": false,
    "source_hash": "d22c30ae",
    "execution_start": 1648412530532,
    "execution_millis": 1910,
    "deepnote_cell_type": "code",
    "deepnote_cell_height": 81
   },
   "outputs": [],
   "execution_count": 2
  },
  {
   "cell_type": "code",
   "source": "df",
   "metadata": {
    "cell_id": "17cbfebc30d7438d8a49f4d3ae12ed35",
    "tags": [],
    "deepnote_to_be_reexecuted": false,
    "source_hash": "f804c160",
    "execution_start": 1648412532443,
    "execution_millis": 364,
    "deepnote_cell_type": "code",
    "deepnote_cell_height": 598
   },
   "outputs": [
    {
     "output_type": "execute_result",
     "execution_count": 3,
     "data": {
      "application/vnd.deepnote.dataframe.v3+json": {
       "column_count": 9,
       "row_count": 1097649,
       "columns": [
        {
         "name": "CPU",
         "dtype": "int64"
        },
        {
         "name": "CPU_GEN",
         "dtype": "int64"
        },
        {
         "name": "CPU_SERIE",
         "dtype": "object"
        },
        {
         "name": "RAM",
         "dtype": "int64"
        },
        {
         "name": "GPU",
         "dtype": "int64"
        },
        {
         "name": "GPU_TI",
         "dtype": "int64"
        },
        {
         "name": "HDD",
         "dtype": "int64"
        },
        {
         "name": "SSD",
         "dtype": "int64"
        },
        {
         "name": "TARGET",
         "dtype": "object"
        },
        {
         "name": "_deepnote_index_column",
         "dtype": "int64"
        }
       ],
       "rows": [
        {
         "CPU": 3,
         "CPU_GEN": 5,
         "CPU_SERIE": "Q",
         "RAM": 2,
         "GPU": -1,
         "GPU_TI": 0,
         "HDD": 500,
         "SSD": 0,
         "TARGET": "Ofimatica",
         "_deepnote_index_column": 0
        },
        {
         "CPU": 3,
         "CPU_GEN": 5,
         "CPU_SERIE": "Q",
         "RAM": 2,
         "GPU": -1,
         "GPU_TI": 0,
         "HDD": 500,
         "SSD": 128,
         "TARGET": "Ofimatica",
         "_deepnote_index_column": 1
        },
        {
         "CPU": 3,
         "CPU_GEN": 5,
         "CPU_SERIE": "Q",
         "RAM": 2,
         "GPU": -1,
         "GPU_TI": 0,
         "HDD": 500,
         "SSD": 256,
         "TARGET": "Ofimatica",
         "_deepnote_index_column": 2
        },
        {
         "CPU": 3,
         "CPU_GEN": 5,
         "CPU_SERIE": "Q",
         "RAM": 2,
         "GPU": -1,
         "GPU_TI": 0,
         "HDD": 750,
         "SSD": 0,
         "TARGET": "Ofimatica",
         "_deepnote_index_column": 3
        },
        {
         "CPU": 3,
         "CPU_GEN": 5,
         "CPU_SERIE": "Q",
         "RAM": 2,
         "GPU": -1,
         "GPU_TI": 0,
         "HDD": 750,
         "SSD": 128,
         "TARGET": "Ofimatica",
         "_deepnote_index_column": 4
        },
        {
         "CPU": 3,
         "CPU_GEN": 5,
         "CPU_SERIE": "Q",
         "RAM": 2,
         "GPU": -1,
         "GPU_TI": 0,
         "HDD": 750,
         "SSD": 256,
         "TARGET": "Ofimatica",
         "_deepnote_index_column": 5
        },
        {
         "CPU": 3,
         "CPU_GEN": 5,
         "CPU_SERIE": "Q",
         "RAM": 2,
         "GPU": -1,
         "GPU_TI": 0,
         "HDD": 1024,
         "SSD": 0,
         "TARGET": "Ofimatica",
         "_deepnote_index_column": 6
        },
        {
         "CPU": 3,
         "CPU_GEN": 5,
         "CPU_SERIE": "Q",
         "RAM": 2,
         "GPU": -1,
         "GPU_TI": 0,
         "HDD": 1024,
         "SSD": 128,
         "TARGET": "Ofimatica",
         "_deepnote_index_column": 7
        },
        {
         "CPU": 3,
         "CPU_GEN": 5,
         "CPU_SERIE": "Q",
         "RAM": 2,
         "GPU": -1,
         "GPU_TI": 0,
         "HDD": 1024,
         "SSD": 256,
         "TARGET": "Ofimatica",
         "_deepnote_index_column": 8
        },
        {
         "CPU": 3,
         "CPU_GEN": 5,
         "CPU_SERIE": "Q",
         "RAM": 3,
         "GPU": -1,
         "GPU_TI": 0,
         "HDD": 500,
         "SSD": 0,
         "TARGET": "Ofimatica",
         "_deepnote_index_column": 9
        }
       ]
      },
      "text/plain": "         CPU  CPU_GEN CPU_SERIE  RAM   GPU  GPU_TI    HDD   SSD     TARGET\n0          3        5         Q    2    -1       0    500     0  Ofimatica\n1          3        5         Q    2    -1       0    500   128  Ofimatica\n2          3        5         Q    2    -1       0    500   256  Ofimatica\n3          3        5         Q    2    -1       0    750     0  Ofimatica\n4          3        5         Q    2    -1       0    750   128  Ofimatica\n...      ...      ...       ...  ...   ...     ...    ...   ...        ...\n1097644    7       11         Z  124  3080       1   9216  2048     Diseño\n1097645    7       11         Z  124  3080       1   9216  4096     Diseño\n1097646    7       11         Z  124  3080       1  10240  1024     Diseño\n1097647    7       11         Z  124  3080       1  10240  2048     Diseño\n1097648    7       11         Z  124  3080       1  10240  4096     Diseño\n\n[1097649 rows x 9 columns]",
      "text/html": "<div>\n<style scoped>\n    .dataframe tbody tr th:only-of-type {\n        vertical-align: middle;\n    }\n\n    .dataframe tbody tr th {\n        vertical-align: top;\n    }\n\n    .dataframe thead th {\n        text-align: right;\n    }\n</style>\n<table border=\"1\" class=\"dataframe\">\n  <thead>\n    <tr style=\"text-align: right;\">\n      <th></th>\n      <th>CPU</th>\n      <th>CPU_GEN</th>\n      <th>CPU_SERIE</th>\n      <th>RAM</th>\n      <th>GPU</th>\n      <th>GPU_TI</th>\n      <th>HDD</th>\n      <th>SSD</th>\n      <th>TARGET</th>\n    </tr>\n  </thead>\n  <tbody>\n    <tr>\n      <th>0</th>\n      <td>3</td>\n      <td>5</td>\n      <td>Q</td>\n      <td>2</td>\n      <td>-1</td>\n      <td>0</td>\n      <td>500</td>\n      <td>0</td>\n      <td>Ofimatica</td>\n    </tr>\n    <tr>\n      <th>1</th>\n      <td>3</td>\n      <td>5</td>\n      <td>Q</td>\n      <td>2</td>\n      <td>-1</td>\n      <td>0</td>\n      <td>500</td>\n      <td>128</td>\n      <td>Ofimatica</td>\n    </tr>\n    <tr>\n      <th>2</th>\n      <td>3</td>\n      <td>5</td>\n      <td>Q</td>\n      <td>2</td>\n      <td>-1</td>\n      <td>0</td>\n      <td>500</td>\n      <td>256</td>\n      <td>Ofimatica</td>\n    </tr>\n    <tr>\n      <th>3</th>\n      <td>3</td>\n      <td>5</td>\n      <td>Q</td>\n      <td>2</td>\n      <td>-1</td>\n      <td>0</td>\n      <td>750</td>\n      <td>0</td>\n      <td>Ofimatica</td>\n    </tr>\n    <tr>\n      <th>4</th>\n      <td>3</td>\n      <td>5</td>\n      <td>Q</td>\n      <td>2</td>\n      <td>-1</td>\n      <td>0</td>\n      <td>750</td>\n      <td>128</td>\n      <td>Ofimatica</td>\n    </tr>\n    <tr>\n      <th>...</th>\n      <td>...</td>\n      <td>...</td>\n      <td>...</td>\n      <td>...</td>\n      <td>...</td>\n      <td>...</td>\n      <td>...</td>\n      <td>...</td>\n      <td>...</td>\n    </tr>\n    <tr>\n      <th>1097644</th>\n      <td>7</td>\n      <td>11</td>\n      <td>Z</td>\n      <td>124</td>\n      <td>3080</td>\n      <td>1</td>\n      <td>9216</td>\n      <td>2048</td>\n      <td>Diseño</td>\n    </tr>\n    <tr>\n      <th>1097645</th>\n      <td>7</td>\n      <td>11</td>\n      <td>Z</td>\n      <td>124</td>\n      <td>3080</td>\n      <td>1</td>\n      <td>9216</td>\n      <td>4096</td>\n      <td>Diseño</td>\n    </tr>\n    <tr>\n      <th>1097646</th>\n      <td>7</td>\n      <td>11</td>\n      <td>Z</td>\n      <td>124</td>\n      <td>3080</td>\n      <td>1</td>\n      <td>10240</td>\n      <td>1024</td>\n      <td>Diseño</td>\n    </tr>\n    <tr>\n      <th>1097647</th>\n      <td>7</td>\n      <td>11</td>\n      <td>Z</td>\n      <td>124</td>\n      <td>3080</td>\n      <td>1</td>\n      <td>10240</td>\n      <td>2048</td>\n      <td>Diseño</td>\n    </tr>\n    <tr>\n      <th>1097648</th>\n      <td>7</td>\n      <td>11</td>\n      <td>Z</td>\n      <td>124</td>\n      <td>3080</td>\n      <td>1</td>\n      <td>10240</td>\n      <td>4096</td>\n      <td>Diseño</td>\n    </tr>\n  </tbody>\n</table>\n<p>1097649 rows × 9 columns</p>\n</div>"
     },
     "metadata": {}
    }
   ],
   "execution_count": 3
  },
  {
   "cell_type": "markdown",
   "source": "# Preporcesamiento",
   "metadata": {
    "cell_id": "9fc45f0ea6e248d4a553a0fae4547d5a",
    "tags": [],
    "is_collapsed": false,
    "deepnote_cell_type": "text-cell-h1"
   }
  },
  {
   "cell_type": "code",
   "source": "cpu_label_encoder = preprocessing.LabelEncoder()\ncpu_label_encoder.fit(df[\"CPU_SERIE\"])\ndump(cpu_label_encoder, open('/work/games_seeker/models/cpu_serie_encoder.pkl', 'wb'))\nencoder_cpu_serie = cpu_label_encoder.transform(df[\"CPU_SERIE\"])",
   "metadata": {
    "cell_id": "6edb692420e94928b53b68827c9fe176",
    "tags": [],
    "deepnote_to_be_reexecuted": false,
    "source_hash": "e8a874f9",
    "execution_start": 1648412532803,
    "execution_millis": 807,
    "deepnote_cell_type": "code",
    "deepnote_cell_height": 135
   },
   "outputs": [],
   "execution_count": 4
  },
  {
   "cell_type": "code",
   "source": "target_label_encoder = preprocessing.LabelEncoder()\ntarget_label_encoder.fit(df[\"TARGET\"])\ndump(target_label_encoder, open('/work/games_seeker/models/target_encoder.pkl', 'wb'))\nencoder_target = target_label_encoder.transform(df[\"TARGET\"])",
   "metadata": {
    "cell_id": "2f507baba23445abac673b012218b179",
    "tags": [],
    "deepnote_to_be_reexecuted": false,
    "source_hash": "85adf71c",
    "execution_start": 1648412533711,
    "execution_millis": 832,
    "deepnote_cell_type": "code",
    "deepnote_cell_height": 135
   },
   "outputs": [],
   "execution_count": 5
  },
  {
   "cell_type": "code",
   "source": "df[\"CPU_SERIE\"] = encoder_cpu_serie\ndf[\"TARGET\"] = encoder_target",
   "metadata": {
    "cell_id": "7cd21356a74a4fd8a7387fd6ad488cc6",
    "tags": [],
    "deepnote_to_be_reexecuted": false,
    "source_hash": "b2ad309a",
    "execution_start": 1648412534583,
    "execution_millis": 51,
    "deepnote_cell_type": "code",
    "deepnote_cell_height": 99,
    "deepnote_output_heights": [
     21.1875
    ]
   },
   "outputs": [],
   "execution_count": 6
  },
  {
   "cell_type": "code",
   "source": "target_label_encoder.transform([\"Gamer\", \"Ofimatica\", \"Diseño\"])",
   "metadata": {
    "cell_id": "f158fb0c44e2456a9fdd77866b554082",
    "tags": [],
    "deepnote_to_be_reexecuted": false,
    "source_hash": "cf9ece89",
    "execution_start": 1648412534635,
    "execution_millis": 11,
    "deepnote_cell_type": "code",
    "deepnote_cell_height": 118.1875,
    "deepnote_output_heights": [
     21.1875
    ]
   },
   "outputs": [
    {
     "output_type": "execute_result",
     "execution_count": 7,
     "data": {
      "text/plain": "array([1, 2, 0])"
     },
     "metadata": {}
    }
   ],
   "execution_count": 7
  },
  {
   "cell_type": "code",
   "source": "df",
   "metadata": {
    "cell_id": "29fc040884cd4b2b802789b523a0ec12",
    "tags": [],
    "deepnote_to_be_reexecuted": false,
    "source_hash": "f804c160",
    "execution_start": 1648412534678,
    "execution_millis": 169,
    "deepnote_table_state": {
     "pageSize": 10,
     "pageIndex": 1,
     "filters": [],
     "sortBy": []
    },
    "deepnote_table_loading": false,
    "deepnote_cell_type": "code",
    "deepnote_cell_height": 598
   },
   "outputs": [
    {
     "output_type": "execute_result",
     "execution_count": 8,
     "data": {
      "application/vnd.deepnote.dataframe.v3+json": {
       "column_count": 9,
       "row_count": 1097649,
       "columns": [
        {
         "name": "CPU",
         "dtype": "int64"
        },
        {
         "name": "CPU_GEN",
         "dtype": "int64"
        },
        {
         "name": "CPU_SERIE",
         "dtype": "int64"
        },
        {
         "name": "RAM",
         "dtype": "int64"
        },
        {
         "name": "GPU",
         "dtype": "int64"
        },
        {
         "name": "GPU_TI",
         "dtype": "int64"
        },
        {
         "name": "HDD",
         "dtype": "int64"
        },
        {
         "name": "SSD",
         "dtype": "int64"
        },
        {
         "name": "TARGET",
         "dtype": "int64"
        },
        {
         "name": "_deepnote_index_column",
         "dtype": "int64"
        }
       ],
       "rows": [
        {
         "CPU": 3,
         "CPU_GEN": 5,
         "CPU_SERIE": 2,
         "RAM": 3,
         "GPU": -1,
         "GPU_TI": 0,
         "HDD": 500,
         "SSD": 128,
         "TARGET": 2,
         "_deepnote_index_column": 10
        },
        {
         "CPU": 3,
         "CPU_GEN": 5,
         "CPU_SERIE": 2,
         "RAM": 3,
         "GPU": -1,
         "GPU_TI": 0,
         "HDD": 500,
         "SSD": 256,
         "TARGET": 2,
         "_deepnote_index_column": 11
        },
        {
         "CPU": 3,
         "CPU_GEN": 5,
         "CPU_SERIE": 2,
         "RAM": 3,
         "GPU": -1,
         "GPU_TI": 0,
         "HDD": 750,
         "SSD": 0,
         "TARGET": 2,
         "_deepnote_index_column": 12
        },
        {
         "CPU": 3,
         "CPU_GEN": 5,
         "CPU_SERIE": 2,
         "RAM": 3,
         "GPU": -1,
         "GPU_TI": 0,
         "HDD": 750,
         "SSD": 128,
         "TARGET": 2,
         "_deepnote_index_column": 13
        },
        {
         "CPU": 3,
         "CPU_GEN": 5,
         "CPU_SERIE": 2,
         "RAM": 3,
         "GPU": -1,
         "GPU_TI": 0,
         "HDD": 750,
         "SSD": 256,
         "TARGET": 2,
         "_deepnote_index_column": 14
        },
        {
         "CPU": 3,
         "CPU_GEN": 5,
         "CPU_SERIE": 2,
         "RAM": 3,
         "GPU": -1,
         "GPU_TI": 0,
         "HDD": 1024,
         "SSD": 0,
         "TARGET": 2,
         "_deepnote_index_column": 15
        },
        {
         "CPU": 3,
         "CPU_GEN": 5,
         "CPU_SERIE": 2,
         "RAM": 3,
         "GPU": -1,
         "GPU_TI": 0,
         "HDD": 1024,
         "SSD": 128,
         "TARGET": 2,
         "_deepnote_index_column": 16
        },
        {
         "CPU": 3,
         "CPU_GEN": 5,
         "CPU_SERIE": 2,
         "RAM": 3,
         "GPU": -1,
         "GPU_TI": 0,
         "HDD": 1024,
         "SSD": 256,
         "TARGET": 2,
         "_deepnote_index_column": 17
        },
        {
         "CPU": 3,
         "CPU_GEN": 5,
         "CPU_SERIE": 2,
         "RAM": 4,
         "GPU": -1,
         "GPU_TI": 0,
         "HDD": 500,
         "SSD": 0,
         "TARGET": 2,
         "_deepnote_index_column": 18
        },
        {
         "CPU": 3,
         "CPU_GEN": 5,
         "CPU_SERIE": 2,
         "RAM": 4,
         "GPU": -1,
         "GPU_TI": 0,
         "HDD": 500,
         "SSD": 128,
         "TARGET": 2,
         "_deepnote_index_column": 19
        }
       ]
      },
      "text/plain": "         CPU  CPU_GEN  CPU_SERIE  RAM   GPU  GPU_TI    HDD   SSD  TARGET\n0          3        5          2    2    -1       0    500     0       2\n1          3        5          2    2    -1       0    500   128       2\n2          3        5          2    2    -1       0    500   256       2\n3          3        5          2    2    -1       0    750     0       2\n4          3        5          2    2    -1       0    750   128       2\n...      ...      ...        ...  ...   ...     ...    ...   ...     ...\n1097644    7       11          4  124  3080       1   9216  2048       0\n1097645    7       11          4  124  3080       1   9216  4096       0\n1097646    7       11          4  124  3080       1  10240  1024       0\n1097647    7       11          4  124  3080       1  10240  2048       0\n1097648    7       11          4  124  3080       1  10240  4096       0\n\n[1097649 rows x 9 columns]",
      "text/html": "<div>\n<style scoped>\n    .dataframe tbody tr th:only-of-type {\n        vertical-align: middle;\n    }\n\n    .dataframe tbody tr th {\n        vertical-align: top;\n    }\n\n    .dataframe thead th {\n        text-align: right;\n    }\n</style>\n<table border=\"1\" class=\"dataframe\">\n  <thead>\n    <tr style=\"text-align: right;\">\n      <th></th>\n      <th>CPU</th>\n      <th>CPU_GEN</th>\n      <th>CPU_SERIE</th>\n      <th>RAM</th>\n      <th>GPU</th>\n      <th>GPU_TI</th>\n      <th>HDD</th>\n      <th>SSD</th>\n      <th>TARGET</th>\n    </tr>\n  </thead>\n  <tbody>\n    <tr>\n      <th>0</th>\n      <td>3</td>\n      <td>5</td>\n      <td>2</td>\n      <td>2</td>\n      <td>-1</td>\n      <td>0</td>\n      <td>500</td>\n      <td>0</td>\n      <td>2</td>\n    </tr>\n    <tr>\n      <th>1</th>\n      <td>3</td>\n      <td>5</td>\n      <td>2</td>\n      <td>2</td>\n      <td>-1</td>\n      <td>0</td>\n      <td>500</td>\n      <td>128</td>\n      <td>2</td>\n    </tr>\n    <tr>\n      <th>2</th>\n      <td>3</td>\n      <td>5</td>\n      <td>2</td>\n      <td>2</td>\n      <td>-1</td>\n      <td>0</td>\n      <td>500</td>\n      <td>256</td>\n      <td>2</td>\n    </tr>\n    <tr>\n      <th>3</th>\n      <td>3</td>\n      <td>5</td>\n      <td>2</td>\n      <td>2</td>\n      <td>-1</td>\n      <td>0</td>\n      <td>750</td>\n      <td>0</td>\n      <td>2</td>\n    </tr>\n    <tr>\n      <th>4</th>\n      <td>3</td>\n      <td>5</td>\n      <td>2</td>\n      <td>2</td>\n      <td>-1</td>\n      <td>0</td>\n      <td>750</td>\n      <td>128</td>\n      <td>2</td>\n    </tr>\n    <tr>\n      <th>...</th>\n      <td>...</td>\n      <td>...</td>\n      <td>...</td>\n      <td>...</td>\n      <td>...</td>\n      <td>...</td>\n      <td>...</td>\n      <td>...</td>\n      <td>...</td>\n    </tr>\n    <tr>\n      <th>1097644</th>\n      <td>7</td>\n      <td>11</td>\n      <td>4</td>\n      <td>124</td>\n      <td>3080</td>\n      <td>1</td>\n      <td>9216</td>\n      <td>2048</td>\n      <td>0</td>\n    </tr>\n    <tr>\n      <th>1097645</th>\n      <td>7</td>\n      <td>11</td>\n      <td>4</td>\n      <td>124</td>\n      <td>3080</td>\n      <td>1</td>\n      <td>9216</td>\n      <td>4096</td>\n      <td>0</td>\n    </tr>\n    <tr>\n      <th>1097646</th>\n      <td>7</td>\n      <td>11</td>\n      <td>4</td>\n      <td>124</td>\n      <td>3080</td>\n      <td>1</td>\n      <td>10240</td>\n      <td>1024</td>\n      <td>0</td>\n    </tr>\n    <tr>\n      <th>1097647</th>\n      <td>7</td>\n      <td>11</td>\n      <td>4</td>\n      <td>124</td>\n      <td>3080</td>\n      <td>1</td>\n      <td>10240</td>\n      <td>2048</td>\n      <td>0</td>\n    </tr>\n    <tr>\n      <th>1097648</th>\n      <td>7</td>\n      <td>11</td>\n      <td>4</td>\n      <td>124</td>\n      <td>3080</td>\n      <td>1</td>\n      <td>10240</td>\n      <td>4096</td>\n      <td>0</td>\n    </tr>\n  </tbody>\n</table>\n<p>1097649 rows × 9 columns</p>\n</div>"
     },
     "metadata": {}
    }
   ],
   "execution_count": 8
  },
  {
   "cell_type": "code",
   "source": "df.to_csv(\"../../data/processed/types_of_pc.csv\", sep = \"|\")",
   "metadata": {
    "cell_id": "eeefba8d31c34af6aae6987c573552de",
    "tags": [],
    "deepnote_to_be_reexecuted": false,
    "source_hash": "7426e0d3",
    "execution_start": 1648412534892,
    "execution_millis": 12055,
    "deepnote_cell_type": "code",
    "deepnote_cell_height": 81
   },
   "outputs": [],
   "execution_count": 9
  },
  {
   "cell_type": "code",
   "source": "X_COLUMNS = ['CPU', 'CPU_GEN', 'CPU_SERIE', 'RAM', 'GPU', 'GPU_TI', 'HDD', 'SSD']\nY_COLUMN = [\"TARGET\"]",
   "metadata": {
    "cell_id": "d92de6ec5ffe4bfdbcc067aaf4e9090c",
    "tags": [],
    "deepnote_to_be_reexecuted": false,
    "source_hash": "3441705e",
    "execution_start": 1648412546963,
    "execution_millis": 31,
    "deepnote_cell_type": "code",
    "deepnote_cell_height": 99
   },
   "outputs": [],
   "execution_count": 10
  },
  {
   "cell_type": "code",
   "source": "x = df[X_COLUMNS].values\nx",
   "metadata": {
    "cell_id": "478a2a19a3744a17952bbd6029cb3985",
    "tags": [],
    "deepnote_to_be_reexecuted": false,
    "source_hash": "585bd663",
    "execution_start": 1648412547018,
    "execution_millis": 146,
    "deepnote_cell_type": "code",
    "deepnote_cell_height": 251.3125,
    "deepnote_output_heights": [
     136.3125
    ]
   },
   "outputs": [
    {
     "output_type": "execute_result",
     "execution_count": 11,
     "data": {
      "text/plain": "array([[    3,     5,     2, ...,     0,   500,     0],\n       [    3,     5,     2, ...,     0,   500,   128],\n       [    3,     5,     2, ...,     0,   500,   256],\n       ...,\n       [    7,    11,     4, ...,     1, 10240,  1024],\n       [    7,    11,     4, ...,     1, 10240,  2048],\n       [    7,    11,     4, ...,     1, 10240,  4096]])"
     },
     "metadata": {}
    }
   ],
   "execution_count": 11
  },
  {
   "cell_type": "code",
   "source": "y = df[Y_COLUMN]\ny",
   "metadata": {
    "cell_id": "c7d189639f314c76aa8e4e7a1ee35a73",
    "tags": [],
    "deepnote_to_be_reexecuted": false,
    "source_hash": "4dea2789",
    "execution_start": 1648412547178,
    "execution_millis": 45,
    "deepnote_table_state": {
     "pageSize": 10,
     "pageIndex": 0,
     "filters": [],
     "sortBy": []
    },
    "deepnote_table_loading": false,
    "deepnote_cell_type": "code",
    "deepnote_cell_height": 616,
    "deepnote_output_heights": [
     136.3125
    ]
   },
   "outputs": [
    {
     "output_type": "execute_result",
     "execution_count": 12,
     "data": {
      "application/vnd.deepnote.dataframe.v3+json": {
       "column_count": 1,
       "row_count": 1097649,
       "columns": [
        {
         "name": "TARGET",
         "dtype": "int64"
        },
        {
         "name": "_deepnote_index_column",
         "dtype": "int64"
        }
       ],
       "rows": [
        {
         "TARGET": 2,
         "_deepnote_index_column": 0
        },
        {
         "TARGET": 2,
         "_deepnote_index_column": 1
        },
        {
         "TARGET": 2,
         "_deepnote_index_column": 2
        },
        {
         "TARGET": 2,
         "_deepnote_index_column": 3
        },
        {
         "TARGET": 2,
         "_deepnote_index_column": 4
        },
        {
         "TARGET": 2,
         "_deepnote_index_column": 5
        },
        {
         "TARGET": 2,
         "_deepnote_index_column": 6
        },
        {
         "TARGET": 2,
         "_deepnote_index_column": 7
        },
        {
         "TARGET": 2,
         "_deepnote_index_column": 8
        },
        {
         "TARGET": 2,
         "_deepnote_index_column": 9
        }
       ]
      },
      "text/plain": "         TARGET\n0             2\n1             2\n2             2\n3             2\n4             2\n...         ...\n1097644       0\n1097645       0\n1097646       0\n1097647       0\n1097648       0\n\n[1097649 rows x 1 columns]",
      "text/html": "<div>\n<style scoped>\n    .dataframe tbody tr th:only-of-type {\n        vertical-align: middle;\n    }\n\n    .dataframe tbody tr th {\n        vertical-align: top;\n    }\n\n    .dataframe thead th {\n        text-align: right;\n    }\n</style>\n<table border=\"1\" class=\"dataframe\">\n  <thead>\n    <tr style=\"text-align: right;\">\n      <th></th>\n      <th>TARGET</th>\n    </tr>\n  </thead>\n  <tbody>\n    <tr>\n      <th>0</th>\n      <td>2</td>\n    </tr>\n    <tr>\n      <th>1</th>\n      <td>2</td>\n    </tr>\n    <tr>\n      <th>2</th>\n      <td>2</td>\n    </tr>\n    <tr>\n      <th>3</th>\n      <td>2</td>\n    </tr>\n    <tr>\n      <th>4</th>\n      <td>2</td>\n    </tr>\n    <tr>\n      <th>...</th>\n      <td>...</td>\n    </tr>\n    <tr>\n      <th>1097644</th>\n      <td>0</td>\n    </tr>\n    <tr>\n      <th>1097645</th>\n      <td>0</td>\n    </tr>\n    <tr>\n      <th>1097646</th>\n      <td>0</td>\n    </tr>\n    <tr>\n      <th>1097647</th>\n      <td>0</td>\n    </tr>\n    <tr>\n      <th>1097648</th>\n      <td>0</td>\n    </tr>\n  </tbody>\n</table>\n<p>1097649 rows × 1 columns</p>\n</div>"
     },
     "metadata": {}
    }
   ],
   "execution_count": 12
  },
  {
   "cell_type": "code",
   "source": "y = [i[0] for i in y.values]",
   "metadata": {
    "cell_id": "f09408ea30984879a9078a6646da5516",
    "tags": [],
    "deepnote_to_be_reexecuted": false,
    "source_hash": "48287ed4",
    "execution_start": 1648412547230,
    "execution_millis": 947,
    "deepnote_cell_type": "code",
    "deepnote_cell_height": 81,
    "deepnote_output_heights": [
     136.3125
    ]
   },
   "outputs": [],
   "execution_count": 13
  },
  {
   "cell_type": "markdown",
   "source": "# Modelo inicial",
   "metadata": {
    "cell_id": "2ea9f79de93646f3a0faf2ca57553d11",
    "tags": [],
    "is_collapsed": false,
    "deepnote_cell_type": "text-cell-h1"
   }
  },
  {
   "cell_type": "code",
   "source": "kmeans_model = KMeans(n_clusters=3)",
   "metadata": {
    "cell_id": "243983657e13464395ed9afb449cbd36",
    "tags": [],
    "deepnote_to_be_reexecuted": false,
    "source_hash": "939f0717",
    "execution_start": 1648412548184,
    "execution_millis": 25,
    "deepnote_cell_type": "code",
    "deepnote_cell_height": 81
   },
   "outputs": [],
   "execution_count": 14
  },
  {
   "cell_type": "code",
   "source": "kmeans_model.fit(x)",
   "metadata": {
    "cell_id": "04403884766e45f6975b8edd05c9792c",
    "tags": [],
    "deepnote_to_be_reexecuted": false,
    "source_hash": "deb4fa5f",
    "execution_start": 1648412548214,
    "execution_millis": 14660,
    "deepnote_cell_type": "code",
    "deepnote_cell_height": 118.1875,
    "deepnote_output_heights": [
     21.1875
    ]
   },
   "outputs": [
    {
     "output_type": "execute_result",
     "execution_count": 15,
     "data": {
      "text/plain": "KMeans(n_clusters=3)"
     },
     "metadata": {}
    }
   ],
   "execution_count": 15
  },
  {
   "cell_type": "code",
   "source": "y_kmeans = kmeans_model.predict(x)",
   "metadata": {
    "cell_id": "a11fad96d9444cd8b0d306170abd2f81",
    "tags": [],
    "deepnote_to_be_reexecuted": false,
    "source_hash": "1601d12f",
    "execution_start": 1648412562894,
    "execution_millis": 540,
    "deepnote_cell_type": "code",
    "deepnote_cell_height": 81
   },
   "outputs": [],
   "execution_count": 16
  },
  {
   "cell_type": "code",
   "source": "accuracy = metrics.adjusted_rand_score(y, y_kmeans)",
   "metadata": {
    "cell_id": "43a12fce318048d687d9be509cc47224",
    "tags": [],
    "deepnote_to_be_reexecuted": false,
    "source_hash": "67033922",
    "execution_start": 1648412563453,
    "execution_millis": 936,
    "deepnote_cell_type": "code",
    "deepnote_cell_height": 81,
    "deepnote_output_heights": [
     21.1875
    ]
   },
   "outputs": [],
   "execution_count": 17
  },
  {
   "cell_type": "markdown",
   "source": "# Otros modelos",
   "metadata": {
    "cell_id": "06b44fd29e6342ab9683eef33e08c4c3",
    "tags": [],
    "is_collapsed": false,
    "deepnote_cell_type": "text-cell-h1"
   }
  },
  {
   "cell_type": "code",
   "source": "tree_model = tree.DecisionTreeClassifier()",
   "metadata": {
    "cell_id": "f58c2f1ffb394ac682cd17a80ae1fd8d",
    "tags": [],
    "deepnote_to_be_reexecuted": false,
    "source_hash": "f3909c3c",
    "execution_start": 1648412564409,
    "execution_millis": 23,
    "deepnote_cell_type": "code",
    "deepnote_cell_height": 81,
    "deepnote_output_heights": [
     21.1875
    ]
   },
   "outputs": [],
   "execution_count": 18
  },
  {
   "cell_type": "code",
   "source": "tree_model = tree_model.fit(x, y)",
   "metadata": {
    "cell_id": "d801396ec0c74eeca9b4340fd759aa3b",
    "tags": [],
    "deepnote_to_be_reexecuted": false,
    "source_hash": "c4154386",
    "execution_start": 1648412564464,
    "execution_millis": 3926,
    "deepnote_cell_type": "code",
    "deepnote_cell_height": 81
   },
   "outputs": [],
   "execution_count": 19
  },
  {
   "cell_type": "code",
   "source": "tree_model.score(x, y)",
   "metadata": {
    "cell_id": "efa763e42e594514b8c041562adf6adf",
    "tags": [],
    "deepnote_to_be_reexecuted": false,
    "source_hash": "d0902e71",
    "execution_start": 1648412568402,
    "execution_millis": 974,
    "deepnote_cell_type": "code",
    "deepnote_cell_height": 118.1875,
    "deepnote_output_heights": [
     21.1875
    ]
   },
   "outputs": [
    {
     "output_type": "execute_result",
     "execution_count": 20,
     "data": {
      "text/plain": "0.9827813809332492"
     },
     "metadata": {}
    }
   ],
   "execution_count": 20
  },
  {
   "cell_type": "code",
   "source": "tree_model.predict([[5, 11, 1, 32, 1050, 1, 2048, 2048]])",
   "metadata": {
    "cell_id": "81c1270e765b4e638f30222c33ed5a69",
    "tags": [],
    "deepnote_to_be_reexecuted": false,
    "source_hash": "af9f014e",
    "execution_start": 1648412569433,
    "execution_millis": 254765,
    "deepnote_cell_type": "code",
    "deepnote_cell_height": 118.1875,
    "deepnote_output_heights": [
     21.1875
    ]
   },
   "outputs": [
    {
     "output_type": "execute_result",
     "execution_count": 21,
     "data": {
      "text/plain": "array([0])"
     },
     "metadata": {}
    }
   ],
   "execution_count": 21
  },
  {
   "cell_type": "code",
   "source": "dump(tree_model, open('/work/games_seeker/models/model.pkl', 'wb'))",
   "metadata": {
    "cell_id": "593b2725f7c14e68a02e5179aef311d4",
    "tags": [],
    "deepnote_to_be_reexecuted": false,
    "source_hash": "d4085542",
    "execution_start": 1648412569500,
    "execution_millis": 126161,
    "deepnote_cell_type": "code",
    "deepnote_cell_height": 81
   },
   "outputs": [],
   "execution_count": 22
  },
  {
   "cell_type": "code",
   "source": "",
   "metadata": {
    "cell_id": "09f6d041f1634b0086f825df86a32097",
    "tags": [],
    "deepnote_to_be_reexecuted": false,
    "source_hash": "b623e53d",
    "execution_start": 1648412569548,
    "deepnote_cell_type": "code",
    "deepnote_cell_height": 81
   },
   "outputs": [],
   "execution_count": 22
  },
  {
   "cell_type": "markdown",
   "source": "<a style='text-decoration:none;line-height:16px;display:flex;color:#5B5B62;padding:10px;justify-content:end;' href='https://deepnote.com?utm_source=created-in-deepnote-cell&projectId=07e29549-6cbf-4e88-b69c-0fc48f2d6023' target=\"_blank\">\n<img alt='Created in deepnote.com' style='display:inline;max-height:16px;margin:0px;margin-right:7.5px;' src='data:image/svg+xml;base64,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' > </img>\nCreated in <span style='font-weight:600;margin-left:4px;'>Deepnote</span></a>",
   "metadata": {
    "tags": [],
    "created_in_deepnote_cell": true,
    "deepnote_cell_type": "markdown"
   }
  }
 ],
 "nbformat": 4,
 "nbformat_minor": 2,
 "metadata": {
  "orig_nbformat": 2,
  "deepnote": {
   "is_reactive": false
  },
  "deepnote_notebook_id": "435b981d-e669-47a3-84b6-bbcffe7e0ed1",
  "deepnote_execution_queue": []
 }
}